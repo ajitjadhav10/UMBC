{
  "nbformat": 4,
  "nbformat_minor": 0,
  "metadata": {
    "colab": {
      "provenance": [],
      "authorship_tag": "ABX9TyM0TEo67zCapBV5Ox1m+uLd",
      "include_colab_link": true
    },
    "kernelspec": {
      "name": "python3",
      "display_name": "Python 3"
    },
    "language_info": {
      "name": "python"
    }
  },
  "cells": [
    {
      "cell_type": "markdown",
      "metadata": {
        "id": "view-in-github",
        "colab_type": "text"
      },
      "source": [
        "<a href=\"https://colab.research.google.com/github/ajitjadhav10/UMBC/blob/main/DATA%20690%20NLP/DATA_690_NLP_HW_6.ipynb\" target=\"_parent\"><img src=\"https://colab.research.google.com/assets/colab-badge.svg\" alt=\"Open In Colab\"/></a>"
      ]
    },
    {
      "cell_type": "markdown",
      "source": [
        "Part 1:\n",
        "\n",
        "Exercise 1. Text Generation\n",
        "- Install markovify\n",
        "- Import pandas and markovify\n",
        "- Load the file ‘abcnews-date-text.csc’ as ‘inp’\n",
        "- Look at the three top rows\n",
        "- Create a model with markovify as ‘text_model’ to generate text\n",
        "- Print ten randomly generated sentences using the built model.\n"
      ],
      "metadata": {
        "id": "INOktknkUb0j"
      }
    },
    {
      "cell_type": "code",
      "source": [
        "pip install markovify --quiet"
      ],
      "metadata": {
        "id": "LD7u3_AcQF5c"
      },
      "execution_count": 121,
      "outputs": []
    },
    {
      "cell_type": "code",
      "execution_count": 122,
      "metadata": {
        "id": "fYKJpdvXCXcz"
      },
      "outputs": [],
      "source": [
        "import pandas as pd\n",
        "import markovify\n",
        "import pandas as pd"
      ]
    },
    {
      "cell_type": "code",
      "source": [
        "url = 'https://drive.google.com/file/d/19OPnOIMjv54i9Y-fTwyA0aag91rcCemA/view?usp=sharing'\n",
        "path = 'https://drive.google.com/uc?export=download&id='+url.split('/')[-2]\n",
        "inp = pd.read_csv(path)\n",
        "inp.head(3)"
      ],
      "metadata": {
        "colab": {
          "base_uri": "https://localhost:8080/",
          "height": 143
        },
        "id": "D9rbmuq-QAx6",
        "outputId": "feba0324-ea38-4f3d-c37d-9ddb369cd527"
      },
      "execution_count": 123,
      "outputs": [
        {
          "output_type": "execute_result",
          "data": {
            "text/plain": [
              "   publish_date                                      headline_text\n",
              "0      20030219  aba decides against community broadcasting lic...\n",
              "1      20030219     act fire witnesses must be aware of defamation\n",
              "2      20030219     a g calls for infrastructure protection summit"
            ],
            "text/html": [
              "\n",
              "  <div id=\"df-66cb0fd7-6730-4c76-b678-479bf38c9582\">\n",
              "    <div class=\"colab-df-container\">\n",
              "      <div>\n",
              "<style scoped>\n",
              "    .dataframe tbody tr th:only-of-type {\n",
              "        vertical-align: middle;\n",
              "    }\n",
              "\n",
              "    .dataframe tbody tr th {\n",
              "        vertical-align: top;\n",
              "    }\n",
              "\n",
              "    .dataframe thead th {\n",
              "        text-align: right;\n",
              "    }\n",
              "</style>\n",
              "<table border=\"1\" class=\"dataframe\">\n",
              "  <thead>\n",
              "    <tr style=\"text-align: right;\">\n",
              "      <th></th>\n",
              "      <th>publish_date</th>\n",
              "      <th>headline_text</th>\n",
              "    </tr>\n",
              "  </thead>\n",
              "  <tbody>\n",
              "    <tr>\n",
              "      <th>0</th>\n",
              "      <td>20030219</td>\n",
              "      <td>aba decides against community broadcasting lic...</td>\n",
              "    </tr>\n",
              "    <tr>\n",
              "      <th>1</th>\n",
              "      <td>20030219</td>\n",
              "      <td>act fire witnesses must be aware of defamation</td>\n",
              "    </tr>\n",
              "    <tr>\n",
              "      <th>2</th>\n",
              "      <td>20030219</td>\n",
              "      <td>a g calls for infrastructure protection summit</td>\n",
              "    </tr>\n",
              "  </tbody>\n",
              "</table>\n",
              "</div>\n",
              "      <button class=\"colab-df-convert\" onclick=\"convertToInteractive('df-66cb0fd7-6730-4c76-b678-479bf38c9582')\"\n",
              "              title=\"Convert this dataframe to an interactive table.\"\n",
              "              style=\"display:none;\">\n",
              "        \n",
              "  <svg xmlns=\"http://www.w3.org/2000/svg\" height=\"24px\"viewBox=\"0 0 24 24\"\n",
              "       width=\"24px\">\n",
              "    <path d=\"M0 0h24v24H0V0z\" fill=\"none\"/>\n",
              "    <path d=\"M18.56 5.44l.94 2.06.94-2.06 2.06-.94-2.06-.94-.94-2.06-.94 2.06-2.06.94zm-11 1L8.5 8.5l.94-2.06 2.06-.94-2.06-.94L8.5 2.5l-.94 2.06-2.06.94zm10 10l.94 2.06.94-2.06 2.06-.94-2.06-.94-.94-2.06-.94 2.06-2.06.94z\"/><path d=\"M17.41 7.96l-1.37-1.37c-.4-.4-.92-.59-1.43-.59-.52 0-1.04.2-1.43.59L10.3 9.45l-7.72 7.72c-.78.78-.78 2.05 0 2.83L4 21.41c.39.39.9.59 1.41.59.51 0 1.02-.2 1.41-.59l7.78-7.78 2.81-2.81c.8-.78.8-2.07 0-2.86zM5.41 20L4 18.59l7.72-7.72 1.47 1.35L5.41 20z\"/>\n",
              "  </svg>\n",
              "      </button>\n",
              "      \n",
              "  <style>\n",
              "    .colab-df-container {\n",
              "      display:flex;\n",
              "      flex-wrap:wrap;\n",
              "      gap: 12px;\n",
              "    }\n",
              "\n",
              "    .colab-df-convert {\n",
              "      background-color: #E8F0FE;\n",
              "      border: none;\n",
              "      border-radius: 50%;\n",
              "      cursor: pointer;\n",
              "      display: none;\n",
              "      fill: #1967D2;\n",
              "      height: 32px;\n",
              "      padding: 0 0 0 0;\n",
              "      width: 32px;\n",
              "    }\n",
              "\n",
              "    .colab-df-convert:hover {\n",
              "      background-color: #E2EBFA;\n",
              "      box-shadow: 0px 1px 2px rgba(60, 64, 67, 0.3), 0px 1px 3px 1px rgba(60, 64, 67, 0.15);\n",
              "      fill: #174EA6;\n",
              "    }\n",
              "\n",
              "    [theme=dark] .colab-df-convert {\n",
              "      background-color: #3B4455;\n",
              "      fill: #D2E3FC;\n",
              "    }\n",
              "\n",
              "    [theme=dark] .colab-df-convert:hover {\n",
              "      background-color: #434B5C;\n",
              "      box-shadow: 0px 1px 3px 1px rgba(0, 0, 0, 0.15);\n",
              "      filter: drop-shadow(0px 1px 2px rgba(0, 0, 0, 0.3));\n",
              "      fill: #FFFFFF;\n",
              "    }\n",
              "  </style>\n",
              "\n",
              "      <script>\n",
              "        const buttonEl =\n",
              "          document.querySelector('#df-66cb0fd7-6730-4c76-b678-479bf38c9582 button.colab-df-convert');\n",
              "        buttonEl.style.display =\n",
              "          google.colab.kernel.accessAllowed ? 'block' : 'none';\n",
              "\n",
              "        async function convertToInteractive(key) {\n",
              "          const element = document.querySelector('#df-66cb0fd7-6730-4c76-b678-479bf38c9582');\n",
              "          const dataTable =\n",
              "            await google.colab.kernel.invokeFunction('convertToInteractive',\n",
              "                                                     [key], {});\n",
              "          if (!dataTable) return;\n",
              "\n",
              "          const docLinkHtml = 'Like what you see? Visit the ' +\n",
              "            '<a target=\"_blank\" href=https://colab.research.google.com/notebooks/data_table.ipynb>data table notebook</a>'\n",
              "            + ' to learn more about interactive tables.';\n",
              "          element.innerHTML = '';\n",
              "          dataTable['output_type'] = 'display_data';\n",
              "          await google.colab.output.renderOutput(dataTable, element);\n",
              "          const docLink = document.createElement('div');\n",
              "          docLink.innerHTML = docLinkHtml;\n",
              "          element.appendChild(docLink);\n",
              "        }\n",
              "      </script>\n",
              "    </div>\n",
              "  </div>\n",
              "  "
            ]
          },
          "metadata": {},
          "execution_count": 123
        }
      ]
    },
    {
      "cell_type": "code",
      "source": [
        "text_model = markovify.Text(inp['headline_text'], state_size = 3)"
      ],
      "metadata": {
        "id": "z_8v1NTSRx0B"
      },
      "execution_count": 124,
      "outputs": []
    },
    {
      "cell_type": "code",
      "source": [
        "for i in range(10):\n",
        "  print(i+1,\":\",text_model.make_sentence())"
      ],
      "metadata": {
        "colab": {
          "base_uri": "https://localhost:8080/"
        },
        "id": "XBU8G53-TdeQ",
        "outputId": "f8452eef-3812-4c80-d4f6-ea4bc1c03bb4"
      },
      "execution_count": 127,
      "outputs": [
        {
          "output_type": "stream",
          "name": "stdout",
          "text": [
            "1 : council looks to raise 200m\n",
            "2 : russia charges two people over us serial killings\n",
            "3 : mat ryan urged to help find stolen gps gear\n",
            "4 : uni reliance on international students in our best interests\n",
            "5 : hot property clarke keeps eye on plan for future of regional community\n",
            "6 : nsw police minister under fire over water scheme funds\n",
            "7 : fed govt urged to develop incentives for women who quit smoking during pregnan\n",
            "8 : why public broadcasting matters more than most chris uhlmann\n",
            "9 : ruthless federer races to victory in tour de france\n",
            "10 : knights players issued with asada show cause notices in debt crisis\n"
          ]
        }
      ]
    },
    {
      "cell_type": "markdown",
      "source": [
        "Exercise 2. Text Summarization\n",
        "- Use gensim.summarization to summarize the ‘jumper.txt’ file\n",
        "- What are the keywords?\n",
        "- What are the weighted keywords using the Montemurro and Zanette's \n",
        "entropy-based keyword extraction algorithm? Is there a difference with the keywords in the second bullet point question?"
      ],
      "metadata": {
        "id": "sC6dMfUU5O9N"
      }
    },
    {
      "cell_type": "code",
      "source": [
        "import logging\n",
        "logging.basicConfig(format='%(asctime)s : %(levelname)s : %(message)s', level=logging.INFO)\n",
        "from gensim.summarization import summarize"
      ],
      "metadata": {
        "id": "UmSN7a9h6HWC"
      },
      "execution_count": 128,
      "outputs": []
    },
    {
      "cell_type": "code",
      "source": [
        "import requests\n",
        "\n",
        "response = requests.get('https://raw.githubusercontent.com/ajitjadhav10/UMBC/main/DATA%20690%20NLP/Data%20files/jumper.txt')\n",
        "data = response.text\n",
        "print(data)"
      ],
      "metadata": {
        "colab": {
          "base_uri": "https://localhost:8080/"
        },
        "id": "NpQj9BW78Lpa",
        "outputId": "073e5e91-8bf8-4c45-a26f-a179ae05d893"
      },
      "execution_count": 129,
      "outputs": [
        {
          "output_type": "stream",
          "name": "stdout",
          "text": [
            "Jumping off a platform the height of a three-story building is how Olympian Laura Wilkinson broke her fear.\n",
            "\n",
            "Staring at an intimidating 33-foot drop, adrenaline pumping, Wilkinson flipped gracefully into the water below. The challenges she has overcome throughout her diving career have made her strong -- strong enough to dominate the sport for a decade.\n",
            "She is the first woman to win diving's three major world titles, including a gold medal at her first Olympic Games in 2000. Wilkinson told CNN she is hungry for more. After nine years in retirement, and recovery from a dangerous injury, the now 42-year-old is attempting a comeback in the face of a worldwide pandemic.\n",
            "When Wilkinson resumed training to compete at the Games in Tokyo, which were originally scheduled for July 2020, she felt a nagging and unfamiliar weakness in one of her arms.\n",
            "An MRI revealed major damage to the discs in her neck, caused in large part by a career of repeatedly hitting the water at high speeds. Her doctor warned that a car accident or bad fall could leave her a quadriplegic.\n",
            "Now married with four children, Wilkinson was told she would need spinal surgery not just to dive, but to safely do everyday activities with her children. Wilkinson had the surgery and rushed to get back into the water ahead of the 2020 Olympic trials.\n"
          ]
        }
      ]
    },
    {
      "cell_type": "code",
      "source": [
        "print ('Summary:')\n",
        "print (summarize(data, word_count=300))"
      ],
      "metadata": {
        "colab": {
          "base_uri": "https://localhost:8080/"
        },
        "id": "KX6iK9359Psw",
        "outputId": "c979a7cd-1cca-454c-ada6-453eaadcf078"
      },
      "execution_count": 130,
      "outputs": [
        {
          "output_type": "stream",
          "name": "stdout",
          "text": [
            "Summary:\n",
            "Jumping off a platform the height of a three-story building is how Olympian Laura Wilkinson broke her fear.\n",
            "Staring at an intimidating 33-foot drop, adrenaline pumping, Wilkinson flipped gracefully into the water below.\n",
            "The challenges she has overcome throughout her diving career have made her strong -- strong enough to dominate the sport for a decade.\n",
            "She is the first woman to win diving's three major world titles, including a gold medal at her first Olympic Games in 2000.\n",
            "Wilkinson told CNN she is hungry for more.\n",
            "After nine years in retirement, and recovery from a dangerous injury, the now 42-year-old is attempting a comeback in the face of a worldwide pandemic.\n",
            "When Wilkinson resumed training to compete at the Games in Tokyo, which were originally scheduled for July 2020, she felt a nagging and unfamiliar weakness in one of her arms.\n",
            "An MRI revealed major damage to the discs in her neck, caused in large part by a career of repeatedly hitting the water at high speeds.\n",
            "Her doctor warned that a car accident or bad fall could leave her a quadriplegic.\n",
            "Now married with four children, Wilkinson was told she would need spinal surgery not just to dive, but to safely do everyday activities with her children.\n",
            "Wilkinson had the surgery and rushed to get back into the water ahead of the 2020 Olympic trials.\n"
          ]
        }
      ]
    },
    {
      "cell_type": "code",
      "source": [
        "from gensim.summarization import keywords\n",
        "print(keywords(data))"
      ],
      "metadata": {
        "colab": {
          "base_uri": "https://localhost:8080/"
        },
        "id": "qJekwPB09xMh",
        "outputId": "7cbd761b-65a4-4e31-f1a4-9702d108168e"
      },
      "execution_count": 131,
      "outputs": [
        {
          "output_type": "stream",
          "name": "stdout",
          "text": [
            "wilkinson\n",
            "spinal\n",
            "diving\n",
            "dive\n",
            "olympic\n",
            "major world\n",
            "titles\n",
            "revealed\n",
            "foot\n",
            "drop\n",
            "resumed\n",
            "flipped\n",
            "told\n"
          ]
        }
      ]
    },
    {
      "cell_type": "code",
      "source": [
        "from gensim.summarization.mz_entropy import mz_keywords\n",
        "print(mz_keywords(data,blocksize=64, scores=False, weighted=True))\n"
      ],
      "metadata": {
        "colab": {
          "base_uri": "https://localhost:8080/"
        },
        "id": "jSxq1nla94w1",
        "outputId": "d8fc0dc2-9a8a-4234-e5b7-9d07f20563d0"
      },
      "execution_count": 132,
      "outputs": [
        {
          "output_type": "stream",
          "name": "stdout",
          "text": [
            "in\n",
            "a\n",
            "is\n",
            "diving\n",
            "games\n",
            "strong\n",
            "surgery\n",
            "her\n",
            "she\n"
          ]
        },
        {
          "output_type": "stream",
          "name": "stderr",
          "text": [
            "/usr/local/lib/python3.7/dist-packages/gensim/summarization/mz_entropy.py:70: RuntimeWarning: divide by zero encountered in log2\n",
            "  log_p = numpy.log2(p)\n",
            "/usr/local/lib/python3.7/dist-packages/gensim/summarization/mz_entropy.py:71: RuntimeWarning: invalid value encountered in multiply\n",
            "  h = numpy.nan_to_num(p * log_p).sum(axis=0)\n"
          ]
        }
      ]
    },
    {
      "cell_type": "markdown",
      "source": [
        "Exercise 3. Topic Modeling\n",
        "- Determine the top 20 topics using the Non-Negative Matrix\n",
        "Factorization (NMF) using ‘from sklearn.decomposition import NMF’\n",
        "- Vectorize the words after cleaning up the text\n",
        "- Use ‘print(\"Topic {}: {}\".format(i + 1, \",\".join([str(x) for x in idx_to_word\n",
        "[topic.argsort()[-10:]]]))) to list the topics"
      ],
      "metadata": {
        "id": "EQg1RZ5dkafz"
      }
    },
    {
      "cell_type": "code",
      "source": [
        "import numpy as np\n",
        "from sklearn.feature_extraction.text import TfidfVectorizer\n",
        "from sklearn.decomposition import NMF"
      ],
      "metadata": {
        "id": "-nwwtJTA_pVH"
      },
      "execution_count": 134,
      "outputs": []
    },
    {
      "cell_type": "code",
      "source": [
        "response_1 = requests.get('https://raw.githubusercontent.com/ajitjadhav10/UMBC/main/DATA%20690%20NLP/Data%20files/jumper.txt')\n",
        "data_1 = response_1.text\n",
        "print(data_1)"
      ],
      "metadata": {
        "id": "CLpvme2fH8Cn",
        "outputId": "1c9bdd53-6f07-4179-b5ca-f5e5f11e6667",
        "colab": {
          "base_uri": "https://localhost:8080/"
        }
      },
      "execution_count": 135,
      "outputs": [
        {
          "output_type": "stream",
          "name": "stdout",
          "text": [
            "Jumping off a platform the height of a three-story building is how Olympian Laura Wilkinson broke her fear.\n",
            "\n",
            "Staring at an intimidating 33-foot drop, adrenaline pumping, Wilkinson flipped gracefully into the water below. The challenges she has overcome throughout her diving career have made her strong -- strong enough to dominate the sport for a decade.\n",
            "She is the first woman to win diving's three major world titles, including a gold medal at her first Olympic Games in 2000. Wilkinson told CNN she is hungry for more. After nine years in retirement, and recovery from a dangerous injury, the now 42-year-old is attempting a comeback in the face of a worldwide pandemic.\n",
            "When Wilkinson resumed training to compete at the Games in Tokyo, which were originally scheduled for July 2020, she felt a nagging and unfamiliar weakness in one of her arms.\n",
            "An MRI revealed major damage to the discs in her neck, caused in large part by a career of repeatedly hitting the water at high speeds. Her doctor warned that a car accident or bad fall could leave her a quadriplegic.\n",
            "Now married with four children, Wilkinson was told she would need spinal surgery not just to dive, but to safely do everyday activities with her children. Wilkinson had the surgery and rushed to get back into the water ahead of the 2020 Olympic trials.\n"
          ]
        }
      ]
    },
    {
      "cell_type": "code",
      "source": [
        "data_1=[data_1]\n",
        "data_1"
      ],
      "metadata": {
        "id": "ANMVZCRBIJLq",
        "outputId": "b12046d4-db10-4c25-def9-e57328721a79",
        "colab": {
          "base_uri": "https://localhost:8080/"
        }
      },
      "execution_count": 136,
      "outputs": [
        {
          "output_type": "execute_result",
          "data": {
            "text/plain": [
              "[\"Jumping off a platform the height of a three-story building is how Olympian Laura Wilkinson broke her fear.\\n\\nStaring at an intimidating 33-foot drop, adrenaline pumping, Wilkinson flipped gracefully into the water below. The challenges she has overcome throughout her diving career have made her strong -- strong enough to dominate the sport for a decade.\\nShe is the first woman to win diving's three major world titles, including a gold medal at her first Olympic Games in 2000. Wilkinson told CNN she is hungry for more. After nine years in retirement, and recovery from a dangerous injury, the now 42-year-old is attempting a comeback in the face of a worldwide pandemic.\\nWhen Wilkinson resumed training to compete at the Games in Tokyo, which were originally scheduled for July 2020, she felt a nagging and unfamiliar weakness in one of her arms.\\nAn MRI revealed major damage to the discs in her neck, caused in large part by a career of repeatedly hitting the water at high speeds. Her doctor warned that a car accident or bad fall could leave her a quadriplegic.\\nNow married with four children, Wilkinson was told she would need spinal surgery not just to dive, but to safely do everyday activities with her children. Wilkinson had the surgery and rushed to get back into the water ahead of the 2020 Olympic trials.\"]"
            ]
          },
          "metadata": {},
          "execution_count": 136
        }
      ]
    },
    {
      "cell_type": "code",
      "source": [
        "vectorizer = TfidfVectorizer()\n",
        "Vectorizer_1 = vectorizer.fit_transform(data_1)\n",
        "text_words = np.array(vectorizer.get_feature_names())\n",
        "\n",
        "print(Vectorizer_1)\n",
        "print(\"Vectorizer = \", text_words)"
      ],
      "metadata": {
        "colab": {
          "base_uri": "https://localhost:8080/"
        },
        "id": "amp48MhIvyva",
        "outputId": "4e18fe16-a538-4367-9ce2-86f56b3d4428"
      },
      "execution_count": 137,
      "outputs": [
        {
          "output_type": "stream",
          "name": "stdout",
          "text": [
            "  (0, 128)\t0.03849001794597505\n",
            "  (0, 8)\t0.03849001794597505\n",
            "  (0, 14)\t0.03849001794597505\n",
            "  (0, 53)\t0.03849001794597505\n",
            "  (0, 108)\t0.03849001794597505\n",
            "  (0, 56)\t0.03849001794597505\n",
            "  (0, 5)\t0.03849001794597505\n",
            "  (0, 41)\t0.03849001794597505\n",
            "  (0, 36)\t0.03849001794597505\n",
            "  (0, 109)\t0.03849001794597505\n",
            "  (0, 19)\t0.03849001794597505\n",
            "  (0, 34)\t0.03849001794597505\n",
            "  (0, 73)\t0.03849001794597505\n",
            "  (0, 87)\t0.03849001794597505\n",
            "  (0, 118)\t0.0769800358919501\n",
            "  (0, 113)\t0.03849001794597505\n",
            "  (0, 85)\t0.03849001794597505\n",
            "  (0, 143)\t0.03849001794597505\n",
            "  (0, 131)\t0.03849001794597505\n",
            "  (0, 25)\t0.0769800358919501\n",
            "  (0, 50)\t0.03849001794597505\n",
            "  (0, 139)\t0.0769800358919501\n",
            "  (0, 79)\t0.03849001794597505\n",
            "  (0, 102)\t0.03849001794597505\n",
            "  (0, 76)\t0.03849001794597505\n",
            "  :\t:\n",
            "  (0, 6)\t0.03849001794597505\n",
            "  (0, 39)\t0.03849001794597505\n",
            "  (0, 48)\t0.03849001794597505\n",
            "  (0, 2)\t0.03849001794597505\n",
            "  (0, 68)\t0.03849001794597505\n",
            "  (0, 9)\t0.0769800358919501\n",
            "  (0, 12)\t0.1539600717839002\n",
            "  (0, 115)\t0.03849001794597505\n",
            "  (0, 44)\t0.03849001794597505\n",
            "  (0, 60)\t0.34641016151377546\n",
            "  (0, 17)\t0.03849001794597505\n",
            "  (0, 137)\t0.2309401076758503\n",
            "  (0, 75)\t0.03849001794597505\n",
            "  (0, 92)\t0.03849001794597505\n",
            "  (0, 63)\t0.03849001794597505\n",
            "  (0, 70)\t0.1539600717839002\n",
            "  (0, 18)\t0.03849001794597505\n",
            "  (0, 116)\t0.03849001794597505\n",
            "  (0, 121)\t0.0769800358919501\n",
            "  (0, 89)\t0.19245008972987526\n",
            "  (0, 59)\t0.03849001794597505\n",
            "  (0, 120)\t0.5003702332976756\n",
            "  (0, 100)\t0.03849001794597505\n",
            "  (0, 90)\t0.03849001794597505\n",
            "  (0, 72)\t0.03849001794597505\n",
            "Vectorizer =  ['2000' '2020' '33' '42' 'accident' 'activities' 'adrenaline' 'after'\n",
            " 'ahead' 'an' 'and' 'arms' 'at' 'attempting' 'back' 'bad' 'below' 'broke'\n",
            " 'building' 'but' 'by' 'car' 'career' 'caused' 'challenges' 'children'\n",
            " 'cnn' 'comeback' 'compete' 'could' 'damage' 'dangerous' 'decade' 'discs'\n",
            " 'dive' 'diving' 'do' 'doctor' 'dominate' 'drop' 'enough' 'everyday'\n",
            " 'face' 'fall' 'fear' 'felt' 'first' 'flipped' 'foot' 'for' 'four' 'from'\n",
            " 'games' 'get' 'gold' 'gracefully' 'had' 'has' 'have' 'height' 'her'\n",
            " 'high' 'hitting' 'how' 'hungry' 'in' 'including' 'injury' 'intimidating'\n",
            " 'into' 'is' 'july' 'jumping' 'just' 'large' 'laura' 'leave' 'made'\n",
            " 'major' 'married' 'medal' 'more' 'mri' 'nagging' 'neck' 'need' 'nine'\n",
            " 'not' 'now' 'of' 'off' 'old' 'olympian' 'olympic' 'one' 'or' 'originally'\n",
            " 'overcome' 'pandemic' 'part' 'platform' 'pumping' 'quadriplegic'\n",
            " 'recovery' 'repeatedly' 'resumed' 'retirement' 'revealed' 'rushed'\n",
            " 'safely' 'scheduled' 'she' 'speeds' 'spinal' 'sport' 'staring' 'story'\n",
            " 'strong' 'surgery' 'that' 'the' 'three' 'throughout' 'titles' 'to'\n",
            " 'tokyo' 'told' 'training' 'trials' 'unfamiliar' 'warned' 'was' 'water'\n",
            " 'weakness' 'were' 'when' 'which' 'wilkinson' 'win' 'with' 'woman' 'world'\n",
            " 'worldwide' 'would' 'year' 'years']\n"
          ]
        },
        {
          "output_type": "stream",
          "name": "stderr",
          "text": [
            "/usr/local/lib/python3.7/dist-packages/sklearn/utils/deprecation.py:87: FutureWarning: Function get_feature_names is deprecated; get_feature_names is deprecated in 1.0 and will be removed in 1.2. Please use get_feature_names_out instead.\n",
            "  warnings.warn(msg, category=FutureWarning)\n"
          ]
        }
      ]
    },
    {
      "cell_type": "code",
      "source": [
        "# Applying Non-Negative Matrix Factorization\n",
        " \n",
        "nmf = NMF(n_components=20)\n",
        "W_1 = nmf.fit_transform(Vectorizer_1)\n",
        "H_1 = nmf.components_\n",
        "\n",
        "for i, topic in enumerate(H_1):\n",
        "     print(\"Topic {}: {}\".format(i + 1, \",\".join([str(x) for x in text_words[topic.argsort()[-10:]]])))"
      ],
      "metadata": {
        "colab": {
          "base_uri": "https://localhost:8080/"
        },
        "id": "x4hOmLRiwGmO",
        "outputId": "105c06df-df30-40af-ff10-a80f8e02479f"
      },
      "execution_count": 138,
      "outputs": [
        {
          "output_type": "stream",
          "name": "stdout",
          "text": [
            "Topic 1: and,at,is,of,she,wilkinson,in,to,her,the\n",
            "Topic 2: major,and,gold,to,was,games,with,told,wilkinson,now\n",
            "Topic 3: told,and,of,was,olympic,strong,arms,everyday,the,at\n",
            "Topic 4: compete,recovery,at,july,do,dive,high,gold,33,sport\n",
            "Topic 5: she,rushed,recovery,was,training,an,drop,weakness,dive,damage\n",
            "Topic 6: into,at,now,the,unfamiliar,story,children,three,water,of\n",
            "Topic 7: have,large,arms,tokyo,cnn,one,gracefully,injury,enough,children\n",
            "Topic 8: not,repeatedly,hitting,injury,made,in,more,surgery,doctor,revealed\n",
            "Topic 9: hitting,originally,titles,mri,major,four,part,decade,world,with\n",
            "Topic 10: told,foot,wilkinson,back,at,felt,children,had,diving,the\n",
            "Topic 11: decade,ahead,wilkinson,trials,years,get,titles,safely,now,mri\n",
            "Topic 12: dive,story,building,olympian,hitting,now,2000,world,of,enough\n",
            "Topic 13: comeback,pandemic,speeds,the,flipped,her,an,tokyo,year,caused\n",
            "Topic 14: one,from,resumed,arms,for,compete,sport,foot,now,dive\n",
            "Topic 15: ahead,building,large,scheduled,platform,has,car,more,that,drop\n",
            "Topic 16: world,injury,an,just,arms,three,the,major,her,children\n",
            "Topic 17: into,wilkinson,and,strong,hungry,nine,felt,pandemic,could,surgery\n",
            "Topic 18: pandemic,of,titles,children,everyday,dangerous,car,have,42,originally\n",
            "Topic 19: mri,wilkinson,rushed,that,get,spinal,below,year,from,four\n",
            "Topic 20: major,one,tokyo,need,but,four,wilkinson,could,hungry,nine\n"
          ]
        },
        {
          "output_type": "stream",
          "name": "stderr",
          "text": [
            "/usr/local/lib/python3.7/dist-packages/sklearn/decomposition/_nmf.py:294: FutureWarning: The 'init' value, when 'init=None' and n_components is less than n_samples and n_features, will be changed from 'nndsvd' to 'nndsvda' in 1.1 (renaming of 0.26).\n",
            "  FutureWarning,\n",
            "/usr/local/lib/python3.7/dist-packages/sklearn/decomposition/_nmf.py:112: RuntimeWarning: invalid value encountered in sqrt\n",
            "  return np.sqrt(res * 2)\n"
          ]
        }
      ]
    }
  ]
}