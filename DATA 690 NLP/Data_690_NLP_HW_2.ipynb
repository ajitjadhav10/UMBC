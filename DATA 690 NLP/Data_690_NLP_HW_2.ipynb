{
  "nbformat": 4,
  "nbformat_minor": 0,
  "metadata": {
    "colab": {
      "provenance": [],
      "authorship_tag": "ABX9TyOVQYv6TxxmIEAxCY9kB/9X",
      "include_colab_link": true
    },
    "kernelspec": {
      "name": "python3",
      "display_name": "Python 3"
    },
    "language_info": {
      "name": "python"
    }
  },
  "cells": [
    {
      "cell_type": "markdown",
      "metadata": {
        "id": "view-in-github",
        "colab_type": "text"
      },
      "source": [
        "<a href=\"https://colab.research.google.com/github/ajitjadhav10/UMBC/blob/main/DATA%20690%20NLP/Data_690_NLP_HW_2.ipynb\" target=\"_parent\"><img src=\"https://colab.research.google.com/assets/colab-badge.svg\" alt=\"Open In Colab\"/></a>"
      ]
    },
    {
      "cell_type": "code",
      "execution_count": 1,
      "metadata": {
        "colab": {
          "base_uri": "https://localhost:8080/"
        },
        "id": "dhvRNm15Oa8_",
        "outputId": "4c955741-0193-47eb-a533-b63e5e78cbb0"
      },
      "outputs": [
        {
          "output_type": "stream",
          "name": "stdout",
          "text": [
            "Looking in indexes: https://pypi.org/simple, https://us-python.pkg.dev/colab-wheels/public/simple/\n",
            "Requirement already satisfied: html5lib in /usr/local/lib/python3.7/dist-packages (1.0.1)\n",
            "Requirement already satisfied: six>=1.9 in /usr/local/lib/python3.7/dist-packages (from html5lib) (1.15.0)\n",
            "Requirement already satisfied: webencodings in /usr/local/lib/python3.7/dist-packages (from html5lib) (0.5.1)\n"
          ]
        }
      ],
      "source": [
        "!pip install html5lib"
      ]
    },
    {
      "cell_type": "code",
      "source": [
        "from bs4 import BeautifulSoup"
      ],
      "metadata": {
        "id": "M3giM8XwSlsb"
      },
      "execution_count": 2,
      "outputs": []
    },
    {
      "cell_type": "code",
      "source": [
        "import urllib.request"
      ],
      "metadata": {
        "id": "jW_29Wb1Sq2m"
      },
      "execution_count": 3,
      "outputs": []
    },
    {
      "cell_type": "code",
      "source": [
        "#Connecting to the website using urllib.request\n",
        "\n",
        "response = urllib.request.urlopen('https://pythonprogramming.net/parsememcparseface/')\n",
        "html = response.read()\n",
        "print(html)"
      ],
      "metadata": {
        "colab": {
          "base_uri": "https://localhost:8080/"
        },
        "id": "jz9CDtB8SuOy",
        "outputId": "e6029336-9bec-44c6-a762-2224028be39d"
      },
      "execution_count": 4,
      "outputs": [
        {
          "output_type": "stream",
          "name": "stdout",
          "text": [
            "b'<html>\\n\\t<head>\\n\\n\\t\\t<!--\\n\\t\\tpalette:\\n\\t\\tdark blue: #003F72\\n\\t\\tyellow: #FFD166\\n\\t\\tsalmon: #EF476F\\n\\t\\toffwhite: #e7d7d7\\n\\t\\tLight Blue: #118AB2\\n\\t\\tLight green: #7DDF64\\n\\t\\t-->\\n\\n\\t\\t<meta name=\"viewport\" content = \"width=device-width, initial-scale=1.0\">\\n\\t\\t<title>Python Programming Tutorials</title>\\n\\n\\t\\t<meta name=\"description\" content=\"Python Programming tutorials from beginner to advanced on a massive variety of topics. All video and text tutorials are free.\">\\n\\n\\t\\t<link rel=\"shortcut icon\" href=\"/static/favicon.ico\">\\n\\t\\t<link rel=\"stylesheet\" href=\"/static/css/materialize.min.css\">\\n        <link href=\"https://fonts.googleapis.com/icon?family=Material+Icons\" rel=\"stylesheet\">\\n        <meta name=\"google-site-verification\" content=\"3fLok05gk5gGtWd_VSXbSSSH27F2kr1QqcxYz9vYq2k\" />\\n        <link rel=\"stylesheet\" type=\"text/css\" href=\"/static/css/bootstrap.css\">\\n\\n\\n\\t\\t  <!-- Compiled and minified CSS -->\\n\\n\\t\\t<!-- Compiled and minified JavaScript -->\\n\\n\\t\\t<script src=\"https://code.jquery.com/jquery-2.1.4.min.js\"></script>\\n\\t\\t<script src=\"https://cdnjs.cloudflare.com/ajax/libs/materialize/0.97.3/js/materialize.min.js\"></script>\\n\\n\\n\\n        <style>\\n\\t\\t@media (min-width:992px) {\\n\\t\\t#aside {\\n\\t\\t\\twidth:250px;\\n\\t\\t}\\n\\t\\tpre { tab-size: 4;}\\n\\t\\t.btn {background-color:#FFD166;\\n\\t\\t\\t  color:#000;\\n\\t\\t      height:auto;\\n\\t\\t\\t  font-color:#000;\\n\\t\\t\\t  }\\n\\t\\t.btn:hover {background-color:#FFD166;\\n\\t\\t\\t\\t\\t}\\n\\n\\n\\t\\t</style>\\n\\n\\t\\t<!-- Google Tracking -->\\n\\t\\t<script>\\n\\t\\t\\t  (function(i,s,o,g,r,a,m){i[\\'GoogleAnalyticsObject\\']=r;i[r]=i[r]||function(){\\n\\t\\t\\t  (i[r].q=i[r].q||[]).push(arguments)},i[r].l=1*new Date();a=s.createElement(o),\\n\\t\\t\\t  m=s.getElementsByTagName(o)[0];a.async=1;a.src=g;m.parentNode.insertBefore(a,m)\\n\\t\\t\\t  })(window,document,\\'script\\',\\'//www.google-analytics.com/analytics.js\\',\\'ga\\');\\n              ga(\\'config\\', \\'UA-51891827-1\\', {\\'anonymize_ip\\': true});\\xef\\xbb\\xbf\\n\\t\\t\\t  ga(\\'create\\', \\'UA-51891827-1\\', \\'auto\\');\\n\\t\\t\\t  ga(\\'send\\', \\'pageview\\');\\n\\n\\t\\t</script>\\n\\n            \\n                \\n                    <script async src=\"//pagead2.googlesyndication.com/pagead/js/adsbygoogle.js\"></script>\\n                    <script>\\n                         (adsbygoogle = window.adsbygoogle || []).push({\\n                              google_ad_client: \"ca-pub-1579050400541873\",\\n                              enable_page_level_ads: true\\n                         });\\n                    </script>\\n                \\n            \\n\\n\\n\\n\\n\\t</head>\\n\\n\\t<body>\\n\\n\\t\\t<div class=\"navbar-fixed\">\\n\\t\\t\\t<nav style=\"background-color:#003F72\">\\n\\t\\t\\t\\t<div class=\"nav-wrapper container\">\\n\\t\\t\\t\\t\\t<a href=\"/\" class=\"brand-logo\"><img class=\"img-responsive\" style=\"width:50px; height;50px; margin-top:5px\" src=\"/static/images/mainlogowhitethick.jpg\"></a>\\n\\t\\t\\t\\t\\t<a href=\"#\" data-activates=\"navsidebar\" class=\"button-collapse\"><i class=\"mdi-navigation-menu\"></i></a>\\n\\t\\t\\t\\t\\t<ul class=\"right hide-on-med-and-down\">\\n\\t\\t\\t\\t\\t<li><i class=\"material-icons\">search</i></li>\\n\\t\\t\\t\\t\\t<li>\\n\\t\\t\\t\\t\\t\\t<form method=\\'get\\' id=\\'searchform\\' style=\\'height:50px; padding-top:10px\\' action=\\'/search/?l=hi\\'>\\n\\t\\t\\t\\t\\t\\t\\t<input name=\\'q\\' id=\"search\" type=\"search\" placeholder=\"search\"  style=\\'font-size:16px\\'>\\n\\t\\t\\t\\t\\t\\t</form>\\n\\t\\t\\t\\t\\t</li>\\n\\t\\t\\t\\t\\t\\t\\n\\t\\t\\t<li><a href=\"/\">Home</a></li>\\n\\t\\t\\t<li><a class=\"tooltipped\" data-position=\"bottom\" data-delay=\"50\" data-tooltip=\"sudo apt-get upgrade\" href=\"/+=1/\">+=1</a></li>\\n\\t\\t\\t<!--<li><a href=\"/store/python-hoodie/\">Store</a></li>-->\\n\\t\\t\\t<li><a href=\"/support/\">Support the Content</a></li>\\n\\t\\t\\t\\n\\t\\t\\t<li><a href=\"https://goo.gl/7zgAVQ\" target=\\'blank\\'><!--<i class=\"material-icons\">question_answer</i>-->Community</a></li>\\n\\t\\t\\t\\t<li><a href=\"/login/\">Log in</a></li>\\n                <li><a href=\"/register/\">Sign up</a></li>\\n\\t\\t\\t\\n\\n\\t\\t\\t\\t\\t</ul>\\n\\t\\t\\t\\t\\t<ul class=\"side-nav\" id=\"navsidebar\">\\n\\t\\t\\t\\t\\t<li>\\n\\t\\t\\t\\t\\t\\t<form method=\\'get\\' id=\\'searchform\\' style=\\'height:50px; padding-top:10px\\' action=\\'/search/?l=hi\\'>\\n\\t\\t\\t\\t\\t\\t\\t<input name=\\'q\\' id=\"search\" type=\"search\" placeholder=\"search\"  style=\\'font-size:16px\\'>\\n\\t\\t\\t\\t\\t\\t</form>\\n\\t\\t\\t\\t\\t</li>\\n\\t\\t\\t\\t\\t\\t\\n\\t\\t\\t<li><a href=\"/\">Home</a></li>\\n\\t\\t\\t<li><a class=\"tooltipped\" data-position=\"bottom\" data-delay=\"50\" data-tooltip=\"sudo apt-get upgrade\" href=\"/+=1/\">+=1</a></li>\\n\\t\\t\\t<!--<li><a href=\"/store/python-hoodie/\">Store</a></li>-->\\n\\t\\t\\t<li><a href=\"/support/\">Support the Content</a></li>\\n\\t\\t\\t\\n\\t\\t\\t<li><a href=\"https://goo.gl/7zgAVQ\" target=\\'blank\\'><!--<i class=\"material-icons\">question_answer</i>-->Community</a></li>\\n\\t\\t\\t\\t<li><a href=\"/login/\">Log in</a></li>\\n                <li><a href=\"/register/\">Sign up</a></li>\\n\\t\\t\\t\\n\\n\\t\\t\\t\\t\\t</ul>\\n\\t\\t\\t\\t</div>\\n\\t\\t\\t</nav>\\n\\t\\t</div>\\n\\n\\n\\n\\t\\t<!-- main content -->\\n\\t\\t<div class=\"container\" style=\"max-width:1500px; min-height:100%\">\\n\\t\\t\\t<!--Notification:-->\\n            <!--<p style=\"font-size:80%\">TensorFlow.js Livestream:  <a href=\"https://www.youtube.com/watch?v=NjSlj95lliM\" target=\"blank\"><strong>Deep Learning in the browser</strong></a></p>-->\\n            <!--End Notification:-->\\n\\n\\t\\t\\t\\t\\t\\n\\t\\t\\t\\t\\t\\n\\t\\t\\t\\t\\t  \\n\\t\\t\\t\\t\\t\\n\\n\\t\\t\\t\\t\\t\\n\\n<div class=\"body\">\\n\\n\\t<p class=\\'introduction\\'>Oh, hello! This is a <span style=\\'font-size:115%\\'>wonderful</span> page meant to let you practice web scraping. This page was originally created to help people work with the <a href=\"https://www.crummy.com/software/BeautifulSoup/bs4/doc/\" target=\"blank\"><strong>Beautiful Soup 4</strong></a> library.</p>\\n\\n\\t<p>The following table gives some general information for the following <code>programming languages</code>:</p>\\n\\n\\t<ul>\\n\\t\\t<li>Python</li>\\n\\t\\t<li>Pascal</li>\\n\\t\\t<li>Lisp</li>\\n\\t\\t<li>D#</li>\\n\\t\\t<li>Cobol</li>\\n\\t\\t<li>Fortran</li>\\n\\t\\t<li>Haskell</li>\\n\\t</ul>\\n\\n\\n\\t<table style=\"width:100%\">\\n\\n\\t  <tr>\\n\\t    <th>Program Name</th>\\n\\t    <th>Internet Points</th> \\n\\t    <th>Kittens?</th>\\n\\t  </tr>\\n\\n\\t  <tr>\\n\\t    <td>Python</td>\\n\\t    <td>932914021</td> \\n\\t    <td>Definitely</td>\\n\\t  </tr>\\n\\n\\t  <tr>\\n\\t    <td>Pascal</td>\\n\\t    <td>532</td> \\n\\t    <td>Unlikely</td>\\n\\t  </tr>\\n\\n\\n\\t  <tr>\\n\\t    <td>Lisp</td>\\n\\t    <td>1522</td> \\n\\t    <td>Uncertain</td>\\n\\t  </tr>\\n\\n\\n\\t  <tr>\\n\\t    <td>D#</td>\\n\\t    <td>12</td> \\n\\t    <td>Possibly</td>\\n\\t  </tr>\\n\\n\\n\\t  <tr>\\n\\t    <td>Cobol</td>\\n\\t    <td>3</td> \\n\\t    <td>No.</td>\\n\\t  </tr>\\n\\n\\t  <tr>\\n\\t    <td>Fortran</td>\\n\\t    <td>52124</td> \\n\\t    <td>Yes.</td>\\n\\t  </tr>\\n\\n\\t  <tr>\\n\\t    <td>Haskell</td>\\n\\t    <td>24</td> \\n\\t    <td>lol.</td>\\n\\t  </tr>\\n\\n\\t</table>\\n\\n\\t<p>I think it\\'s clear that, on a scale of 1-10, python is:</p>\\n\\n\\t<div class=\\'card hoverable\\'>\\n\\t\\t<div class=\\'card-content\\'>\\n\\t\\t\\t<div class=\\'card-title\\'></div>\\n\\t\\t\\t<img class=\"responsive-img\" src=\"https://s-media-cache-ak0.pinimg.com/originals/e8/2a/ff/e82aff2876b080675449d0cef7685321.jpg\" alt=\"omg batman\" />\\n\\t\\t</div>\\n\\t</div>\\n\\n  <p>Javascript (dynamic data) test:</p>\\n  <p class=\\'jstest\\' id=\\'yesnojs\\'>y u bad tho?</p>\\n  <script>\\n     document.getElementById(\\'yesnojs\\').innerHTML = \\'Look at you shinin!\\';\\n  </script> \\n\\n<br><br>\\n\\t\\n<pre>Beautiful is better than ugly.\\nExplicit is better than implicit.\\nSimple is better than complex.\\nComplex is better than complicated.\\nFlat is better than nested.\\nSparse is better than dense.\\nReadability counts.\\nSpecial cases aren\\'t special enough to break the rules.\\nAlthough practicality beats purity.\\nErrors should never pass silently.\\nUnless explicitly silenced.\\nIn the face of ambiguity, refuse the temptation to guess.\\nThere should be one-- and preferably only one --obvious way to do it.\\nAlthough that way may not be obvious at first unless you\\'re Dutch.\\nNow is better than never.\\nAlthough never is often better than *right* now.\\nIf the implementation is hard to explain, it\\'s a bad idea.\\nIf the implementation is easy to explain, it may be a good idea.\\nNamespaces are one honking great idea -- let\\'s do more of those!</pre>\\n\\n\\t<p>Wh\\xe1\\xb6\\x90t h\\xce\\xb1pp\\xc3\\xa9ns now\\xc2\\xbf</p>\\n\\n\\t<p><a href=\"/sitemap.xml\" target=\"blank\"><strong>sitemap</strong></a></p>\\n\\n</body>\\n\\n\\n\\t\\t\\t</div>\\n\\t\\t</div>\\n\\n\\t\\t<!--login modal-->\\n\\t\\t\\n\\n\\t\\t<!--Register modal-->\\n\\t\\t\\n\\n\\n\\t\\t<script>\\n\\t\\t\\t$(document).ready(function(){\\n\\t\\t\\t\\t$(\".button-collapse\").sideNav();\\n\\t\\t\\t\\t$(\\'.modal-trigger\\').leanModal();\\n\\t\\t\\t\\t$(\\'.collapsible\\').collapsible({\\n\\t\\t\\t\\t  accordion : false // A setting that changes the collapsible behavior to expandable instead of the default accordion style\\n\\t\\t\\t\\t});\\n\\t\\t\\t\\t$(\\'#aside\\').pushpin({ top:110, bottom:500 });\\n\\t\\t  });\\n\\t\\t</script>\\n\\t\\t<script>\\n\\t\\t  $(document).ready(function(){\\n\\t\\t\\t$(\\'.collapsible\\').collapsible({\\n\\t\\t\\t  accordion : false // A setting that changes the collapsible behavior to expandable instead of the default accordion style\\n\\t\\t\\t});\\n\\t\\t\\t$(\\'select\\').material_select();\\n\\t\\t  });\\n\\t  </script>\\n\\t  <script>\\n\\t\\tfunction goBack() {\\n\\t\\t\\twindow.history.back()\\n\\t\\t}\\n\\t</script>\\n\\t\\t<script type=\"text/javascript\" src=\"/static/js/run_prettify.js\"></script>\\n\\n\\t</body>\\n\\n<footer class=\"page-footer\">\\n          <div class=\"container\">\\n            <div class=\"row\">\\n              <div class=\"col l6 s12\">\\n                <h5 class=\"white-text\">You\\'ve reached the end!</h5>\\n\\n                <p class=\"grey-text text-lighten-4\">Contact: Harrison@pythonprogramming.net.</p>\\n                <ul>\\n                  <li><a class=\"grey-text text-lighten-3\" href=\"/support-donate/\">Support this Website!</a></li>\\n                  <li><a class=\"grey-text text-lighten-3\" href=\"/consulting/\">Consulting and Contracting</a></li>\\n                  <li><a class=\"grey-text text-lighten-3\" href=\"https://www.facebook.com/pythonprogramming.net/\">Facebook</a></li>\\n                  <li><a class=\"grey-text text-lighten-3\" href=\"https://twitter.com/sentdex\">Twitter</a></li>\\n                  <li><a class=\"grey-text text-lighten-3\" href=\"https://instagram.com/sentdex\">Instagram</a></li>\\n                </ul>\\n              </div>\\n              <div class=\"col l4 offset-l2 s12\">\\n                <h6 class=\"white-text\">Legal stuff:</h6>\\n                <ul>\\n                  <li><a class=\"grey-text text-lighten-3\" href=\"/about/tos/\">Terms and Conditions</a></li>\\n                  <li><a class=\"grey-text text-lighten-3\" href=\"/about/privacy-policy/\">Privacy Policy</a></li>\\n\\n                </ul>\\n              </div>\\n            </div>\\n          </div>\\n          <a href=\"https://xkcd.com/353/\" target=\\'blank\\'><p class=\"grey-text right\" style=\\'padding-right:10px\\'>Programming is a superpower.</p></a>\\n          <div class=\"footer-copyright\">\\n            <div class=\"container\">\\n            \\xc2\\xa9 OVER 9000! PythonProgramming.net\\n\\n            </div>\\n\\n          </div>\\n        </footer>\\n\\n</html>\\n\\n\\n\\n\\n\\n\\n\\n\\n\\n\\n\\n\\n\\n\\n'\n"
          ]
        }
      ]
    },
    {
      "cell_type": "code",
      "source": [
        "#Create an object called ‘soup’ using the source\n",
        "\n",
        "soup = BeautifulSoup(html,'html5lib')\n",
        "text = soup.get_text(strip = True)\n",
        "print(text)"
      ],
      "metadata": {
        "colab": {
          "base_uri": "https://localhost:8080/"
        },
        "id": "NIMCjP7JS9XZ",
        "outputId": "46a24c4e-7fa9-4530-9ef6-b6510663be6b"
      },
      "execution_count": 5,
      "outputs": [
        {
          "output_type": "stream",
          "name": "stdout",
          "text": [
            "Python Programming Tutorials@media (min-width:992px) {\n",
            "\t\t#aside {\n",
            "\t\t\twidth:250px;\n",
            "\t\t}\n",
            "\t\tpre { tab-size: 4;}\n",
            "\t\t.btn {background-color:#FFD166;\n",
            "\t\t\t  color:#000;\n",
            "\t\t      height:auto;\n",
            "\t\t\t  font-color:#000;\n",
            "\t\t\t  }\n",
            "\t\t.btn:hover {background-color:#FFD166;\n",
            "\t\t\t\t\t}(function(i,s,o,g,r,a,m){i['GoogleAnalyticsObject']=r;i[r]=i[r]||function(){\n",
            "\t\t\t  (i[r].q=i[r].q||[]).push(arguments)},i[r].l=1*new Date();a=s.createElement(o),\n",
            "\t\t\t  m=s.getElementsByTagName(o)[0];a.async=1;a.src=g;m.parentNode.insertBefore(a,m)\n",
            "\t\t\t  })(window,document,'script','//www.google-analytics.com/analytics.js','ga');\n",
            "              ga('config', 'UA-51891827-1', {'anonymize_ip': true});﻿\n",
            "\t\t\t  ga('create', 'UA-51891827-1', 'auto');\n",
            "\t\t\t  ga('send', 'pageview');(adsbygoogle = window.adsbygoogle || []).push({\n",
            "                              google_ad_client: \"ca-pub-1579050400541873\",\n",
            "                              enable_page_level_ads: true\n",
            "                         });searchHome+=1Support the ContentCommunityLog inSign upHome+=1Support the ContentCommunityLog inSign upOh, hello! This is awonderfulpage meant to let you practice web scraping. This page was originally created to help people work with theBeautiful Soup 4library.The following table gives some general information for the followingprogramming languages:PythonPascalLispD#CobolFortranHaskellProgram NameInternet PointsKittens?Python932914021DefinitelyPascal532UnlikelyLisp1522UncertainD#12PossiblyCobol3No.Fortran52124Yes.Haskell24lol.I think it's clear that, on a scale of 1-10, python is:Javascript (dynamic data) test:y u bad tho?document.getElementById('yesnojs').innerHTML = 'Look at you shinin!';Beautiful is better than ugly.\n",
            "Explicit is better than implicit.\n",
            "Simple is better than complex.\n",
            "Complex is better than complicated.\n",
            "Flat is better than nested.\n",
            "Sparse is better than dense.\n",
            "Readability counts.\n",
            "Special cases aren't special enough to break the rules.\n",
            "Although practicality beats purity.\n",
            "Errors should never pass silently.\n",
            "Unless explicitly silenced.\n",
            "In the face of ambiguity, refuse the temptation to guess.\n",
            "There should be one-- and preferably only one --obvious way to do it.\n",
            "Although that way may not be obvious at first unless you're Dutch.\n",
            "Now is better than never.\n",
            "Although never is often better than *right* now.\n",
            "If the implementation is hard to explain, it's a bad idea.\n",
            "If the implementation is easy to explain, it may be a good idea.\n",
            "Namespaces are one honking great idea -- let's do more of those!Whᶐt hαppéns now¿sitemap$(document).ready(function(){\n",
            "\t\t\t\t$(\".button-collapse\").sideNav();\n",
            "\t\t\t\t$('.modal-trigger').leanModal();\n",
            "\t\t\t\t$('.collapsible').collapsible({\n",
            "\t\t\t\t  accordion : false // A setting that changes the collapsible behavior to expandable instead of the default accordion style\n",
            "\t\t\t\t});\n",
            "\t\t\t\t$('#aside').pushpin({ top:110, bottom:500 });\n",
            "\t\t  });$(document).ready(function(){\n",
            "\t\t\t$('.collapsible').collapsible({\n",
            "\t\t\t  accordion : false // A setting that changes the collapsible behavior to expandable instead of the default accordion style\n",
            "\t\t\t});\n",
            "\t\t\t$('select').material_select();\n",
            "\t\t  });function goBack() {\n",
            "\t\t\twindow.history.back()\n",
            "\t\t}You've reached the end!Contact: Harrison@pythonprogramming.net.Support this Website!Consulting and ContractingFacebookTwitterInstagramLegal stuff:Terms and ConditionsPrivacy PolicyProgramming is a superpower.© OVER 9000! PythonProgramming.net\n"
          ]
        }
      ]
    },
    {
      "cell_type": "code",
      "source": [
        "#Print page title, get attributes, values, and beginning navigation. Get specific values.\n",
        "\n",
        "print(soup.title)"
      ],
      "metadata": {
        "colab": {
          "base_uri": "https://localhost:8080/"
        },
        "id": "EUla6dS-WmYK",
        "outputId": "b1fb3c86-ed50-48a5-e551-5012473ce6e1"
      },
      "execution_count": 6,
      "outputs": [
        {
          "output_type": "stream",
          "name": "stdout",
          "text": [
            "<title>Python Programming Tutorials</title>\n"
          ]
        }
      ]
    },
    {
      "cell_type": "code",
      "source": [
        "print(soup.title.name)"
      ],
      "metadata": {
        "colab": {
          "base_uri": "https://localhost:8080/"
        },
        "id": "vAzVSR86W7yO",
        "outputId": "6cdc4fe8-d9ed-484a-f101-47d949064ffb"
      },
      "execution_count": 7,
      "outputs": [
        {
          "output_type": "stream",
          "name": "stdout",
          "text": [
            "title\n"
          ]
        }
      ]
    },
    {
      "cell_type": "code",
      "source": [
        "print(soup.title.string)"
      ],
      "metadata": {
        "colab": {
          "base_uri": "https://localhost:8080/"
        },
        "id": "h7mkFt6hW-KY",
        "outputId": "de29b4f9-5168-4850-c8fd-c09ff9ec60e2"
      },
      "execution_count": 8,
      "outputs": [
        {
          "output_type": "stream",
          "name": "stdout",
          "text": [
            "Python Programming Tutorials\n"
          ]
        }
      ]
    },
    {
      "cell_type": "code",
      "source": [
        "print(soup.title.parent.name)"
      ],
      "metadata": {
        "colab": {
          "base_uri": "https://localhost:8080/"
        },
        "id": "lSrsqo1mXA3H",
        "outputId": "96382810-cd01-41be-e927-aaf6edcc694b"
      },
      "execution_count": 9,
      "outputs": [
        {
          "output_type": "stream",
          "name": "stdout",
          "text": [
            "head\n"
          ]
        }
      ]
    },
    {
      "cell_type": "code",
      "source": [
        "print(soup.p)"
      ],
      "metadata": {
        "colab": {
          "base_uri": "https://localhost:8080/"
        },
        "id": "72lihblmXC5U",
        "outputId": "ad5b0f0e-2842-4f95-e474-4f78d03f6346"
      },
      "execution_count": 10,
      "outputs": [
        {
          "output_type": "stream",
          "name": "stdout",
          "text": [
            "<p class=\"introduction\">Oh, hello! This is a <span style=\"font-size:115%\">wonderful</span> page meant to let you practice web scraping. This page was originally created to help people work with the <a href=\"https://www.crummy.com/software/BeautifulSoup/bs4/doc/\" target=\"blank\"><strong>Beautiful Soup 4</strong></a> library.</p>\n"
          ]
        }
      ]
    },
    {
      "cell_type": "code",
      "source": [
        "print(soup.find_all('p'))"
      ],
      "metadata": {
        "colab": {
          "base_uri": "https://localhost:8080/"
        },
        "id": "7SeT_e9uYOfs",
        "outputId": "814916b1-12bf-474c-b163-f9e5421c0d2c"
      },
      "execution_count": 11,
      "outputs": [
        {
          "output_type": "stream",
          "name": "stdout",
          "text": [
            "[<p class=\"introduction\">Oh, hello! This is a <span style=\"font-size:115%\">wonderful</span> page meant to let you practice web scraping. This page was originally created to help people work with the <a href=\"https://www.crummy.com/software/BeautifulSoup/bs4/doc/\" target=\"blank\"><strong>Beautiful Soup 4</strong></a> library.</p>, <p>The following table gives some general information for the following <code>programming languages</code>:</p>, <p>I think it's clear that, on a scale of 1-10, python is:</p>, <p>Javascript (dynamic data) test:</p>, <p class=\"jstest\" id=\"yesnojs\">y u bad tho?</p>, <p>Whᶐt hαppéns now¿</p>, <p><a href=\"/sitemap.xml\" target=\"blank\"><strong>sitemap</strong></a></p>, <p class=\"grey-text text-lighten-4\">Contact: Harrison@pythonprogramming.net.</p>, <p class=\"grey-text right\" style=\"padding-right:10px\">Programming is a superpower.</p>]\n"
          ]
        }
      ]
    },
    {
      "cell_type": "code",
      "source": [
        "#Find all the paragraph instead of just one in the previous query. You can iterate through them using ‘str(paragraph.text)’\n",
        "\n",
        "for paragraph in soup.find_all('p'):\n",
        "    print(paragraph.string)\n",
        "    print(str(paragraph.text))"
      ],
      "metadata": {
        "colab": {
          "base_uri": "https://localhost:8080/"
        },
        "id": "KProNiA-YRvD",
        "outputId": "0a1f9268-1987-4d05-8a54-7c072adb5765"
      },
      "execution_count": 12,
      "outputs": [
        {
          "output_type": "stream",
          "name": "stdout",
          "text": [
            "None\n",
            "Oh, hello! This is a wonderful page meant to let you practice web scraping. This page was originally created to help people work with the Beautiful Soup 4 library.\n",
            "None\n",
            "The following table gives some general information for the following programming languages:\n",
            "I think it's clear that, on a scale of 1-10, python is:\n",
            "I think it's clear that, on a scale of 1-10, python is:\n",
            "Javascript (dynamic data) test:\n",
            "Javascript (dynamic data) test:\n",
            "y u bad tho?\n",
            "y u bad tho?\n",
            "Whᶐt hαppéns now¿\n",
            "Whᶐt hαppéns now¿\n",
            "sitemap\n",
            "sitemap\n",
            "Contact: Harrison@pythonprogramming.net.\n",
            "Contact: Harrison@pythonprogramming.net.\n",
            "Programming is a superpower.\n",
            "Programming is a superpower.\n"
          ]
        }
      ]
    },
    {
      "cell_type": "code",
      "source": [
        "#Grab all the links through ‘url.get(‘href’)\n",
        "\n",
        "for url in soup.find_all('a'):\n",
        "    print(url.get('href'))"
      ],
      "metadata": {
        "colab": {
          "base_uri": "https://localhost:8080/"
        },
        "id": "jx9SkHCSYUHF",
        "outputId": "d2db76e6-036b-400c-861d-d1446faff7de"
      },
      "execution_count": 13,
      "outputs": [
        {
          "output_type": "stream",
          "name": "stdout",
          "text": [
            "/\n",
            "#\n",
            "/\n",
            "/+=1/\n",
            "/support/\n",
            "https://goo.gl/7zgAVQ\n",
            "/login/\n",
            "/register/\n",
            "/\n",
            "/+=1/\n",
            "/support/\n",
            "https://goo.gl/7zgAVQ\n",
            "/login/\n",
            "/register/\n",
            "https://www.crummy.com/software/BeautifulSoup/bs4/doc/\n",
            "/sitemap.xml\n",
            "/support-donate/\n",
            "/consulting/\n",
            "https://www.facebook.com/pythonprogramming.net/\n",
            "https://twitter.com/sentdex\n",
            "https://instagram.com/sentdex\n",
            "/about/tos/\n",
            "/about/privacy-policy/\n",
            "https://xkcd.com/353/\n"
          ]
        }
      ]
    },
    {
      "cell_type": "code",
      "source": [
        "#Just grab the text using ‘get_text’\n",
        "\n",
        "print(soup.get_text())"
      ],
      "metadata": {
        "colab": {
          "base_uri": "https://localhost:8080/"
        },
        "id": "TN1g8XmjYWmB",
        "outputId": "ef616109-9035-47e9-ad22-c149bd810d6b"
      },
      "execution_count": 14,
      "outputs": [
        {
          "output_type": "stream",
          "name": "stdout",
          "text": [
            "\n",
            "\n",
            "\t\t\n",
            "\n",
            "\t\t\n",
            "\t\tPython Programming Tutorials\n",
            "\n",
            "\t\t\n",
            "\n",
            "\t\t\n",
            "\t\t\n",
            "        \n",
            "        \n",
            "        \n",
            "\n",
            "\n",
            "\t\t  \n",
            "\n",
            "\t\t\n",
            "\n",
            "\t\t\n",
            "\t\t\n",
            "\n",
            "\n",
            "\n",
            "        \n",
            "\t\t@media (min-width:992px) {\n",
            "\t\t#aside {\n",
            "\t\t\twidth:250px;\n",
            "\t\t}\n",
            "\t\tpre { tab-size: 4;}\n",
            "\t\t.btn {background-color:#FFD166;\n",
            "\t\t\t  color:#000;\n",
            "\t\t      height:auto;\n",
            "\t\t\t  font-color:#000;\n",
            "\t\t\t  }\n",
            "\t\t.btn:hover {background-color:#FFD166;\n",
            "\t\t\t\t\t}\n",
            "\n",
            "\n",
            "\t\t\n",
            "\n",
            "\t\t\n",
            "\t\t\n",
            "\t\t\t  (function(i,s,o,g,r,a,m){i['GoogleAnalyticsObject']=r;i[r]=i[r]||function(){\n",
            "\t\t\t  (i[r].q=i[r].q||[]).push(arguments)},i[r].l=1*new Date();a=s.createElement(o),\n",
            "\t\t\t  m=s.getElementsByTagName(o)[0];a.async=1;a.src=g;m.parentNode.insertBefore(a,m)\n",
            "\t\t\t  })(window,document,'script','//www.google-analytics.com/analytics.js','ga');\n",
            "              ga('config', 'UA-51891827-1', {'anonymize_ip': true});﻿\n",
            "\t\t\t  ga('create', 'UA-51891827-1', 'auto');\n",
            "\t\t\t  ga('send', 'pageview');\n",
            "\n",
            "\t\t\n",
            "\n",
            "            \n",
            "                \n",
            "                    \n",
            "                    \n",
            "                         (adsbygoogle = window.adsbygoogle || []).push({\n",
            "                              google_ad_client: \"ca-pub-1579050400541873\",\n",
            "                              enable_page_level_ads: true\n",
            "                         });\n",
            "                    \n",
            "                \n",
            "            \n",
            "\n",
            "\n",
            "\n",
            "\n",
            "\t\n",
            "\n",
            "\t\n",
            "\n",
            "\t\t\n",
            "\t\t\t\n",
            "\t\t\t\t\n",
            "\t\t\t\t\t\n",
            "\t\t\t\t\t\n",
            "\t\t\t\t\t\n",
            "\t\t\t\t\tsearch\n",
            "\t\t\t\t\t\n",
            "\t\t\t\t\t\t\n",
            "\t\t\t\t\t\t\t\n",
            "\t\t\t\t\t\t\n",
            "\t\t\t\t\t\n",
            "\t\t\t\t\t\t\n",
            "\t\t\tHome\n",
            "\t\t\t+=1\n",
            "\t\t\t\n",
            "\t\t\tSupport the Content\n",
            "\t\t\t\n",
            "\t\t\tCommunity\n",
            "\t\t\t\tLog in\n",
            "                Sign up\n",
            "\t\t\t\n",
            "\n",
            "\t\t\t\t\t\n",
            "\t\t\t\t\t\n",
            "\t\t\t\t\t\n",
            "\t\t\t\t\t\t\n",
            "\t\t\t\t\t\t\t\n",
            "\t\t\t\t\t\t\n",
            "\t\t\t\t\t\n",
            "\t\t\t\t\t\t\n",
            "\t\t\tHome\n",
            "\t\t\t+=1\n",
            "\t\t\t\n",
            "\t\t\tSupport the Content\n",
            "\t\t\t\n",
            "\t\t\tCommunity\n",
            "\t\t\t\tLog in\n",
            "                Sign up\n",
            "\t\t\t\n",
            "\n",
            "\t\t\t\t\t\n",
            "\t\t\t\t\n",
            "\t\t\t\n",
            "\t\t\n",
            "\n",
            "\n",
            "\n",
            "\t\t\n",
            "\t\t\n",
            "\t\t\t\n",
            "            \n",
            "            \n",
            "\n",
            "\t\t\t\t\t\n",
            "\t\t\t\t\t\n",
            "\t\t\t\t\t  \n",
            "\t\t\t\t\t\n",
            "\n",
            "\t\t\t\t\t\n",
            "\n",
            "\n",
            "\n",
            "\tOh, hello! This is a wonderful page meant to let you practice web scraping. This page was originally created to help people work with the Beautiful Soup 4 library.\n",
            "\n",
            "\tThe following table gives some general information for the following programming languages:\n",
            "\n",
            "\t\n",
            "\t\tPython\n",
            "\t\tPascal\n",
            "\t\tLisp\n",
            "\t\tD#\n",
            "\t\tCobol\n",
            "\t\tFortran\n",
            "\t\tHaskell\n",
            "\t\n",
            "\n",
            "\n",
            "\t\n",
            "\n",
            "\t  \n",
            "\t    Program Name\n",
            "\t    Internet Points \n",
            "\t    Kittens?\n",
            "\t  \n",
            "\n",
            "\t  \n",
            "\t    Python\n",
            "\t    932914021 \n",
            "\t    Definitely\n",
            "\t  \n",
            "\n",
            "\t  \n",
            "\t    Pascal\n",
            "\t    532 \n",
            "\t    Unlikely\n",
            "\t  \n",
            "\n",
            "\n",
            "\t  \n",
            "\t    Lisp\n",
            "\t    1522 \n",
            "\t    Uncertain\n",
            "\t  \n",
            "\n",
            "\n",
            "\t  \n",
            "\t    D#\n",
            "\t    12 \n",
            "\t    Possibly\n",
            "\t  \n",
            "\n",
            "\n",
            "\t  \n",
            "\t    Cobol\n",
            "\t    3 \n",
            "\t    No.\n",
            "\t  \n",
            "\n",
            "\t  \n",
            "\t    Fortran\n",
            "\t    52124 \n",
            "\t    Yes.\n",
            "\t  \n",
            "\n",
            "\t  \n",
            "\t    Haskell\n",
            "\t    24 \n",
            "\t    lol.\n",
            "\t  \n",
            "\n",
            "\t\n",
            "\n",
            "\tI think it's clear that, on a scale of 1-10, python is:\n",
            "\n",
            "\t\n",
            "\t\t\n",
            "\t\t\t\n",
            "\t\t\t\n",
            "\t\t\n",
            "\t\n",
            "\n",
            "  Javascript (dynamic data) test:\n",
            "  y u bad tho?\n",
            "  \n",
            "     document.getElementById('yesnojs').innerHTML = 'Look at you shinin!';\n",
            "   \n",
            "\n",
            "\n",
            "\t\n",
            "Beautiful is better than ugly.\n",
            "Explicit is better than implicit.\n",
            "Simple is better than complex.\n",
            "Complex is better than complicated.\n",
            "Flat is better than nested.\n",
            "Sparse is better than dense.\n",
            "Readability counts.\n",
            "Special cases aren't special enough to break the rules.\n",
            "Although practicality beats purity.\n",
            "Errors should never pass silently.\n",
            "Unless explicitly silenced.\n",
            "In the face of ambiguity, refuse the temptation to guess.\n",
            "There should be one-- and preferably only one --obvious way to do it.\n",
            "Although that way may not be obvious at first unless you're Dutch.\n",
            "Now is better than never.\n",
            "Although never is often better than *right* now.\n",
            "If the implementation is hard to explain, it's a bad idea.\n",
            "If the implementation is easy to explain, it may be a good idea.\n",
            "Namespaces are one honking great idea -- let's do more of those!\n",
            "\n",
            "\tWhᶐt hαppéns now¿\n",
            "\n",
            "\tsitemap\n",
            "\n",
            "\n",
            "\n",
            "\n",
            "\t\t\t\n",
            "\t\t\n",
            "\n",
            "\t\t\n",
            "\t\t\n",
            "\n",
            "\t\t\n",
            "\t\t\n",
            "\n",
            "\n",
            "\t\t\n",
            "\t\t\t$(document).ready(function(){\n",
            "\t\t\t\t$(\".button-collapse\").sideNav();\n",
            "\t\t\t\t$('.modal-trigger').leanModal();\n",
            "\t\t\t\t$('.collapsible').collapsible({\n",
            "\t\t\t\t  accordion : false // A setting that changes the collapsible behavior to expandable instead of the default accordion style\n",
            "\t\t\t\t});\n",
            "\t\t\t\t$('#aside').pushpin({ top:110, bottom:500 });\n",
            "\t\t  });\n",
            "\t\t\n",
            "\t\t\n",
            "\t\t  $(document).ready(function(){\n",
            "\t\t\t$('.collapsible').collapsible({\n",
            "\t\t\t  accordion : false // A setting that changes the collapsible behavior to expandable instead of the default accordion style\n",
            "\t\t\t});\n",
            "\t\t\t$('select').material_select();\n",
            "\t\t  });\n",
            "\t  \n",
            "\t  \n",
            "\t\tfunction goBack() {\n",
            "\t\t\twindow.history.back()\n",
            "\t\t}\n",
            "\t\n",
            "\t\t\n",
            "\n",
            "\t\n",
            "\n",
            "\n",
            "          \n",
            "            \n",
            "              \n",
            "                You've reached the end!\n",
            "\n",
            "                Contact: Harrison@pythonprogramming.net.\n",
            "                \n",
            "                  Support this Website!\n",
            "                  Consulting and Contracting\n",
            "                  Facebook\n",
            "                  Twitter\n",
            "                  Instagram\n",
            "                \n",
            "              \n",
            "              \n",
            "                Legal stuff:\n",
            "                \n",
            "                  Terms and Conditions\n",
            "                  Privacy Policy\n",
            "\n",
            "                \n",
            "              \n",
            "            \n",
            "          \n",
            "          Programming is a superpower.\n",
            "          \n",
            "            \n",
            "            © OVER 9000! PythonProgramming.net\n",
            "\n",
            "            \n",
            "\n",
            "          \n",
            "        \n",
            "\n",
            "\n",
            "\n",
            "\n",
            "\n",
            "\n",
            "\n",
            "\n",
            "\n",
            "\n",
            "\n",
            "\n",
            "\n",
            "\n",
            "\n",
            "\n",
            "\n"
          ]
        }
      ]
    }
  ]
}