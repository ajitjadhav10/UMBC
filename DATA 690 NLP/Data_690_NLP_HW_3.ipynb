{
  "nbformat": 4,
  "nbformat_minor": 0,
  "metadata": {
    "colab": {
      "provenance": [],
      "authorship_tag": "ABX9TyNM6WQjE6fcwtavteGaOW0R",
      "include_colab_link": true
    },
    "kernelspec": {
      "name": "python3",
      "display_name": "Python 3"
    },
    "language_info": {
      "name": "python"
    }
  },
  "cells": [
    {
      "cell_type": "markdown",
      "metadata": {
        "id": "view-in-github",
        "colab_type": "text"
      },
      "source": [
        "<a href=\"https://colab.research.google.com/github/ajitjadhav10/UMBC/blob/main/DATA%20690%20NLP/Data_690_NLP_HW_3.ipynb\" target=\"_parent\"><img src=\"https://colab.research.google.com/assets/colab-badge.svg\" alt=\"Open In Colab\"/></a>"
      ]
    },
    {
      "cell_type": "markdown",
      "source": [
        "Exercise 1\n",
        "\n",
        "1. Use the train.tsv dataset at https://www.kaggle.com/c/sentiment-analysis-on-\n",
        "movie-reviews/data\n",
        "\n",
        "2. Take a look at the data and get info about the data\n",
        "3. Count the number of expressed sentiments by category\n",
        "4. Provide a histogram of sentiments by category\n",
        "5. Generate document term matrix by using scikit-learn's CountVectorizer. Tokenize\n",
        "and remove symbols and numbers\n",
        "6. Split dataset (the test dataset represents 30% of the total data).\n",
        "7. Import the MultinomialNB module and create a Multinomial Naive Bayes\n",
        "classifier object using MultinomialNB() function. Compute the model accuracy.\n",
        "8. TF-IDF(Term Frequency-Inverse Document Frequency) normalizes the\n",
        "document term matrix. It is the product of TF and IDF. Word with high tf-idf in a\n",
        "document, it is most of the times occurred in given documents and must be\n",
        "absent in the other documents. So, the words must be a signature word. Use\n",
        "TfidfVectorizer() for 'Phrase'.\n",
        "9. Split dataset by using function train_test_split(). You need to pass basically 3\n",
        "parameters features, target, and test_set size. Additionally, you can use\n",
        "random_state to select records randomly.\n",
        "10.Build the Text Classification Model using TF-IDF.\n",
        "11.First, import the MultinomialNB module and create the Multinomial Naive Bayes\n",
        "classifier object using MultinomialNB() function.\n",
        "12.Then, fit your model on a train set using fit() and perform prediction on the test\n",
        "set using predict()."
      ],
      "metadata": {
        "id": "jDUVW2WOtxS4"
      }
    },
    {
      "cell_type": "code",
      "execution_count": 1,
      "metadata": {
        "id": "qBO6MRc961pb"
      },
      "outputs": [],
      "source": [
        "#importing the libraries\n",
        "\n",
        "import pandas as pd\n",
        "import numpy as np\n",
        "import matplotlib.pyplot as plt"
      ]
    },
    {
      "cell_type": "code",
      "source": [
        "df_1=pd.read_csv(\"https://raw.githubusercontent.com/ajitjadhav10/UMBC/main/DATA%20690%20NLP/Data%20files/train.tsv\", sep='\\t')\n",
        "df_1.head()"
      ],
      "metadata": {
        "colab": {
          "base_uri": "https://localhost:8080/",
          "height": 206
        },
        "id": "0mUeb-uzFkgX",
        "outputId": "8c3c083c-798f-4348-f332-6f59b1ade8aa"
      },
      "execution_count": 2,
      "outputs": [
        {
          "output_type": "execute_result",
          "data": {
            "text/plain": [
              "   PhraseId  SentenceId                                             Phrase  \\\n",
              "0         1           1  A series of escapades demonstrating the adage ...   \n",
              "1         2           1  A series of escapades demonstrating the adage ...   \n",
              "2         3           1                                           A series   \n",
              "3         4           1                                                  A   \n",
              "4         5           1                                             series   \n",
              "\n",
              "   Sentiment  \n",
              "0          1  \n",
              "1          2  \n",
              "2          2  \n",
              "3          2  \n",
              "4          2  "
            ],
            "text/html": [
              "\n",
              "  <div id=\"df-ccee69f8-7417-46a5-ae6c-f8563f76698d\">\n",
              "    <div class=\"colab-df-container\">\n",
              "      <div>\n",
              "<style scoped>\n",
              "    .dataframe tbody tr th:only-of-type {\n",
              "        vertical-align: middle;\n",
              "    }\n",
              "\n",
              "    .dataframe tbody tr th {\n",
              "        vertical-align: top;\n",
              "    }\n",
              "\n",
              "    .dataframe thead th {\n",
              "        text-align: right;\n",
              "    }\n",
              "</style>\n",
              "<table border=\"1\" class=\"dataframe\">\n",
              "  <thead>\n",
              "    <tr style=\"text-align: right;\">\n",
              "      <th></th>\n",
              "      <th>PhraseId</th>\n",
              "      <th>SentenceId</th>\n",
              "      <th>Phrase</th>\n",
              "      <th>Sentiment</th>\n",
              "    </tr>\n",
              "  </thead>\n",
              "  <tbody>\n",
              "    <tr>\n",
              "      <th>0</th>\n",
              "      <td>1</td>\n",
              "      <td>1</td>\n",
              "      <td>A series of escapades demonstrating the adage ...</td>\n",
              "      <td>1</td>\n",
              "    </tr>\n",
              "    <tr>\n",
              "      <th>1</th>\n",
              "      <td>2</td>\n",
              "      <td>1</td>\n",
              "      <td>A series of escapades demonstrating the adage ...</td>\n",
              "      <td>2</td>\n",
              "    </tr>\n",
              "    <tr>\n",
              "      <th>2</th>\n",
              "      <td>3</td>\n",
              "      <td>1</td>\n",
              "      <td>A series</td>\n",
              "      <td>2</td>\n",
              "    </tr>\n",
              "    <tr>\n",
              "      <th>3</th>\n",
              "      <td>4</td>\n",
              "      <td>1</td>\n",
              "      <td>A</td>\n",
              "      <td>2</td>\n",
              "    </tr>\n",
              "    <tr>\n",
              "      <th>4</th>\n",
              "      <td>5</td>\n",
              "      <td>1</td>\n",
              "      <td>series</td>\n",
              "      <td>2</td>\n",
              "    </tr>\n",
              "  </tbody>\n",
              "</table>\n",
              "</div>\n",
              "      <button class=\"colab-df-convert\" onclick=\"convertToInteractive('df-ccee69f8-7417-46a5-ae6c-f8563f76698d')\"\n",
              "              title=\"Convert this dataframe to an interactive table.\"\n",
              "              style=\"display:none;\">\n",
              "        \n",
              "  <svg xmlns=\"http://www.w3.org/2000/svg\" height=\"24px\"viewBox=\"0 0 24 24\"\n",
              "       width=\"24px\">\n",
              "    <path d=\"M0 0h24v24H0V0z\" fill=\"none\"/>\n",
              "    <path d=\"M18.56 5.44l.94 2.06.94-2.06 2.06-.94-2.06-.94-.94-2.06-.94 2.06-2.06.94zm-11 1L8.5 8.5l.94-2.06 2.06-.94-2.06-.94L8.5 2.5l-.94 2.06-2.06.94zm10 10l.94 2.06.94-2.06 2.06-.94-2.06-.94-.94-2.06-.94 2.06-2.06.94z\"/><path d=\"M17.41 7.96l-1.37-1.37c-.4-.4-.92-.59-1.43-.59-.52 0-1.04.2-1.43.59L10.3 9.45l-7.72 7.72c-.78.78-.78 2.05 0 2.83L4 21.41c.39.39.9.59 1.41.59.51 0 1.02-.2 1.41-.59l7.78-7.78 2.81-2.81c.8-.78.8-2.07 0-2.86zM5.41 20L4 18.59l7.72-7.72 1.47 1.35L5.41 20z\"/>\n",
              "  </svg>\n",
              "      </button>\n",
              "      \n",
              "  <style>\n",
              "    .colab-df-container {\n",
              "      display:flex;\n",
              "      flex-wrap:wrap;\n",
              "      gap: 12px;\n",
              "    }\n",
              "\n",
              "    .colab-df-convert {\n",
              "      background-color: #E8F0FE;\n",
              "      border: none;\n",
              "      border-radius: 50%;\n",
              "      cursor: pointer;\n",
              "      display: none;\n",
              "      fill: #1967D2;\n",
              "      height: 32px;\n",
              "      padding: 0 0 0 0;\n",
              "      width: 32px;\n",
              "    }\n",
              "\n",
              "    .colab-df-convert:hover {\n",
              "      background-color: #E2EBFA;\n",
              "      box-shadow: 0px 1px 2px rgba(60, 64, 67, 0.3), 0px 1px 3px 1px rgba(60, 64, 67, 0.15);\n",
              "      fill: #174EA6;\n",
              "    }\n",
              "\n",
              "    [theme=dark] .colab-df-convert {\n",
              "      background-color: #3B4455;\n",
              "      fill: #D2E3FC;\n",
              "    }\n",
              "\n",
              "    [theme=dark] .colab-df-convert:hover {\n",
              "      background-color: #434B5C;\n",
              "      box-shadow: 0px 1px 3px 1px rgba(0, 0, 0, 0.15);\n",
              "      filter: drop-shadow(0px 1px 2px rgba(0, 0, 0, 0.3));\n",
              "      fill: #FFFFFF;\n",
              "    }\n",
              "  </style>\n",
              "\n",
              "      <script>\n",
              "        const buttonEl =\n",
              "          document.querySelector('#df-ccee69f8-7417-46a5-ae6c-f8563f76698d button.colab-df-convert');\n",
              "        buttonEl.style.display =\n",
              "          google.colab.kernel.accessAllowed ? 'block' : 'none';\n",
              "\n",
              "        async function convertToInteractive(key) {\n",
              "          const element = document.querySelector('#df-ccee69f8-7417-46a5-ae6c-f8563f76698d');\n",
              "          const dataTable =\n",
              "            await google.colab.kernel.invokeFunction('convertToInteractive',\n",
              "                                                     [key], {});\n",
              "          if (!dataTable) return;\n",
              "\n",
              "          const docLinkHtml = 'Like what you see? Visit the ' +\n",
              "            '<a target=\"_blank\" href=https://colab.research.google.com/notebooks/data_table.ipynb>data table notebook</a>'\n",
              "            + ' to learn more about interactive tables.';\n",
              "          element.innerHTML = '';\n",
              "          dataTable['output_type'] = 'display_data';\n",
              "          await google.colab.output.renderOutput(dataTable, element);\n",
              "          const docLink = document.createElement('div');\n",
              "          docLink.innerHTML = docLinkHtml;\n",
              "          element.appendChild(docLink);\n",
              "        }\n",
              "      </script>\n",
              "    </div>\n",
              "  </div>\n",
              "  "
            ]
          },
          "metadata": {},
          "execution_count": 2
        }
      ]
    },
    {
      "cell_type": "code",
      "source": [
        "df_1.describe()"
      ],
      "metadata": {
        "colab": {
          "base_uri": "https://localhost:8080/",
          "height": 300
        },
        "id": "KQwtA3dUVRKr",
        "outputId": "a5605914-e88b-4fa9-c084-01b0331d45d8"
      },
      "execution_count": 3,
      "outputs": [
        {
          "output_type": "execute_result",
          "data": {
            "text/plain": [
              "            PhraseId     SentenceId      Sentiment\n",
              "count  156060.000000  156060.000000  156060.000000\n",
              "mean    78030.500000    4079.732744       2.063578\n",
              "std     45050.785842    2502.764394       0.893832\n",
              "min         1.000000       1.000000       0.000000\n",
              "25%     39015.750000    1861.750000       2.000000\n",
              "50%     78030.500000    4017.000000       2.000000\n",
              "75%    117045.250000    6244.000000       3.000000\n",
              "max    156060.000000    8544.000000       4.000000"
            ],
            "text/html": [
              "\n",
              "  <div id=\"df-ab78bd7a-5c95-43c1-8b20-62f37ca0360f\">\n",
              "    <div class=\"colab-df-container\">\n",
              "      <div>\n",
              "<style scoped>\n",
              "    .dataframe tbody tr th:only-of-type {\n",
              "        vertical-align: middle;\n",
              "    }\n",
              "\n",
              "    .dataframe tbody tr th {\n",
              "        vertical-align: top;\n",
              "    }\n",
              "\n",
              "    .dataframe thead th {\n",
              "        text-align: right;\n",
              "    }\n",
              "</style>\n",
              "<table border=\"1\" class=\"dataframe\">\n",
              "  <thead>\n",
              "    <tr style=\"text-align: right;\">\n",
              "      <th></th>\n",
              "      <th>PhraseId</th>\n",
              "      <th>SentenceId</th>\n",
              "      <th>Sentiment</th>\n",
              "    </tr>\n",
              "  </thead>\n",
              "  <tbody>\n",
              "    <tr>\n",
              "      <th>count</th>\n",
              "      <td>156060.000000</td>\n",
              "      <td>156060.000000</td>\n",
              "      <td>156060.000000</td>\n",
              "    </tr>\n",
              "    <tr>\n",
              "      <th>mean</th>\n",
              "      <td>78030.500000</td>\n",
              "      <td>4079.732744</td>\n",
              "      <td>2.063578</td>\n",
              "    </tr>\n",
              "    <tr>\n",
              "      <th>std</th>\n",
              "      <td>45050.785842</td>\n",
              "      <td>2502.764394</td>\n",
              "      <td>0.893832</td>\n",
              "    </tr>\n",
              "    <tr>\n",
              "      <th>min</th>\n",
              "      <td>1.000000</td>\n",
              "      <td>1.000000</td>\n",
              "      <td>0.000000</td>\n",
              "    </tr>\n",
              "    <tr>\n",
              "      <th>25%</th>\n",
              "      <td>39015.750000</td>\n",
              "      <td>1861.750000</td>\n",
              "      <td>2.000000</td>\n",
              "    </tr>\n",
              "    <tr>\n",
              "      <th>50%</th>\n",
              "      <td>78030.500000</td>\n",
              "      <td>4017.000000</td>\n",
              "      <td>2.000000</td>\n",
              "    </tr>\n",
              "    <tr>\n",
              "      <th>75%</th>\n",
              "      <td>117045.250000</td>\n",
              "      <td>6244.000000</td>\n",
              "      <td>3.000000</td>\n",
              "    </tr>\n",
              "    <tr>\n",
              "      <th>max</th>\n",
              "      <td>156060.000000</td>\n",
              "      <td>8544.000000</td>\n",
              "      <td>4.000000</td>\n",
              "    </tr>\n",
              "  </tbody>\n",
              "</table>\n",
              "</div>\n",
              "      <button class=\"colab-df-convert\" onclick=\"convertToInteractive('df-ab78bd7a-5c95-43c1-8b20-62f37ca0360f')\"\n",
              "              title=\"Convert this dataframe to an interactive table.\"\n",
              "              style=\"display:none;\">\n",
              "        \n",
              "  <svg xmlns=\"http://www.w3.org/2000/svg\" height=\"24px\"viewBox=\"0 0 24 24\"\n",
              "       width=\"24px\">\n",
              "    <path d=\"M0 0h24v24H0V0z\" fill=\"none\"/>\n",
              "    <path d=\"M18.56 5.44l.94 2.06.94-2.06 2.06-.94-2.06-.94-.94-2.06-.94 2.06-2.06.94zm-11 1L8.5 8.5l.94-2.06 2.06-.94-2.06-.94L8.5 2.5l-.94 2.06-2.06.94zm10 10l.94 2.06.94-2.06 2.06-.94-2.06-.94-.94-2.06-.94 2.06-2.06.94z\"/><path d=\"M17.41 7.96l-1.37-1.37c-.4-.4-.92-.59-1.43-.59-.52 0-1.04.2-1.43.59L10.3 9.45l-7.72 7.72c-.78.78-.78 2.05 0 2.83L4 21.41c.39.39.9.59 1.41.59.51 0 1.02-.2 1.41-.59l7.78-7.78 2.81-2.81c.8-.78.8-2.07 0-2.86zM5.41 20L4 18.59l7.72-7.72 1.47 1.35L5.41 20z\"/>\n",
              "  </svg>\n",
              "      </button>\n",
              "      \n",
              "  <style>\n",
              "    .colab-df-container {\n",
              "      display:flex;\n",
              "      flex-wrap:wrap;\n",
              "      gap: 12px;\n",
              "    }\n",
              "\n",
              "    .colab-df-convert {\n",
              "      background-color: #E8F0FE;\n",
              "      border: none;\n",
              "      border-radius: 50%;\n",
              "      cursor: pointer;\n",
              "      display: none;\n",
              "      fill: #1967D2;\n",
              "      height: 32px;\n",
              "      padding: 0 0 0 0;\n",
              "      width: 32px;\n",
              "    }\n",
              "\n",
              "    .colab-df-convert:hover {\n",
              "      background-color: #E2EBFA;\n",
              "      box-shadow: 0px 1px 2px rgba(60, 64, 67, 0.3), 0px 1px 3px 1px rgba(60, 64, 67, 0.15);\n",
              "      fill: #174EA6;\n",
              "    }\n",
              "\n",
              "    [theme=dark] .colab-df-convert {\n",
              "      background-color: #3B4455;\n",
              "      fill: #D2E3FC;\n",
              "    }\n",
              "\n",
              "    [theme=dark] .colab-df-convert:hover {\n",
              "      background-color: #434B5C;\n",
              "      box-shadow: 0px 1px 3px 1px rgba(0, 0, 0, 0.15);\n",
              "      filter: drop-shadow(0px 1px 2px rgba(0, 0, 0, 0.3));\n",
              "      fill: #FFFFFF;\n",
              "    }\n",
              "  </style>\n",
              "\n",
              "      <script>\n",
              "        const buttonEl =\n",
              "          document.querySelector('#df-ab78bd7a-5c95-43c1-8b20-62f37ca0360f button.colab-df-convert');\n",
              "        buttonEl.style.display =\n",
              "          google.colab.kernel.accessAllowed ? 'block' : 'none';\n",
              "\n",
              "        async function convertToInteractive(key) {\n",
              "          const element = document.querySelector('#df-ab78bd7a-5c95-43c1-8b20-62f37ca0360f');\n",
              "          const dataTable =\n",
              "            await google.colab.kernel.invokeFunction('convertToInteractive',\n",
              "                                                     [key], {});\n",
              "          if (!dataTable) return;\n",
              "\n",
              "          const docLinkHtml = 'Like what you see? Visit the ' +\n",
              "            '<a target=\"_blank\" href=https://colab.research.google.com/notebooks/data_table.ipynb>data table notebook</a>'\n",
              "            + ' to learn more about interactive tables.';\n",
              "          element.innerHTML = '';\n",
              "          dataTable['output_type'] = 'display_data';\n",
              "          await google.colab.output.renderOutput(dataTable, element);\n",
              "          const docLink = document.createElement('div');\n",
              "          docLink.innerHTML = docLinkHtml;\n",
              "          element.appendChild(docLink);\n",
              "        }\n",
              "      </script>\n",
              "    </div>\n",
              "  </div>\n",
              "  "
            ]
          },
          "metadata": {},
          "execution_count": 3
        }
      ]
    },
    {
      "cell_type": "code",
      "source": [
        "df_1.info()"
      ],
      "metadata": {
        "colab": {
          "base_uri": "https://localhost:8080/"
        },
        "id": "fA0wC1TGGAQE",
        "outputId": "b47d398d-4c88-4493-df65-303773733f24"
      },
      "execution_count": 4,
      "outputs": [
        {
          "output_type": "stream",
          "name": "stdout",
          "text": [
            "<class 'pandas.core.frame.DataFrame'>\n",
            "RangeIndex: 156060 entries, 0 to 156059\n",
            "Data columns (total 4 columns):\n",
            " #   Column      Non-Null Count   Dtype \n",
            "---  ------      --------------   ----- \n",
            " 0   PhraseId    156060 non-null  int64 \n",
            " 1   SentenceId  156060 non-null  int64 \n",
            " 2   Phrase      156060 non-null  object\n",
            " 3   Sentiment   156060 non-null  int64 \n",
            "dtypes: int64(3), object(1)\n",
            "memory usage: 4.8+ MB\n"
          ]
        }
      ]
    },
    {
      "cell_type": "code",
      "source": [
        "df_1.shape"
      ],
      "metadata": {
        "id": "L87HTpNfGtCS",
        "colab": {
          "base_uri": "https://localhost:8080/"
        },
        "outputId": "3066014e-53e3-4564-f230-6782d21ce0a6"
      },
      "execution_count": 5,
      "outputs": [
        {
          "output_type": "execute_result",
          "data": {
            "text/plain": [
              "(156060, 4)"
            ]
          },
          "metadata": {},
          "execution_count": 5
        }
      ]
    },
    {
      "cell_type": "code",
      "source": [
        "df_1['Sentiment'].value_counts()"
      ],
      "metadata": {
        "colab": {
          "base_uri": "https://localhost:8080/"
        },
        "id": "BAyqllXpSz27",
        "outputId": "76bb406a-c30f-411b-80b2-5bcc0fb100b9"
      },
      "execution_count": 6,
      "outputs": [
        {
          "output_type": "execute_result",
          "data": {
            "text/plain": [
              "2    79582\n",
              "3    32927\n",
              "1    27273\n",
              "4     9206\n",
              "0     7072\n",
              "Name: Sentiment, dtype: int64"
            ]
          },
          "metadata": {},
          "execution_count": 6
        }
      ]
    },
    {
      "cell_type": "code",
      "source": [
        "df_1.hist(column='Sentiment')"
      ],
      "metadata": {
        "colab": {
          "base_uri": "https://localhost:8080/",
          "height": 317
        },
        "id": "37fHBYETTIuh",
        "outputId": "6eb88882-b6ab-46d5-fe03-4a9ffca34141"
      },
      "execution_count": 7,
      "outputs": [
        {
          "output_type": "execute_result",
          "data": {
            "text/plain": [
              "array([[<matplotlib.axes._subplots.AxesSubplot object at 0x7fe5299e1550>]],\n",
              "      dtype=object)"
            ]
          },
          "metadata": {},
          "execution_count": 7
        },
        {
          "output_type": "display_data",
          "data": {
            "text/plain": [
              "<Figure size 432x288 with 1 Axes>"
            ],
            "image/png": "[encoded data removed]"
          },
          "metadata": {
            "needs_background": "light"
          }
        }
      ]
    },
    {
      "cell_type": "code",
      "source": [
        "import re\n",
        "from nltk.corpus import stopwords\n",
        "#from nltk.stem import WordNetLemmatizer\n",
        "from nltk.tokenize import RegexpTokenizer\n",
        "#from nltk.sentiment.vader import SentimentIntensityAnalyzer\n",
        "from textblob import TextBlob\n",
        "#from scipy.sparse import hstack, csr_matrix\n",
        "from sklearn.feature_extraction.text import TfidfVectorizer\n",
        "#from sklearn.preprocessing import MinMaxScaler\n",
        "from sklearn.feature_extraction.text import CountVectorizer\n",
        "from nltk.tokenize import RegexpTokenizer"
      ],
      "metadata": {
        "id": "3cTn0mLcWNwR"
      },
      "execution_count": 8,
      "outputs": []
    },
    {
      "cell_type": "code",
      "source": [
        "tokens = RegexpTokenizer(r'[a-zA-Z0-9]+')"
      ],
      "metadata": {
        "id": "0dKwzqEVTlw1"
      },
      "execution_count": 9,
      "outputs": []
    },
    {
      "cell_type": "code",
      "source": [
        "count_v = CountVectorizer(lowercase=True,stop_words='english',ngram_range = (1,1),tokenizer = tokens.tokenize)\n",
        "text_counts= count_v.fit_transform(df_1['Phrase'])\n",
        "count_v"
      ],
      "metadata": {
        "colab": {
          "base_uri": "https://localhost:8080/"
        },
        "id": "ko_wOa52WxsT",
        "outputId": "9adf0bb3-6d2f-4f3c-eb8a-10c933639b3a"
      },
      "execution_count": 10,
      "outputs": [
        {
          "output_type": "execute_result",
          "data": {
            "text/plain": [
              "CountVectorizer(stop_words='english',\n",
              "                tokenizer=<bound method RegexpTokenizer.tokenize of RegexpTokenizer(pattern='[a-zA-Z0-9]+', gaps=False, discard_empty=True, flags=<RegexFlag.UNICODE|DOTALL|MULTILINE: 56>)>)"
            ]
          },
          "metadata": {},
          "execution_count": 10
        }
      ]
    },
    {
      "cell_type": "code",
      "source": [
        "from sklearn.model_selection import train_test_split"
      ],
      "metadata": {
        "id": "CEWFzLAbYpRY"
      },
      "execution_count": 11,
      "outputs": []
    },
    {
      "cell_type": "code",
      "source": [
        "x_train, x_test, y_train, y_test = train_test_split(text_counts, df_1['Sentiment'], test_size=0.3, random_state=42)"
      ],
      "metadata": {
        "id": "X7xOemLqYKrT"
      },
      "execution_count": 12,
      "outputs": []
    },
    {
      "cell_type": "code",
      "source": [
        "from sklearn.linear_model import LogisticRegression, SGDClassifier\n",
        "from sklearn.naive_bayes import MultinomialNB\n",
        "from sklearn.metrics import classification_report, confusion_matrix\n",
        "from sklearn.pipeline import Pipeline\n",
        "from sklearn import metrics"
      ],
      "metadata": {
        "id": "NI44h78oYqAk"
      },
      "execution_count": 13,
      "outputs": []
    },
    {
      "cell_type": "code",
      "source": [
        "clf = MultinomialNB().fit(x_train, y_train)"
      ],
      "metadata": {
        "id": "mX6rezloY8dg"
      },
      "execution_count": 14,
      "outputs": []
    },
    {
      "cell_type": "code",
      "source": [
        "predicted_result= clf.predict(x_test)\n",
        "print(\"MultinomialNB Accuracy:\",metrics.accuracy_score(y_test, predicted_result))"
      ],
      "metadata": {
        "colab": {
          "base_uri": "https://localhost:8080/"
        },
        "id": "PjxEjCjBZKy7",
        "outputId": "1a1f284d-afd7-4c68-93f3-6e62ac3c6918"
      },
      "execution_count": 15,
      "outputs": [
        {
          "output_type": "stream",
          "name": "stdout",
          "text": [
            "MultinomialNB Accuracy: 0.6064975009611688\n"
          ]
        }
      ]
    },
    {
      "cell_type": "code",
      "source": [
        "tf=TfidfVectorizer()\n",
        "\n",
        "text_tf= tf.fit_transform(df_1['Phrase'])"
      ],
      "metadata": {
        "id": "y28qLhPJZQ4f"
      },
      "execution_count": 16,
      "outputs": []
    },
    {
      "cell_type": "code",
      "source": [
        "x_train, x_test, y_train, y_test = train_test_split(text_tf, df_1['Sentiment'], test_size=0.3, random_state=42)"
      ],
      "metadata": {
        "id": "YBAboO5taafM"
      },
      "execution_count": 17,
      "outputs": []
    },
    {
      "cell_type": "code",
      "source": [
        "clf = MultinomialNB().fit(x_train, y_train)\n",
        "predicted= clf.predict(x_test)\n",
        "print(\"MultinomialNB Accuracy:\",metrics.accuracy_score(y_test, predicted))"
      ],
      "metadata": {
        "colab": {
          "base_uri": "https://localhost:8080/"
        },
        "id": "hxq16T8oai8T",
        "outputId": "153713f2-ec27-4253-ee26-dd861bc1ba2a"
      },
      "execution_count": 19,
      "outputs": [
        {
          "output_type": "stream",
          "name": "stdout",
          "text": [
            "MultinomialNB Accuracy: 0.5815284719552309\n"
          ]
        }
      ]
    },
    {
      "cell_type": "markdown",
      "source": [
        "Exercise 2\n",
        "1. Create an account with AWS.\n",
        "2. Navigate to Amazon Comprehend. Check the documentation under the ‘DATA\n",
        "690 Resources’.\n",
        "3. Use the ‘Digital_Press_Sentiment.txt’ file to measure sentiment.\n",
        "4. What are the entities and key phrases?"
      ],
      "metadata": {
        "id": "1scIgN7ot2iw"
      }
    },
    {
      "cell_type": "markdown",
      "source": [
        "The sentiment of the text is as follows:\n",
        "\n",
        "\n",
        "{\"File\": \"digital_press_sentiment.txt\", \"Line\": 2, \"Sentiment\": \"NEUTRAL\", \"SentimentScore\": {\"Mixed\": 0.01050309557467699, \"Negative\": 0.13323000073432922, \"Neutral\": 0.8370556831359863, \"Positive\": 0.019211260601878166}}\n",
        "\n",
        "{\"File\": \"digital_press_sentiment.txt\", \"Line\": 0, \"Sentiment\": \"NEUTRAL\", \"SentimentScore\": {\"Mixed\": 0.03750487044453621, \"Negative\": 0.45717084407806396, \"Neutral\": 0.4963161051273346, \"Positive\": 0.009008055552840233}}\n",
        "\n",
        "{\"File\": \"digital_press_sentiment.txt\", \"Line\": 4, \"Sentiment\": \"NEUTRAL\", \"SentimentScore\": {\"Mixed\": 0.0028448267839848995, \"Negative\": 0.23049569129943848, \"Neutral\": 0.7550657391548157, \"Positive\": 0.011593766510486603}}\n",
        "\n",
        "{\"File\": \"digital_press_sentiment.txt\", \"Line\": 3, \"Sentiment\": \"NEUTRAL\", \"SentimentScore\": {\"Mixed\": 0.007208747789263725, \"Negative\": 0.04181428998708725, \"Neutral\": 0.92505943775177, \"Positive\": 0.025917595252394676}}\n",
        "\n",
        "{\"File\": \"digital_press_sentiment.txt\", \"Line\": 1, \"Sentiment\": \"POSITIVE\", \"SentimentScore\": {\"Mixed\": 0.043566156178712845, \"Negative\": 0.03873129561543465, \"Neutral\": 0.40551385283470154, \"Positive\": 0.5121886730194092}}\n",
        "\n",
        "{\"File\": \"digital_press_sentiment.txt\", \"Line\": 5, \"Sentiment\": \"NEUTRAL\", \"SentimentScore\": {\"Mixed\": 0.009337893687188625, \"Negative\": 0.4201979637145996, \"Neutral\": 0.5601200461387634, \"Positive\": 0.010344035923480988}}"
      ],
      "metadata": {
        "id": "Ick3YL-IuU0q"
      }
    },
    {
      "cell_type": "markdown",
      "source": [
        "- From the above sentiment analysis result we can see that using AWS comprehend we get line wise sentiment of the input text.\n",
        "- Analysing the sentiment of each line we can see that the overall text is neutral."
      ],
      "metadata": {
        "id": "X7R7G4-yvZKr"
      }
    },
    {
      "cell_type": "markdown",
      "source": [
        "The entities output is as follows:\n",
        "\n",
        "\n",
        "{\"Entities\": [{\"BeginOffset\": 4, \"EndOffset\": 18, \"Score\": 0.7068233365613917, \"Text\": \"United Kingdom\", \"Type\": \"ORGANIZATION\"}, {\"BeginOffset\": 28, \"EndOffset\": 31, \"Score\": 0.9786273835246497, \"Text\": \"one\", \"Type\": \"QUANTITY\"}, {\"BeginOffset\": 39, \"EndOffset\": 55, \"Score\": 0.6154102640749735, \"Text\": \"worst recessions\", \"Type\": \"QUANTITY\"}, {\"BeginOffset\": 78, \"EndOffset\": 87, \"Score\": 0.9982999912078382, \"Text\": \"last year\", \"Type\": \"DATE\"}, {\"BeginOffset\": 89, \"EndOffset\": 96, \"Score\": 0.8839851444595728, \"Text\": \"Germany\", \"Type\": \"ORGANIZATION\"}, {\"BeginOffset\": 133, \"EndOffset\": 141, \"Score\": 0.9706624988508165, \"Text\": \"pandemic\", \"Type\": \"EVENT\"}, {\"BeginOffset\": 165, \"EndOffset\": 188, \"Score\": 0.8739415544220246, \"Text\": \"global financial crisis\", \"Type\": \"EVENT\"}, {\"BeginOffset\": 220, \"EndOffset\": 226, \"Score\": 0.8974571235160999, \"Text\": \"Europe\", \"Type\": \"ORGANIZATION\"}, {\"BeginOffset\": 259, \"EndOffset\": 261, \"Score\": 0.9961087927707357, \"Text\": \"5%\", \"Type\": \"QUANTITY\"}, {\"BeginOffset\": 262, \"EndOffset\": 271, \"Score\": 0.9954193088114317, \"Text\": \"last year\", \"Type\": \"DATE\"}, {\"BeginOffset\": 273, \"EndOffset\": 275, \"Score\": 0.9903052035025196, \"Text\": \"EU\", \"Type\": \"ORGANIZATION\"}, {\"BeginOffset\": 319, \"EndOffset\": 323, \"Score\": 0.998907478494082, \"Text\": \"6.4%\", \"Type\": \"QUANTITY\"}, {\"BeginOffset\": 338, \"EndOffset\": 346, \"Score\": 0.998289654419616, \"Text\": \"Eurostat\", \"Type\": \"ORGANIZATION\"}], \"File\": \"digital_press_sentiment.txt\", \"Line\": 0}\n",
        "{\"Entities\": [{\"BeginOffset\": 4, \"EndOffset\": 17, \"Score\": 0.9489941060668154, \"Text\": \"United States\", \"Type\": \"ORGANIZATION\"}, {\"BeginOffset\": 56, \"EndOffset\": 59, \"Score\": 0.832075142938795, \"Text\": \"GDP\", \"Type\": \"OTHER\"}, {\"BeginOffset\": 74, \"EndOffset\": 78, \"Score\": 0.9985064641358451, \"Text\": \"3.5%\", \"Type\": \"QUANTITY\"}, {\"BeginOffset\": 88, \"EndOffset\": 98, \"Score\": 0.8452196575740594, \"Text\": \"prior year\", \"Type\": \"DATE\"}], \"File\": \"digital_press_sentiment.txt\", \"Line\": 1}\n",
        "{\"Entities\": [{\"BeginOffset\": 1, \"EndOffset\": 6, \"Score\": 0.9801134800752463, \"Text\": \"Today\", \"Type\": \"DATE\"}, {\"BeginOffset\": 90, \"EndOffset\": 98, \"Score\": 0.6537684914029626, \"Text\": \"pandemic\", \"Type\": \"EVENT\"}, {\"BeginOffset\": 152, \"EndOffset\": 154, \"Score\": 0.929395952869375, \"Text\": \"UK\", \"Type\": \"ORGANIZATION\"}, {\"BeginOffset\": 155, \"EndOffset\": 171, \"Score\": 0.9279799161895936, \"Text\": \"finance minister\", \"Type\": \"PERSON\"}, {\"BeginOffset\": 172, \"EndOffset\": 183, \"Score\": 0.9970079770171625, \"Text\": \"Rishi Sunak\", \"Type\": \"PERSON\"}, {\"BeginOffset\": 222, \"EndOffset\": 241, \"Score\": 0.6458326841289342, \"Text\": \"some positive signs\", \"Type\": \"QUANTITY\"}, {\"BeginOffset\": 363, \"EndOffset\": 374, \"Score\": 0.8545631252772576, \"Text\": \"many people\", \"Type\": \"QUANTITY\"}], \"File\": \"digital_press_sentiment.txt\", \"Line\": 2}\n",
        "{\"Entities\": [{\"BeginOffset\": 33, \"EndOffset\": 47, \"Score\": 0.9990364874624014, \"Text\": \"United Kingdom\", \"Type\": \"LOCATION\"}, {\"BeginOffset\": 60, \"EndOffset\": 69, \"Score\": 0.9993896102941885, \"Text\": \"January 5\", \"Type\": \"DATE\"}, {\"BeginOffset\": 114, \"EndOffset\": 135, \"Score\": 0.9932706818298713, \"Text\": \"first quarter of 2021\", \"Type\": \"DATE\"}, {\"BeginOffset\": 175, \"EndOffset\": 197, \"Score\": 0.9903546529315606, \"Text\": \"fourth quarter of 2020\", \"Type\": \"DATE\"}], \"File\": \"digital_press_sentiment.txt\", \"Line\": 3}\n",
        "{\"Entities\": [{\"BeginOffset\": 17, \"EndOffset\": 27, \"Score\": 0.8721445998672165, \"Text\": \"double dip\", \"Type\": \"QUANTITY\"}, {\"BeginOffset\": 90, \"EndOffset\": 99, \"Score\": 0.9996725408372323, \"Text\": \"Sam Miley\", \"Type\": \"PERSON\"}, {\"BeginOffset\": 121, \"EndOffset\": 127, \"Score\": 0.9876439254421928, \"Text\": \"London\", \"Type\": \"LOCATION\"}, {\"BeginOffset\": 134, \"EndOffset\": 176, \"Score\": 0.9823558391291516, \"Text\": \"Centre for Economics and Business Research\", \"Type\": \"ORGANIZATION\"}, {\"BeginOffset\": 195, \"EndOffset\": 201, \"Score\": 0.9992315717856975, \"Text\": \"Friday\", \"Type\": \"DATE\"}], \"File\": \"digital_press_sentiment.txt\", \"Line\": 4}\n",
        "{\"Entities\": [{\"BeginOffset\": 14, \"EndOffset\": 16, \"Score\": 0.6623356453836039, \"Text\": \"EU\", \"Type\": \"ORGANIZATION\"}, {\"BeginOffset\": 17, \"EndOffset\": 19, \"Score\": 0.5336123960639858, \"Text\": \"UK\", \"Type\": \"LOCATION\"}, {\"BeginOffset\": 51, \"EndOffset\": 57, \"Score\": 0.9829043522916916, \"Text\": \"Brexit\", \"Type\": \"EVENT\"}, {\"BeginOffset\": 79, \"EndOffset\": 90, \"Score\": 0.9986682567473393, \"Text\": \"December 31\", \"Type\": \"DATE\"}], \"File\": \"digital_press_sentiment.txt\", \"Line\": 5}\n"
      ],
      "metadata": {
        "id": "svf5cwLwuUoM"
      }
    },
    {
      "cell_type": "markdown",
      "source": [
        "The key phrases are:\n",
        "\n",
        "\n",
        "{\"File\": \"digital_press_sentiment.txt\", \"KeyPhrases\": [{\"BeginOffset\": 0, \"EndOffset\": 18, \"Score\": 0.9998196547281963, \"Text\": \"The United Kingdom\"}, {\"BeginOffset\": 35, \"EndOffset\": 55, \"Score\": 0.9999647153925229, \"Text\": \"the worst recessions\"}, {\"BeginOffset\": 62, \"EndOffset\": 77, \"Score\": 0.9999758607340028, \"Text\": \"major economies\"}, {\"BeginOffset\": 78, \"EndOffset\": 87, \"Score\": 0.9999164412789849, \"Text\": \"last year\"}, {\"BeginOffset\": 89, \"EndOffset\": 96, \"Score\": 0.9999361079065316, \"Text\": \"Germany\"}, {\"BeginOffset\": 129, \"EndOffset\": 141, \"Score\": 0.9966300903765473, \"Text\": \"the pandemic\"}, {\"BeginOffset\": 161, \"EndOffset\": 188, \"Score\": 0.9999770528198643, \"Text\": \"the global financial crisis\"}, {\"BeginOffset\": 190, \"EndOffset\": 211, \"Score\": 0.9999408161872623, \"Text\": \"Provisional estimates\"}, {\"BeginOffset\": 220, \"EndOffset\": 226, \"Score\": 0.9999836685934766, \"Text\": \"Europe\"}, {\"BeginOffset\": 229, \"EndOffset\": 244, \"Score\": 0.9998729816952487, \"Text\": \"biggest economy\"}, {\"BeginOffset\": 259, \"EndOffset\": 261, \"Score\": 0.9994872507183857, \"Text\": \"5%\"}, {\"BeginOffset\": 262, \"EndOffset\": 271, \"Score\": 0.9993769378083631, \"Text\": \"last year\"}, {\"BeginOffset\": 273, \"EndOffset\": 279, \"Score\": 0.9993331755761514, \"Text\": \"EU GDP\"}, {\"BeginOffset\": 319, \"EndOffset\": 323, \"Score\": 0.9997556212377327, \"Text\": \"6.4%\"}, {\"BeginOffset\": 338, \"EndOffset\": 346, \"Score\": 0.9997989343575443, \"Text\": \"Eurostat\"}], \"Line\": 0}\n",
        "{\"File\": \"digital_press_sentiment.txt\", \"KeyPhrases\": [{\"BeginOffset\": 0, \"EndOffset\": 17, \"Score\": 0.9999437779025674, \"Text\": \"The United States\"}, {\"BeginOffset\": 39, \"EndOffset\": 49, \"Score\": 0.9999141766761902, \"Text\": \"comparison\"}, {\"BeginOffset\": 56, \"EndOffset\": 59, \"Score\": 0.9986666361383904, \"Text\": \"GDP\"}, {\"BeginOffset\": 74, \"EndOffset\": 78, \"Score\": 0.9997782630034663, \"Text\": \"3.5%\"}, {\"BeginOffset\": 84, \"EndOffset\": 98, \"Score\": 0.9999418705429424, \"Text\": \"the prior year\"}], \"Line\": 1}\n",
        "{\"File\": \"digital_press_sentiment.txt\", \"KeyPhrases\": [{\"BeginOffset\": 1, \"EndOffset\": 6, \"Score\": 0.9997196983330024, \"Text\": \"Today\"}, {\"BeginOffset\": 9, \"EndOffset\": 16, \"Score\": 0.999783158725524, \"Text\": \"figures\"}, {\"BeginOffset\": 27, \"EndOffset\": 38, \"Score\": 0.9999904633477849, \"Text\": \"the economy\"}, {\"BeginOffset\": 55, \"EndOffset\": 70, \"Score\": 0.9999776288924644, \"Text\": \"a serious shock\"}, {\"BeginOffset\": 74, \"EndOffset\": 82, \"Score\": 0.9999844434296811, \"Text\": \"a result\"}, {\"BeginOffset\": 86, \"EndOffset\": 98, \"Score\": 0.9998743706686344, \"Text\": \"the pandemic\"}, {\"BeginOffset\": 123, \"EndOffset\": 132, \"Score\": 0.9999940395710211, \"Text\": \"countries\"}, {\"BeginOffset\": 140, \"EndOffset\": 149, \"Score\": 0.9996540392356305, \"Text\": \"the world\"}, {\"BeginOffset\": 152, \"EndOffset\": 183, \"Score\": 0.9996630882805502, \"Text\": \"UK finance minister Rishi Sunak\"}, {\"BeginOffset\": 192, \"EndOffset\": 203, \"Score\": 0.9999756223421253, \"Text\": \"a statement\"}, {\"BeginOffset\": 222, \"EndOffset\": 241, \"Score\": 0.999858523118252, \"Text\": \"some positive signs\"}, {\"BeginOffset\": 245, \"EndOffset\": 256, \"Score\": 0.9999915958208745, \"Text\": \"the economy\"}, {\"BeginOffset\": 259, \"EndOffset\": 269, \"Score\": 0.9998340341521854, \"Text\": \"resilience\"}, {\"BeginOffset\": 275, \"EndOffset\": 285, \"Score\": 0.9999786024825074, \"Text\": \"the winter\"}, {\"BeginOffset\": 300, \"EndOffset\": 320, \"Score\": 0.9999895097012077, \"Text\": \"the current lockdown\"}, {\"BeginOffset\": 339, \"EndOffset\": 359, \"Score\": 0.9999740529190574, \"Text\": \"a significant impact\"}, {\"BeginOffset\": 363, \"EndOffset\": 389, \"Score\": 0.9994578835969689, \"Text\": \"many people and businesses\"}], \"Line\": 2}\n",
        "{\"File\": \"digital_press_sentiment.txt\", \"KeyPhrases\": [{\"BeginOffset\": 0, \"EndOffset\": 25, \"Score\": 0.9999805991093833, \"Text\": \"The new national lockdown\"}, {\"BeginOffset\": 29, \"EndOffset\": 47, \"Score\": 0.9999855361532763, \"Text\": \"the United Kingdom\"}, {\"BeginOffset\": 60, \"EndOffset\": 69, \"Score\": 0.9998937369093227, \"Text\": \"January 5\"}, {\"BeginOffset\": 90, \"EndOffset\": 101, \"Score\": 0.9999859931061649, \"Text\": \"the economy\"}, {\"BeginOffset\": 110, \"EndOffset\": 127, \"Score\": 0.9999882778940519, \"Text\": \"the first quarter\"}, {\"BeginOffset\": 131, \"EndOffset\": 135, \"Score\": 0.9999858142961154, \"Text\": \"2021\"}, {\"BeginOffset\": 147, \"EndOffset\": 157, \"Score\": 0.9998838467087379, \"Text\": \"the return\"}, {\"BeginOffset\": 161, \"EndOffset\": 167, \"Score\": 0.9997528210462462, \"Text\": \"growth\"}, {\"BeginOffset\": 171, \"EndOffset\": 189, \"Score\": 0.9999889533947551, \"Text\": \"the fourth quarter\"}, {\"BeginOffset\": 193, \"EndOffset\": 197, \"Score\": 0.9999927282861518, \"Text\": \"2020\"}], \"Line\": 3}\n",
        "{\"File\": \"digital_press_sentiment.txt\", \"KeyPhrases\": [{\"BeginOffset\": 15, \"EndOffset\": 39, \"Score\": 0.9778227255168761, \"Text\": \"a double dip [recession]\"}, {\"BeginOffset\": 90, \"EndOffset\": 99, \"Score\": 0.9998250911346096, \"Text\": \"Sam Miley\"}, {\"BeginOffset\": 101, \"EndOffset\": 113, \"Score\": 0.9998977886132547, \"Text\": \"an economist\"}, {\"BeginOffset\": 117, \"EndOffset\": 140, \"Score\": 0.9999647392403305, \"Text\": \"the London-based Centre\"}, {\"BeginOffset\": 145, \"EndOffset\": 176, \"Score\": 0.9831502951257123, \"Text\": \"Economics and Business Research\"}, {\"BeginOffset\": 185, \"EndOffset\": 191, \"Score\": 0.9999704968122731, \"Text\": \"a note\"}, {\"BeginOffset\": 195, \"EndOffset\": 201, \"Score\": 0.9999576824925632, \"Text\": \"Friday\"}], \"Line\": 4}\n",
        "{\"File\": \"digital_press_sentiment.txt\", \"KeyPhrases\": [{\"BeginOffset\": 0, \"EndOffset\": 10, \"Score\": 0.9996690653472826, \"Text\": \"Disruption\"}, {\"BeginOffset\": 14, \"EndOffset\": 25, \"Score\": 0.9996132128772258, \"Text\": \"EU-UK trade\"}, {\"BeginOffset\": 36, \"EndOffset\": 43, \"Score\": 0.9999850394947732, \"Text\": \"the end\"}, {\"BeginOffset\": 47, \"EndOffset\": 75, \"Score\": 0.9999294651457875, \"Text\": \"the Brexit transition period\"}, {\"BeginOffset\": 79, \"EndOffset\": 90, \"Score\": 0.9999163250098102, \"Text\": \"December 31\"}, {\"BeginOffset\": 111, \"EndOffset\": 119, \"Score\": 0.9999945164027223, \"Text\": \"activity\"}], \"Line\": 5}"
      ],
      "metadata": {
        "id": "UDIBtPL4uUa4"
      }
    },
    {
      "cell_type": "markdown",
      "source": [
        "Exercise 3\n",
        "1. Create an account with IBM Cloud\n",
        "2. Use IBM Watson Natural Language Understanding/Text Analysis to run the same\n",
        "sentiment analysis as in Exercise 2.\n",
        "3. Is there any difference in the results? What is IBM’s philosophy in sentiment\n",
        "analysis?"
      ],
      "metadata": {
        "id": "6zZEpR8LwbR-"
      }
    },
    {
      "cell_type": "markdown",
      "source": [
        "Sentiment analysis score:\n",
        "\n",
        "![](https://raw.githubusercontent.com/ajitjadhav10/UMBC/main/DATA%20690%20NLP/Data%20files/Screen-Shot-2022-09-20-at-10.28.19-PM.jpeg)"
      ],
      "metadata": {
        "id": "r7zByp4VwiDR"
      }
    },
    {
      "cell_type": "markdown",
      "source": [
        "- Entity sentiment score:\n",
        "\n",
        "\n",
        "![](https://raw.githubusercontent.com/ajitjadhav10/UMBC/main/DATA%20690%20NLP/Data%20files/Screen-Shot-2022-09-20-at-9.58.08-PM.jpeg)"
      ],
      "metadata": {
        "id": "vruqVgRE2EBi"
      }
    },
    {
      "cell_type": "markdown",
      "source": [
        "- Keyword sentiment score:\n",
        "\n",
        "![](https://raw.githubusercontent.com/ajitjadhav10/UMBC/main/DATA%20690%20NLP/Data%20files/Screen-Shot-2022-09-20-at-9.58.55-PM.jpeg)\n",
        "\n",
        "![](https://raw.githubusercontent.com/ajitjadhav10/UMBC/main/DATA%20690%20NLP/Data%20files/Screen-Shot-2022-09-20-at-9.59.08-PM.jpeg)"
      ],
      "metadata": {
        "id": "9EEO8xGa3AmY"
      }
    },
    {
      "cell_type": "markdown",
      "source": [
        "3. Is there any difference in the results? What is IBM’s philosophy in sentiment\n",
        "analysis?\n",
        "\n",
        "- AWS Comprehend gives the sentiment line wise whereas the in IBM it gives the sentiment of the overall document.\n",
        "- In AWS Comprehend the overall sentiment of the text is 'Neutral' whereas in IBM the overall sentiment of the text is 'Negative'\n",
        "- AWS offers keyphrases whereas IBM offers keywords in its analysis"
      ],
      "metadata": {
        "id": "qXrXaobX40sl"
      }
    }
  ]
}