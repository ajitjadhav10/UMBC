{
  "nbformat": 4,
  "nbformat_minor": 0,
  "metadata": {
    "colab": {
      "provenance": [],
      "authorship_tag": "ABX9TyPNX0hA9l4+Pd0JBu5uCH6B",
      "include_colab_link": true
    },
    "kernelspec": {
      "name": "python3",
      "display_name": "Python 3"
    },
    "language_info": {
      "name": "python"
    }
  },
  "cells": [
    {
      "cell_type": "markdown",
      "metadata": {
        "id": "view-in-github",
        "colab_type": "text"
      },
      "source": [
        "<a href=\"https://colab.research.google.com/github/ajitjadhav10/UMBC/blob/main/DATA%20690%20NLP/DATA_690_NLP_HW_4_PART_2.ipynb\" target=\"_parent\"><img src=\"https://colab.research.google.com/assets/colab-badge.svg\" alt=\"Open In Colab\"/></a>"
      ]
    },
    {
      "cell_type": "markdown",
      "source": [
        "Perform the following task on the above sentences:\n",
        "\n",
        "1. Replace special characters with empty spaces. You can use regex or any other method\n",
        "2. Remove multiple empty spaces and replace them by a single space\n",
        "3. Remove any single character\n",
        "4. Convert the text to all lower case\n",
        "5. Split the text to individual words\n",
        "6. Remove stopwords\n",
        "7. Tokenize, stem, and lemmatize the text\n",
        "6. What is the overall sentiment and subjectivity of the text"
      ],
      "metadata": {
        "id": "6nk7mabcACKU"
      }
    },
    {
      "cell_type": "code",
      "execution_count": 25,
      "metadata": {
        "id": "v6crk55aUPze"
      },
      "outputs": [],
      "source": [
        "import pandas as pd"
      ]
    },
    {
      "cell_type": "code",
      "source": [
        "import nltk\n",
        "from nltk.corpus import stopwords\n",
        "nltk.download('stopwords')\n",
        "import re\n",
        "from collections import Counter\n"
      ],
      "metadata": {
        "colab": {
          "base_uri": "https://localhost:8080/"
        },
        "id": "7iT8r_wYkQp3",
        "outputId": "bcae199a-2ea6-4fa2-9115-2e35364be0bb"
      },
      "execution_count": 26,
      "outputs": [
        {
          "output_type": "stream",
          "name": "stderr",
          "text": [
            "[nltk_data] Downloading package stopwords to /root/nltk_data...\n",
            "[nltk_data]   Package stopwords is already up-to-date!\n"
          ]
        }
      ]
    },
    {
      "cell_type": "code",
      "source": [
        "my_str=\"The larger Broncos will be available with 35-inch off-road tires and will be able to drive through water nearly 3 feet, 10 inches deep. It has independent front suspension, unlike its main competitor, the Jeep Wrangler. Independent suspension, used on almost all modern passenger vehicles, generally provides a smoother ride and better on-road handling than a single solid axle. It still has a solid axle in the back though, like most pickup trucks, a design suited to hard use. Like the Wrangler, both the two- and four-door Bronco will have a removable roofs and doors. Buyers will be able to choose either a hard roof that can be removed in sections, a cloth top, or both. Unlike the Wrangler, though, the Bronco's doors will fit inside the vehicle after being removed. The Bronco will be available with a choice of either a 10-speed automatic or seven-speed manual transmission. (The manual transmission will have six gears for ordinary driving, plus a seventh for low speed off-road driving.) It will be powered by either a 270- horsepower 2.3-liter turbocharged 4-cylinder engine or a 310-horsepower 2.7-liter turbocharged V6. While all of the new Bronco SUVs are designed for hard off-road use, the Bronco Sport isn't quite as hard-core in its capabilities. It also has more convenience features than the more truck-like Bronco. While it's based on engineering that's similar to car-like crossover SUVs, Ford says that it's still intended for serious off-road use. Ford engineers boasted of the off-road testing the prototypes have been put through, including driving through deep sand, up steep inclines and crawling across boulder-strewn trails.\""
      ],
      "metadata": {
        "id": "EVDpkmlGpF1T"
      },
      "execution_count": 27,
      "outputs": []
    },
    {
      "cell_type": "code",
      "source": [
        "All_punct = '''!()-[]{};:'\"\\,<>./?@#$%^&*_~'''"
      ],
      "metadata": {
        "id": "UIJ2z4C4vzj8"
      },
      "execution_count": 28,
      "outputs": []
    },
    {
      "cell_type": "code",
      "source": [
        "#Replace special characters with empty spaces. You can use regex or any other \n",
        "\n",
        "for elements in my_str:\n",
        "  if elements in All_punct:\n",
        "    my_str = my_str.replace(elements, \" \")\n",
        "print(my_str)"
      ],
      "metadata": {
        "colab": {
          "base_uri": "https://localhost:8080/"
        },
        "id": "8p7VSObkxRmR",
        "outputId": "6e8da918-5e82-419f-96e9-8c5fec4fec59"
      },
      "execution_count": 29,
      "outputs": [
        {
          "output_type": "stream",
          "name": "stdout",
          "text": [
            "The larger Broncos will be available with 35 inch off road tires and will be able to drive through water nearly 3 feet  10 inches deep  It has independent front suspension  unlike its main competitor  the Jeep Wrangler  Independent suspension  used on almost all modern passenger vehicles  generally provides a smoother ride and better on road handling than a single solid axle  It still has a solid axle in the back though  like most pickup trucks  a design suited to hard use  Like the Wrangler  both the two  and four door Bronco will have a removable roofs and doors  Buyers will be able to choose either a hard roof that can be removed in sections  a cloth top  or both  Unlike the Wrangler  though  the Bronco s doors will fit inside the vehicle after being removed  The Bronco will be available with a choice of either a 10 speed automatic or seven speed manual transmission   The manual transmission will have six gears for ordinary driving  plus a seventh for low speed off road driving   It will be powered by either a 270  horsepower 2 3 liter turbocharged 4 cylinder engine or a 310 horsepower 2 7 liter turbocharged V6  While all of the new Bronco SUVs are designed for hard off road use  the Bronco Sport isn t quite as hard core in its capabilities  It also has more convenience features than the more truck like Bronco  While it s based on engineering that s similar to car like crossover SUVs  Ford says that it s still intended for serious off road use  Ford engineers boasted of the off road testing the prototypes have been put through  including driving through deep sand  up steep inclines and crawling across boulder strewn trails \n"
          ]
        }
      ]
    },
    {
      "cell_type": "code",
      "source": [
        "#Remove multiple empty spaces and replace them by a single space\n",
        "\n",
        "my_str_1=re.sub(' +', ' ', my_str)\n",
        "print(my_str_1)"
      ],
      "metadata": {
        "colab": {
          "base_uri": "https://localhost:8080/"
        },
        "id": "RfchApvizTtU",
        "outputId": "e0cde851-08e1-48af-9ffa-3492c4a888c3"
      },
      "execution_count": 30,
      "outputs": [
        {
          "output_type": "stream",
          "name": "stdout",
          "text": [
            "The larger Broncos will be available with 35 inch off road tires and will be able to drive through water nearly 3 feet 10 inches deep It has independent front suspension unlike its main competitor the Jeep Wrangler Independent suspension used on almost all modern passenger vehicles generally provides a smoother ride and better on road handling than a single solid axle It still has a solid axle in the back though like most pickup trucks a design suited to hard use Like the Wrangler both the two and four door Bronco will have a removable roofs and doors Buyers will be able to choose either a hard roof that can be removed in sections a cloth top or both Unlike the Wrangler though the Bronco s doors will fit inside the vehicle after being removed The Bronco will be available with a choice of either a 10 speed automatic or seven speed manual transmission The manual transmission will have six gears for ordinary driving plus a seventh for low speed off road driving It will be powered by either a 270 horsepower 2 3 liter turbocharged 4 cylinder engine or a 310 horsepower 2 7 liter turbocharged V6 While all of the new Bronco SUVs are designed for hard off road use the Bronco Sport isn t quite as hard core in its capabilities It also has more convenience features than the more truck like Bronco While it s based on engineering that s similar to car like crossover SUVs Ford says that it s still intended for serious off road use Ford engineers boasted of the off road testing the prototypes have been put through including driving through deep sand up steep inclines and crawling across boulder strewn trails \n"
          ]
        }
      ]
    },
    {
      "cell_type": "code",
      "source": [
        "#Remove any single character\n",
        "\n",
        "my_str_3=' '.join( [w for w in my_str_2.split() if len(w)>1] )"
      ],
      "metadata": {
        "id": "0VS3uLwm1aZt"
      },
      "execution_count": 32,
      "outputs": []
    },
    {
      "cell_type": "code",
      "source": [
        "print(my_str_3)"
      ],
      "metadata": {
        "colab": {
          "base_uri": "https://localhost:8080/"
        },
        "id": "IqbMlh4m3vul",
        "outputId": "a2a48c9b-e25b-432a-c4d4-bc60551e5c41"
      },
      "execution_count": 33,
      "outputs": [
        {
          "output_type": "stream",
          "name": "stdout",
          "text": [
            "The larger Broncos will be available with 35 inch off road tires and will be able to drive through water nearly feet 10 inches deep It has independent front suspension unlike its main competitor the Jeep Wrangler Independent suspension used on almost all modern passenger vehicles generally provides smoother ride and better on road handling than single solid axle It still has solid axle in the back though like most pickup trucks design suited to hard use Like the Wrangler both the two and four door Bronco will have removable roofs and doors Buyers will be able to choose either hard roof that can be removed in sections cloth top or both Unlike the Wrangler though the Bronco doors will fit inside the vehicle after being removed The Bronco will be available with choice of either 10 speed automatic or seven speed manual transmission The manual transmission will have six gears for ordinary driving plus seventh for low speed off road driving It will be powered by either 270 horsepower liter turbocharged cylinder engine or 310 horsepower liter turbocharged V6 While all of the new Bronco SUVs are designed for hard off road use the Bronco Sport isn quite as hard core in its capabilities It also has more convenience features than the more truck like Bronco While it based on engineering that similar to car like crossover SUVs Ford says that it still intended for serious off road use Ford engineers boasted of the off road testing the prototypes have been put through including driving through deep sand up steep inclines and crawling across boulder strewn trails\n"
          ]
        }
      ]
    },
    {
      "cell_type": "code",
      "source": [
        "#Convert the text to all lower case\n",
        "\n",
        "my_str_4=my_str_3.lower()\n",
        "print(my_str_4)"
      ],
      "metadata": {
        "colab": {
          "base_uri": "https://localhost:8080/"
        },
        "id": "9mj463nP36k0",
        "outputId": "fedff8d9-4607-408e-e37d-1e34b868e675"
      },
      "execution_count": 34,
      "outputs": [
        {
          "output_type": "stream",
          "name": "stdout",
          "text": [
            "the larger broncos will be available with 35 inch off road tires and will be able to drive through water nearly feet 10 inches deep it has independent front suspension unlike its main competitor the jeep wrangler independent suspension used on almost all modern passenger vehicles generally provides smoother ride and better on road handling than single solid axle it still has solid axle in the back though like most pickup trucks design suited to hard use like the wrangler both the two and four door bronco will have removable roofs and doors buyers will be able to choose either hard roof that can be removed in sections cloth top or both unlike the wrangler though the bronco doors will fit inside the vehicle after being removed the bronco will be available with choice of either 10 speed automatic or seven speed manual transmission the manual transmission will have six gears for ordinary driving plus seventh for low speed off road driving it will be powered by either 270 horsepower liter turbocharged cylinder engine or 310 horsepower liter turbocharged v6 while all of the new bronco suvs are designed for hard off road use the bronco sport isn quite as hard core in its capabilities it also has more convenience features than the more truck like bronco while it based on engineering that similar to car like crossover suvs ford says that it still intended for serious off road use ford engineers boasted of the off road testing the prototypes have been put through including driving through deep sand up steep inclines and crawling across boulder strewn trails\n"
          ]
        }
      ]
    },
    {
      "cell_type": "code",
      "source": [
        "#Split the text to individual words\n",
        "\n",
        "my_str_5=my_str_4.split()\n",
        "print(my_str_5)"
      ],
      "metadata": {
        "colab": {
          "base_uri": "https://localhost:8080/"
        },
        "id": "FIlbpElH4tQZ",
        "outputId": "f1624d86-5027-4194-c27a-6d0e5499994e"
      },
      "execution_count": 35,
      "outputs": [
        {
          "output_type": "stream",
          "name": "stdout",
          "text": [
            "['the', 'larger', 'broncos', 'will', 'be', 'available', 'with', '35', 'inch', 'off', 'road', 'tires', 'and', 'will', 'be', 'able', 'to', 'drive', 'through', 'water', 'nearly', 'feet', '10', 'inches', 'deep', 'it', 'has', 'independent', 'front', 'suspension', 'unlike', 'its', 'main', 'competitor', 'the', 'jeep', 'wrangler', 'independent', 'suspension', 'used', 'on', 'almost', 'all', 'modern', 'passenger', 'vehicles', 'generally', 'provides', 'smoother', 'ride', 'and', 'better', 'on', 'road', 'handling', 'than', 'single', 'solid', 'axle', 'it', 'still', 'has', 'solid', 'axle', 'in', 'the', 'back', 'though', 'like', 'most', 'pickup', 'trucks', 'design', 'suited', 'to', 'hard', 'use', 'like', 'the', 'wrangler', 'both', 'the', 'two', 'and', 'four', 'door', 'bronco', 'will', 'have', 'removable', 'roofs', 'and', 'doors', 'buyers', 'will', 'be', 'able', 'to', 'choose', 'either', 'hard', 'roof', 'that', 'can', 'be', 'removed', 'in', 'sections', 'cloth', 'top', 'or', 'both', 'unlike', 'the', 'wrangler', 'though', 'the', 'bronco', 'doors', 'will', 'fit', 'inside', 'the', 'vehicle', 'after', 'being', 'removed', 'the', 'bronco', 'will', 'be', 'available', 'with', 'choice', 'of', 'either', '10', 'speed', 'automatic', 'or', 'seven', 'speed', 'manual', 'transmission', 'the', 'manual', 'transmission', 'will', 'have', 'six', 'gears', 'for', 'ordinary', 'driving', 'plus', 'seventh', 'for', 'low', 'speed', 'off', 'road', 'driving', 'it', 'will', 'be', 'powered', 'by', 'either', '270', 'horsepower', 'liter', 'turbocharged', 'cylinder', 'engine', 'or', '310', 'horsepower', 'liter', 'turbocharged', 'v6', 'while', 'all', 'of', 'the', 'new', 'bronco', 'suvs', 'are', 'designed', 'for', 'hard', 'off', 'road', 'use', 'the', 'bronco', 'sport', 'isn', 'quite', 'as', 'hard', 'core', 'in', 'its', 'capabilities', 'it', 'also', 'has', 'more', 'convenience', 'features', 'than', 'the', 'more', 'truck', 'like', 'bronco', 'while', 'it', 'based', 'on', 'engineering', 'that', 'similar', 'to', 'car', 'like', 'crossover', 'suvs', 'ford', 'says', 'that', 'it', 'still', 'intended', 'for', 'serious', 'off', 'road', 'use', 'ford', 'engineers', 'boasted', 'of', 'the', 'off', 'road', 'testing', 'the', 'prototypes', 'have', 'been', 'put', 'through', 'including', 'driving', 'through', 'deep', 'sand', 'up', 'steep', 'inclines', 'and', 'crawling', 'across', 'boulder', 'strewn', 'trails']\n"
          ]
        }
      ]
    },
    {
      "cell_type": "code",
      "source": [
        "stop_words = set(stopwords.words('english'))"
      ],
      "metadata": {
        "id": "vFSwYSTb5Fe2"
      },
      "execution_count": 36,
      "outputs": []
    },
    {
      "cell_type": "code",
      "source": [
        "filtered_sentence = [w for w in my_str_5 if not w.lower() in stop_words]\n",
        "filtered_sentence = []"
      ],
      "metadata": {
        "id": "XBX2Czkm6vik"
      },
      "execution_count": 37,
      "outputs": []
    },
    {
      "cell_type": "code",
      "source": [
        "#Remove stopwords\n",
        "\n",
        "for w in my_str_5:\n",
        "    if w not in stop_words:\n",
        "        filtered_sentence.append(w)\n",
        "  \n",
        "print(filtered_sentence)"
      ],
      "metadata": {
        "colab": {
          "base_uri": "https://localhost:8080/"
        },
        "id": "7rkqvtwJ65yC",
        "outputId": "9efb57f5-f6bd-4c7d-d6a4-2b17ba05a870"
      },
      "execution_count": 38,
      "outputs": [
        {
          "output_type": "stream",
          "name": "stdout",
          "text": [
            "['larger', 'broncos', 'available', '35', 'inch', 'road', 'tires', 'able', 'drive', 'water', 'nearly', 'feet', '10', 'inches', 'deep', 'independent', 'front', 'suspension', 'unlike', 'main', 'competitor', 'jeep', 'wrangler', 'independent', 'suspension', 'used', 'almost', 'modern', 'passenger', 'vehicles', 'generally', 'provides', 'smoother', 'ride', 'better', 'road', 'handling', 'single', 'solid', 'axle', 'still', 'solid', 'axle', 'back', 'though', 'like', 'pickup', 'trucks', 'design', 'suited', 'hard', 'use', 'like', 'wrangler', 'two', 'four', 'door', 'bronco', 'removable', 'roofs', 'doors', 'buyers', 'able', 'choose', 'either', 'hard', 'roof', 'removed', 'sections', 'cloth', 'top', 'unlike', 'wrangler', 'though', 'bronco', 'doors', 'fit', 'inside', 'vehicle', 'removed', 'bronco', 'available', 'choice', 'either', '10', 'speed', 'automatic', 'seven', 'speed', 'manual', 'transmission', 'manual', 'transmission', 'six', 'gears', 'ordinary', 'driving', 'plus', 'seventh', 'low', 'speed', 'road', 'driving', 'powered', 'either', '270', 'horsepower', 'liter', 'turbocharged', 'cylinder', 'engine', '310', 'horsepower', 'liter', 'turbocharged', 'v6', 'new', 'bronco', 'suvs', 'designed', 'hard', 'road', 'use', 'bronco', 'sport', 'quite', 'hard', 'core', 'capabilities', 'also', 'convenience', 'features', 'truck', 'like', 'bronco', 'based', 'engineering', 'similar', 'car', 'like', 'crossover', 'suvs', 'ford', 'says', 'still', 'intended', 'serious', 'road', 'use', 'ford', 'engineers', 'boasted', 'road', 'testing', 'prototypes', 'put', 'including', 'driving', 'deep', 'sand', 'steep', 'inclines', 'crawling', 'across', 'boulder', 'strewn', 'trails']\n"
          ]
        }
      ]
    },
    {
      "cell_type": "code",
      "source": [
        "print(filtered_sentence)"
      ],
      "metadata": {
        "colab": {
          "base_uri": "https://localhost:8080/"
        },
        "id": "d30ruN7v7rSL",
        "outputId": "b2fa42f3-d679-4768-c272-22ed5ec599c4"
      },
      "execution_count": 39,
      "outputs": [
        {
          "output_type": "stream",
          "name": "stdout",
          "text": [
            "['larger', 'broncos', 'available', '35', 'inch', 'road', 'tires', 'able', 'drive', 'water', 'nearly', 'feet', '10', 'inches', 'deep', 'independent', 'front', 'suspension', 'unlike', 'main', 'competitor', 'jeep', 'wrangler', 'independent', 'suspension', 'used', 'almost', 'modern', 'passenger', 'vehicles', 'generally', 'provides', 'smoother', 'ride', 'better', 'road', 'handling', 'single', 'solid', 'axle', 'still', 'solid', 'axle', 'back', 'though', 'like', 'pickup', 'trucks', 'design', 'suited', 'hard', 'use', 'like', 'wrangler', 'two', 'four', 'door', 'bronco', 'removable', 'roofs', 'doors', 'buyers', 'able', 'choose', 'either', 'hard', 'roof', 'removed', 'sections', 'cloth', 'top', 'unlike', 'wrangler', 'though', 'bronco', 'doors', 'fit', 'inside', 'vehicle', 'removed', 'bronco', 'available', 'choice', 'either', '10', 'speed', 'automatic', 'seven', 'speed', 'manual', 'transmission', 'manual', 'transmission', 'six', 'gears', 'ordinary', 'driving', 'plus', 'seventh', 'low', 'speed', 'road', 'driving', 'powered', 'either', '270', 'horsepower', 'liter', 'turbocharged', 'cylinder', 'engine', '310', 'horsepower', 'liter', 'turbocharged', 'v6', 'new', 'bronco', 'suvs', 'designed', 'hard', 'road', 'use', 'bronco', 'sport', 'quite', 'hard', 'core', 'capabilities', 'also', 'convenience', 'features', 'truck', 'like', 'bronco', 'based', 'engineering', 'similar', 'car', 'like', 'crossover', 'suvs', 'ford', 'says', 'still', 'intended', 'serious', 'road', 'use', 'ford', 'engineers', 'boasted', 'road', 'testing', 'prototypes', 'put', 'including', 'driving', 'deep', 'sand', 'steep', 'inclines', 'crawling', 'across', 'boulder', 'strewn', 'trails']\n"
          ]
        }
      ]
    },
    {
      "cell_type": "code",
      "source": [
        "#stem, and lemmatize the text as tokenization has already been done\n",
        "\n",
        "from nltk.stem.porter import PorterStemmer\n",
        "porter_stemmer = PorterStemmer()\n",
        "\n",
        "for w in my_str_5:\n",
        "       print(\"Actual:\",w,\"| Stem:\",porter_stemmer.stem(w))"
      ],
      "metadata": {
        "colab": {
          "base_uri": "https://localhost:8080/"
        },
        "id": "mPszHvD1Jgwg",
        "outputId": "f5846da0-d314-4758-fd88-fafad45402b2"
      },
      "execution_count": 40,
      "outputs": [
        {
          "output_type": "stream",
          "name": "stdout",
          "text": [
            "Actual: the | Stem: the\n",
            "Actual: larger | Stem: larger\n",
            "Actual: broncos | Stem: bronco\n",
            "Actual: will | Stem: will\n",
            "Actual: be | Stem: be\n",
            "Actual: available | Stem: avail\n",
            "Actual: with | Stem: with\n",
            "Actual: 35 | Stem: 35\n",
            "Actual: inch | Stem: inch\n",
            "Actual: off | Stem: off\n",
            "Actual: road | Stem: road\n",
            "Actual: tires | Stem: tire\n",
            "Actual: and | Stem: and\n",
            "Actual: will | Stem: will\n",
            "Actual: be | Stem: be\n",
            "Actual: able | Stem: abl\n",
            "Actual: to | Stem: to\n",
            "Actual: drive | Stem: drive\n",
            "Actual: through | Stem: through\n",
            "Actual: water | Stem: water\n",
            "Actual: nearly | Stem: nearli\n",
            "Actual: feet | Stem: feet\n",
            "Actual: 10 | Stem: 10\n",
            "Actual: inches | Stem: inch\n",
            "Actual: deep | Stem: deep\n",
            "Actual: it | Stem: it\n",
            "Actual: has | Stem: ha\n",
            "Actual: independent | Stem: independ\n",
            "Actual: front | Stem: front\n",
            "Actual: suspension | Stem: suspens\n",
            "Actual: unlike | Stem: unlik\n",
            "Actual: its | Stem: it\n",
            "Actual: main | Stem: main\n",
            "Actual: competitor | Stem: competitor\n",
            "Actual: the | Stem: the\n",
            "Actual: jeep | Stem: jeep\n",
            "Actual: wrangler | Stem: wrangler\n",
            "Actual: independent | Stem: independ\n",
            "Actual: suspension | Stem: suspens\n",
            "Actual: used | Stem: use\n",
            "Actual: on | Stem: on\n",
            "Actual: almost | Stem: almost\n",
            "Actual: all | Stem: all\n",
            "Actual: modern | Stem: modern\n",
            "Actual: passenger | Stem: passeng\n",
            "Actual: vehicles | Stem: vehicl\n",
            "Actual: generally | Stem: gener\n",
            "Actual: provides | Stem: provid\n",
            "Actual: smoother | Stem: smoother\n",
            "Actual: ride | Stem: ride\n",
            "Actual: and | Stem: and\n",
            "Actual: better | Stem: better\n",
            "Actual: on | Stem: on\n",
            "Actual: road | Stem: road\n",
            "Actual: handling | Stem: handl\n",
            "Actual: than | Stem: than\n",
            "Actual: single | Stem: singl\n",
            "Actual: solid | Stem: solid\n",
            "Actual: axle | Stem: axl\n",
            "Actual: it | Stem: it\n",
            "Actual: still | Stem: still\n",
            "Actual: has | Stem: ha\n",
            "Actual: solid | Stem: solid\n",
            "Actual: axle | Stem: axl\n",
            "Actual: in | Stem: in\n",
            "Actual: the | Stem: the\n",
            "Actual: back | Stem: back\n",
            "Actual: though | Stem: though\n",
            "Actual: like | Stem: like\n",
            "Actual: most | Stem: most\n",
            "Actual: pickup | Stem: pickup\n",
            "Actual: trucks | Stem: truck\n",
            "Actual: design | Stem: design\n",
            "Actual: suited | Stem: suit\n",
            "Actual: to | Stem: to\n",
            "Actual: hard | Stem: hard\n",
            "Actual: use | Stem: use\n",
            "Actual: like | Stem: like\n",
            "Actual: the | Stem: the\n",
            "Actual: wrangler | Stem: wrangler\n",
            "Actual: both | Stem: both\n",
            "Actual: the | Stem: the\n",
            "Actual: two | Stem: two\n",
            "Actual: and | Stem: and\n",
            "Actual: four | Stem: four\n",
            "Actual: door | Stem: door\n",
            "Actual: bronco | Stem: bronco\n",
            "Actual: will | Stem: will\n",
            "Actual: have | Stem: have\n",
            "Actual: removable | Stem: remov\n",
            "Actual: roofs | Stem: roof\n",
            "Actual: and | Stem: and\n",
            "Actual: doors | Stem: door\n",
            "Actual: buyers | Stem: buyer\n",
            "Actual: will | Stem: will\n",
            "Actual: be | Stem: be\n",
            "Actual: able | Stem: abl\n",
            "Actual: to | Stem: to\n",
            "Actual: choose | Stem: choos\n",
            "Actual: either | Stem: either\n",
            "Actual: hard | Stem: hard\n",
            "Actual: roof | Stem: roof\n",
            "Actual: that | Stem: that\n",
            "Actual: can | Stem: can\n",
            "Actual: be | Stem: be\n",
            "Actual: removed | Stem: remov\n",
            "Actual: in | Stem: in\n",
            "Actual: sections | Stem: section\n",
            "Actual: cloth | Stem: cloth\n",
            "Actual: top | Stem: top\n",
            "Actual: or | Stem: or\n",
            "Actual: both | Stem: both\n",
            "Actual: unlike | Stem: unlik\n",
            "Actual: the | Stem: the\n",
            "Actual: wrangler | Stem: wrangler\n",
            "Actual: though | Stem: though\n",
            "Actual: the | Stem: the\n",
            "Actual: bronco | Stem: bronco\n",
            "Actual: doors | Stem: door\n",
            "Actual: will | Stem: will\n",
            "Actual: fit | Stem: fit\n",
            "Actual: inside | Stem: insid\n",
            "Actual: the | Stem: the\n",
            "Actual: vehicle | Stem: vehicl\n",
            "Actual: after | Stem: after\n",
            "Actual: being | Stem: be\n",
            "Actual: removed | Stem: remov\n",
            "Actual: the | Stem: the\n",
            "Actual: bronco | Stem: bronco\n",
            "Actual: will | Stem: will\n",
            "Actual: be | Stem: be\n",
            "Actual: available | Stem: avail\n",
            "Actual: with | Stem: with\n",
            "Actual: choice | Stem: choic\n",
            "Actual: of | Stem: of\n",
            "Actual: either | Stem: either\n",
            "Actual: 10 | Stem: 10\n",
            "Actual: speed | Stem: speed\n",
            "Actual: automatic | Stem: automat\n",
            "Actual: or | Stem: or\n",
            "Actual: seven | Stem: seven\n",
            "Actual: speed | Stem: speed\n",
            "Actual: manual | Stem: manual\n",
            "Actual: transmission | Stem: transmiss\n",
            "Actual: the | Stem: the\n",
            "Actual: manual | Stem: manual\n",
            "Actual: transmission | Stem: transmiss\n",
            "Actual: will | Stem: will\n",
            "Actual: have | Stem: have\n",
            "Actual: six | Stem: six\n",
            "Actual: gears | Stem: gear\n",
            "Actual: for | Stem: for\n",
            "Actual: ordinary | Stem: ordinari\n",
            "Actual: driving | Stem: drive\n",
            "Actual: plus | Stem: plu\n",
            "Actual: seventh | Stem: seventh\n",
            "Actual: for | Stem: for\n",
            "Actual: low | Stem: low\n",
            "Actual: speed | Stem: speed\n",
            "Actual: off | Stem: off\n",
            "Actual: road | Stem: road\n",
            "Actual: driving | Stem: drive\n",
            "Actual: it | Stem: it\n",
            "Actual: will | Stem: will\n",
            "Actual: be | Stem: be\n",
            "Actual: powered | Stem: power\n",
            "Actual: by | Stem: by\n",
            "Actual: either | Stem: either\n",
            "Actual: 270 | Stem: 270\n",
            "Actual: horsepower | Stem: horsepow\n",
            "Actual: liter | Stem: liter\n",
            "Actual: turbocharged | Stem: turbocharg\n",
            "Actual: cylinder | Stem: cylind\n",
            "Actual: engine | Stem: engin\n",
            "Actual: or | Stem: or\n",
            "Actual: 310 | Stem: 310\n",
            "Actual: horsepower | Stem: horsepow\n",
            "Actual: liter | Stem: liter\n",
            "Actual: turbocharged | Stem: turbocharg\n",
            "Actual: v6 | Stem: v6\n",
            "Actual: while | Stem: while\n",
            "Actual: all | Stem: all\n",
            "Actual: of | Stem: of\n",
            "Actual: the | Stem: the\n",
            "Actual: new | Stem: new\n",
            "Actual: bronco | Stem: bronco\n",
            "Actual: suvs | Stem: suv\n",
            "Actual: are | Stem: are\n",
            "Actual: designed | Stem: design\n",
            "Actual: for | Stem: for\n",
            "Actual: hard | Stem: hard\n",
            "Actual: off | Stem: off\n",
            "Actual: road | Stem: road\n",
            "Actual: use | Stem: use\n",
            "Actual: the | Stem: the\n",
            "Actual: bronco | Stem: bronco\n",
            "Actual: sport | Stem: sport\n",
            "Actual: isn | Stem: isn\n",
            "Actual: quite | Stem: quit\n",
            "Actual: as | Stem: as\n",
            "Actual: hard | Stem: hard\n",
            "Actual: core | Stem: core\n",
            "Actual: in | Stem: in\n",
            "Actual: its | Stem: it\n",
            "Actual: capabilities | Stem: capabl\n",
            "Actual: it | Stem: it\n",
            "Actual: also | Stem: also\n",
            "Actual: has | Stem: ha\n",
            "Actual: more | Stem: more\n",
            "Actual: convenience | Stem: conveni\n",
            "Actual: features | Stem: featur\n",
            "Actual: than | Stem: than\n",
            "Actual: the | Stem: the\n",
            "Actual: more | Stem: more\n",
            "Actual: truck | Stem: truck\n",
            "Actual: like | Stem: like\n",
            "Actual: bronco | Stem: bronco\n",
            "Actual: while | Stem: while\n",
            "Actual: it | Stem: it\n",
            "Actual: based | Stem: base\n",
            "Actual: on | Stem: on\n",
            "Actual: engineering | Stem: engin\n",
            "Actual: that | Stem: that\n",
            "Actual: similar | Stem: similar\n",
            "Actual: to | Stem: to\n",
            "Actual: car | Stem: car\n",
            "Actual: like | Stem: like\n",
            "Actual: crossover | Stem: crossov\n",
            "Actual: suvs | Stem: suv\n",
            "Actual: ford | Stem: ford\n",
            "Actual: says | Stem: say\n",
            "Actual: that | Stem: that\n",
            "Actual: it | Stem: it\n",
            "Actual: still | Stem: still\n",
            "Actual: intended | Stem: intend\n",
            "Actual: for | Stem: for\n",
            "Actual: serious | Stem: seriou\n",
            "Actual: off | Stem: off\n",
            "Actual: road | Stem: road\n",
            "Actual: use | Stem: use\n",
            "Actual: ford | Stem: ford\n",
            "Actual: engineers | Stem: engin\n",
            "Actual: boasted | Stem: boast\n",
            "Actual: of | Stem: of\n",
            "Actual: the | Stem: the\n",
            "Actual: off | Stem: off\n",
            "Actual: road | Stem: road\n",
            "Actual: testing | Stem: test\n",
            "Actual: the | Stem: the\n",
            "Actual: prototypes | Stem: prototyp\n",
            "Actual: have | Stem: have\n",
            "Actual: been | Stem: been\n",
            "Actual: put | Stem: put\n",
            "Actual: through | Stem: through\n",
            "Actual: including | Stem: includ\n",
            "Actual: driving | Stem: drive\n",
            "Actual: through | Stem: through\n",
            "Actual: deep | Stem: deep\n",
            "Actual: sand | Stem: sand\n",
            "Actual: up | Stem: up\n",
            "Actual: steep | Stem: steep\n",
            "Actual: inclines | Stem: inclin\n",
            "Actual: and | Stem: and\n",
            "Actual: crawling | Stem: crawl\n",
            "Actual: across | Stem: across\n",
            "Actual: boulder | Stem: boulder\n",
            "Actual: strewn | Stem: strewn\n",
            "Actual: trails | Stem: trail\n"
          ]
        }
      ]
    },
    {
      "cell_type": "code",
      "source": [
        "from nltk.stem import WordNetLemmatizer\n",
        "nltk.download('wordnet')\n",
        "nltk.download('omw-1.4')\n",
        "\n",
        "wordnet_lemmatizer = WordNetLemmatizer()\n",
        "\n",
        "for w in my_str_5:\n",
        "       print(\"Actual\",w,\"| Lemma:\",wordnet_lemmatizer.lemmatize(w))"
      ],
      "metadata": {
        "colab": {
          "base_uri": "https://localhost:8080/"
        },
        "id": "0BxoE-QlKt5L",
        "outputId": "f4caae2e-a68d-41b6-f6ef-b60f5c17e586"
      },
      "execution_count": 41,
      "outputs": [
        {
          "output_type": "stream",
          "name": "stderr",
          "text": [
            "[nltk_data] Downloading package wordnet to /root/nltk_data...\n",
            "[nltk_data]   Package wordnet is already up-to-date!\n",
            "[nltk_data] Downloading package omw-1.4 to /root/nltk_data...\n",
            "[nltk_data]   Package omw-1.4 is already up-to-date!\n"
          ]
        },
        {
          "output_type": "stream",
          "name": "stdout",
          "text": [
            "Actual the | Lemma: the\n",
            "Actual larger | Lemma: larger\n",
            "Actual broncos | Lemma: bronco\n",
            "Actual will | Lemma: will\n",
            "Actual be | Lemma: be\n",
            "Actual available | Lemma: available\n",
            "Actual with | Lemma: with\n",
            "Actual 35 | Lemma: 35\n",
            "Actual inch | Lemma: inch\n",
            "Actual off | Lemma: off\n",
            "Actual road | Lemma: road\n",
            "Actual tires | Lemma: tire\n",
            "Actual and | Lemma: and\n",
            "Actual will | Lemma: will\n",
            "Actual be | Lemma: be\n",
            "Actual able | Lemma: able\n",
            "Actual to | Lemma: to\n",
            "Actual drive | Lemma: drive\n",
            "Actual through | Lemma: through\n",
            "Actual water | Lemma: water\n",
            "Actual nearly | Lemma: nearly\n",
            "Actual feet | Lemma: foot\n",
            "Actual 10 | Lemma: 10\n",
            "Actual inches | Lemma: inch\n",
            "Actual deep | Lemma: deep\n",
            "Actual it | Lemma: it\n",
            "Actual has | Lemma: ha\n",
            "Actual independent | Lemma: independent\n",
            "Actual front | Lemma: front\n",
            "Actual suspension | Lemma: suspension\n",
            "Actual unlike | Lemma: unlike\n",
            "Actual its | Lemma: it\n",
            "Actual main | Lemma: main\n",
            "Actual competitor | Lemma: competitor\n",
            "Actual the | Lemma: the\n",
            "Actual jeep | Lemma: jeep\n",
            "Actual wrangler | Lemma: wrangler\n",
            "Actual independent | Lemma: independent\n",
            "Actual suspension | Lemma: suspension\n",
            "Actual used | Lemma: used\n",
            "Actual on | Lemma: on\n",
            "Actual almost | Lemma: almost\n",
            "Actual all | Lemma: all\n",
            "Actual modern | Lemma: modern\n",
            "Actual passenger | Lemma: passenger\n",
            "Actual vehicles | Lemma: vehicle\n",
            "Actual generally | Lemma: generally\n",
            "Actual provides | Lemma: provides\n",
            "Actual smoother | Lemma: smoother\n",
            "Actual ride | Lemma: ride\n",
            "Actual and | Lemma: and\n",
            "Actual better | Lemma: better\n",
            "Actual on | Lemma: on\n",
            "Actual road | Lemma: road\n",
            "Actual handling | Lemma: handling\n",
            "Actual than | Lemma: than\n",
            "Actual single | Lemma: single\n",
            "Actual solid | Lemma: solid\n",
            "Actual axle | Lemma: axle\n",
            "Actual it | Lemma: it\n",
            "Actual still | Lemma: still\n",
            "Actual has | Lemma: ha\n",
            "Actual solid | Lemma: solid\n",
            "Actual axle | Lemma: axle\n",
            "Actual in | Lemma: in\n",
            "Actual the | Lemma: the\n",
            "Actual back | Lemma: back\n",
            "Actual though | Lemma: though\n",
            "Actual like | Lemma: like\n",
            "Actual most | Lemma: most\n",
            "Actual pickup | Lemma: pickup\n",
            "Actual trucks | Lemma: truck\n",
            "Actual design | Lemma: design\n",
            "Actual suited | Lemma: suited\n",
            "Actual to | Lemma: to\n",
            "Actual hard | Lemma: hard\n",
            "Actual use | Lemma: use\n",
            "Actual like | Lemma: like\n",
            "Actual the | Lemma: the\n",
            "Actual wrangler | Lemma: wrangler\n",
            "Actual both | Lemma: both\n",
            "Actual the | Lemma: the\n",
            "Actual two | Lemma: two\n",
            "Actual and | Lemma: and\n",
            "Actual four | Lemma: four\n",
            "Actual door | Lemma: door\n",
            "Actual bronco | Lemma: bronco\n",
            "Actual will | Lemma: will\n",
            "Actual have | Lemma: have\n",
            "Actual removable | Lemma: removable\n",
            "Actual roofs | Lemma: roof\n",
            "Actual and | Lemma: and\n",
            "Actual doors | Lemma: door\n",
            "Actual buyers | Lemma: buyer\n",
            "Actual will | Lemma: will\n",
            "Actual be | Lemma: be\n",
            "Actual able | Lemma: able\n",
            "Actual to | Lemma: to\n",
            "Actual choose | Lemma: choose\n",
            "Actual either | Lemma: either\n",
            "Actual hard | Lemma: hard\n",
            "Actual roof | Lemma: roof\n",
            "Actual that | Lemma: that\n",
            "Actual can | Lemma: can\n",
            "Actual be | Lemma: be\n",
            "Actual removed | Lemma: removed\n",
            "Actual in | Lemma: in\n",
            "Actual sections | Lemma: section\n",
            "Actual cloth | Lemma: cloth\n",
            "Actual top | Lemma: top\n",
            "Actual or | Lemma: or\n",
            "Actual both | Lemma: both\n",
            "Actual unlike | Lemma: unlike\n",
            "Actual the | Lemma: the\n",
            "Actual wrangler | Lemma: wrangler\n",
            "Actual though | Lemma: though\n",
            "Actual the | Lemma: the\n",
            "Actual bronco | Lemma: bronco\n",
            "Actual doors | Lemma: door\n",
            "Actual will | Lemma: will\n",
            "Actual fit | Lemma: fit\n",
            "Actual inside | Lemma: inside\n",
            "Actual the | Lemma: the\n",
            "Actual vehicle | Lemma: vehicle\n",
            "Actual after | Lemma: after\n",
            "Actual being | Lemma: being\n",
            "Actual removed | Lemma: removed\n",
            "Actual the | Lemma: the\n",
            "Actual bronco | Lemma: bronco\n",
            "Actual will | Lemma: will\n",
            "Actual be | Lemma: be\n",
            "Actual available | Lemma: available\n",
            "Actual with | Lemma: with\n",
            "Actual choice | Lemma: choice\n",
            "Actual of | Lemma: of\n",
            "Actual either | Lemma: either\n",
            "Actual 10 | Lemma: 10\n",
            "Actual speed | Lemma: speed\n",
            "Actual automatic | Lemma: automatic\n",
            "Actual or | Lemma: or\n",
            "Actual seven | Lemma: seven\n",
            "Actual speed | Lemma: speed\n",
            "Actual manual | Lemma: manual\n",
            "Actual transmission | Lemma: transmission\n",
            "Actual the | Lemma: the\n",
            "Actual manual | Lemma: manual\n",
            "Actual transmission | Lemma: transmission\n",
            "Actual will | Lemma: will\n",
            "Actual have | Lemma: have\n",
            "Actual six | Lemma: six\n",
            "Actual gears | Lemma: gear\n",
            "Actual for | Lemma: for\n",
            "Actual ordinary | Lemma: ordinary\n",
            "Actual driving | Lemma: driving\n",
            "Actual plus | Lemma: plus\n",
            "Actual seventh | Lemma: seventh\n",
            "Actual for | Lemma: for\n",
            "Actual low | Lemma: low\n",
            "Actual speed | Lemma: speed\n",
            "Actual off | Lemma: off\n",
            "Actual road | Lemma: road\n",
            "Actual driving | Lemma: driving\n",
            "Actual it | Lemma: it\n",
            "Actual will | Lemma: will\n",
            "Actual be | Lemma: be\n",
            "Actual powered | Lemma: powered\n",
            "Actual by | Lemma: by\n",
            "Actual either | Lemma: either\n",
            "Actual 270 | Lemma: 270\n",
            "Actual horsepower | Lemma: horsepower\n",
            "Actual liter | Lemma: liter\n",
            "Actual turbocharged | Lemma: turbocharged\n",
            "Actual cylinder | Lemma: cylinder\n",
            "Actual engine | Lemma: engine\n",
            "Actual or | Lemma: or\n",
            "Actual 310 | Lemma: 310\n",
            "Actual horsepower | Lemma: horsepower\n",
            "Actual liter | Lemma: liter\n",
            "Actual turbocharged | Lemma: turbocharged\n",
            "Actual v6 | Lemma: v6\n",
            "Actual while | Lemma: while\n",
            "Actual all | Lemma: all\n",
            "Actual of | Lemma: of\n",
            "Actual the | Lemma: the\n",
            "Actual new | Lemma: new\n",
            "Actual bronco | Lemma: bronco\n",
            "Actual suvs | Lemma: suv\n",
            "Actual are | Lemma: are\n",
            "Actual designed | Lemma: designed\n",
            "Actual for | Lemma: for\n",
            "Actual hard | Lemma: hard\n",
            "Actual off | Lemma: off\n",
            "Actual road | Lemma: road\n",
            "Actual use | Lemma: use\n",
            "Actual the | Lemma: the\n",
            "Actual bronco | Lemma: bronco\n",
            "Actual sport | Lemma: sport\n",
            "Actual isn | Lemma: isn\n",
            "Actual quite | Lemma: quite\n",
            "Actual as | Lemma: a\n",
            "Actual hard | Lemma: hard\n",
            "Actual core | Lemma: core\n",
            "Actual in | Lemma: in\n",
            "Actual its | Lemma: it\n",
            "Actual capabilities | Lemma: capability\n",
            "Actual it | Lemma: it\n",
            "Actual also | Lemma: also\n",
            "Actual has | Lemma: ha\n",
            "Actual more | Lemma: more\n",
            "Actual convenience | Lemma: convenience\n",
            "Actual features | Lemma: feature\n",
            "Actual than | Lemma: than\n",
            "Actual the | Lemma: the\n",
            "Actual more | Lemma: more\n",
            "Actual truck | Lemma: truck\n",
            "Actual like | Lemma: like\n",
            "Actual bronco | Lemma: bronco\n",
            "Actual while | Lemma: while\n",
            "Actual it | Lemma: it\n",
            "Actual based | Lemma: based\n",
            "Actual on | Lemma: on\n",
            "Actual engineering | Lemma: engineering\n",
            "Actual that | Lemma: that\n",
            "Actual similar | Lemma: similar\n",
            "Actual to | Lemma: to\n",
            "Actual car | Lemma: car\n",
            "Actual like | Lemma: like\n",
            "Actual crossover | Lemma: crossover\n",
            "Actual suvs | Lemma: suv\n",
            "Actual ford | Lemma: ford\n",
            "Actual says | Lemma: say\n",
            "Actual that | Lemma: that\n",
            "Actual it | Lemma: it\n",
            "Actual still | Lemma: still\n",
            "Actual intended | Lemma: intended\n",
            "Actual for | Lemma: for\n",
            "Actual serious | Lemma: serious\n",
            "Actual off | Lemma: off\n",
            "Actual road | Lemma: road\n",
            "Actual use | Lemma: use\n",
            "Actual ford | Lemma: ford\n",
            "Actual engineers | Lemma: engineer\n",
            "Actual boasted | Lemma: boasted\n",
            "Actual of | Lemma: of\n",
            "Actual the | Lemma: the\n",
            "Actual off | Lemma: off\n",
            "Actual road | Lemma: road\n",
            "Actual testing | Lemma: testing\n",
            "Actual the | Lemma: the\n",
            "Actual prototypes | Lemma: prototype\n",
            "Actual have | Lemma: have\n",
            "Actual been | Lemma: been\n",
            "Actual put | Lemma: put\n",
            "Actual through | Lemma: through\n",
            "Actual including | Lemma: including\n",
            "Actual driving | Lemma: driving\n",
            "Actual through | Lemma: through\n",
            "Actual deep | Lemma: deep\n",
            "Actual sand | Lemma: sand\n",
            "Actual up | Lemma: up\n",
            "Actual steep | Lemma: steep\n",
            "Actual inclines | Lemma: incline\n",
            "Actual and | Lemma: and\n",
            "Actual crawling | Lemma: crawling\n",
            "Actual across | Lemma: across\n",
            "Actual boulder | Lemma: boulder\n",
            "Actual strewn | Lemma: strewn\n",
            "Actual trails | Lemma: trail\n"
          ]
        }
      ]
    },
    {
      "cell_type": "code",
      "source": [
        "pip install textblob"
      ],
      "metadata": {
        "colab": {
          "base_uri": "https://localhost:8080/"
        },
        "id": "GKHaRJxVHEdJ",
        "outputId": "b90c8e1c-319c-4663-de5f-5c9b9d235e77"
      },
      "execution_count": 42,
      "outputs": [
        {
          "output_type": "stream",
          "name": "stdout",
          "text": [
            "Looking in indexes: https://pypi.org/simple, https://us-python.pkg.dev/colab-wheels/public/simple/\n",
            "Requirement already satisfied: textblob in /usr/local/lib/python3.7/dist-packages (0.15.3)\n",
            "Requirement already satisfied: nltk>=3.1 in /usr/local/lib/python3.7/dist-packages (from textblob) (3.7)\n",
            "Requirement already satisfied: joblib in /usr/local/lib/python3.7/dist-packages (from nltk>=3.1->textblob) (1.1.0)\n",
            "Requirement already satisfied: regex>=2021.8.3 in /usr/local/lib/python3.7/dist-packages (from nltk>=3.1->textblob) (2022.6.2)\n",
            "Requirement already satisfied: click in /usr/local/lib/python3.7/dist-packages (from nltk>=3.1->textblob) (7.1.2)\n",
            "Requirement already satisfied: tqdm in /usr/local/lib/python3.7/dist-packages (from nltk>=3.1->textblob) (4.64.1)\n"
          ]
        }
      ]
    },
    {
      "cell_type": "code",
      "source": [
        "from textblob import TextBlob"
      ],
      "metadata": {
        "id": "Y82kWAci7x76"
      },
      "execution_count": 43,
      "outputs": []
    },
    {
      "cell_type": "code",
      "source": [
        "import nltk\n",
        "nltk.download('brown')\n",
        "nltk.download('punkt')\n",
        "nltk.download('averaged_perceptron_tagger')"
      ],
      "metadata": {
        "colab": {
          "base_uri": "https://localhost:8080/"
        },
        "id": "XLK1rRefGT4a",
        "outputId": "53c09df5-4d27-4019-b6be-70307ddcd3e0"
      },
      "execution_count": 44,
      "outputs": [
        {
          "output_type": "stream",
          "name": "stderr",
          "text": [
            "[nltk_data] Downloading package brown to /root/nltk_data...\n",
            "[nltk_data]   Package brown is already up-to-date!\n",
            "[nltk_data] Downloading package punkt to /root/nltk_data...\n",
            "[nltk_data]   Package punkt is already up-to-date!\n",
            "[nltk_data] Downloading package averaged_perceptron_tagger to\n",
            "[nltk_data]     /root/nltk_data...\n",
            "[nltk_data]   Package averaged_perceptron_tagger is already up-to-\n",
            "[nltk_data]       date!\n"
          ]
        },
        {
          "output_type": "execute_result",
          "data": {
            "text/plain": [
              "True"
            ]
          },
          "metadata": {},
          "execution_count": 44
        }
      ]
    },
    {
      "cell_type": "code",
      "source": [
        "blob = TextBlob(my_str_4)"
      ],
      "metadata": {
        "id": "zeBeON3CF9yh"
      },
      "execution_count": 45,
      "outputs": []
    },
    {
      "cell_type": "code",
      "source": [
        "for np in blob.noun_phrases:\n",
        " print (np)"
      ],
      "metadata": {
        "colab": {
          "base_uri": "https://localhost:8080/"
        },
        "id": "LcbyCDTUGIi6",
        "outputId": "7663e0f4-91a1-40ac-9497-f74974024edd"
      },
      "execution_count": 46,
      "outputs": [
        {
          "output_type": "stream",
          "name": "stdout",
          "text": [
            "road tires\n",
            "independent front suspension\n",
            "main competitor\n",
            "jeep wrangler\n",
            "independent suspension\n",
            "modern passenger vehicles\n",
            "solid axle\n",
            "solid axle\n",
            "pickup trucks design\n",
            "hard use\n",
            "door bronco\n",
            "removable roofs\n",
            "doors buyers\n",
            "hard roof\n",
            "sections cloth top\n",
            "bronco doors\n",
            "manual transmission\n",
            "manual transmission\n",
            "ordinary driving\n",
            "low speed\n",
            "horsepower liter\n",
            "cylinder engine\n",
            "horsepower liter\n",
            "new bronco suvs\n",
            "road use\n",
            "bronco sport isn\n",
            "hard core\n",
            "crossover suvs ford\n",
            "road use ford engineers\n",
            "deep sand\n",
            "steep inclines\n",
            "boulder strewn trails\n"
          ]
        }
      ]
    },
    {
      "cell_type": "code",
      "source": [
        "for words, tag in blob.tags:\n",
        " print (words, tag)"
      ],
      "metadata": {
        "colab": {
          "base_uri": "https://localhost:8080/"
        },
        "id": "adhy-PXbHNrg",
        "outputId": "793deb36-dd3c-4163-fd03-98c30f311549"
      },
      "execution_count": 47,
      "outputs": [
        {
          "output_type": "stream",
          "name": "stdout",
          "text": [
            "the DT\n",
            "larger JJR\n",
            "broncos NN\n",
            "will MD\n",
            "be VB\n",
            "available JJ\n",
            "with IN\n",
            "35 CD\n",
            "inch NN\n",
            "off IN\n",
            "road NN\n",
            "tires NNS\n",
            "and CC\n",
            "will MD\n",
            "be VB\n",
            "able JJ\n",
            "to TO\n",
            "drive VB\n",
            "through IN\n",
            "water NN\n",
            "nearly RB\n",
            "feet NNS\n",
            "10 CD\n",
            "inches NNS\n",
            "deep VBP\n",
            "it PRP\n",
            "has VBZ\n",
            "independent JJ\n",
            "front JJ\n",
            "suspension NN\n",
            "unlike IN\n",
            "its PRP$\n",
            "main JJ\n",
            "competitor NN\n",
            "the DT\n",
            "jeep NN\n",
            "wrangler NN\n",
            "independent JJ\n",
            "suspension NN\n",
            "used VBN\n",
            "on IN\n",
            "almost RB\n",
            "all DT\n",
            "modern JJ\n",
            "passenger NN\n",
            "vehicles NNS\n",
            "generally RB\n",
            "provides VBZ\n",
            "smoother JJ\n",
            "ride NN\n",
            "and CC\n",
            "better JJR\n",
            "on IN\n",
            "road NN\n",
            "handling NN\n",
            "than IN\n",
            "single JJ\n",
            "solid JJ\n",
            "axle NN\n",
            "it PRP\n",
            "still RB\n",
            "has VBZ\n",
            "solid JJ\n",
            "axle NN\n",
            "in IN\n",
            "the DT\n",
            "back JJ\n",
            "though IN\n",
            "like IN\n",
            "most JJS\n",
            "pickup NN\n",
            "trucks NNS\n",
            "design NN\n",
            "suited VBN\n",
            "to TO\n",
            "hard VB\n",
            "use NN\n",
            "like IN\n",
            "the DT\n",
            "wrangler NN\n",
            "both CC\n",
            "the DT\n",
            "two CD\n",
            "and CC\n",
            "four CD\n",
            "door NN\n",
            "bronco NN\n",
            "will MD\n",
            "have VB\n",
            "removable JJ\n",
            "roofs NNS\n",
            "and CC\n",
            "doors NNS\n",
            "buyers NNS\n",
            "will MD\n",
            "be VB\n",
            "able JJ\n",
            "to TO\n",
            "choose VB\n",
            "either RB\n",
            "hard JJ\n",
            "roof NN\n",
            "that WDT\n",
            "can MD\n",
            "be VB\n",
            "removed VBN\n",
            "in IN\n",
            "sections NNS\n",
            "cloth VBP\n",
            "top JJ\n",
            "or CC\n",
            "both DT\n",
            "unlike IN\n",
            "the DT\n",
            "wrangler NN\n",
            "though IN\n",
            "the DT\n",
            "bronco NN\n",
            "doors NNS\n",
            "will MD\n",
            "fit VB\n",
            "inside IN\n",
            "the DT\n",
            "vehicle NN\n",
            "after IN\n",
            "being VBG\n",
            "removed VBD\n",
            "the DT\n",
            "bronco NN\n",
            "will MD\n",
            "be VB\n",
            "available JJ\n",
            "with IN\n",
            "choice NN\n",
            "of IN\n",
            "either CC\n",
            "10 CD\n",
            "speed NN\n",
            "automatic JJ\n",
            "or CC\n",
            "seven CD\n",
            "speed NN\n",
            "manual JJ\n",
            "transmission NN\n",
            "the DT\n",
            "manual JJ\n",
            "transmission NN\n",
            "will MD\n",
            "have VB\n",
            "six CD\n",
            "gears NNS\n",
            "for IN\n",
            "ordinary JJ\n",
            "driving NN\n",
            "plus CC\n",
            "seventh JJ\n",
            "for IN\n",
            "low JJ\n",
            "speed NN\n",
            "off RP\n",
            "road NN\n",
            "driving VBG\n",
            "it PRP\n",
            "will MD\n",
            "be VB\n",
            "powered VBN\n",
            "by IN\n",
            "either DT\n",
            "270 CD\n",
            "horsepower NN\n",
            "liter NN\n",
            "turbocharged VBD\n",
            "cylinder JJR\n",
            "engine NN\n",
            "or CC\n",
            "310 CD\n",
            "horsepower JJR\n",
            "liter NN\n",
            "turbocharged VBD\n",
            "v6 NNS\n",
            "while IN\n",
            "all DT\n",
            "of IN\n",
            "the DT\n",
            "new JJ\n",
            "bronco NN\n",
            "suvs NN\n",
            "are VBP\n",
            "designed VBN\n",
            "for IN\n",
            "hard JJ\n",
            "off IN\n",
            "road NN\n",
            "use VBP\n",
            "the DT\n",
            "bronco NN\n",
            "sport NN\n",
            "isn VBZ\n",
            "quite RB\n",
            "as RB\n",
            "hard JJ\n",
            "core NN\n",
            "in IN\n",
            "its PRP$\n",
            "capabilities NNS\n",
            "it PRP\n",
            "also RB\n",
            "has VBZ\n",
            "more JJR\n",
            "convenience NN\n",
            "features NNS\n",
            "than IN\n",
            "the DT\n",
            "more JJR\n",
            "truck NN\n",
            "like IN\n",
            "bronco NN\n",
            "while IN\n",
            "it PRP\n",
            "based VBN\n",
            "on IN\n",
            "engineering NN\n",
            "that IN\n",
            "similar JJ\n",
            "to TO\n",
            "car NN\n",
            "like IN\n",
            "crossover NN\n",
            "suvs VBP\n",
            "ford NN\n",
            "says VBZ\n",
            "that IN\n",
            "it PRP\n",
            "still RB\n",
            "intended VBD\n",
            "for IN\n",
            "serious JJ\n",
            "off IN\n",
            "road NN\n",
            "use NN\n",
            "ford NN\n",
            "engineers NNS\n",
            "boasted VBD\n",
            "of IN\n",
            "the DT\n",
            "off NN\n",
            "road NN\n",
            "testing VBG\n",
            "the DT\n",
            "prototypes NNS\n",
            "have VBP\n",
            "been VBN\n",
            "put VBN\n",
            "through IN\n",
            "including VBG\n",
            "driving VBG\n",
            "through IN\n",
            "deep NN\n",
            "sand NN\n",
            "up RB\n",
            "steep JJ\n",
            "inclines NNS\n",
            "and CC\n",
            "crawling VBG\n",
            "across IN\n",
            "boulder NN\n",
            "strewn NN\n",
            "trails NNS\n"
          ]
        }
      ]
    },
    {
      "cell_type": "code",
      "source": [
        "#What is the overall sentiment and subjectivity of the text\n",
        "\n",
        "print (blob)\n",
        "blob.sentiment"
      ],
      "metadata": {
        "colab": {
          "base_uri": "https://localhost:8080/"
        },
        "id": "n7m2lfPuHwlh",
        "outputId": "8ff6c28d-58ed-4512-d2f6-ce474330407e"
      },
      "execution_count": 48,
      "outputs": [
        {
          "output_type": "stream",
          "name": "stdout",
          "text": [
            "the larger broncos will be available with 35 inch off road tires and will be able to drive through water nearly feet 10 inches deep it has independent front suspension unlike its main competitor the jeep wrangler independent suspension used on almost all modern passenger vehicles generally provides smoother ride and better on road handling than single solid axle it still has solid axle in the back though like most pickup trucks design suited to hard use like the wrangler both the two and four door bronco will have removable roofs and doors buyers will be able to choose either hard roof that can be removed in sections cloth top or both unlike the wrangler though the bronco doors will fit inside the vehicle after being removed the bronco will be available with choice of either 10 speed automatic or seven speed manual transmission the manual transmission will have six gears for ordinary driving plus seventh for low speed off road driving it will be powered by either 270 horsepower liter turbocharged cylinder engine or 310 horsepower liter turbocharged v6 while all of the new bronco suvs are designed for hard off road use the bronco sport isn quite as hard core in its capabilities it also has more convenience features than the more truck like bronco while it based on engineering that similar to car like crossover suvs ford says that it still intended for serious off road use ford engineers boasted of the off road testing the prototypes have been put through including driving through deep sand up steep inclines and crawling across boulder strewn trails\n"
          ]
        },
        {
          "output_type": "execute_result",
          "data": {
            "text/plain": [
              "Sentiment(polarity=0.11036255411255412, subjectivity=0.4042343073593074)"
            ]
          },
          "metadata": {},
          "execution_count": 48
        }
      ]
    }
  ]
}