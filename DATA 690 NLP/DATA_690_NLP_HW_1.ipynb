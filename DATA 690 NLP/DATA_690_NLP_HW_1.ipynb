{
  "nbformat": 4,
  "nbformat_minor": 0,
  "metadata": {
    "colab": {
      "provenance": [],
      "collapsed_sections": [],
      "authorship_tag": "ABX9TyPsTHINs6u19mlTPX+Ee15x",
      "include_colab_link": true
    },
    "kernelspec": {
      "name": "python3",
      "display_name": "Python 3"
    },
    "language_info": {
      "name": "python"
    }
  },
  "cells": [
    {
      "cell_type": "markdown",
      "metadata": {
        "id": "view-in-github",
        "colab_type": "text"
      },
      "source": [
        "<a href=\"https://colab.research.google.com/github/ajitjadhav10/UMBC/blob/main/DATA%20690%20NLP/DATA_690_NLP_HW_1.ipynb\" target=\"_parent\"><img src=\"https://colab.research.google.com/assets/colab-badge.svg\" alt=\"Open In Colab\"/></a>"
      ]
    },
    {
      "cell_type": "markdown",
      "source": [
        "\n",
        "1. Which of the following is not an application of NLP?<br>\n",
        "a. Image labelling<br>\n",
        "b. Poetry generation<br>\n",
        "c. Sentimental analysis<br>\n",
        "d. E-mail classification<br>\n",
        "**Answer: a. Image labelling**\n",
        "\n",
        "\n",
        "2. Which of the following is not an NLP task?<br>\n",
        "a. Tokenization<br>\n",
        "b. Stop word removal<br>\n",
        "c. Part-of-speech tagging<br>\n",
        "d. Image segmentation<br>\n",
        "**Answer: d.  Image segmentation**\n",
        "\n",
        "\n",
        "3. Which of the following is not a disadvantage of rule-based approaches for NLP?<br>\n",
        "a. Not flexible<br>\n",
        "b. Not scalable<br>\n",
        "c. Requires huge dataset<br>\n",
        "d. None of the above<br>\n",
        "**Answer: c. Requires huge dataset**\n",
        "\n",
        "\n",
        "4. What are the two major types of NLP approaches?\n",
        "**Answer**:\n",
        "Two major types of NLP approaches are:\n",
        "1. Machine learning based\n",
        "2. Rule based\n"
      ],
      "metadata": {
        "id": "H61qTq18jJkK"
      }
    },
    {
      "cell_type": "markdown",
      "source": [
        "5. Use TextBlob to translate a sentence in English into French, Mandarin, and\n",
        "Hindi?"
      ],
      "metadata": {
        "id": "1n5bn7iWl7-j"
      }
    },
    {
      "cell_type": "code",
      "execution_count": 1,
      "metadata": {
        "colab": {
          "base_uri": "https://localhost:8080/"
        },
        "id": "ZXr3KIVdmgaY",
        "outputId": "d556d99f-2e65-42a0-c7b9-8474cfcb69bc"
      },
      "outputs": [
        {
          "output_type": "stream",
          "name": "stdout",
          "text": [
            "Looking in indexes: https://pypi.org/simple, https://us-python.pkg.dev/colab-wheels/public/simple/\n",
            "Requirement already satisfied: textblob in /usr/local/lib/python3.7/dist-packages (0.15.3)\n",
            "Requirement already satisfied: nltk>=3.1 in /usr/local/lib/python3.7/dist-packages (from textblob) (3.7)\n",
            "Requirement already satisfied: regex>=2021.8.3 in /usr/local/lib/python3.7/dist-packages (from nltk>=3.1->textblob) (2022.6.2)\n",
            "Requirement already satisfied: tqdm in /usr/local/lib/python3.7/dist-packages (from nltk>=3.1->textblob) (4.64.0)\n",
            "Requirement already satisfied: joblib in /usr/local/lib/python3.7/dist-packages (from nltk>=3.1->textblob) (1.1.0)\n",
            "Requirement already satisfied: click in /usr/local/lib/python3.7/dist-packages (from nltk>=3.1->textblob) (7.1.2)\n"
          ]
        }
      ],
      "source": [
        "pip install textblob"
      ]
    },
    {
      "cell_type": "code",
      "source": [
        "from textblob import TextBlob"
      ],
      "metadata": {
        "id": "rsHsp8u5mkiB"
      },
      "execution_count": 2,
      "outputs": []
    },
    {
      "cell_type": "code",
      "source": [
        "sentence=TextBlob(\"Who knew translation could be fun\")"
      ],
      "metadata": {
        "id": "Oq4rc3Pmmukj"
      },
      "execution_count": 3,
      "outputs": []
    },
    {
      "cell_type": "code",
      "source": [
        "#Translating into french\n",
        "sentence.translate(from_lang='en', to='fr')"
      ],
      "metadata": {
        "colab": {
          "base_uri": "https://localhost:8080/"
        },
        "id": "zWzIrT9_nGU3",
        "outputId": "dae85933-b24b-42b6-9ecb-bf3b9ae9446b"
      },
      "execution_count": 4,
      "outputs": [
        {
          "output_type": "execute_result",
          "data": {
            "text/plain": [
              "TextBlob(\"Qui savait que la traduction pourrait être amusante\")"
            ]
          },
          "metadata": {},
          "execution_count": 4
        }
      ]
    },
    {
      "cell_type": "code",
      "source": [
        "#Translating into hindi\n",
        "sentence.translate(from_lang='en', to='hi')"
      ],
      "metadata": {
        "colab": {
          "base_uri": "https://localhost:8080/"
        },
        "id": "iI9Awrtxn92T",
        "outputId": "2895b971-c7ce-4c2c-e9e0-ea5bb700bc01"
      },
      "execution_count": 5,
      "outputs": [
        {
          "output_type": "execute_result",
          "data": {
            "text/plain": [
              "TextBlob(\"कौन जानता था कि अनुवाद मजेदार हो सकता है\")"
            ]
          },
          "metadata": {},
          "execution_count": 5
        }
      ]
    },
    {
      "cell_type": "code",
      "source": [
        "#Translating into Mandarin\n",
        "sentence.translate(from_lang='en', to='zh-CN')"
      ],
      "metadata": {
        "colab": {
          "base_uri": "https://localhost:8080/"
        },
        "id": "99dd8r0IoeJ6",
        "outputId": "5bef134e-2821-4f5d-aa84-b78a092a8c1f"
      },
      "execution_count": 6,
      "outputs": [
        {
          "output_type": "execute_result",
          "data": {
            "text/plain": [
              "TextBlob(\"谁知道翻译可能很有趣\")"
            ]
          },
          "metadata": {},
          "execution_count": 6
        }
      ]
    }
  ]
}