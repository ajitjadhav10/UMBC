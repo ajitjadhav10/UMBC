{
  "nbformat": 4,
  "nbformat_minor": 0,
  "metadata": {
    "colab": {
      "provenance": [],
      "authorship_tag": "ABX9TyMP23U9o4Q9j3xnSmcaiPtW",
      "include_colab_link": true
    },
    "kernelspec": {
      "name": "python3",
      "display_name": "Python 3"
    },
    "language_info": {
      "name": "python"
    }
  },
  "cells": [
    {
      "cell_type": "markdown",
      "metadata": {
        "id": "view-in-github",
        "colab_type": "text"
      },
      "source": [
        "<a href=\"https://colab.research.google.com/github/ajitjadhav10/UMBC/blob/main/DATA%20690%20NLP/DATA_690_NLP_HW_7.ipynb\" target=\"_parent\"><img src=\"https://colab.research.google.com/assets/colab-badge.svg\" alt=\"Open In Colab\"/></a>"
      ]
    },
    {
      "cell_type": "markdown",
      "source": [
        "Exercise 1"
      ],
      "metadata": {
        "id": "AwW4prvuOUZl"
      }
    },
    {
      "cell_type": "code",
      "source": [
        "import pandas as pd\n",
        "import requests"
      ],
      "metadata": {
        "id": "rsERbNIUIUpm"
      },
      "execution_count": 93,
      "outputs": []
    },
    {
      "cell_type": "code",
      "source": [
        "data= requests.get('https://raw.githubusercontent.com/ajitjadhav10/UMBC/main/DATA%20690%20NLP/Data%20files/Copy%20of%20Burbank.txt')\n",
        "data_1 = data.text\n",
        "print(data_1)"
      ],
      "metadata": {
        "colab": {
          "base_uri": "https://localhost:8080/"
        },
        "id": "lCiK4cx9IK6r",
        "outputId": "73f8c384-aa85-485c-f2ae-335c6ca679c5"
      },
      "execution_count": 94,
      "outputs": [
        {
          "output_type": "stream",
          "name": "stdout",
          "text": [
            "﻿Airport task force to consider possible actions to abate noise issues Members of the Southern San Fernando Valley Airplane Noise Task Force will have a little over a month to develop recommendations about how to address aircraft noise issues affecting the south San Fernando Valley After five meetings and hearing from various neighborhood groups and experts, aviation consultant HMMH Inc., which has been the facilitator of the meetings, spent the majority of Wednesday night distilling all of the recommendations that have been brought forward so far and the feasibility of implementing them \r\n",
            "HMMH worked with Kevin Karpe, an aviation expert who worked as an air traffic controller at Hollywood Burbank and the Federal Aviation Administration Southern California Terminal Radar Approach Control, to analyze the departing flight procedures out of the Burbank airfield as well as Van Nuys Airport, both of which are at the center of the noise issues \r\n",
            "Since March 2017, residents in the south San Fernando Valley have complained about an increase in the number of planes flying overhead Many blame the FAA’s Next Generation Air Transportation System, or NextGen, which was implemented in Southern California in March 2017 The satellite-based navigation system was geared toward making flights across the country more fuel efficient and safe. However, NextGen became more of a nuisance than helpful for many people throughout the United States, according to news reports In the south San Fernando Valley, planes departing from Hollywood Burbank and Van Nuys have drifted south — from around the 101 Freeway to over Studio City and Sherman Oaks — before making northbound turns to head off to their destinations The FAA has stated in the past that NextGen did not change flight procedures out of the two airports, but HMMH and many residents from the region argue that something happened to cause the planes to make their northbound turns later rather than sooner Adam Scholten, a senior consultant with HMMH, said the workload of air traffic controllers in the Southern California TRACON, the air traffic control facility located in San Diego that is in charge of handling all of the flights in the region, may be contributing to the flight paths’ southern shift Scholten said the FAA often combines some of the six sectors of the Southern California TRACON — depending on whether there is less air traffic in one region and/or there are fewer air-traffic controllers available — a practice that can result in higher workloads “Part of the issues with combining sectors is that it can result in paying less attention to things such as standard operating procedures or other agreements that have been established,” Scholten said \r\n",
            "The recommended action to solve the issue, Scholten said, was for the FAA to review its resources at the Southern California TRACON and study how to manage the workload among the air-traffic controllers more efficiently The study conducted by Karpe and his consulting firm Diverse Vector Aviation Consulting LLC also found that air-traffic controllers did not always stick to the standard operating procedures for departing flights out of Hollywood Burbank and Van Nuys, which is to direct pilots to make their northbound turns once their planes meet the minimum criteria It was recommended that the FAA conduct training to refresh air-traffic controllers about the procedures HMMH also reviewed and analyzed the recommendations that were made by the various neighborhood groups Members of UproarLA, one of the groups, had suggested that departing flights should take off at a steeper ascent and make their northbound turns before reaching the 101 Freeway \r\n",
            "Scholten said doing so would be difficult because not every aircraft can ascend as quickly as others depending on weather conditions and the load of the plane He added that airlines can ignore the request if it isn’t made mandatory Gene Reindel, vice president and director of aviation services for HMMH, said planes ascending at a quicker and steeper rate would not be a quieter procedure for the surrounding community The organization Studio City for Quiet Skies proposed that should the FAA implement waypoints for pilots to use when departing from Hollywood Burbank, they should be located north of the 101 Freeway Scholten said this could not be done because the waypoints would be too close to the planes landing at Hollywood Burbank HMMH also showed the task force examples of possible recommendations, which did not go over well with the public They demonstrated that if the FAA implemented two waypoints to guide departing flights out of Hollywood Burbank, it would create a narrow and concentrated path above North Hollywood and the neighborhoods just south of the 101 Freeway before planes make their northbound turns The consulting firm also displayed what would happen if the current number of departing flights stayed on the path used in 2007. It resulted in a slightly less southern shift but also dispersed flights farther west toward Encino The task force will reconvene on April 1 for its final meeting, at which members of the group will deliberate on the best recommended action to address the issues The meeting will be held at 6:30 p.m. at the Los Angeles Marriott Burbank Airport, 2500 N. Hollywood Way Sixth Meeting of the Noise Task Force Held While FAA representatives sat listening with passive, stone-like faces, studies and suggested solutions were presented at the sixth meeting of the Southern San Fernando Valley Airplane Noise Task Force held Feb. 19 to discuss solutions for the ongoing problem of airliner jet noise over the Southern region of the San Fernando Valley–including the City of Burbank HMMH Inc., an environmental and transportation consulting firm, gave a detailed and lengthy presentation supplying studies, research and the pros and cons of the suggested solutions; the Task Force and community groups listened intently When HMMH confirmed air traffic from Hollywood Burbank and Van Nuys Airports had increased from 2017 to 2020, cheers and clapping erupted from the frustrated residents in the audience. Community groups have long said the extreme noise did not start until 2017 after the implementation of the FFA’s NextGen program. The NextGen satellite-based airliner navigational system, created to make flights safer, efficient and quieter, moved flight routes over the Valley from their historic paths A collective proposal by several community groups gave their own research and recommendations. Potential solutions included having planes climb to a higher altitude immediately after takeoff, dispersing flight routes in a wider range over the Valley, so no single community would suffer the bulk of jet noise and that the routes be returned to their historical paths. The FAA has said they will not return the routes to their earlier paths Beth Fulton, president of the Valley Village Homeowners Association said, “We have taken pieces of each group’s presentation and tried to figure out how is there a piece of this that can work, so everybody can try and get some relief. Our continued message is, share, share, share The FFA disqualified most of the recommendations claiming FAA regulations, limitations on airspace, airliner safety, traffic from other airports and many other explanations A newcomer to the Task Force meetings was Pacoima Beautiful representing the North East San Fernando Valley Some of the proposals that have been submitted in terms of changing flight paths is really concentrating most of the flight paths North of the airport–basically over our communities. We have a problem with that,” said Andres Ramirez, director of Pacoima Beautiful “We just have to be very fair in our recommendations,” said City of Burbank Mayor Sharon Springer We will make recommendations and those recommendations will go to the FAA, and they will say yes or no The FAA may know another way to achieve that same outcome \r\n",
            "Several community groups from the affected areas and representatives of the local congressional districts and California’s Senators were in attendance \r\n",
            "Suzanne Lewis, board member of the Valley Village Neighborhood Council was direct, “You know who regulates them [FAA].  Congress. That’s who they’ll listen to. So that’s who we need to be putting pressure on. I’m glad our congressmen are here Even the senators… their representatives are here The Task Force has just under a month to recommend possible solutions to the complex issue of Valley jet noise. The next meeting of the Task Force will be April 2 at the Los Angeles Marriott Burbank Airport\n"
          ]
        }
      ]
    },
    {
      "cell_type": "code",
      "execution_count": 95,
      "metadata": {
        "colab": {
          "base_uri": "https://localhost:8080/"
        },
        "id": "JZZ3M6tYHw6Z",
        "outputId": "9612bbf4-b15a-4e9c-b3c2-bac71ba14d40"
      },
      "outputs": [
        {
          "output_type": "stream",
          "name": "stderr",
          "text": [
            "[nltk_data] Downloading package punkt to /root/nltk_data...\n",
            "[nltk_data]   Package punkt is already up-to-date!\n"
          ]
        },
        {
          "output_type": "execute_result",
          "data": {
            "text/plain": [
              "True"
            ]
          },
          "metadata": {},
          "execution_count": 95
        }
      ],
      "source": [
        "from textblob import TextBlob\n",
        "import nltk\n",
        "nltk.download('punkt')\n"
      ]
    },
    {
      "cell_type": "code",
      "source": [
        "blob=TextBlob(data_1)"
      ],
      "metadata": {
        "id": "A-lLT3IL9KFl"
      },
      "execution_count": 96,
      "outputs": []
    },
    {
      "cell_type": "code",
      "source": [
        "total_sent=0\n",
        "positive_sent=0\n",
        "negative_sent=0\n",
        "neutral_sent=0\n",
        "\n",
        "for sentence in blob.sentences:\n",
        "  total_sent +=1\n",
        "  if sentence.sentiment.polarity > 0:\n",
        "    positive_sent +=1\n",
        "  elif sentence.sentiment.polarity == 0:\n",
        "    neutral_sent +=1\n",
        "  elif sentence.sentiment.polarity < 0:\n",
        "    negative_sent +=1\n",
        "\n",
        "print('probablity of negative sentiment:',(negative_sent/total_sent))"
      ],
      "metadata": {
        "colab": {
          "base_uri": "https://localhost:8080/"
        },
        "id": "tM8RXp7L9fXY",
        "outputId": "fd5b985e-cb83-425f-ec56-35a12f6c1cca"
      },
      "execution_count": 172,
      "outputs": [
        {
          "output_type": "stream",
          "name": "stdout",
          "text": [
            "probablity of negative sentiment: 0.07142857142857142\n"
          ]
        }
      ]
    },
    {
      "cell_type": "markdown",
      "source": [
        "Exercise 2"
      ],
      "metadata": {
        "id": "LKzMATWIOgWc"
      }
    },
    {
      "cell_type": "code",
      "source": [
        "testimonial = TextBlob(data_1)\n",
        "testimonial.sentiment"
      ],
      "metadata": {
        "colab": {
          "base_uri": "https://localhost:8080/"
        },
        "id": "yRQaB1bF9nbg",
        "outputId": "1470c4ef-1ac7-4307-9260-ab2647f7857b"
      },
      "execution_count": 98,
      "outputs": [
        {
          "output_type": "execute_result",
          "data": {
            "text/plain": [
              "Sentiment(polarity=0.09869334480780263, subjectivity=0.3790877796901893)"
            ]
          },
          "metadata": {},
          "execution_count": 98
        }
      ]
    },
    {
      "cell_type": "markdown",
      "source": [
        "The Sentiment of the text is positive and the subjectivity score is 0.3790877796901893"
      ],
      "metadata": {
        "id": "X6WCsyH3NKoE"
      }
    },
    {
      "cell_type": "markdown",
      "source": [
        "Exercise 3"
      ],
      "metadata": {
        "id": "C5dR91ehOjUu"
      }
    },
    {
      "cell_type": "code",
      "source": [
        "word_list=blob.words\n",
        "print(word_list)"
      ],
      "metadata": {
        "colab": {
          "base_uri": "https://localhost:8080/"
        },
        "id": "B-rlLOIS-rLu",
        "outputId": "7886db17-5475-4e71-dadd-bbea3ceb722b"
      },
      "execution_count": 99,
      "outputs": [
        {
          "output_type": "stream",
          "name": "stdout",
          "text": [
            "['\\ufeffAirport', 'task', 'force', 'to', 'consider', 'possible', 'actions', 'to', 'abate', 'noise', 'issues', 'Members', 'of', 'the', 'Southern', 'San', 'Fernando', 'Valley', 'Airplane', 'Noise', 'Task', 'Force', 'will', 'have', 'a', 'little', 'over', 'a', 'month', 'to', 'develop', 'recommendations', 'about', 'how', 'to', 'address', 'aircraft', 'noise', 'issues', 'affecting', 'the', 'south', 'San', 'Fernando', 'Valley', 'After', 'five', 'meetings', 'and', 'hearing', 'from', 'various', 'neighborhood', 'groups', 'and', 'experts', 'aviation', 'consultant', 'HMMH', 'Inc', 'which', 'has', 'been', 'the', 'facilitator', 'of', 'the', 'meetings', 'spent', 'the', 'majority', 'of', 'Wednesday', 'night', 'distilling', 'all', 'of', 'the', 'recommendations', 'that', 'have', 'been', 'brought', 'forward', 'so', 'far', 'and', 'the', 'feasibility', 'of', 'implementing', 'them', 'HMMH', 'worked', 'with', 'Kevin', 'Karpe', 'an', 'aviation', 'expert', 'who', 'worked', 'as', 'an', 'air', 'traffic', 'controller', 'at', 'Hollywood', 'Burbank', 'and', 'the', 'Federal', 'Aviation', 'Administration', 'Southern', 'California', 'Terminal', 'Radar', 'Approach', 'Control', 'to', 'analyze', 'the', 'departing', 'flight', 'procedures', 'out', 'of', 'the', 'Burbank', 'airfield', 'as', 'well', 'as', 'Van', 'Nuys', 'Airport', 'both', 'of', 'which', 'are', 'at', 'the', 'center', 'of', 'the', 'noise', 'issues', 'Since', 'March', '2017', 'residents', 'in', 'the', 'south', 'San', 'Fernando', 'Valley', 'have', 'complained', 'about', 'an', 'increase', 'in', 'the', 'number', 'of', 'planes', 'flying', 'overhead', 'Many', 'blame', 'the', 'FAA', '’', 's', 'Next', 'Generation', 'Air', 'Transportation', 'System', 'or', 'NextGen', 'which', 'was', 'implemented', 'in', 'Southern', 'California', 'in', 'March', '2017', 'The', 'satellite-based', 'navigation', 'system', 'was', 'geared', 'toward', 'making', 'flights', 'across', 'the', 'country', 'more', 'fuel', 'efficient', 'and', 'safe', 'However', 'NextGen', 'became', 'more', 'of', 'a', 'nuisance', 'than', 'helpful', 'for', 'many', 'people', 'throughout', 'the', 'United', 'States', 'according', 'to', 'news', 'reports', 'In', 'the', 'south', 'San', 'Fernando', 'Valley', 'planes', 'departing', 'from', 'Hollywood', 'Burbank', 'and', 'Van', 'Nuys', 'have', 'drifted', 'south', '—', 'from', 'around', 'the', '101', 'Freeway', 'to', 'over', 'Studio', 'City', 'and', 'Sherman', 'Oaks', '—', 'before', 'making', 'northbound', 'turns', 'to', 'head', 'off', 'to', 'their', 'destinations', 'The', 'FAA', 'has', 'stated', 'in', 'the', 'past', 'that', 'NextGen', 'did', 'not', 'change', 'flight', 'procedures', 'out', 'of', 'the', 'two', 'airports', 'but', 'HMMH', 'and', 'many', 'residents', 'from', 'the', 'region', 'argue', 'that', 'something', 'happened', 'to', 'cause', 'the', 'planes', 'to', 'make', 'their', 'northbound', 'turns', 'later', 'rather', 'than', 'sooner', 'Adam', 'Scholten', 'a', 'senior', 'consultant', 'with', 'HMMH', 'said', 'the', 'workload', 'of', 'air', 'traffic', 'controllers', 'in', 'the', 'Southern', 'California', 'TRACON', 'the', 'air', 'traffic', 'control', 'facility', 'located', 'in', 'San', 'Diego', 'that', 'is', 'in', 'charge', 'of', 'handling', 'all', 'of', 'the', 'flights', 'in', 'the', 'region', 'may', 'be', 'contributing', 'to', 'the', 'flight', 'paths', '’', 'southern', 'shift', 'Scholten', 'said', 'the', 'FAA', 'often', 'combines', 'some', 'of', 'the', 'six', 'sectors', 'of', 'the', 'Southern', 'California', 'TRACON', '—', 'depending', 'on', 'whether', 'there', 'is', 'less', 'air', 'traffic', 'in', 'one', 'region', 'and/or', 'there', 'are', 'fewer', 'air-traffic', 'controllers', 'available', '—', 'a', 'practice', 'that', 'can', 'result', 'in', 'higher', 'workloads', '“', 'Part', 'of', 'the', 'issues', 'with', 'combining', 'sectors', 'is', 'that', 'it', 'can', 'result', 'in', 'paying', 'less', 'attention', 'to', 'things', 'such', 'as', 'standard', 'operating', 'procedures', 'or', 'other', 'agreements', 'that', 'have', 'been', 'established', '”', 'Scholten', 'said', 'The', 'recommended', 'action', 'to', 'solve', 'the', 'issue', 'Scholten', 'said', 'was', 'for', 'the', 'FAA', 'to', 'review', 'its', 'resources', 'at', 'the', 'Southern', 'California', 'TRACON', 'and', 'study', 'how', 'to', 'manage', 'the', 'workload', 'among', 'the', 'air-traffic', 'controllers', 'more', 'efficiently', 'The', 'study', 'conducted', 'by', 'Karpe', 'and', 'his', 'consulting', 'firm', 'Diverse', 'Vector', 'Aviation', 'Consulting', 'LLC', 'also', 'found', 'that', 'air-traffic', 'controllers', 'did', 'not', 'always', 'stick', 'to', 'the', 'standard', 'operating', 'procedures', 'for', 'departing', 'flights', 'out', 'of', 'Hollywood', 'Burbank', 'and', 'Van', 'Nuys', 'which', 'is', 'to', 'direct', 'pilots', 'to', 'make', 'their', 'northbound', 'turns', 'once', 'their', 'planes', 'meet', 'the', 'minimum', 'criteria', 'It', 'was', 'recommended', 'that', 'the', 'FAA', 'conduct', 'training', 'to', 'refresh', 'air-traffic', 'controllers', 'about', 'the', 'procedures', 'HMMH', 'also', 'reviewed', 'and', 'analyzed', 'the', 'recommendations', 'that', 'were', 'made', 'by', 'the', 'various', 'neighborhood', 'groups', 'Members', 'of', 'UproarLA', 'one', 'of', 'the', 'groups', 'had', 'suggested', 'that', 'departing', 'flights', 'should', 'take', 'off', 'at', 'a', 'steeper', 'ascent', 'and', 'make', 'their', 'northbound', 'turns', 'before', 'reaching', 'the', '101', 'Freeway', 'Scholten', 'said', 'doing', 'so', 'would', 'be', 'difficult', 'because', 'not', 'every', 'aircraft', 'can', 'ascend', 'as', 'quickly', 'as', 'others', 'depending', 'on', 'weather', 'conditions', 'and', 'the', 'load', 'of', 'the', 'plane', 'He', 'added', 'that', 'airlines', 'can', 'ignore', 'the', 'request', 'if', 'it', 'isn', '’', 't', 'made', 'mandatory', 'Gene', 'Reindel', 'vice', 'president', 'and', 'director', 'of', 'aviation', 'services', 'for', 'HMMH', 'said', 'planes', 'ascending', 'at', 'a', 'quicker', 'and', 'steeper', 'rate', 'would', 'not', 'be', 'a', 'quieter', 'procedure', 'for', 'the', 'surrounding', 'community', 'The', 'organization', 'Studio', 'City', 'for', 'Quiet', 'Skies', 'proposed', 'that', 'should', 'the', 'FAA', 'implement', 'waypoints', 'for', 'pilots', 'to', 'use', 'when', 'departing', 'from', 'Hollywood', 'Burbank', 'they', 'should', 'be', 'located', 'north', 'of', 'the', '101', 'Freeway', 'Scholten', 'said', 'this', 'could', 'not', 'be', 'done', 'because', 'the', 'waypoints', 'would', 'be', 'too', 'close', 'to', 'the', 'planes', 'landing', 'at', 'Hollywood', 'Burbank', 'HMMH', 'also', 'showed', 'the', 'task', 'force', 'examples', 'of', 'possible', 'recommendations', 'which', 'did', 'not', 'go', 'over', 'well', 'with', 'the', 'public', 'They', 'demonstrated', 'that', 'if', 'the', 'FAA', 'implemented', 'two', 'waypoints', 'to', 'guide', 'departing', 'flights', 'out', 'of', 'Hollywood', 'Burbank', 'it', 'would', 'create', 'a', 'narrow', 'and', 'concentrated', 'path', 'above', 'North', 'Hollywood', 'and', 'the', 'neighborhoods', 'just', 'south', 'of', 'the', '101', 'Freeway', 'before', 'planes', 'make', 'their', 'northbound', 'turns', 'The', 'consulting', 'firm', 'also', 'displayed', 'what', 'would', 'happen', 'if', 'the', 'current', 'number', 'of', 'departing', 'flights', 'stayed', 'on', 'the', 'path', 'used', 'in', '2007', 'It', 'resulted', 'in', 'a', 'slightly', 'less', 'southern', 'shift', 'but', 'also', 'dispersed', 'flights', 'farther', 'west', 'toward', 'Encino', 'The', 'task', 'force', 'will', 'reconvene', 'on', 'April', '1', 'for', 'its', 'final', 'meeting', 'at', 'which', 'members', 'of', 'the', 'group', 'will', 'deliberate', 'on', 'the', 'best', 'recommended', 'action', 'to', 'address', 'the', 'issues', 'The', 'meeting', 'will', 'be', 'held', 'at', '6:30', 'p.m', 'at', 'the', 'Los', 'Angeles', 'Marriott', 'Burbank', 'Airport', '2500', 'N', 'Hollywood', 'Way', 'Sixth', 'Meeting', 'of', 'the', 'Noise', 'Task', 'Force', 'Held', 'While', 'FAA', 'representatives', 'sat', 'listening', 'with', 'passive', 'stone-like', 'faces', 'studies', 'and', 'suggested', 'solutions', 'were', 'presented', 'at', 'the', 'sixth', 'meeting', 'of', 'the', 'Southern', 'San', 'Fernando', 'Valley', 'Airplane', 'Noise', 'Task', 'Force', 'held', 'Feb', '19', 'to', 'discuss', 'solutions', 'for', 'the', 'ongoing', 'problem', 'of', 'airliner', 'jet', 'noise', 'over', 'the', 'Southern', 'region', 'of', 'the', 'San', 'Fernando', 'Valley–including', 'the', 'City', 'of', 'Burbank', 'HMMH', 'Inc', 'an', 'environmental', 'and', 'transportation', 'consulting', 'firm', 'gave', 'a', 'detailed', 'and', 'lengthy', 'presentation', 'supplying', 'studies', 'research', 'and', 'the', 'pros', 'and', 'cons', 'of', 'the', 'suggested', 'solutions', 'the', 'Task', 'Force', 'and', 'community', 'groups', 'listened', 'intently', 'When', 'HMMH', 'confirmed', 'air', 'traffic', 'from', 'Hollywood', 'Burbank', 'and', 'Van', 'Nuys', 'Airports', 'had', 'increased', 'from', '2017', 'to', '2020', 'cheers', 'and', 'clapping', 'erupted', 'from', 'the', 'frustrated', 'residents', 'in', 'the', 'audience', 'Community', 'groups', 'have', 'long', 'said', 'the', 'extreme', 'noise', 'did', 'not', 'start', 'until', '2017', 'after', 'the', 'implementation', 'of', 'the', 'FFA', '’', 's', 'NextGen', 'program', 'The', 'NextGen', 'satellite-based', 'airliner', 'navigational', 'system', 'created', 'to', 'make', 'flights', 'safer', 'efficient', 'and', 'quieter', 'moved', 'flight', 'routes', 'over', 'the', 'Valley', 'from', 'their', 'historic', 'paths', 'A', 'collective', 'proposal', 'by', 'several', 'community', 'groups', 'gave', 'their', 'own', 'research', 'and', 'recommendations', 'Potential', 'solutions', 'included', 'having', 'planes', 'climb', 'to', 'a', 'higher', 'altitude', 'immediately', 'after', 'takeoff', 'dispersing', 'flight', 'routes', 'in', 'a', 'wider', 'range', 'over', 'the', 'Valley', 'so', 'no', 'single', 'community', 'would', 'suffer', 'the', 'bulk', 'of', 'jet', 'noise', 'and', 'that', 'the', 'routes', 'be', 'returned', 'to', 'their', 'historical', 'paths', 'The', 'FAA', 'has', 'said', 'they', 'will', 'not', 'return', 'the', 'routes', 'to', 'their', 'earlier', 'paths', 'Beth', 'Fulton', 'president', 'of', 'the', 'Valley', 'Village', 'Homeowners', 'Association', 'said', '“', 'We', 'have', 'taken', 'pieces', 'of', 'each', 'group', '’', 's', 'presentation', 'and', 'tried', 'to', 'figure', 'out', 'how', 'is', 'there', 'a', 'piece', 'of', 'this', 'that', 'can', 'work', 'so', 'everybody', 'can', 'try', 'and', 'get', 'some', 'relief', 'Our', 'continued', 'message', 'is', 'share', 'share', 'share', 'The', 'FFA', 'disqualified', 'most', 'of', 'the', 'recommendations', 'claiming', 'FAA', 'regulations', 'limitations', 'on', 'airspace', 'airliner', 'safety', 'traffic', 'from', 'other', 'airports', 'and', 'many', 'other', 'explanations', 'A', 'newcomer', 'to', 'the', 'Task', 'Force', 'meetings', 'was', 'Pacoima', 'Beautiful', 'representing', 'the', 'North', 'East', 'San', 'Fernando', 'Valley', 'Some', 'of', 'the', 'proposals', 'that', 'have', 'been', 'submitted', 'in', 'terms', 'of', 'changing', 'flight', 'paths', 'is', 'really', 'concentrating', 'most', 'of', 'the', 'flight', 'paths', 'North', 'of', 'the', 'airport–basically', 'over', 'our', 'communities', 'We', 'have', 'a', 'problem', 'with', 'that', '”', 'said', 'Andres', 'Ramirez', 'director', 'of', 'Pacoima', 'Beautiful', '“', 'We', 'just', 'have', 'to', 'be', 'very', 'fair', 'in', 'our', 'recommendations', '”', 'said', 'City', 'of', 'Burbank', 'Mayor', 'Sharon', 'Springer', 'We', 'will', 'make', 'recommendations', 'and', 'those', 'recommendations', 'will', 'go', 'to', 'the', 'FAA', 'and', 'they', 'will', 'say', 'yes', 'or', 'no', 'The', 'FAA', 'may', 'know', 'another', 'way', 'to', 'achieve', 'that', 'same', 'outcome', 'Several', 'community', 'groups', 'from', 'the', 'affected', 'areas', 'and', 'representatives', 'of', 'the', 'local', 'congressional', 'districts', 'and', 'California', '’', 's', 'Senators', 'were', 'in', 'attendance', 'Suzanne', 'Lewis', 'board', 'member', 'of', 'the', 'Valley', 'Village', 'Neighborhood', 'Council', 'was', 'direct', '“', 'You', 'know', 'who', 'regulates', 'them', 'FAA', 'Congress', 'That', '’', 's', 'who', 'they', '’', 'll', 'listen', 'to', 'So', 'that', '’', 's', 'who', 'we', 'need', 'to', 'be', 'putting', 'pressure', 'on', 'I', '’', 'm', 'glad', 'our', 'congressmen', 'are', 'here', 'Even', 'the', 'senators…', 'their', 'representatives', 'are', 'here', 'The', 'Task', 'Force', 'has', 'just', 'under', 'a', 'month', 'to', 'recommend', 'possible', 'solutions', 'to', 'the', 'complex', 'issue', 'of', 'Valley', 'jet', 'noise', 'The', 'next', 'meeting', 'of', 'the', 'Task', 'Force', 'will', 'be', 'April', '2', 'at', 'the', 'Los', 'Angeles', 'Marriott', 'Burbank', 'Airport']\n"
          ]
        }
      ]
    },
    {
      "cell_type": "code",
      "source": [
        "from string import punctuation\n",
        "from spacy.lang.en.stop_words import STOP_WORDS\n",
        "import spacy"
      ],
      "metadata": {
        "id": "6fR047pGFazq"
      },
      "execution_count": 101,
      "outputs": []
    },
    {
      "cell_type": "code",
      "source": [
        "extra_words=list(STOP_WORDS)+list(punctuation)+['\\n']\n",
        "nlp = spacy.load(\"en_core_web_sm\")"
      ],
      "metadata": {
        "id": "yMcKfAzpFU60"
      },
      "execution_count": 102,
      "outputs": []
    },
    {
      "cell_type": "code",
      "source": [
        "important_words={}\n",
        "\n",
        "\n",
        "for word in word_list:\n",
        "  if word.lower() not in extra_words:\n",
        "    if word not in important_words.keys():\n",
        "      important_words[word]=1\n",
        "    else:\n",
        "      important_words[word] +=1"
      ],
      "metadata": {
        "id": "Nmm_dqtXFJQf"
      },
      "execution_count": 103,
      "outputs": []
    },
    {
      "cell_type": "code",
      "source": [
        "import operator\n",
        "sorted_d = dict( sorted(important_words.items(), key=operator.itemgetter(1),reverse=True))"
      ],
      "metadata": {
        "id": "nIDYICQ5HMlh"
      },
      "execution_count": 104,
      "outputs": []
    },
    {
      "cell_type": "code",
      "source": [
        "#The words are ordered in the order of their importance based on their frequency\n",
        "\n",
        "print(sorted_d)"
      ],
      "metadata": {
        "colab": {
          "base_uri": "https://localhost:8080/"
        },
        "id": "hZwmLjFjIGRz",
        "outputId": "32c18165-aaab-49e9-d47b-6ec31761d516"
      },
      "execution_count": 176,
      "outputs": [
        {
          "output_type": "stream",
          "name": "stdout",
          "text": [
            "{'FAA': 13, 'Burbank': 12, 'said': 12, 'Valley': 11, '’': 10, 'recommendations': 9, 'HMMH': 9, 'Hollywood': 9, 'Southern': 8, 'San': 8, 'planes': 8, 'flights': 8, 'noise': 7, 'Fernando': 7, 'Task': 7, 'Force': 7, 'groups': 7, 'departing': 7, 'flight': 7, 'traffic': 6, 'California': 6, 's': 6, 'Scholten': 6, 'paths': 6, 'issues': 5, 'south': 5, 'air': 5, 'procedures': 5, 'NextGen': 5, 'northbound': 5, 'turns': 5, 'controllers': 5, 'community': 5, 'solutions': 5, 'Van': 4, 'Nuys': 4, '2017': 4, '—': 4, '101': 4, 'Freeway': 4, 'City': 4, 'region': 4, 'air-traffic': 4, '“': 4, 'meeting': 4, 'routes': 4, 'task': 3, 'force': 3, 'possible': 3, 'Noise': 3, 'meetings': 3, 'aviation': 3, 'Airport': 3, 'residents': 3, 'TRACON': 3, '”': 3, 'recommended': 3, 'consulting': 3, 'firm': 3, 'suggested': 3, 'waypoints': 3, 'North': 3, 'representatives': 3, 'airliner': 3, 'jet': 3, 'share': 3, 'Members': 2, 'Airplane': 2, 'month': 2, 'address': 2, 'aircraft': 2, 'neighborhood': 2, 'consultant': 2, 'Inc': 2, 'worked': 2, 'Karpe': 2, 'Aviation': 2, 'March': 2, 'number': 2, 'implemented': 2, 'satellite-based': 2, 'system': 2, 'making': 2, 'efficient': 2, 'Studio': 2, 'airports': 2, 'workload': 2, 'located': 2, 'southern': 2, 'shift': 2, 'sectors': 2, 'depending': 2, 'result': 2, 'higher': 2, 'standard': 2, 'operating': 2, 'action': 2, 'issue': 2, 'study': 2, 'direct': 2, 'pilots': 2, 'steeper': 2, 'president': 2, 'director': 2, 'quieter': 2, 'path': 2, 'April': 2, 'group': 2, 'held': 2, 'Los': 2, 'Angeles': 2, 'Marriott': 2, 'studies': 2, 'problem': 2, 'gave': 2, 'presentation': 2, 'research': 2, 'FFA': 2, 'Village': 2, 'Pacoima': 2, 'Beautiful': 2, 'know': 2, '\\ufeffAirport': 1, 'consider': 1, 'actions': 1, 'abate': 1, 'little': 1, 'develop': 1, 'affecting': 1, 'hearing': 1, 'experts': 1, 'facilitator': 1, 'spent': 1, 'majority': 1, 'Wednesday': 1, 'night': 1, 'distilling': 1, 'brought': 1, 'forward': 1, 'far': 1, 'feasibility': 1, 'implementing': 1, 'Kevin': 1, 'expert': 1, 'controller': 1, 'Federal': 1, 'Administration': 1, 'Terminal': 1, 'Radar': 1, 'Approach': 1, 'Control': 1, 'analyze': 1, 'airfield': 1, 'center': 1, 'complained': 1, 'increase': 1, 'flying': 1, 'overhead': 1, 'blame': 1, 'Generation': 1, 'Air': 1, 'Transportation': 1, 'System': 1, 'navigation': 1, 'geared': 1, 'country': 1, 'fuel': 1, 'safe': 1, 'nuisance': 1, 'helpful': 1, 'people': 1, 'United': 1, 'States': 1, 'according': 1, 'news': 1, 'reports': 1, 'drifted': 1, 'Sherman': 1, 'Oaks': 1, 'head': 1, 'destinations': 1, 'stated': 1, 'past': 1, 'change': 1, 'argue': 1, 'happened': 1, 'cause': 1, 'later': 1, 'sooner': 1, 'Adam': 1, 'senior': 1, 'control': 1, 'facility': 1, 'Diego': 1, 'charge': 1, 'handling': 1, 'contributing': 1, 'combines': 1, 'and/or': 1, 'fewer': 1, 'available': 1, 'practice': 1, 'workloads': 1, 'combining': 1, 'paying': 1, 'attention': 1, 'things': 1, 'agreements': 1, 'established': 1, 'solve': 1, 'review': 1, 'resources': 1, 'manage': 1, 'efficiently': 1, 'conducted': 1, 'Diverse': 1, 'Vector': 1, 'Consulting': 1, 'LLC': 1, 'found': 1, 'stick': 1, 'meet': 1, 'minimum': 1, 'criteria': 1, 'conduct': 1, 'training': 1, 'refresh': 1, 'reviewed': 1, 'analyzed': 1, 'UproarLA': 1, 'ascent': 1, 'reaching': 1, 'difficult': 1, 'ascend': 1, 'quickly': 1, 'weather': 1, 'conditions': 1, 'load': 1, 'plane': 1, 'added': 1, 'airlines': 1, 'ignore': 1, 'request': 1, 'isn': 1, 't': 1, 'mandatory': 1, 'Gene': 1, 'Reindel': 1, 'vice': 1, 'services': 1, 'ascending': 1, 'quicker': 1, 'rate': 1, 'procedure': 1, 'surrounding': 1, 'organization': 1, 'Quiet': 1, 'Skies': 1, 'proposed': 1, 'implement': 1, 'use': 1, 'north': 1, 'close': 1, 'landing': 1, 'showed': 1, 'examples': 1, 'public': 1, 'demonstrated': 1, 'guide': 1, 'create': 1, 'narrow': 1, 'concentrated': 1, 'neighborhoods': 1, 'displayed': 1, 'happen': 1, 'current': 1, 'stayed': 1, '2007': 1, 'resulted': 1, 'slightly': 1, 'dispersed': 1, 'farther': 1, 'west': 1, 'Encino': 1, 'reconvene': 1, '1': 1, 'final': 1, 'members': 1, 'deliberate': 1, 'best': 1, '6:30': 1, 'p.m': 1, '2500': 1, 'N': 1, 'Way': 1, 'Sixth': 1, 'Meeting': 1, 'Held': 1, 'sat': 1, 'listening': 1, 'passive': 1, 'stone-like': 1, 'faces': 1, 'presented': 1, 'sixth': 1, 'Feb': 1, '19': 1, 'discuss': 1, 'ongoing': 1, 'Valley–including': 1, 'environmental': 1, 'transportation': 1, 'detailed': 1, 'lengthy': 1, 'supplying': 1, 'pros': 1, 'cons': 1, 'listened': 1, 'intently': 1, 'confirmed': 1, 'Airports': 1, 'increased': 1, '2020': 1, 'cheers': 1, 'clapping': 1, 'erupted': 1, 'frustrated': 1, 'audience': 1, 'Community': 1, 'long': 1, 'extreme': 1, 'start': 1, 'implementation': 1, 'program': 1, 'navigational': 1, 'created': 1, 'safer': 1, 'moved': 1, 'historic': 1, 'collective': 1, 'proposal': 1, 'Potential': 1, 'included': 1, 'having': 1, 'climb': 1, 'altitude': 1, 'immediately': 1, 'takeoff': 1, 'dispersing': 1, 'wider': 1, 'range': 1, 'single': 1, 'suffer': 1, 'bulk': 1, 'returned': 1, 'historical': 1, 'return': 1, 'earlier': 1, 'Beth': 1, 'Fulton': 1, 'Homeowners': 1, 'Association': 1, 'taken': 1, 'pieces': 1, 'tried': 1, 'figure': 1, 'piece': 1, 'work': 1, 'everybody': 1, 'try': 1, 'relief': 1, 'continued': 1, 'message': 1, 'disqualified': 1, 'claiming': 1, 'regulations': 1, 'limitations': 1, 'airspace': 1, 'safety': 1, 'explanations': 1, 'newcomer': 1, 'representing': 1, 'East': 1, 'proposals': 1, 'submitted': 1, 'terms': 1, 'changing': 1, 'concentrating': 1, 'airport–basically': 1, 'communities': 1, 'Andres': 1, 'Ramirez': 1, 'fair': 1, 'Mayor': 1, 'Sharon': 1, 'Springer': 1, 'yes': 1, 'way': 1, 'achieve': 1, 'outcome': 1, 'affected': 1, 'areas': 1, 'local': 1, 'congressional': 1, 'districts': 1, 'Senators': 1, 'attendance': 1, 'Suzanne': 1, 'Lewis': 1, 'board': 1, 'member': 1, 'Neighborhood': 1, 'Council': 1, 'regulates': 1, 'Congress': 1, 'll': 1, 'listen': 1, 'need': 1, 'putting': 1, 'pressure': 1, 'm': 1, 'glad': 1, 'congressmen': 1, 'senators…': 1, 'recommend': 1, 'complex': 1, '2': 1}\n"
          ]
        }
      ]
    },
    {
      "cell_type": "markdown",
      "source": [
        "Exercise 4"
      ],
      "metadata": {
        "id": "rxRrnKqeN21D"
      }
    },
    {
      "cell_type": "code",
      "source": [
        "data_yelp=pd.read_csv('https://raw.githubusercontent.com/ajitjadhav10/UMBC/main/DATA%20690%20NLP/Data%20files/yelp_labelled.txt', sep='\\t')\n",
        "data_imdb=pd.read_csv('https://raw.githubusercontent.com/ajitjadhav10/UMBC/main/DATA%20690%20NLP/Data%20files/imdb_labelled.txt',sep='\\t')\n",
        "data_amazon=pd.read_csv('https://raw.githubusercontent.com/ajitjadhav10/UMBC/main/DATA%20690%20NLP/Data%20files/amazon_cells_labelled.txt',sep='\\t')"
      ],
      "metadata": {
        "id": "AMIPcBqgIHfd"
      },
      "execution_count": 157,
      "outputs": []
    },
    {
      "cell_type": "code",
      "source": [
        "#Joining the three data frames\n",
        "combined_col=[data_amazon, data_imdb, data_yelp]"
      ],
      "metadata": {
        "id": "o0al082k2RPW"
      },
      "execution_count": 158,
      "outputs": []
    },
    {
      "cell_type": "code",
      "source": [
        "for column_name in combined_col:\n",
        "  column_name.columns=['Review','Label']"
      ],
      "metadata": {
        "id": "cc6xDeAmO-Ys"
      },
      "execution_count": 159,
      "outputs": []
    },
    {
      "cell_type": "code",
      "source": [
        "for column_name in combined_col:\n",
        "  print(column_name.columns)"
      ],
      "metadata": {
        "colab": {
          "base_uri": "https://localhost:8080/"
        },
        "id": "sw8P_QX0TwdP",
        "outputId": "17ad544f-f902-47f8-df2a-22c2ba2050b4"
      },
      "execution_count": 160,
      "outputs": [
        {
          "output_type": "stream",
          "name": "stdout",
          "text": [
            "Index(['Review', 'Label'], dtype='object')\n",
            "Index(['Review', 'Label'], dtype='object')\n",
            "Index(['Review', 'Label'], dtype='object')\n"
          ]
        }
      ]
    },
    {
      "cell_type": "code",
      "source": [
        "keys_1=['amazon','imdb','yelp']"
      ],
      "metadata": {
        "id": "tzk8IOeeT7LM"
      },
      "execution_count": 161,
      "outputs": []
    },
    {
      "cell_type": "code",
      "source": [
        "comb_data = pd.concat(combined_col,keys=keys_1).reset_index()\n",
        "comb_data.head()"
      ],
      "metadata": {
        "colab": {
          "base_uri": "https://localhost:8080/",
          "height": 206
        },
        "id": "hceHLIQVYn5U",
        "outputId": "80f554c9-b214-40dc-b7a8-4f8211fe6c61"
      },
      "execution_count": 162,
      "outputs": [
        {
          "output_type": "execute_result",
          "data": {
            "text/plain": [
              "  level_0  level_1                                             Review  Label\n",
              "0  amazon        0                        Good case, Excellent value.      1\n",
              "1  amazon        1                             Great for the jawbone.      1\n",
              "2  amazon        2  Tied to charger for conversations lasting more...      0\n",
              "3  amazon        3                                  The mic is great.      1\n",
              "4  amazon        4  I have to jiggle the plug to get it to line up...      0"
            ],
            "text/html": [
              "\n",
              "  <div id=\"df-f4e69628-5a28-4f0b-b951-d7c7359485bc\">\n",
              "    <div class=\"colab-df-container\">\n",
              "      <div>\n",
              "<style scoped>\n",
              "    .dataframe tbody tr th:only-of-type {\n",
              "        vertical-align: middle;\n",
              "    }\n",
              "\n",
              "    .dataframe tbody tr th {\n",
              "        vertical-align: top;\n",
              "    }\n",
              "\n",
              "    .dataframe thead th {\n",
              "        text-align: right;\n",
              "    }\n",
              "</style>\n",
              "<table border=\"1\" class=\"dataframe\">\n",
              "  <thead>\n",
              "    <tr style=\"text-align: right;\">\n",
              "      <th></th>\n",
              "      <th>level_0</th>\n",
              "      <th>level_1</th>\n",
              "      <th>Review</th>\n",
              "      <th>Label</th>\n",
              "    </tr>\n",
              "  </thead>\n",
              "  <tbody>\n",
              "    <tr>\n",
              "      <th>0</th>\n",
              "      <td>amazon</td>\n",
              "      <td>0</td>\n",
              "      <td>Good case, Excellent value.</td>\n",
              "      <td>1</td>\n",
              "    </tr>\n",
              "    <tr>\n",
              "      <th>1</th>\n",
              "      <td>amazon</td>\n",
              "      <td>1</td>\n",
              "      <td>Great for the jawbone.</td>\n",
              "      <td>1</td>\n",
              "    </tr>\n",
              "    <tr>\n",
              "      <th>2</th>\n",
              "      <td>amazon</td>\n",
              "      <td>2</td>\n",
              "      <td>Tied to charger for conversations lasting more...</td>\n",
              "      <td>0</td>\n",
              "    </tr>\n",
              "    <tr>\n",
              "      <th>3</th>\n",
              "      <td>amazon</td>\n",
              "      <td>3</td>\n",
              "      <td>The mic is great.</td>\n",
              "      <td>1</td>\n",
              "    </tr>\n",
              "    <tr>\n",
              "      <th>4</th>\n",
              "      <td>amazon</td>\n",
              "      <td>4</td>\n",
              "      <td>I have to jiggle the plug to get it to line up...</td>\n",
              "      <td>0</td>\n",
              "    </tr>\n",
              "  </tbody>\n",
              "</table>\n",
              "</div>\n",
              "      <button class=\"colab-df-convert\" onclick=\"convertToInteractive('df-f4e69628-5a28-4f0b-b951-d7c7359485bc')\"\n",
              "              title=\"Convert this dataframe to an interactive table.\"\n",
              "              style=\"display:none;\">\n",
              "        \n",
              "  <svg xmlns=\"http://www.w3.org/2000/svg\" height=\"24px\"viewBox=\"0 0 24 24\"\n",
              "       width=\"24px\">\n",
              "    <path d=\"M0 0h24v24H0V0z\" fill=\"none\"/>\n",
              "    <path d=\"M18.56 5.44l.94 2.06.94-2.06 2.06-.94-2.06-.94-.94-2.06-.94 2.06-2.06.94zm-11 1L8.5 8.5l.94-2.06 2.06-.94-2.06-.94L8.5 2.5l-.94 2.06-2.06.94zm10 10l.94 2.06.94-2.06 2.06-.94-2.06-.94-.94-2.06-.94 2.06-2.06.94z\"/><path d=\"M17.41 7.96l-1.37-1.37c-.4-.4-.92-.59-1.43-.59-.52 0-1.04.2-1.43.59L10.3 9.45l-7.72 7.72c-.78.78-.78 2.05 0 2.83L4 21.41c.39.39.9.59 1.41.59.51 0 1.02-.2 1.41-.59l7.78-7.78 2.81-2.81c.8-.78.8-2.07 0-2.86zM5.41 20L4 18.59l7.72-7.72 1.47 1.35L5.41 20z\"/>\n",
              "  </svg>\n",
              "      </button>\n",
              "      \n",
              "  <style>\n",
              "    .colab-df-container {\n",
              "      display:flex;\n",
              "      flex-wrap:wrap;\n",
              "      gap: 12px;\n",
              "    }\n",
              "\n",
              "    .colab-df-convert {\n",
              "      background-color: #E8F0FE;\n",
              "      border: none;\n",
              "      border-radius: 50%;\n",
              "      cursor: pointer;\n",
              "      display: none;\n",
              "      fill: #1967D2;\n",
              "      height: 32px;\n",
              "      padding: 0 0 0 0;\n",
              "      width: 32px;\n",
              "    }\n",
              "\n",
              "    .colab-df-convert:hover {\n",
              "      background-color: #E2EBFA;\n",
              "      box-shadow: 0px 1px 2px rgba(60, 64, 67, 0.3), 0px 1px 3px 1px rgba(60, 64, 67, 0.15);\n",
              "      fill: #174EA6;\n",
              "    }\n",
              "\n",
              "    [theme=dark] .colab-df-convert {\n",
              "      background-color: #3B4455;\n",
              "      fill: #D2E3FC;\n",
              "    }\n",
              "\n",
              "    [theme=dark] .colab-df-convert:hover {\n",
              "      background-color: #434B5C;\n",
              "      box-shadow: 0px 1px 3px 1px rgba(0, 0, 0, 0.15);\n",
              "      filter: drop-shadow(0px 1px 2px rgba(0, 0, 0, 0.3));\n",
              "      fill: #FFFFFF;\n",
              "    }\n",
              "  </style>\n",
              "\n",
              "      <script>\n",
              "        const buttonEl =\n",
              "          document.querySelector('#df-f4e69628-5a28-4f0b-b951-d7c7359485bc button.colab-df-convert');\n",
              "        buttonEl.style.display =\n",
              "          google.colab.kernel.accessAllowed ? 'block' : 'none';\n",
              "\n",
              "        async function convertToInteractive(key) {\n",
              "          const element = document.querySelector('#df-f4e69628-5a28-4f0b-b951-d7c7359485bc');\n",
              "          const dataTable =\n",
              "            await google.colab.kernel.invokeFunction('convertToInteractive',\n",
              "                                                     [key], {});\n",
              "          if (!dataTable) return;\n",
              "\n",
              "          const docLinkHtml = 'Like what you see? Visit the ' +\n",
              "            '<a target=\"_blank\" href=https://colab.research.google.com/notebooks/data_table.ipynb>data table notebook</a>'\n",
              "            + ' to learn more about interactive tables.';\n",
              "          element.innerHTML = '';\n",
              "          dataTable['output_type'] = 'display_data';\n",
              "          await google.colab.output.renderOutput(dataTable, element);\n",
              "          const docLink = document.createElement('div');\n",
              "          docLink.innerHTML = docLinkHtml;\n",
              "          element.appendChild(docLink);\n",
              "        }\n",
              "      </script>\n",
              "    </div>\n",
              "  </div>\n",
              "  "
            ]
          },
          "metadata": {},
          "execution_count": 162
        }
      ]
    },
    {
      "cell_type": "code",
      "source": [
        "comb_data=comb_data.drop('level_1',axis=1)"
      ],
      "metadata": {
        "id": "VL-Cw2KSWOEM"
      },
      "execution_count": 163,
      "outputs": []
    },
    {
      "cell_type": "code",
      "source": [
        "comb_data=comb_data.rename({'level_0':'Company'}, axis=1)\n",
        "comb_data.head()"
      ],
      "metadata": {
        "colab": {
          "base_uri": "https://localhost:8080/",
          "height": 206
        },
        "id": "VpKiFec4WZ_E",
        "outputId": "badf8ac7-bdad-4f94-974e-4681e5d3284e"
      },
      "execution_count": 164,
      "outputs": [
        {
          "output_type": "execute_result",
          "data": {
            "text/plain": [
              "  comp_source                                             Review  Label\n",
              "0      amazon                        Good case, Excellent value.      1\n",
              "1      amazon                             Great for the jawbone.      1\n",
              "2      amazon  Tied to charger for conversations lasting more...      0\n",
              "3      amazon                                  The mic is great.      1\n",
              "4      amazon  I have to jiggle the plug to get it to line up...      0"
            ],
            "text/html": [
              "\n",
              "  <div id=\"df-6adda861-659b-4d97-a8cf-e7357bb9c5be\">\n",
              "    <div class=\"colab-df-container\">\n",
              "      <div>\n",
              "<style scoped>\n",
              "    .dataframe tbody tr th:only-of-type {\n",
              "        vertical-align: middle;\n",
              "    }\n",
              "\n",
              "    .dataframe tbody tr th {\n",
              "        vertical-align: top;\n",
              "    }\n",
              "\n",
              "    .dataframe thead th {\n",
              "        text-align: right;\n",
              "    }\n",
              "</style>\n",
              "<table border=\"1\" class=\"dataframe\">\n",
              "  <thead>\n",
              "    <tr style=\"text-align: right;\">\n",
              "      <th></th>\n",
              "      <th>comp_source</th>\n",
              "      <th>Review</th>\n",
              "      <th>Label</th>\n",
              "    </tr>\n",
              "  </thead>\n",
              "  <tbody>\n",
              "    <tr>\n",
              "      <th>0</th>\n",
              "      <td>amazon</td>\n",
              "      <td>Good case, Excellent value.</td>\n",
              "      <td>1</td>\n",
              "    </tr>\n",
              "    <tr>\n",
              "      <th>1</th>\n",
              "      <td>amazon</td>\n",
              "      <td>Great for the jawbone.</td>\n",
              "      <td>1</td>\n",
              "    </tr>\n",
              "    <tr>\n",
              "      <th>2</th>\n",
              "      <td>amazon</td>\n",
              "      <td>Tied to charger for conversations lasting more...</td>\n",
              "      <td>0</td>\n",
              "    </tr>\n",
              "    <tr>\n",
              "      <th>3</th>\n",
              "      <td>amazon</td>\n",
              "      <td>The mic is great.</td>\n",
              "      <td>1</td>\n",
              "    </tr>\n",
              "    <tr>\n",
              "      <th>4</th>\n",
              "      <td>amazon</td>\n",
              "      <td>I have to jiggle the plug to get it to line up...</td>\n",
              "      <td>0</td>\n",
              "    </tr>\n",
              "  </tbody>\n",
              "</table>\n",
              "</div>\n",
              "      <button class=\"colab-df-convert\" onclick=\"convertToInteractive('df-6adda861-659b-4d97-a8cf-e7357bb9c5be')\"\n",
              "              title=\"Convert this dataframe to an interactive table.\"\n",
              "              style=\"display:none;\">\n",
              "        \n",
              "  <svg xmlns=\"http://www.w3.org/2000/svg\" height=\"24px\"viewBox=\"0 0 24 24\"\n",
              "       width=\"24px\">\n",
              "    <path d=\"M0 0h24v24H0V0z\" fill=\"none\"/>\n",
              "    <path d=\"M18.56 5.44l.94 2.06.94-2.06 2.06-.94-2.06-.94-.94-2.06-.94 2.06-2.06.94zm-11 1L8.5 8.5l.94-2.06 2.06-.94-2.06-.94L8.5 2.5l-.94 2.06-2.06.94zm10 10l.94 2.06.94-2.06 2.06-.94-2.06-.94-.94-2.06-.94 2.06-2.06.94z\"/><path d=\"M17.41 7.96l-1.37-1.37c-.4-.4-.92-.59-1.43-.59-.52 0-1.04.2-1.43.59L10.3 9.45l-7.72 7.72c-.78.78-.78 2.05 0 2.83L4 21.41c.39.39.9.59 1.41.59.51 0 1.02-.2 1.41-.59l7.78-7.78 2.81-2.81c.8-.78.8-2.07 0-2.86zM5.41 20L4 18.59l7.72-7.72 1.47 1.35L5.41 20z\"/>\n",
              "  </svg>\n",
              "      </button>\n",
              "      \n",
              "  <style>\n",
              "    .colab-df-container {\n",
              "      display:flex;\n",
              "      flex-wrap:wrap;\n",
              "      gap: 12px;\n",
              "    }\n",
              "\n",
              "    .colab-df-convert {\n",
              "      background-color: #E8F0FE;\n",
              "      border: none;\n",
              "      border-radius: 50%;\n",
              "      cursor: pointer;\n",
              "      display: none;\n",
              "      fill: #1967D2;\n",
              "      height: 32px;\n",
              "      padding: 0 0 0 0;\n",
              "      width: 32px;\n",
              "    }\n",
              "\n",
              "    .colab-df-convert:hover {\n",
              "      background-color: #E2EBFA;\n",
              "      box-shadow: 0px 1px 2px rgba(60, 64, 67, 0.3), 0px 1px 3px 1px rgba(60, 64, 67, 0.15);\n",
              "      fill: #174EA6;\n",
              "    }\n",
              "\n",
              "    [theme=dark] .colab-df-convert {\n",
              "      background-color: #3B4455;\n",
              "      fill: #D2E3FC;\n",
              "    }\n",
              "\n",
              "    [theme=dark] .colab-df-convert:hover {\n",
              "      background-color: #434B5C;\n",
              "      box-shadow: 0px 1px 3px 1px rgba(0, 0, 0, 0.15);\n",
              "      filter: drop-shadow(0px 1px 2px rgba(0, 0, 0, 0.3));\n",
              "      fill: #FFFFFF;\n",
              "    }\n",
              "  </style>\n",
              "\n",
              "      <script>\n",
              "        const buttonEl =\n",
              "          document.querySelector('#df-6adda861-659b-4d97-a8cf-e7357bb9c5be button.colab-df-convert');\n",
              "        buttonEl.style.display =\n",
              "          google.colab.kernel.accessAllowed ? 'block' : 'none';\n",
              "\n",
              "        async function convertToInteractive(key) {\n",
              "          const element = document.querySelector('#df-6adda861-659b-4d97-a8cf-e7357bb9c5be');\n",
              "          const dataTable =\n",
              "            await google.colab.kernel.invokeFunction('convertToInteractive',\n",
              "                                                     [key], {});\n",
              "          if (!dataTable) return;\n",
              "\n",
              "          const docLinkHtml = 'Like what you see? Visit the ' +\n",
              "            '<a target=\"_blank\" href=https://colab.research.google.com/notebooks/data_table.ipynb>data table notebook</a>'\n",
              "            + ' to learn more about interactive tables.';\n",
              "          element.innerHTML = '';\n",
              "          dataTable['output_type'] = 'display_data';\n",
              "          await google.colab.output.renderOutput(dataTable, element);\n",
              "          const docLink = document.createElement('div');\n",
              "          docLink.innerHTML = docLinkHtml;\n",
              "          element.appendChild(docLink);\n",
              "        }\n",
              "      </script>\n",
              "    </div>\n",
              "  </div>\n",
              "  "
            ]
          },
          "metadata": {},
          "execution_count": 164
        }
      ]
    },
    {
      "cell_type": "code",
      "source": [
        "comb_data.columns"
      ],
      "metadata": {
        "colab": {
          "base_uri": "https://localhost:8080/"
        },
        "id": "8GwjT2x6Y0dz",
        "outputId": "11e25ab7-16e4-4732-f236-400cb94b7d4b"
      },
      "execution_count": 165,
      "outputs": [
        {
          "output_type": "execute_result",
          "data": {
            "text/plain": [
              "Index(['comp_source', 'Review', 'Label'], dtype='object')"
            ]
          },
          "metadata": {},
          "execution_count": 165
        }
      ]
    },
    {
      "cell_type": "code",
      "source": [
        "comb_data.isnull().sum()"
      ],
      "metadata": {
        "colab": {
          "base_uri": "https://localhost:8080/"
        },
        "id": "emG-EA-WY515",
        "outputId": "c943ceb4-1cd7-4391-946d-e1f4e4afecb1"
      },
      "execution_count": 166,
      "outputs": [
        {
          "output_type": "execute_result",
          "data": {
            "text/plain": [
              "comp_source    0\n",
              "Review         0\n",
              "Label          0\n",
              "dtype: int64"
            ]
          },
          "metadata": {},
          "execution_count": 166
        }
      ]
    },
    {
      "cell_type": "code",
      "source": [
        "comb_data.to_csv(\"Sent_Analysis_Dataset.csv\", index=False)"
      ],
      "metadata": {
        "id": "DyYtYP-mXjfd"
      },
      "execution_count": 167,
      "outputs": []
    },
    {
      "cell_type": "code",
      "source": [
        "df_1 = pd.read_csv('Sent_Analysis_Dataset.csv')\n",
        "df_1"
      ],
      "metadata": {
        "colab": {
          "base_uri": "https://localhost:8080/",
          "height": 424
        },
        "id": "NbC4QUpuXxH4",
        "outputId": "1b6942d6-9b5e-427c-c85d-c6b4e77e38f3"
      },
      "execution_count": 168,
      "outputs": [
        {
          "output_type": "execute_result",
          "data": {
            "text/plain": [
              "     comp_source                                             Review  Label\n",
              "0         amazon                        Good case, Excellent value.      1\n",
              "1         amazon                             Great for the jawbone.      1\n",
              "2         amazon  Tied to charger for conversations lasting more...      0\n",
              "3         amazon                                  The mic is great.      1\n",
              "4         amazon  I have to jiggle the plug to get it to line up...      0\n",
              "...          ...                                                ...    ...\n",
              "2740        yelp  I think food should have flavor and texture an...      0\n",
              "2741        yelp                           Appetite instantly gone.      0\n",
              "2742        yelp  Overall I was not impressed and would not go b...      0\n",
              "2743        yelp  The whole experience was underwhelming, and I ...      0\n",
              "2744        yelp  Then, as if I hadn't wasted enough of my life ...      0\n",
              "\n",
              "[2745 rows x 3 columns]"
            ],
            "text/html": [
              "\n",
              "  <div id=\"df-ba7271d4-673d-4d09-8d37-77e6bf3f4798\">\n",
              "    <div class=\"colab-df-container\">\n",
              "      <div>\n",
              "<style scoped>\n",
              "    .dataframe tbody tr th:only-of-type {\n",
              "        vertical-align: middle;\n",
              "    }\n",
              "\n",
              "    .dataframe tbody tr th {\n",
              "        vertical-align: top;\n",
              "    }\n",
              "\n",
              "    .dataframe thead th {\n",
              "        text-align: right;\n",
              "    }\n",
              "</style>\n",
              "<table border=\"1\" class=\"dataframe\">\n",
              "  <thead>\n",
              "    <tr style=\"text-align: right;\">\n",
              "      <th></th>\n",
              "      <th>comp_source</th>\n",
              "      <th>Review</th>\n",
              "      <th>Label</th>\n",
              "    </tr>\n",
              "  </thead>\n",
              "  <tbody>\n",
              "    <tr>\n",
              "      <th>0</th>\n",
              "      <td>amazon</td>\n",
              "      <td>Good case, Excellent value.</td>\n",
              "      <td>1</td>\n",
              "    </tr>\n",
              "    <tr>\n",
              "      <th>1</th>\n",
              "      <td>amazon</td>\n",
              "      <td>Great for the jawbone.</td>\n",
              "      <td>1</td>\n",
              "    </tr>\n",
              "    <tr>\n",
              "      <th>2</th>\n",
              "      <td>amazon</td>\n",
              "      <td>Tied to charger for conversations lasting more...</td>\n",
              "      <td>0</td>\n",
              "    </tr>\n",
              "    <tr>\n",
              "      <th>3</th>\n",
              "      <td>amazon</td>\n",
              "      <td>The mic is great.</td>\n",
              "      <td>1</td>\n",
              "    </tr>\n",
              "    <tr>\n",
              "      <th>4</th>\n",
              "      <td>amazon</td>\n",
              "      <td>I have to jiggle the plug to get it to line up...</td>\n",
              "      <td>0</td>\n",
              "    </tr>\n",
              "    <tr>\n",
              "      <th>...</th>\n",
              "      <td>...</td>\n",
              "      <td>...</td>\n",
              "      <td>...</td>\n",
              "    </tr>\n",
              "    <tr>\n",
              "      <th>2740</th>\n",
              "      <td>yelp</td>\n",
              "      <td>I think food should have flavor and texture an...</td>\n",
              "      <td>0</td>\n",
              "    </tr>\n",
              "    <tr>\n",
              "      <th>2741</th>\n",
              "      <td>yelp</td>\n",
              "      <td>Appetite instantly gone.</td>\n",
              "      <td>0</td>\n",
              "    </tr>\n",
              "    <tr>\n",
              "      <th>2742</th>\n",
              "      <td>yelp</td>\n",
              "      <td>Overall I was not impressed and would not go b...</td>\n",
              "      <td>0</td>\n",
              "    </tr>\n",
              "    <tr>\n",
              "      <th>2743</th>\n",
              "      <td>yelp</td>\n",
              "      <td>The whole experience was underwhelming, and I ...</td>\n",
              "      <td>0</td>\n",
              "    </tr>\n",
              "    <tr>\n",
              "      <th>2744</th>\n",
              "      <td>yelp</td>\n",
              "      <td>Then, as if I hadn't wasted enough of my life ...</td>\n",
              "      <td>0</td>\n",
              "    </tr>\n",
              "  </tbody>\n",
              "</table>\n",
              "<p>2745 rows × 3 columns</p>\n",
              "</div>\n",
              "      <button class=\"colab-df-convert\" onclick=\"convertToInteractive('df-ba7271d4-673d-4d09-8d37-77e6bf3f4798')\"\n",
              "              title=\"Convert this dataframe to an interactive table.\"\n",
              "              style=\"display:none;\">\n",
              "        \n",
              "  <svg xmlns=\"http://www.w3.org/2000/svg\" height=\"24px\"viewBox=\"0 0 24 24\"\n",
              "       width=\"24px\">\n",
              "    <path d=\"M0 0h24v24H0V0z\" fill=\"none\"/>\n",
              "    <path d=\"M18.56 5.44l.94 2.06.94-2.06 2.06-.94-2.06-.94-.94-2.06-.94 2.06-2.06.94zm-11 1L8.5 8.5l.94-2.06 2.06-.94-2.06-.94L8.5 2.5l-.94 2.06-2.06.94zm10 10l.94 2.06.94-2.06 2.06-.94-2.06-.94-.94-2.06-.94 2.06-2.06.94z\"/><path d=\"M17.41 7.96l-1.37-1.37c-.4-.4-.92-.59-1.43-.59-.52 0-1.04.2-1.43.59L10.3 9.45l-7.72 7.72c-.78.78-.78 2.05 0 2.83L4 21.41c.39.39.9.59 1.41.59.51 0 1.02-.2 1.41-.59l7.78-7.78 2.81-2.81c.8-.78.8-2.07 0-2.86zM5.41 20L4 18.59l7.72-7.72 1.47 1.35L5.41 20z\"/>\n",
              "  </svg>\n",
              "      </button>\n",
              "      \n",
              "  <style>\n",
              "    .colab-df-container {\n",
              "      display:flex;\n",
              "      flex-wrap:wrap;\n",
              "      gap: 12px;\n",
              "    }\n",
              "\n",
              "    .colab-df-convert {\n",
              "      background-color: #E8F0FE;\n",
              "      border: none;\n",
              "      border-radius: 50%;\n",
              "      cursor: pointer;\n",
              "      display: none;\n",
              "      fill: #1967D2;\n",
              "      height: 32px;\n",
              "      padding: 0 0 0 0;\n",
              "      width: 32px;\n",
              "    }\n",
              "\n",
              "    .colab-df-convert:hover {\n",
              "      background-color: #E2EBFA;\n",
              "      box-shadow: 0px 1px 2px rgba(60, 64, 67, 0.3), 0px 1px 3px 1px rgba(60, 64, 67, 0.15);\n",
              "      fill: #174EA6;\n",
              "    }\n",
              "\n",
              "    [theme=dark] .colab-df-convert {\n",
              "      background-color: #3B4455;\n",
              "      fill: #D2E3FC;\n",
              "    }\n",
              "\n",
              "    [theme=dark] .colab-df-convert:hover {\n",
              "      background-color: #434B5C;\n",
              "      box-shadow: 0px 1px 3px 1px rgba(0, 0, 0, 0.15);\n",
              "      filter: drop-shadow(0px 1px 2px rgba(0, 0, 0, 0.3));\n",
              "      fill: #FFFFFF;\n",
              "    }\n",
              "  </style>\n",
              "\n",
              "      <script>\n",
              "        const buttonEl =\n",
              "          document.querySelector('#df-ba7271d4-673d-4d09-8d37-77e6bf3f4798 button.colab-df-convert');\n",
              "        buttonEl.style.display =\n",
              "          google.colab.kernel.accessAllowed ? 'block' : 'none';\n",
              "\n",
              "        async function convertToInteractive(key) {\n",
              "          const element = document.querySelector('#df-ba7271d4-673d-4d09-8d37-77e6bf3f4798');\n",
              "          const dataTable =\n",
              "            await google.colab.kernel.invokeFunction('convertToInteractive',\n",
              "                                                     [key], {});\n",
              "          if (!dataTable) return;\n",
              "\n",
              "          const docLinkHtml = 'Like what you see? Visit the ' +\n",
              "            '<a target=\"_blank\" href=https://colab.research.google.com/notebooks/data_table.ipynb>data table notebook</a>'\n",
              "            + ' to learn more about interactive tables.';\n",
              "          element.innerHTML = '';\n",
              "          dataTable['output_type'] = 'display_data';\n",
              "          await google.colab.output.renderOutput(dataTable, element);\n",
              "          const docLink = document.createElement('div');\n",
              "          docLink.innerHTML = docLinkHtml;\n",
              "          element.appendChild(docLink);\n",
              "        }\n",
              "      </script>\n",
              "    </div>\n",
              "  </div>\n",
              "  "
            ]
          },
          "metadata": {},
          "execution_count": 168
        }
      ]
    },
    {
      "cell_type": "code",
      "source": [
        "df_1.columns"
      ],
      "metadata": {
        "colab": {
          "base_uri": "https://localhost:8080/"
        },
        "id": "NIWQfNKH9yxf",
        "outputId": "f37495dd-df7c-43a4-dbc7-64ff7c44d79f"
      },
      "execution_count": 169,
      "outputs": [
        {
          "output_type": "execute_result",
          "data": {
            "text/plain": [
              "Index(['comp_source', 'Review', 'Label'], dtype='object')"
            ]
          },
          "metadata": {},
          "execution_count": 169
        }
      ]
    },
    {
      "cell_type": "code",
      "source": [
        "import string\n",
        "import spacy\n",
        "from spacy.lang.en.stop_words import STOP_WORDS\n",
        "from spacy.lang.en import English\n",
        "nlp = spacy.load(\"en_core_web_sm\")"
      ],
      "metadata": {
        "id": "x6SWZqbOZApY"
      },
      "execution_count": 118,
      "outputs": []
    },
    {
      "cell_type": "code",
      "source": [
        "punctuations = string.punctuation"
      ],
      "metadata": {
        "id": "gfwxiIKM_S-X"
      },
      "execution_count": 119,
      "outputs": []
    },
    {
      "cell_type": "code",
      "source": [
        "punctuations"
      ],
      "metadata": {
        "colab": {
          "base_uri": "https://localhost:8080/",
          "height": 35
        },
        "id": "qgDg6Sw8_XvZ",
        "outputId": "7e01661f-daf4-4d8b-fa76-1d26eb725357"
      },
      "execution_count": 120,
      "outputs": [
        {
          "output_type": "execute_result",
          "data": {
            "text/plain": [
              "'!\"#$%&\\'()*+,-./:;<=>?@[\\\\]^_`{|}~'"
            ],
            "application/vnd.google.colaboratory.intrinsic+json": {
              "type": "string"
            }
          },
          "metadata": {},
          "execution_count": 120
        }
      ]
    },
    {
      "cell_type": "code",
      "source": [
        "stop_words = list(STOP_WORDS)\n",
        "stop_words"
      ],
      "metadata": {
        "colab": {
          "base_uri": "https://localhost:8080/"
        },
        "id": "rsMhBR3m5p6_",
        "outputId": "aa5eeaab-59d4-4d4b-9a0b-80e76888a95b"
      },
      "execution_count": 122,
      "outputs": [
        {
          "output_type": "execute_result",
          "data": {
            "text/plain": [
              "['whole',\n",
              " 'about',\n",
              " 'themselves',\n",
              " 'you',\n",
              " 'could',\n",
              " 'not',\n",
              " 'wherein',\n",
              " 'within',\n",
              " 'yourself',\n",
              " 'call',\n",
              " 'nor',\n",
              " '’d',\n",
              " 'whoever',\n",
              " 'wherever',\n",
              " 'empty',\n",
              " 'several',\n",
              " \"'ll\",\n",
              " 'few',\n",
              " 'anyone',\n",
              " 'me',\n",
              " 'if',\n",
              " 'also',\n",
              " 'all',\n",
              " 'through',\n",
              " 'were',\n",
              " '‘d',\n",
              " 'nevertheless',\n",
              " 'even',\n",
              " 'say',\n",
              " 'had',\n",
              " 'anything',\n",
              " 'noone',\n",
              " 'whereby',\n",
              " 'it',\n",
              " 'across',\n",
              " \"'ve\",\n",
              " 'nowhere',\n",
              " 'toward',\n",
              " 'further',\n",
              " 'some',\n",
              " 'regarding',\n",
              " 'anyhow',\n",
              " 'eight',\n",
              " \"'s\",\n",
              " '‘ll',\n",
              " 'she',\n",
              " 'both',\n",
              " 'why',\n",
              " 'others',\n",
              " 'between',\n",
              " 'my',\n",
              " 'ours',\n",
              " 'amongst',\n",
              " 'should',\n",
              " 'six',\n",
              " 'hereby',\n",
              " 'those',\n",
              " 'hence',\n",
              " 'unless',\n",
              " 'yours',\n",
              " 'someone',\n",
              " 'these',\n",
              " 'has',\n",
              " 'them',\n",
              " 'always',\n",
              " 'give',\n",
              " 'n‘t',\n",
              " 'ourselves',\n",
              " 'hundred',\n",
              " 'side',\n",
              " 'doing',\n",
              " 'so',\n",
              " 'rather',\n",
              " 'have',\n",
              " 'whom',\n",
              " 'sometime',\n",
              " 'see',\n",
              " 'a',\n",
              " 'seemed',\n",
              " 'three',\n",
              " 'top',\n",
              " 'for',\n",
              " 'except',\n",
              " 'move',\n",
              " 'last',\n",
              " 'anywhere',\n",
              " 'seems',\n",
              " 'to',\n",
              " 'put',\n",
              " 'again',\n",
              " 'amount',\n",
              " 'here',\n",
              " 'everywhere',\n",
              " 'an',\n",
              " 'as',\n",
              " 'please',\n",
              " 'out',\n",
              " 'then',\n",
              " 'can',\n",
              " 'five',\n",
              " 'neither',\n",
              " 'towards',\n",
              " 'at',\n",
              " 'two',\n",
              " 'therein',\n",
              " 'we',\n",
              " 'hereupon',\n",
              " 'twenty',\n",
              " 'her',\n",
              " 'somehow',\n",
              " 'whereafter',\n",
              " 'upon',\n",
              " 'show',\n",
              " 'yet',\n",
              " 'how',\n",
              " 'otherwise',\n",
              " 'twelve',\n",
              " 'and',\n",
              " 'under',\n",
              " 'many',\n",
              " 'before',\n",
              " 'whatever',\n",
              " 'formerly',\n",
              " 'bottom',\n",
              " \"n't\",\n",
              " '‘m',\n",
              " 'latter',\n",
              " 'down',\n",
              " 'but',\n",
              " 'made',\n",
              " 'whereas',\n",
              " 'together',\n",
              " 'forty',\n",
              " 'used',\n",
              " 'afterwards',\n",
              " 'itself',\n",
              " 'must',\n",
              " 'any',\n",
              " 'least',\n",
              " 'everything',\n",
              " 'alone',\n",
              " \"'m\",\n",
              " 'is',\n",
              " 'next',\n",
              " 'myself',\n",
              " 'that',\n",
              " 'still',\n",
              " 'after',\n",
              " 'part',\n",
              " 'hers',\n",
              " 'our',\n",
              " 'elsewhere',\n",
              " 'now',\n",
              " 'per',\n",
              " 'what',\n",
              " 'than',\n",
              " 'among',\n",
              " 'thereupon',\n",
              " 'various',\n",
              " 'yourselves',\n",
              " 'above',\n",
              " 'be',\n",
              " 'thence',\n",
              " 'hereafter',\n",
              " 'herein',\n",
              " 'fifteen',\n",
              " 'around',\n",
              " 'anyway',\n",
              " 'herself',\n",
              " 'quite',\n",
              " 'none',\n",
              " 'moreover',\n",
              " 'name',\n",
              " 'do',\n",
              " 'enough',\n",
              " 'once',\n",
              " 'although',\n",
              " 'off',\n",
              " 'therefore',\n",
              " 'their',\n",
              " 'ca',\n",
              " 'too',\n",
              " 'though',\n",
              " 'something',\n",
              " 'am',\n",
              " '’m',\n",
              " 'during',\n",
              " 'nobody',\n",
              " 'somewhere',\n",
              " 'more',\n",
              " 'indeed',\n",
              " 'well',\n",
              " 'same',\n",
              " 'such',\n",
              " 'nine',\n",
              " 'get',\n",
              " 'whose',\n",
              " 'or',\n",
              " 'being',\n",
              " 'whether',\n",
              " '‘s',\n",
              " 'fifty',\n",
              " 'up',\n",
              " 'perhaps',\n",
              " 'really',\n",
              " 'becomes',\n",
              " 'however',\n",
              " 'onto',\n",
              " 'either',\n",
              " 'behind',\n",
              " 'ten',\n",
              " 'else',\n",
              " 'into',\n",
              " 'your',\n",
              " 'almost',\n",
              " 'back',\n",
              " 'full',\n",
              " 'which',\n",
              " 'much',\n",
              " 'whence',\n",
              " 'thru',\n",
              " 'when',\n",
              " 'whither',\n",
              " 'serious',\n",
              " 'while',\n",
              " 'never',\n",
              " 'keep',\n",
              " 'seeming',\n",
              " '‘re',\n",
              " 'often',\n",
              " 'besides',\n",
              " '’ll',\n",
              " 'against',\n",
              " 'cannot',\n",
              " \"'d\",\n",
              " 'may',\n",
              " 'make',\n",
              " 'meanwhile',\n",
              " 'would',\n",
              " 'sometimes',\n",
              " 'everyone',\n",
              " 'just',\n",
              " 'mine',\n",
              " 'each',\n",
              " 'the',\n",
              " 'beyond',\n",
              " 'along',\n",
              " 'on',\n",
              " 'been',\n",
              " 'another',\n",
              " 'every',\n",
              " 'n’t',\n",
              " 'since',\n",
              " 'are',\n",
              " 'him',\n",
              " 'his',\n",
              " '’re',\n",
              " 'eleven',\n",
              " 'no',\n",
              " 'beside',\n",
              " 'namely',\n",
              " '’s',\n",
              " 'seem',\n",
              " 'himself',\n",
              " '’ve',\n",
              " 'becoming',\n",
              " 'by',\n",
              " 'might',\n",
              " 'go',\n",
              " \"'re\",\n",
              " 'over',\n",
              " 'in',\n",
              " 'already',\n",
              " 'most',\n",
              " 'done',\n",
              " 'via',\n",
              " 'will',\n",
              " 'because',\n",
              " 're',\n",
              " 'was',\n",
              " 'did',\n",
              " 'thereby',\n",
              " 'without',\n",
              " 'one',\n",
              " 'first',\n",
              " 'until',\n",
              " 'front',\n",
              " 'former',\n",
              " 'other',\n",
              " 'he',\n",
              " 'mostly',\n",
              " 'take',\n",
              " 'below',\n",
              " 'who',\n",
              " 'this',\n",
              " '‘ve',\n",
              " 'does',\n",
              " 'very',\n",
              " 'where',\n",
              " 'whenever',\n",
              " 'nothing',\n",
              " 'less',\n",
              " 'there',\n",
              " 'become',\n",
              " 'of',\n",
              " 'us',\n",
              " 'four',\n",
              " 'using',\n",
              " 'beforehand',\n",
              " 'they',\n",
              " 'thus',\n",
              " 'latterly',\n",
              " 'with',\n",
              " 'only',\n",
              " 'ever',\n",
              " 'i',\n",
              " 'own',\n",
              " 'due',\n",
              " 'its',\n",
              " 'throughout',\n",
              " 'became',\n",
              " 'from',\n",
              " 'third',\n",
              " 'whereupon',\n",
              " 'sixty',\n",
              " 'thereafter']"
            ]
          },
          "metadata": {},
          "execution_count": 122
        }
      ]
    },
    {
      "cell_type": "code",
      "source": [
        "from nltk.tokenize import RegexpTokenizer\n",
        "regex_tokenizer = RegexpTokenizer(r'[a-zA-Z]+')\n",
        "\n",
        "tokenizing = RegexpTokenizer('\\s+', gaps=True)\n",
        "df_1['data_tokens'] = df_1['Review'].map(tokenizing.tokenize)"
      ],
      "metadata": {
        "id": "bH6f6437YKG0"
      },
      "execution_count": 131,
      "outputs": []
    },
    {
      "cell_type": "code",
      "source": [
        "from sklearn.metrics import accuracy_score \n",
        "from sklearn.model_selection import train_test_split \n",
        "from sklearn.base import TransformerMixin\n",
        "from sklearn.svm import LinearSVC \n",
        "from sklearn.pipeline import Pipeline \n",
        "from sklearn.feature_extraction.text import TfidfVectorizer, CountVectorizer\n",
        "from sklearn.svm import LinearSVC"
      ],
      "metadata": {
        "id": "cnzC-BhnCAMa"
      },
      "execution_count": 124,
      "outputs": []
    },
    {
      "cell_type": "code",
      "source": [
        "X = df_1['Review'] # the features we want to analyze\n",
        "ylabels = df_1['Label'] # the labels, or answers, we want to test against\n",
        "\n",
        "X_train, X_test, y_train, y_test = train_test_split(X, ylabels, test_size=0.3,random_state = 0)"
      ],
      "metadata": {
        "id": "6Wr2XSPCYrbl"
      },
      "execution_count": 125,
      "outputs": []
    },
    {
      "cell_type": "code",
      "source": [
        "# Custom transformer using spaCy\n",
        "class predictors(TransformerMixin):\n",
        "    def transform(self, X, **transform_params):\n",
        "        # Cleaning Text\n",
        "        return [clean_text(text) for text in X]\n",
        "\n",
        "    def fit(self, X, y=None, **fit_params):\n",
        "        return self\n",
        "\n",
        "    def get_params(self, deep=True):\n",
        "        return {}\n",
        "\n",
        "nltk.download('stopwords')\n",
        "stopwords=nltk.corpus.stopwords.words('english')\n",
        "def clean_text(text):\n",
        "    edited_text=re.sub('\\W',\" \",text) #replace any sumbol with whitespace\n",
        "    edited_text=re.sub(\"  \",\" \",edited_text) #replace double whitespace with single whitespace\n",
        "    edited_text=edited_text.split(\" \") #split the sentence into array of strings\n",
        "    edited_text=\" \".join([char for char in edited_text if char!= \"\"]) #remove any empty string from text\n",
        "    edited_text=edited_text.lower() #lowercase\n",
        "    edited_text=re.sub('\\d+',\"\",edited_text) #Removing numerics\n",
        "    edited_text=re.split('\\W+',edited_text) #spliting based on whitespace or whitespaces\n",
        "    edited_text=\" \".join([word for word in edited_text if word not in stopwords]) #Snowball Stemmer\n",
        "    return edited_text"
      ],
      "metadata": {
        "colab": {
          "base_uri": "https://localhost:8080/"
        },
        "id": "2IgFH8CY_dTi",
        "outputId": "50941360-26ce-4589-f9c6-d7efd7d76784"
      },
      "execution_count": 127,
      "outputs": [
        {
          "output_type": "stream",
          "name": "stderr",
          "text": [
            "[nltk_data] Downloading package stopwords to /root/nltk_data...\n",
            "[nltk_data]   Package stopwords is already up-to-date!\n"
          ]
        }
      ]
    },
    {
      "cell_type": "code",
      "source": [
        "bow_vector = TfidfVectorizer(lowercase=True,stop_words='english',ngram_range = (1,1),tokenizer = regex_tokenizer.tokenize)\n",
        "classifier = LinearSVC()"
      ],
      "metadata": {
        "id": "aaEeR4NZ4Jc6"
      },
      "execution_count": 145,
      "outputs": []
    },
    {
      "cell_type": "code",
      "source": [
        "pipe = Pipeline([(\"cleaner\", predictors()),('vectorizer', bow_vector),('classifier', classifier)])\n",
        "pipe.fit(X_train,y_train)"
      ],
      "metadata": {
        "colab": {
          "base_uri": "https://localhost:8080/"
        },
        "id": "UpEC6Fjt0x5P",
        "outputId": "a69f3f3e-3cc1-44be-b30b-ab6d94ee4bcf"
      },
      "execution_count": 135,
      "outputs": [
        {
          "output_type": "execute_result",
          "data": {
            "text/plain": [
              "Pipeline(steps=[('cleaner', <__main__.predictors object at 0x7f6598115550>),\n",
              "                ('vectorizer',\n",
              "                 TfidfVectorizer(stop_words='english',\n",
              "                                 tokenizer=<bound method RegexpTokenizer.tokenize of RegexpTokenizer(pattern='[a-zA-Z]+', gaps=False, discard_empty=True, flags=<RegexFlag.UNICODE|DOTALL|MULTILINE: 56>)>)),\n",
              "                ('classifier', LogisticRegression())])"
            ]
          },
          "metadata": {},
          "execution_count": 135
        }
      ]
    },
    {
      "cell_type": "code",
      "source": [
        "prediction_result = pipe.predict(X_test)\n",
        "prediction_result"
      ],
      "metadata": {
        "colab": {
          "base_uri": "https://localhost:8080/"
        },
        "id": "ea1VOAb10xYT",
        "outputId": "e366710a-3a9e-478b-9189-284fa285ca68"
      },
      "execution_count": 143,
      "outputs": [
        {
          "output_type": "execute_result",
          "data": {
            "text/plain": [
              "array([0, 0, 1, 0, 1, 0, 1, 1, 1, 1, 0, 0, 1, 1, 0, 0, 0, 0, 1, 1, 1, 0,\n",
              "       0, 0, 1, 1, 0, 0, 1, 1, 1, 1, 1, 1, 1, 0, 1, 1, 0, 0, 1, 1, 1, 0,\n",
              "       1, 0, 0, 1, 1, 1, 0, 1, 0, 1, 1, 1, 1, 0, 0, 0, 0, 0, 0, 0, 1, 1,\n",
              "       0, 0, 0, 1, 0, 0, 1, 1, 1, 1, 1, 0, 0, 1, 1, 0, 1, 1, 1, 1, 0, 0,\n",
              "       0, 1, 0, 1, 1, 1, 1, 0, 0, 0, 1, 1, 1, 1, 1, 1, 1, 0, 1, 0, 0, 1,\n",
              "       1, 1, 0, 1, 1, 1, 0, 0, 0, 1, 0, 1, 0, 0, 1, 0, 1, 0, 1, 0, 1, 1,\n",
              "       1, 0, 1, 1, 1, 1, 1, 0, 1, 1, 1, 0, 0, 0, 1, 0, 1, 0, 1, 1, 1, 1,\n",
              "       0, 1, 0, 0, 0, 1, 0, 0, 1, 0, 1, 0, 1, 1, 1, 1, 1, 0, 1, 0, 1, 1,\n",
              "       0, 0, 1, 1, 1, 0, 0, 1, 0, 1, 1, 1, 1, 0, 1, 1, 1, 0, 0, 0, 0, 1,\n",
              "       1, 0, 0, 1, 0, 0, 1, 1, 1, 0, 0, 1, 0, 1, 0, 0, 0, 0, 1, 0, 1, 1,\n",
              "       1, 1, 0, 0, 1, 1, 1, 0, 0, 0, 1, 1, 1, 0, 1, 1, 1, 0, 1, 0, 1, 1,\n",
              "       0, 0, 1, 1, 1, 1, 0, 0, 1, 0, 1, 0, 1, 0, 0, 0, 0, 0, 1, 0, 0, 0,\n",
              "       1, 1, 1, 1, 0, 1, 1, 1, 0, 0, 0, 1, 1, 0, 0, 1, 0, 0, 1, 0, 1, 0,\n",
              "       1, 1, 1, 1, 0, 0, 1, 1, 1, 1, 0, 0, 1, 1, 0, 1, 1, 0, 0, 0, 1, 0,\n",
              "       1, 1, 1, 1, 1, 1, 1, 1, 1, 0, 1, 0, 1, 0, 1, 1, 1, 1, 1, 1, 1, 0,\n",
              "       1, 1, 1, 0, 1, 0, 1, 0, 1, 1, 1, 0, 1, 1, 0, 1, 1, 0, 1, 0, 0, 1,\n",
              "       0, 0, 1, 0, 1, 1, 0, 0, 1, 1, 0, 1, 0, 0, 0, 1, 0, 0, 1, 0, 1, 1,\n",
              "       0, 0, 0, 0, 1, 0, 1, 1, 0, 0, 1, 1, 1, 1, 0, 0, 1, 0, 1, 1, 1, 1,\n",
              "       0, 1, 1, 1, 0, 0, 0, 0, 0, 1, 0, 1, 0, 0, 0, 0, 0, 0, 0, 0, 1, 1,\n",
              "       0, 1, 1, 0, 0, 1, 0, 0, 0, 0, 0, 0, 1, 0, 1, 1, 0, 1, 0, 0, 1, 0,\n",
              "       0, 1, 0, 0, 1, 1, 1, 0, 0, 1, 1, 0, 0, 0, 0, 1, 0, 0, 0, 0, 1, 0,\n",
              "       1, 0, 0, 0, 0, 0, 1, 0, 0, 1, 1, 1, 0, 1, 0, 0, 1, 1, 1, 1, 1, 0,\n",
              "       0, 0, 0, 1, 0, 0, 0, 1, 0, 0, 0, 0, 0, 0, 1, 0, 1, 1, 0, 1, 1, 1,\n",
              "       0, 0, 0, 0, 1, 1, 0, 1, 0, 1, 0, 1, 0, 0, 1, 1, 1, 1, 0, 0, 0, 0,\n",
              "       0, 0, 1, 1, 0, 0, 1, 1, 0, 0, 0, 0, 0, 0, 1, 0, 0, 1, 0, 0, 1, 1,\n",
              "       1, 0, 0, 1, 0, 0, 0, 1, 1, 0, 0, 1, 1, 0, 1, 0, 0, 0, 0, 1, 1, 0,\n",
              "       1, 1, 1, 1, 0, 0, 1, 1, 1, 1, 0, 0, 0, 0, 1, 1, 0, 1, 1, 1, 0, 1,\n",
              "       0, 0, 0, 1, 0, 1, 1, 0, 1, 0, 0, 1, 0, 1, 1, 0, 0, 0, 0, 0, 1, 1,\n",
              "       0, 0, 0, 1, 0, 1, 0, 0, 0, 0, 1, 1, 0, 0, 0, 1, 1, 0, 0, 0, 1, 0,\n",
              "       1, 0, 0, 0, 1, 1, 0, 1, 0, 1, 0, 0, 0, 0, 1, 0, 0, 0, 0, 0, 1, 1,\n",
              "       0, 1, 0, 1, 1, 0, 1, 1, 0, 0, 1, 1, 0, 1, 1, 0, 1, 1, 1, 1, 1, 0,\n",
              "       0, 0, 1, 1, 0, 1, 0, 0, 0, 1, 0, 1, 0, 0, 1, 1, 0, 1, 0, 1, 0, 0,\n",
              "       1, 1, 0, 1, 1, 1, 0, 0, 0, 0, 1, 0, 0, 1, 1, 1, 1, 1, 0, 1, 1, 0,\n",
              "       1, 0, 1, 1, 0, 1, 0, 0, 0, 0, 0, 0, 0, 0, 1, 0, 0, 0, 1, 0, 0, 1,\n",
              "       1, 1, 1, 0, 0, 1, 1, 0, 1, 0, 0, 1, 1, 0, 1, 1, 1, 1, 0, 1, 0, 0,\n",
              "       0, 1, 1, 1, 0, 0, 1, 0, 0, 0, 1, 0, 0, 1, 0, 0, 0, 1, 0, 0, 0, 1,\n",
              "       0, 1, 1, 0, 0, 1, 1, 0, 0, 0, 0, 1, 1, 0, 1, 0, 0, 1, 1, 0, 0, 1,\n",
              "       1, 1, 0, 1, 1, 1, 1, 1, 0, 0])"
            ]
          },
          "metadata": {},
          "execution_count": 143
        }
      ]
    },
    {
      "cell_type": "code",
      "source": [
        "accuracy_1=accuracy_score(y_test,prediction_result)\n",
        "accuracy_1"
      ],
      "metadata": {
        "colab": {
          "base_uri": "https://localhost:8080/"
        },
        "id": "VyvWwSNSHqNd",
        "outputId": "987abf26-c761-4126-ab0a-0fa4e5c24ecb"
      },
      "execution_count": 171,
      "outputs": [
        {
          "output_type": "execute_result",
          "data": {
            "text/plain": [
              "0.7924757281553398"
            ]
          },
          "metadata": {},
          "execution_count": 171
        }
      ]
    }
  ]
}