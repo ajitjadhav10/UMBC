{
  "nbformat": 4,
  "nbformat_minor": 0,
  "metadata": {
    "colab": {
      "provenance": [],
      "authorship_tag": "ABX9TyOdMT3OvbU07wf+cZn5OGoV",
      "include_colab_link": true
    },
    "kernelspec": {
      "name": "python3",
      "display_name": "Python 3"
    },
    "language_info": {
      "name": "python"
    }
  },
  "cells": [
    {
      "cell_type": "markdown",
      "metadata": {
        "id": "view-in-github",
        "colab_type": "text"
      },
      "source": [
        "<a href=\"https://colab.research.google.com/github/ajitjadhav10/UMBC/blob/main/DATA%20690%20NLP/DATA_690_NLP_HW_7.ipynb\" target=\"_parent\"><img src=\"https://colab.research.google.com/assets/colab-badge.svg\" alt=\"Open In Colab\"/></a>"
      ]
    },
    {
      "cell_type": "markdown",
      "source": [
        "Exercise 1"
      ],
      "metadata": {
        "id": "AwW4prvuOUZl"
      }
    },
    {
      "cell_type": "code",
      "source": [
        "import pandas as pd\n",
        "import requests"
      ],
      "metadata": {
        "id": "rsERbNIUIUpm"
      },
      "execution_count": 117,
      "outputs": []
    },
    {
      "cell_type": "code",
      "source": [
        "data= requests.get('https://raw.githubusercontent.com/ajitjadhav10/UMBC/main/DATA%20690%20NLP/Data%20files/Copy%20of%20Burbank.txt')\n",
        "data_1 = data.text\n",
        "print(data_1)"
      ],
      "metadata": {
        "colab": {
          "base_uri": "https://localhost:8080/"
        },
        "id": "lCiK4cx9IK6r",
        "outputId": "da306473-6140-4f3a-e2da-c992defbbf5e"
      },
      "execution_count": 118,
      "outputs": [
        {
          "output_type": "stream",
          "name": "stdout",
          "text": [
            "﻿Airport task force to consider possible actions to abate noise issues Members of the Southern San Fernando Valley Airplane Noise Task Force will have a little over a month to develop recommendations about how to address aircraft noise issues affecting the south San Fernando Valley After five meetings and hearing from various neighborhood groups and experts, aviation consultant HMMH Inc., which has been the facilitator of the meetings, spent the majority of Wednesday night distilling all of the recommendations that have been brought forward so far and the feasibility of implementing them \r\n",
            "HMMH worked with Kevin Karpe, an aviation expert who worked as an air traffic controller at Hollywood Burbank and the Federal Aviation Administration Southern California Terminal Radar Approach Control, to analyze the departing flight procedures out of the Burbank airfield as well as Van Nuys Airport, both of which are at the center of the noise issues \r\n",
            "Since March 2017, residents in the south San Fernando Valley have complained about an increase in the number of planes flying overhead Many blame the FAA’s Next Generation Air Transportation System, or NextGen, which was implemented in Southern California in March 2017 The satellite-based navigation system was geared toward making flights across the country more fuel efficient and safe. However, NextGen became more of a nuisance than helpful for many people throughout the United States, according to news reports In the south San Fernando Valley, planes departing from Hollywood Burbank and Van Nuys have drifted south — from around the 101 Freeway to over Studio City and Sherman Oaks — before making northbound turns to head off to their destinations The FAA has stated in the past that NextGen did not change flight procedures out of the two airports, but HMMH and many residents from the region argue that something happened to cause the planes to make their northbound turns later rather than sooner Adam Scholten, a senior consultant with HMMH, said the workload of air traffic controllers in the Southern California TRACON, the air traffic control facility located in San Diego that is in charge of handling all of the flights in the region, may be contributing to the flight paths’ southern shift Scholten said the FAA often combines some of the six sectors of the Southern California TRACON — depending on whether there is less air traffic in one region and/or there are fewer air-traffic controllers available — a practice that can result in higher workloads “Part of the issues with combining sectors is that it can result in paying less attention to things such as standard operating procedures or other agreements that have been established,” Scholten said \r\n",
            "The recommended action to solve the issue, Scholten said, was for the FAA to review its resources at the Southern California TRACON and study how to manage the workload among the air-traffic controllers more efficiently The study conducted by Karpe and his consulting firm Diverse Vector Aviation Consulting LLC also found that air-traffic controllers did not always stick to the standard operating procedures for departing flights out of Hollywood Burbank and Van Nuys, which is to direct pilots to make their northbound turns once their planes meet the minimum criteria It was recommended that the FAA conduct training to refresh air-traffic controllers about the procedures HMMH also reviewed and analyzed the recommendations that were made by the various neighborhood groups Members of UproarLA, one of the groups, had suggested that departing flights should take off at a steeper ascent and make their northbound turns before reaching the 101 Freeway \r\n",
            "Scholten said doing so would be difficult because not every aircraft can ascend as quickly as others depending on weather conditions and the load of the plane He added that airlines can ignore the request if it isn’t made mandatory Gene Reindel, vice president and director of aviation services for HMMH, said planes ascending at a quicker and steeper rate would not be a quieter procedure for the surrounding community The organization Studio City for Quiet Skies proposed that should the FAA implement waypoints for pilots to use when departing from Hollywood Burbank, they should be located north of the 101 Freeway Scholten said this could not be done because the waypoints would be too close to the planes landing at Hollywood Burbank HMMH also showed the task force examples of possible recommendations, which did not go over well with the public They demonstrated that if the FAA implemented two waypoints to guide departing flights out of Hollywood Burbank, it would create a narrow and concentrated path above North Hollywood and the neighborhoods just south of the 101 Freeway before planes make their northbound turns The consulting firm also displayed what would happen if the current number of departing flights stayed on the path used in 2007. It resulted in a slightly less southern shift but also dispersed flights farther west toward Encino The task force will reconvene on April 1 for its final meeting, at which members of the group will deliberate on the best recommended action to address the issues The meeting will be held at 6:30 p.m. at the Los Angeles Marriott Burbank Airport, 2500 N. Hollywood Way Sixth Meeting of the Noise Task Force Held While FAA representatives sat listening with passive, stone-like faces, studies and suggested solutions were presented at the sixth meeting of the Southern San Fernando Valley Airplane Noise Task Force held Feb. 19 to discuss solutions for the ongoing problem of airliner jet noise over the Southern region of the San Fernando Valley–including the City of Burbank HMMH Inc., an environmental and transportation consulting firm, gave a detailed and lengthy presentation supplying studies, research and the pros and cons of the suggested solutions; the Task Force and community groups listened intently When HMMH confirmed air traffic from Hollywood Burbank and Van Nuys Airports had increased from 2017 to 2020, cheers and clapping erupted from the frustrated residents in the audience. Community groups have long said the extreme noise did not start until 2017 after the implementation of the FFA’s NextGen program. The NextGen satellite-based airliner navigational system, created to make flights safer, efficient and quieter, moved flight routes over the Valley from their historic paths A collective proposal by several community groups gave their own research and recommendations. Potential solutions included having planes climb to a higher altitude immediately after takeoff, dispersing flight routes in a wider range over the Valley, so no single community would suffer the bulk of jet noise and that the routes be returned to their historical paths. The FAA has said they will not return the routes to their earlier paths Beth Fulton, president of the Valley Village Homeowners Association said, “We have taken pieces of each group’s presentation and tried to figure out how is there a piece of this that can work, so everybody can try and get some relief. Our continued message is, share, share, share The FFA disqualified most of the recommendations claiming FAA regulations, limitations on airspace, airliner safety, traffic from other airports and many other explanations A newcomer to the Task Force meetings was Pacoima Beautiful representing the North East San Fernando Valley Some of the proposals that have been submitted in terms of changing flight paths is really concentrating most of the flight paths North of the airport–basically over our communities. We have a problem with that,” said Andres Ramirez, director of Pacoima Beautiful “We just have to be very fair in our recommendations,” said City of Burbank Mayor Sharon Springer We will make recommendations and those recommendations will go to the FAA, and they will say yes or no The FAA may know another way to achieve that same outcome \r\n",
            "Several community groups from the affected areas and representatives of the local congressional districts and California’s Senators were in attendance \r\n",
            "Suzanne Lewis, board member of the Valley Village Neighborhood Council was direct, “You know who regulates them [FAA].  Congress. That’s who they’ll listen to. So that’s who we need to be putting pressure on. I’m glad our congressmen are here Even the senators… their representatives are here The Task Force has just under a month to recommend possible solutions to the complex issue of Valley jet noise. The next meeting of the Task Force will be April 2 at the Los Angeles Marriott Burbank Airport\n"
          ]
        }
      ]
    },
    {
      "cell_type": "code",
      "execution_count": 119,
      "metadata": {
        "colab": {
          "base_uri": "https://localhost:8080/"
        },
        "id": "JZZ3M6tYHw6Z",
        "outputId": "45cc49ec-eda6-41fb-ce5a-6f206b21a5a0"
      },
      "outputs": [
        {
          "output_type": "stream",
          "name": "stderr",
          "text": [
            "[nltk_data] Downloading package punkt to /root/nltk_data...\n",
            "[nltk_data]   Package punkt is already up-to-date!\n"
          ]
        },
        {
          "output_type": "execute_result",
          "data": {
            "text/plain": [
              "True"
            ]
          },
          "metadata": {},
          "execution_count": 119
        }
      ],
      "source": [
        "from textblob import TextBlob\n",
        "import nltk\n",
        "nltk.download('punkt')\n"
      ]
    },
    {
      "cell_type": "code",
      "source": [
        "blob=TextBlob(data_1)"
      ],
      "metadata": {
        "id": "A-lLT3IL9KFl"
      },
      "execution_count": 120,
      "outputs": []
    },
    {
      "cell_type": "code",
      "source": [
        "total_sent=0\n",
        "positive_sent=0\n",
        "negative_sent=0\n",
        "neutral_sent=0\n",
        "\n",
        "for sentence in blob.sentences:\n",
        "  total_sent +=1\n",
        "  if sentence.sentiment.polarity > 0:\n",
        "    positive_sent +=1\n",
        "  elif sentence.sentiment.polarity == 0:\n",
        "    neutral_sent +=1\n",
        "  elif sentence.sentiment.polarity < 0:\n",
        "    negative_sent +=1\n",
        "\n",
        "print('probablity of negative sentiment:',(negative_sent/total_sent))"
      ],
      "metadata": {
        "colab": {
          "base_uri": "https://localhost:8080/"
        },
        "id": "tM8RXp7L9fXY",
        "outputId": "b6d68228-1496-4cf8-e61b-edc1baed05c5"
      },
      "execution_count": 121,
      "outputs": [
        {
          "output_type": "stream",
          "name": "stdout",
          "text": [
            "probablity of negative sentiment: 0.07142857142857142\n"
          ]
        }
      ]
    },
    {
      "cell_type": "markdown",
      "source": [
        "Exercise 2"
      ],
      "metadata": {
        "id": "LKzMATWIOgWc"
      }
    },
    {
      "cell_type": "code",
      "source": [
        "testimonial = TextBlob(data_1)\n",
        "testimonial.sentiment"
      ],
      "metadata": {
        "colab": {
          "base_uri": "https://localhost:8080/"
        },
        "id": "yRQaB1bF9nbg",
        "outputId": "4924e279-c244-4f32-a063-58a595e41391"
      },
      "execution_count": 122,
      "outputs": [
        {
          "output_type": "execute_result",
          "data": {
            "text/plain": [
              "Sentiment(polarity=0.09869334480780263, subjectivity=0.3790877796901893)"
            ]
          },
          "metadata": {},
          "execution_count": 122
        }
      ]
    },
    {
      "cell_type": "markdown",
      "source": [
        "The Sentiment of the text is positive and the subjectivity score is 0.3790877796901893"
      ],
      "metadata": {
        "id": "X6WCsyH3NKoE"
      }
    },
    {
      "cell_type": "markdown",
      "source": [
        "Exercise 3"
      ],
      "metadata": {
        "id": "C5dR91ehOjUu"
      }
    },
    {
      "cell_type": "code",
      "source": [
        "word_list=blob.words\n",
        "print(word_list)"
      ],
      "metadata": {
        "colab": {
          "base_uri": "https://localhost:8080/"
        },
        "id": "B-rlLOIS-rLu",
        "outputId": "664db3d9-3893-4bbc-b09d-dda3ed030351"
      },
      "execution_count": 123,
      "outputs": [
        {
          "output_type": "stream",
          "name": "stdout",
          "text": [
            "['\\ufeffAirport', 'task', 'force', 'to', 'consider', 'possible', 'actions', 'to', 'abate', 'noise', 'issues', 'Members', 'of', 'the', 'Southern', 'San', 'Fernando', 'Valley', 'Airplane', 'Noise', 'Task', 'Force', 'will', 'have', 'a', 'little', 'over', 'a', 'month', 'to', 'develop', 'recommendations', 'about', 'how', 'to', 'address', 'aircraft', 'noise', 'issues', 'affecting', 'the', 'south', 'San', 'Fernando', 'Valley', 'After', 'five', 'meetings', 'and', 'hearing', 'from', 'various', 'neighborhood', 'groups', 'and', 'experts', 'aviation', 'consultant', 'HMMH', 'Inc', 'which', 'has', 'been', 'the', 'facilitator', 'of', 'the', 'meetings', 'spent', 'the', 'majority', 'of', 'Wednesday', 'night', 'distilling', 'all', 'of', 'the', 'recommendations', 'that', 'have', 'been', 'brought', 'forward', 'so', 'far', 'and', 'the', 'feasibility', 'of', 'implementing', 'them', 'HMMH', 'worked', 'with', 'Kevin', 'Karpe', 'an', 'aviation', 'expert', 'who', 'worked', 'as', 'an', 'air', 'traffic', 'controller', 'at', 'Hollywood', 'Burbank', 'and', 'the', 'Federal', 'Aviation', 'Administration', 'Southern', 'California', 'Terminal', 'Radar', 'Approach', 'Control', 'to', 'analyze', 'the', 'departing', 'flight', 'procedures', 'out', 'of', 'the', 'Burbank', 'airfield', 'as', 'well', 'as', 'Van', 'Nuys', 'Airport', 'both', 'of', 'which', 'are', 'at', 'the', 'center', 'of', 'the', 'noise', 'issues', 'Since', 'March', '2017', 'residents', 'in', 'the', 'south', 'San', 'Fernando', 'Valley', 'have', 'complained', 'about', 'an', 'increase', 'in', 'the', 'number', 'of', 'planes', 'flying', 'overhead', 'Many', 'blame', 'the', 'FAA', '’', 's', 'Next', 'Generation', 'Air', 'Transportation', 'System', 'or', 'NextGen', 'which', 'was', 'implemented', 'in', 'Southern', 'California', 'in', 'March', '2017', 'The', 'satellite-based', 'navigation', 'system', 'was', 'geared', 'toward', 'making', 'flights', 'across', 'the', 'country', 'more', 'fuel', 'efficient', 'and', 'safe', 'However', 'NextGen', 'became', 'more', 'of', 'a', 'nuisance', 'than', 'helpful', 'for', 'many', 'people', 'throughout', 'the', 'United', 'States', 'according', 'to', 'news', 'reports', 'In', 'the', 'south', 'San', 'Fernando', 'Valley', 'planes', 'departing', 'from', 'Hollywood', 'Burbank', 'and', 'Van', 'Nuys', 'have', 'drifted', 'south', '—', 'from', 'around', 'the', '101', 'Freeway', 'to', 'over', 'Studio', 'City', 'and', 'Sherman', 'Oaks', '—', 'before', 'making', 'northbound', 'turns', 'to', 'head', 'off', 'to', 'their', 'destinations', 'The', 'FAA', 'has', 'stated', 'in', 'the', 'past', 'that', 'NextGen', 'did', 'not', 'change', 'flight', 'procedures', 'out', 'of', 'the', 'two', 'airports', 'but', 'HMMH', 'and', 'many', 'residents', 'from', 'the', 'region', 'argue', 'that', 'something', 'happened', 'to', 'cause', 'the', 'planes', 'to', 'make', 'their', 'northbound', 'turns', 'later', 'rather', 'than', 'sooner', 'Adam', 'Scholten', 'a', 'senior', 'consultant', 'with', 'HMMH', 'said', 'the', 'workload', 'of', 'air', 'traffic', 'controllers', 'in', 'the', 'Southern', 'California', 'TRACON', 'the', 'air', 'traffic', 'control', 'facility', 'located', 'in', 'San', 'Diego', 'that', 'is', 'in', 'charge', 'of', 'handling', 'all', 'of', 'the', 'flights', 'in', 'the', 'region', 'may', 'be', 'contributing', 'to', 'the', 'flight', 'paths', '’', 'southern', 'shift', 'Scholten', 'said', 'the', 'FAA', 'often', 'combines', 'some', 'of', 'the', 'six', 'sectors', 'of', 'the', 'Southern', 'California', 'TRACON', '—', 'depending', 'on', 'whether', 'there', 'is', 'less', 'air', 'traffic', 'in', 'one', 'region', 'and/or', 'there', 'are', 'fewer', 'air-traffic', 'controllers', 'available', '—', 'a', 'practice', 'that', 'can', 'result', 'in', 'higher', 'workloads', '“', 'Part', 'of', 'the', 'issues', 'with', 'combining', 'sectors', 'is', 'that', 'it', 'can', 'result', 'in', 'paying', 'less', 'attention', 'to', 'things', 'such', 'as', 'standard', 'operating', 'procedures', 'or', 'other', 'agreements', 'that', 'have', 'been', 'established', '”', 'Scholten', 'said', 'The', 'recommended', 'action', 'to', 'solve', 'the', 'issue', 'Scholten', 'said', 'was', 'for', 'the', 'FAA', 'to', 'review', 'its', 'resources', 'at', 'the', 'Southern', 'California', 'TRACON', 'and', 'study', 'how', 'to', 'manage', 'the', 'workload', 'among', 'the', 'air-traffic', 'controllers', 'more', 'efficiently', 'The', 'study', 'conducted', 'by', 'Karpe', 'and', 'his', 'consulting', 'firm', 'Diverse', 'Vector', 'Aviation', 'Consulting', 'LLC', 'also', 'found', 'that', 'air-traffic', 'controllers', 'did', 'not', 'always', 'stick', 'to', 'the', 'standard', 'operating', 'procedures', 'for', 'departing', 'flights', 'out', 'of', 'Hollywood', 'Burbank', 'and', 'Van', 'Nuys', 'which', 'is', 'to', 'direct', 'pilots', 'to', 'make', 'their', 'northbound', 'turns', 'once', 'their', 'planes', 'meet', 'the', 'minimum', 'criteria', 'It', 'was', 'recommended', 'that', 'the', 'FAA', 'conduct', 'training', 'to', 'refresh', 'air-traffic', 'controllers', 'about', 'the', 'procedures', 'HMMH', 'also', 'reviewed', 'and', 'analyzed', 'the', 'recommendations', 'that', 'were', 'made', 'by', 'the', 'various', 'neighborhood', 'groups', 'Members', 'of', 'UproarLA', 'one', 'of', 'the', 'groups', 'had', 'suggested', 'that', 'departing', 'flights', 'should', 'take', 'off', 'at', 'a', 'steeper', 'ascent', 'and', 'make', 'their', 'northbound', 'turns', 'before', 'reaching', 'the', '101', 'Freeway', 'Scholten', 'said', 'doing', 'so', 'would', 'be', 'difficult', 'because', 'not', 'every', 'aircraft', 'can', 'ascend', 'as', 'quickly', 'as', 'others', 'depending', 'on', 'weather', 'conditions', 'and', 'the', 'load', 'of', 'the', 'plane', 'He', 'added', 'that', 'airlines', 'can', 'ignore', 'the', 'request', 'if', 'it', 'isn', '’', 't', 'made', 'mandatory', 'Gene', 'Reindel', 'vice', 'president', 'and', 'director', 'of', 'aviation', 'services', 'for', 'HMMH', 'said', 'planes', 'ascending', 'at', 'a', 'quicker', 'and', 'steeper', 'rate', 'would', 'not', 'be', 'a', 'quieter', 'procedure', 'for', 'the', 'surrounding', 'community', 'The', 'organization', 'Studio', 'City', 'for', 'Quiet', 'Skies', 'proposed', 'that', 'should', 'the', 'FAA', 'implement', 'waypoints', 'for', 'pilots', 'to', 'use', 'when', 'departing', 'from', 'Hollywood', 'Burbank', 'they', 'should', 'be', 'located', 'north', 'of', 'the', '101', 'Freeway', 'Scholten', 'said', 'this', 'could', 'not', 'be', 'done', 'because', 'the', 'waypoints', 'would', 'be', 'too', 'close', 'to', 'the', 'planes', 'landing', 'at', 'Hollywood', 'Burbank', 'HMMH', 'also', 'showed', 'the', 'task', 'force', 'examples', 'of', 'possible', 'recommendations', 'which', 'did', 'not', 'go', 'over', 'well', 'with', 'the', 'public', 'They', 'demonstrated', 'that', 'if', 'the', 'FAA', 'implemented', 'two', 'waypoints', 'to', 'guide', 'departing', 'flights', 'out', 'of', 'Hollywood', 'Burbank', 'it', 'would', 'create', 'a', 'narrow', 'and', 'concentrated', 'path', 'above', 'North', 'Hollywood', 'and', 'the', 'neighborhoods', 'just', 'south', 'of', 'the', '101', 'Freeway', 'before', 'planes', 'make', 'their', 'northbound', 'turns', 'The', 'consulting', 'firm', 'also', 'displayed', 'what', 'would', 'happen', 'if', 'the', 'current', 'number', 'of', 'departing', 'flights', 'stayed', 'on', 'the', 'path', 'used', 'in', '2007', 'It', 'resulted', 'in', 'a', 'slightly', 'less', 'southern', 'shift', 'but', 'also', 'dispersed', 'flights', 'farther', 'west', 'toward', 'Encino', 'The', 'task', 'force', 'will', 'reconvene', 'on', 'April', '1', 'for', 'its', 'final', 'meeting', 'at', 'which', 'members', 'of', 'the', 'group', 'will', 'deliberate', 'on', 'the', 'best', 'recommended', 'action', 'to', 'address', 'the', 'issues', 'The', 'meeting', 'will', 'be', 'held', 'at', '6:30', 'p.m', 'at', 'the', 'Los', 'Angeles', 'Marriott', 'Burbank', 'Airport', '2500', 'N', 'Hollywood', 'Way', 'Sixth', 'Meeting', 'of', 'the', 'Noise', 'Task', 'Force', 'Held', 'While', 'FAA', 'representatives', 'sat', 'listening', 'with', 'passive', 'stone-like', 'faces', 'studies', 'and', 'suggested', 'solutions', 'were', 'presented', 'at', 'the', 'sixth', 'meeting', 'of', 'the', 'Southern', 'San', 'Fernando', 'Valley', 'Airplane', 'Noise', 'Task', 'Force', 'held', 'Feb', '19', 'to', 'discuss', 'solutions', 'for', 'the', 'ongoing', 'problem', 'of', 'airliner', 'jet', 'noise', 'over', 'the', 'Southern', 'region', 'of', 'the', 'San', 'Fernando', 'Valley–including', 'the', 'City', 'of', 'Burbank', 'HMMH', 'Inc', 'an', 'environmental', 'and', 'transportation', 'consulting', 'firm', 'gave', 'a', 'detailed', 'and', 'lengthy', 'presentation', 'supplying', 'studies', 'research', 'and', 'the', 'pros', 'and', 'cons', 'of', 'the', 'suggested', 'solutions', 'the', 'Task', 'Force', 'and', 'community', 'groups', 'listened', 'intently', 'When', 'HMMH', 'confirmed', 'air', 'traffic', 'from', 'Hollywood', 'Burbank', 'and', 'Van', 'Nuys', 'Airports', 'had', 'increased', 'from', '2017', 'to', '2020', 'cheers', 'and', 'clapping', 'erupted', 'from', 'the', 'frustrated', 'residents', 'in', 'the', 'audience', 'Community', 'groups', 'have', 'long', 'said', 'the', 'extreme', 'noise', 'did', 'not', 'start', 'until', '2017', 'after', 'the', 'implementation', 'of', 'the', 'FFA', '’', 's', 'NextGen', 'program', 'The', 'NextGen', 'satellite-based', 'airliner', 'navigational', 'system', 'created', 'to', 'make', 'flights', 'safer', 'efficient', 'and', 'quieter', 'moved', 'flight', 'routes', 'over', 'the', 'Valley', 'from', 'their', 'historic', 'paths', 'A', 'collective', 'proposal', 'by', 'several', 'community', 'groups', 'gave', 'their', 'own', 'research', 'and', 'recommendations', 'Potential', 'solutions', 'included', 'having', 'planes', 'climb', 'to', 'a', 'higher', 'altitude', 'immediately', 'after', 'takeoff', 'dispersing', 'flight', 'routes', 'in', 'a', 'wider', 'range', 'over', 'the', 'Valley', 'so', 'no', 'single', 'community', 'would', 'suffer', 'the', 'bulk', 'of', 'jet', 'noise', 'and', 'that', 'the', 'routes', 'be', 'returned', 'to', 'their', 'historical', 'paths', 'The', 'FAA', 'has', 'said', 'they', 'will', 'not', 'return', 'the', 'routes', 'to', 'their', 'earlier', 'paths', 'Beth', 'Fulton', 'president', 'of', 'the', 'Valley', 'Village', 'Homeowners', 'Association', 'said', '“', 'We', 'have', 'taken', 'pieces', 'of', 'each', 'group', '’', 's', 'presentation', 'and', 'tried', 'to', 'figure', 'out', 'how', 'is', 'there', 'a', 'piece', 'of', 'this', 'that', 'can', 'work', 'so', 'everybody', 'can', 'try', 'and', 'get', 'some', 'relief', 'Our', 'continued', 'message', 'is', 'share', 'share', 'share', 'The', 'FFA', 'disqualified', 'most', 'of', 'the', 'recommendations', 'claiming', 'FAA', 'regulations', 'limitations', 'on', 'airspace', 'airliner', 'safety', 'traffic', 'from', 'other', 'airports', 'and', 'many', 'other', 'explanations', 'A', 'newcomer', 'to', 'the', 'Task', 'Force', 'meetings', 'was', 'Pacoima', 'Beautiful', 'representing', 'the', 'North', 'East', 'San', 'Fernando', 'Valley', 'Some', 'of', 'the', 'proposals', 'that', 'have', 'been', 'submitted', 'in', 'terms', 'of', 'changing', 'flight', 'paths', 'is', 'really', 'concentrating', 'most', 'of', 'the', 'flight', 'paths', 'North', 'of', 'the', 'airport–basically', 'over', 'our', 'communities', 'We', 'have', 'a', 'problem', 'with', 'that', '”', 'said', 'Andres', 'Ramirez', 'director', 'of', 'Pacoima', 'Beautiful', '“', 'We', 'just', 'have', 'to', 'be', 'very', 'fair', 'in', 'our', 'recommendations', '”', 'said', 'City', 'of', 'Burbank', 'Mayor', 'Sharon', 'Springer', 'We', 'will', 'make', 'recommendations', 'and', 'those', 'recommendations', 'will', 'go', 'to', 'the', 'FAA', 'and', 'they', 'will', 'say', 'yes', 'or', 'no', 'The', 'FAA', 'may', 'know', 'another', 'way', 'to', 'achieve', 'that', 'same', 'outcome', 'Several', 'community', 'groups', 'from', 'the', 'affected', 'areas', 'and', 'representatives', 'of', 'the', 'local', 'congressional', 'districts', 'and', 'California', '’', 's', 'Senators', 'were', 'in', 'attendance', 'Suzanne', 'Lewis', 'board', 'member', 'of', 'the', 'Valley', 'Village', 'Neighborhood', 'Council', 'was', 'direct', '“', 'You', 'know', 'who', 'regulates', 'them', 'FAA', 'Congress', 'That', '’', 's', 'who', 'they', '’', 'll', 'listen', 'to', 'So', 'that', '’', 's', 'who', 'we', 'need', 'to', 'be', 'putting', 'pressure', 'on', 'I', '’', 'm', 'glad', 'our', 'congressmen', 'are', 'here', 'Even', 'the', 'senators…', 'their', 'representatives', 'are', 'here', 'The', 'Task', 'Force', 'has', 'just', 'under', 'a', 'month', 'to', 'recommend', 'possible', 'solutions', 'to', 'the', 'complex', 'issue', 'of', 'Valley', 'jet', 'noise', 'The', 'next', 'meeting', 'of', 'the', 'Task', 'Force', 'will', 'be', 'April', '2', 'at', 'the', 'Los', 'Angeles', 'Marriott', 'Burbank', 'Airport']\n"
          ]
        }
      ]
    },
    {
      "cell_type": "code",
      "source": [
        "from string import punctuation\n",
        "from spacy.lang.en.stop_words import STOP_WORDS\n",
        "import spacy"
      ],
      "metadata": {
        "id": "6fR047pGFazq"
      },
      "execution_count": 124,
      "outputs": []
    },
    {
      "cell_type": "code",
      "source": [
        "extra_words=list(STOP_WORDS)+list(punctuation)+['\\n']\n",
        "nlp = spacy.load(\"en_core_web_sm\")"
      ],
      "metadata": {
        "id": "yMcKfAzpFU60"
      },
      "execution_count": 125,
      "outputs": []
    },
    {
      "cell_type": "code",
      "source": [
        "important_words={}\n",
        "\n",
        "\n",
        "for word in word_list:\n",
        "  if word.lower() not in extra_words:\n",
        "    if word not in important_words.keys():\n",
        "      important_words[word]=1\n",
        "    else:\n",
        "      important_words[word] +=1"
      ],
      "metadata": {
        "id": "Nmm_dqtXFJQf"
      },
      "execution_count": 126,
      "outputs": []
    },
    {
      "cell_type": "code",
      "source": [
        "import operator\n",
        "sorted_d = dict( sorted(important_words.items(), key=operator.itemgetter(1),reverse=True))"
      ],
      "metadata": {
        "id": "nIDYICQ5HMlh"
      },
      "execution_count": 127,
      "outputs": []
    },
    {
      "cell_type": "code",
      "source": [
        "#The words are ordered in the order of their importance based on their frequency\n",
        "\n",
        "print(sorted_d)"
      ],
      "metadata": {
        "colab": {
          "base_uri": "https://localhost:8080/"
        },
        "id": "hZwmLjFjIGRz",
        "outputId": "944992e5-1fa1-4f89-9d39-6a4ce65d1506"
      },
      "execution_count": 128,
      "outputs": [
        {
          "output_type": "stream",
          "name": "stdout",
          "text": [
            "{'FAA': 13, 'Burbank': 12, 'said': 12, 'Valley': 11, '’': 10, 'recommendations': 9, 'HMMH': 9, 'Hollywood': 9, 'Southern': 8, 'San': 8, 'planes': 8, 'flights': 8, 'noise': 7, 'Fernando': 7, 'Task': 7, 'Force': 7, 'groups': 7, 'departing': 7, 'flight': 7, 'traffic': 6, 'California': 6, 's': 6, 'Scholten': 6, 'paths': 6, 'issues': 5, 'south': 5, 'air': 5, 'procedures': 5, 'NextGen': 5, 'northbound': 5, 'turns': 5, 'controllers': 5, 'community': 5, 'solutions': 5, 'Van': 4, 'Nuys': 4, '2017': 4, '—': 4, '101': 4, 'Freeway': 4, 'City': 4, 'region': 4, 'air-traffic': 4, '“': 4, 'meeting': 4, 'routes': 4, 'task': 3, 'force': 3, 'possible': 3, 'Noise': 3, 'meetings': 3, 'aviation': 3, 'Airport': 3, 'residents': 3, 'TRACON': 3, '”': 3, 'recommended': 3, 'consulting': 3, 'firm': 3, 'suggested': 3, 'waypoints': 3, 'North': 3, 'representatives': 3, 'airliner': 3, 'jet': 3, 'share': 3, 'Members': 2, 'Airplane': 2, 'month': 2, 'address': 2, 'aircraft': 2, 'neighborhood': 2, 'consultant': 2, 'Inc': 2, 'worked': 2, 'Karpe': 2, 'Aviation': 2, 'March': 2, 'number': 2, 'implemented': 2, 'satellite-based': 2, 'system': 2, 'making': 2, 'efficient': 2, 'Studio': 2, 'airports': 2, 'workload': 2, 'located': 2, 'southern': 2, 'shift': 2, 'sectors': 2, 'depending': 2, 'result': 2, 'higher': 2, 'standard': 2, 'operating': 2, 'action': 2, 'issue': 2, 'study': 2, 'direct': 2, 'pilots': 2, 'steeper': 2, 'president': 2, 'director': 2, 'quieter': 2, 'path': 2, 'April': 2, 'group': 2, 'held': 2, 'Los': 2, 'Angeles': 2, 'Marriott': 2, 'studies': 2, 'problem': 2, 'gave': 2, 'presentation': 2, 'research': 2, 'FFA': 2, 'Village': 2, 'Pacoima': 2, 'Beautiful': 2, 'know': 2, '\\ufeffAirport': 1, 'consider': 1, 'actions': 1, 'abate': 1, 'little': 1, 'develop': 1, 'affecting': 1, 'hearing': 1, 'experts': 1, 'facilitator': 1, 'spent': 1, 'majority': 1, 'Wednesday': 1, 'night': 1, 'distilling': 1, 'brought': 1, 'forward': 1, 'far': 1, 'feasibility': 1, 'implementing': 1, 'Kevin': 1, 'expert': 1, 'controller': 1, 'Federal': 1, 'Administration': 1, 'Terminal': 1, 'Radar': 1, 'Approach': 1, 'Control': 1, 'analyze': 1, 'airfield': 1, 'center': 1, 'complained': 1, 'increase': 1, 'flying': 1, 'overhead': 1, 'blame': 1, 'Generation': 1, 'Air': 1, 'Transportation': 1, 'System': 1, 'navigation': 1, 'geared': 1, 'country': 1, 'fuel': 1, 'safe': 1, 'nuisance': 1, 'helpful': 1, 'people': 1, 'United': 1, 'States': 1, 'according': 1, 'news': 1, 'reports': 1, 'drifted': 1, 'Sherman': 1, 'Oaks': 1, 'head': 1, 'destinations': 1, 'stated': 1, 'past': 1, 'change': 1, 'argue': 1, 'happened': 1, 'cause': 1, 'later': 1, 'sooner': 1, 'Adam': 1, 'senior': 1, 'control': 1, 'facility': 1, 'Diego': 1, 'charge': 1, 'handling': 1, 'contributing': 1, 'combines': 1, 'and/or': 1, 'fewer': 1, 'available': 1, 'practice': 1, 'workloads': 1, 'combining': 1, 'paying': 1, 'attention': 1, 'things': 1, 'agreements': 1, 'established': 1, 'solve': 1, 'review': 1, 'resources': 1, 'manage': 1, 'efficiently': 1, 'conducted': 1, 'Diverse': 1, 'Vector': 1, 'Consulting': 1, 'LLC': 1, 'found': 1, 'stick': 1, 'meet': 1, 'minimum': 1, 'criteria': 1, 'conduct': 1, 'training': 1, 'refresh': 1, 'reviewed': 1, 'analyzed': 1, 'UproarLA': 1, 'ascent': 1, 'reaching': 1, 'difficult': 1, 'ascend': 1, 'quickly': 1, 'weather': 1, 'conditions': 1, 'load': 1, 'plane': 1, 'added': 1, 'airlines': 1, 'ignore': 1, 'request': 1, 'isn': 1, 't': 1, 'mandatory': 1, 'Gene': 1, 'Reindel': 1, 'vice': 1, 'services': 1, 'ascending': 1, 'quicker': 1, 'rate': 1, 'procedure': 1, 'surrounding': 1, 'organization': 1, 'Quiet': 1, 'Skies': 1, 'proposed': 1, 'implement': 1, 'use': 1, 'north': 1, 'close': 1, 'landing': 1, 'showed': 1, 'examples': 1, 'public': 1, 'demonstrated': 1, 'guide': 1, 'create': 1, 'narrow': 1, 'concentrated': 1, 'neighborhoods': 1, 'displayed': 1, 'happen': 1, 'current': 1, 'stayed': 1, '2007': 1, 'resulted': 1, 'slightly': 1, 'dispersed': 1, 'farther': 1, 'west': 1, 'Encino': 1, 'reconvene': 1, '1': 1, 'final': 1, 'members': 1, 'deliberate': 1, 'best': 1, '6:30': 1, 'p.m': 1, '2500': 1, 'N': 1, 'Way': 1, 'Sixth': 1, 'Meeting': 1, 'Held': 1, 'sat': 1, 'listening': 1, 'passive': 1, 'stone-like': 1, 'faces': 1, 'presented': 1, 'sixth': 1, 'Feb': 1, '19': 1, 'discuss': 1, 'ongoing': 1, 'Valley–including': 1, 'environmental': 1, 'transportation': 1, 'detailed': 1, 'lengthy': 1, 'supplying': 1, 'pros': 1, 'cons': 1, 'listened': 1, 'intently': 1, 'confirmed': 1, 'Airports': 1, 'increased': 1, '2020': 1, 'cheers': 1, 'clapping': 1, 'erupted': 1, 'frustrated': 1, 'audience': 1, 'Community': 1, 'long': 1, 'extreme': 1, 'start': 1, 'implementation': 1, 'program': 1, 'navigational': 1, 'created': 1, 'safer': 1, 'moved': 1, 'historic': 1, 'collective': 1, 'proposal': 1, 'Potential': 1, 'included': 1, 'having': 1, 'climb': 1, 'altitude': 1, 'immediately': 1, 'takeoff': 1, 'dispersing': 1, 'wider': 1, 'range': 1, 'single': 1, 'suffer': 1, 'bulk': 1, 'returned': 1, 'historical': 1, 'return': 1, 'earlier': 1, 'Beth': 1, 'Fulton': 1, 'Homeowners': 1, 'Association': 1, 'taken': 1, 'pieces': 1, 'tried': 1, 'figure': 1, 'piece': 1, 'work': 1, 'everybody': 1, 'try': 1, 'relief': 1, 'continued': 1, 'message': 1, 'disqualified': 1, 'claiming': 1, 'regulations': 1, 'limitations': 1, 'airspace': 1, 'safety': 1, 'explanations': 1, 'newcomer': 1, 'representing': 1, 'East': 1, 'proposals': 1, 'submitted': 1, 'terms': 1, 'changing': 1, 'concentrating': 1, 'airport–basically': 1, 'communities': 1, 'Andres': 1, 'Ramirez': 1, 'fair': 1, 'Mayor': 1, 'Sharon': 1, 'Springer': 1, 'yes': 1, 'way': 1, 'achieve': 1, 'outcome': 1, 'affected': 1, 'areas': 1, 'local': 1, 'congressional': 1, 'districts': 1, 'Senators': 1, 'attendance': 1, 'Suzanne': 1, 'Lewis': 1, 'board': 1, 'member': 1, 'Neighborhood': 1, 'Council': 1, 'regulates': 1, 'Congress': 1, 'll': 1, 'listen': 1, 'need': 1, 'putting': 1, 'pressure': 1, 'm': 1, 'glad': 1, 'congressmen': 1, 'senators…': 1, 'recommend': 1, 'complex': 1, '2': 1}\n"
          ]
        }
      ]
    },
    {
      "cell_type": "markdown",
      "source": [
        "Exercise 4"
      ],
      "metadata": {
        "id": "rxRrnKqeN21D"
      }
    },
    {
      "cell_type": "code",
      "source": [
        "data_yelp=pd.read_csv('https://raw.githubusercontent.com/ajitjadhav10/UMBC/main/DATA%20690%20NLP/Data%20files/yelp_labelled.txt', sep='\\t')\n",
        "data_imdb=pd.read_csv('https://raw.githubusercontent.com/ajitjadhav10/UMBC/main/DATA%20690%20NLP/Data%20files/imdb_labelled.txt',sep='\\t')\n",
        "data_amazon=pd.read_csv('https://raw.githubusercontent.com/ajitjadhav10/UMBC/main/DATA%20690%20NLP/Data%20files/amazon_cells_labelled.txt',sep='\\t')"
      ],
      "metadata": {
        "id": "AMIPcBqgIHfd"
      },
      "execution_count": 129,
      "outputs": []
    },
    {
      "cell_type": "code",
      "source": [
        "#Joining the three data frames\n",
        "combined_col=[data_amazon, data_imdb, data_yelp]"
      ],
      "metadata": {
        "id": "o0al082k2RPW"
      },
      "execution_count": 130,
      "outputs": []
    },
    {
      "cell_type": "code",
      "source": [
        "for column_name in combined_col:\n",
        "  column_name.columns=['Review','Label']"
      ],
      "metadata": {
        "id": "cc6xDeAmO-Ys"
      },
      "execution_count": 131,
      "outputs": []
    },
    {
      "cell_type": "code",
      "source": [
        "for column_name in combined_col:\n",
        "  print(column_name.columns)"
      ],
      "metadata": {
        "colab": {
          "base_uri": "https://localhost:8080/"
        },
        "id": "sw8P_QX0TwdP",
        "outputId": "564869e2-b8ab-42e2-a291-a50c38674522"
      },
      "execution_count": 132,
      "outputs": [
        {
          "output_type": "stream",
          "name": "stdout",
          "text": [
            "Index(['Review', 'Label'], dtype='object')\n",
            "Index(['Review', 'Label'], dtype='object')\n",
            "Index(['Review', 'Label'], dtype='object')\n"
          ]
        }
      ]
    },
    {
      "cell_type": "code",
      "source": [
        "keys_1=['amazon','imdb','yelp']"
      ],
      "metadata": {
        "id": "tzk8IOeeT7LM"
      },
      "execution_count": 133,
      "outputs": []
    },
    {
      "cell_type": "code",
      "source": [
        "comb_data = pd.concat(combined_col,keys=keys_1).reset_index()\n",
        "comb_data.head()"
      ],
      "metadata": {
        "colab": {
          "base_uri": "https://localhost:8080/",
          "height": 206
        },
        "id": "hceHLIQVYn5U",
        "outputId": "8dea471a-444a-43d5-a3b8-01d13cfc8573"
      },
      "execution_count": 134,
      "outputs": [
        {
          "output_type": "execute_result",
          "data": {
            "text/plain": [
              "  level_0  level_1                                             Review  Label\n",
              "0  amazon        0                        Good case, Excellent value.      1\n",
              "1  amazon        1                             Great for the jawbone.      1\n",
              "2  amazon        2  Tied to charger for conversations lasting more...      0\n",
              "3  amazon        3                                  The mic is great.      1\n",
              "4  amazon        4  I have to jiggle the plug to get it to line up...      0"
            ],
            "text/html": [
              "\n",
              "  <div id=\"df-cf987eeb-916e-451b-b702-313f48ba01d9\">\n",
              "    <div class=\"colab-df-container\">\n",
              "      <div>\n",
              "<style scoped>\n",
              "    .dataframe tbody tr th:only-of-type {\n",
              "        vertical-align: middle;\n",
              "    }\n",
              "\n",
              "    .dataframe tbody tr th {\n",
              "        vertical-align: top;\n",
              "    }\n",
              "\n",
              "    .dataframe thead th {\n",
              "        text-align: right;\n",
              "    }\n",
              "</style>\n",
              "<table border=\"1\" class=\"dataframe\">\n",
              "  <thead>\n",
              "    <tr style=\"text-align: right;\">\n",
              "      <th></th>\n",
              "      <th>level_0</th>\n",
              "      <th>level_1</th>\n",
              "      <th>Review</th>\n",
              "      <th>Label</th>\n",
              "    </tr>\n",
              "  </thead>\n",
              "  <tbody>\n",
              "    <tr>\n",
              "      <th>0</th>\n",
              "      <td>amazon</td>\n",
              "      <td>0</td>\n",
              "      <td>Good case, Excellent value.</td>\n",
              "      <td>1</td>\n",
              "    </tr>\n",
              "    <tr>\n",
              "      <th>1</th>\n",
              "      <td>amazon</td>\n",
              "      <td>1</td>\n",
              "      <td>Great for the jawbone.</td>\n",
              "      <td>1</td>\n",
              "    </tr>\n",
              "    <tr>\n",
              "      <th>2</th>\n",
              "      <td>amazon</td>\n",
              "      <td>2</td>\n",
              "      <td>Tied to charger for conversations lasting more...</td>\n",
              "      <td>0</td>\n",
              "    </tr>\n",
              "    <tr>\n",
              "      <th>3</th>\n",
              "      <td>amazon</td>\n",
              "      <td>3</td>\n",
              "      <td>The mic is great.</td>\n",
              "      <td>1</td>\n",
              "    </tr>\n",
              "    <tr>\n",
              "      <th>4</th>\n",
              "      <td>amazon</td>\n",
              "      <td>4</td>\n",
              "      <td>I have to jiggle the plug to get it to line up...</td>\n",
              "      <td>0</td>\n",
              "    </tr>\n",
              "  </tbody>\n",
              "</table>\n",
              "</div>\n",
              "      <button class=\"colab-df-convert\" onclick=\"convertToInteractive('df-cf987eeb-916e-451b-b702-313f48ba01d9')\"\n",
              "              title=\"Convert this dataframe to an interactive table.\"\n",
              "              style=\"display:none;\">\n",
              "        \n",
              "  <svg xmlns=\"http://www.w3.org/2000/svg\" height=\"24px\"viewBox=\"0 0 24 24\"\n",
              "       width=\"24px\">\n",
              "    <path d=\"M0 0h24v24H0V0z\" fill=\"none\"/>\n",
              "    <path d=\"M18.56 5.44l.94 2.06.94-2.06 2.06-.94-2.06-.94-.94-2.06-.94 2.06-2.06.94zm-11 1L8.5 8.5l.94-2.06 2.06-.94-2.06-.94L8.5 2.5l-.94 2.06-2.06.94zm10 10l.94 2.06.94-2.06 2.06-.94-2.06-.94-.94-2.06-.94 2.06-2.06.94z\"/><path d=\"M17.41 7.96l-1.37-1.37c-.4-.4-.92-.59-1.43-.59-.52 0-1.04.2-1.43.59L10.3 9.45l-7.72 7.72c-.78.78-.78 2.05 0 2.83L4 21.41c.39.39.9.59 1.41.59.51 0 1.02-.2 1.41-.59l7.78-7.78 2.81-2.81c.8-.78.8-2.07 0-2.86zM5.41 20L4 18.59l7.72-7.72 1.47 1.35L5.41 20z\"/>\n",
              "  </svg>\n",
              "      </button>\n",
              "      \n",
              "  <style>\n",
              "    .colab-df-container {\n",
              "      display:flex;\n",
              "      flex-wrap:wrap;\n",
              "      gap: 12px;\n",
              "    }\n",
              "\n",
              "    .colab-df-convert {\n",
              "      background-color: #E8F0FE;\n",
              "      border: none;\n",
              "      border-radius: 50%;\n",
              "      cursor: pointer;\n",
              "      display: none;\n",
              "      fill: #1967D2;\n",
              "      height: 32px;\n",
              "      padding: 0 0 0 0;\n",
              "      width: 32px;\n",
              "    }\n",
              "\n",
              "    .colab-df-convert:hover {\n",
              "      background-color: #E2EBFA;\n",
              "      box-shadow: 0px 1px 2px rgba(60, 64, 67, 0.3), 0px 1px 3px 1px rgba(60, 64, 67, 0.15);\n",
              "      fill: #174EA6;\n",
              "    }\n",
              "\n",
              "    [theme=dark] .colab-df-convert {\n",
              "      background-color: #3B4455;\n",
              "      fill: #D2E3FC;\n",
              "    }\n",
              "\n",
              "    [theme=dark] .colab-df-convert:hover {\n",
              "      background-color: #434B5C;\n",
              "      box-shadow: 0px 1px 3px 1px rgba(0, 0, 0, 0.15);\n",
              "      filter: drop-shadow(0px 1px 2px rgba(0, 0, 0, 0.3));\n",
              "      fill: #FFFFFF;\n",
              "    }\n",
              "  </style>\n",
              "\n",
              "      <script>\n",
              "        const buttonEl =\n",
              "          document.querySelector('#df-cf987eeb-916e-451b-b702-313f48ba01d9 button.colab-df-convert');\n",
              "        buttonEl.style.display =\n",
              "          google.colab.kernel.accessAllowed ? 'block' : 'none';\n",
              "\n",
              "        async function convertToInteractive(key) {\n",
              "          const element = document.querySelector('#df-cf987eeb-916e-451b-b702-313f48ba01d9');\n",
              "          const dataTable =\n",
              "            await google.colab.kernel.invokeFunction('convertToInteractive',\n",
              "                                                     [key], {});\n",
              "          if (!dataTable) return;\n",
              "\n",
              "          const docLinkHtml = 'Like what you see? Visit the ' +\n",
              "            '<a target=\"_blank\" href=https://colab.research.google.com/notebooks/data_table.ipynb>data table notebook</a>'\n",
              "            + ' to learn more about interactive tables.';\n",
              "          element.innerHTML = '';\n",
              "          dataTable['output_type'] = 'display_data';\n",
              "          await google.colab.output.renderOutput(dataTable, element);\n",
              "          const docLink = document.createElement('div');\n",
              "          docLink.innerHTML = docLinkHtml;\n",
              "          element.appendChild(docLink);\n",
              "        }\n",
              "      </script>\n",
              "    </div>\n",
              "  </div>\n",
              "  "
            ]
          },
          "metadata": {},
          "execution_count": 134
        }
      ]
    },
    {
      "cell_type": "code",
      "source": [
        "comb_data=comb_data.drop('level_1',axis=1)"
      ],
      "metadata": {
        "id": "VL-Cw2KSWOEM"
      },
      "execution_count": 135,
      "outputs": []
    },
    {
      "cell_type": "code",
      "source": [
        "comb_data=comb_data.rename({'level_0':'Company'}, axis=1)\n",
        "comb_data.head()"
      ],
      "metadata": {
        "colab": {
          "base_uri": "https://localhost:8080/",
          "height": 206
        },
        "id": "VpKiFec4WZ_E",
        "outputId": "6d7ece0e-900f-4d69-cf85-14d57e9f3a30"
      },
      "execution_count": 136,
      "outputs": [
        {
          "output_type": "execute_result",
          "data": {
            "text/plain": [
              "  Company                                             Review  Label\n",
              "0  amazon                        Good case, Excellent value.      1\n",
              "1  amazon                             Great for the jawbone.      1\n",
              "2  amazon  Tied to charger for conversations lasting more...      0\n",
              "3  amazon                                  The mic is great.      1\n",
              "4  amazon  I have to jiggle the plug to get it to line up...      0"
            ],
            "text/html": [
              "\n",
              "  <div id=\"df-d6ad0186-01c9-4611-804a-66b84268650c\">\n",
              "    <div class=\"colab-df-container\">\n",
              "      <div>\n",
              "<style scoped>\n",
              "    .dataframe tbody tr th:only-of-type {\n",
              "        vertical-align: middle;\n",
              "    }\n",
              "\n",
              "    .dataframe tbody tr th {\n",
              "        vertical-align: top;\n",
              "    }\n",
              "\n",
              "    .dataframe thead th {\n",
              "        text-align: right;\n",
              "    }\n",
              "</style>\n",
              "<table border=\"1\" class=\"dataframe\">\n",
              "  <thead>\n",
              "    <tr style=\"text-align: right;\">\n",
              "      <th></th>\n",
              "      <th>Company</th>\n",
              "      <th>Review</th>\n",
              "      <th>Label</th>\n",
              "    </tr>\n",
              "  </thead>\n",
              "  <tbody>\n",
              "    <tr>\n",
              "      <th>0</th>\n",
              "      <td>amazon</td>\n",
              "      <td>Good case, Excellent value.</td>\n",
              "      <td>1</td>\n",
              "    </tr>\n",
              "    <tr>\n",
              "      <th>1</th>\n",
              "      <td>amazon</td>\n",
              "      <td>Great for the jawbone.</td>\n",
              "      <td>1</td>\n",
              "    </tr>\n",
              "    <tr>\n",
              "      <th>2</th>\n",
              "      <td>amazon</td>\n",
              "      <td>Tied to charger for conversations lasting more...</td>\n",
              "      <td>0</td>\n",
              "    </tr>\n",
              "    <tr>\n",
              "      <th>3</th>\n",
              "      <td>amazon</td>\n",
              "      <td>The mic is great.</td>\n",
              "      <td>1</td>\n",
              "    </tr>\n",
              "    <tr>\n",
              "      <th>4</th>\n",
              "      <td>amazon</td>\n",
              "      <td>I have to jiggle the plug to get it to line up...</td>\n",
              "      <td>0</td>\n",
              "    </tr>\n",
              "  </tbody>\n",
              "</table>\n",
              "</div>\n",
              "      <button class=\"colab-df-convert\" onclick=\"convertToInteractive('df-d6ad0186-01c9-4611-804a-66b84268650c')\"\n",
              "              title=\"Convert this dataframe to an interactive table.\"\n",
              "              style=\"display:none;\">\n",
              "        \n",
              "  <svg xmlns=\"http://www.w3.org/2000/svg\" height=\"24px\"viewBox=\"0 0 24 24\"\n",
              "       width=\"24px\">\n",
              "    <path d=\"M0 0h24v24H0V0z\" fill=\"none\"/>\n",
              "    <path d=\"M18.56 5.44l.94 2.06.94-2.06 2.06-.94-2.06-.94-.94-2.06-.94 2.06-2.06.94zm-11 1L8.5 8.5l.94-2.06 2.06-.94-2.06-.94L8.5 2.5l-.94 2.06-2.06.94zm10 10l.94 2.06.94-2.06 2.06-.94-2.06-.94-.94-2.06-.94 2.06-2.06.94z\"/><path d=\"M17.41 7.96l-1.37-1.37c-.4-.4-.92-.59-1.43-.59-.52 0-1.04.2-1.43.59L10.3 9.45l-7.72 7.72c-.78.78-.78 2.05 0 2.83L4 21.41c.39.39.9.59 1.41.59.51 0 1.02-.2 1.41-.59l7.78-7.78 2.81-2.81c.8-.78.8-2.07 0-2.86zM5.41 20L4 18.59l7.72-7.72 1.47 1.35L5.41 20z\"/>\n",
              "  </svg>\n",
              "      </button>\n",
              "      \n",
              "  <style>\n",
              "    .colab-df-container {\n",
              "      display:flex;\n",
              "      flex-wrap:wrap;\n",
              "      gap: 12px;\n",
              "    }\n",
              "\n",
              "    .colab-df-convert {\n",
              "      background-color: #E8F0FE;\n",
              "      border: none;\n",
              "      border-radius: 50%;\n",
              "      cursor: pointer;\n",
              "      display: none;\n",
              "      fill: #1967D2;\n",
              "      height: 32px;\n",
              "      padding: 0 0 0 0;\n",
              "      width: 32px;\n",
              "    }\n",
              "\n",
              "    .colab-df-convert:hover {\n",
              "      background-color: #E2EBFA;\n",
              "      box-shadow: 0px 1px 2px rgba(60, 64, 67, 0.3), 0px 1px 3px 1px rgba(60, 64, 67, 0.15);\n",
              "      fill: #174EA6;\n",
              "    }\n",
              "\n",
              "    [theme=dark] .colab-df-convert {\n",
              "      background-color: #3B4455;\n",
              "      fill: #D2E3FC;\n",
              "    }\n",
              "\n",
              "    [theme=dark] .colab-df-convert:hover {\n",
              "      background-color: #434B5C;\n",
              "      box-shadow: 0px 1px 3px 1px rgba(0, 0, 0, 0.15);\n",
              "      filter: drop-shadow(0px 1px 2px rgba(0, 0, 0, 0.3));\n",
              "      fill: #FFFFFF;\n",
              "    }\n",
              "  </style>\n",
              "\n",
              "      <script>\n",
              "        const buttonEl =\n",
              "          document.querySelector('#df-d6ad0186-01c9-4611-804a-66b84268650c button.colab-df-convert');\n",
              "        buttonEl.style.display =\n",
              "          google.colab.kernel.accessAllowed ? 'block' : 'none';\n",
              "\n",
              "        async function convertToInteractive(key) {\n",
              "          const element = document.querySelector('#df-d6ad0186-01c9-4611-804a-66b84268650c');\n",
              "          const dataTable =\n",
              "            await google.colab.kernel.invokeFunction('convertToInteractive',\n",
              "                                                     [key], {});\n",
              "          if (!dataTable) return;\n",
              "\n",
              "          const docLinkHtml = 'Like what you see? Visit the ' +\n",
              "            '<a target=\"_blank\" href=https://colab.research.google.com/notebooks/data_table.ipynb>data table notebook</a>'\n",
              "            + ' to learn more about interactive tables.';\n",
              "          element.innerHTML = '';\n",
              "          dataTable['output_type'] = 'display_data';\n",
              "          await google.colab.output.renderOutput(dataTable, element);\n",
              "          const docLink = document.createElement('div');\n",
              "          docLink.innerHTML = docLinkHtml;\n",
              "          element.appendChild(docLink);\n",
              "        }\n",
              "      </script>\n",
              "    </div>\n",
              "  </div>\n",
              "  "
            ]
          },
          "metadata": {},
          "execution_count": 136
        }
      ]
    },
    {
      "cell_type": "code",
      "source": [
        "comb_data.columns"
      ],
      "metadata": {
        "colab": {
          "base_uri": "https://localhost:8080/"
        },
        "id": "8GwjT2x6Y0dz",
        "outputId": "4af32237-aaca-4626-b68b-b7ac9d4f95ac"
      },
      "execution_count": 137,
      "outputs": [
        {
          "output_type": "execute_result",
          "data": {
            "text/plain": [
              "Index(['Company', 'Review', 'Label'], dtype='object')"
            ]
          },
          "metadata": {},
          "execution_count": 137
        }
      ]
    },
    {
      "cell_type": "code",
      "source": [
        "comb_data.isnull().sum()"
      ],
      "metadata": {
        "colab": {
          "base_uri": "https://localhost:8080/"
        },
        "id": "emG-EA-WY515",
        "outputId": "ab441419-214f-40b0-b3dc-120c020dcfc6"
      },
      "execution_count": 138,
      "outputs": [
        {
          "output_type": "execute_result",
          "data": {
            "text/plain": [
              "Company    0\n",
              "Review     0\n",
              "Label      0\n",
              "dtype: int64"
            ]
          },
          "metadata": {},
          "execution_count": 138
        }
      ]
    },
    {
      "cell_type": "code",
      "source": [
        "comb_data.to_csv(\"Sent_Analysis_Dataset.csv\", index=False)"
      ],
      "metadata": {
        "id": "DyYtYP-mXjfd"
      },
      "execution_count": 139,
      "outputs": []
    },
    {
      "cell_type": "code",
      "source": [
        "df_1 = pd.read_csv('Sent_Analysis_Dataset.csv')\n",
        "df_1"
      ],
      "metadata": {
        "colab": {
          "base_uri": "https://localhost:8080/",
          "height": 424
        },
        "id": "NbC4QUpuXxH4",
        "outputId": "d85b5c7e-c99f-4eb2-bb3d-36c8339a2f30"
      },
      "execution_count": 140,
      "outputs": [
        {
          "output_type": "execute_result",
          "data": {
            "text/plain": [
              "     Company                                             Review  Label\n",
              "0     amazon                        Good case, Excellent value.      1\n",
              "1     amazon                             Great for the jawbone.      1\n",
              "2     amazon  Tied to charger for conversations lasting more...      0\n",
              "3     amazon                                  The mic is great.      1\n",
              "4     amazon  I have to jiggle the plug to get it to line up...      0\n",
              "...      ...                                                ...    ...\n",
              "2740    yelp  I think food should have flavor and texture an...      0\n",
              "2741    yelp                           Appetite instantly gone.      0\n",
              "2742    yelp  Overall I was not impressed and would not go b...      0\n",
              "2743    yelp  The whole experience was underwhelming, and I ...      0\n",
              "2744    yelp  Then, as if I hadn't wasted enough of my life ...      0\n",
              "\n",
              "[2745 rows x 3 columns]"
            ],
            "text/html": [
              "\n",
              "  <div id=\"df-49c90afb-6b3f-43c5-a80e-20f0abff5fe5\">\n",
              "    <div class=\"colab-df-container\">\n",
              "      <div>\n",
              "<style scoped>\n",
              "    .dataframe tbody tr th:only-of-type {\n",
              "        vertical-align: middle;\n",
              "    }\n",
              "\n",
              "    .dataframe tbody tr th {\n",
              "        vertical-align: top;\n",
              "    }\n",
              "\n",
              "    .dataframe thead th {\n",
              "        text-align: right;\n",
              "    }\n",
              "</style>\n",
              "<table border=\"1\" class=\"dataframe\">\n",
              "  <thead>\n",
              "    <tr style=\"text-align: right;\">\n",
              "      <th></th>\n",
              "      <th>Company</th>\n",
              "      <th>Review</th>\n",
              "      <th>Label</th>\n",
              "    </tr>\n",
              "  </thead>\n",
              "  <tbody>\n",
              "    <tr>\n",
              "      <th>0</th>\n",
              "      <td>amazon</td>\n",
              "      <td>Good case, Excellent value.</td>\n",
              "      <td>1</td>\n",
              "    </tr>\n",
              "    <tr>\n",
              "      <th>1</th>\n",
              "      <td>amazon</td>\n",
              "      <td>Great for the jawbone.</td>\n",
              "      <td>1</td>\n",
              "    </tr>\n",
              "    <tr>\n",
              "      <th>2</th>\n",
              "      <td>amazon</td>\n",
              "      <td>Tied to charger for conversations lasting more...</td>\n",
              "      <td>0</td>\n",
              "    </tr>\n",
              "    <tr>\n",
              "      <th>3</th>\n",
              "      <td>amazon</td>\n",
              "      <td>The mic is great.</td>\n",
              "      <td>1</td>\n",
              "    </tr>\n",
              "    <tr>\n",
              "      <th>4</th>\n",
              "      <td>amazon</td>\n",
              "      <td>I have to jiggle the plug to get it to line up...</td>\n",
              "      <td>0</td>\n",
              "    </tr>\n",
              "    <tr>\n",
              "      <th>...</th>\n",
              "      <td>...</td>\n",
              "      <td>...</td>\n",
              "      <td>...</td>\n",
              "    </tr>\n",
              "    <tr>\n",
              "      <th>2740</th>\n",
              "      <td>yelp</td>\n",
              "      <td>I think food should have flavor and texture an...</td>\n",
              "      <td>0</td>\n",
              "    </tr>\n",
              "    <tr>\n",
              "      <th>2741</th>\n",
              "      <td>yelp</td>\n",
              "      <td>Appetite instantly gone.</td>\n",
              "      <td>0</td>\n",
              "    </tr>\n",
              "    <tr>\n",
              "      <th>2742</th>\n",
              "      <td>yelp</td>\n",
              "      <td>Overall I was not impressed and would not go b...</td>\n",
              "      <td>0</td>\n",
              "    </tr>\n",
              "    <tr>\n",
              "      <th>2743</th>\n",
              "      <td>yelp</td>\n",
              "      <td>The whole experience was underwhelming, and I ...</td>\n",
              "      <td>0</td>\n",
              "    </tr>\n",
              "    <tr>\n",
              "      <th>2744</th>\n",
              "      <td>yelp</td>\n",
              "      <td>Then, as if I hadn't wasted enough of my life ...</td>\n",
              "      <td>0</td>\n",
              "    </tr>\n",
              "  </tbody>\n",
              "</table>\n",
              "<p>2745 rows × 3 columns</p>\n",
              "</div>\n",
              "      <button class=\"colab-df-convert\" onclick=\"convertToInteractive('df-49c90afb-6b3f-43c5-a80e-20f0abff5fe5')\"\n",
              "              title=\"Convert this dataframe to an interactive table.\"\n",
              "              style=\"display:none;\">\n",
              "        \n",
              "  <svg xmlns=\"http://www.w3.org/2000/svg\" height=\"24px\"viewBox=\"0 0 24 24\"\n",
              "       width=\"24px\">\n",
              "    <path d=\"M0 0h24v24H0V0z\" fill=\"none\"/>\n",
              "    <path d=\"M18.56 5.44l.94 2.06.94-2.06 2.06-.94-2.06-.94-.94-2.06-.94 2.06-2.06.94zm-11 1L8.5 8.5l.94-2.06 2.06-.94-2.06-.94L8.5 2.5l-.94 2.06-2.06.94zm10 10l.94 2.06.94-2.06 2.06-.94-2.06-.94-.94-2.06-.94 2.06-2.06.94z\"/><path d=\"M17.41 7.96l-1.37-1.37c-.4-.4-.92-.59-1.43-.59-.52 0-1.04.2-1.43.59L10.3 9.45l-7.72 7.72c-.78.78-.78 2.05 0 2.83L4 21.41c.39.39.9.59 1.41.59.51 0 1.02-.2 1.41-.59l7.78-7.78 2.81-2.81c.8-.78.8-2.07 0-2.86zM5.41 20L4 18.59l7.72-7.72 1.47 1.35L5.41 20z\"/>\n",
              "  </svg>\n",
              "      </button>\n",
              "      \n",
              "  <style>\n",
              "    .colab-df-container {\n",
              "      display:flex;\n",
              "      flex-wrap:wrap;\n",
              "      gap: 12px;\n",
              "    }\n",
              "\n",
              "    .colab-df-convert {\n",
              "      background-color: #E8F0FE;\n",
              "      border: none;\n",
              "      border-radius: 50%;\n",
              "      cursor: pointer;\n",
              "      display: none;\n",
              "      fill: #1967D2;\n",
              "      height: 32px;\n",
              "      padding: 0 0 0 0;\n",
              "      width: 32px;\n",
              "    }\n",
              "\n",
              "    .colab-df-convert:hover {\n",
              "      background-color: #E2EBFA;\n",
              "      box-shadow: 0px 1px 2px rgba(60, 64, 67, 0.3), 0px 1px 3px 1px rgba(60, 64, 67, 0.15);\n",
              "      fill: #174EA6;\n",
              "    }\n",
              "\n",
              "    [theme=dark] .colab-df-convert {\n",
              "      background-color: #3B4455;\n",
              "      fill: #D2E3FC;\n",
              "    }\n",
              "\n",
              "    [theme=dark] .colab-df-convert:hover {\n",
              "      background-color: #434B5C;\n",
              "      box-shadow: 0px 1px 3px 1px rgba(0, 0, 0, 0.15);\n",
              "      filter: drop-shadow(0px 1px 2px rgba(0, 0, 0, 0.3));\n",
              "      fill: #FFFFFF;\n",
              "    }\n",
              "  </style>\n",
              "\n",
              "      <script>\n",
              "        const buttonEl =\n",
              "          document.querySelector('#df-49c90afb-6b3f-43c5-a80e-20f0abff5fe5 button.colab-df-convert');\n",
              "        buttonEl.style.display =\n",
              "          google.colab.kernel.accessAllowed ? 'block' : 'none';\n",
              "\n",
              "        async function convertToInteractive(key) {\n",
              "          const element = document.querySelector('#df-49c90afb-6b3f-43c5-a80e-20f0abff5fe5');\n",
              "          const dataTable =\n",
              "            await google.colab.kernel.invokeFunction('convertToInteractive',\n",
              "                                                     [key], {});\n",
              "          if (!dataTable) return;\n",
              "\n",
              "          const docLinkHtml = 'Like what you see? Visit the ' +\n",
              "            '<a target=\"_blank\" href=https://colab.research.google.com/notebooks/data_table.ipynb>data table notebook</a>'\n",
              "            + ' to learn more about interactive tables.';\n",
              "          element.innerHTML = '';\n",
              "          dataTable['output_type'] = 'display_data';\n",
              "          await google.colab.output.renderOutput(dataTable, element);\n",
              "          const docLink = document.createElement('div');\n",
              "          docLink.innerHTML = docLinkHtml;\n",
              "          element.appendChild(docLink);\n",
              "        }\n",
              "      </script>\n",
              "    </div>\n",
              "  </div>\n",
              "  "
            ]
          },
          "metadata": {},
          "execution_count": 140
        }
      ]
    },
    {
      "cell_type": "code",
      "source": [
        "df_1.columns"
      ],
      "metadata": {
        "colab": {
          "base_uri": "https://localhost:8080/"
        },
        "id": "NIWQfNKH9yxf",
        "outputId": "bdecf920-9435-4bdc-9559-8cbfef939757"
      },
      "execution_count": 141,
      "outputs": [
        {
          "output_type": "execute_result",
          "data": {
            "text/plain": [
              "Index(['Company', 'Review', 'Label'], dtype='object')"
            ]
          },
          "metadata": {},
          "execution_count": 141
        }
      ]
    },
    {
      "cell_type": "code",
      "source": [
        "import string\n",
        "import spacy\n",
        "from spacy.lang.en.stop_words import STOP_WORDS\n",
        "from spacy.lang.en import English\n",
        "nlp = spacy.load(\"en_core_web_sm\")"
      ],
      "metadata": {
        "id": "x6SWZqbOZApY"
      },
      "execution_count": 142,
      "outputs": []
    },
    {
      "cell_type": "code",
      "source": [
        "punctuations = string.punctuation"
      ],
      "metadata": {
        "id": "gfwxiIKM_S-X"
      },
      "execution_count": 143,
      "outputs": []
    },
    {
      "cell_type": "code",
      "source": [
        "punctuations"
      ],
      "metadata": {
        "colab": {
          "base_uri": "https://localhost:8080/",
          "height": 35
        },
        "id": "qgDg6Sw8_XvZ",
        "outputId": "6fee5a38-d42e-47ce-df2a-62abaaecfb6b"
      },
      "execution_count": 144,
      "outputs": [
        {
          "output_type": "execute_result",
          "data": {
            "text/plain": [
              "'!\"#$%&\\'()*+,-./:;<=>?@[\\\\]^_`{|}~'"
            ],
            "application/vnd.google.colaboratory.intrinsic+json": {
              "type": "string"
            }
          },
          "metadata": {},
          "execution_count": 144
        }
      ]
    },
    {
      "cell_type": "code",
      "source": [
        "stop_words = list(STOP_WORDS)\n",
        "stop_words"
      ],
      "metadata": {
        "colab": {
          "base_uri": "https://localhost:8080/"
        },
        "id": "rsMhBR3m5p6_",
        "outputId": "948ef3de-311d-46cb-8f14-39bfb0a5cc95"
      },
      "execution_count": 145,
      "outputs": [
        {
          "output_type": "execute_result",
          "data": {
            "text/plain": [
              "['after',\n",
              " 'among',\n",
              " 'becomes',\n",
              " 'anything',\n",
              " 'she',\n",
              " 'as',\n",
              " 'will',\n",
              " 'sixty',\n",
              " 'made',\n",
              " 'though',\n",
              " 'above',\n",
              " 'could',\n",
              " 'during',\n",
              " 'unless',\n",
              " 'how',\n",
              " 'n’t',\n",
              " 'should',\n",
              " 'now',\n",
              " 'hereupon',\n",
              " 'towards',\n",
              " 'whom',\n",
              " 'whole',\n",
              " 'whither',\n",
              " 'six',\n",
              " 'each',\n",
              " 'them',\n",
              " 'along',\n",
              " '‘ll',\n",
              " 'whereas',\n",
              " 'further',\n",
              " 'done',\n",
              " 'is',\n",
              " 'put',\n",
              " 'not',\n",
              " 'former',\n",
              " 'while',\n",
              " 'over',\n",
              " 'more',\n",
              " 'also',\n",
              " 'next',\n",
              " 'us',\n",
              " 'somehow',\n",
              " 'two',\n",
              " 'four',\n",
              " 'therefore',\n",
              " 'because',\n",
              " 'where',\n",
              " 'full',\n",
              " 'therein',\n",
              " 'twenty',\n",
              " 'empty',\n",
              " 'thereby',\n",
              " 'yourself',\n",
              " 'side',\n",
              " 'be',\n",
              " 'ever',\n",
              " 'here',\n",
              " 'nevertheless',\n",
              " 'serious',\n",
              " 'beside',\n",
              " '‘m',\n",
              " 'twelve',\n",
              " 'some',\n",
              " 'anyone',\n",
              " 'per',\n",
              " 'go',\n",
              " 'due',\n",
              " 'yours',\n",
              " \"'d\",\n",
              " 'both',\n",
              " 'whereafter',\n",
              " 'whereby',\n",
              " \"'s\",\n",
              " 'nor',\n",
              " 'although',\n",
              " 'except',\n",
              " 'n‘t',\n",
              " 'many',\n",
              " 'being',\n",
              " 'through',\n",
              " 'first',\n",
              " 'between',\n",
              " \"'ve\",\n",
              " 'others',\n",
              " 'it',\n",
              " 'mostly',\n",
              " 'in',\n",
              " 'yet',\n",
              " 'even',\n",
              " '’m',\n",
              " 'besides',\n",
              " 'was',\n",
              " 'well',\n",
              " 'myself',\n",
              " 'their',\n",
              " '‘ve',\n",
              " 'ourselves',\n",
              " 'to',\n",
              " 'herself',\n",
              " \"'ll\",\n",
              " 'might',\n",
              " 'any',\n",
              " 'none',\n",
              " 'throughout',\n",
              " 'under',\n",
              " 'either',\n",
              " 'still',\n",
              " 'become',\n",
              " 'your',\n",
              " 'such',\n",
              " 'with',\n",
              " 'her',\n",
              " '’d',\n",
              " 'neither',\n",
              " 'again',\n",
              " 'whenever',\n",
              " 'one',\n",
              " 'would',\n",
              " 'rather',\n",
              " 'perhaps',\n",
              " 'which',\n",
              " 'from',\n",
              " 'back',\n",
              " 'ca',\n",
              " 'herein',\n",
              " 'third',\n",
              " 'at',\n",
              " 'move',\n",
              " 'anywhere',\n",
              " 'somewhere',\n",
              " 'do',\n",
              " 'most',\n",
              " 'onto',\n",
              " 'when',\n",
              " 'less',\n",
              " '‘re',\n",
              " 'almost',\n",
              " 'has',\n",
              " 'very',\n",
              " 'you',\n",
              " 'beyond',\n",
              " 'meanwhile',\n",
              " 'had',\n",
              " '‘d',\n",
              " 'i',\n",
              " 'forty',\n",
              " 'until',\n",
              " 'everywhere',\n",
              " 'does',\n",
              " 'see',\n",
              " 'own',\n",
              " 'across',\n",
              " 'him',\n",
              " 'why',\n",
              " 'a',\n",
              " 'front',\n",
              " 'several',\n",
              " 'elsewhere',\n",
              " 'anyway',\n",
              " 'on',\n",
              " 'already',\n",
              " 'around',\n",
              " 'themselves',\n",
              " 'down',\n",
              " 'alone',\n",
              " 'are',\n",
              " 'whoever',\n",
              " 'last',\n",
              " 'get',\n",
              " 'however',\n",
              " 'below',\n",
              " 'nowhere',\n",
              " 'out',\n",
              " 'sometimes',\n",
              " 'afterwards',\n",
              " 'whereupon',\n",
              " 'anyhow',\n",
              " 'call',\n",
              " 'various',\n",
              " 'thus',\n",
              " 'since',\n",
              " 'everyone',\n",
              " \"'re\",\n",
              " 'am',\n",
              " 'into',\n",
              " 'whether',\n",
              " 'namely',\n",
              " 'mine',\n",
              " 'upon',\n",
              " 'have',\n",
              " 'wherever',\n",
              " 'another',\n",
              " 'seeming',\n",
              " 'beforehand',\n",
              " 'the',\n",
              " 'amongst',\n",
              " 'via',\n",
              " 'too',\n",
              " \"n't\",\n",
              " 'they',\n",
              " 'we',\n",
              " 'his',\n",
              " 'must',\n",
              " 'than',\n",
              " 'keep',\n",
              " 'eleven',\n",
              " 'and',\n",
              " '’s',\n",
              " 'moreover',\n",
              " 'always',\n",
              " 'often',\n",
              " 'indeed',\n",
              " 'thru',\n",
              " 'sometime',\n",
              " 'least',\n",
              " 'hereafter',\n",
              " 'hence',\n",
              " 'really',\n",
              " 'before',\n",
              " 'together',\n",
              " 'formerly',\n",
              " 'this',\n",
              " 'show',\n",
              " 'eight',\n",
              " 'part',\n",
              " 'hereby',\n",
              " 'thereupon',\n",
              " 'did',\n",
              " 'thereafter',\n",
              " 'same',\n",
              " 'amount',\n",
              " \"'m\",\n",
              " 'all',\n",
              " 'fifteen',\n",
              " 'what',\n",
              " 'every',\n",
              " 'three',\n",
              " 'five',\n",
              " 'by',\n",
              " 'he',\n",
              " 'doing',\n",
              " 'never',\n",
              " 'only',\n",
              " 'those',\n",
              " 'ours',\n",
              " 'top',\n",
              " 'using',\n",
              " 'few',\n",
              " 'otherwise',\n",
              " 'there',\n",
              " 'can',\n",
              " 'fifty',\n",
              " 'make',\n",
              " 'ten',\n",
              " 'or',\n",
              " 'whatever',\n",
              " 'behind',\n",
              " 'within',\n",
              " 'but',\n",
              " '’ve',\n",
              " 'for',\n",
              " 'else',\n",
              " 'of',\n",
              " 'name',\n",
              " 'himself',\n",
              " 'who',\n",
              " 'regarding',\n",
              " 'then',\n",
              " 'bottom',\n",
              " 'latterly',\n",
              " 'noone',\n",
              " 'toward',\n",
              " '’ll',\n",
              " 'yourselves',\n",
              " 'used',\n",
              " 'became',\n",
              " 're',\n",
              " 'up',\n",
              " '’re',\n",
              " '‘s',\n",
              " 'its',\n",
              " 'someone',\n",
              " 'take',\n",
              " 'my',\n",
              " 'nothing',\n",
              " 'an',\n",
              " 'no',\n",
              " 'may',\n",
              " 'everything',\n",
              " 'enough',\n",
              " 'me',\n",
              " 'were',\n",
              " 'nine',\n",
              " 'without',\n",
              " 'so',\n",
              " 'whence',\n",
              " 'once',\n",
              " 'itself',\n",
              " 'just',\n",
              " 'hundred',\n",
              " 'hers',\n",
              " 'whose',\n",
              " 'seem',\n",
              " 'something',\n",
              " 'seems',\n",
              " 'quite',\n",
              " 'latter',\n",
              " 'say',\n",
              " 'off',\n",
              " 'give',\n",
              " 'please',\n",
              " 'nobody',\n",
              " 'thence',\n",
              " 'about',\n",
              " 'cannot',\n",
              " 'our',\n",
              " 'that',\n",
              " 'these',\n",
              " 'becoming',\n",
              " 'against',\n",
              " 'other',\n",
              " 'if',\n",
              " 'seemed',\n",
              " 'much',\n",
              " 'wherein',\n",
              " 'been']"
            ]
          },
          "metadata": {},
          "execution_count": 145
        }
      ]
    },
    {
      "cell_type": "code",
      "source": [
        "from nltk.tokenize import RegexpTokenizer\n",
        "regex_tokenizer = RegexpTokenizer(r'[a-zA-Z]+')\n",
        "\n",
        "tokenizing = RegexpTokenizer('\\s+', gaps=True)\n",
        "df_1['data_tokens'] = df_1['Review'].map(tokenizing.tokenize)"
      ],
      "metadata": {
        "id": "bH6f6437YKG0"
      },
      "execution_count": 146,
      "outputs": []
    },
    {
      "cell_type": "code",
      "source": [
        "from sklearn.metrics import accuracy_score \n",
        "from sklearn.model_selection import train_test_split \n",
        "from sklearn.base import TransformerMixin\n",
        "from sklearn.svm import LinearSVC \n",
        "from sklearn.pipeline import Pipeline \n",
        "from sklearn.feature_extraction.text import TfidfVectorizer, CountVectorizer\n",
        "from sklearn.svm import LinearSVC\n",
        "import re"
      ],
      "metadata": {
        "id": "cnzC-BhnCAMa"
      },
      "execution_count": 147,
      "outputs": []
    },
    {
      "cell_type": "code",
      "source": [
        "X = df_1['Review'] # the features we want to analyze\n",
        "ylabels = df_1['Label'] # the labels, or answers, we want to test against\n",
        "\n",
        "X_train, X_test, y_train, y_test = train_test_split(X, ylabels, test_size=0.3,random_state = 0)"
      ],
      "metadata": {
        "id": "6Wr2XSPCYrbl"
      },
      "execution_count": 148,
      "outputs": []
    },
    {
      "cell_type": "code",
      "source": [
        "# Custom transformer using spaCy\n",
        "class predictors(TransformerMixin):\n",
        "    def transform(self, X, **transform_params):\n",
        "        # Cleaning Text\n",
        "        return [clean_text(text) for text in X]\n",
        "\n",
        "    def fit(self, X, y=None, **fit_params):\n",
        "        return self\n",
        "\n",
        "    def get_params(self, deep=True):\n",
        "        return {}\n",
        "\n",
        "nltk.download('stopwords')\n",
        "stopwords=nltk.corpus.stopwords.words('english')\n",
        "def clean_text(text):\n",
        "    edited_text=re.sub('\\W',\" \",text) \n",
        "    edited_text=re.sub(\"  \",\" \",edited_text)\n",
        "    edited_text=edited_text.split(\" \")\n",
        "    edited_text=\" \".join([char for char in edited_text if char!= \"\"])\n",
        "    edited_text=edited_text.lower()\n",
        "    edited_text=re.sub('\\d+',\"\",edited_text)\n",
        "    edited_text=re.split('\\W+',edited_text)\n",
        "    edited_text=\" \".join([word for word in edited_text if word not in stopwords])\n",
        "    return edited_text"
      ],
      "metadata": {
        "colab": {
          "base_uri": "https://localhost:8080/"
        },
        "id": "2IgFH8CY_dTi",
        "outputId": "f01be2e2-19df-4beb-85c7-eb23c1c6830b"
      },
      "execution_count": 149,
      "outputs": [
        {
          "output_type": "stream",
          "name": "stderr",
          "text": [
            "[nltk_data] Downloading package stopwords to /root/nltk_data...\n",
            "[nltk_data]   Package stopwords is already up-to-date!\n"
          ]
        }
      ]
    },
    {
      "cell_type": "code",
      "source": [
        "bow_vector = TfidfVectorizer(lowercase=True,stop_words='english',ngram_range = (1,1),tokenizer = regex_tokenizer.tokenize)\n",
        "classifier = LinearSVC()"
      ],
      "metadata": {
        "id": "aaEeR4NZ4Jc6"
      },
      "execution_count": 150,
      "outputs": []
    },
    {
      "cell_type": "code",
      "source": [
        "pipe = Pipeline([(\"cleaner\", predictors()),('vectorizer', bow_vector),('classifier', classifier)])\n",
        "pipe.fit(X_train,y_train)"
      ],
      "metadata": {
        "colab": {
          "base_uri": "https://localhost:8080/"
        },
        "id": "UpEC6Fjt0x5P",
        "outputId": "14566c3e-c149-41b6-f515-223d07ff94c2"
      },
      "execution_count": 151,
      "outputs": [
        {
          "output_type": "execute_result",
          "data": {
            "text/plain": [
              "Pipeline(steps=[('cleaner', <__main__.predictors object at 0x7f5219a0cf10>),\n",
              "                ('vectorizer',\n",
              "                 TfidfVectorizer(stop_words='english',\n",
              "                                 tokenizer=<bound method RegexpTokenizer.tokenize of RegexpTokenizer(pattern='[a-zA-Z]+', gaps=False, discard_empty=True, flags=<RegexFlag.UNICODE|DOTALL|MULTILINE: 56>)>)),\n",
              "                ('classifier', LinearSVC())])"
            ]
          },
          "metadata": {},
          "execution_count": 151
        }
      ]
    },
    {
      "cell_type": "code",
      "source": [
        "prediction_result = pipe.predict(X_test)\n",
        "prediction_result"
      ],
      "metadata": {
        "colab": {
          "base_uri": "https://localhost:8080/"
        },
        "id": "ea1VOAb10xYT",
        "outputId": "878c0161-ab66-4359-d68d-d754e91f8c71"
      },
      "execution_count": 152,
      "outputs": [
        {
          "output_type": "execute_result",
          "data": {
            "text/plain": [
              "array([0, 0, 1, 0, 1, 0, 1, 1, 1, 0, 0, 0, 1, 1, 0, 0, 0, 0, 1, 1, 1, 0,\n",
              "       0, 0, 1, 1, 0, 0, 0, 1, 1, 1, 1, 1, 1, 0, 1, 1, 0, 0, 1, 1, 1, 0,\n",
              "       1, 0, 0, 1, 1, 1, 0, 1, 1, 1, 1, 1, 1, 0, 0, 0, 0, 0, 0, 0, 1, 1,\n",
              "       0, 0, 0, 1, 0, 0, 1, 1, 1, 1, 1, 0, 0, 1, 0, 0, 1, 1, 1, 1, 0, 0,\n",
              "       0, 1, 0, 1, 1, 0, 1, 0, 0, 0, 1, 1, 1, 1, 1, 0, 1, 1, 0, 0, 0, 1,\n",
              "       1, 1, 0, 1, 1, 1, 0, 0, 0, 0, 1, 1, 0, 0, 1, 0, 1, 0, 1, 0, 1, 1,\n",
              "       1, 1, 1, 1, 1, 1, 1, 0, 1, 1, 0, 0, 0, 0, 1, 0, 1, 0, 1, 1, 1, 1,\n",
              "       0, 1, 0, 0, 0, 1, 0, 0, 1, 0, 1, 0, 1, 1, 1, 0, 1, 0, 1, 0, 1, 1,\n",
              "       0, 0, 1, 1, 1, 1, 0, 1, 0, 1, 1, 1, 1, 1, 1, 1, 1, 0, 0, 0, 0, 1,\n",
              "       1, 0, 0, 1, 0, 1, 1, 1, 1, 0, 0, 1, 1, 0, 0, 0, 0, 0, 1, 0, 1, 1,\n",
              "       1, 1, 0, 0, 1, 1, 1, 0, 0, 0, 0, 1, 1, 0, 1, 1, 1, 0, 1, 0, 1, 1,\n",
              "       0, 0, 1, 1, 1, 1, 0, 0, 1, 0, 1, 0, 1, 0, 0, 0, 1, 0, 1, 0, 0, 1,\n",
              "       1, 1, 1, 0, 0, 1, 1, 1, 0, 0, 0, 1, 1, 0, 0, 1, 0, 0, 1, 0, 1, 0,\n",
              "       1, 1, 1, 1, 0, 0, 1, 1, 1, 1, 0, 0, 1, 1, 0, 1, 1, 0, 0, 0, 1, 0,\n",
              "       1, 0, 1, 1, 1, 1, 1, 1, 1, 0, 1, 0, 1, 0, 1, 1, 1, 1, 1, 1, 1, 0,\n",
              "       1, 1, 1, 0, 1, 0, 1, 0, 1, 1, 1, 0, 1, 1, 0, 1, 1, 0, 1, 0, 0, 1,\n",
              "       0, 0, 1, 0, 1, 1, 0, 1, 1, 1, 0, 1, 0, 0, 0, 1, 0, 0, 1, 0, 1, 1,\n",
              "       0, 0, 0, 0, 0, 0, 1, 1, 0, 0, 1, 1, 1, 1, 0, 0, 0, 0, 1, 1, 1, 1,\n",
              "       0, 1, 1, 1, 0, 0, 0, 0, 1, 1, 0, 1, 0, 0, 0, 0, 0, 0, 0, 0, 1, 1,\n",
              "       0, 1, 1, 0, 0, 1, 0, 1, 0, 0, 0, 0, 1, 0, 1, 1, 0, 1, 0, 0, 1, 0,\n",
              "       0, 1, 0, 0, 1, 1, 1, 0, 0, 1, 1, 0, 0, 1, 0, 1, 0, 1, 0, 0, 1, 0,\n",
              "       1, 0, 0, 0, 0, 0, 1, 0, 0, 1, 1, 1, 0, 1, 0, 0, 1, 1, 1, 1, 1, 0,\n",
              "       1, 0, 0, 1, 0, 0, 0, 1, 0, 0, 0, 0, 0, 0, 1, 0, 1, 1, 0, 1, 1, 1,\n",
              "       0, 1, 0, 0, 1, 1, 0, 1, 0, 1, 0, 0, 0, 1, 1, 1, 1, 1, 0, 0, 0, 0,\n",
              "       0, 0, 1, 1, 1, 0, 1, 1, 0, 0, 0, 0, 0, 0, 1, 0, 0, 1, 1, 0, 1, 1,\n",
              "       1, 0, 0, 1, 0, 0, 0, 1, 1, 0, 1, 1, 1, 0, 1, 0, 0, 0, 0, 0, 1, 0,\n",
              "       1, 1, 1, 1, 0, 0, 1, 1, 1, 1, 0, 0, 0, 0, 1, 1, 1, 1, 1, 1, 0, 1,\n",
              "       1, 0, 0, 1, 0, 1, 1, 0, 0, 0, 0, 1, 0, 1, 1, 0, 0, 0, 0, 0, 1, 1,\n",
              "       0, 0, 0, 1, 0, 1, 0, 1, 0, 0, 1, 1, 0, 0, 0, 1, 1, 0, 1, 0, 1, 0,\n",
              "       1, 0, 0, 1, 1, 1, 0, 1, 0, 1, 0, 0, 0, 0, 1, 0, 0, 0, 0, 0, 1, 1,\n",
              "       0, 1, 0, 1, 1, 0, 1, 1, 0, 0, 1, 1, 0, 1, 1, 0, 1, 1, 1, 0, 1, 1,\n",
              "       0, 0, 1, 1, 0, 1, 0, 0, 0, 1, 0, 1, 0, 0, 0, 1, 0, 1, 0, 1, 0, 0,\n",
              "       1, 1, 0, 1, 1, 1, 0, 0, 0, 0, 1, 0, 0, 1, 1, 1, 1, 1, 0, 1, 1, 0,\n",
              "       1, 1, 1, 1, 0, 1, 0, 0, 0, 0, 0, 0, 0, 1, 0, 0, 0, 0, 1, 0, 0, 1,\n",
              "       1, 1, 1, 0, 0, 1, 1, 0, 0, 0, 0, 1, 1, 0, 1, 1, 1, 1, 0, 1, 1, 0,\n",
              "       0, 1, 1, 1, 0, 0, 1, 0, 0, 0, 1, 0, 0, 1, 0, 0, 1, 1, 0, 0, 0, 1,\n",
              "       0, 1, 1, 0, 0, 0, 1, 0, 0, 0, 0, 1, 1, 0, 1, 0, 0, 1, 1, 0, 0, 1,\n",
              "       1, 1, 0, 1, 1, 1, 1, 1, 0, 0])"
            ]
          },
          "metadata": {},
          "execution_count": 152
        }
      ]
    },
    {
      "cell_type": "code",
      "source": [
        "accuracy_1=accuracy_score(y_test,prediction_result)\n",
        "accuracy_1"
      ],
      "metadata": {
        "colab": {
          "base_uri": "https://localhost:8080/"
        },
        "id": "VyvWwSNSHqNd",
        "outputId": "82e4a11c-2426-43a1-cd83-4aa1ea56444f"
      },
      "execution_count": 153,
      "outputs": [
        {
          "output_type": "execute_result",
          "data": {
            "text/plain": [
              "0.7851941747572816"
            ]
          },
          "metadata": {},
          "execution_count": 153
        }
      ]
    }
  ]
}