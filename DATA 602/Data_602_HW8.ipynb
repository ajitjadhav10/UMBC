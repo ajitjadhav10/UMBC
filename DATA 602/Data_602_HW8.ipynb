{
  "nbformat": 4,
  "nbformat_minor": 0,
  "metadata": {
    "colab": {
      "name": "Data_602_HW_8.ipynb",
      "provenance": [],
      "authorship_tag": "ABX9TyP046gTNookfSv1Pc75HN9k",
      "include_colab_link": true
    },
    "kernelspec": {
      "name": "python3",
      "display_name": "Python 3"
    },
    "language_info": {
      "name": "python"
    }
  },
  "cells": [
    {
      "cell_type": "markdown",
      "metadata": {
        "id": "view-in-github",
        "colab_type": "text"
      },
      "source": [
        "<a href=\"https://colab.research.google.com/github/ajitjadhav10/UMBC/blob/main/DATA%20602/Data_602_HW8.ipynb\" target=\"_parent\"><img src=\"https://colab.research.google.com/assets/colab-badge.svg\" alt=\"Open In Colab\"/></a>"
      ]
    },
    {
      "cell_type": "markdown",
      "source": [
        "Importing important libraries"
      ],
      "metadata": {
        "id": "XTZUqk2FY-fD"
      }
    },
    {
      "cell_type": "code",
      "execution_count": null,
      "metadata": {
        "id": "Fa_-2vszTSOJ"
      },
      "outputs": [],
      "source": [
        "import pandas as pd\n",
        "import numpy as np\n",
        "import matplotlib.pyplot as plt"
      ]
    },
    {
      "cell_type": "code",
      "source": [
        "from sklearn.datasets import load_wine"
      ],
      "metadata": {
        "id": "WwyeGahK-EyM"
      },
      "execution_count": 87,
      "outputs": []
    },
    {
      "cell_type": "code",
      "source": [
        "wine_data=load_wine()\n",
        "dir(wine_data)"
      ],
      "metadata": {
        "colab": {
          "base_uri": "https://localhost:8080/"
        },
        "id": "ZnJuUmFM-LUr",
        "outputId": "d403e02d-3229-484e-c4b2-d108a2f49d90"
      },
      "execution_count": 89,
      "outputs": [
        {
          "output_type": "execute_result",
          "data": {
            "text/plain": [
              "['DESCR', 'data', 'feature_names', 'frame', 'target', 'target_names']"
            ]
          },
          "metadata": {},
          "execution_count": 89
        }
      ]
    },
    {
      "cell_type": "code",
      "source": [
        "#printing the feature names\n",
        "\n",
        "print(wine_data.feature_names)"
      ],
      "metadata": {
        "colab": {
          "base_uri": "https://localhost:8080/"
        },
        "id": "ZzogqEXS_tbX",
        "outputId": "2f6374eb-33bd-4402-cdcd-63966b4bf3b4"
      },
      "execution_count": 91,
      "outputs": [
        {
          "output_type": "stream",
          "name": "stdout",
          "text": [
            "['alcohol', 'malic_acid', 'ash', 'alcalinity_of_ash', 'magnesium', 'total_phenols', 'flavanoids', 'nonflavanoid_phenols', 'proanthocyanins', 'color_intensity', 'hue', 'od280/od315_of_diluted_wines', 'proline']\n"
          ]
        }
      ]
    },
    {
      "cell_type": "code",
      "source": [
        "df_1=pd.read_csv('https://archive.ics.uci.edu/ml/''machine-learning-databases/wine/wine.data',header=None)\n",
        "df_1.head()"
      ],
      "metadata": {
        "colab": {
          "base_uri": "https://localhost:8080/",
          "height": 206
        },
        "id": "Jfhj8L2dUaJX",
        "outputId": "36d41d08-cfa3-43c0-8743-3f478c7b2058"
      },
      "execution_count": 97,
      "outputs": [
        {
          "output_type": "execute_result",
          "data": {
            "text/plain": [
              "   0      1     2     3     4    5     6     7     8     9     10    11    12  \\\n",
              "0   1  14.23  1.71  2.43  15.6  127  2.80  3.06  0.28  2.29  5.64  1.04  3.92   \n",
              "1   1  13.20  1.78  2.14  11.2  100  2.65  2.76  0.26  1.28  4.38  1.05  3.40   \n",
              "2   1  13.16  2.36  2.67  18.6  101  2.80  3.24  0.30  2.81  5.68  1.03  3.17   \n",
              "3   1  14.37  1.95  2.50  16.8  113  3.85  3.49  0.24  2.18  7.80  0.86  3.45   \n",
              "4   1  13.24  2.59  2.87  21.0  118  2.80  2.69  0.39  1.82  4.32  1.04  2.93   \n",
              "\n",
              "     13  \n",
              "0  1065  \n",
              "1  1050  \n",
              "2  1185  \n",
              "3  1480  \n",
              "4   735  "
            ],
            "text/html": [
              "\n",
              "  <div id=\"df-454fc727-82ea-4dfc-aecc-3bbeb9d9534d\">\n",
              "    <div class=\"colab-df-container\">\n",
              "      <div>\n",
              "<style scoped>\n",
              "    .dataframe tbody tr th:only-of-type {\n",
              "        vertical-align: middle;\n",
              "    }\n",
              "\n",
              "    .dataframe tbody tr th {\n",
              "        vertical-align: top;\n",
              "    }\n",
              "\n",
              "    .dataframe thead th {\n",
              "        text-align: right;\n",
              "    }\n",
              "</style>\n",
              "<table border=\"1\" class=\"dataframe\">\n",
              "  <thead>\n",
              "    <tr style=\"text-align: right;\">\n",
              "      <th></th>\n",
              "      <th>0</th>\n",
              "      <th>1</th>\n",
              "      <th>2</th>\n",
              "      <th>3</th>\n",
              "      <th>4</th>\n",
              "      <th>5</th>\n",
              "      <th>6</th>\n",
              "      <th>7</th>\n",
              "      <th>8</th>\n",
              "      <th>9</th>\n",
              "      <th>10</th>\n",
              "      <th>11</th>\n",
              "      <th>12</th>\n",
              "      <th>13</th>\n",
              "    </tr>\n",
              "  </thead>\n",
              "  <tbody>\n",
              "    <tr>\n",
              "      <th>0</th>\n",
              "      <td>1</td>\n",
              "      <td>14.23</td>\n",
              "      <td>1.71</td>\n",
              "      <td>2.43</td>\n",
              "      <td>15.6</td>\n",
              "      <td>127</td>\n",
              "      <td>2.80</td>\n",
              "      <td>3.06</td>\n",
              "      <td>0.28</td>\n",
              "      <td>2.29</td>\n",
              "      <td>5.64</td>\n",
              "      <td>1.04</td>\n",
              "      <td>3.92</td>\n",
              "      <td>1065</td>\n",
              "    </tr>\n",
              "    <tr>\n",
              "      <th>1</th>\n",
              "      <td>1</td>\n",
              "      <td>13.20</td>\n",
              "      <td>1.78</td>\n",
              "      <td>2.14</td>\n",
              "      <td>11.2</td>\n",
              "      <td>100</td>\n",
              "      <td>2.65</td>\n",
              "      <td>2.76</td>\n",
              "      <td>0.26</td>\n",
              "      <td>1.28</td>\n",
              "      <td>4.38</td>\n",
              "      <td>1.05</td>\n",
              "      <td>3.40</td>\n",
              "      <td>1050</td>\n",
              "    </tr>\n",
              "    <tr>\n",
              "      <th>2</th>\n",
              "      <td>1</td>\n",
              "      <td>13.16</td>\n",
              "      <td>2.36</td>\n",
              "      <td>2.67</td>\n",
              "      <td>18.6</td>\n",
              "      <td>101</td>\n",
              "      <td>2.80</td>\n",
              "      <td>3.24</td>\n",
              "      <td>0.30</td>\n",
              "      <td>2.81</td>\n",
              "      <td>5.68</td>\n",
              "      <td>1.03</td>\n",
              "      <td>3.17</td>\n",
              "      <td>1185</td>\n",
              "    </tr>\n",
              "    <tr>\n",
              "      <th>3</th>\n",
              "      <td>1</td>\n",
              "      <td>14.37</td>\n",
              "      <td>1.95</td>\n",
              "      <td>2.50</td>\n",
              "      <td>16.8</td>\n",
              "      <td>113</td>\n",
              "      <td>3.85</td>\n",
              "      <td>3.49</td>\n",
              "      <td>0.24</td>\n",
              "      <td>2.18</td>\n",
              "      <td>7.80</td>\n",
              "      <td>0.86</td>\n",
              "      <td>3.45</td>\n",
              "      <td>1480</td>\n",
              "    </tr>\n",
              "    <tr>\n",
              "      <th>4</th>\n",
              "      <td>1</td>\n",
              "      <td>13.24</td>\n",
              "      <td>2.59</td>\n",
              "      <td>2.87</td>\n",
              "      <td>21.0</td>\n",
              "      <td>118</td>\n",
              "      <td>2.80</td>\n",
              "      <td>2.69</td>\n",
              "      <td>0.39</td>\n",
              "      <td>1.82</td>\n",
              "      <td>4.32</td>\n",
              "      <td>1.04</td>\n",
              "      <td>2.93</td>\n",
              "      <td>735</td>\n",
              "    </tr>\n",
              "  </tbody>\n",
              "</table>\n",
              "</div>\n",
              "      <button class=\"colab-df-convert\" onclick=\"convertToInteractive('df-454fc727-82ea-4dfc-aecc-3bbeb9d9534d')\"\n",
              "              title=\"Convert this dataframe to an interactive table.\"\n",
              "              style=\"display:none;\">\n",
              "        \n",
              "  <svg xmlns=\"http://www.w3.org/2000/svg\" height=\"24px\"viewBox=\"0 0 24 24\"\n",
              "       width=\"24px\">\n",
              "    <path d=\"M0 0h24v24H0V0z\" fill=\"none\"/>\n",
              "    <path d=\"M18.56 5.44l.94 2.06.94-2.06 2.06-.94-2.06-.94-.94-2.06-.94 2.06-2.06.94zm-11 1L8.5 8.5l.94-2.06 2.06-.94-2.06-.94L8.5 2.5l-.94 2.06-2.06.94zm10 10l.94 2.06.94-2.06 2.06-.94-2.06-.94-.94-2.06-.94 2.06-2.06.94z\"/><path d=\"M17.41 7.96l-1.37-1.37c-.4-.4-.92-.59-1.43-.59-.52 0-1.04.2-1.43.59L10.3 9.45l-7.72 7.72c-.78.78-.78 2.05 0 2.83L4 21.41c.39.39.9.59 1.41.59.51 0 1.02-.2 1.41-.59l7.78-7.78 2.81-2.81c.8-.78.8-2.07 0-2.86zM5.41 20L4 18.59l7.72-7.72 1.47 1.35L5.41 20z\"/>\n",
              "  </svg>\n",
              "      </button>\n",
              "      \n",
              "  <style>\n",
              "    .colab-df-container {\n",
              "      display:flex;\n",
              "      flex-wrap:wrap;\n",
              "      gap: 12px;\n",
              "    }\n",
              "\n",
              "    .colab-df-convert {\n",
              "      background-color: #E8F0FE;\n",
              "      border: none;\n",
              "      border-radius: 50%;\n",
              "      cursor: pointer;\n",
              "      display: none;\n",
              "      fill: #1967D2;\n",
              "      height: 32px;\n",
              "      padding: 0 0 0 0;\n",
              "      width: 32px;\n",
              "    }\n",
              "\n",
              "    .colab-df-convert:hover {\n",
              "      background-color: #E2EBFA;\n",
              "      box-shadow: 0px 1px 2px rgba(60, 64, 67, 0.3), 0px 1px 3px 1px rgba(60, 64, 67, 0.15);\n",
              "      fill: #174EA6;\n",
              "    }\n",
              "\n",
              "    [theme=dark] .colab-df-convert {\n",
              "      background-color: #3B4455;\n",
              "      fill: #D2E3FC;\n",
              "    }\n",
              "\n",
              "    [theme=dark] .colab-df-convert:hover {\n",
              "      background-color: #434B5C;\n",
              "      box-shadow: 0px 1px 3px 1px rgba(0, 0, 0, 0.15);\n",
              "      filter: drop-shadow(0px 1px 2px rgba(0, 0, 0, 0.3));\n",
              "      fill: #FFFFFF;\n",
              "    }\n",
              "  </style>\n",
              "\n",
              "      <script>\n",
              "        const buttonEl =\n",
              "          document.querySelector('#df-454fc727-82ea-4dfc-aecc-3bbeb9d9534d button.colab-df-convert');\n",
              "        buttonEl.style.display =\n",
              "          google.colab.kernel.accessAllowed ? 'block' : 'none';\n",
              "\n",
              "        async function convertToInteractive(key) {\n",
              "          const element = document.querySelector('#df-454fc727-82ea-4dfc-aecc-3bbeb9d9534d');\n",
              "          const dataTable =\n",
              "            await google.colab.kernel.invokeFunction('convertToInteractive',\n",
              "                                                     [key], {});\n",
              "          if (!dataTable) return;\n",
              "\n",
              "          const docLinkHtml = 'Like what you see? Visit the ' +\n",
              "            '<a target=\"_blank\" href=https://colab.research.google.com/notebooks/data_table.ipynb>data table notebook</a>'\n",
              "            + ' to learn more about interactive tables.';\n",
              "          element.innerHTML = '';\n",
              "          dataTable['output_type'] = 'display_data';\n",
              "          await google.colab.output.renderOutput(dataTable, element);\n",
              "          const docLink = document.createElement('div');\n",
              "          docLink.innerHTML = docLinkHtml;\n",
              "          element.appendChild(docLink);\n",
              "        }\n",
              "      </script>\n",
              "    </div>\n",
              "  </div>\n",
              "  "
            ]
          },
          "metadata": {},
          "execution_count": 97
        }
      ]
    },
    {
      "cell_type": "code",
      "source": [
        "X=df_1.iloc[:,1:].values\n",
        "Y=df_1.iloc[:,0].values"
      ],
      "metadata": {
        "id": "tdT5oxygVW-h"
      },
      "execution_count": null,
      "outputs": []
    },
    {
      "cell_type": "code",
      "source": [
        "from sklearn.model_selection import train_test_split\n",
        "\n",
        "X_train,X_test,Y_train,Y_test=train_test_split(X,Y,test_size=0.3,random_state=3)"
      ],
      "metadata": {
        "id": "o-JyuQbbUkzc"
      },
      "execution_count": null,
      "outputs": []
    },
    {
      "cell_type": "code",
      "source": [
        "X_train.shape,Y_train.shape"
      ],
      "metadata": {
        "colab": {
          "base_uri": "https://localhost:8080/"
        },
        "id": "10W09vxzWCKD",
        "outputId": "99c48e51-0513-4c1f-9fbe-70f73da5fb07"
      },
      "execution_count": null,
      "outputs": [
        {
          "output_type": "execute_result",
          "data": {
            "text/plain": [
              "((124, 13), (124,))"
            ]
          },
          "metadata": {},
          "execution_count": 11
        }
      ]
    },
    {
      "cell_type": "code",
      "source": [
        "X_test.shape,Y_test.shape"
      ],
      "metadata": {
        "colab": {
          "base_uri": "https://localhost:8080/"
        },
        "id": "kDPWUU_TWDWB",
        "outputId": "197377d5-ce03-4741-a119-b9f3d953235b"
      },
      "execution_count": null,
      "outputs": [
        {
          "output_type": "execute_result",
          "data": {
            "text/plain": [
              "((54, 13), (54,))"
            ]
          },
          "metadata": {},
          "execution_count": 12
        }
      ]
    },
    {
      "cell_type": "markdown",
      "source": [
        "Standardizing the features"
      ],
      "metadata": {
        "id": "bsLYV2_SYzlJ"
      }
    },
    {
      "cell_type": "code",
      "source": [
        "from sklearn.preprocessing import StandardScaler\n",
        "sc= StandardScaler()\n",
        "X_train_1 = sc.fit_transform(X_train)\n",
        "X_test_1 = sc.transform(X_test)"
      ],
      "metadata": {
        "id": "IrnFUZtPYH9H"
      },
      "execution_count": null,
      "outputs": []
    },
    {
      "cell_type": "code",
      "source": [
        "covariance_mat = np.cov(X_train_1.T)\n",
        "eigen_value, eigen_vector = np.linalg.eig(covariance_mat)"
      ],
      "metadata": {
        "id": "zP9FxGRLWL2X"
      },
      "execution_count": null,
      "outputs": []
    },
    {
      "cell_type": "code",
      "source": [
        "eigen_value"
      ],
      "metadata": {
        "colab": {
          "base_uri": "https://localhost:8080/"
        },
        "id": "nK6bGRw0bCHq",
        "outputId": "d2b02c03-e32d-42a5-def4-50199cc046b9"
      },
      "execution_count": null,
      "outputs": [
        {
          "output_type": "execute_result",
          "data": {
            "text/plain": [
              "array([4.72239672, 2.65014177, 1.469923  , 0.97185309, 0.86473551,\n",
              "       0.5937659 , 0.47965669, 0.1087108 , 0.35533811, 0.16853458,\n",
              "       0.19544581, 0.27864645, 0.24654264])"
            ]
          },
          "metadata": {},
          "execution_count": 15
        }
      ]
    },
    {
      "cell_type": "code",
      "source": [
        "eigen_vector"
      ],
      "metadata": {
        "colab": {
          "base_uri": "https://localhost:8080/"
        },
        "id": "8J4TZ4TdbLsQ",
        "outputId": "cc9c4aaf-9154-459c-d7ac-be8033cae83f"
      },
      "execution_count": null,
      "outputs": [
        {
          "output_type": "execute_result",
          "data": {
            "text/plain": [
              "array([[-0.08100188,  0.48178435,  0.28875096, -0.07026467,  0.22234739,\n",
              "        -0.21902764, -0.11007574,  0.02333541, -0.3444016 ,  0.2583164 ,\n",
              "         0.09113023,  0.59795485, -0.10835627],\n",
              "       [ 0.25990703,  0.19382461, -0.14133464,  0.54392463,  0.1530603 ,\n",
              "        -0.50955856, -0.34027657,  0.03640715,  0.04992223, -0.20195765,\n",
              "         0.10004793, -0.24249198, -0.25839658],\n",
              "       [ 0.04350008,  0.38292981, -0.51046193, -0.32610074, -0.04613912,\n",
              "        -0.22259356,  0.18198236, -0.19076829, -0.03056286,  0.14573842,\n",
              "        -0.55130403, -0.1387536 , -0.13420182],\n",
              "       [ 0.24549129,  0.04780404, -0.62172486, -0.07001463, -0.10155709,\n",
              "         0.12348456,  0.09924428,  0.10706623, -0.36452928, -0.01720916,\n",
              "         0.582326  ,  0.11390242,  0.1177921 ],\n",
              "       [-0.15470862,  0.32575307, -0.05191957,  0.04194073, -0.76252436,\n",
              "         0.04919507, -0.30151051,  0.07451778,  0.34963887, -0.0942196 ,\n",
              "         0.05153919,  0.22631729,  0.01303841],\n",
              "       [-0.3829028 ,  0.10130035, -0.16952085,  0.0332031 ,  0.25371363,\n",
              "         0.0420171 ,  0.17975546, -0.34895184,  0.50926251,  0.25579767,\n",
              "         0.43194301, -0.01471769, -0.28547564],\n",
              "       [-0.41471896,  0.04541032, -0.19862594,  0.01197636,  0.20783856,\n",
              "        -0.01376985,  0.14201886,  0.81897236,  0.10806219, -0.134582  ,\n",
              "        -0.09518224,  0.03123689, -0.1106963 ],\n",
              "       [ 0.29906684,  0.02053585, -0.11248913, -0.464255  ,  0.39557801,\n",
              "         0.14034702, -0.54715225,  0.0699019 ,  0.38826076, -0.12203218,\n",
              "         0.00213468,  0.12620238,  0.14120841],\n",
              "       [-0.30132025,  0.06448078, -0.24715746,  0.38487445,  0.14967125,\n",
              "         0.54747956, -0.4393395 , -0.13518464, -0.26821831,  0.16695948,\n",
              "        -0.24519013, -0.0439553 ,  0.02317229],\n",
              "       [ 0.13973101,  0.48900098,  0.16293776,  0.0549596 ,  0.13412679,\n",
              "         0.42837107,  0.30556981, -0.1164531 ,  0.00384829, -0.6201246 ,\n",
              "         0.0009394 , -0.0335765 , -0.13289251],\n",
              "       [-0.33408197, -0.21314208,  0.02873564, -0.41218598, -0.10374876,\n",
              "        -0.0831589 , -0.28906731, -0.1345703 , -0.33689159, -0.349996  ,\n",
              "         0.1256322 , -0.13408857, -0.53210155],\n",
              "       [-0.38406066, -0.11037089, -0.19558357,  0.08517578,  0.13278081,\n",
              "        -0.32375851,  0.02832594, -0.30567792, -0.00700676, -0.46813205,\n",
              "        -0.06480745,  0.29261248,  0.51874597],\n",
              "       [-0.24962912,  0.40204944,  0.19819433, -0.20279651,  0.02031396,\n",
              "        -0.09239877, -0.124933  ,  0.06298887, -0.12473658,  0.09778117,\n",
              "         0.24545507, -0.6135317 ,  0.45312072]])"
            ]
          },
          "metadata": {},
          "execution_count": 16
        }
      ]
    },
    {
      "cell_type": "code",
      "source": [
        "# calculate cumulative sum of explained variances\n",
        "tot_1 = sum(eigen_value)\n",
        "\n",
        "\n",
        "var_explained = [(i / tot_1) for i in sorted(eigen_value, reverse=True)]\n",
        "cum_var_explained = np.cumsum(var_explained)"
      ],
      "metadata": {
        "id": "0hEVH9-xbS-s"
      },
      "execution_count": null,
      "outputs": []
    },
    {
      "cell_type": "code",
      "source": [
        "plt.bar(range(1,14), var_explained,label='individual explained variance')\n",
        "plt.step(range(1,14), cum_var_explained,label='cumulative explained variance')\n",
        "plt.ylabel('Explained variance ratio')\n",
        "plt.xlabel('Principal component index')\n",
        "plt.legend()\n",
        "plt.show()"
      ],
      "metadata": {
        "colab": {
          "base_uri": "https://localhost:8080/",
          "height": 279
        },
        "id": "KjvlI5y9pF41",
        "outputId": "1bf8d60b-fc2f-46f6-d7fc-60d73356ead5"
      },
      "execution_count": null,
      "outputs": [
        {
          "output_type": "display_data",
          "data": {
            "text/plain": [
              "<Figure size 432x288 with 1 Axes>"
            ],
            "image/png": "[encoded data removed]"
          },
          "metadata": {
            "needs_background": "light"
          }
        }
      ]
    },
    {
      "cell_type": "markdown",
      "source": [
        "- From the plot we can see that that the first principal component alone accounts for nearly 40% of the variance. \n",
        "- Along with that, we can see that the first two principal components combined explain around 60% of the variance.\n"
      ],
      "metadata": {
        "id": "JhQSLl2f6LTf"
      }
    },
    {
      "cell_type": "code",
      "source": [
        "#make a list of (eigen values and eigen vectors) tuples\n",
        "\n",
        "eigen_pair = [(np.abs(eigen_value[i]), eigen_vector[:, i]) for i in range(len(eigen_value))]"
      ],
      "metadata": {
        "id": "r0vq0KeLpSXg"
      },
      "execution_count": null,
      "outputs": []
    },
    {
      "cell_type": "code",
      "source": [
        "#Sorting the (eigenvalue, eigenvector) tuples from high to low.\n",
        "\n",
        "eigen_pair.sort(key=lambda k: k[0], reverse=True)"
      ],
      "metadata": {
        "id": "9BZHEtwHeLuE"
      },
      "execution_count": null,
      "outputs": []
    },
    {
      "cell_type": "code",
      "source": [
        "#Print the projection matrix W\n",
        "\n",
        "w = np.hstack((eigen_pair[0][1][:, np.newaxis], eigen_pair[1][1][:, np.newaxis]))\n",
        "print('Matrix W:', w)"
      ],
      "metadata": {
        "colab": {
          "base_uri": "https://localhost:8080/"
        },
        "id": "5Uu2gMr8eWpi",
        "outputId": "ef075ad4-f178-4923-8c03-8479d3a3058c"
      },
      "execution_count": null,
      "outputs": [
        {
          "output_type": "stream",
          "name": "stdout",
          "text": [
            "Matrix W: [[-0.08100188  0.48178435]\n",
            " [ 0.25990703  0.19382461]\n",
            " [ 0.04350008  0.38292981]\n",
            " [ 0.24549129  0.04780404]\n",
            " [-0.15470862  0.32575307]\n",
            " [-0.3829028   0.10130035]\n",
            " [-0.41471896  0.04541032]\n",
            " [ 0.29906684  0.02053585]\n",
            " [-0.30132025  0.06448078]\n",
            " [ 0.13973101  0.48900098]\n",
            " [-0.33408197 -0.21314208]\n",
            " [-0.38406066 -0.11037089]\n",
            " [-0.24962912  0.40204944]]\n"
          ]
        }
      ]
    },
    {
      "cell_type": "code",
      "source": [
        "\"\"\"Using the projection matrix, transform a sample x onto the PCA subspace (the\n",
        "principal components 1 and 2). Transform the entire 124 x 13-dimensional training\n",
        "dataset onto the two principal components by calculating the matrix dot product.\"\"\"\n",
        "\n",
        "X_train_1[0].dot(w)\n",
        "X_train_pca = X_train_1.dot(w)"
      ],
      "metadata": {
        "id": "dvZtu88zeof9"
      },
      "execution_count": null,
      "outputs": []
    },
    {
      "cell_type": "code",
      "source": [
        "#Visualize the transformed Wine training set into a two-dimensional scatterplot\n",
        "\n",
        "color = ['r', 'b', 'g']\n",
        "marker = ['s', 'x', 'o']\n",
        "\n",
        "for a, b, c in zip(np.unique(Y_train), color, marker):\n",
        "    plt.scatter(X_train_pca[Y_train==a, 0], X_train_pca[Y_train==a, 1], c=b, label=a, marker=c) \n",
        "\n",
        "plt.xlabel('Principlal Component 1')\n",
        "plt.ylabel('Principal Component 2')\n",
        "plt.legend(loc='lower right')\n",
        "plt.show()"
      ],
      "metadata": {
        "colab": {
          "base_uri": "https://localhost:8080/",
          "height": 279
        },
        "id": "GR-y4HU4fFTm",
        "outputId": "65e507d9-6b7a-4541-90cc-6f79b785c8e1"
      },
      "execution_count": null,
      "outputs": [
        {
          "output_type": "display_data",
          "data": {
            "text/plain": [
              "<Figure size 432x288 with 1 Axes>"
            ],
            "image/png": "[encoded data removed]"
          },
          "metadata": {
            "needs_background": "light"
          }
        }
      ]
    },
    {
      "cell_type": "code",
      "source": [
        "# Importing LogisticRegression and PCA.\n",
        "# intializing PCA and Logistic Regression Model\n",
        "# fitting and transforming the data\n",
        "\n",
        "from sklearn.linear_model import LogisticRegression\n",
        "from sklearn.decomposition import PCA\n",
        "\n",
        "\n",
        "pca = PCA(n_components=2)\n",
        "lr = LogisticRegression(multi_class='auto', solver='liblinear')\n",
        "\n",
        "X_train_pca = pca.fit_transform(X_train_1)\n",
        "X_test_pca = pca.transform(X_test_1)\n",
        "lr.fit(X_train_pca, Y_train)"
      ],
      "metadata": {
        "colab": {
          "base_uri": "https://localhost:8080/"
        },
        "id": "ZjU0oqXlftNN",
        "outputId": "8eca3b6b-1368-4cd9-e8b6-399c8ba16d24"
      },
      "execution_count": null,
      "outputs": [
        {
          "output_type": "execute_result",
          "data": {
            "text/plain": [
              "LogisticRegression(solver='liblinear')"
            ]
          },
          "metadata": {},
          "execution_count": 83
        }
      ]
    },
    {
      "cell_type": "code",
      "source": [
        "from matplotlib.colors import ListedColormap\n",
        "\n",
        "\n",
        "\n",
        "def plot_decision_regions(X, Y, classifier,resolution=0.03):\n",
        "    \n",
        "    markers = ('s', 'x', 'o', '^', 'v')# setting up marker generator and color map\n",
        "    colors = ('red', 'blue', 'green', 'gray', 'yellow')\n",
        "    cmap = ListedColormap(colors[:len(np.unique(Y))])\n",
        "\n",
        "    # Plotting the decision surface\n",
        "    x1_min, x1_max = X[:, 0].min() - 1, X[:, 0].max() + 1\n",
        "    x2_min, x2_max = X[:, 1].min() - 1, X[:, 1].max() + 1\n",
        "    xx1, xx2 = np.meshgrid(np.arange(x1_min, x1_max,resolution),np.arange(x2_min, x2_max, resolution))\n",
        "    Z = classifier.predict(np.array([xx1.ravel(), xx2.ravel()]).T)\n",
        "    Z = Z.reshape(xx1.shape)\n",
        "    plt.contourf(xx1, xx2, Z,alpha=0.3, cmap=cmap)\n",
        "    plt.xlim(xx1.min(), xx1.max())\n",
        "    plt.ylim(xx2.min(), xx2.max())\n",
        "\n",
        "    # plot class samples\n",
        "    for idx, cl in enumerate(np.unique(Y)):\n",
        "        plt.scatter(x=X[Y == cl, 0], y=X[Y == cl, 1], alpha=0.6, c=[cmap(idx)],edgecolor='black',marker=markers[idx], label=cl)# plot decision regions for training set"
      ],
      "metadata": {
        "id": "rpateYqg3O2e"
      },
      "execution_count": null,
      "outputs": []
    },
    {
      "cell_type": "code",
      "source": [
        "plot_decision_regions(X_train_pca, Y_train, classifier=lr)\n",
        "plt.xlabel('Principal Component 1')\n",
        "plt.ylabel('Principal Component 2')\n",
        "plt.legend(loc='lower right')\n",
        "plt.show()"
      ],
      "metadata": {
        "colab": {
          "base_uri": "https://localhost:8080/",
          "height": 279
        },
        "id": "C0xqx1kA3na-",
        "outputId": "0800581f-540e-4191-ef87-cde30bdba0dd"
      },
      "execution_count": null,
      "outputs": [
        {
          "output_type": "display_data",
          "data": {
            "text/plain": [
              "<Figure size 432x288 with 1 Axes>"
            ],
            "image/png": "[encoded data removed]"
          },
          "metadata": {
            "needs_background": "light"
          }
        }
      ]
    },
    {
      "cell_type": "code",
      "source": [
        "# Plotting decision regions for the test set\n",
        "\n",
        "\n",
        "plot_decision_regions(X_test_pca, Y_test, classifier=lr)\n",
        "plt.xlabel('Principal Component 1')\n",
        "plt.ylabel('Principal Component 2')\n",
        "plt.legend(loc='lower right')\n",
        "plt.show()"
      ],
      "metadata": {
        "colab": {
          "base_uri": "https://localhost:8080/",
          "height": 279
        },
        "id": "tcXTsXdj4wna",
        "outputId": "eeccb030-bbff-4cb0-8359-e15efed0e48a"
      },
      "execution_count": null,
      "outputs": [
        {
          "output_type": "display_data",
          "data": {
            "text/plain": [
              "<Figure size 432x288 with 1 Axes>"
            ],
            "image/png": "[encoded data removed]"
          },
          "metadata": {
            "needs_background": "light"
          }
        }
      ]
    },
    {
      "cell_type": "code",
      "source": [
        "pca = PCA(n_components=None)\n",
        "X_train_pca = pca.fit_transform(X_train_1)\n",
        "pca.explained_variance_ratio_"
      ],
      "metadata": {
        "colab": {
          "base_uri": "https://localhost:8080/"
        },
        "id": "1wZYUa8Y59JG",
        "outputId": "622f2ae7-079b-498a-faed-a1068431e8e3"
      },
      "execution_count": null,
      "outputs": [
        {
          "output_type": "execute_result",
          "data": {
            "text/plain": [
              "array([0.36033176, 0.20221305, 0.11215914, 0.07415504, 0.06598168,\n",
              "       0.04530596, 0.03659911, 0.02711327, 0.02126148, 0.01881188,\n",
              "       0.01491305, 0.01285965, 0.00829493])"
            ]
          },
          "metadata": {},
          "execution_count": 82
        }
      ]
    },
    {
      "cell_type": "code",
      "source": [
        ""
      ],
      "metadata": {
        "id": "b7qfl6iH591G"
      },
      "execution_count": null,
      "outputs": []
    }
  ]
}