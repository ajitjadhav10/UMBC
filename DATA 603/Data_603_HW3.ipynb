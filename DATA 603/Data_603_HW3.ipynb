{
  "nbformat": 4,
  "nbformat_minor": 0,
  "metadata": {
    "colab": {
      "name": "Data_603_HW3.ipynb",
      "provenance": [],
      "authorship_tag": "ABX9TyMY04lvmpJVt6On+NigQXVk",
      "include_colab_link": true
    },
    "kernelspec": {
      "name": "python3",
      "display_name": "Python 3"
    },
    "language_info": {
      "name": "python"
    }
  },
  "cells": [
    {
      "cell_type": "markdown",
      "metadata": {
        "id": "view-in-github",
        "colab_type": "text"
      },
      "source": [
        "<a href=\"https://colab.research.google.com/github/ajitjadhav10/UMBC/blob/main/DATA%20603/Data_603_HW3.ipynb\" target=\"_parent\"><img src=\"https://colab.research.google.com/assets/colab-badge.svg\" alt=\"Open In Colab\"/></a>"
      ]
    },
    {
      "cell_type": "code",
      "execution_count": 37,
      "metadata": {
        "colab": {
          "base_uri": "https://localhost:8080/"
        },
        "id": "4yuq9OPXzrAb",
        "outputId": "569e1d8c-5080-4d61-a13c-dc9e915d6dac"
      },
      "outputs": [
        {
          "output_type": "stream",
          "name": "stdout",
          "text": [
            "Requirement already satisfied: MRJob in /usr/local/lib/python3.7/dist-packages (0.7.4)\n",
            "Requirement already satisfied: PyYAML>=3.10 in /usr/local/lib/python3.7/dist-packages (from MRJob) (3.13)\n"
          ]
        }
      ],
      "source": [
        "pip install MRJob"
      ]
    },
    {
      "cell_type": "code",
      "source": [
        "%%file word_freq.py\n",
        "\n",
        "from mrjob.job import MRJob\n",
        "import re\n",
        "\n",
        "WORD_RE=re.compile(r\"[\\w']+\")\n",
        "\n",
        "class MRWordFrequencyCount(MRJob):\n",
        "\n",
        "  def mapper(self,_,line):\n",
        "    for word in WORD_RE.findall(line):\n",
        "      yield (word.lower(),1)\n",
        "  def combiner(self, word, counts):\n",
        "    yield word, sum(counts)\n",
        "\n",
        "  def reducer(self, word, counts):\n",
        "    yield word, sum(counts)    \n",
        "\n",
        "if __name__=='__main__':\n",
        "  MRWordFrequencyCount.run()"
      ],
      "metadata": {
        "colab": {
          "base_uri": "https://localhost:8080/"
        },
        "id": "LgJmvpU2z7ru",
        "outputId": "37b1d93e-2f18-4779-c9b6-1d82167948d2"
      },
      "execution_count": 38,
      "outputs": [
        {
          "output_type": "stream",
          "name": "stdout",
          "text": [
            "Overwriting word_freq.py\n"
          ]
        }
      ]
    },
    {
      "cell_type": "code",
      "source": [
        "%%file alice.txt\n",
        "Alice was beginning to get very tired of sitting by her sister on the bank, and of having nothing to do: once or twice she had peeped into the book her sister was reading, but it had no pictures or conversations in it, “and what is the use of a book,” thought Alice “without pictures or conversations?”\n",
        "\n",
        "So she was considering in her own mind (as well as she could, for the hot day made her feel very sleepy and stupid), whether the pleasure of making a daisy-chain would be worth the trouble of getting up and picking the daisies, when suddenly a White Rabbit with pink eyes ran close by her.\n",
        "\n",
        "There was nothing so very remarkable in that; nor did Alice think it so very much out of the way to hear the Rabbit say to itself, “Oh dear! Oh dear! I shall be late!” (when she thought it over afterwards, it occurred to her that she ought to have wondered at this, but at the time it all seemed quite natural); but when the Rabbit actually took a watch out of its waistcoat-pocket, and looked at it, and then hurried on, Alice started to her feet, for it flashed across her mind that she had never before seen a rabbit with either a waistcoat-pocket, or a watch to take out of it, and burning with curiosity, she ran across the field after it, and fortunately was just in time to see it pop down a large rabbit-hole under the hedge.\n",
        "\n",
        "In another moment down went Alice after it, never once considering how in the world she was to get out again."
      ],
      "metadata": {
        "colab": {
          "base_uri": "https://localhost:8080/"
        },
        "id": "t-AdohGW0Kwq",
        "outputId": "811d6745-1540-4538-919e-59fcdd021043"
      },
      "execution_count": 39,
      "outputs": [
        {
          "output_type": "stream",
          "name": "stdout",
          "text": [
            "Overwriting alice.txt\n"
          ]
        }
      ]
    },
    {
      "cell_type": "code",
      "source": [
        "import word_freq\n",
        "\n",
        "mr_job=word_freq.MRWordFrequencyCount(args=['alice.txt'])\n",
        "with mr_job.make_runner() as runner:\n",
        "  runner.run()\n",
        "  for word,counts in mr_job.parse_output(runner.cat_output()):\n",
        "    print(word,counts)"
      ],
      "metadata": {
        "colab": {
          "base_uri": "https://localhost:8080/"
        },
        "id": "e0ht3mKb5xWO",
        "outputId": "28663f79-478c-47de-d5ba-20ba4bbe0b79"
      },
      "execution_count": 40,
      "outputs": [
        {
          "output_type": "stream",
          "name": "stderr",
          "text": [
            "No configs specified for inline runner\n"
          ]
        },
        {
          "output_type": "stream",
          "name": "stdout",
          "text": [
            "feel 1\n",
            "feet 1\n",
            "field 1\n",
            "flashed 1\n",
            "for 2\n",
            "fortunately 1\n",
            "get 2\n",
            "getting 1\n",
            "had 3\n",
            "have 1\n",
            "having 1\n",
            "hear 1\n",
            "hedge 1\n",
            "her 8\n",
            "hole 1\n",
            "hot 1\n",
            "how 1\n",
            "hurried 1\n",
            "i 1\n",
            "in 6\n",
            "into 1\n",
            "is 1\n",
            "it 12\n",
            "its 1\n",
            "itself 1\n",
            "just 1\n",
            "large 1\n",
            "late 1\n",
            "looked 1\n",
            "made 1\n",
            "making 1\n",
            "mind 2\n",
            "moment 1\n",
            "much 1\n",
            "natural 1\n",
            "never 2\n",
            "no 1\n",
            "nor 1\n",
            "suddenly 1\n",
            "take 1\n",
            "that 3\n",
            "the 14\n",
            "then 1\n",
            "there 1\n",
            "think 1\n",
            "this 1\n",
            "thought 2\n",
            "time 2\n",
            "tired 1\n",
            "to 10\n",
            "took 1\n",
            "trouble 1\n",
            "twice 1\n",
            "under 1\n",
            "up 1\n",
            "use 1\n",
            "very 4\n",
            "waistcoat 2\n",
            "was 6\n",
            "watch 2\n",
            "way 1\n",
            "well 1\n",
            "went 1\n",
            "what 1\n",
            "when 3\n",
            "whether 1\n",
            "white 1\n",
            "with 3\n",
            "without 1\n",
            "wondered 1\n",
            "world 1\n",
            "worth 1\n",
            "would 1\n",
            "a 8\n",
            "across 2\n",
            "actually 1\n",
            "after 2\n",
            "afterwards 1\n",
            "again 1\n",
            "alice 5\n",
            "all 1\n",
            "and 8\n",
            "another 1\n",
            "as 2\n",
            "at 3\n",
            "bank 1\n",
            "be 2\n",
            "before 1\n",
            "beginning 1\n",
            "book 2\n",
            "burning 1\n",
            "but 3\n",
            "by 2\n",
            "chain 1\n",
            "close 1\n",
            "considering 2\n",
            "conversations 2\n",
            "could 1\n",
            "curiosity 1\n",
            "daisies 1\n",
            "daisy 1\n",
            "day 1\n",
            "dear 2\n",
            "did 1\n",
            "do 1\n",
            "down 2\n",
            "either 1\n",
            "eyes 1\n",
            "nothing 2\n",
            "occurred 1\n",
            "of 8\n",
            "oh 2\n",
            "on 2\n",
            "once 2\n",
            "or 4\n",
            "ought 1\n",
            "out 4\n",
            "over 1\n",
            "own 1\n",
            "peeped 1\n",
            "picking 1\n",
            "pictures 2\n",
            "pink 1\n",
            "pleasure 1\n",
            "pocket 2\n",
            "pop 1\n",
            "quite 1\n",
            "rabbit 5\n",
            "ran 2\n",
            "reading 1\n",
            "remarkable 1\n",
            "say 1\n",
            "see 1\n",
            "seemed 1\n",
            "seen 1\n",
            "shall 1\n",
            "she 8\n",
            "sister 2\n",
            "sitting 1\n",
            "sleepy 1\n",
            "so 3\n",
            "started 1\n",
            "stupid 1\n"
          ]
        }
      ]
    },
    {
      "cell_type": "code",
      "source": [
        ""
      ],
      "metadata": {
        "id": "ad23Kb676ZJk"
      },
      "execution_count": 40,
      "outputs": []
    }
  ]
}