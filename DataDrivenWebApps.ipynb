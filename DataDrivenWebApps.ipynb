{
  "nbformat": 4,
  "nbformat_minor": 0,
  "metadata": {
    "colab": {
      "provenance": [],
      "collapsed_sections": [],
      "include_colab_link": true
    },
    "kernelspec": {
      "name": "python3",
      "display_name": "Python 3"
    },
    "widgets": {
      "application/vnd.jupyter.widget-state+json": {
        "d7815837a8114bebbb97b18dc6ef7a43": {
          "model_module": "@jupyter-widgets/controls",
          "model_name": "TextModel",
          "state": {
            "_view_name": "TextView",
            "style": "IPY_MODEL_649759a665d94aecb3a280bf5019821c",
            "_dom_classes": [],
            "description": "name",
            "_model_name": "TextModel",
            "placeholder": "​",
            "_view_module": "@jupyter-widgets/controls",
            "_model_module_version": "1.5.0",
            "value": "joe",
            "_view_count": null,
            "disabled": false,
            "_view_module_version": "1.5.0",
            "continuous_update": true,
            "description_tooltip": null,
            "_model_module": "@jupyter-widgets/controls",
            "layout": "IPY_MODEL_027104ea6dfb42fb97b981fd137ef680"
          },
          "model_module_version": "1.5.0"
        },
        "649759a665d94aecb3a280bf5019821c": {
          "model_module": "@jupyter-widgets/controls",
          "model_name": "DescriptionStyleModel",
          "state": {
            "_view_name": "StyleView",
            "_model_name": "DescriptionStyleModel",
            "description_width": "",
            "_view_module": "@jupyter-widgets/base",
            "_model_module_version": "1.5.0",
            "_view_count": null,
            "_view_module_version": "1.2.0",
            "_model_module": "@jupyter-widgets/controls"
          },
          "model_module_version": "1.5.0"
        },
        "027104ea6dfb42fb97b981fd137ef680": {
          "model_module": "@jupyter-widgets/base",
          "model_name": "LayoutModel",
          "state": {
            "_view_name": "LayoutView",
            "grid_template_rows": null,
            "right": null,
            "justify_content": null,
            "_view_module": "@jupyter-widgets/base",
            "overflow": null,
            "_model_module_version": "1.2.0",
            "_view_count": null,
            "flex_flow": null,
            "width": null,
            "min_width": null,
            "border": null,
            "align_items": null,
            "bottom": null,
            "_model_module": "@jupyter-widgets/base",
            "top": null,
            "grid_column": null,
            "overflow_y": null,
            "overflow_x": null,
            "grid_auto_flow": null,
            "grid_area": null,
            "grid_template_columns": null,
            "flex": null,
            "_model_name": "LayoutModel",
            "justify_items": null,
            "grid_row": null,
            "max_height": null,
            "align_content": null,
            "visibility": null,
            "align_self": null,
            "height": null,
            "min_height": null,
            "padding": null,
            "grid_auto_rows": null,
            "grid_gap": null,
            "max_width": null,
            "order": null,
            "_view_module_version": "1.2.0",
            "grid_template_areas": null,
            "object_position": null,
            "object_fit": null,
            "grid_auto_columns": null,
            "margin": null,
            "display": null,
            "left": null
          },
          "model_module_version": "1.2.0"
        },
        "09966445379d40a7aa77414d9ae71f87": {
          "model_module": "@jupyter-widgets/controls",
          "model_name": "ButtonModel",
          "state": {
            "_view_name": "ButtonView",
            "style": "IPY_MODEL_42fe0e5a5e4a427d8c6bd5d0dbb0fefc",
            "_dom_classes": [],
            "description": "say hello!",
            "_model_name": "ButtonModel",
            "button_style": "",
            "_view_module": "@jupyter-widgets/controls",
            "_model_module_version": "1.5.0",
            "tooltip": "",
            "_view_count": null,
            "disabled": false,
            "_view_module_version": "1.5.0",
            "layout": "IPY_MODEL_fdb96c409ac346f6a5e216faadf497dd",
            "_model_module": "@jupyter-widgets/controls",
            "icon": ""
          },
          "model_module_version": "1.5.0"
        },
        "42fe0e5a5e4a427d8c6bd5d0dbb0fefc": {
          "model_module": "@jupyter-widgets/controls",
          "model_name": "ButtonStyleModel",
          "state": {
            "_view_name": "StyleView",
            "_model_name": "ButtonStyleModel",
            "_view_module": "@jupyter-widgets/base",
            "_model_module_version": "1.5.0",
            "_view_count": null,
            "button_color": null,
            "font_weight": "",
            "_view_module_version": "1.2.0",
            "_model_module": "@jupyter-widgets/controls"
          },
          "model_module_version": "1.5.0"
        },
        "fdb96c409ac346f6a5e216faadf497dd": {
          "model_module": "@jupyter-widgets/base",
          "model_name": "LayoutModel",
          "state": {
            "_view_name": "LayoutView",
            "grid_template_rows": null,
            "right": null,
            "justify_content": null,
            "_view_module": "@jupyter-widgets/base",
            "overflow": null,
            "_model_module_version": "1.2.0",
            "_view_count": null,
            "flex_flow": null,
            "width": null,
            "min_width": null,
            "border": null,
            "align_items": null,
            "bottom": null,
            "_model_module": "@jupyter-widgets/base",
            "top": null,
            "grid_column": null,
            "overflow_y": null,
            "overflow_x": null,
            "grid_auto_flow": null,
            "grid_area": null,
            "grid_template_columns": null,
            "flex": null,
            "_model_name": "LayoutModel",
            "justify_items": null,
            "grid_row": null,
            "max_height": null,
            "align_content": null,
            "visibility": null,
            "align_self": null,
            "height": null,
            "min_height": null,
            "padding": null,
            "grid_auto_rows": null,
            "grid_gap": null,
            "max_width": null,
            "order": null,
            "_view_module_version": "1.2.0",
            "grid_template_areas": null,
            "object_position": null,
            "object_fit": null,
            "grid_auto_columns": null,
            "margin": null,
            "display": null,
            "left": null
          },
          "model_module_version": "1.2.0"
        },
        "c10131b3e27441d98e7822b5cc8ba0ac": {
          "model_module": "@jupyter-widgets/controls",
          "model_name": "LabelModel",
          "state": {
            "_view_name": "LabelView",
            "style": "IPY_MODEL_577761a09a754218ad5d849e00f311e0",
            "_dom_classes": [],
            "description": "",
            "_model_name": "LabelModel",
            "placeholder": "​",
            "_view_module": "@jupyter-widgets/controls",
            "_model_module_version": "1.5.0",
            "value": "hello joe",
            "_view_count": null,
            "_view_module_version": "1.5.0",
            "description_tooltip": null,
            "_model_module": "@jupyter-widgets/controls",
            "layout": "IPY_MODEL_048269966d0e49638f0bdd404c1b007c"
          },
          "model_module_version": "1.5.0"
        },
        "577761a09a754218ad5d849e00f311e0": {
          "model_module": "@jupyter-widgets/controls",
          "model_name": "DescriptionStyleModel",
          "state": {
            "_view_name": "StyleView",
            "_model_name": "DescriptionStyleModel",
            "description_width": "",
            "_view_module": "@jupyter-widgets/base",
            "_model_module_version": "1.5.0",
            "_view_count": null,
            "_view_module_version": "1.2.0",
            "_model_module": "@jupyter-widgets/controls"
          },
          "model_module_version": "1.5.0"
        },
        "048269966d0e49638f0bdd404c1b007c": {
          "model_module": "@jupyter-widgets/base",
          "model_name": "LayoutModel",
          "state": {
            "_view_name": "LayoutView",
            "grid_template_rows": null,
            "right": null,
            "justify_content": null,
            "_view_module": "@jupyter-widgets/base",
            "overflow": null,
            "_model_module_version": "1.2.0",
            "_view_count": null,
            "flex_flow": null,
            "width": null,
            "min_width": null,
            "border": null,
            "align_items": null,
            "bottom": null,
            "_model_module": "@jupyter-widgets/base",
            "top": null,
            "grid_column": null,
            "overflow_y": null,
            "overflow_x": null,
            "grid_auto_flow": null,
            "grid_area": null,
            "grid_template_columns": null,
            "flex": null,
            "_model_name": "LayoutModel",
            "justify_items": null,
            "grid_row": null,
            "max_height": null,
            "align_content": null,
            "visibility": null,
            "align_self": null,
            "height": null,
            "min_height": null,
            "padding": null,
            "grid_auto_rows": null,
            "grid_gap": null,
            "max_width": null,
            "order": null,
            "_view_module_version": "1.2.0",
            "grid_template_areas": null,
            "object_position": null,
            "object_fit": null,
            "grid_auto_columns": null,
            "margin": null,
            "display": null,
            "left": null
          },
          "model_module_version": "1.2.0"
        },
        "6858497286804c8abe2c0282985d9a7c": {
          "model_module": "@jupyter-widgets/controls",
          "model_name": "VBoxModel",
          "state": {
            "_view_name": "VBoxView",
            "_dom_classes": [],
            "_model_name": "VBoxModel",
            "_view_module": "@jupyter-widgets/controls",
            "_model_module_version": "1.5.0",
            "_view_count": null,
            "_view_module_version": "1.5.0",
            "box_style": "",
            "layout": "IPY_MODEL_cf912f2869e34476a297d70d648bd2a3",
            "_model_module": "@jupyter-widgets/controls",
            "children": [
              "IPY_MODEL_d7815837a8114bebbb97b18dc6ef7a43",
              "IPY_MODEL_09966445379d40a7aa77414d9ae71f87",
              "IPY_MODEL_c10131b3e27441d98e7822b5cc8ba0ac"
            ]
          },
          "model_module_version": "1.5.0"
        },
        "cf912f2869e34476a297d70d648bd2a3": {
          "model_module": "@jupyter-widgets/base",
          "model_name": "LayoutModel",
          "state": {
            "_view_name": "LayoutView",
            "grid_template_rows": null,
            "right": null,
            "justify_content": null,
            "_view_module": "@jupyter-widgets/base",
            "overflow": null,
            "_model_module_version": "1.2.0",
            "_view_count": null,
            "flex_flow": null,
            "width": null,
            "min_width": null,
            "border": null,
            "align_items": null,
            "bottom": null,
            "_model_module": "@jupyter-widgets/base",
            "top": null,
            "grid_column": null,
            "overflow_y": null,
            "overflow_x": null,
            "grid_auto_flow": null,
            "grid_area": null,
            "grid_template_columns": null,
            "flex": null,
            "_model_name": "LayoutModel",
            "justify_items": null,
            "grid_row": null,
            "max_height": null,
            "align_content": null,
            "visibility": null,
            "align_self": null,
            "height": null,
            "min_height": null,
            "padding": null,
            "grid_auto_rows": null,
            "grid_gap": null,
            "max_width": null,
            "order": null,
            "_view_module_version": "1.2.0",
            "grid_template_areas": null,
            "object_position": null,
            "object_fit": null,
            "grid_auto_columns": null,
            "margin": null,
            "display": null,
            "left": null
          },
          "model_module_version": "1.2.0"
        },
        "7a7eb182dc2d4845bf2fe1b936f199ac": {
          "model_module": "@jupyter-widgets/controls",
          "model_name": "GridBoxModel",
          "state": {
            "_view_name": "GridBoxView",
            "_dom_classes": [],
            "_model_name": "GridBoxModel",
            "_view_module": "@jupyter-widgets/controls",
            "_model_module_version": "1.5.0",
            "_view_count": null,
            "_view_module_version": "1.5.0",
            "box_style": "",
            "layout": "IPY_MODEL_3fee8dd79fcb4b0eb10aaf14462dd122",
            "_model_module": "@jupyter-widgets/controls",
            "children": [
              "IPY_MODEL_c62e1de0f88a4c73b0f0c9af5fbdfbcc",
              "IPY_MODEL_11cd19a646f54d768f5846635f9b39fc",
              "IPY_MODEL_8c3d001879a04b579273474c445d52e2",
              "IPY_MODEL_8244ee67a1d1446eba778a8ee2d08a8c",
              "IPY_MODEL_6a24a0458346432d93e03638b6b2dbb2",
              "IPY_MODEL_7641061a6f434a6188ade1178812db33"
            ]
          },
          "model_module_version": "1.5.0"
        },
        "3fee8dd79fcb4b0eb10aaf14462dd122": {
          "model_module": "@jupyter-widgets/base",
          "model_name": "LayoutModel",
          "state": {
            "_view_name": "LayoutView",
            "grid_template_rows": null,
            "right": null,
            "justify_content": null,
            "_view_module": "@jupyter-widgets/base",
            "overflow": null,
            "_model_module_version": "1.2.0",
            "_view_count": null,
            "flex_flow": null,
            "width": null,
            "min_width": null,
            "border": null,
            "align_items": null,
            "bottom": null,
            "_model_module": "@jupyter-widgets/base",
            "top": null,
            "grid_column": null,
            "overflow_y": null,
            "overflow_x": null,
            "grid_auto_flow": null,
            "grid_area": null,
            "grid_template_columns": "1fr 1fr 1fr",
            "flex": null,
            "_model_name": "LayoutModel",
            "justify_items": null,
            "grid_row": null,
            "max_height": null,
            "align_content": null,
            "visibility": null,
            "align_self": null,
            "height": null,
            "min_height": null,
            "padding": null,
            "grid_auto_rows": null,
            "grid_gap": null,
            "max_width": null,
            "order": null,
            "_view_module_version": "1.2.0",
            "grid_template_areas": null,
            "object_position": null,
            "object_fit": null,
            "grid_auto_columns": null,
            "margin": null,
            "display": null,
            "left": null
          },
          "model_module_version": "1.2.0"
        },
        "c62e1de0f88a4c73b0f0c9af5fbdfbcc": {
          "model_module": "@jupyter-widgets/controls",
          "model_name": "TextModel",
          "state": {
            "_view_name": "TextView",
            "style": "IPY_MODEL_904caa63726a457da82b7ff71d6171ca",
            "_dom_classes": [],
            "description": "name",
            "_model_name": "TextModel",
            "placeholder": "​",
            "_view_module": "@jupyter-widgets/controls",
            "_model_module_version": "1.5.0",
            "value": "name here",
            "_view_count": null,
            "disabled": false,
            "_view_module_version": "1.5.0",
            "continuous_update": true,
            "description_tooltip": null,
            "_model_module": "@jupyter-widgets/controls",
            "layout": "IPY_MODEL_4eb4620260aa4e2c92e81280dd2acf6e"
          },
          "model_module_version": "1.5.0"
        },
        "11cd19a646f54d768f5846635f9b39fc": {
          "model_module": "@jupyter-widgets/controls",
          "model_name": "LabelModel",
          "state": {
            "_view_name": "LabelView",
            "style": "IPY_MODEL_42491d2bd920407b85607fa96ff796ad",
            "_dom_classes": [],
            "description": "",
            "_model_name": "LabelModel",
            "placeholder": "​",
            "_view_module": "@jupyter-widgets/controls",
            "_model_module_version": "1.5.0",
            "value": "",
            "_view_count": null,
            "_view_module_version": "1.5.0",
            "description_tooltip": null,
            "_model_module": "@jupyter-widgets/controls",
            "layout": "IPY_MODEL_2fb8bd79d260466eb0c505714ec21549"
          },
          "model_module_version": "1.5.0"
        },
        "8c3d001879a04b579273474c445d52e2": {
          "model_module": "@jupyter-widgets/controls",
          "model_name": "ButtonModel",
          "state": {
            "_view_name": "ButtonView",
            "style": "IPY_MODEL_9b8bc6a0295e4012bcceb4bc0fe0b9e8",
            "_dom_classes": [],
            "description": "say hello!",
            "_model_name": "ButtonModel",
            "button_style": "",
            "_view_module": "@jupyter-widgets/controls",
            "_model_module_version": "1.5.0",
            "tooltip": "",
            "_view_count": null,
            "disabled": false,
            "_view_module_version": "1.5.0",
            "layout": "IPY_MODEL_459ce08de0704e0bb1316030e0a9d56b",
            "_model_module": "@jupyter-widgets/controls",
            "icon": ""
          },
          "model_module_version": "1.5.0"
        },
        "8244ee67a1d1446eba778a8ee2d08a8c": {
          "model_module": "@jupyter-widgets/controls",
          "model_name": "LabelModel",
          "state": {
            "_view_name": "LabelView",
            "style": "IPY_MODEL_d46764c41f7142a49b572da2de58997a",
            "_dom_classes": [],
            "description": "",
            "_model_name": "LabelModel",
            "placeholder": "​",
            "_view_module": "@jupyter-widgets/controls",
            "_model_module_version": "1.5.0",
            "value": "",
            "_view_count": null,
            "_view_module_version": "1.5.0",
            "description_tooltip": null,
            "_model_module": "@jupyter-widgets/controls",
            "layout": "IPY_MODEL_91a40ae4d0404839aa58b4f186b75cb3"
          },
          "model_module_version": "1.5.0"
        },
        "6a24a0458346432d93e03638b6b2dbb2": {
          "model_module": "@jupyter-widgets/controls",
          "model_name": "LabelModel",
          "state": {
            "_view_name": "LabelView",
            "style": "IPY_MODEL_8d92a7e1eca7444f8cea8144c37c7251",
            "_dom_classes": [],
            "description": "",
            "_model_name": "LabelModel",
            "placeholder": "​",
            "_view_module": "@jupyter-widgets/controls",
            "_model_module_version": "1.5.0",
            "value": "",
            "_view_count": null,
            "_view_module_version": "1.5.0",
            "description_tooltip": null,
            "_model_module": "@jupyter-widgets/controls",
            "layout": "IPY_MODEL_707cd4bb784945e0a149a4e703e7f521"
          },
          "model_module_version": "1.5.0"
        },
        "7641061a6f434a6188ade1178812db33": {
          "model_module": "@jupyter-widgets/controls",
          "model_name": "LabelModel",
          "state": {
            "_view_name": "LabelView",
            "style": "IPY_MODEL_ffcdd4df18ad4a21a610d8bbf4d195f2",
            "_dom_classes": [],
            "description": "",
            "_model_name": "LabelModel",
            "placeholder": "​",
            "_view_module": "@jupyter-widgets/controls",
            "_model_module_version": "1.5.0",
            "value": "hello name here",
            "_view_count": null,
            "_view_module_version": "1.5.0",
            "description_tooltip": null,
            "_model_module": "@jupyter-widgets/controls",
            "layout": "IPY_MODEL_93c6c15096e843bd9cdde023a9477264"
          },
          "model_module_version": "1.5.0"
        },
        "904caa63726a457da82b7ff71d6171ca": {
          "model_module": "@jupyter-widgets/controls",
          "model_name": "DescriptionStyleModel",
          "state": {
            "_view_name": "StyleView",
            "_model_name": "DescriptionStyleModel",
            "description_width": "",
            "_view_module": "@jupyter-widgets/base",
            "_model_module_version": "1.5.0",
            "_view_count": null,
            "_view_module_version": "1.2.0",
            "_model_module": "@jupyter-widgets/controls"
          },
          "model_module_version": "1.5.0"
        },
        "4eb4620260aa4e2c92e81280dd2acf6e": {
          "model_module": "@jupyter-widgets/base",
          "model_name": "LayoutModel",
          "state": {
            "_view_name": "LayoutView",
            "grid_template_rows": null,
            "right": null,
            "justify_content": null,
            "_view_module": "@jupyter-widgets/base",
            "overflow": null,
            "_model_module_version": "1.2.0",
            "_view_count": null,
            "flex_flow": null,
            "width": null,
            "min_width": null,
            "border": null,
            "align_items": null,
            "bottom": null,
            "_model_module": "@jupyter-widgets/base",
            "top": null,
            "grid_column": null,
            "overflow_y": null,
            "overflow_x": null,
            "grid_auto_flow": null,
            "grid_area": null,
            "grid_template_columns": null,
            "flex": null,
            "_model_name": "LayoutModel",
            "justify_items": null,
            "grid_row": null,
            "max_height": null,
            "align_content": null,
            "visibility": null,
            "align_self": null,
            "height": null,
            "min_height": null,
            "padding": null,
            "grid_auto_rows": null,
            "grid_gap": null,
            "max_width": null,
            "order": null,
            "_view_module_version": "1.2.0",
            "grid_template_areas": null,
            "object_position": null,
            "object_fit": null,
            "grid_auto_columns": null,
            "margin": null,
            "display": null,
            "left": null
          },
          "model_module_version": "1.2.0"
        },
        "42491d2bd920407b85607fa96ff796ad": {
          "model_module": "@jupyter-widgets/controls",
          "model_name": "DescriptionStyleModel",
          "state": {
            "_view_name": "StyleView",
            "_model_name": "DescriptionStyleModel",
            "description_width": "",
            "_view_module": "@jupyter-widgets/base",
            "_model_module_version": "1.5.0",
            "_view_count": null,
            "_view_module_version": "1.2.0",
            "_model_module": "@jupyter-widgets/controls"
          },
          "model_module_version": "1.5.0"
        },
        "2fb8bd79d260466eb0c505714ec21549": {
          "model_module": "@jupyter-widgets/base",
          "model_name": "LayoutModel",
          "state": {
            "_view_name": "LayoutView",
            "grid_template_rows": null,
            "right": null,
            "justify_content": null,
            "_view_module": "@jupyter-widgets/base",
            "overflow": null,
            "_model_module_version": "1.2.0",
            "_view_count": null,
            "flex_flow": null,
            "width": null,
            "min_width": null,
            "border": null,
            "align_items": null,
            "bottom": null,
            "_model_module": "@jupyter-widgets/base",
            "top": null,
            "grid_column": null,
            "overflow_y": null,
            "overflow_x": null,
            "grid_auto_flow": null,
            "grid_area": null,
            "grid_template_columns": null,
            "flex": null,
            "_model_name": "LayoutModel",
            "justify_items": null,
            "grid_row": null,
            "max_height": null,
            "align_content": null,
            "visibility": null,
            "align_self": null,
            "height": null,
            "min_height": null,
            "padding": null,
            "grid_auto_rows": null,
            "grid_gap": null,
            "max_width": null,
            "order": null,
            "_view_module_version": "1.2.0",
            "grid_template_areas": null,
            "object_position": null,
            "object_fit": null,
            "grid_auto_columns": null,
            "margin": null,
            "display": null,
            "left": null
          },
          "model_module_version": "1.2.0"
        },
        "9b8bc6a0295e4012bcceb4bc0fe0b9e8": {
          "model_module": "@jupyter-widgets/controls",
          "model_name": "ButtonStyleModel",
          "state": {
            "_view_name": "StyleView",
            "_model_name": "ButtonStyleModel",
            "_view_module": "@jupyter-widgets/base",
            "_model_module_version": "1.5.0",
            "_view_count": null,
            "button_color": null,
            "font_weight": "",
            "_view_module_version": "1.2.0",
            "_model_module": "@jupyter-widgets/controls"
          },
          "model_module_version": "1.5.0"
        },
        "459ce08de0704e0bb1316030e0a9d56b": {
          "model_module": "@jupyter-widgets/base",
          "model_name": "LayoutModel",
          "state": {
            "_view_name": "LayoutView",
            "grid_template_rows": null,
            "right": null,
            "justify_content": null,
            "_view_module": "@jupyter-widgets/base",
            "overflow": null,
            "_model_module_version": "1.2.0",
            "_view_count": null,
            "flex_flow": null,
            "width": null,
            "min_width": null,
            "border": null,
            "align_items": null,
            "bottom": null,
            "_model_module": "@jupyter-widgets/base",
            "top": null,
            "grid_column": null,
            "overflow_y": null,
            "overflow_x": null,
            "grid_auto_flow": null,
            "grid_area": null,
            "grid_template_columns": null,
            "flex": null,
            "_model_name": "LayoutModel",
            "justify_items": null,
            "grid_row": null,
            "max_height": null,
            "align_content": null,
            "visibility": null,
            "align_self": null,
            "height": null,
            "min_height": null,
            "padding": null,
            "grid_auto_rows": null,
            "grid_gap": null,
            "max_width": null,
            "order": null,
            "_view_module_version": "1.2.0",
            "grid_template_areas": null,
            "object_position": null,
            "object_fit": null,
            "grid_auto_columns": null,
            "margin": null,
            "display": null,
            "left": null
          },
          "model_module_version": "1.2.0"
        },
        "d46764c41f7142a49b572da2de58997a": {
          "model_module": "@jupyter-widgets/controls",
          "model_name": "DescriptionStyleModel",
          "state": {
            "_view_name": "StyleView",
            "_model_name": "DescriptionStyleModel",
            "description_width": "",
            "_view_module": "@jupyter-widgets/base",
            "_model_module_version": "1.5.0",
            "_view_count": null,
            "_view_module_version": "1.2.0",
            "_model_module": "@jupyter-widgets/controls"
          },
          "model_module_version": "1.5.0"
        },
        "91a40ae4d0404839aa58b4f186b75cb3": {
          "model_module": "@jupyter-widgets/base",
          "model_name": "LayoutModel",
          "state": {
            "_view_name": "LayoutView",
            "grid_template_rows": null,
            "right": null,
            "justify_content": null,
            "_view_module": "@jupyter-widgets/base",
            "overflow": null,
            "_model_module_version": "1.2.0",
            "_view_count": null,
            "flex_flow": null,
            "width": null,
            "min_width": null,
            "border": null,
            "align_items": null,
            "bottom": null,
            "_model_module": "@jupyter-widgets/base",
            "top": null,
            "grid_column": null,
            "overflow_y": null,
            "overflow_x": null,
            "grid_auto_flow": null,
            "grid_area": null,
            "grid_template_columns": null,
            "flex": null,
            "_model_name": "LayoutModel",
            "justify_items": null,
            "grid_row": null,
            "max_height": null,
            "align_content": null,
            "visibility": null,
            "align_self": null,
            "height": null,
            "min_height": null,
            "padding": null,
            "grid_auto_rows": null,
            "grid_gap": null,
            "max_width": null,
            "order": null,
            "_view_module_version": "1.2.0",
            "grid_template_areas": null,
            "object_position": null,
            "object_fit": null,
            "grid_auto_columns": null,
            "margin": null,
            "display": null,
            "left": null
          },
          "model_module_version": "1.2.0"
        },
        "8d92a7e1eca7444f8cea8144c37c7251": {
          "model_module": "@jupyter-widgets/controls",
          "model_name": "DescriptionStyleModel",
          "state": {
            "_view_name": "StyleView",
            "_model_name": "DescriptionStyleModel",
            "description_width": "",
            "_view_module": "@jupyter-widgets/base",
            "_model_module_version": "1.5.0",
            "_view_count": null,
            "_view_module_version": "1.2.0",
            "_model_module": "@jupyter-widgets/controls"
          },
          "model_module_version": "1.5.0"
        },
        "707cd4bb784945e0a149a4e703e7f521": {
          "model_module": "@jupyter-widgets/base",
          "model_name": "LayoutModel",
          "state": {
            "_view_name": "LayoutView",
            "grid_template_rows": null,
            "right": null,
            "justify_content": null,
            "_view_module": "@jupyter-widgets/base",
            "overflow": null,
            "_model_module_version": "1.2.0",
            "_view_count": null,
            "flex_flow": null,
            "width": null,
            "min_width": null,
            "border": null,
            "align_items": null,
            "bottom": null,
            "_model_module": "@jupyter-widgets/base",
            "top": null,
            "grid_column": null,
            "overflow_y": null,
            "overflow_x": null,
            "grid_auto_flow": null,
            "grid_area": null,
            "grid_template_columns": null,
            "flex": null,
            "_model_name": "LayoutModel",
            "justify_items": null,
            "grid_row": null,
            "max_height": null,
            "align_content": null,
            "visibility": null,
            "align_self": null,
            "height": null,
            "min_height": null,
            "padding": null,
            "grid_auto_rows": null,
            "grid_gap": null,
            "max_width": null,
            "order": null,
            "_view_module_version": "1.2.0",
            "grid_template_areas": null,
            "object_position": null,
            "object_fit": null,
            "grid_auto_columns": null,
            "margin": null,
            "display": null,
            "left": null
          },
          "model_module_version": "1.2.0"
        },
        "ffcdd4df18ad4a21a610d8bbf4d195f2": {
          "model_module": "@jupyter-widgets/controls",
          "model_name": "DescriptionStyleModel",
          "state": {
            "_view_name": "StyleView",
            "_model_name": "DescriptionStyleModel",
            "description_width": "",
            "_view_module": "@jupyter-widgets/base",
            "_model_module_version": "1.5.0",
            "_view_count": null,
            "_view_module_version": "1.2.0",
            "_model_module": "@jupyter-widgets/controls"
          },
          "model_module_version": "1.5.0"
        },
        "93c6c15096e843bd9cdde023a9477264": {
          "model_module": "@jupyter-widgets/base",
          "model_name": "LayoutModel",
          "state": {
            "_view_name": "LayoutView",
            "grid_template_rows": null,
            "right": null,
            "justify_content": null,
            "_view_module": "@jupyter-widgets/base",
            "overflow": null,
            "_model_module_version": "1.2.0",
            "_view_count": null,
            "flex_flow": null,
            "width": null,
            "min_width": null,
            "border": null,
            "align_items": null,
            "bottom": null,
            "_model_module": "@jupyter-widgets/base",
            "top": null,
            "grid_column": null,
            "overflow_y": null,
            "overflow_x": null,
            "grid_auto_flow": null,
            "grid_area": null,
            "grid_template_columns": null,
            "flex": null,
            "_model_name": "LayoutModel",
            "justify_items": null,
            "grid_row": null,
            "max_height": null,
            "align_content": null,
            "visibility": null,
            "align_self": null,
            "height": null,
            "min_height": null,
            "padding": null,
            "grid_auto_rows": null,
            "grid_gap": null,
            "max_width": null,
            "order": null,
            "_view_module_version": "1.2.0",
            "grid_template_areas": null,
            "object_position": null,
            "object_fit": null,
            "grid_auto_columns": null,
            "margin": null,
            "display": null,
            "left": null
          },
          "model_module_version": "1.2.0"
        },
        "df2b7dcc8d1d4ed2b8025314a645ff87": {
          "model_module": "@jupyter-widgets/controls",
          "model_name": "VBoxModel",
          "state": {
            "_view_name": "VBoxView",
            "_dom_classes": [],
            "_model_name": "VBoxModel",
            "_view_module": "@jupyter-widgets/controls",
            "_model_module_version": "1.5.0",
            "_view_count": null,
            "_view_module_version": "1.5.0",
            "box_style": "",
            "layout": "IPY_MODEL_720a696415a44ad78416de2b0c9a4e4d",
            "_model_module": "@jupyter-widgets/controls",
            "children": [
              "IPY_MODEL_7238d89f736e4404888cdf07287aee39",
              "IPY_MODEL_a8a5b5bb345e4b04b37725de93b0c570"
            ]
          },
          "model_module_version": "1.5.0"
        },
        "720a696415a44ad78416de2b0c9a4e4d": {
          "model_module": "@jupyter-widgets/base",
          "model_name": "LayoutModel",
          "state": {
            "_view_name": "LayoutView",
            "grid_template_rows": null,
            "right": null,
            "justify_content": null,
            "_view_module": "@jupyter-widgets/base",
            "overflow": null,
            "_model_module_version": "1.2.0",
            "_view_count": null,
            "flex_flow": null,
            "width": null,
            "min_width": null,
            "border": null,
            "align_items": null,
            "bottom": null,
            "_model_module": "@jupyter-widgets/base",
            "top": null,
            "grid_column": null,
            "overflow_y": null,
            "overflow_x": null,
            "grid_auto_flow": null,
            "grid_area": null,
            "grid_template_columns": null,
            "flex": null,
            "_model_name": "LayoutModel",
            "justify_items": null,
            "grid_row": null,
            "max_height": null,
            "align_content": null,
            "visibility": null,
            "align_self": null,
            "height": null,
            "min_height": null,
            "padding": null,
            "grid_auto_rows": null,
            "grid_gap": null,
            "max_width": null,
            "order": null,
            "_view_module_version": "1.2.0",
            "grid_template_areas": null,
            "object_position": null,
            "object_fit": null,
            "grid_auto_columns": null,
            "margin": null,
            "display": null,
            "left": null
          },
          "model_module_version": "1.2.0"
        },
        "7238d89f736e4404888cdf07287aee39": {
          "model_module": "@jupyter-widgets/controls",
          "model_name": "HBoxModel",
          "state": {
            "_view_name": "HBoxView",
            "_dom_classes": [],
            "_model_name": "HBoxModel",
            "_view_module": "@jupyter-widgets/controls",
            "_model_module_version": "1.5.0",
            "_view_count": null,
            "_view_module_version": "1.5.0",
            "box_style": "",
            "layout": "IPY_MODEL_089f310eeddf477db62e8f8df5173efe",
            "_model_module": "@jupyter-widgets/controls",
            "children": [
              "IPY_MODEL_2292e3ac5d8c4517bf4fe661e6e88e20",
              "IPY_MODEL_89588a73941244ee8429392e198f8d11"
            ]
          },
          "model_module_version": "1.5.0"
        },
        "a8a5b5bb345e4b04b37725de93b0c570": {
          "model_module": "@jupyter-widgets/controls",
          "model_name": "LabelModel",
          "state": {
            "_view_name": "LabelView",
            "style": "IPY_MODEL_1f87024ce6d74313b7ccbd745c8fd199",
            "_dom_classes": [],
            "description": "",
            "_model_name": "LabelModel",
            "placeholder": "​",
            "_view_module": "@jupyter-widgets/controls",
            "_model_module_version": "1.5.0",
            "value": "hi Darin",
            "_view_count": null,
            "_view_module_version": "1.5.0",
            "description_tooltip": null,
            "_model_module": "@jupyter-widgets/controls",
            "layout": "IPY_MODEL_40b09655e4b04b398186e8b28d8c551b"
          },
          "model_module_version": "1.5.0"
        },
        "089f310eeddf477db62e8f8df5173efe": {
          "model_module": "@jupyter-widgets/base",
          "model_name": "LayoutModel",
          "state": {
            "_view_name": "LayoutView",
            "grid_template_rows": null,
            "right": null,
            "justify_content": null,
            "_view_module": "@jupyter-widgets/base",
            "overflow": null,
            "_model_module_version": "1.2.0",
            "_view_count": null,
            "flex_flow": null,
            "width": null,
            "min_width": null,
            "border": null,
            "align_items": null,
            "bottom": null,
            "_model_module": "@jupyter-widgets/base",
            "top": null,
            "grid_column": null,
            "overflow_y": null,
            "overflow_x": null,
            "grid_auto_flow": null,
            "grid_area": null,
            "grid_template_columns": null,
            "flex": null,
            "_model_name": "LayoutModel",
            "justify_items": null,
            "grid_row": null,
            "max_height": null,
            "align_content": null,
            "visibility": null,
            "align_self": null,
            "height": null,
            "min_height": null,
            "padding": null,
            "grid_auto_rows": null,
            "grid_gap": null,
            "max_width": null,
            "order": null,
            "_view_module_version": "1.2.0",
            "grid_template_areas": null,
            "object_position": null,
            "object_fit": null,
            "grid_auto_columns": null,
            "margin": null,
            "display": null,
            "left": null
          },
          "model_module_version": "1.2.0"
        },
        "2292e3ac5d8c4517bf4fe661e6e88e20": {
          "model_module": "@jupyter-widgets/controls",
          "model_name": "TextModel",
          "state": {
            "_view_name": "TextView",
            "style": "IPY_MODEL_e6918193e5514e76962d70c8f242ec72",
            "_dom_classes": [],
            "description": "Enter name:",
            "_model_name": "TextModel",
            "placeholder": "​",
            "_view_module": "@jupyter-widgets/controls",
            "_model_module_version": "1.5.0",
            "value": "Darin",
            "_view_count": null,
            "disabled": false,
            "_view_module_version": "1.5.0",
            "continuous_update": true,
            "description_tooltip": null,
            "_model_module": "@jupyter-widgets/controls",
            "layout": "IPY_MODEL_361398c7f3f24b4586c1f7ae680725ff"
          },
          "model_module_version": "1.5.0"
        },
        "89588a73941244ee8429392e198f8d11": {
          "model_module": "@jupyter-widgets/controls",
          "model_name": "ButtonModel",
          "state": {
            "_view_name": "ButtonView",
            "style": "IPY_MODEL_10ff590e8d2d40edb6ae6eecd75e1df0",
            "_dom_classes": [],
            "description": "Say Hello!",
            "_model_name": "ButtonModel",
            "button_style": "",
            "_view_module": "@jupyter-widgets/controls",
            "_model_module_version": "1.5.0",
            "tooltip": "",
            "_view_count": null,
            "disabled": false,
            "_view_module_version": "1.5.0",
            "layout": "IPY_MODEL_1035d68b10f94e04ba43f080f1f1f421",
            "_model_module": "@jupyter-widgets/controls",
            "icon": ""
          },
          "model_module_version": "1.5.0"
        },
        "1f87024ce6d74313b7ccbd745c8fd199": {
          "model_module": "@jupyter-widgets/controls",
          "model_name": "DescriptionStyleModel",
          "state": {
            "_view_name": "StyleView",
            "_model_name": "DescriptionStyleModel",
            "description_width": "",
            "_view_module": "@jupyter-widgets/base",
            "_model_module_version": "1.5.0",
            "_view_count": null,
            "_view_module_version": "1.2.0",
            "_model_module": "@jupyter-widgets/controls"
          },
          "model_module_version": "1.5.0"
        },
        "40b09655e4b04b398186e8b28d8c551b": {
          "model_module": "@jupyter-widgets/base",
          "model_name": "LayoutModel",
          "state": {
            "_view_name": "LayoutView",
            "grid_template_rows": null,
            "right": null,
            "justify_content": null,
            "_view_module": "@jupyter-widgets/base",
            "overflow": null,
            "_model_module_version": "1.2.0",
            "_view_count": null,
            "flex_flow": null,
            "width": null,
            "min_width": null,
            "border": null,
            "align_items": null,
            "bottom": null,
            "_model_module": "@jupyter-widgets/base",
            "top": null,
            "grid_column": null,
            "overflow_y": null,
            "overflow_x": null,
            "grid_auto_flow": null,
            "grid_area": null,
            "grid_template_columns": null,
            "flex": null,
            "_model_name": "LayoutModel",
            "justify_items": null,
            "grid_row": null,
            "max_height": null,
            "align_content": null,
            "visibility": null,
            "align_self": null,
            "height": null,
            "min_height": null,
            "padding": null,
            "grid_auto_rows": null,
            "grid_gap": null,
            "max_width": null,
            "order": null,
            "_view_module_version": "1.2.0",
            "grid_template_areas": null,
            "object_position": null,
            "object_fit": null,
            "grid_auto_columns": null,
            "margin": null,
            "display": null,
            "left": null
          },
          "model_module_version": "1.2.0"
        },
        "e6918193e5514e76962d70c8f242ec72": {
          "model_module": "@jupyter-widgets/controls",
          "model_name": "DescriptionStyleModel",
          "state": {
            "_view_name": "StyleView",
            "_model_name": "DescriptionStyleModel",
            "description_width": "",
            "_view_module": "@jupyter-widgets/base",
            "_model_module_version": "1.5.0",
            "_view_count": null,
            "_view_module_version": "1.2.0",
            "_model_module": "@jupyter-widgets/controls"
          },
          "model_module_version": "1.5.0"
        },
        "361398c7f3f24b4586c1f7ae680725ff": {
          "model_module": "@jupyter-widgets/base",
          "model_name": "LayoutModel",
          "state": {
            "_view_name": "LayoutView",
            "grid_template_rows": null,
            "right": null,
            "justify_content": null,
            "_view_module": "@jupyter-widgets/base",
            "overflow": null,
            "_model_module_version": "1.2.0",
            "_view_count": null,
            "flex_flow": null,
            "width": null,
            "min_width": null,
            "border": null,
            "align_items": null,
            "bottom": null,
            "_model_module": "@jupyter-widgets/base",
            "top": null,
            "grid_column": null,
            "overflow_y": null,
            "overflow_x": null,
            "grid_auto_flow": null,
            "grid_area": null,
            "grid_template_columns": null,
            "flex": null,
            "_model_name": "LayoutModel",
            "justify_items": null,
            "grid_row": null,
            "max_height": null,
            "align_content": null,
            "visibility": null,
            "align_self": null,
            "height": null,
            "min_height": null,
            "padding": null,
            "grid_auto_rows": null,
            "grid_gap": null,
            "max_width": null,
            "order": null,
            "_view_module_version": "1.2.0",
            "grid_template_areas": null,
            "object_position": null,
            "object_fit": null,
            "grid_auto_columns": null,
            "margin": null,
            "display": null,
            "left": null
          },
          "model_module_version": "1.2.0"
        },
        "10ff590e8d2d40edb6ae6eecd75e1df0": {
          "model_module": "@jupyter-widgets/controls",
          "model_name": "ButtonStyleModel",
          "state": {
            "_view_name": "StyleView",
            "_model_name": "ButtonStyleModel",
            "_view_module": "@jupyter-widgets/base",
            "_model_module_version": "1.5.0",
            "_view_count": null,
            "button_color": null,
            "font_weight": "",
            "_view_module_version": "1.2.0",
            "_model_module": "@jupyter-widgets/controls"
          },
          "model_module_version": "1.5.0"
        },
        "1035d68b10f94e04ba43f080f1f1f421": {
          "model_module": "@jupyter-widgets/base",
          "model_name": "LayoutModel",
          "state": {
            "_view_name": "LayoutView",
            "grid_template_rows": null,
            "right": null,
            "justify_content": null,
            "_view_module": "@jupyter-widgets/base",
            "overflow": null,
            "_model_module_version": "1.2.0",
            "_view_count": null,
            "flex_flow": null,
            "width": null,
            "min_width": null,
            "border": null,
            "align_items": null,
            "bottom": null,
            "_model_module": "@jupyter-widgets/base",
            "top": null,
            "grid_column": null,
            "overflow_y": null,
            "overflow_x": null,
            "grid_auto_flow": null,
            "grid_area": null,
            "grid_template_columns": null,
            "flex": null,
            "_model_name": "LayoutModel",
            "justify_items": null,
            "grid_row": null,
            "max_height": null,
            "align_content": null,
            "visibility": null,
            "align_self": null,
            "height": null,
            "min_height": null,
            "padding": null,
            "grid_auto_rows": null,
            "grid_gap": null,
            "max_width": null,
            "order": null,
            "_view_module_version": "1.2.0",
            "grid_template_areas": null,
            "object_position": null,
            "object_fit": null,
            "grid_auto_columns": null,
            "margin": null,
            "display": null,
            "left": null
          },
          "model_module_version": "1.2.0"
        },
        "deb25a67747444f0b088a3f7c3e834f6": {
          "model_module": "@jupyter-widgets/controls",
          "model_name": "VBoxModel",
          "state": {
            "_view_name": "VBoxView",
            "_dom_classes": [],
            "_model_name": "VBoxModel",
            "_view_module": "@jupyter-widgets/controls",
            "_model_module_version": "1.5.0",
            "_view_count": null,
            "_view_module_version": "1.5.0",
            "box_style": "",
            "layout": "IPY_MODEL_1895d4dbf637465cb014f82d24bce3b9",
            "_model_module": "@jupyter-widgets/controls",
            "children": [
              "IPY_MODEL_1c7f515b58f84c22802f177e136dd32a",
              "IPY_MODEL_9d624786dfab41559e650292da4af587"
            ]
          },
          "model_module_version": "1.5.0"
        },
        "1895d4dbf637465cb014f82d24bce3b9": {
          "model_module": "@jupyter-widgets/base",
          "model_name": "LayoutModel",
          "state": {
            "_view_name": "LayoutView",
            "grid_template_rows": null,
            "right": null,
            "justify_content": null,
            "_view_module": "@jupyter-widgets/base",
            "overflow": null,
            "_model_module_version": "1.2.0",
            "_view_count": null,
            "flex_flow": null,
            "width": null,
            "min_width": null,
            "border": null,
            "align_items": null,
            "bottom": null,
            "_model_module": "@jupyter-widgets/base",
            "top": null,
            "grid_column": null,
            "overflow_y": null,
            "overflow_x": null,
            "grid_auto_flow": null,
            "grid_area": null,
            "grid_template_columns": null,
            "flex": null,
            "_model_name": "LayoutModel",
            "justify_items": null,
            "grid_row": null,
            "max_height": null,
            "align_content": null,
            "visibility": null,
            "align_self": null,
            "height": null,
            "min_height": null,
            "padding": null,
            "grid_auto_rows": null,
            "grid_gap": null,
            "max_width": null,
            "order": null,
            "_view_module_version": "1.2.0",
            "grid_template_areas": null,
            "object_position": null,
            "object_fit": null,
            "grid_auto_columns": null,
            "margin": null,
            "display": null,
            "left": null
          },
          "model_module_version": "1.2.0"
        },
        "1c7f515b58f84c22802f177e136dd32a": {
          "model_module": "@jupyter-widgets/controls",
          "model_name": "TextModel",
          "state": {
            "_view_name": "TextView",
            "style": "IPY_MODEL_a8fea6f8bbe34ec99d8054e6b2636e8b",
            "_dom_classes": [],
            "description": "User",
            "_model_name": "TextModel",
            "placeholder": "​",
            "_view_module": "@jupyter-widgets/controls",
            "_model_module_version": "1.5.0",
            "value": "",
            "_view_count": null,
            "disabled": false,
            "_view_module_version": "1.5.0",
            "continuous_update": true,
            "description_tooltip": null,
            "_model_module": "@jupyter-widgets/controls",
            "layout": "IPY_MODEL_a8d375beff6a44388ed23263998445d3"
          },
          "model_module_version": "1.5.0"
        },
        "9d624786dfab41559e650292da4af587": {
          "model_module": "@jupyter-widgets/controls",
          "model_name": "HBoxModel",
          "state": {
            "_view_name": "HBoxView",
            "_dom_classes": [],
            "_model_name": "HBoxModel",
            "_view_module": "@jupyter-widgets/controls",
            "_model_module_version": "1.5.0",
            "_view_count": null,
            "_view_module_version": "1.5.0",
            "box_style": "",
            "layout": "IPY_MODEL_7e156bf8592e4f1798bfc1be2a6d7724",
            "_model_module": "@jupyter-widgets/controls",
            "children": [
              "IPY_MODEL_12426e49f2f64f5f8d188b40f87ced39",
              "IPY_MODEL_f43319e692f24ea1bfc5e388802a07a4"
            ]
          },
          "model_module_version": "1.5.0"
        },
        "a8fea6f8bbe34ec99d8054e6b2636e8b": {
          "model_module": "@jupyter-widgets/controls",
          "model_name": "DescriptionStyleModel",
          "state": {
            "_view_name": "StyleView",
            "_model_name": "DescriptionStyleModel",
            "description_width": "",
            "_view_module": "@jupyter-widgets/base",
            "_model_module_version": "1.5.0",
            "_view_count": null,
            "_view_module_version": "1.2.0",
            "_model_module": "@jupyter-widgets/controls"
          },
          "model_module_version": "1.5.0"
        },
        "a8d375beff6a44388ed23263998445d3": {
          "model_module": "@jupyter-widgets/base",
          "model_name": "LayoutModel",
          "state": {
            "_view_name": "LayoutView",
            "grid_template_rows": null,
            "right": null,
            "justify_content": null,
            "_view_module": "@jupyter-widgets/base",
            "overflow": null,
            "_model_module_version": "1.2.0",
            "_view_count": null,
            "flex_flow": null,
            "width": null,
            "min_width": null,
            "border": null,
            "align_items": null,
            "bottom": null,
            "_model_module": "@jupyter-widgets/base",
            "top": null,
            "grid_column": null,
            "overflow_y": null,
            "overflow_x": null,
            "grid_auto_flow": null,
            "grid_area": null,
            "grid_template_columns": null,
            "flex": null,
            "_model_name": "LayoutModel",
            "justify_items": null,
            "grid_row": null,
            "max_height": null,
            "align_content": null,
            "visibility": null,
            "align_self": null,
            "height": null,
            "min_height": null,
            "padding": null,
            "grid_auto_rows": null,
            "grid_gap": null,
            "max_width": null,
            "order": null,
            "_view_module_version": "1.2.0",
            "grid_template_areas": null,
            "object_position": null,
            "object_fit": null,
            "grid_auto_columns": null,
            "margin": null,
            "display": null,
            "left": null
          },
          "model_module_version": "1.2.0"
        },
        "7e156bf8592e4f1798bfc1be2a6d7724": {
          "model_module": "@jupyter-widgets/base",
          "model_name": "LayoutModel",
          "state": {
            "_view_name": "LayoutView",
            "grid_template_rows": null,
            "right": null,
            "justify_content": null,
            "_view_module": "@jupyter-widgets/base",
            "overflow": null,
            "_model_module_version": "1.2.0",
            "_view_count": null,
            "flex_flow": null,
            "width": null,
            "min_width": null,
            "border": null,
            "align_items": null,
            "bottom": null,
            "_model_module": "@jupyter-widgets/base",
            "top": null,
            "grid_column": null,
            "overflow_y": null,
            "overflow_x": null,
            "grid_auto_flow": null,
            "grid_area": null,
            "grid_template_columns": null,
            "flex": null,
            "_model_name": "LayoutModel",
            "justify_items": null,
            "grid_row": null,
            "max_height": null,
            "align_content": null,
            "visibility": null,
            "align_self": null,
            "height": null,
            "min_height": null,
            "padding": null,
            "grid_auto_rows": null,
            "grid_gap": null,
            "max_width": null,
            "order": null,
            "_view_module_version": "1.2.0",
            "grid_template_areas": null,
            "object_position": null,
            "object_fit": null,
            "grid_auto_columns": null,
            "margin": null,
            "display": null,
            "left": null
          },
          "model_module_version": "1.2.0"
        },
        "12426e49f2f64f5f8d188b40f87ced39": {
          "model_module": "@jupyter-widgets/controls",
          "model_name": "VBoxModel",
          "state": {
            "_view_name": "VBoxView",
            "_dom_classes": [],
            "_model_name": "VBoxModel",
            "_view_module": "@jupyter-widgets/controls",
            "_model_module_version": "1.5.0",
            "_view_count": null,
            "_view_module_version": "1.5.0",
            "box_style": "",
            "layout": "IPY_MODEL_16f3ffc942b248809baea42be838eb3d",
            "_model_module": "@jupyter-widgets/controls",
            "children": [
              "IPY_MODEL_609b7f76f2fc46f69a346750bdd70056",
              "IPY_MODEL_815b6e24a1604d69ad69d1aa413abf83",
              "IPY_MODEL_2cabf8db789c4b3c8312e6ba568826d5",
              "IPY_MODEL_2cd63dda1294439691c7364e1ee7b71c"
            ]
          },
          "model_module_version": "1.5.0"
        },
        "f43319e692f24ea1bfc5e388802a07a4": {
          "model_module": "@jupyter-widgets/controls",
          "model_name": "ButtonModel",
          "state": {
            "_view_name": "ButtonView",
            "style": "IPY_MODEL_4f497c2ef17749d2aa1ca5c9ec34ffc8",
            "_dom_classes": [],
            "description": "Run!",
            "_model_name": "ButtonModel",
            "button_style": "",
            "_view_module": "@jupyter-widgets/controls",
            "_model_module_version": "1.5.0",
            "tooltip": "",
            "_view_count": null,
            "disabled": false,
            "_view_module_version": "1.5.0",
            "layout": "IPY_MODEL_538866c285504f849aef6b8d80d8b09e",
            "_model_module": "@jupyter-widgets/controls",
            "icon": ""
          },
          "model_module_version": "1.5.0"
        },
        "16f3ffc942b248809baea42be838eb3d": {
          "model_module": "@jupyter-widgets/base",
          "model_name": "LayoutModel",
          "state": {
            "_view_name": "LayoutView",
            "grid_template_rows": null,
            "right": null,
            "justify_content": null,
            "_view_module": "@jupyter-widgets/base",
            "overflow": null,
            "_model_module_version": "1.2.0",
            "_view_count": null,
            "flex_flow": null,
            "width": null,
            "min_width": null,
            "border": null,
            "align_items": null,
            "bottom": null,
            "_model_module": "@jupyter-widgets/base",
            "top": null,
            "grid_column": null,
            "overflow_y": null,
            "overflow_x": null,
            "grid_auto_flow": null,
            "grid_area": null,
            "grid_template_columns": null,
            "flex": null,
            "_model_name": "LayoutModel",
            "justify_items": null,
            "grid_row": null,
            "max_height": null,
            "align_content": null,
            "visibility": null,
            "align_self": null,
            "height": null,
            "min_height": null,
            "padding": null,
            "grid_auto_rows": null,
            "grid_gap": null,
            "max_width": null,
            "order": null,
            "_view_module_version": "1.2.0",
            "grid_template_areas": null,
            "object_position": null,
            "object_fit": null,
            "grid_auto_columns": null,
            "margin": null,
            "display": null,
            "left": null
          },
          "model_module_version": "1.2.0"
        },
        "609b7f76f2fc46f69a346750bdd70056": {
          "model_module": "@jupyter-widgets/controls",
          "model_name": "TextModel",
          "state": {
            "_view_name": "TextView",
            "style": "IPY_MODEL_8aec0f1b00294ffbac4e2e330fc5c77e",
            "_dom_classes": [],
            "description": "ACCESS TOKEN KEY",
            "_model_name": "TextModel",
            "placeholder": "​",
            "_view_module": "@jupyter-widgets/controls",
            "_model_module_version": "1.5.0",
            "value": "",
            "_view_count": null,
            "disabled": false,
            "_view_module_version": "1.5.0",
            "continuous_update": true,
            "description_tooltip": null,
            "_model_module": "@jupyter-widgets/controls",
            "layout": "IPY_MODEL_e372eb1a996e463b88c684552bc1d116"
          },
          "model_module_version": "1.5.0"
        },
        "815b6e24a1604d69ad69d1aa413abf83": {
          "model_module": "@jupyter-widgets/controls",
          "model_name": "TextModel",
          "state": {
            "_view_name": "TextView",
            "style": "IPY_MODEL_affa4a8b49d2454c818ee952ea7b0cc6",
            "_dom_classes": [],
            "description": "ACCESS TOKEN SECRET",
            "_model_name": "TextModel",
            "placeholder": "​",
            "_view_module": "@jupyter-widgets/controls",
            "_model_module_version": "1.5.0",
            "value": "",
            "_view_count": null,
            "disabled": false,
            "_view_module_version": "1.5.0",
            "continuous_update": true,
            "description_tooltip": null,
            "_model_module": "@jupyter-widgets/controls",
            "layout": "IPY_MODEL_128f8d4ff4be400da33916ec88e61995"
          },
          "model_module_version": "1.5.0"
        },
        "2cabf8db789c4b3c8312e6ba568826d5": {
          "model_module": "@jupyter-widgets/controls",
          "model_name": "TextModel",
          "state": {
            "_view_name": "TextView",
            "style": "IPY_MODEL_b5686ab3bbff4e4c9dabf602030fec2f",
            "_dom_classes": [],
            "description": "CONSUMER KEY",
            "_model_name": "TextModel",
            "placeholder": "​",
            "_view_module": "@jupyter-widgets/controls",
            "_model_module_version": "1.5.0",
            "value": "",
            "_view_count": null,
            "disabled": false,
            "_view_module_version": "1.5.0",
            "continuous_update": true,
            "description_tooltip": null,
            "_model_module": "@jupyter-widgets/controls",
            "layout": "IPY_MODEL_b236b4694de14fd0899b67da6088d9e7"
          },
          "model_module_version": "1.5.0"
        },
        "2cd63dda1294439691c7364e1ee7b71c": {
          "model_module": "@jupyter-widgets/controls",
          "model_name": "TextModel",
          "state": {
            "_view_name": "TextView",
            "style": "IPY_MODEL_457599232e584434a9ecb07f4ec65dcc",
            "_dom_classes": [],
            "description": "CONSUMER SECRET",
            "_model_name": "TextModel",
            "placeholder": "​",
            "_view_module": "@jupyter-widgets/controls",
            "_model_module_version": "1.5.0",
            "value": "",
            "_view_count": null,
            "disabled": false,
            "_view_module_version": "1.5.0",
            "continuous_update": true,
            "description_tooltip": null,
            "_model_module": "@jupyter-widgets/controls",
            "layout": "IPY_MODEL_6b2e2aa97daf40a98525e23548a731bb"
          },
          "model_module_version": "1.5.0"
        },
        "4f497c2ef17749d2aa1ca5c9ec34ffc8": {
          "model_module": "@jupyter-widgets/controls",
          "model_name": "ButtonStyleModel",
          "state": {
            "_view_name": "StyleView",
            "_model_name": "ButtonStyleModel",
            "_view_module": "@jupyter-widgets/base",
            "_model_module_version": "1.5.0",
            "_view_count": null,
            "button_color": null,
            "font_weight": "",
            "_view_module_version": "1.2.0",
            "_model_module": "@jupyter-widgets/controls"
          },
          "model_module_version": "1.5.0"
        },
        "538866c285504f849aef6b8d80d8b09e": {
          "model_module": "@jupyter-widgets/base",
          "model_name": "LayoutModel",
          "state": {
            "_view_name": "LayoutView",
            "grid_template_rows": null,
            "right": null,
            "justify_content": null,
            "_view_module": "@jupyter-widgets/base",
            "overflow": null,
            "_model_module_version": "1.2.0",
            "_view_count": null,
            "flex_flow": null,
            "width": null,
            "min_width": null,
            "border": null,
            "align_items": null,
            "bottom": null,
            "_model_module": "@jupyter-widgets/base",
            "top": null,
            "grid_column": null,
            "overflow_y": null,
            "overflow_x": null,
            "grid_auto_flow": null,
            "grid_area": null,
            "grid_template_columns": null,
            "flex": null,
            "_model_name": "LayoutModel",
            "justify_items": null,
            "grid_row": null,
            "max_height": null,
            "align_content": null,
            "visibility": null,
            "align_self": null,
            "height": null,
            "min_height": null,
            "padding": null,
            "grid_auto_rows": null,
            "grid_gap": null,
            "max_width": null,
            "order": null,
            "_view_module_version": "1.2.0",
            "grid_template_areas": null,
            "object_position": null,
            "object_fit": null,
            "grid_auto_columns": null,
            "margin": null,
            "display": null,
            "left": null
          },
          "model_module_version": "1.2.0"
        },
        "8aec0f1b00294ffbac4e2e330fc5c77e": {
          "model_module": "@jupyter-widgets/controls",
          "model_name": "DescriptionStyleModel",
          "state": {
            "_view_name": "StyleView",
            "_model_name": "DescriptionStyleModel",
            "description_width": "",
            "_view_module": "@jupyter-widgets/base",
            "_model_module_version": "1.5.0",
            "_view_count": null,
            "_view_module_version": "1.2.0",
            "_model_module": "@jupyter-widgets/controls"
          },
          "model_module_version": "1.5.0"
        },
        "e372eb1a996e463b88c684552bc1d116": {
          "model_module": "@jupyter-widgets/base",
          "model_name": "LayoutModel",
          "state": {
            "_view_name": "LayoutView",
            "grid_template_rows": null,
            "right": null,
            "justify_content": null,
            "_view_module": "@jupyter-widgets/base",
            "overflow": null,
            "_model_module_version": "1.2.0",
            "_view_count": null,
            "flex_flow": null,
            "width": null,
            "min_width": null,
            "border": null,
            "align_items": null,
            "bottom": null,
            "_model_module": "@jupyter-widgets/base",
            "top": null,
            "grid_column": null,
            "overflow_y": null,
            "overflow_x": null,
            "grid_auto_flow": null,
            "grid_area": null,
            "grid_template_columns": null,
            "flex": null,
            "_model_name": "LayoutModel",
            "justify_items": null,
            "grid_row": null,
            "max_height": null,
            "align_content": null,
            "visibility": null,
            "align_self": null,
            "height": null,
            "min_height": null,
            "padding": null,
            "grid_auto_rows": null,
            "grid_gap": null,
            "max_width": null,
            "order": null,
            "_view_module_version": "1.2.0",
            "grid_template_areas": null,
            "object_position": null,
            "object_fit": null,
            "grid_auto_columns": null,
            "margin": null,
            "display": null,
            "left": null
          },
          "model_module_version": "1.2.0"
        },
        "affa4a8b49d2454c818ee952ea7b0cc6": {
          "model_module": "@jupyter-widgets/controls",
          "model_name": "DescriptionStyleModel",
          "state": {
            "_view_name": "StyleView",
            "_model_name": "DescriptionStyleModel",
            "description_width": "",
            "_view_module": "@jupyter-widgets/base",
            "_model_module_version": "1.5.0",
            "_view_count": null,
            "_view_module_version": "1.2.0",
            "_model_module": "@jupyter-widgets/controls"
          },
          "model_module_version": "1.5.0"
        },
        "128f8d4ff4be400da33916ec88e61995": {
          "model_module": "@jupyter-widgets/base",
          "model_name": "LayoutModel",
          "state": {
            "_view_name": "LayoutView",
            "grid_template_rows": null,
            "right": null,
            "justify_content": null,
            "_view_module": "@jupyter-widgets/base",
            "overflow": null,
            "_model_module_version": "1.2.0",
            "_view_count": null,
            "flex_flow": null,
            "width": null,
            "min_width": null,
            "border": null,
            "align_items": null,
            "bottom": null,
            "_model_module": "@jupyter-widgets/base",
            "top": null,
            "grid_column": null,
            "overflow_y": null,
            "overflow_x": null,
            "grid_auto_flow": null,
            "grid_area": null,
            "grid_template_columns": null,
            "flex": null,
            "_model_name": "LayoutModel",
            "justify_items": null,
            "grid_row": null,
            "max_height": null,
            "align_content": null,
            "visibility": null,
            "align_self": null,
            "height": null,
            "min_height": null,
            "padding": null,
            "grid_auto_rows": null,
            "grid_gap": null,
            "max_width": null,
            "order": null,
            "_view_module_version": "1.2.0",
            "grid_template_areas": null,
            "object_position": null,
            "object_fit": null,
            "grid_auto_columns": null,
            "margin": null,
            "display": null,
            "left": null
          },
          "model_module_version": "1.2.0"
        },
        "b5686ab3bbff4e4c9dabf602030fec2f": {
          "model_module": "@jupyter-widgets/controls",
          "model_name": "DescriptionStyleModel",
          "state": {
            "_view_name": "StyleView",
            "_model_name": "DescriptionStyleModel",
            "description_width": "",
            "_view_module": "@jupyter-widgets/base",
            "_model_module_version": "1.5.0",
            "_view_count": null,
            "_view_module_version": "1.2.0",
            "_model_module": "@jupyter-widgets/controls"
          },
          "model_module_version": "1.5.0"
        },
        "b236b4694de14fd0899b67da6088d9e7": {
          "model_module": "@jupyter-widgets/base",
          "model_name": "LayoutModel",
          "state": {
            "_view_name": "LayoutView",
            "grid_template_rows": null,
            "right": null,
            "justify_content": null,
            "_view_module": "@jupyter-widgets/base",
            "overflow": null,
            "_model_module_version": "1.2.0",
            "_view_count": null,
            "flex_flow": null,
            "width": null,
            "min_width": null,
            "border": null,
            "align_items": null,
            "bottom": null,
            "_model_module": "@jupyter-widgets/base",
            "top": null,
            "grid_column": null,
            "overflow_y": null,
            "overflow_x": null,
            "grid_auto_flow": null,
            "grid_area": null,
            "grid_template_columns": null,
            "flex": null,
            "_model_name": "LayoutModel",
            "justify_items": null,
            "grid_row": null,
            "max_height": null,
            "align_content": null,
            "visibility": null,
            "align_self": null,
            "height": null,
            "min_height": null,
            "padding": null,
            "grid_auto_rows": null,
            "grid_gap": null,
            "max_width": null,
            "order": null,
            "_view_module_version": "1.2.0",
            "grid_template_areas": null,
            "object_position": null,
            "object_fit": null,
            "grid_auto_columns": null,
            "margin": null,
            "display": null,
            "left": null
          },
          "model_module_version": "1.2.0"
        },
        "457599232e584434a9ecb07f4ec65dcc": {
          "model_module": "@jupyter-widgets/controls",
          "model_name": "DescriptionStyleModel",
          "state": {
            "_view_name": "StyleView",
            "_model_name": "DescriptionStyleModel",
            "description_width": "",
            "_view_module": "@jupyter-widgets/base",
            "_model_module_version": "1.5.0",
            "_view_count": null,
            "_view_module_version": "1.2.0",
            "_model_module": "@jupyter-widgets/controls"
          },
          "model_module_version": "1.5.0"
        },
        "6b2e2aa97daf40a98525e23548a731bb": {
          "model_module": "@jupyter-widgets/base",
          "model_name": "LayoutModel",
          "state": {
            "_view_name": "LayoutView",
            "grid_template_rows": null,
            "right": null,
            "justify_content": null,
            "_view_module": "@jupyter-widgets/base",
            "overflow": null,
            "_model_module_version": "1.2.0",
            "_view_count": null,
            "flex_flow": null,
            "width": null,
            "min_width": null,
            "border": null,
            "align_items": null,
            "bottom": null,
            "_model_module": "@jupyter-widgets/base",
            "top": null,
            "grid_column": null,
            "overflow_y": null,
            "overflow_x": null,
            "grid_auto_flow": null,
            "grid_area": null,
            "grid_template_columns": null,
            "flex": null,
            "_model_name": "LayoutModel",
            "justify_items": null,
            "grid_row": null,
            "max_height": null,
            "align_content": null,
            "visibility": null,
            "align_self": null,
            "height": null,
            "min_height": null,
            "padding": null,
            "grid_auto_rows": null,
            "grid_gap": null,
            "max_width": null,
            "order": null,
            "_view_module_version": "1.2.0",
            "grid_template_areas": null,
            "object_position": null,
            "object_fit": null,
            "grid_auto_columns": null,
            "margin": null,
            "display": null,
            "left": null
          },
          "model_module_version": "1.2.0"
        },
        "85990ba49cdf4e1191e486433b9e975d": {
          "model_module": "@jupyter-widgets/controls",
          "model_name": "VBoxModel",
          "state": {
            "_view_name": "VBoxView",
            "_dom_classes": [],
            "_model_name": "VBoxModel",
            "_view_module": "@jupyter-widgets/controls",
            "_model_module_version": "1.5.0",
            "_view_count": null,
            "_view_module_version": "1.5.0",
            "box_style": "",
            "layout": "IPY_MODEL_8ed67f219e6e49b599eee234a676e2e7",
            "_model_module": "@jupyter-widgets/controls",
            "children": [
              "IPY_MODEL_19d9f41a34e14e01896ffd59eb91f480",
              "IPY_MODEL_c6c15f7ffcf644e88fa651bd62eac189"
            ]
          },
          "model_module_version": "1.5.0"
        },
        "8ed67f219e6e49b599eee234a676e2e7": {
          "model_module": "@jupyter-widgets/base",
          "model_name": "LayoutModel",
          "state": {
            "_view_name": "LayoutView",
            "grid_template_rows": null,
            "right": null,
            "justify_content": null,
            "_view_module": "@jupyter-widgets/base",
            "overflow": null,
            "_model_module_version": "1.2.0",
            "_view_count": null,
            "flex_flow": null,
            "width": null,
            "min_width": null,
            "border": null,
            "align_items": null,
            "bottom": null,
            "_model_module": "@jupyter-widgets/base",
            "top": null,
            "grid_column": null,
            "overflow_y": null,
            "overflow_x": null,
            "grid_auto_flow": null,
            "grid_area": null,
            "grid_template_columns": null,
            "flex": null,
            "_model_name": "LayoutModel",
            "justify_items": null,
            "grid_row": null,
            "max_height": null,
            "align_content": null,
            "visibility": null,
            "align_self": null,
            "height": null,
            "min_height": null,
            "padding": null,
            "grid_auto_rows": null,
            "grid_gap": null,
            "max_width": null,
            "order": null,
            "_view_module_version": "1.2.0",
            "grid_template_areas": null,
            "object_position": null,
            "object_fit": null,
            "grid_auto_columns": null,
            "margin": null,
            "display": null,
            "left": null
          },
          "model_module_version": "1.2.0"
        },
        "19d9f41a34e14e01896ffd59eb91f480": {
          "model_module": "@jupyter-widgets/controls",
          "model_name": "HBoxModel",
          "state": {
            "_view_name": "HBoxView",
            "_dom_classes": [],
            "_model_name": "HBoxModel",
            "_view_module": "@jupyter-widgets/controls",
            "_model_module_version": "1.5.0",
            "_view_count": null,
            "_view_module_version": "1.5.0",
            "box_style": "",
            "layout": "IPY_MODEL_afe2b911a6094deb809c45154a6a432e",
            "_model_module": "@jupyter-widgets/controls",
            "children": [
              "IPY_MODEL_16830a02f10946f0bfdb4a70fa764da5",
              "IPY_MODEL_bef154e7623f479189b20bf0cdf355bf",
              "IPY_MODEL_e101832bfe114832bc6960a25988b434"
            ]
          },
          "model_module_version": "1.5.0"
        },
        "c6c15f7ffcf644e88fa651bd62eac189": {
          "model_module": "@jupyter-widgets/controls",
          "model_name": "TabModel",
          "state": {
            "_view_name": "TabView",
            "_dom_classes": [],
            "_titles": {
              "0": "Debug Information",
              "1": "creepy.jpegGray",
              "2": "creepy.jpegNone"
            },
            "_model_name": "TabModel",
            "_view_module": "@jupyter-widgets/controls",
            "selected_index": 2,
            "_model_module_version": "1.5.0",
            "_view_count": null,
            "_view_module_version": "1.5.0",
            "box_style": "",
            "layout": "IPY_MODEL_11c5f73479164a2f8979ea9dcdd89c87",
            "_model_module": "@jupyter-widgets/controls",
            "children": [
              "IPY_MODEL_7ef323c14f574f64abaf2d7f74b21643",
              "IPY_MODEL_19f198e1edee4820ac618c74b0767043",
              "IPY_MODEL_f465677576cb43fe9e30dc86c5543e3f"
            ]
          },
          "model_module_version": "1.5.0"
        },
        "afe2b911a6094deb809c45154a6a432e": {
          "model_module": "@jupyter-widgets/base",
          "model_name": "LayoutModel",
          "state": {
            "_view_name": "LayoutView",
            "grid_template_rows": null,
            "right": null,
            "justify_content": null,
            "_view_module": "@jupyter-widgets/base",
            "overflow": null,
            "_model_module_version": "1.2.0",
            "_view_count": null,
            "flex_flow": null,
            "width": null,
            "min_width": null,
            "border": null,
            "align_items": null,
            "bottom": null,
            "_model_module": "@jupyter-widgets/base",
            "top": null,
            "grid_column": null,
            "overflow_y": null,
            "overflow_x": null,
            "grid_auto_flow": null,
            "grid_area": null,
            "grid_template_columns": null,
            "flex": null,
            "_model_name": "LayoutModel",
            "justify_items": null,
            "grid_row": null,
            "max_height": null,
            "align_content": null,
            "visibility": null,
            "align_self": null,
            "height": null,
            "min_height": null,
            "padding": null,
            "grid_auto_rows": null,
            "grid_gap": null,
            "max_width": null,
            "order": null,
            "_view_module_version": "1.2.0",
            "grid_template_areas": null,
            "object_position": null,
            "object_fit": null,
            "grid_auto_columns": null,
            "margin": null,
            "display": null,
            "left": null
          },
          "model_module_version": "1.2.0"
        },
        "16830a02f10946f0bfdb4a70fa764da5": {
          "model_module": "@jupyter-widgets/controls",
          "model_name": "DropdownModel",
          "state": {
            "_options_labels": [
              "None",
              "Gray"
            ],
            "_view_name": "DropdownView",
            "style": "IPY_MODEL_9d4a752647ff478ca7a1c85d0ba55313",
            "_dom_classes": [],
            "description": "filter",
            "_model_name": "DropdownModel",
            "index": 0,
            "_view_module": "@jupyter-widgets/controls",
            "_model_module_version": "1.5.0",
            "_view_count": null,
            "disabled": false,
            "_view_module_version": "1.5.0",
            "description_tooltip": null,
            "_model_module": "@jupyter-widgets/controls",
            "layout": "IPY_MODEL_59c9ace50ab14027892cb1f67b9bf4c7"
          },
          "model_module_version": "1.5.0"
        },
        "bef154e7623f479189b20bf0cdf355bf": {
          "model_module": "@jupyter-widgets/controls",
          "model_name": "FileUploadModel",
          "state": {
            "_view_name": "FileUploadView",
            "_counter": 1,
            "style": "IPY_MODEL_bd84721c798041668462d67ebf334944",
            "_dom_classes": [],
            "description": "Upload",
            "multiple": false,
            "_model_name": "FileUploadModel",
            "data": [
              null
            ],
            "button_style": "",
            "_view_module": "@jupyter-widgets/controls",
            "_model_module_version": "1.5.0",
            "accept": "image/*",
            "_view_count": null,
            "disabled": false,
            "_view_module_version": "1.5.0",
            "error": "",
            "description_tooltip": null,
            "metadata": [
              {
                "name": "creepy.jpeg",
                "type": "image/jpeg",
                "size": 295471,
                "lastModified": 1541651576981
              }
            ],
            "_model_module": "@jupyter-widgets/controls",
            "layout": "IPY_MODEL_da3ada0757004439b0c52cc05b60c87d",
            "icon": "upload"
          },
          "model_module_version": "1.5.0"
        },
        "e101832bfe114832bc6960a25988b434": {
          "model_module": "@jupyter-widgets/controls",
          "model_name": "ButtonModel",
          "state": {
            "_view_name": "ButtonView",
            "style": "IPY_MODEL_cc12e813d5294db2851eaee2fe10dc57",
            "_dom_classes": [],
            "description": "Apply Filter!",
            "_model_name": "ButtonModel",
            "button_style": "",
            "_view_module": "@jupyter-widgets/controls",
            "_model_module_version": "1.5.0",
            "tooltip": "",
            "_view_count": null,
            "disabled": false,
            "_view_module_version": "1.5.0",
            "layout": "IPY_MODEL_1e56d1a1b44e4024b97f8ebb9eea0eac",
            "_model_module": "@jupyter-widgets/controls",
            "icon": ""
          },
          "model_module_version": "1.5.0"
        },
        "11c5f73479164a2f8979ea9dcdd89c87": {
          "model_module": "@jupyter-widgets/base",
          "model_name": "LayoutModel",
          "state": {
            "_view_name": "LayoutView",
            "grid_template_rows": null,
            "right": null,
            "justify_content": null,
            "_view_module": "@jupyter-widgets/base",
            "overflow": null,
            "_model_module_version": "1.2.0",
            "_view_count": null,
            "flex_flow": null,
            "width": null,
            "min_width": null,
            "border": null,
            "align_items": null,
            "bottom": null,
            "_model_module": "@jupyter-widgets/base",
            "top": null,
            "grid_column": null,
            "overflow_y": null,
            "overflow_x": null,
            "grid_auto_flow": null,
            "grid_area": null,
            "grid_template_columns": null,
            "flex": null,
            "_model_name": "LayoutModel",
            "justify_items": null,
            "grid_row": null,
            "max_height": null,
            "align_content": null,
            "visibility": null,
            "align_self": null,
            "height": "700px",
            "min_height": null,
            "padding": null,
            "grid_auto_rows": null,
            "grid_gap": null,
            "max_width": null,
            "order": null,
            "_view_module_version": "1.2.0",
            "grid_template_areas": null,
            "object_position": null,
            "object_fit": null,
            "grid_auto_columns": null,
            "margin": null,
            "display": null,
            "left": null
          },
          "model_module_version": "1.2.0"
        },
        "7ef323c14f574f64abaf2d7f74b21643": {
          "model_module": "@jupyter-widgets/output",
          "model_name": "OutputModel",
          "state": {
            "_view_name": "OutputView",
            "msg_id": "",
            "_dom_classes": [],
            "_model_name": "OutputModel",
            "outputs": [
              {
                "output_type": "stream",
                "metadata": {
                  "tags": []
                },
                "text": "Applying new filter: Gray\n{'lastModified': 1541651576981, 'type': 'image/jpeg', 'name': 'creepy.jpeg', 'size': 295471}\nName: creepy.jpeg,Size: 295471\n<PIL.Image.Image image mode=L size=960x1280 at 0x7FC955392F60>\n",
                "stream": "stdout"
              },
              {
                "output_type": "stream",
                "metadata": {
                  "tags": []
                },
                "text": "Applying new filter: None\n{'lastModified': 1541651576981, 'type': 'image/jpeg', 'name': 'creepy.jpeg', 'size': 295471}\nName: creepy.jpeg,Size: 295471\n",
                "stream": "stdout"
              }
            ],
            "_view_module": "@jupyter-widgets/output",
            "_model_module_version": "1.0.0",
            "_view_count": null,
            "_view_module_version": "1.0.0",
            "layout": "IPY_MODEL_50dfe8f8cc1f462baab1797f1388da6c",
            "_model_module": "@jupyter-widgets/output"
          },
          "model_module_version": "1.0.0"
        },
        "9d4a752647ff478ca7a1c85d0ba55313": {
          "model_module": "@jupyter-widgets/controls",
          "model_name": "DescriptionStyleModel",
          "state": {
            "_view_name": "StyleView",
            "_model_name": "DescriptionStyleModel",
            "description_width": "",
            "_view_module": "@jupyter-widgets/base",
            "_model_module_version": "1.5.0",
            "_view_count": null,
            "_view_module_version": "1.2.0",
            "_model_module": "@jupyter-widgets/controls"
          },
          "model_module_version": "1.5.0"
        },
        "59c9ace50ab14027892cb1f67b9bf4c7": {
          "model_module": "@jupyter-widgets/base",
          "model_name": "LayoutModel",
          "state": {
            "_view_name": "LayoutView",
            "grid_template_rows": null,
            "right": null,
            "justify_content": null,
            "_view_module": "@jupyter-widgets/base",
            "overflow": null,
            "_model_module_version": "1.2.0",
            "_view_count": null,
            "flex_flow": null,
            "width": null,
            "min_width": null,
            "border": null,
            "align_items": null,
            "bottom": null,
            "_model_module": "@jupyter-widgets/base",
            "top": null,
            "grid_column": null,
            "overflow_y": null,
            "overflow_x": null,
            "grid_auto_flow": null,
            "grid_area": null,
            "grid_template_columns": null,
            "flex": null,
            "_model_name": "LayoutModel",
            "justify_items": null,
            "grid_row": null,
            "max_height": null,
            "align_content": null,
            "visibility": null,
            "align_self": null,
            "height": null,
            "min_height": null,
            "padding": null,
            "grid_auto_rows": null,
            "grid_gap": null,
            "max_width": null,
            "order": null,
            "_view_module_version": "1.2.0",
            "grid_template_areas": null,
            "object_position": null,
            "object_fit": null,
            "grid_auto_columns": null,
            "margin": null,
            "display": null,
            "left": null
          },
          "model_module_version": "1.2.0"
        },
        "bd84721c798041668462d67ebf334944": {
          "model_module": "@jupyter-widgets/controls",
          "model_name": "ButtonStyleModel",
          "state": {
            "_view_name": "StyleView",
            "_model_name": "ButtonStyleModel",
            "_view_module": "@jupyter-widgets/base",
            "_model_module_version": "1.5.0",
            "_view_count": null,
            "button_color": null,
            "font_weight": "",
            "_view_module_version": "1.2.0",
            "_model_module": "@jupyter-widgets/controls"
          },
          "model_module_version": "1.5.0"
        },
        "da3ada0757004439b0c52cc05b60c87d": {
          "model_module": "@jupyter-widgets/base",
          "model_name": "LayoutModel",
          "state": {
            "_view_name": "LayoutView",
            "grid_template_rows": null,
            "right": null,
            "justify_content": null,
            "_view_module": "@jupyter-widgets/base",
            "overflow": null,
            "_model_module_version": "1.2.0",
            "_view_count": null,
            "flex_flow": null,
            "width": null,
            "min_width": null,
            "border": null,
            "align_items": null,
            "bottom": null,
            "_model_module": "@jupyter-widgets/base",
            "top": null,
            "grid_column": null,
            "overflow_y": null,
            "overflow_x": null,
            "grid_auto_flow": null,
            "grid_area": null,
            "grid_template_columns": null,
            "flex": null,
            "_model_name": "LayoutModel",
            "justify_items": null,
            "grid_row": null,
            "max_height": null,
            "align_content": null,
            "visibility": null,
            "align_self": null,
            "height": null,
            "min_height": null,
            "padding": null,
            "grid_auto_rows": null,
            "grid_gap": null,
            "max_width": null,
            "order": null,
            "_view_module_version": "1.2.0",
            "grid_template_areas": null,
            "object_position": null,
            "object_fit": null,
            "grid_auto_columns": null,
            "margin": null,
            "display": null,
            "left": null
          },
          "model_module_version": "1.2.0"
        },
        "cc12e813d5294db2851eaee2fe10dc57": {
          "model_module": "@jupyter-widgets/controls",
          "model_name": "ButtonStyleModel",
          "state": {
            "_view_name": "StyleView",
            "_model_name": "ButtonStyleModel",
            "_view_module": "@jupyter-widgets/base",
            "_model_module_version": "1.5.0",
            "_view_count": null,
            "button_color": null,
            "font_weight": "",
            "_view_module_version": "1.2.0",
            "_model_module": "@jupyter-widgets/controls"
          },
          "model_module_version": "1.5.0"
        },
        "1e56d1a1b44e4024b97f8ebb9eea0eac": {
          "model_module": "@jupyter-widgets/base",
          "model_name": "LayoutModel",
          "state": {
            "_view_name": "LayoutView",
            "grid_template_rows": null,
            "right": null,
            "justify_content": null,
            "_view_module": "@jupyter-widgets/base",
            "overflow": null,
            "_model_module_version": "1.2.0",
            "_view_count": null,
            "flex_flow": null,
            "width": null,
            "min_width": null,
            "border": null,
            "align_items": null,
            "bottom": null,
            "_model_module": "@jupyter-widgets/base",
            "top": null,
            "grid_column": null,
            "overflow_y": null,
            "overflow_x": null,
            "grid_auto_flow": null,
            "grid_area": null,
            "grid_template_columns": null,
            "flex": null,
            "_model_name": "LayoutModel",
            "justify_items": null,
            "grid_row": null,
            "max_height": null,
            "align_content": null,
            "visibility": null,
            "align_self": null,
            "height": null,
            "min_height": null,
            "padding": null,
            "grid_auto_rows": null,
            "grid_gap": null,
            "max_width": null,
            "order": null,
            "_view_module_version": "1.2.0",
            "grid_template_areas": null,
            "object_position": null,
            "object_fit": null,
            "grid_auto_columns": null,
            "margin": null,
            "display": null,
            "left": null
          },
          "model_module_version": "1.2.0"
        },
        "50dfe8f8cc1f462baab1797f1388da6c": {
          "model_module": "@jupyter-widgets/base",
          "model_name": "LayoutModel",
          "state": {
            "_view_name": "LayoutView",
            "grid_template_rows": null,
            "right": null,
            "justify_content": null,
            "_view_module": "@jupyter-widgets/base",
            "overflow": null,
            "_model_module_version": "1.2.0",
            "_view_count": null,
            "flex_flow": null,
            "width": null,
            "min_width": null,
            "border": null,
            "align_items": null,
            "bottom": null,
            "_model_module": "@jupyter-widgets/base",
            "top": null,
            "grid_column": null,
            "overflow_y": null,
            "overflow_x": null,
            "grid_auto_flow": null,
            "grid_area": null,
            "grid_template_columns": null,
            "flex": null,
            "_model_name": "LayoutModel",
            "justify_items": null,
            "grid_row": null,
            "max_height": null,
            "align_content": null,
            "visibility": null,
            "align_self": null,
            "height": null,
            "min_height": null,
            "padding": null,
            "grid_auto_rows": null,
            "grid_gap": null,
            "max_width": null,
            "order": null,
            "_view_module_version": "1.2.0",
            "grid_template_areas": null,
            "object_position": null,
            "object_fit": null,
            "grid_auto_columns": null,
            "margin": null,
            "display": null,
            "left": null
          },
          "model_module_version": "1.2.0"
        },
        "19f198e1edee4820ac618c74b0767043": {
          "model_module": "@jupyter-widgets/controls",
          "model_name": "ImageModel",
          "state": {
            "_view_name": "ImageView",
            "_dom_classes": [],
            "_model_name": "ImageModel",
            "format": "png",
            "_view_module": "@jupyter-widgets/controls",
            "_model_module_version": "1.5.0",
            "_view_count": null,
            "width": "",
            "_view_module_version": "1.5.0",
            "layout": "IPY_MODEL_e2c3dc8c6bec418cb90f50a5230d7627",
            "height": "",
            "_model_module": "@jupyter-widgets/controls"
          },
          "model_module_version": "1.5.0"
        },
        "e2c3dc8c6bec418cb90f50a5230d7627": {
          "model_module": "@jupyter-widgets/base",
          "model_name": "LayoutModel",
          "state": {
            "_view_name": "LayoutView",
            "grid_template_rows": null,
            "right": null,
            "justify_content": null,
            "_view_module": "@jupyter-widgets/base",
            "overflow": null,
            "_model_module_version": "1.2.0",
            "_view_count": null,
            "flex_flow": null,
            "width": null,
            "min_width": null,
            "border": null,
            "align_items": null,
            "bottom": null,
            "_model_module": "@jupyter-widgets/base",
            "top": null,
            "grid_column": null,
            "overflow_y": null,
            "overflow_x": null,
            "grid_auto_flow": null,
            "grid_area": null,
            "grid_template_columns": null,
            "flex": null,
            "_model_name": "LayoutModel",
            "justify_items": null,
            "grid_row": null,
            "max_height": null,
            "align_content": null,
            "visibility": null,
            "align_self": null,
            "height": null,
            "min_height": null,
            "padding": null,
            "grid_auto_rows": null,
            "grid_gap": null,
            "max_width": null,
            "order": null,
            "_view_module_version": "1.2.0",
            "grid_template_areas": null,
            "object_position": null,
            "object_fit": null,
            "grid_auto_columns": null,
            "margin": null,
            "display": null,
            "left": null
          },
          "model_module_version": "1.2.0"
        },
        "f465677576cb43fe9e30dc86c5543e3f": {
          "model_module": "@jupyter-widgets/controls",
          "model_name": "ImageModel",
          "state": {
            "_view_name": "ImageView",
            "_dom_classes": [],
            "_model_name": "ImageModel",
            "format": "png",
            "_view_module": "@jupyter-widgets/controls",
            "_model_module_version": "1.5.0",
            "_view_count": null,
            "width": "",
            "_view_module_version": "1.5.0",
            "layout": "IPY_MODEL_0b37c1cd8b4445ab9566a5eecfcaf852",
            "height": "",
            "_model_module": "@jupyter-widgets/controls"
          },
          "model_module_version": "1.5.0"
        },
        "0b37c1cd8b4445ab9566a5eecfcaf852": {
          "model_module": "@jupyter-widgets/base",
          "model_name": "LayoutModel",
          "state": {
            "_view_name": "LayoutView",
            "grid_template_rows": null,
            "right": null,
            "justify_content": null,
            "_view_module": "@jupyter-widgets/base",
            "overflow": null,
            "_model_module_version": "1.2.0",
            "_view_count": null,
            "flex_flow": null,
            "width": null,
            "min_width": null,
            "border": null,
            "align_items": null,
            "bottom": null,
            "_model_module": "@jupyter-widgets/base",
            "top": null,
            "grid_column": null,
            "overflow_y": null,
            "overflow_x": null,
            "grid_auto_flow": null,
            "grid_area": null,
            "grid_template_columns": null,
            "flex": null,
            "_model_name": "LayoutModel",
            "justify_items": null,
            "grid_row": null,
            "max_height": null,
            "align_content": null,
            "visibility": null,
            "align_self": null,
            "height": null,
            "min_height": null,
            "padding": null,
            "grid_auto_rows": null,
            "grid_gap": null,
            "max_width": null,
            "order": null,
            "_view_module_version": "1.2.0",
            "grid_template_areas": null,
            "object_position": null,
            "object_fit": null,
            "grid_auto_columns": null,
            "margin": null,
            "display": null,
            "left": null
          },
          "model_module_version": "1.2.0"
        },
        "1bf0c0596afc47fd8d271f6bb813ce19": {
          "model_module": "@jupyter-widgets/controls",
          "model_name": "GridBoxModel",
          "state": {
            "_view_name": "GridBoxView",
            "_dom_classes": [],
            "_model_name": "GridBoxModel",
            "_view_module": "@jupyter-widgets/controls",
            "_model_module_version": "1.5.0",
            "_view_count": null,
            "_view_module_version": "1.5.0",
            "box_style": "",
            "layout": "IPY_MODEL_78c20f0055e14518a896f7bddd4cb06b",
            "_model_module": "@jupyter-widgets/controls",
            "children": [
              "IPY_MODEL_e227db2be6344ebeb78e4ed223828a8b",
              "IPY_MODEL_344e12e2c8d74aaaadfa55c7aa229a1e",
              "IPY_MODEL_c9f178c1d1244d648feca3d3c3e85ab9",
              "IPY_MODEL_6edaa0b2791048c6963b466bb779af0c",
              "IPY_MODEL_36dbd2aa367742e3b33fdde3a7793b1b"
            ]
          },
          "model_module_version": "1.5.0"
        },
        "78c20f0055e14518a896f7bddd4cb06b": {
          "model_module": "@jupyter-widgets/base",
          "model_name": "LayoutModel",
          "state": {
            "_view_name": "LayoutView",
            "grid_template_rows": "1fr 3fr 1fr",
            "right": null,
            "justify_content": null,
            "_view_module": "@jupyter-widgets/base",
            "overflow": null,
            "_model_module_version": "1.2.0",
            "_view_count": null,
            "flex_flow": null,
            "width": null,
            "min_width": null,
            "border": null,
            "align_items": null,
            "bottom": null,
            "_model_module": "@jupyter-widgets/base",
            "top": null,
            "grid_column": null,
            "overflow_y": null,
            "overflow_x": null,
            "grid_auto_flow": null,
            "grid_area": null,
            "grid_template_columns": "1fr 2fr 1fr",
            "flex": null,
            "_model_name": "LayoutModel",
            "justify_items": null,
            "grid_row": null,
            "max_height": null,
            "align_content": null,
            "visibility": null,
            "align_self": null,
            "height": null,
            "min_height": null,
            "padding": null,
            "grid_auto_rows": null,
            "grid_gap": null,
            "max_width": null,
            "order": null,
            "_view_module_version": "1.2.0",
            "grid_template_areas": "\"header header header\"\n\"left-sidebar center right-sidebar\"\n\"footer footer footer\"",
            "object_position": null,
            "object_fit": null,
            "grid_auto_columns": null,
            "margin": null,
            "display": null,
            "left": null
          },
          "model_module_version": "1.2.0"
        },
        "e227db2be6344ebeb78e4ed223828a8b": {
          "model_module": "@jupyter-widgets/controls",
          "model_name": "ButtonModel",
          "state": {
            "_view_name": "ButtonView",
            "style": "IPY_MODEL_ea355eb921da4e1ab292d3b5f29afd30",
            "_dom_classes": [],
            "description": "header (click me)",
            "_model_name": "ButtonModel",
            "button_style": "",
            "_view_module": "@jupyter-widgets/controls",
            "_model_module_version": "1.5.0",
            "tooltip": "",
            "_view_count": null,
            "disabled": false,
            "_view_module_version": "1.5.0",
            "layout": "IPY_MODEL_7ff7ea3b69214693809def50f222d633",
            "_model_module": "@jupyter-widgets/controls",
            "icon": ""
          },
          "model_module_version": "1.5.0"
        },
        "344e12e2c8d74aaaadfa55c7aa229a1e": {
          "model_module": "@jupyter-widgets/controls",
          "model_name": "ButtonModel",
          "state": {
            "_view_name": "ButtonView",
            "style": "IPY_MODEL_182f3cc43f1145f4a9b1b3a85aec2c2d",
            "_dom_classes": [],
            "description": "footer",
            "_model_name": "ButtonModel",
            "button_style": "",
            "_view_module": "@jupyter-widgets/controls",
            "_model_module_version": "1.5.0",
            "tooltip": "",
            "_view_count": null,
            "disabled": false,
            "_view_module_version": "1.5.0",
            "layout": "IPY_MODEL_85c00bde2d6c44f9b88da1cc925346c7",
            "_model_module": "@jupyter-widgets/controls",
            "icon": ""
          },
          "model_module_version": "1.5.0"
        },
        "c9f178c1d1244d648feca3d3c3e85ab9": {
          "model_module": "@jupyter-widgets/controls",
          "model_name": "ButtonModel",
          "state": {
            "_view_name": "ButtonView",
            "style": "IPY_MODEL_14f039735edd42a286246cf968bb4d9d",
            "_dom_classes": [],
            "description": "left",
            "_model_name": "ButtonModel",
            "button_style": "",
            "_view_module": "@jupyter-widgets/controls",
            "_model_module_version": "1.5.0",
            "tooltip": "",
            "_view_count": null,
            "disabled": false,
            "_view_module_version": "1.5.0",
            "layout": "IPY_MODEL_6bc653daeefc4850a5c9042bf8ec4e3f",
            "_model_module": "@jupyter-widgets/controls",
            "icon": ""
          },
          "model_module_version": "1.5.0"
        },
        "6edaa0b2791048c6963b466bb779af0c": {
          "model_module": "@jupyter-widgets/controls",
          "model_name": "ButtonModel",
          "state": {
            "_view_name": "ButtonView",
            "style": "IPY_MODEL_f7ea067134bc4d7db58f7a2acde41096",
            "_dom_classes": [],
            "description": "right",
            "_model_name": "ButtonModel",
            "button_style": "",
            "_view_module": "@jupyter-widgets/controls",
            "_model_module_version": "1.5.0",
            "tooltip": "",
            "_view_count": null,
            "disabled": false,
            "_view_module_version": "1.5.0",
            "layout": "IPY_MODEL_7d9d0ef941294aac870ebf5819cfc81c",
            "_model_module": "@jupyter-widgets/controls",
            "icon": ""
          },
          "model_module_version": "1.5.0"
        },
        "6a017a7b24bc483e9f234f3835e853db": {
          "model_module": "@jupyter-widgets/controls",
          "model_name": "ButtonModel",
          "state": {
            "_view_name": "ButtonView",
            "style": "IPY_MODEL_688d2eb3b220414fa5eec87cad43b6e5",
            "_dom_classes": [],
            "description": "center",
            "_model_name": "ButtonModel",
            "button_style": "",
            "_view_module": "@jupyter-widgets/controls",
            "_model_module_version": "1.5.0",
            "tooltip": "",
            "_view_count": null,
            "disabled": false,
            "_view_module_version": "1.5.0",
            "layout": "IPY_MODEL_823385f713384a2caae606914992e009",
            "_model_module": "@jupyter-widgets/controls",
            "icon": ""
          },
          "model_module_version": "1.5.0"
        },
        "ea355eb921da4e1ab292d3b5f29afd30": {
          "model_module": "@jupyter-widgets/controls",
          "model_name": "ButtonStyleModel",
          "state": {
            "_view_name": "StyleView",
            "_model_name": "ButtonStyleModel",
            "_view_module": "@jupyter-widgets/base",
            "_model_module_version": "1.5.0",
            "_view_count": null,
            "button_color": "blue",
            "font_weight": "",
            "_view_module_version": "1.2.0",
            "_model_module": "@jupyter-widgets/controls"
          },
          "model_module_version": "1.5.0"
        },
        "7ff7ea3b69214693809def50f222d633": {
          "model_module": "@jupyter-widgets/base",
          "model_name": "LayoutModel",
          "state": {
            "_view_name": "LayoutView",
            "grid_template_rows": null,
            "right": null,
            "justify_content": null,
            "_view_module": "@jupyter-widgets/base",
            "overflow": null,
            "_model_module_version": "1.2.0",
            "_view_count": null,
            "flex_flow": null,
            "width": "100%",
            "min_width": null,
            "border": null,
            "align_items": null,
            "bottom": null,
            "_model_module": "@jupyter-widgets/base",
            "top": null,
            "grid_column": null,
            "overflow_y": null,
            "overflow_x": null,
            "grid_auto_flow": null,
            "grid_area": "header",
            "grid_template_columns": null,
            "flex": null,
            "_model_name": "LayoutModel",
            "justify_items": null,
            "grid_row": null,
            "max_height": null,
            "align_content": null,
            "visibility": null,
            "align_self": null,
            "height": null,
            "min_height": null,
            "padding": null,
            "grid_auto_rows": null,
            "grid_gap": null,
            "max_width": null,
            "order": null,
            "_view_module_version": "1.2.0",
            "grid_template_areas": null,
            "object_position": null,
            "object_fit": null,
            "grid_auto_columns": null,
            "margin": null,
            "display": null,
            "left": null
          },
          "model_module_version": "1.2.0"
        },
        "182f3cc43f1145f4a9b1b3a85aec2c2d": {
          "model_module": "@jupyter-widgets/controls",
          "model_name": "ButtonStyleModel",
          "state": {
            "_view_name": "StyleView",
            "_model_name": "ButtonStyleModel",
            "_view_module": "@jupyter-widgets/base",
            "_model_module_version": "1.5.0",
            "_view_count": null,
            "button_color": "blue",
            "font_weight": "",
            "_view_module_version": "1.2.0",
            "_model_module": "@jupyter-widgets/controls"
          },
          "model_module_version": "1.5.0"
        },
        "85c00bde2d6c44f9b88da1cc925346c7": {
          "model_module": "@jupyter-widgets/base",
          "model_name": "LayoutModel",
          "state": {
            "_view_name": "LayoutView",
            "grid_template_rows": null,
            "right": null,
            "justify_content": null,
            "_view_module": "@jupyter-widgets/base",
            "overflow": null,
            "_model_module_version": "1.2.0",
            "_view_count": null,
            "flex_flow": null,
            "width": "100%",
            "min_width": null,
            "border": null,
            "align_items": null,
            "bottom": null,
            "_model_module": "@jupyter-widgets/base",
            "top": null,
            "grid_column": null,
            "overflow_y": null,
            "overflow_x": null,
            "grid_auto_flow": null,
            "grid_area": "footer",
            "grid_template_columns": null,
            "flex": null,
            "_model_name": "LayoutModel",
            "justify_items": null,
            "grid_row": null,
            "max_height": null,
            "align_content": null,
            "visibility": null,
            "align_self": null,
            "height": null,
            "min_height": null,
            "padding": null,
            "grid_auto_rows": null,
            "grid_gap": null,
            "max_width": null,
            "order": null,
            "_view_module_version": "1.2.0",
            "grid_template_areas": null,
            "object_position": null,
            "object_fit": null,
            "grid_auto_columns": null,
            "margin": null,
            "display": null,
            "left": null
          },
          "model_module_version": "1.2.0"
        },
        "14f039735edd42a286246cf968bb4d9d": {
          "model_module": "@jupyter-widgets/controls",
          "model_name": "ButtonStyleModel",
          "state": {
            "_view_name": "StyleView",
            "_model_name": "ButtonStyleModel",
            "_view_module": "@jupyter-widgets/base",
            "_model_module_version": "1.5.0",
            "_view_count": null,
            "button_color": "red",
            "font_weight": "",
            "_view_module_version": "1.2.0",
            "_model_module": "@jupyter-widgets/controls"
          },
          "model_module_version": "1.5.0"
        },
        "6bc653daeefc4850a5c9042bf8ec4e3f": {
          "model_module": "@jupyter-widgets/base",
          "model_name": "LayoutModel",
          "state": {
            "_view_name": "LayoutView",
            "grid_template_rows": null,
            "right": null,
            "justify_content": null,
            "_view_module": "@jupyter-widgets/base",
            "overflow": null,
            "_model_module_version": "1.2.0",
            "_view_count": null,
            "flex_flow": null,
            "width": "100%",
            "min_width": null,
            "border": null,
            "align_items": null,
            "bottom": null,
            "_model_module": "@jupyter-widgets/base",
            "top": null,
            "grid_column": null,
            "overflow_y": null,
            "overflow_x": null,
            "grid_auto_flow": null,
            "grid_area": "left-sidebar",
            "grid_template_columns": null,
            "flex": null,
            "_model_name": "LayoutModel",
            "justify_items": null,
            "grid_row": null,
            "max_height": null,
            "align_content": null,
            "visibility": null,
            "align_self": null,
            "height": "100%",
            "min_height": null,
            "padding": null,
            "grid_auto_rows": null,
            "grid_gap": null,
            "max_width": null,
            "order": null,
            "_view_module_version": "1.2.0",
            "grid_template_areas": null,
            "object_position": null,
            "object_fit": null,
            "grid_auto_columns": null,
            "margin": null,
            "display": null,
            "left": null
          },
          "model_module_version": "1.2.0"
        },
        "f7ea067134bc4d7db58f7a2acde41096": {
          "model_module": "@jupyter-widgets/controls",
          "model_name": "ButtonStyleModel",
          "state": {
            "_view_name": "StyleView",
            "_model_name": "ButtonStyleModel",
            "_view_module": "@jupyter-widgets/base",
            "_model_module_version": "1.5.0",
            "_view_count": null,
            "button_color": "red",
            "font_weight": "",
            "_view_module_version": "1.2.0",
            "_model_module": "@jupyter-widgets/controls"
          },
          "model_module_version": "1.5.0"
        },
        "7d9d0ef941294aac870ebf5819cfc81c": {
          "model_module": "@jupyter-widgets/base",
          "model_name": "LayoutModel",
          "state": {
            "_view_name": "LayoutView",
            "grid_template_rows": null,
            "right": null,
            "justify_content": null,
            "_view_module": "@jupyter-widgets/base",
            "overflow": null,
            "_model_module_version": "1.2.0",
            "_view_count": null,
            "flex_flow": null,
            "width": "100%",
            "min_width": null,
            "border": null,
            "align_items": null,
            "bottom": null,
            "_model_module": "@jupyter-widgets/base",
            "top": null,
            "grid_column": null,
            "overflow_y": null,
            "overflow_x": null,
            "grid_auto_flow": null,
            "grid_area": "right-sidebar",
            "grid_template_columns": null,
            "flex": null,
            "_model_name": "LayoutModel",
            "justify_items": null,
            "grid_row": null,
            "max_height": null,
            "align_content": null,
            "visibility": null,
            "align_self": null,
            "height": "100%",
            "min_height": null,
            "padding": null,
            "grid_auto_rows": null,
            "grid_gap": null,
            "max_width": null,
            "order": null,
            "_view_module_version": "1.2.0",
            "grid_template_areas": null,
            "object_position": null,
            "object_fit": null,
            "grid_auto_columns": null,
            "margin": null,
            "display": null,
            "left": null
          },
          "model_module_version": "1.2.0"
        },
        "688d2eb3b220414fa5eec87cad43b6e5": {
          "model_module": "@jupyter-widgets/controls",
          "model_name": "ButtonStyleModel",
          "state": {
            "_view_name": "StyleView",
            "_model_name": "ButtonStyleModel",
            "_view_module": "@jupyter-widgets/base",
            "_model_module_version": "1.5.0",
            "_view_count": null,
            "button_color": "yellow",
            "font_weight": "",
            "_view_module_version": "1.2.0",
            "_model_module": "@jupyter-widgets/controls"
          },
          "model_module_version": "1.5.0"
        },
        "823385f713384a2caae606914992e009": {
          "model_module": "@jupyter-widgets/base",
          "model_name": "LayoutModel",
          "state": {
            "_view_name": "LayoutView",
            "grid_template_rows": null,
            "right": null,
            "justify_content": null,
            "_view_module": "@jupyter-widgets/base",
            "overflow": null,
            "_model_module_version": "1.2.0",
            "_view_count": null,
            "flex_flow": null,
            "width": "5in",
            "min_width": null,
            "border": null,
            "align_items": null,
            "bottom": null,
            "_model_module": "@jupyter-widgets/base",
            "top": null,
            "grid_column": null,
            "overflow_y": null,
            "overflow_x": null,
            "grid_auto_flow": null,
            "grid_area": "center",
            "grid_template_columns": null,
            "flex": null,
            "_model_name": "LayoutModel",
            "justify_items": null,
            "grid_row": null,
            "max_height": null,
            "align_content": null,
            "visibility": null,
            "align_self": null,
            "height": "2in",
            "min_height": null,
            "padding": null,
            "grid_auto_rows": null,
            "grid_gap": null,
            "max_width": null,
            "order": null,
            "_view_module_version": "1.2.0",
            "grid_template_areas": null,
            "object_position": null,
            "object_fit": null,
            "grid_auto_columns": null,
            "margin": null,
            "display": null,
            "left": null
          },
          "model_module_version": "1.2.0"
        },
        "b7442e04ba7a49779d43d00f22275262": {
          "model_module": "@jupyter-widgets/controls",
          "model_name": "ButtonModel",
          "state": {
            "_view_name": "ButtonView",
            "style": "IPY_MODEL_4e35c02153664d3e80d3a137e29177d7",
            "_dom_classes": [],
            "description": "center",
            "_model_name": "ButtonModel",
            "button_style": "",
            "_view_module": "@jupyter-widgets/controls",
            "_model_module_version": "1.5.0",
            "tooltip": "",
            "_view_count": null,
            "disabled": false,
            "_view_module_version": "1.5.0",
            "layout": "IPY_MODEL_606ae92b586d4755a2976621a4dff62d",
            "_model_module": "@jupyter-widgets/controls",
            "icon": ""
          },
          "model_module_version": "1.5.0"
        },
        "4e35c02153664d3e80d3a137e29177d7": {
          "model_module": "@jupyter-widgets/controls",
          "model_name": "ButtonStyleModel",
          "state": {
            "_view_name": "StyleView",
            "_model_name": "ButtonStyleModel",
            "_view_module": "@jupyter-widgets/base",
            "_model_module_version": "1.5.0",
            "_view_count": null,
            "button_color": "green",
            "font_weight": "",
            "_view_module_version": "1.2.0",
            "_model_module": "@jupyter-widgets/controls"
          },
          "model_module_version": "1.5.0"
        },
        "606ae92b586d4755a2976621a4dff62d": {
          "model_module": "@jupyter-widgets/base",
          "model_name": "LayoutModel",
          "state": {
            "_view_name": "LayoutView",
            "grid_template_rows": null,
            "right": null,
            "justify_content": null,
            "_view_module": "@jupyter-widgets/base",
            "overflow": null,
            "_model_module_version": "1.2.0",
            "_view_count": null,
            "flex_flow": null,
            "width": "5in",
            "min_width": null,
            "border": null,
            "align_items": null,
            "bottom": null,
            "_model_module": "@jupyter-widgets/base",
            "top": null,
            "grid_column": null,
            "overflow_y": null,
            "overflow_x": null,
            "grid_auto_flow": null,
            "grid_area": "center",
            "grid_template_columns": null,
            "flex": null,
            "_model_name": "LayoutModel",
            "justify_items": null,
            "grid_row": null,
            "max_height": null,
            "align_content": null,
            "visibility": null,
            "align_self": null,
            "height": "2in",
            "min_height": null,
            "padding": null,
            "grid_auto_rows": null,
            "grid_gap": null,
            "max_width": null,
            "order": null,
            "_view_module_version": "1.2.0",
            "grid_template_areas": null,
            "object_position": null,
            "object_fit": null,
            "grid_auto_columns": null,
            "margin": null,
            "display": null,
            "left": null
          },
          "model_module_version": "1.2.0"
        },
        "12062418d5734dbbbf9176049a6e5896": {
          "model_module": "@jupyter-widgets/controls",
          "model_name": "TextModel",
          "state": {
            "_view_name": "TextView",
            "style": "IPY_MODEL_05df59bdc17647a685205ce542a7e824",
            "_dom_classes": [],
            "description": "center",
            "_model_name": "TextModel",
            "placeholder": "​",
            "_view_module": "@jupyter-widgets/controls",
            "_model_module_version": "1.5.0",
            "value": "",
            "_view_count": null,
            "disabled": false,
            "_view_module_version": "1.5.0",
            "continuous_update": true,
            "description_tooltip": null,
            "_model_module": "@jupyter-widgets/controls",
            "layout": "IPY_MODEL_0daab09b5af549e0af8974f0f9871be2"
          },
          "model_module_version": "1.5.0"
        },
        "05df59bdc17647a685205ce542a7e824": {
          "model_module": "@jupyter-widgets/controls",
          "model_name": "DescriptionStyleModel",
          "state": {
            "_view_name": "StyleView",
            "_model_name": "DescriptionStyleModel",
            "description_width": "",
            "_view_module": "@jupyter-widgets/base",
            "_model_module_version": "1.5.0",
            "_view_count": null,
            "_view_module_version": "1.2.0",
            "_model_module": "@jupyter-widgets/controls"
          },
          "model_module_version": "1.5.0"
        },
        "0daab09b5af549e0af8974f0f9871be2": {
          "model_module": "@jupyter-widgets/base",
          "model_name": "LayoutModel",
          "state": {
            "_view_name": "LayoutView",
            "grid_template_rows": null,
            "right": null,
            "justify_content": null,
            "_view_module": "@jupyter-widgets/base",
            "overflow": null,
            "_model_module_version": "1.2.0",
            "_view_count": null,
            "flex_flow": null,
            "width": "5in",
            "min_width": null,
            "border": null,
            "align_items": null,
            "bottom": null,
            "_model_module": "@jupyter-widgets/base",
            "top": null,
            "grid_column": null,
            "overflow_y": null,
            "overflow_x": null,
            "grid_auto_flow": null,
            "grid_area": "center",
            "grid_template_columns": null,
            "flex": null,
            "_model_name": "LayoutModel",
            "justify_items": null,
            "grid_row": null,
            "max_height": null,
            "align_content": null,
            "visibility": null,
            "align_self": null,
            "height": "2in",
            "min_height": null,
            "padding": null,
            "grid_auto_rows": null,
            "grid_gap": null,
            "max_width": null,
            "order": null,
            "_view_module_version": "1.2.0",
            "grid_template_areas": null,
            "object_position": null,
            "object_fit": null,
            "grid_auto_columns": null,
            "margin": null,
            "display": null,
            "left": null
          },
          "model_module_version": "1.2.0"
        },
        "635d65cfde8440cc995cf7cae3fdc173": {
          "model_module": "@jupyter-widgets/controls",
          "model_name": "ButtonModel",
          "state": {
            "_view_name": "ButtonView",
            "style": "IPY_MODEL_432b903eba274b1581b417309075f626",
            "_dom_classes": [],
            "description": "center",
            "_model_name": "ButtonModel",
            "button_style": "",
            "_view_module": "@jupyter-widgets/controls",
            "_model_module_version": "1.5.0",
            "tooltip": "",
            "_view_count": null,
            "disabled": false,
            "_view_module_version": "1.5.0",
            "layout": "IPY_MODEL_fbb2911235864cc08e2e9b19ba95452b",
            "_model_module": "@jupyter-widgets/controls",
            "icon": ""
          },
          "model_module_version": "1.5.0"
        },
        "432b903eba274b1581b417309075f626": {
          "model_module": "@jupyter-widgets/controls",
          "model_name": "ButtonStyleModel",
          "state": {
            "_view_name": "StyleView",
            "_model_name": "ButtonStyleModel",
            "_view_module": "@jupyter-widgets/base",
            "_model_module_version": "1.5.0",
            "_view_count": null,
            "button_color": "green",
            "font_weight": "",
            "_view_module_version": "1.2.0",
            "_model_module": "@jupyter-widgets/controls"
          },
          "model_module_version": "1.5.0"
        },
        "fbb2911235864cc08e2e9b19ba95452b": {
          "model_module": "@jupyter-widgets/base",
          "model_name": "LayoutModel",
          "state": {
            "_view_name": "LayoutView",
            "grid_template_rows": null,
            "right": null,
            "justify_content": null,
            "_view_module": "@jupyter-widgets/base",
            "overflow": null,
            "_model_module_version": "1.2.0",
            "_view_count": null,
            "flex_flow": null,
            "width": "5in",
            "min_width": null,
            "border": null,
            "align_items": null,
            "bottom": null,
            "_model_module": "@jupyter-widgets/base",
            "top": null,
            "grid_column": null,
            "overflow_y": null,
            "overflow_x": null,
            "grid_auto_flow": null,
            "grid_area": "center",
            "grid_template_columns": null,
            "flex": null,
            "_model_name": "LayoutModel",
            "justify_items": null,
            "grid_row": null,
            "max_height": null,
            "align_content": null,
            "visibility": null,
            "align_self": null,
            "height": "2in",
            "min_height": null,
            "padding": null,
            "grid_auto_rows": null,
            "grid_gap": null,
            "max_width": null,
            "order": null,
            "_view_module_version": "1.2.0",
            "grid_template_areas": null,
            "object_position": null,
            "object_fit": null,
            "grid_auto_columns": null,
            "margin": null,
            "display": null,
            "left": null
          },
          "model_module_version": "1.2.0"
        },
        "e0ffc7550f5947469ae93797d237723b": {
          "model_module": "@jupyter-widgets/controls",
          "model_name": "TextModel",
          "state": {
            "_view_name": "TextView",
            "style": "IPY_MODEL_a0f77e7171ac46b4a33d046338bca27d",
            "_dom_classes": [],
            "description": "center",
            "_model_name": "TextModel",
            "placeholder": "​",
            "_view_module": "@jupyter-widgets/controls",
            "_model_module_version": "1.5.0",
            "value": "",
            "_view_count": null,
            "disabled": false,
            "_view_module_version": "1.5.0",
            "continuous_update": true,
            "description_tooltip": null,
            "_model_module": "@jupyter-widgets/controls",
            "layout": "IPY_MODEL_6611db4cc47c4b07afad72671b9ca20b"
          },
          "model_module_version": "1.5.0"
        },
        "a0f77e7171ac46b4a33d046338bca27d": {
          "model_module": "@jupyter-widgets/controls",
          "model_name": "DescriptionStyleModel",
          "state": {
            "_view_name": "StyleView",
            "_model_name": "DescriptionStyleModel",
            "description_width": "",
            "_view_module": "@jupyter-widgets/base",
            "_model_module_version": "1.5.0",
            "_view_count": null,
            "_view_module_version": "1.2.0",
            "_model_module": "@jupyter-widgets/controls"
          },
          "model_module_version": "1.5.0"
        },
        "6611db4cc47c4b07afad72671b9ca20b": {
          "model_module": "@jupyter-widgets/base",
          "model_name": "LayoutModel",
          "state": {
            "_view_name": "LayoutView",
            "grid_template_rows": null,
            "right": null,
            "justify_content": null,
            "_view_module": "@jupyter-widgets/base",
            "overflow": null,
            "_model_module_version": "1.2.0",
            "_view_count": null,
            "flex_flow": null,
            "width": "5in",
            "min_width": null,
            "border": null,
            "align_items": null,
            "bottom": null,
            "_model_module": "@jupyter-widgets/base",
            "top": null,
            "grid_column": null,
            "overflow_y": null,
            "overflow_x": null,
            "grid_auto_flow": null,
            "grid_area": "center",
            "grid_template_columns": null,
            "flex": null,
            "_model_name": "LayoutModel",
            "justify_items": null,
            "grid_row": null,
            "max_height": null,
            "align_content": null,
            "visibility": null,
            "align_self": null,
            "height": "2in",
            "min_height": null,
            "padding": null,
            "grid_auto_rows": null,
            "grid_gap": null,
            "max_width": null,
            "order": null,
            "_view_module_version": "1.2.0",
            "grid_template_areas": null,
            "object_position": null,
            "object_fit": null,
            "grid_auto_columns": null,
            "margin": null,
            "display": null,
            "left": null
          },
          "model_module_version": "1.2.0"
        },
        "1280c65def7a43f0bd66cc30e646bf06": {
          "model_module": "@jupyter-widgets/controls",
          "model_name": "ButtonModel",
          "state": {
            "_view_name": "ButtonView",
            "style": "IPY_MODEL_a25934d3a56e467a8898b99db78a3ddc",
            "_dom_classes": [],
            "description": "center",
            "_model_name": "ButtonModel",
            "button_style": "",
            "_view_module": "@jupyter-widgets/controls",
            "_model_module_version": "1.5.0",
            "tooltip": "",
            "_view_count": null,
            "disabled": false,
            "_view_module_version": "1.5.0",
            "layout": "IPY_MODEL_e0eed117086e4129b8a96f1d8d3bc434",
            "_model_module": "@jupyter-widgets/controls",
            "icon": ""
          },
          "model_module_version": "1.5.0"
        },
        "a25934d3a56e467a8898b99db78a3ddc": {
          "model_module": "@jupyter-widgets/controls",
          "model_name": "ButtonStyleModel",
          "state": {
            "_view_name": "StyleView",
            "_model_name": "ButtonStyleModel",
            "_view_module": "@jupyter-widgets/base",
            "_model_module_version": "1.5.0",
            "_view_count": null,
            "button_color": "green",
            "font_weight": "",
            "_view_module_version": "1.2.0",
            "_model_module": "@jupyter-widgets/controls"
          },
          "model_module_version": "1.5.0"
        },
        "e0eed117086e4129b8a96f1d8d3bc434": {
          "model_module": "@jupyter-widgets/base",
          "model_name": "LayoutModel",
          "state": {
            "_view_name": "LayoutView",
            "grid_template_rows": null,
            "right": null,
            "justify_content": null,
            "_view_module": "@jupyter-widgets/base",
            "overflow": null,
            "_model_module_version": "1.2.0",
            "_view_count": null,
            "flex_flow": null,
            "width": "5in",
            "min_width": null,
            "border": null,
            "align_items": null,
            "bottom": null,
            "_model_module": "@jupyter-widgets/base",
            "top": null,
            "grid_column": null,
            "overflow_y": null,
            "overflow_x": null,
            "grid_auto_flow": null,
            "grid_area": "center",
            "grid_template_columns": null,
            "flex": null,
            "_model_name": "LayoutModel",
            "justify_items": null,
            "grid_row": null,
            "max_height": null,
            "align_content": null,
            "visibility": null,
            "align_self": null,
            "height": "2in",
            "min_height": null,
            "padding": null,
            "grid_auto_rows": null,
            "grid_gap": null,
            "max_width": null,
            "order": null,
            "_view_module_version": "1.2.0",
            "grid_template_areas": null,
            "object_position": null,
            "object_fit": null,
            "grid_auto_columns": null,
            "margin": null,
            "display": null,
            "left": null
          },
          "model_module_version": "1.2.0"
        },
        "3c4de5fd04d2476398dee3f712cf2866": {
          "model_module": "@jupyter-widgets/controls",
          "model_name": "TextModel",
          "state": {
            "_view_name": "TextView",
            "style": "IPY_MODEL_ac0c2e14985647aaa2371bafc6a934c8",
            "_dom_classes": [],
            "description": "center",
            "_model_name": "TextModel",
            "placeholder": "​",
            "_view_module": "@jupyter-widgets/controls",
            "_model_module_version": "1.5.0",
            "value": "",
            "_view_count": null,
            "disabled": false,
            "_view_module_version": "1.5.0",
            "continuous_update": true,
            "description_tooltip": null,
            "_model_module": "@jupyter-widgets/controls",
            "layout": "IPY_MODEL_aa2f88aad3b540c6a7474f4fff274739"
          },
          "model_module_version": "1.5.0"
        },
        "ac0c2e14985647aaa2371bafc6a934c8": {
          "model_module": "@jupyter-widgets/controls",
          "model_name": "DescriptionStyleModel",
          "state": {
            "_view_name": "StyleView",
            "_model_name": "DescriptionStyleModel",
            "description_width": "",
            "_view_module": "@jupyter-widgets/base",
            "_model_module_version": "1.5.0",
            "_view_count": null,
            "_view_module_version": "1.2.0",
            "_model_module": "@jupyter-widgets/controls"
          },
          "model_module_version": "1.5.0"
        },
        "aa2f88aad3b540c6a7474f4fff274739": {
          "model_module": "@jupyter-widgets/base",
          "model_name": "LayoutModel",
          "state": {
            "_view_name": "LayoutView",
            "grid_template_rows": null,
            "right": null,
            "justify_content": null,
            "_view_module": "@jupyter-widgets/base",
            "overflow": null,
            "_model_module_version": "1.2.0",
            "_view_count": null,
            "flex_flow": null,
            "width": "5in",
            "min_width": null,
            "border": null,
            "align_items": null,
            "bottom": null,
            "_model_module": "@jupyter-widgets/base",
            "top": null,
            "grid_column": null,
            "overflow_y": null,
            "overflow_x": null,
            "grid_auto_flow": null,
            "grid_area": "center",
            "grid_template_columns": null,
            "flex": null,
            "_model_name": "LayoutModel",
            "justify_items": null,
            "grid_row": null,
            "max_height": null,
            "align_content": null,
            "visibility": null,
            "align_self": null,
            "height": "2in",
            "min_height": null,
            "padding": null,
            "grid_auto_rows": null,
            "grid_gap": null,
            "max_width": null,
            "order": null,
            "_view_module_version": "1.2.0",
            "grid_template_areas": null,
            "object_position": null,
            "object_fit": null,
            "grid_auto_columns": null,
            "margin": null,
            "display": null,
            "left": null
          },
          "model_module_version": "1.2.0"
        },
        "36dbd2aa367742e3b33fdde3a7793b1b": {
          "model_module": "@jupyter-widgets/controls",
          "model_name": "ButtonModel",
          "state": {
            "_view_name": "ButtonView",
            "style": "IPY_MODEL_87208dccc8fc43389a678e9dd38eff2b",
            "_dom_classes": [],
            "description": "center",
            "_model_name": "ButtonModel",
            "button_style": "",
            "_view_module": "@jupyter-widgets/controls",
            "_model_module_version": "1.5.0",
            "tooltip": "",
            "_view_count": null,
            "disabled": false,
            "_view_module_version": "1.5.0",
            "layout": "IPY_MODEL_fe81a0cfda484396b4f174c47b57a3b5",
            "_model_module": "@jupyter-widgets/controls",
            "icon": ""
          },
          "model_module_version": "1.5.0"
        },
        "87208dccc8fc43389a678e9dd38eff2b": {
          "model_module": "@jupyter-widgets/controls",
          "model_name": "ButtonStyleModel",
          "state": {
            "_view_name": "StyleView",
            "_model_name": "ButtonStyleModel",
            "_view_module": "@jupyter-widgets/base",
            "_model_module_version": "1.5.0",
            "_view_count": null,
            "button_color": "green",
            "font_weight": "",
            "_view_module_version": "1.2.0",
            "_model_module": "@jupyter-widgets/controls"
          },
          "model_module_version": "1.5.0"
        },
        "fe81a0cfda484396b4f174c47b57a3b5": {
          "model_module": "@jupyter-widgets/base",
          "model_name": "LayoutModel",
          "state": {
            "_view_name": "LayoutView",
            "grid_template_rows": null,
            "right": null,
            "justify_content": null,
            "_view_module": "@jupyter-widgets/base",
            "overflow": null,
            "_model_module_version": "1.2.0",
            "_view_count": null,
            "flex_flow": null,
            "width": "5in",
            "min_width": null,
            "border": null,
            "align_items": null,
            "bottom": null,
            "_model_module": "@jupyter-widgets/base",
            "top": null,
            "grid_column": null,
            "overflow_y": null,
            "overflow_x": null,
            "grid_auto_flow": null,
            "grid_area": "center",
            "grid_template_columns": null,
            "flex": null,
            "_model_name": "LayoutModel",
            "justify_items": null,
            "grid_row": null,
            "max_height": null,
            "align_content": null,
            "visibility": null,
            "align_self": null,
            "height": "2in",
            "min_height": null,
            "padding": null,
            "grid_auto_rows": null,
            "grid_gap": null,
            "max_width": null,
            "order": null,
            "_view_module_version": "1.2.0",
            "grid_template_areas": null,
            "object_position": null,
            "object_fit": null,
            "grid_auto_columns": null,
            "margin": null,
            "display": null,
            "left": null
          },
          "model_module_version": "1.2.0"
        },
        "cda3f2dd0c9f4b1fac5aa356c1f9ea50": {
          "model_module": "@jupyter-widgets/controls",
          "model_name": "GridBoxModel",
          "state": {
            "_view_name": "GridBoxView",
            "_dom_classes": [],
            "_model_name": "GridBoxModel",
            "_view_module": "@jupyter-widgets/controls",
            "_model_module_version": "1.5.0",
            "_view_count": null,
            "_view_module_version": "1.5.0",
            "box_style": "",
            "layout": "IPY_MODEL_3e5de1f94d4f4338bf81e94143eea274",
            "_model_module": "@jupyter-widgets/controls",
            "children": [
              "IPY_MODEL_9a4844aa44744ebba8f393280d0ba086",
              "IPY_MODEL_7faf4bcf49434ba39b16879aca13e8c3",
              "IPY_MODEL_e38b3620011241f0811b05353201a936"
            ]
          },
          "model_module_version": "1.5.0"
        },
        "3e5de1f94d4f4338bf81e94143eea274": {
          "model_module": "@jupyter-widgets/base",
          "model_name": "LayoutModel",
          "state": {
            "_view_name": "LayoutView",
            "grid_template_rows": "1fr 3fr",
            "right": null,
            "justify_content": null,
            "_view_module": "@jupyter-widgets/base",
            "overflow": null,
            "_model_module_version": "1.2.0",
            "_view_count": null,
            "flex_flow": null,
            "width": null,
            "min_width": null,
            "border": null,
            "align_items": null,
            "bottom": null,
            "_model_module": "@jupyter-widgets/base",
            "top": null,
            "grid_column": null,
            "overflow_y": null,
            "overflow_x": null,
            "grid_auto_flow": null,
            "grid_area": null,
            "grid_template_columns": "1fr 2fr 1fr",
            "flex": null,
            "_model_name": "LayoutModel",
            "justify_items": null,
            "grid_row": null,
            "max_height": null,
            "align_content": null,
            "visibility": null,
            "align_self": null,
            "height": null,
            "min_height": null,
            "padding": null,
            "grid_auto_rows": null,
            "grid_gap": null,
            "max_width": null,
            "order": null,
            "_view_module_version": "1.2.0",
            "grid_template_areas": "\"header header header\"\n\"left-sidebar center center\"",
            "object_position": null,
            "object_fit": null,
            "grid_auto_columns": null,
            "margin": null,
            "display": null,
            "left": null
          },
          "model_module_version": "1.2.0"
        },
        "9a4844aa44744ebba8f393280d0ba086": {
          "model_module": "@jupyter-widgets/controls",
          "model_name": "ButtonModel",
          "state": {
            "_view_name": "ButtonView",
            "style": "IPY_MODEL_51698fde4f6e4dceac00ea9d6e7b7f06",
            "_dom_classes": [],
            "description": "header (click me)",
            "_model_name": "ButtonModel",
            "button_style": "",
            "_view_module": "@jupyter-widgets/controls",
            "_model_module_version": "1.5.0",
            "tooltip": "",
            "_view_count": null,
            "disabled": false,
            "_view_module_version": "1.5.0",
            "layout": "IPY_MODEL_1ccd5eb4add945a990198be1e36f85e2",
            "_model_module": "@jupyter-widgets/controls",
            "icon": ""
          },
          "model_module_version": "1.5.0"
        },
        "7faf4bcf49434ba39b16879aca13e8c3": {
          "model_module": "@jupyter-widgets/controls",
          "model_name": "ButtonModel",
          "state": {
            "_view_name": "ButtonView",
            "style": "IPY_MODEL_a35f3e87b8154df4be1ba927e6a5ffeb",
            "_dom_classes": [],
            "description": "left",
            "_model_name": "ButtonModel",
            "button_style": "",
            "_view_module": "@jupyter-widgets/controls",
            "_model_module_version": "1.5.0",
            "tooltip": "",
            "_view_count": null,
            "disabled": false,
            "_view_module_version": "1.5.0",
            "layout": "IPY_MODEL_20085d17be7d4b978e81c0bc9791f104",
            "_model_module": "@jupyter-widgets/controls",
            "icon": ""
          },
          "model_module_version": "1.5.0"
        },
        "170cf99b8d4d4fc89bb370b2cc6c9b85": {
          "model_module": "@jupyter-widgets/controls",
          "model_name": "ButtonModel",
          "state": {
            "_view_name": "ButtonView",
            "style": "IPY_MODEL_03c48843db0647f79aa819cf22c9a909",
            "_dom_classes": [],
            "description": "center",
            "_model_name": "ButtonModel",
            "button_style": "",
            "_view_module": "@jupyter-widgets/controls",
            "_model_module_version": "1.5.0",
            "tooltip": "",
            "_view_count": null,
            "disabled": false,
            "_view_module_version": "1.5.0",
            "layout": "IPY_MODEL_a2e5cb2b974f43a9842b71621b66ea18",
            "_model_module": "@jupyter-widgets/controls",
            "icon": ""
          },
          "model_module_version": "1.5.0"
        },
        "51698fde4f6e4dceac00ea9d6e7b7f06": {
          "model_module": "@jupyter-widgets/controls",
          "model_name": "ButtonStyleModel",
          "state": {
            "_view_name": "StyleView",
            "_model_name": "ButtonStyleModel",
            "_view_module": "@jupyter-widgets/base",
            "_model_module_version": "1.5.0",
            "_view_count": null,
            "button_color": "blue",
            "font_weight": "",
            "_view_module_version": "1.2.0",
            "_model_module": "@jupyter-widgets/controls"
          },
          "model_module_version": "1.5.0"
        },
        "1ccd5eb4add945a990198be1e36f85e2": {
          "model_module": "@jupyter-widgets/base",
          "model_name": "LayoutModel",
          "state": {
            "_view_name": "LayoutView",
            "grid_template_rows": null,
            "right": null,
            "justify_content": null,
            "_view_module": "@jupyter-widgets/base",
            "overflow": null,
            "_model_module_version": "1.2.0",
            "_view_count": null,
            "flex_flow": null,
            "width": "100%",
            "min_width": null,
            "border": null,
            "align_items": null,
            "bottom": null,
            "_model_module": "@jupyter-widgets/base",
            "top": null,
            "grid_column": null,
            "overflow_y": null,
            "overflow_x": null,
            "grid_auto_flow": null,
            "grid_area": "header",
            "grid_template_columns": null,
            "flex": null,
            "_model_name": "LayoutModel",
            "justify_items": null,
            "grid_row": null,
            "max_height": null,
            "align_content": null,
            "visibility": null,
            "align_self": null,
            "height": null,
            "min_height": null,
            "padding": null,
            "grid_auto_rows": null,
            "grid_gap": null,
            "max_width": null,
            "order": null,
            "_view_module_version": "1.2.0",
            "grid_template_areas": null,
            "object_position": null,
            "object_fit": null,
            "grid_auto_columns": null,
            "margin": null,
            "display": null,
            "left": null
          },
          "model_module_version": "1.2.0"
        },
        "a35f3e87b8154df4be1ba927e6a5ffeb": {
          "model_module": "@jupyter-widgets/controls",
          "model_name": "ButtonStyleModel",
          "state": {
            "_view_name": "StyleView",
            "_model_name": "ButtonStyleModel",
            "_view_module": "@jupyter-widgets/base",
            "_model_module_version": "1.5.0",
            "_view_count": null,
            "button_color": "red",
            "font_weight": "",
            "_view_module_version": "1.2.0",
            "_model_module": "@jupyter-widgets/controls"
          },
          "model_module_version": "1.5.0"
        },
        "20085d17be7d4b978e81c0bc9791f104": {
          "model_module": "@jupyter-widgets/base",
          "model_name": "LayoutModel",
          "state": {
            "_view_name": "LayoutView",
            "grid_template_rows": null,
            "right": null,
            "justify_content": null,
            "_view_module": "@jupyter-widgets/base",
            "overflow": null,
            "_model_module_version": "1.2.0",
            "_view_count": null,
            "flex_flow": null,
            "width": "2in",
            "min_width": null,
            "border": null,
            "align_items": null,
            "bottom": null,
            "_model_module": "@jupyter-widgets/base",
            "top": null,
            "grid_column": null,
            "overflow_y": null,
            "overflow_x": null,
            "grid_auto_flow": null,
            "grid_area": "left-sidebar",
            "grid_template_columns": null,
            "flex": null,
            "_model_name": "LayoutModel",
            "justify_items": null,
            "grid_row": null,
            "max_height": null,
            "align_content": null,
            "visibility": null,
            "align_self": null,
            "height": "100%",
            "min_height": null,
            "padding": null,
            "grid_auto_rows": null,
            "grid_gap": null,
            "max_width": null,
            "order": null,
            "_view_module_version": "1.2.0",
            "grid_template_areas": null,
            "object_position": null,
            "object_fit": null,
            "grid_auto_columns": null,
            "margin": null,
            "display": null,
            "left": null
          },
          "model_module_version": "1.2.0"
        },
        "03c48843db0647f79aa819cf22c9a909": {
          "model_module": "@jupyter-widgets/controls",
          "model_name": "ButtonStyleModel",
          "state": {
            "_view_name": "StyleView",
            "_model_name": "ButtonStyleModel",
            "_view_module": "@jupyter-widgets/base",
            "_model_module_version": "1.5.0",
            "_view_count": null,
            "button_color": "yellow",
            "font_weight": "",
            "_view_module_version": "1.2.0",
            "_model_module": "@jupyter-widgets/controls"
          },
          "model_module_version": "1.5.0"
        },
        "a2e5cb2b974f43a9842b71621b66ea18": {
          "model_module": "@jupyter-widgets/base",
          "model_name": "LayoutModel",
          "state": {
            "_view_name": "LayoutView",
            "grid_template_rows": null,
            "right": null,
            "justify_content": null,
            "_view_module": "@jupyter-widgets/base",
            "overflow": null,
            "_model_module_version": "1.2.0",
            "_view_count": null,
            "flex_flow": null,
            "width": "100%",
            "min_width": null,
            "border": null,
            "align_items": null,
            "bottom": null,
            "_model_module": "@jupyter-widgets/base",
            "top": null,
            "grid_column": null,
            "overflow_y": null,
            "overflow_x": null,
            "grid_auto_flow": null,
            "grid_area": "center",
            "grid_template_columns": null,
            "flex": null,
            "_model_name": "LayoutModel",
            "justify_items": null,
            "grid_row": null,
            "max_height": null,
            "align_content": null,
            "visibility": null,
            "align_self": null,
            "height": "100%",
            "min_height": null,
            "padding": null,
            "grid_auto_rows": null,
            "grid_gap": null,
            "max_width": null,
            "order": null,
            "_view_module_version": "1.2.0",
            "grid_template_areas": null,
            "object_position": null,
            "object_fit": null,
            "grid_auto_columns": null,
            "margin": null,
            "display": null,
            "left": null
          },
          "model_module_version": "1.2.0"
        },
        "02259267fce843ceb76a98bfc8da5ebd": {
          "model_module": "@jupyter-widgets/controls",
          "model_name": "ButtonModel",
          "state": {
            "_view_name": "ButtonView",
            "style": "IPY_MODEL_336415db1e3a40e1ab8508ff5d9091c4",
            "_dom_classes": [],
            "description": "center",
            "_model_name": "ButtonModel",
            "button_style": "",
            "_view_module": "@jupyter-widgets/controls",
            "_model_module_version": "1.5.0",
            "tooltip": "",
            "_view_count": null,
            "disabled": false,
            "_view_module_version": "1.5.0",
            "layout": "IPY_MODEL_f3f258ac91024afea25c70586ba62c16",
            "_model_module": "@jupyter-widgets/controls",
            "icon": ""
          },
          "model_module_version": "1.5.0"
        },
        "336415db1e3a40e1ab8508ff5d9091c4": {
          "model_module": "@jupyter-widgets/controls",
          "model_name": "ButtonStyleModel",
          "state": {
            "_view_name": "StyleView",
            "_model_name": "ButtonStyleModel",
            "_view_module": "@jupyter-widgets/base",
            "_model_module_version": "1.5.0",
            "_view_count": null,
            "button_color": "green",
            "font_weight": "",
            "_view_module_version": "1.2.0",
            "_model_module": "@jupyter-widgets/controls"
          },
          "model_module_version": "1.5.0"
        },
        "f3f258ac91024afea25c70586ba62c16": {
          "model_module": "@jupyter-widgets/base",
          "model_name": "LayoutModel",
          "state": {
            "_view_name": "LayoutView",
            "grid_template_rows": null,
            "right": null,
            "justify_content": null,
            "_view_module": "@jupyter-widgets/base",
            "overflow": null,
            "_model_module_version": "1.2.0",
            "_view_count": null,
            "flex_flow": null,
            "width": "100%",
            "min_width": null,
            "border": null,
            "align_items": null,
            "bottom": null,
            "_model_module": "@jupyter-widgets/base",
            "top": null,
            "grid_column": null,
            "overflow_y": null,
            "overflow_x": null,
            "grid_auto_flow": null,
            "grid_area": "center",
            "grid_template_columns": null,
            "flex": null,
            "_model_name": "LayoutModel",
            "justify_items": null,
            "grid_row": null,
            "max_height": null,
            "align_content": null,
            "visibility": null,
            "align_self": null,
            "height": "100%",
            "min_height": null,
            "padding": null,
            "grid_auto_rows": null,
            "grid_gap": null,
            "max_width": null,
            "order": null,
            "_view_module_version": "1.2.0",
            "grid_template_areas": null,
            "object_position": null,
            "object_fit": null,
            "grid_auto_columns": null,
            "margin": null,
            "display": null,
            "left": null
          },
          "model_module_version": "1.2.0"
        },
        "6d377b02b4cc42e89965ff5b54c2f39b": {
          "model_module": "@jupyter-widgets/controls",
          "model_name": "ButtonModel",
          "state": {
            "_view_name": "ButtonView",
            "style": "IPY_MODEL_e1e44ba0746c40eeaefed7f992d8c3fb",
            "_dom_classes": [],
            "description": "center",
            "_model_name": "ButtonModel",
            "button_style": "",
            "_view_module": "@jupyter-widgets/controls",
            "_model_module_version": "1.5.0",
            "tooltip": "",
            "_view_count": null,
            "disabled": false,
            "_view_module_version": "1.5.0",
            "layout": "IPY_MODEL_51839ef6a28942f9af0f735ac801aad2",
            "_model_module": "@jupyter-widgets/controls",
            "icon": ""
          },
          "model_module_version": "1.5.0"
        },
        "e1e44ba0746c40eeaefed7f992d8c3fb": {
          "model_module": "@jupyter-widgets/controls",
          "model_name": "ButtonStyleModel",
          "state": {
            "_view_name": "StyleView",
            "_model_name": "ButtonStyleModel",
            "_view_module": "@jupyter-widgets/base",
            "_model_module_version": "1.5.0",
            "_view_count": null,
            "button_color": "yellow",
            "font_weight": "",
            "_view_module_version": "1.2.0",
            "_model_module": "@jupyter-widgets/controls"
          },
          "model_module_version": "1.5.0"
        },
        "51839ef6a28942f9af0f735ac801aad2": {
          "model_module": "@jupyter-widgets/base",
          "model_name": "LayoutModel",
          "state": {
            "_view_name": "LayoutView",
            "grid_template_rows": null,
            "right": null,
            "justify_content": null,
            "_view_module": "@jupyter-widgets/base",
            "overflow": null,
            "_model_module_version": "1.2.0",
            "_view_count": null,
            "flex_flow": null,
            "width": "100%",
            "min_width": null,
            "border": null,
            "align_items": null,
            "bottom": null,
            "_model_module": "@jupyter-widgets/base",
            "top": null,
            "grid_column": null,
            "overflow_y": null,
            "overflow_x": null,
            "grid_auto_flow": null,
            "grid_area": "center",
            "grid_template_columns": null,
            "flex": null,
            "_model_name": "LayoutModel",
            "justify_items": null,
            "grid_row": null,
            "max_height": null,
            "align_content": null,
            "visibility": null,
            "align_self": null,
            "height": "100%",
            "min_height": null,
            "padding": null,
            "grid_auto_rows": null,
            "grid_gap": null,
            "max_width": null,
            "order": null,
            "_view_module_version": "1.2.0",
            "grid_template_areas": null,
            "object_position": null,
            "object_fit": null,
            "grid_auto_columns": null,
            "margin": null,
            "display": null,
            "left": null
          },
          "model_module_version": "1.2.0"
        },
        "e38b3620011241f0811b05353201a936": {
          "model_module": "@jupyter-widgets/controls",
          "model_name": "ButtonModel",
          "state": {
            "_view_name": "ButtonView",
            "style": "IPY_MODEL_9492d963f31c4c66a66a468566cae61e",
            "_dom_classes": [],
            "description": "center",
            "_model_name": "ButtonModel",
            "button_style": "",
            "_view_module": "@jupyter-widgets/controls",
            "_model_module_version": "1.5.0",
            "tooltip": "",
            "_view_count": null,
            "disabled": false,
            "_view_module_version": "1.5.0",
            "layout": "IPY_MODEL_259ef30402744cc4ba28091ab5329c55",
            "_model_module": "@jupyter-widgets/controls",
            "icon": ""
          },
          "model_module_version": "1.5.0"
        },
        "9492d963f31c4c66a66a468566cae61e": {
          "model_module": "@jupyter-widgets/controls",
          "model_name": "ButtonStyleModel",
          "state": {
            "_view_name": "StyleView",
            "_model_name": "ButtonStyleModel",
            "_view_module": "@jupyter-widgets/base",
            "_model_module_version": "1.5.0",
            "_view_count": null,
            "button_color": "green",
            "font_weight": "",
            "_view_module_version": "1.2.0",
            "_model_module": "@jupyter-widgets/controls"
          },
          "model_module_version": "1.5.0"
        },
        "259ef30402744cc4ba28091ab5329c55": {
          "model_module": "@jupyter-widgets/base",
          "model_name": "LayoutModel",
          "state": {
            "_view_name": "LayoutView",
            "grid_template_rows": null,
            "right": null,
            "justify_content": null,
            "_view_module": "@jupyter-widgets/base",
            "overflow": null,
            "_model_module_version": "1.2.0",
            "_view_count": null,
            "flex_flow": null,
            "width": "100%",
            "min_width": null,
            "border": null,
            "align_items": null,
            "bottom": null,
            "_model_module": "@jupyter-widgets/base",
            "top": null,
            "grid_column": null,
            "overflow_y": null,
            "overflow_x": null,
            "grid_auto_flow": null,
            "grid_area": "center",
            "grid_template_columns": null,
            "flex": null,
            "_model_name": "LayoutModel",
            "justify_items": null,
            "grid_row": null,
            "max_height": null,
            "align_content": null,
            "visibility": null,
            "align_self": null,
            "height": "100%",
            "min_height": null,
            "padding": null,
            "grid_auto_rows": null,
            "grid_gap": null,
            "max_width": null,
            "order": null,
            "_view_module_version": "1.2.0",
            "grid_template_areas": null,
            "object_position": null,
            "object_fit": null,
            "grid_auto_columns": null,
            "margin": null,
            "display": null,
            "left": null
          },
          "model_module_version": "1.2.0"
        },
        "dd0a6dc4d4e145269c5530663d6ab03c": {
          "model_module": "@jupyter-widgets/controls",
          "model_name": "GridBoxModel",
          "state": {
            "_view_name": "GridBoxView",
            "_dom_classes": [],
            "_model_name": "GridBoxModel",
            "_view_module": "@jupyter-widgets/controls",
            "_model_module_version": "1.5.0",
            "_view_count": null,
            "_view_module_version": "1.5.0",
            "box_style": "",
            "layout": "IPY_MODEL_0acff6dda5554df4abca1cfee8166d0e",
            "_model_module": "@jupyter-widgets/controls",
            "children": [
              "IPY_MODEL_b7f13955eb3f4da0af3bc9a250504a46",
              "IPY_MODEL_50472429d3804a1fadc1eadc0b000a97",
              "IPY_MODEL_55af104b21e041a48716852353a8929f",
              "IPY_MODEL_6cc7bcb4c1d140b7a9d15b20ca552723",
              "IPY_MODEL_c9ff89d2c43b4403a2ebbec5c5e65669",
              "IPY_MODEL_2f09a7ef012d4529a980e436643ec9ae",
              "IPY_MODEL_0a16d9d1bcc14e5baecf9b21d42c7f15",
              "IPY_MODEL_2cd93a7b3eb24f39a104b7d549251eaf",
              "IPY_MODEL_eabbc76882e64e0ea590052c29607aa7"
            ]
          },
          "model_module_version": "1.5.0"
        },
        "0acff6dda5554df4abca1cfee8166d0e": {
          "model_module": "@jupyter-widgets/base",
          "model_name": "LayoutModel",
          "state": {
            "_view_name": "LayoutView",
            "grid_template_rows": "repeat(3, 1fr)",
            "right": null,
            "justify_content": null,
            "_view_module": "@jupyter-widgets/base",
            "overflow": null,
            "_model_module_version": "1.2.0",
            "_view_count": null,
            "flex_flow": null,
            "width": "3.1in",
            "min_width": null,
            "border": null,
            "align_items": null,
            "bottom": null,
            "_model_module": "@jupyter-widgets/base",
            "top": null,
            "grid_column": null,
            "overflow_y": null,
            "overflow_x": null,
            "grid_auto_flow": null,
            "grid_area": null,
            "grid_template_columns": "repeat(3, 1fr)",
            "flex": null,
            "_model_name": "LayoutModel",
            "justify_items": null,
            "grid_row": null,
            "max_height": null,
            "align_content": null,
            "visibility": null,
            "align_self": null,
            "height": null,
            "min_height": null,
            "padding": null,
            "grid_auto_rows": null,
            "grid_gap": null,
            "max_width": null,
            "order": null,
            "_view_module_version": "1.2.0",
            "grid_template_areas": "\"widget001 widget002 widget003\"\n\"widget004 widget005 widget006\"\n\"widget007 widget008 widget009\"",
            "object_position": null,
            "object_fit": null,
            "grid_auto_columns": null,
            "margin": null,
            "display": null,
            "left": null
          },
          "model_module_version": "1.2.0"
        },
        "b7f13955eb3f4da0af3bc9a250504a46": {
          "model_module": "@jupyter-widgets/controls",
          "model_name": "ButtonModel",
          "state": {
            "_view_name": "ButtonView",
            "style": "IPY_MODEL_85dc5c619aca44e3833e43b8d7b36e2d",
            "_dom_classes": [],
            "description": "(0,0)",
            "_model_name": "ButtonModel",
            "button_style": "",
            "_view_module": "@jupyter-widgets/controls",
            "_model_module_version": "1.5.0",
            "tooltip": "",
            "_view_count": null,
            "disabled": false,
            "_view_module_version": "1.5.0",
            "layout": "IPY_MODEL_51348a736ff64354a9fb111b75e9bd57",
            "_model_module": "@jupyter-widgets/controls",
            "icon": ""
          },
          "model_module_version": "1.5.0"
        },
        "50472429d3804a1fadc1eadc0b000a97": {
          "model_module": "@jupyter-widgets/controls",
          "model_name": "ButtonModel",
          "state": {
            "_view_name": "ButtonView",
            "style": "IPY_MODEL_40e4924cc3ac4297a5a31bd35bba5d29",
            "_dom_classes": [],
            "description": "(0,1)",
            "_model_name": "ButtonModel",
            "button_style": "",
            "_view_module": "@jupyter-widgets/controls",
            "_model_module_version": "1.5.0",
            "tooltip": "",
            "_view_count": null,
            "disabled": false,
            "_view_module_version": "1.5.0",
            "layout": "IPY_MODEL_bc33d886a35343fd892b88da8ec35f5b",
            "_model_module": "@jupyter-widgets/controls",
            "icon": ""
          },
          "model_module_version": "1.5.0"
        },
        "55af104b21e041a48716852353a8929f": {
          "model_module": "@jupyter-widgets/controls",
          "model_name": "ButtonModel",
          "state": {
            "_view_name": "ButtonView",
            "style": "IPY_MODEL_87594d40d0384678a4b46d7d9b89e6e4",
            "_dom_classes": [],
            "description": "(0,2)",
            "_model_name": "ButtonModel",
            "button_style": "",
            "_view_module": "@jupyter-widgets/controls",
            "_model_module_version": "1.5.0",
            "tooltip": "",
            "_view_count": null,
            "disabled": false,
            "_view_module_version": "1.5.0",
            "layout": "IPY_MODEL_2b2e50d3adcd4abeb9919d3f43519d91",
            "_model_module": "@jupyter-widgets/controls",
            "icon": ""
          },
          "model_module_version": "1.5.0"
        },
        "6cc7bcb4c1d140b7a9d15b20ca552723": {
          "model_module": "@jupyter-widgets/controls",
          "model_name": "ButtonModel",
          "state": {
            "_view_name": "ButtonView",
            "style": "IPY_MODEL_f8217d17812a4aa598785d424c14dae9",
            "_dom_classes": [],
            "description": "(1,0)",
            "_model_name": "ButtonModel",
            "button_style": "",
            "_view_module": "@jupyter-widgets/controls",
            "_model_module_version": "1.5.0",
            "tooltip": "",
            "_view_count": null,
            "disabled": false,
            "_view_module_version": "1.5.0",
            "layout": "IPY_MODEL_e5178ed112b946079534d7fab51d639e",
            "_model_module": "@jupyter-widgets/controls",
            "icon": ""
          },
          "model_module_version": "1.5.0"
        },
        "c9ff89d2c43b4403a2ebbec5c5e65669": {
          "model_module": "@jupyter-widgets/controls",
          "model_name": "ButtonModel",
          "state": {
            "_view_name": "ButtonView",
            "style": "IPY_MODEL_8bef544796b94fdca5b6a8a76f573687",
            "_dom_classes": [],
            "description": "(1,1)",
            "_model_name": "ButtonModel",
            "button_style": "",
            "_view_module": "@jupyter-widgets/controls",
            "_model_module_version": "1.5.0",
            "tooltip": "",
            "_view_count": null,
            "disabled": false,
            "_view_module_version": "1.5.0",
            "layout": "IPY_MODEL_00526b1882be4410a9d7a463af3e6aaa",
            "_model_module": "@jupyter-widgets/controls",
            "icon": ""
          },
          "model_module_version": "1.5.0"
        },
        "2f09a7ef012d4529a980e436643ec9ae": {
          "model_module": "@jupyter-widgets/controls",
          "model_name": "ButtonModel",
          "state": {
            "_view_name": "ButtonView",
            "style": "IPY_MODEL_893e701668ba4099bdf26e572fd67b42",
            "_dom_classes": [],
            "description": "(1,2)",
            "_model_name": "ButtonModel",
            "button_style": "",
            "_view_module": "@jupyter-widgets/controls",
            "_model_module_version": "1.5.0",
            "tooltip": "",
            "_view_count": null,
            "disabled": false,
            "_view_module_version": "1.5.0",
            "layout": "IPY_MODEL_30b91690d71f4ec789314cb9a3c98578",
            "_model_module": "@jupyter-widgets/controls",
            "icon": ""
          },
          "model_module_version": "1.5.0"
        },
        "0a16d9d1bcc14e5baecf9b21d42c7f15": {
          "model_module": "@jupyter-widgets/controls",
          "model_name": "ButtonModel",
          "state": {
            "_view_name": "ButtonView",
            "style": "IPY_MODEL_8207045d12f8499b99e481119215c003",
            "_dom_classes": [],
            "description": "(2,0)",
            "_model_name": "ButtonModel",
            "button_style": "",
            "_view_module": "@jupyter-widgets/controls",
            "_model_module_version": "1.5.0",
            "tooltip": "",
            "_view_count": null,
            "disabled": false,
            "_view_module_version": "1.5.0",
            "layout": "IPY_MODEL_64f0202cd1414226bed069cc8631851f",
            "_model_module": "@jupyter-widgets/controls",
            "icon": ""
          },
          "model_module_version": "1.5.0"
        },
        "2cd93a7b3eb24f39a104b7d549251eaf": {
          "model_module": "@jupyter-widgets/controls",
          "model_name": "ButtonModel",
          "state": {
            "_view_name": "ButtonView",
            "style": "IPY_MODEL_d2b58b713317423cb5cef3206e9a7920",
            "_dom_classes": [],
            "description": "(2,1)",
            "_model_name": "ButtonModel",
            "button_style": "",
            "_view_module": "@jupyter-widgets/controls",
            "_model_module_version": "1.5.0",
            "tooltip": "",
            "_view_count": null,
            "disabled": false,
            "_view_module_version": "1.5.0",
            "layout": "IPY_MODEL_fabeba91ed9d42c092ca5cfbff5d80f3",
            "_model_module": "@jupyter-widgets/controls",
            "icon": ""
          },
          "model_module_version": "1.5.0"
        },
        "eabbc76882e64e0ea590052c29607aa7": {
          "model_module": "@jupyter-widgets/controls",
          "model_name": "ButtonModel",
          "state": {
            "_view_name": "ButtonView",
            "style": "IPY_MODEL_136af379bc9f451481405fb7429895c4",
            "_dom_classes": [],
            "description": "(2,2)",
            "_model_name": "ButtonModel",
            "button_style": "",
            "_view_module": "@jupyter-widgets/controls",
            "_model_module_version": "1.5.0",
            "tooltip": "",
            "_view_count": null,
            "disabled": false,
            "_view_module_version": "1.5.0",
            "layout": "IPY_MODEL_516bb011da0b428c9b50342e3efc02e5",
            "_model_module": "@jupyter-widgets/controls",
            "icon": ""
          },
          "model_module_version": "1.5.0"
        },
        "85dc5c619aca44e3833e43b8d7b36e2d": {
          "model_module": "@jupyter-widgets/controls",
          "model_name": "ButtonStyleModel",
          "state": {
            "_view_name": "StyleView",
            "_model_name": "ButtonStyleModel",
            "_view_module": "@jupyter-widgets/base",
            "_model_module_version": "1.5.0",
            "_view_count": null,
            "button_color": null,
            "font_weight": "",
            "_view_module_version": "1.2.0",
            "_model_module": "@jupyter-widgets/controls"
          },
          "model_module_version": "1.5.0"
        },
        "51348a736ff64354a9fb111b75e9bd57": {
          "model_module": "@jupyter-widgets/base",
          "model_name": "LayoutModel",
          "state": {
            "_view_name": "LayoutView",
            "grid_template_rows": null,
            "right": null,
            "justify_content": null,
            "_view_module": "@jupyter-widgets/base",
            "overflow": null,
            "_model_module_version": "1.2.0",
            "_view_count": null,
            "flex_flow": null,
            "width": "1in",
            "min_width": null,
            "border": null,
            "align_items": null,
            "bottom": null,
            "_model_module": "@jupyter-widgets/base",
            "top": null,
            "grid_column": null,
            "overflow_y": null,
            "overflow_x": null,
            "grid_auto_flow": null,
            "grid_area": "widget001",
            "grid_template_columns": null,
            "flex": null,
            "_model_name": "LayoutModel",
            "justify_items": null,
            "grid_row": null,
            "max_height": null,
            "align_content": null,
            "visibility": null,
            "align_self": null,
            "height": "1in",
            "min_height": null,
            "padding": null,
            "grid_auto_rows": null,
            "grid_gap": null,
            "max_width": null,
            "order": null,
            "_view_module_version": "1.2.0",
            "grid_template_areas": null,
            "object_position": null,
            "object_fit": null,
            "grid_auto_columns": null,
            "margin": null,
            "display": null,
            "left": null
          },
          "model_module_version": "1.2.0"
        },
        "40e4924cc3ac4297a5a31bd35bba5d29": {
          "model_module": "@jupyter-widgets/controls",
          "model_name": "ButtonStyleModel",
          "state": {
            "_view_name": "StyleView",
            "_model_name": "ButtonStyleModel",
            "_view_module": "@jupyter-widgets/base",
            "_model_module_version": "1.5.0",
            "_view_count": null,
            "button_color": null,
            "font_weight": "",
            "_view_module_version": "1.2.0",
            "_model_module": "@jupyter-widgets/controls"
          },
          "model_module_version": "1.5.0"
        },
        "bc33d886a35343fd892b88da8ec35f5b": {
          "model_module": "@jupyter-widgets/base",
          "model_name": "LayoutModel",
          "state": {
            "_view_name": "LayoutView",
            "grid_template_rows": null,
            "right": null,
            "justify_content": null,
            "_view_module": "@jupyter-widgets/base",
            "overflow": null,
            "_model_module_version": "1.2.0",
            "_view_count": null,
            "flex_flow": null,
            "width": "1in",
            "min_width": null,
            "border": null,
            "align_items": null,
            "bottom": null,
            "_model_module": "@jupyter-widgets/base",
            "top": null,
            "grid_column": null,
            "overflow_y": null,
            "overflow_x": null,
            "grid_auto_flow": null,
            "grid_area": "widget002",
            "grid_template_columns": null,
            "flex": null,
            "_model_name": "LayoutModel",
            "justify_items": null,
            "grid_row": null,
            "max_height": null,
            "align_content": null,
            "visibility": null,
            "align_self": null,
            "height": "1in",
            "min_height": null,
            "padding": null,
            "grid_auto_rows": null,
            "grid_gap": null,
            "max_width": null,
            "order": null,
            "_view_module_version": "1.2.0",
            "grid_template_areas": null,
            "object_position": null,
            "object_fit": null,
            "grid_auto_columns": null,
            "margin": null,
            "display": null,
            "left": null
          },
          "model_module_version": "1.2.0"
        },
        "87594d40d0384678a4b46d7d9b89e6e4": {
          "model_module": "@jupyter-widgets/controls",
          "model_name": "ButtonStyleModel",
          "state": {
            "_view_name": "StyleView",
            "_model_name": "ButtonStyleModel",
            "_view_module": "@jupyter-widgets/base",
            "_model_module_version": "1.5.0",
            "_view_count": null,
            "button_color": null,
            "font_weight": "",
            "_view_module_version": "1.2.0",
            "_model_module": "@jupyter-widgets/controls"
          },
          "model_module_version": "1.5.0"
        },
        "2b2e50d3adcd4abeb9919d3f43519d91": {
          "model_module": "@jupyter-widgets/base",
          "model_name": "LayoutModel",
          "state": {
            "_view_name": "LayoutView",
            "grid_template_rows": null,
            "right": null,
            "justify_content": null,
            "_view_module": "@jupyter-widgets/base",
            "overflow": null,
            "_model_module_version": "1.2.0",
            "_view_count": null,
            "flex_flow": null,
            "width": "1in",
            "min_width": null,
            "border": null,
            "align_items": null,
            "bottom": null,
            "_model_module": "@jupyter-widgets/base",
            "top": null,
            "grid_column": null,
            "overflow_y": null,
            "overflow_x": null,
            "grid_auto_flow": null,
            "grid_area": "widget003",
            "grid_template_columns": null,
            "flex": null,
            "_model_name": "LayoutModel",
            "justify_items": null,
            "grid_row": null,
            "max_height": null,
            "align_content": null,
            "visibility": null,
            "align_self": null,
            "height": "1in",
            "min_height": null,
            "padding": null,
            "grid_auto_rows": null,
            "grid_gap": null,
            "max_width": null,
            "order": null,
            "_view_module_version": "1.2.0",
            "grid_template_areas": null,
            "object_position": null,
            "object_fit": null,
            "grid_auto_columns": null,
            "margin": null,
            "display": null,
            "left": null
          },
          "model_module_version": "1.2.0"
        },
        "f8217d17812a4aa598785d424c14dae9": {
          "model_module": "@jupyter-widgets/controls",
          "model_name": "ButtonStyleModel",
          "state": {
            "_view_name": "StyleView",
            "_model_name": "ButtonStyleModel",
            "_view_module": "@jupyter-widgets/base",
            "_model_module_version": "1.5.0",
            "_view_count": null,
            "button_color": null,
            "font_weight": "",
            "_view_module_version": "1.2.0",
            "_model_module": "@jupyter-widgets/controls"
          },
          "model_module_version": "1.5.0"
        },
        "e5178ed112b946079534d7fab51d639e": {
          "model_module": "@jupyter-widgets/base",
          "model_name": "LayoutModel",
          "state": {
            "_view_name": "LayoutView",
            "grid_template_rows": null,
            "right": null,
            "justify_content": null,
            "_view_module": "@jupyter-widgets/base",
            "overflow": null,
            "_model_module_version": "1.2.0",
            "_view_count": null,
            "flex_flow": null,
            "width": "1in",
            "min_width": null,
            "border": null,
            "align_items": null,
            "bottom": null,
            "_model_module": "@jupyter-widgets/base",
            "top": null,
            "grid_column": null,
            "overflow_y": null,
            "overflow_x": null,
            "grid_auto_flow": null,
            "grid_area": "widget004",
            "grid_template_columns": null,
            "flex": null,
            "_model_name": "LayoutModel",
            "justify_items": null,
            "grid_row": null,
            "max_height": null,
            "align_content": null,
            "visibility": null,
            "align_self": null,
            "height": "1in",
            "min_height": null,
            "padding": null,
            "grid_auto_rows": null,
            "grid_gap": null,
            "max_width": null,
            "order": null,
            "_view_module_version": "1.2.0",
            "grid_template_areas": null,
            "object_position": null,
            "object_fit": null,
            "grid_auto_columns": null,
            "margin": null,
            "display": null,
            "left": null
          },
          "model_module_version": "1.2.0"
        },
        "8bef544796b94fdca5b6a8a76f573687": {
          "model_module": "@jupyter-widgets/controls",
          "model_name": "ButtonStyleModel",
          "state": {
            "_view_name": "StyleView",
            "_model_name": "ButtonStyleModel",
            "_view_module": "@jupyter-widgets/base",
            "_model_module_version": "1.5.0",
            "_view_count": null,
            "button_color": null,
            "font_weight": "",
            "_view_module_version": "1.2.0",
            "_model_module": "@jupyter-widgets/controls"
          },
          "model_module_version": "1.5.0"
        },
        "00526b1882be4410a9d7a463af3e6aaa": {
          "model_module": "@jupyter-widgets/base",
          "model_name": "LayoutModel",
          "state": {
            "_view_name": "LayoutView",
            "grid_template_rows": null,
            "right": null,
            "justify_content": null,
            "_view_module": "@jupyter-widgets/base",
            "overflow": null,
            "_model_module_version": "1.2.0",
            "_view_count": null,
            "flex_flow": null,
            "width": "1in",
            "min_width": null,
            "border": null,
            "align_items": null,
            "bottom": null,
            "_model_module": "@jupyter-widgets/base",
            "top": null,
            "grid_column": null,
            "overflow_y": null,
            "overflow_x": null,
            "grid_auto_flow": null,
            "grid_area": "widget005",
            "grid_template_columns": null,
            "flex": null,
            "_model_name": "LayoutModel",
            "justify_items": null,
            "grid_row": null,
            "max_height": null,
            "align_content": null,
            "visibility": null,
            "align_self": null,
            "height": "1in",
            "min_height": null,
            "padding": null,
            "grid_auto_rows": null,
            "grid_gap": null,
            "max_width": null,
            "order": null,
            "_view_module_version": "1.2.0",
            "grid_template_areas": null,
            "object_position": null,
            "object_fit": null,
            "grid_auto_columns": null,
            "margin": null,
            "display": null,
            "left": null
          },
          "model_module_version": "1.2.0"
        },
        "893e701668ba4099bdf26e572fd67b42": {
          "model_module": "@jupyter-widgets/controls",
          "model_name": "ButtonStyleModel",
          "state": {
            "_view_name": "StyleView",
            "_model_name": "ButtonStyleModel",
            "_view_module": "@jupyter-widgets/base",
            "_model_module_version": "1.5.0",
            "_view_count": null,
            "button_color": null,
            "font_weight": "",
            "_view_module_version": "1.2.0",
            "_model_module": "@jupyter-widgets/controls"
          },
          "model_module_version": "1.5.0"
        },
        "30b91690d71f4ec789314cb9a3c98578": {
          "model_module": "@jupyter-widgets/base",
          "model_name": "LayoutModel",
          "state": {
            "_view_name": "LayoutView",
            "grid_template_rows": null,
            "right": null,
            "justify_content": null,
            "_view_module": "@jupyter-widgets/base",
            "overflow": null,
            "_model_module_version": "1.2.0",
            "_view_count": null,
            "flex_flow": null,
            "width": "1in",
            "min_width": null,
            "border": null,
            "align_items": null,
            "bottom": null,
            "_model_module": "@jupyter-widgets/base",
            "top": null,
            "grid_column": null,
            "overflow_y": null,
            "overflow_x": null,
            "grid_auto_flow": null,
            "grid_area": "widget006",
            "grid_template_columns": null,
            "flex": null,
            "_model_name": "LayoutModel",
            "justify_items": null,
            "grid_row": null,
            "max_height": null,
            "align_content": null,
            "visibility": null,
            "align_self": null,
            "height": "1in",
            "min_height": null,
            "padding": null,
            "grid_auto_rows": null,
            "grid_gap": null,
            "max_width": null,
            "order": null,
            "_view_module_version": "1.2.0",
            "grid_template_areas": null,
            "object_position": null,
            "object_fit": null,
            "grid_auto_columns": null,
            "margin": null,
            "display": null,
            "left": null
          },
          "model_module_version": "1.2.0"
        },
        "8207045d12f8499b99e481119215c003": {
          "model_module": "@jupyter-widgets/controls",
          "model_name": "ButtonStyleModel",
          "state": {
            "_view_name": "StyleView",
            "_model_name": "ButtonStyleModel",
            "_view_module": "@jupyter-widgets/base",
            "_model_module_version": "1.5.0",
            "_view_count": null,
            "button_color": null,
            "font_weight": "",
            "_view_module_version": "1.2.0",
            "_model_module": "@jupyter-widgets/controls"
          },
          "model_module_version": "1.5.0"
        },
        "64f0202cd1414226bed069cc8631851f": {
          "model_module": "@jupyter-widgets/base",
          "model_name": "LayoutModel",
          "state": {
            "_view_name": "LayoutView",
            "grid_template_rows": null,
            "right": null,
            "justify_content": null,
            "_view_module": "@jupyter-widgets/base",
            "overflow": null,
            "_model_module_version": "1.2.0",
            "_view_count": null,
            "flex_flow": null,
            "width": "1in",
            "min_width": null,
            "border": null,
            "align_items": null,
            "bottom": null,
            "_model_module": "@jupyter-widgets/base",
            "top": null,
            "grid_column": null,
            "overflow_y": null,
            "overflow_x": null,
            "grid_auto_flow": null,
            "grid_area": "widget007",
            "grid_template_columns": null,
            "flex": null,
            "_model_name": "LayoutModel",
            "justify_items": null,
            "grid_row": null,
            "max_height": null,
            "align_content": null,
            "visibility": null,
            "align_self": null,
            "height": "1in",
            "min_height": null,
            "padding": null,
            "grid_auto_rows": null,
            "grid_gap": null,
            "max_width": null,
            "order": null,
            "_view_module_version": "1.2.0",
            "grid_template_areas": null,
            "object_position": null,
            "object_fit": null,
            "grid_auto_columns": null,
            "margin": null,
            "display": null,
            "left": null
          },
          "model_module_version": "1.2.0"
        },
        "d2b58b713317423cb5cef3206e9a7920": {
          "model_module": "@jupyter-widgets/controls",
          "model_name": "ButtonStyleModel",
          "state": {
            "_view_name": "StyleView",
            "_model_name": "ButtonStyleModel",
            "_view_module": "@jupyter-widgets/base",
            "_model_module_version": "1.5.0",
            "_view_count": null,
            "button_color": null,
            "font_weight": "",
            "_view_module_version": "1.2.0",
            "_model_module": "@jupyter-widgets/controls"
          },
          "model_module_version": "1.5.0"
        },
        "fabeba91ed9d42c092ca5cfbff5d80f3": {
          "model_module": "@jupyter-widgets/base",
          "model_name": "LayoutModel",
          "state": {
            "_view_name": "LayoutView",
            "grid_template_rows": null,
            "right": null,
            "justify_content": null,
            "_view_module": "@jupyter-widgets/base",
            "overflow": null,
            "_model_module_version": "1.2.0",
            "_view_count": null,
            "flex_flow": null,
            "width": "1in",
            "min_width": null,
            "border": null,
            "align_items": null,
            "bottom": null,
            "_model_module": "@jupyter-widgets/base",
            "top": null,
            "grid_column": null,
            "overflow_y": null,
            "overflow_x": null,
            "grid_auto_flow": null,
            "grid_area": "widget008",
            "grid_template_columns": null,
            "flex": null,
            "_model_name": "LayoutModel",
            "justify_items": null,
            "grid_row": null,
            "max_height": null,
            "align_content": null,
            "visibility": null,
            "align_self": null,
            "height": "1in",
            "min_height": null,
            "padding": null,
            "grid_auto_rows": null,
            "grid_gap": null,
            "max_width": null,
            "order": null,
            "_view_module_version": "1.2.0",
            "grid_template_areas": null,
            "object_position": null,
            "object_fit": null,
            "grid_auto_columns": null,
            "margin": null,
            "display": null,
            "left": null
          },
          "model_module_version": "1.2.0"
        },
        "136af379bc9f451481405fb7429895c4": {
          "model_module": "@jupyter-widgets/controls",
          "model_name": "ButtonStyleModel",
          "state": {
            "_view_name": "StyleView",
            "_model_name": "ButtonStyleModel",
            "_view_module": "@jupyter-widgets/base",
            "_model_module_version": "1.5.0",
            "_view_count": null,
            "button_color": null,
            "font_weight": "",
            "_view_module_version": "1.2.0",
            "_model_module": "@jupyter-widgets/controls"
          },
          "model_module_version": "1.5.0"
        },
        "516bb011da0b428c9b50342e3efc02e5": {
          "model_module": "@jupyter-widgets/base",
          "model_name": "LayoutModel",
          "state": {
            "_view_name": "LayoutView",
            "grid_template_rows": null,
            "right": null,
            "justify_content": null,
            "_view_module": "@jupyter-widgets/base",
            "overflow": null,
            "_model_module_version": "1.2.0",
            "_view_count": null,
            "flex_flow": null,
            "width": "1in",
            "min_width": null,
            "border": null,
            "align_items": null,
            "bottom": null,
            "_model_module": "@jupyter-widgets/base",
            "top": null,
            "grid_column": null,
            "overflow_y": null,
            "overflow_x": null,
            "grid_auto_flow": null,
            "grid_area": "widget009",
            "grid_template_columns": null,
            "flex": null,
            "_model_name": "LayoutModel",
            "justify_items": null,
            "grid_row": null,
            "max_height": null,
            "align_content": null,
            "visibility": null,
            "align_self": null,
            "height": "1in",
            "min_height": null,
            "padding": null,
            "grid_auto_rows": null,
            "grid_gap": null,
            "max_width": null,
            "order": null,
            "_view_module_version": "1.2.0",
            "grid_template_areas": null,
            "object_position": null,
            "object_fit": null,
            "grid_auto_columns": null,
            "margin": null,
            "display": null,
            "left": null
          },
          "model_module_version": "1.2.0"
        },
        "b205fc1d518e4179a96e248e74d953c6": {
          "model_module": "@jupyter-widgets/controls",
          "model_name": "TextModel",
          "model_module_version": "1.5.0",
          "state": {
            "_dom_classes": [],
            "_model_module": "@jupyter-widgets/controls",
            "_model_module_version": "1.5.0",
            "_model_name": "TextModel",
            "_view_count": null,
            "_view_module": "@jupyter-widgets/controls",
            "_view_module_version": "1.5.0",
            "_view_name": "TextView",
            "continuous_update": true,
            "description": "name",
            "description_tooltip": null,
            "disabled": false,
            "layout": "IPY_MODEL_ee3e721db3c14fb191fde523be61390c",
            "placeholder": "​",
            "style": "IPY_MODEL_f4986a95e167404e9cdb9c8969e98172",
            "value": "Darin"
          }
        },
        "ee3e721db3c14fb191fde523be61390c": {
          "model_module": "@jupyter-widgets/base",
          "model_name": "LayoutModel",
          "model_module_version": "1.2.0",
          "state": {
            "_model_module": "@jupyter-widgets/base",
            "_model_module_version": "1.2.0",
            "_model_name": "LayoutModel",
            "_view_count": null,
            "_view_module": "@jupyter-widgets/base",
            "_view_module_version": "1.2.0",
            "_view_name": "LayoutView",
            "align_content": null,
            "align_items": null,
            "align_self": null,
            "border": null,
            "bottom": null,
            "display": null,
            "flex": null,
            "flex_flow": null,
            "grid_area": null,
            "grid_auto_columns": null,
            "grid_auto_flow": null,
            "grid_auto_rows": null,
            "grid_column": null,
            "grid_gap": null,
            "grid_row": null,
            "grid_template_areas": null,
            "grid_template_columns": null,
            "grid_template_rows": null,
            "height": null,
            "justify_content": null,
            "justify_items": null,
            "left": null,
            "margin": null,
            "max_height": null,
            "max_width": null,
            "min_height": null,
            "min_width": null,
            "object_fit": null,
            "object_position": null,
            "order": null,
            "overflow": null,
            "overflow_x": null,
            "overflow_y": null,
            "padding": null,
            "right": null,
            "top": null,
            "visibility": null,
            "width": null
          }
        },
        "f4986a95e167404e9cdb9c8969e98172": {
          "model_module": "@jupyter-widgets/controls",
          "model_name": "DescriptionStyleModel",
          "model_module_version": "1.5.0",
          "state": {
            "_model_module": "@jupyter-widgets/controls",
            "_model_module_version": "1.5.0",
            "_model_name": "DescriptionStyleModel",
            "_view_count": null,
            "_view_module": "@jupyter-widgets/base",
            "_view_module_version": "1.2.0",
            "_view_name": "StyleView",
            "description_width": ""
          }
        },
        "1caf2134edd84295b0cd56634bee34f6": {
          "model_module": "@jupyter-widgets/controls",
          "model_name": "ButtonModel",
          "model_module_version": "1.5.0",
          "state": {
            "_dom_classes": [],
            "_model_module": "@jupyter-widgets/controls",
            "_model_module_version": "1.5.0",
            "_model_name": "ButtonModel",
            "_view_count": null,
            "_view_module": "@jupyter-widgets/controls",
            "_view_module_version": "1.5.0",
            "_view_name": "ButtonView",
            "button_style": "",
            "description": "say hello!",
            "disabled": false,
            "icon": "",
            "layout": "IPY_MODEL_647fd64bb51d4627b6c015ed690306c6",
            "style": "IPY_MODEL_889a396decd24ab4bcbc2f55d0937575",
            "tooltip": ""
          }
        },
        "647fd64bb51d4627b6c015ed690306c6": {
          "model_module": "@jupyter-widgets/base",
          "model_name": "LayoutModel",
          "model_module_version": "1.2.0",
          "state": {
            "_model_module": "@jupyter-widgets/base",
            "_model_module_version": "1.2.0",
            "_model_name": "LayoutModel",
            "_view_count": null,
            "_view_module": "@jupyter-widgets/base",
            "_view_module_version": "1.2.0",
            "_view_name": "LayoutView",
            "align_content": null,
            "align_items": null,
            "align_self": null,
            "border": null,
            "bottom": null,
            "display": null,
            "flex": null,
            "flex_flow": null,
            "grid_area": null,
            "grid_auto_columns": null,
            "grid_auto_flow": null,
            "grid_auto_rows": null,
            "grid_column": null,
            "grid_gap": null,
            "grid_row": null,
            "grid_template_areas": null,
            "grid_template_columns": null,
            "grid_template_rows": null,
            "height": null,
            "justify_content": null,
            "justify_items": null,
            "left": null,
            "margin": null,
            "max_height": null,
            "max_width": null,
            "min_height": null,
            "min_width": null,
            "object_fit": null,
            "object_position": null,
            "order": null,
            "overflow": null,
            "overflow_x": null,
            "overflow_y": null,
            "padding": null,
            "right": null,
            "top": null,
            "visibility": null,
            "width": null
          }
        },
        "889a396decd24ab4bcbc2f55d0937575": {
          "model_module": "@jupyter-widgets/controls",
          "model_name": "ButtonStyleModel",
          "model_module_version": "1.5.0",
          "state": {
            "_model_module": "@jupyter-widgets/controls",
            "_model_module_version": "1.5.0",
            "_model_name": "ButtonStyleModel",
            "_view_count": null,
            "_view_module": "@jupyter-widgets/base",
            "_view_module_version": "1.2.0",
            "_view_name": "StyleView",
            "button_color": null,
            "font_weight": ""
          }
        },
        "3a2c12a0716441e4a719bf97524bec70": {
          "model_module": "@jupyter-widgets/controls",
          "model_name": "LabelModel",
          "model_module_version": "1.5.0",
          "state": {
            "_dom_classes": [],
            "_model_module": "@jupyter-widgets/controls",
            "_model_module_version": "1.5.0",
            "_model_name": "LabelModel",
            "_view_count": null,
            "_view_module": "@jupyter-widgets/controls",
            "_view_module_version": "1.5.0",
            "_view_name": "LabelView",
            "description": "",
            "description_tooltip": null,
            "layout": "IPY_MODEL_f55209332b5748afa09fb6745138cee9",
            "placeholder": "​",
            "style": "IPY_MODEL_bb755221e647474dbad557040d228009",
            "value": "hello Darin"
          }
        },
        "f55209332b5748afa09fb6745138cee9": {
          "model_module": "@jupyter-widgets/base",
          "model_name": "LayoutModel",
          "model_module_version": "1.2.0",
          "state": {
            "_model_module": "@jupyter-widgets/base",
            "_model_module_version": "1.2.0",
            "_model_name": "LayoutModel",
            "_view_count": null,
            "_view_module": "@jupyter-widgets/base",
            "_view_module_version": "1.2.0",
            "_view_name": "LayoutView",
            "align_content": null,
            "align_items": null,
            "align_self": null,
            "border": null,
            "bottom": null,
            "display": null,
            "flex": null,
            "flex_flow": null,
            "grid_area": null,
            "grid_auto_columns": null,
            "grid_auto_flow": null,
            "grid_auto_rows": null,
            "grid_column": null,
            "grid_gap": null,
            "grid_row": null,
            "grid_template_areas": null,
            "grid_template_columns": null,
            "grid_template_rows": null,
            "height": null,
            "justify_content": null,
            "justify_items": null,
            "left": null,
            "margin": null,
            "max_height": null,
            "max_width": null,
            "min_height": null,
            "min_width": null,
            "object_fit": null,
            "object_position": null,
            "order": null,
            "overflow": null,
            "overflow_x": null,
            "overflow_y": null,
            "padding": null,
            "right": null,
            "top": null,
            "visibility": null,
            "width": null
          }
        },
        "bb755221e647474dbad557040d228009": {
          "model_module": "@jupyter-widgets/controls",
          "model_name": "DescriptionStyleModel",
          "model_module_version": "1.5.0",
          "state": {
            "_model_module": "@jupyter-widgets/controls",
            "_model_module_version": "1.5.0",
            "_model_name": "DescriptionStyleModel",
            "_view_count": null,
            "_view_module": "@jupyter-widgets/base",
            "_view_module_version": "1.2.0",
            "_view_name": "StyleView",
            "description_width": ""
          }
        },
        "e1ed9b85aabb4f6f99e9107c9cb9f91a": {
          "model_module": "@jupyter-widgets/controls",
          "model_name": "ButtonModel",
          "model_module_version": "1.5.0",
          "state": {
            "_dom_classes": [],
            "_model_module": "@jupyter-widgets/controls",
            "_model_module_version": "1.5.0",
            "_model_name": "ButtonModel",
            "_view_count": null,
            "_view_module": "@jupyter-widgets/controls",
            "_view_module_version": "1.5.0",
            "_view_name": "ButtonView",
            "button_style": "",
            "description": "a",
            "disabled": false,
            "icon": "",
            "layout": "IPY_MODEL_b5a9749cd6cc42f5a9020d4c31b5f96c",
            "style": "IPY_MODEL_f6d6a2d41feb49fa9cf317888299e9d3",
            "tooltip": ""
          }
        },
        "b5a9749cd6cc42f5a9020d4c31b5f96c": {
          "model_module": "@jupyter-widgets/base",
          "model_name": "LayoutModel",
          "model_module_version": "1.2.0",
          "state": {
            "_model_module": "@jupyter-widgets/base",
            "_model_module_version": "1.2.0",
            "_model_name": "LayoutModel",
            "_view_count": null,
            "_view_module": "@jupyter-widgets/base",
            "_view_module_version": "1.2.0",
            "_view_name": "LayoutView",
            "align_content": null,
            "align_items": null,
            "align_self": null,
            "border": null,
            "bottom": null,
            "display": null,
            "flex": null,
            "flex_flow": null,
            "grid_area": null,
            "grid_auto_columns": null,
            "grid_auto_flow": null,
            "grid_auto_rows": null,
            "grid_column": null,
            "grid_gap": null,
            "grid_row": null,
            "grid_template_areas": null,
            "grid_template_columns": null,
            "grid_template_rows": null,
            "height": null,
            "justify_content": null,
            "justify_items": null,
            "left": null,
            "margin": null,
            "max_height": null,
            "max_width": null,
            "min_height": null,
            "min_width": null,
            "object_fit": null,
            "object_position": null,
            "order": null,
            "overflow": null,
            "overflow_x": null,
            "overflow_y": null,
            "padding": null,
            "right": null,
            "top": null,
            "visibility": null,
            "width": null
          }
        },
        "f6d6a2d41feb49fa9cf317888299e9d3": {
          "model_module": "@jupyter-widgets/controls",
          "model_name": "ButtonStyleModel",
          "model_module_version": "1.5.0",
          "state": {
            "_model_module": "@jupyter-widgets/controls",
            "_model_module_version": "1.5.0",
            "_model_name": "ButtonStyleModel",
            "_view_count": null,
            "_view_module": "@jupyter-widgets/base",
            "_view_module_version": "1.2.0",
            "_view_name": "StyleView",
            "button_color": null,
            "font_weight": ""
          }
        },
        "286efed0680c4d62b451e9aef933e025": {
          "model_module": "@jupyter-widgets/controls",
          "model_name": "ButtonModel",
          "model_module_version": "1.5.0",
          "state": {
            "_dom_classes": [],
            "_model_module": "@jupyter-widgets/controls",
            "_model_module_version": "1.5.0",
            "_model_name": "ButtonModel",
            "_view_count": null,
            "_view_module": "@jupyter-widgets/controls",
            "_view_module_version": "1.5.0",
            "_view_name": "ButtonView",
            "button_style": "",
            "description": "b",
            "disabled": false,
            "icon": "",
            "layout": "IPY_MODEL_36b7b5334d824c64b8509afde79db8f1",
            "style": "IPY_MODEL_c59242f8b10a4b2fac4cfdf9ada3e4b5",
            "tooltip": ""
          }
        },
        "36b7b5334d824c64b8509afde79db8f1": {
          "model_module": "@jupyter-widgets/base",
          "model_name": "LayoutModel",
          "model_module_version": "1.2.0",
          "state": {
            "_model_module": "@jupyter-widgets/base",
            "_model_module_version": "1.2.0",
            "_model_name": "LayoutModel",
            "_view_count": null,
            "_view_module": "@jupyter-widgets/base",
            "_view_module_version": "1.2.0",
            "_view_name": "LayoutView",
            "align_content": null,
            "align_items": null,
            "align_self": null,
            "border": null,
            "bottom": null,
            "display": null,
            "flex": null,
            "flex_flow": null,
            "grid_area": null,
            "grid_auto_columns": null,
            "grid_auto_flow": null,
            "grid_auto_rows": null,
            "grid_column": null,
            "grid_gap": null,
            "grid_row": null,
            "grid_template_areas": null,
            "grid_template_columns": null,
            "grid_template_rows": null,
            "height": null,
            "justify_content": null,
            "justify_items": null,
            "left": null,
            "margin": null,
            "max_height": null,
            "max_width": null,
            "min_height": null,
            "min_width": null,
            "object_fit": null,
            "object_position": null,
            "order": null,
            "overflow": null,
            "overflow_x": null,
            "overflow_y": null,
            "padding": null,
            "right": null,
            "top": null,
            "visibility": null,
            "width": null
          }
        },
        "c59242f8b10a4b2fac4cfdf9ada3e4b5": {
          "model_module": "@jupyter-widgets/controls",
          "model_name": "ButtonStyleModel",
          "model_module_version": "1.5.0",
          "state": {
            "_model_module": "@jupyter-widgets/controls",
            "_model_module_version": "1.5.0",
            "_model_name": "ButtonStyleModel",
            "_view_count": null,
            "_view_module": "@jupyter-widgets/base",
            "_view_module_version": "1.2.0",
            "_view_name": "StyleView",
            "button_color": null,
            "font_weight": ""
          }
        },
        "80e5c63ac4f143dca0f39320845ccc99": {
          "model_module": "@jupyter-widgets/controls",
          "model_name": "VBoxModel",
          "model_module_version": "1.5.0",
          "state": {
            "_dom_classes": [],
            "_model_module": "@jupyter-widgets/controls",
            "_model_module_version": "1.5.0",
            "_model_name": "VBoxModel",
            "_view_count": null,
            "_view_module": "@jupyter-widgets/controls",
            "_view_module_version": "1.5.0",
            "_view_name": "VBoxView",
            "box_style": "",
            "children": [
              "IPY_MODEL_73006edaecce45b4812962e3a72de646",
              "IPY_MODEL_3a2c12a0716441e4a719bf97524bec70"
            ],
            "layout": "IPY_MODEL_2b525d81d6c24b1996678e98fb773bce"
          }
        },
        "73006edaecce45b4812962e3a72de646": {
          "model_module": "@jupyter-widgets/controls",
          "model_name": "HBoxModel",
          "model_module_version": "1.5.0",
          "state": {
            "_dom_classes": [],
            "_model_module": "@jupyter-widgets/controls",
            "_model_module_version": "1.5.0",
            "_model_name": "HBoxModel",
            "_view_count": null,
            "_view_module": "@jupyter-widgets/controls",
            "_view_module_version": "1.5.0",
            "_view_name": "HBoxView",
            "box_style": "",
            "children": [
              "IPY_MODEL_b205fc1d518e4179a96e248e74d953c6",
              "IPY_MODEL_1caf2134edd84295b0cd56634bee34f6"
            ],
            "layout": "IPY_MODEL_abba905509fc49ca8a094d11f479f3c3"
          }
        },
        "2b525d81d6c24b1996678e98fb773bce": {
          "model_module": "@jupyter-widgets/base",
          "model_name": "LayoutModel",
          "model_module_version": "1.2.0",
          "state": {
            "_model_module": "@jupyter-widgets/base",
            "_model_module_version": "1.2.0",
            "_model_name": "LayoutModel",
            "_view_count": null,
            "_view_module": "@jupyter-widgets/base",
            "_view_module_version": "1.2.0",
            "_view_name": "LayoutView",
            "align_content": null,
            "align_items": null,
            "align_self": null,
            "border": null,
            "bottom": null,
            "display": null,
            "flex": null,
            "flex_flow": null,
            "grid_area": null,
            "grid_auto_columns": null,
            "grid_auto_flow": null,
            "grid_auto_rows": null,
            "grid_column": null,
            "grid_gap": null,
            "grid_row": null,
            "grid_template_areas": null,
            "grid_template_columns": null,
            "grid_template_rows": null,
            "height": null,
            "justify_content": null,
            "justify_items": null,
            "left": null,
            "margin": null,
            "max_height": null,
            "max_width": null,
            "min_height": null,
            "min_width": null,
            "object_fit": null,
            "object_position": null,
            "order": null,
            "overflow": null,
            "overflow_x": null,
            "overflow_y": null,
            "padding": null,
            "right": null,
            "top": null,
            "visibility": null,
            "width": null
          }
        },
        "abba905509fc49ca8a094d11f479f3c3": {
          "model_module": "@jupyter-widgets/base",
          "model_name": "LayoutModel",
          "model_module_version": "1.2.0",
          "state": {
            "_model_module": "@jupyter-widgets/base",
            "_model_module_version": "1.2.0",
            "_model_name": "LayoutModel",
            "_view_count": null,
            "_view_module": "@jupyter-widgets/base",
            "_view_module_version": "1.2.0",
            "_view_name": "LayoutView",
            "align_content": null,
            "align_items": null,
            "align_self": null,
            "border": null,
            "bottom": null,
            "display": null,
            "flex": null,
            "flex_flow": null,
            "grid_area": null,
            "grid_auto_columns": null,
            "grid_auto_flow": null,
            "grid_auto_rows": null,
            "grid_column": null,
            "grid_gap": null,
            "grid_row": null,
            "grid_template_areas": null,
            "grid_template_columns": null,
            "grid_template_rows": null,
            "height": null,
            "justify_content": null,
            "justify_items": null,
            "left": null,
            "margin": null,
            "max_height": null,
            "max_width": null,
            "min_height": null,
            "min_width": null,
            "object_fit": null,
            "object_position": null,
            "order": null,
            "overflow": null,
            "overflow_x": null,
            "overflow_y": null,
            "padding": null,
            "right": null,
            "top": null,
            "visibility": null,
            "width": null
          }
        },
        "e1d9bca737d74166874474e48558e646": {
          "model_module": "@jupyter-widgets/controls",
          "model_name": "VBoxModel",
          "model_module_version": "1.5.0",
          "state": {
            "_dom_classes": [],
            "_model_module": "@jupyter-widgets/controls",
            "_model_module_version": "1.5.0",
            "_model_name": "VBoxModel",
            "_view_count": null,
            "_view_module": "@jupyter-widgets/controls",
            "_view_module_version": "1.5.0",
            "_view_name": "VBoxView",
            "box_style": "",
            "children": [
              "IPY_MODEL_00c176b47a204e92a4ec2d7e59a76af6",
              "IPY_MODEL_d99028d9414e4c1398b67b66ee3bdd40"
            ],
            "layout": "IPY_MODEL_a3b3d82decaa4ababa077af59e5cf746"
          }
        },
        "00c176b47a204e92a4ec2d7e59a76af6": {
          "model_module": "@jupyter-widgets/controls",
          "model_name": "TextModel",
          "model_module_version": "1.5.0",
          "state": {
            "_dom_classes": [],
            "_model_module": "@jupyter-widgets/controls",
            "_model_module_version": "1.5.0",
            "_model_name": "TextModel",
            "_view_count": null,
            "_view_module": "@jupyter-widgets/controls",
            "_view_module_version": "1.5.0",
            "_view_name": "TextView",
            "continuous_update": true,
            "description": "",
            "description_tooltip": null,
            "disabled": false,
            "layout": "IPY_MODEL_10d7972fa16b44dba83ebb8f4e2684a6",
            "placeholder": "​",
            "style": "IPY_MODEL_90806675166a4f25bd32a156b98058e7",
            "value": "1+2"
          }
        },
        "d99028d9414e4c1398b67b66ee3bdd40": {
          "model_module": "@jupyter-widgets/controls",
          "model_name": "GridBoxModel",
          "model_module_version": "1.5.0",
          "state": {
            "_dom_classes": [],
            "_model_module": "@jupyter-widgets/controls",
            "_model_module_version": "1.5.0",
            "_model_name": "GridBoxModel",
            "_view_count": null,
            "_view_module": "@jupyter-widgets/controls",
            "_view_module_version": "1.5.0",
            "_view_name": "GridBoxView",
            "box_style": "",
            "children": [
              "IPY_MODEL_889b6ed9da1740c196dc6f6930f8d7aa",
              "IPY_MODEL_374413328ebc445e9947623e8debbc7f",
              "IPY_MODEL_3859c5b7536444f29c71c101f9b19b5f",
              "IPY_MODEL_f89116d265b74f59a820ee2a791b2571",
              "IPY_MODEL_46c311771eb745e090700bc729e3c384",
              "IPY_MODEL_1a47fc6c511841e2bf3267b995674131",
              "IPY_MODEL_a642ad33050a45ad9c56e3e2e0266191",
              "IPY_MODEL_f5e611e1fbd2411abaeffdb30fb77f45",
              "IPY_MODEL_0d5156932eff4007bb11ece856056723",
              "IPY_MODEL_f1a18d2267f0465896e04dc6b74c517d",
              "IPY_MODEL_71ab9a3b011645d5aedc826f0e56a539",
              "IPY_MODEL_02c817d8cf36414ebe384c3140ce0750",
              "IPY_MODEL_c320fd24da644c538cc9a2ee80ae5ebc",
              "IPY_MODEL_c1be652e63324a058f388868a0a09ab7",
              "IPY_MODEL_91960cbd7a74445fa51a2fa806c13c79",
              "IPY_MODEL_715b5dab3160465d9b238d3ee744afaf"
            ],
            "layout": "IPY_MODEL_51dc2ceb883c4133a1cc651140cdeb97"
          }
        },
        "a3b3d82decaa4ababa077af59e5cf746": {
          "model_module": "@jupyter-widgets/base",
          "model_name": "LayoutModel",
          "model_module_version": "1.2.0",
          "state": {
            "_model_module": "@jupyter-widgets/base",
            "_model_module_version": "1.2.0",
            "_model_name": "LayoutModel",
            "_view_count": null,
            "_view_module": "@jupyter-widgets/base",
            "_view_module_version": "1.2.0",
            "_view_name": "LayoutView",
            "align_content": null,
            "align_items": null,
            "align_self": null,
            "border": null,
            "bottom": null,
            "display": null,
            "flex": null,
            "flex_flow": null,
            "grid_area": null,
            "grid_auto_columns": null,
            "grid_auto_flow": null,
            "grid_auto_rows": null,
            "grid_column": null,
            "grid_gap": null,
            "grid_row": null,
            "grid_template_areas": null,
            "grid_template_columns": null,
            "grid_template_rows": null,
            "height": null,
            "justify_content": null,
            "justify_items": null,
            "left": null,
            "margin": null,
            "max_height": null,
            "max_width": null,
            "min_height": null,
            "min_width": null,
            "object_fit": null,
            "object_position": null,
            "order": null,
            "overflow": null,
            "overflow_x": null,
            "overflow_y": null,
            "padding": null,
            "right": null,
            "top": null,
            "visibility": null,
            "width": null
          }
        },
        "10d7972fa16b44dba83ebb8f4e2684a6": {
          "model_module": "@jupyter-widgets/base",
          "model_name": "LayoutModel",
          "model_module_version": "1.2.0",
          "state": {
            "_model_module": "@jupyter-widgets/base",
            "_model_module_version": "1.2.0",
            "_model_name": "LayoutModel",
            "_view_count": null,
            "_view_module": "@jupyter-widgets/base",
            "_view_module_version": "1.2.0",
            "_view_name": "LayoutView",
            "align_content": null,
            "align_items": null,
            "align_self": null,
            "border": null,
            "bottom": null,
            "display": null,
            "flex": null,
            "flex_flow": null,
            "grid_area": null,
            "grid_auto_columns": null,
            "grid_auto_flow": null,
            "grid_auto_rows": null,
            "grid_column": null,
            "grid_gap": null,
            "grid_row": null,
            "grid_template_areas": null,
            "grid_template_columns": null,
            "grid_template_rows": null,
            "height": null,
            "justify_content": null,
            "justify_items": null,
            "left": null,
            "margin": null,
            "max_height": null,
            "max_width": null,
            "min_height": null,
            "min_width": null,
            "object_fit": null,
            "object_position": null,
            "order": null,
            "overflow": null,
            "overflow_x": null,
            "overflow_y": null,
            "padding": null,
            "right": null,
            "top": null,
            "visibility": null,
            "width": null
          }
        },
        "90806675166a4f25bd32a156b98058e7": {
          "model_module": "@jupyter-widgets/controls",
          "model_name": "DescriptionStyleModel",
          "model_module_version": "1.5.0",
          "state": {
            "_model_module": "@jupyter-widgets/controls",
            "_model_module_version": "1.5.0",
            "_model_name": "DescriptionStyleModel",
            "_view_count": null,
            "_view_module": "@jupyter-widgets/base",
            "_view_module_version": "1.2.0",
            "_view_name": "StyleView",
            "description_width": ""
          }
        },
        "889b6ed9da1740c196dc6f6930f8d7aa": {
          "model_module": "@jupyter-widgets/controls",
          "model_name": "ButtonModel",
          "model_module_version": "1.5.0",
          "state": {
            "_dom_classes": [],
            "_model_module": "@jupyter-widgets/controls",
            "_model_module_version": "1.5.0",
            "_model_name": "ButtonModel",
            "_view_count": null,
            "_view_module": "@jupyter-widgets/controls",
            "_view_module_version": "1.5.0",
            "_view_name": "ButtonView",
            "button_style": "",
            "description": "1",
            "disabled": false,
            "icon": "",
            "layout": "IPY_MODEL_e6eaea66abe74dfea6930a27248fe93b",
            "style": "IPY_MODEL_d59723eb825b4d0ebec9c63d083faf0a",
            "tooltip": ""
          }
        },
        "374413328ebc445e9947623e8debbc7f": {
          "model_module": "@jupyter-widgets/controls",
          "model_name": "ButtonModel",
          "model_module_version": "1.5.0",
          "state": {
            "_dom_classes": [],
            "_model_module": "@jupyter-widgets/controls",
            "_model_module_version": "1.5.0",
            "_model_name": "ButtonModel",
            "_view_count": null,
            "_view_module": "@jupyter-widgets/controls",
            "_view_module_version": "1.5.0",
            "_view_name": "ButtonView",
            "button_style": "",
            "description": "2",
            "disabled": false,
            "icon": "",
            "layout": "IPY_MODEL_53178edf654a4017a47fdd4274cc2c26",
            "style": "IPY_MODEL_78c9376993854d60a0a69bc5bc2793c4",
            "tooltip": ""
          }
        },
        "3859c5b7536444f29c71c101f9b19b5f": {
          "model_module": "@jupyter-widgets/controls",
          "model_name": "ButtonModel",
          "model_module_version": "1.5.0",
          "state": {
            "_dom_classes": [],
            "_model_module": "@jupyter-widgets/controls",
            "_model_module_version": "1.5.0",
            "_model_name": "ButtonModel",
            "_view_count": null,
            "_view_module": "@jupyter-widgets/controls",
            "_view_module_version": "1.5.0",
            "_view_name": "ButtonView",
            "button_style": "",
            "description": "3",
            "disabled": false,
            "icon": "",
            "layout": "IPY_MODEL_d84327d2350f499faa9cb15a75a63013",
            "style": "IPY_MODEL_0667c986eb1141e5859866b00fef45e6",
            "tooltip": ""
          }
        },
        "f89116d265b74f59a820ee2a791b2571": {
          "model_module": "@jupyter-widgets/controls",
          "model_name": "ButtonModel",
          "model_module_version": "1.5.0",
          "state": {
            "_dom_classes": [],
            "_model_module": "@jupyter-widgets/controls",
            "_model_module_version": "1.5.0",
            "_model_name": "ButtonModel",
            "_view_count": null,
            "_view_module": "@jupyter-widgets/controls",
            "_view_module_version": "1.5.0",
            "_view_name": "ButtonView",
            "button_style": "",
            "description": "+",
            "disabled": false,
            "icon": "",
            "layout": "IPY_MODEL_4b2dba0c804545498738e5222edffa98",
            "style": "IPY_MODEL_f4b3f313af7a4ed5b38fd067e23a2566",
            "tooltip": ""
          }
        },
        "46c311771eb745e090700bc729e3c384": {
          "model_module": "@jupyter-widgets/controls",
          "model_name": "ButtonModel",
          "model_module_version": "1.5.0",
          "state": {
            "_dom_classes": [],
            "_model_module": "@jupyter-widgets/controls",
            "_model_module_version": "1.5.0",
            "_model_name": "ButtonModel",
            "_view_count": null,
            "_view_module": "@jupyter-widgets/controls",
            "_view_module_version": "1.5.0",
            "_view_name": "ButtonView",
            "button_style": "",
            "description": "4",
            "disabled": false,
            "icon": "",
            "layout": "IPY_MODEL_17cbf5c1ee524296bb520f88aed57029",
            "style": "IPY_MODEL_c0b011bb1cd04f909ef55b312dcc425f",
            "tooltip": ""
          }
        },
        "1a47fc6c511841e2bf3267b995674131": {
          "model_module": "@jupyter-widgets/controls",
          "model_name": "ButtonModel",
          "model_module_version": "1.5.0",
          "state": {
            "_dom_classes": [],
            "_model_module": "@jupyter-widgets/controls",
            "_model_module_version": "1.5.0",
            "_model_name": "ButtonModel",
            "_view_count": null,
            "_view_module": "@jupyter-widgets/controls",
            "_view_module_version": "1.5.0",
            "_view_name": "ButtonView",
            "button_style": "",
            "description": "5",
            "disabled": false,
            "icon": "",
            "layout": "IPY_MODEL_7a348e5ec2464a25be8a8c790b647843",
            "style": "IPY_MODEL_f9871d19b8c04fdca8ef1619dd6020af",
            "tooltip": ""
          }
        },
        "a642ad33050a45ad9c56e3e2e0266191": {
          "model_module": "@jupyter-widgets/controls",
          "model_name": "ButtonModel",
          "model_module_version": "1.5.0",
          "state": {
            "_dom_classes": [],
            "_model_module": "@jupyter-widgets/controls",
            "_model_module_version": "1.5.0",
            "_model_name": "ButtonModel",
            "_view_count": null,
            "_view_module": "@jupyter-widgets/controls",
            "_view_module_version": "1.5.0",
            "_view_name": "ButtonView",
            "button_style": "",
            "description": "6",
            "disabled": false,
            "icon": "",
            "layout": "IPY_MODEL_145d2f2074654237a1de48632b334fcb",
            "style": "IPY_MODEL_dfc29e2d61f74ba0a8190c361a8f17d9",
            "tooltip": ""
          }
        },
        "f5e611e1fbd2411abaeffdb30fb77f45": {
          "model_module": "@jupyter-widgets/controls",
          "model_name": "ButtonModel",
          "model_module_version": "1.5.0",
          "state": {
            "_dom_classes": [],
            "_model_module": "@jupyter-widgets/controls",
            "_model_module_version": "1.5.0",
            "_model_name": "ButtonModel",
            "_view_count": null,
            "_view_module": "@jupyter-widgets/controls",
            "_view_module_version": "1.5.0",
            "_view_name": "ButtonView",
            "button_style": "",
            "description": "-",
            "disabled": false,
            "icon": "",
            "layout": "IPY_MODEL_ab9bbc21090f4b6dbe5d97afc90ea414",
            "style": "IPY_MODEL_7df9c84bcdc244cfa490a3a7d26f3e9c",
            "tooltip": ""
          }
        },
        "0d5156932eff4007bb11ece856056723": {
          "model_module": "@jupyter-widgets/controls",
          "model_name": "ButtonModel",
          "model_module_version": "1.5.0",
          "state": {
            "_dom_classes": [],
            "_model_module": "@jupyter-widgets/controls",
            "_model_module_version": "1.5.0",
            "_model_name": "ButtonModel",
            "_view_count": null,
            "_view_module": "@jupyter-widgets/controls",
            "_view_module_version": "1.5.0",
            "_view_name": "ButtonView",
            "button_style": "",
            "description": "7",
            "disabled": false,
            "icon": "",
            "layout": "IPY_MODEL_4a2ba06162264f2e8f3328ed30444aa2",
            "style": "IPY_MODEL_4f5ecfd9ca1944a8ac5bc8d0b612482d",
            "tooltip": ""
          }
        },
        "f1a18d2267f0465896e04dc6b74c517d": {
          "model_module": "@jupyter-widgets/controls",
          "model_name": "ButtonModel",
          "model_module_version": "1.5.0",
          "state": {
            "_dom_classes": [],
            "_model_module": "@jupyter-widgets/controls",
            "_model_module_version": "1.5.0",
            "_model_name": "ButtonModel",
            "_view_count": null,
            "_view_module": "@jupyter-widgets/controls",
            "_view_module_version": "1.5.0",
            "_view_name": "ButtonView",
            "button_style": "",
            "description": "8",
            "disabled": false,
            "icon": "",
            "layout": "IPY_MODEL_725247b7e9174f998ae1a2fa96fe0e5a",
            "style": "IPY_MODEL_045ef4e8d4864d739d0848df487bc333",
            "tooltip": ""
          }
        },
        "71ab9a3b011645d5aedc826f0e56a539": {
          "model_module": "@jupyter-widgets/controls",
          "model_name": "ButtonModel",
          "model_module_version": "1.5.0",
          "state": {
            "_dom_classes": [],
            "_model_module": "@jupyter-widgets/controls",
            "_model_module_version": "1.5.0",
            "_model_name": "ButtonModel",
            "_view_count": null,
            "_view_module": "@jupyter-widgets/controls",
            "_view_module_version": "1.5.0",
            "_view_name": "ButtonView",
            "button_style": "",
            "description": "9",
            "disabled": false,
            "icon": "",
            "layout": "IPY_MODEL_a33d8250d40c42dcad07207faf6ee396",
            "style": "IPY_MODEL_f6e63f2e185a4099aebbbf2cc4ef3760",
            "tooltip": ""
          }
        },
        "02c817d8cf36414ebe384c3140ce0750": {
          "model_module": "@jupyter-widgets/controls",
          "model_name": "ButtonModel",
          "model_module_version": "1.5.0",
          "state": {
            "_dom_classes": [],
            "_model_module": "@jupyter-widgets/controls",
            "_model_module_version": "1.5.0",
            "_model_name": "ButtonModel",
            "_view_count": null,
            "_view_module": "@jupyter-widgets/controls",
            "_view_module_version": "1.5.0",
            "_view_name": "ButtonView",
            "button_style": "",
            "description": "*",
            "disabled": false,
            "icon": "",
            "layout": "IPY_MODEL_1f4485ae9f4e4fc0a94a61d42b7dfb67",
            "style": "IPY_MODEL_74a8c3469c6b4552b34a758d9216305c",
            "tooltip": ""
          }
        },
        "c320fd24da644c538cc9a2ee80ae5ebc": {
          "model_module": "@jupyter-widgets/controls",
          "model_name": "ButtonModel",
          "model_module_version": "1.5.0",
          "state": {
            "_dom_classes": [],
            "_model_module": "@jupyter-widgets/controls",
            "_model_module_version": "1.5.0",
            "_model_name": "ButtonModel",
            "_view_count": null,
            "_view_module": "@jupyter-widgets/controls",
            "_view_module_version": "1.5.0",
            "_view_name": "ButtonView",
            "button_style": "",
            "description": "0",
            "disabled": false,
            "icon": "",
            "layout": "IPY_MODEL_4e64888c6e97437fa5a81179991a25c9",
            "style": "IPY_MODEL_a5baefb7ce374fc0a31cf4e9b22a1fc6",
            "tooltip": ""
          }
        },
        "c1be652e63324a058f388868a0a09ab7": {
          "model_module": "@jupyter-widgets/controls",
          "model_name": "ButtonModel",
          "model_module_version": "1.5.0",
          "state": {
            "_dom_classes": [],
            "_model_module": "@jupyter-widgets/controls",
            "_model_module_version": "1.5.0",
            "_model_name": "ButtonModel",
            "_view_count": null,
            "_view_module": "@jupyter-widgets/controls",
            "_view_module_version": "1.5.0",
            "_view_name": "ButtonView",
            "button_style": "",
            "description": ".",
            "disabled": false,
            "icon": "",
            "layout": "IPY_MODEL_7d2116f7c149421d89d3f33fb92520e5",
            "style": "IPY_MODEL_14cb2cf8a65344abac1feb4fcc784ce1",
            "tooltip": ""
          }
        },
        "91960cbd7a74445fa51a2fa806c13c79": {
          "model_module": "@jupyter-widgets/controls",
          "model_name": "ButtonModel",
          "model_module_version": "1.5.0",
          "state": {
            "_dom_classes": [],
            "_model_module": "@jupyter-widgets/controls",
            "_model_module_version": "1.5.0",
            "_model_name": "ButtonModel",
            "_view_count": null,
            "_view_module": "@jupyter-widgets/controls",
            "_view_module_version": "1.5.0",
            "_view_name": "ButtonView",
            "button_style": "",
            "description": "=",
            "disabled": false,
            "icon": "",
            "layout": "IPY_MODEL_42ecc388a2884026a70bd7bd3e7c1270",
            "style": "IPY_MODEL_a9d029340d1b4334adde7752b90571b3",
            "tooltip": ""
          }
        },
        "715b5dab3160465d9b238d3ee744afaf": {
          "model_module": "@jupyter-widgets/controls",
          "model_name": "ButtonModel",
          "model_module_version": "1.5.0",
          "state": {
            "_dom_classes": [],
            "_model_module": "@jupyter-widgets/controls",
            "_model_module_version": "1.5.0",
            "_model_name": "ButtonModel",
            "_view_count": null,
            "_view_module": "@jupyter-widgets/controls",
            "_view_module_version": "1.5.0",
            "_view_name": "ButtonView",
            "button_style": "",
            "description": "/",
            "disabled": false,
            "icon": "",
            "layout": "IPY_MODEL_8c3209901bcc47d5b2ca02f935ef7af4",
            "style": "IPY_MODEL_edde7f9f28374e2eb1976ac3679b4472",
            "tooltip": ""
          }
        },
        "51dc2ceb883c4133a1cc651140cdeb97": {
          "model_module": "@jupyter-widgets/base",
          "model_name": "LayoutModel",
          "model_module_version": "1.2.0",
          "state": {
            "_model_module": "@jupyter-widgets/base",
            "_model_module_version": "1.2.0",
            "_model_name": "LayoutModel",
            "_view_count": null,
            "_view_module": "@jupyter-widgets/base",
            "_view_module_version": "1.2.0",
            "_view_name": "LayoutView",
            "align_content": null,
            "align_items": null,
            "align_self": null,
            "border": null,
            "bottom": null,
            "display": null,
            "flex": null,
            "flex_flow": null,
            "grid_area": null,
            "grid_auto_columns": null,
            "grid_auto_flow": null,
            "grid_auto_rows": null,
            "grid_column": null,
            "grid_gap": null,
            "grid_row": null,
            "grid_template_areas": null,
            "grid_template_columns": "1fr 1fr 1fr 1fr",
            "grid_template_rows": null,
            "height": null,
            "justify_content": null,
            "justify_items": null,
            "left": null,
            "margin": null,
            "max_height": null,
            "max_width": null,
            "min_height": null,
            "min_width": null,
            "object_fit": null,
            "object_position": null,
            "order": null,
            "overflow": null,
            "overflow_x": null,
            "overflow_y": null,
            "padding": null,
            "right": null,
            "top": null,
            "visibility": null,
            "width": null
          }
        },
        "e6eaea66abe74dfea6930a27248fe93b": {
          "model_module": "@jupyter-widgets/base",
          "model_name": "LayoutModel",
          "model_module_version": "1.2.0",
          "state": {
            "_model_module": "@jupyter-widgets/base",
            "_model_module_version": "1.2.0",
            "_model_name": "LayoutModel",
            "_view_count": null,
            "_view_module": "@jupyter-widgets/base",
            "_view_module_version": "1.2.0",
            "_view_name": "LayoutView",
            "align_content": null,
            "align_items": null,
            "align_self": null,
            "border": null,
            "bottom": null,
            "display": null,
            "flex": null,
            "flex_flow": null,
            "grid_area": null,
            "grid_auto_columns": null,
            "grid_auto_flow": null,
            "grid_auto_rows": null,
            "grid_column": null,
            "grid_gap": null,
            "grid_row": null,
            "grid_template_areas": null,
            "grid_template_columns": null,
            "grid_template_rows": null,
            "height": null,
            "justify_content": null,
            "justify_items": null,
            "left": null,
            "margin": null,
            "max_height": null,
            "max_width": null,
            "min_height": null,
            "min_width": null,
            "object_fit": null,
            "object_position": null,
            "order": null,
            "overflow": null,
            "overflow_x": null,
            "overflow_y": null,
            "padding": null,
            "right": null,
            "top": null,
            "visibility": null,
            "width": null
          }
        },
        "d59723eb825b4d0ebec9c63d083faf0a": {
          "model_module": "@jupyter-widgets/controls",
          "model_name": "ButtonStyleModel",
          "model_module_version": "1.5.0",
          "state": {
            "_model_module": "@jupyter-widgets/controls",
            "_model_module_version": "1.5.0",
            "_model_name": "ButtonStyleModel",
            "_view_count": null,
            "_view_module": "@jupyter-widgets/base",
            "_view_module_version": "1.2.0",
            "_view_name": "StyleView",
            "button_color": null,
            "font_weight": ""
          }
        },
        "53178edf654a4017a47fdd4274cc2c26": {
          "model_module": "@jupyter-widgets/base",
          "model_name": "LayoutModel",
          "model_module_version": "1.2.0",
          "state": {
            "_model_module": "@jupyter-widgets/base",
            "_model_module_version": "1.2.0",
            "_model_name": "LayoutModel",
            "_view_count": null,
            "_view_module": "@jupyter-widgets/base",
            "_view_module_version": "1.2.0",
            "_view_name": "LayoutView",
            "align_content": null,
            "align_items": null,
            "align_self": null,
            "border": null,
            "bottom": null,
            "display": null,
            "flex": null,
            "flex_flow": null,
            "grid_area": null,
            "grid_auto_columns": null,
            "grid_auto_flow": null,
            "grid_auto_rows": null,
            "grid_column": null,
            "grid_gap": null,
            "grid_row": null,
            "grid_template_areas": null,
            "grid_template_columns": null,
            "grid_template_rows": null,
            "height": null,
            "justify_content": null,
            "justify_items": null,
            "left": null,
            "margin": null,
            "max_height": null,
            "max_width": null,
            "min_height": null,
            "min_width": null,
            "object_fit": null,
            "object_position": null,
            "order": null,
            "overflow": null,
            "overflow_x": null,
            "overflow_y": null,
            "padding": null,
            "right": null,
            "top": null,
            "visibility": null,
            "width": null
          }
        },
        "78c9376993854d60a0a69bc5bc2793c4": {
          "model_module": "@jupyter-widgets/controls",
          "model_name": "ButtonStyleModel",
          "model_module_version": "1.5.0",
          "state": {
            "_model_module": "@jupyter-widgets/controls",
            "_model_module_version": "1.5.0",
            "_model_name": "ButtonStyleModel",
            "_view_count": null,
            "_view_module": "@jupyter-widgets/base",
            "_view_module_version": "1.2.0",
            "_view_name": "StyleView",
            "button_color": null,
            "font_weight": ""
          }
        },
        "d84327d2350f499faa9cb15a75a63013": {
          "model_module": "@jupyter-widgets/base",
          "model_name": "LayoutModel",
          "model_module_version": "1.2.0",
          "state": {
            "_model_module": "@jupyter-widgets/base",
            "_model_module_version": "1.2.0",
            "_model_name": "LayoutModel",
            "_view_count": null,
            "_view_module": "@jupyter-widgets/base",
            "_view_module_version": "1.2.0",
            "_view_name": "LayoutView",
            "align_content": null,
            "align_items": null,
            "align_self": null,
            "border": null,
            "bottom": null,
            "display": null,
            "flex": null,
            "flex_flow": null,
            "grid_area": null,
            "grid_auto_columns": null,
            "grid_auto_flow": null,
            "grid_auto_rows": null,
            "grid_column": null,
            "grid_gap": null,
            "grid_row": null,
            "grid_template_areas": null,
            "grid_template_columns": null,
            "grid_template_rows": null,
            "height": null,
            "justify_content": null,
            "justify_items": null,
            "left": null,
            "margin": null,
            "max_height": null,
            "max_width": null,
            "min_height": null,
            "min_width": null,
            "object_fit": null,
            "object_position": null,
            "order": null,
            "overflow": null,
            "overflow_x": null,
            "overflow_y": null,
            "padding": null,
            "right": null,
            "top": null,
            "visibility": null,
            "width": null
          }
        },
        "0667c986eb1141e5859866b00fef45e6": {
          "model_module": "@jupyter-widgets/controls",
          "model_name": "ButtonStyleModel",
          "model_module_version": "1.5.0",
          "state": {
            "_model_module": "@jupyter-widgets/controls",
            "_model_module_version": "1.5.0",
            "_model_name": "ButtonStyleModel",
            "_view_count": null,
            "_view_module": "@jupyter-widgets/base",
            "_view_module_version": "1.2.0",
            "_view_name": "StyleView",
            "button_color": null,
            "font_weight": ""
          }
        },
        "4b2dba0c804545498738e5222edffa98": {
          "model_module": "@jupyter-widgets/base",
          "model_name": "LayoutModel",
          "model_module_version": "1.2.0",
          "state": {
            "_model_module": "@jupyter-widgets/base",
            "_model_module_version": "1.2.0",
            "_model_name": "LayoutModel",
            "_view_count": null,
            "_view_module": "@jupyter-widgets/base",
            "_view_module_version": "1.2.0",
            "_view_name": "LayoutView",
            "align_content": null,
            "align_items": null,
            "align_self": null,
            "border": null,
            "bottom": null,
            "display": null,
            "flex": null,
            "flex_flow": null,
            "grid_area": null,
            "grid_auto_columns": null,
            "grid_auto_flow": null,
            "grid_auto_rows": null,
            "grid_column": null,
            "grid_gap": null,
            "grid_row": null,
            "grid_template_areas": null,
            "grid_template_columns": null,
            "grid_template_rows": null,
            "height": null,
            "justify_content": null,
            "justify_items": null,
            "left": null,
            "margin": null,
            "max_height": null,
            "max_width": null,
            "min_height": null,
            "min_width": null,
            "object_fit": null,
            "object_position": null,
            "order": null,
            "overflow": null,
            "overflow_x": null,
            "overflow_y": null,
            "padding": null,
            "right": null,
            "top": null,
            "visibility": null,
            "width": null
          }
        },
        "f4b3f313af7a4ed5b38fd067e23a2566": {
          "model_module": "@jupyter-widgets/controls",
          "model_name": "ButtonStyleModel",
          "model_module_version": "1.5.0",
          "state": {
            "_model_module": "@jupyter-widgets/controls",
            "_model_module_version": "1.5.0",
            "_model_name": "ButtonStyleModel",
            "_view_count": null,
            "_view_module": "@jupyter-widgets/base",
            "_view_module_version": "1.2.0",
            "_view_name": "StyleView",
            "button_color": null,
            "font_weight": ""
          }
        },
        "17cbf5c1ee524296bb520f88aed57029": {
          "model_module": "@jupyter-widgets/base",
          "model_name": "LayoutModel",
          "model_module_version": "1.2.0",
          "state": {
            "_model_module": "@jupyter-widgets/base",
            "_model_module_version": "1.2.0",
            "_model_name": "LayoutModel",
            "_view_count": null,
            "_view_module": "@jupyter-widgets/base",
            "_view_module_version": "1.2.0",
            "_view_name": "LayoutView",
            "align_content": null,
            "align_items": null,
            "align_self": null,
            "border": null,
            "bottom": null,
            "display": null,
            "flex": null,
            "flex_flow": null,
            "grid_area": null,
            "grid_auto_columns": null,
            "grid_auto_flow": null,
            "grid_auto_rows": null,
            "grid_column": null,
            "grid_gap": null,
            "grid_row": null,
            "grid_template_areas": null,
            "grid_template_columns": null,
            "grid_template_rows": null,
            "height": null,
            "justify_content": null,
            "justify_items": null,
            "left": null,
            "margin": null,
            "max_height": null,
            "max_width": null,
            "min_height": null,
            "min_width": null,
            "object_fit": null,
            "object_position": null,
            "order": null,
            "overflow": null,
            "overflow_x": null,
            "overflow_y": null,
            "padding": null,
            "right": null,
            "top": null,
            "visibility": null,
            "width": null
          }
        },
        "c0b011bb1cd04f909ef55b312dcc425f": {
          "model_module": "@jupyter-widgets/controls",
          "model_name": "ButtonStyleModel",
          "model_module_version": "1.5.0",
          "state": {
            "_model_module": "@jupyter-widgets/controls",
            "_model_module_version": "1.5.0",
            "_model_name": "ButtonStyleModel",
            "_view_count": null,
            "_view_module": "@jupyter-widgets/base",
            "_view_module_version": "1.2.0",
            "_view_name": "StyleView",
            "button_color": null,
            "font_weight": ""
          }
        },
        "7a348e5ec2464a25be8a8c790b647843": {
          "model_module": "@jupyter-widgets/base",
          "model_name": "LayoutModel",
          "model_module_version": "1.2.0",
          "state": {
            "_model_module": "@jupyter-widgets/base",
            "_model_module_version": "1.2.0",
            "_model_name": "LayoutModel",
            "_view_count": null,
            "_view_module": "@jupyter-widgets/base",
            "_view_module_version": "1.2.0",
            "_view_name": "LayoutView",
            "align_content": null,
            "align_items": null,
            "align_self": null,
            "border": null,
            "bottom": null,
            "display": null,
            "flex": null,
            "flex_flow": null,
            "grid_area": null,
            "grid_auto_columns": null,
            "grid_auto_flow": null,
            "grid_auto_rows": null,
            "grid_column": null,
            "grid_gap": null,
            "grid_row": null,
            "grid_template_areas": null,
            "grid_template_columns": null,
            "grid_template_rows": null,
            "height": null,
            "justify_content": null,
            "justify_items": null,
            "left": null,
            "margin": null,
            "max_height": null,
            "max_width": null,
            "min_height": null,
            "min_width": null,
            "object_fit": null,
            "object_position": null,
            "order": null,
            "overflow": null,
            "overflow_x": null,
            "overflow_y": null,
            "padding": null,
            "right": null,
            "top": null,
            "visibility": null,
            "width": null
          }
        },
        "f9871d19b8c04fdca8ef1619dd6020af": {
          "model_module": "@jupyter-widgets/controls",
          "model_name": "ButtonStyleModel",
          "model_module_version": "1.5.0",
          "state": {
            "_model_module": "@jupyter-widgets/controls",
            "_model_module_version": "1.5.0",
            "_model_name": "ButtonStyleModel",
            "_view_count": null,
            "_view_module": "@jupyter-widgets/base",
            "_view_module_version": "1.2.0",
            "_view_name": "StyleView",
            "button_color": null,
            "font_weight": ""
          }
        },
        "145d2f2074654237a1de48632b334fcb": {
          "model_module": "@jupyter-widgets/base",
          "model_name": "LayoutModel",
          "model_module_version": "1.2.0",
          "state": {
            "_model_module": "@jupyter-widgets/base",
            "_model_module_version": "1.2.0",
            "_model_name": "LayoutModel",
            "_view_count": null,
            "_view_module": "@jupyter-widgets/base",
            "_view_module_version": "1.2.0",
            "_view_name": "LayoutView",
            "align_content": null,
            "align_items": null,
            "align_self": null,
            "border": null,
            "bottom": null,
            "display": null,
            "flex": null,
            "flex_flow": null,
            "grid_area": null,
            "grid_auto_columns": null,
            "grid_auto_flow": null,
            "grid_auto_rows": null,
            "grid_column": null,
            "grid_gap": null,
            "grid_row": null,
            "grid_template_areas": null,
            "grid_template_columns": null,
            "grid_template_rows": null,
            "height": null,
            "justify_content": null,
            "justify_items": null,
            "left": null,
            "margin": null,
            "max_height": null,
            "max_width": null,
            "min_height": null,
            "min_width": null,
            "object_fit": null,
            "object_position": null,
            "order": null,
            "overflow": null,
            "overflow_x": null,
            "overflow_y": null,
            "padding": null,
            "right": null,
            "top": null,
            "visibility": null,
            "width": null
          }
        },
        "dfc29e2d61f74ba0a8190c361a8f17d9": {
          "model_module": "@jupyter-widgets/controls",
          "model_name": "ButtonStyleModel",
          "model_module_version": "1.5.0",
          "state": {
            "_model_module": "@jupyter-widgets/controls",
            "_model_module_version": "1.5.0",
            "_model_name": "ButtonStyleModel",
            "_view_count": null,
            "_view_module": "@jupyter-widgets/base",
            "_view_module_version": "1.2.0",
            "_view_name": "StyleView",
            "button_color": null,
            "font_weight": ""
          }
        },
        "ab9bbc21090f4b6dbe5d97afc90ea414": {
          "model_module": "@jupyter-widgets/base",
          "model_name": "LayoutModel",
          "model_module_version": "1.2.0",
          "state": {
            "_model_module": "@jupyter-widgets/base",
            "_model_module_version": "1.2.0",
            "_model_name": "LayoutModel",
            "_view_count": null,
            "_view_module": "@jupyter-widgets/base",
            "_view_module_version": "1.2.0",
            "_view_name": "LayoutView",
            "align_content": null,
            "align_items": null,
            "align_self": null,
            "border": null,
            "bottom": null,
            "display": null,
            "flex": null,
            "flex_flow": null,
            "grid_area": null,
            "grid_auto_columns": null,
            "grid_auto_flow": null,
            "grid_auto_rows": null,
            "grid_column": null,
            "grid_gap": null,
            "grid_row": null,
            "grid_template_areas": null,
            "grid_template_columns": null,
            "grid_template_rows": null,
            "height": null,
            "justify_content": null,
            "justify_items": null,
            "left": null,
            "margin": null,
            "max_height": null,
            "max_width": null,
            "min_height": null,
            "min_width": null,
            "object_fit": null,
            "object_position": null,
            "order": null,
            "overflow": null,
            "overflow_x": null,
            "overflow_y": null,
            "padding": null,
            "right": null,
            "top": null,
            "visibility": null,
            "width": null
          }
        },
        "7df9c84bcdc244cfa490a3a7d26f3e9c": {
          "model_module": "@jupyter-widgets/controls",
          "model_name": "ButtonStyleModel",
          "model_module_version": "1.5.0",
          "state": {
            "_model_module": "@jupyter-widgets/controls",
            "_model_module_version": "1.5.0",
            "_model_name": "ButtonStyleModel",
            "_view_count": null,
            "_view_module": "@jupyter-widgets/base",
            "_view_module_version": "1.2.0",
            "_view_name": "StyleView",
            "button_color": null,
            "font_weight": ""
          }
        },
        "4a2ba06162264f2e8f3328ed30444aa2": {
          "model_module": "@jupyter-widgets/base",
          "model_name": "LayoutModel",
          "model_module_version": "1.2.0",
          "state": {
            "_model_module": "@jupyter-widgets/base",
            "_model_module_version": "1.2.0",
            "_model_name": "LayoutModel",
            "_view_count": null,
            "_view_module": "@jupyter-widgets/base",
            "_view_module_version": "1.2.0",
            "_view_name": "LayoutView",
            "align_content": null,
            "align_items": null,
            "align_self": null,
            "border": null,
            "bottom": null,
            "display": null,
            "flex": null,
            "flex_flow": null,
            "grid_area": null,
            "grid_auto_columns": null,
            "grid_auto_flow": null,
            "grid_auto_rows": null,
            "grid_column": null,
            "grid_gap": null,
            "grid_row": null,
            "grid_template_areas": null,
            "grid_template_columns": null,
            "grid_template_rows": null,
            "height": null,
            "justify_content": null,
            "justify_items": null,
            "left": null,
            "margin": null,
            "max_height": null,
            "max_width": null,
            "min_height": null,
            "min_width": null,
            "object_fit": null,
            "object_position": null,
            "order": null,
            "overflow": null,
            "overflow_x": null,
            "overflow_y": null,
            "padding": null,
            "right": null,
            "top": null,
            "visibility": null,
            "width": null
          }
        },
        "4f5ecfd9ca1944a8ac5bc8d0b612482d": {
          "model_module": "@jupyter-widgets/controls",
          "model_name": "ButtonStyleModel",
          "model_module_version": "1.5.0",
          "state": {
            "_model_module": "@jupyter-widgets/controls",
            "_model_module_version": "1.5.0",
            "_model_name": "ButtonStyleModel",
            "_view_count": null,
            "_view_module": "@jupyter-widgets/base",
            "_view_module_version": "1.2.0",
            "_view_name": "StyleView",
            "button_color": null,
            "font_weight": ""
          }
        },
        "725247b7e9174f998ae1a2fa96fe0e5a": {
          "model_module": "@jupyter-widgets/base",
          "model_name": "LayoutModel",
          "model_module_version": "1.2.0",
          "state": {
            "_model_module": "@jupyter-widgets/base",
            "_model_module_version": "1.2.0",
            "_model_name": "LayoutModel",
            "_view_count": null,
            "_view_module": "@jupyter-widgets/base",
            "_view_module_version": "1.2.0",
            "_view_name": "LayoutView",
            "align_content": null,
            "align_items": null,
            "align_self": null,
            "border": null,
            "bottom": null,
            "display": null,
            "flex": null,
            "flex_flow": null,
            "grid_area": null,
            "grid_auto_columns": null,
            "grid_auto_flow": null,
            "grid_auto_rows": null,
            "grid_column": null,
            "grid_gap": null,
            "grid_row": null,
            "grid_template_areas": null,
            "grid_template_columns": null,
            "grid_template_rows": null,
            "height": null,
            "justify_content": null,
            "justify_items": null,
            "left": null,
            "margin": null,
            "max_height": null,
            "max_width": null,
            "min_height": null,
            "min_width": null,
            "object_fit": null,
            "object_position": null,
            "order": null,
            "overflow": null,
            "overflow_x": null,
            "overflow_y": null,
            "padding": null,
            "right": null,
            "top": null,
            "visibility": null,
            "width": null
          }
        },
        "045ef4e8d4864d739d0848df487bc333": {
          "model_module": "@jupyter-widgets/controls",
          "model_name": "ButtonStyleModel",
          "model_module_version": "1.5.0",
          "state": {
            "_model_module": "@jupyter-widgets/controls",
            "_model_module_version": "1.5.0",
            "_model_name": "ButtonStyleModel",
            "_view_count": null,
            "_view_module": "@jupyter-widgets/base",
            "_view_module_version": "1.2.0",
            "_view_name": "StyleView",
            "button_color": null,
            "font_weight": ""
          }
        },
        "a33d8250d40c42dcad07207faf6ee396": {
          "model_module": "@jupyter-widgets/base",
          "model_name": "LayoutModel",
          "model_module_version": "1.2.0",
          "state": {
            "_model_module": "@jupyter-widgets/base",
            "_model_module_version": "1.2.0",
            "_model_name": "LayoutModel",
            "_view_count": null,
            "_view_module": "@jupyter-widgets/base",
            "_view_module_version": "1.2.0",
            "_view_name": "LayoutView",
            "align_content": null,
            "align_items": null,
            "align_self": null,
            "border": null,
            "bottom": null,
            "display": null,
            "flex": null,
            "flex_flow": null,
            "grid_area": null,
            "grid_auto_columns": null,
            "grid_auto_flow": null,
            "grid_auto_rows": null,
            "grid_column": null,
            "grid_gap": null,
            "grid_row": null,
            "grid_template_areas": null,
            "grid_template_columns": null,
            "grid_template_rows": null,
            "height": null,
            "justify_content": null,
            "justify_items": null,
            "left": null,
            "margin": null,
            "max_height": null,
            "max_width": null,
            "min_height": null,
            "min_width": null,
            "object_fit": null,
            "object_position": null,
            "order": null,
            "overflow": null,
            "overflow_x": null,
            "overflow_y": null,
            "padding": null,
            "right": null,
            "top": null,
            "visibility": null,
            "width": null
          }
        },
        "f6e63f2e185a4099aebbbf2cc4ef3760": {
          "model_module": "@jupyter-widgets/controls",
          "model_name": "ButtonStyleModel",
          "model_module_version": "1.5.0",
          "state": {
            "_model_module": "@jupyter-widgets/controls",
            "_model_module_version": "1.5.0",
            "_model_name": "ButtonStyleModel",
            "_view_count": null,
            "_view_module": "@jupyter-widgets/base",
            "_view_module_version": "1.2.0",
            "_view_name": "StyleView",
            "button_color": null,
            "font_weight": ""
          }
        },
        "1f4485ae9f4e4fc0a94a61d42b7dfb67": {
          "model_module": "@jupyter-widgets/base",
          "model_name": "LayoutModel",
          "model_module_version": "1.2.0",
          "state": {
            "_model_module": "@jupyter-widgets/base",
            "_model_module_version": "1.2.0",
            "_model_name": "LayoutModel",
            "_view_count": null,
            "_view_module": "@jupyter-widgets/base",
            "_view_module_version": "1.2.0",
            "_view_name": "LayoutView",
            "align_content": null,
            "align_items": null,
            "align_self": null,
            "border": null,
            "bottom": null,
            "display": null,
            "flex": null,
            "flex_flow": null,
            "grid_area": null,
            "grid_auto_columns": null,
            "grid_auto_flow": null,
            "grid_auto_rows": null,
            "grid_column": null,
            "grid_gap": null,
            "grid_row": null,
            "grid_template_areas": null,
            "grid_template_columns": null,
            "grid_template_rows": null,
            "height": null,
            "justify_content": null,
            "justify_items": null,
            "left": null,
            "margin": null,
            "max_height": null,
            "max_width": null,
            "min_height": null,
            "min_width": null,
            "object_fit": null,
            "object_position": null,
            "order": null,
            "overflow": null,
            "overflow_x": null,
            "overflow_y": null,
            "padding": null,
            "right": null,
            "top": null,
            "visibility": null,
            "width": null
          }
        },
        "74a8c3469c6b4552b34a758d9216305c": {
          "model_module": "@jupyter-widgets/controls",
          "model_name": "ButtonStyleModel",
          "model_module_version": "1.5.0",
          "state": {
            "_model_module": "@jupyter-widgets/controls",
            "_model_module_version": "1.5.0",
            "_model_name": "ButtonStyleModel",
            "_view_count": null,
            "_view_module": "@jupyter-widgets/base",
            "_view_module_version": "1.2.0",
            "_view_name": "StyleView",
            "button_color": null,
            "font_weight": ""
          }
        },
        "4e64888c6e97437fa5a81179991a25c9": {
          "model_module": "@jupyter-widgets/base",
          "model_name": "LayoutModel",
          "model_module_version": "1.2.0",
          "state": {
            "_model_module": "@jupyter-widgets/base",
            "_model_module_version": "1.2.0",
            "_model_name": "LayoutModel",
            "_view_count": null,
            "_view_module": "@jupyter-widgets/base",
            "_view_module_version": "1.2.0",
            "_view_name": "LayoutView",
            "align_content": null,
            "align_items": null,
            "align_self": null,
            "border": null,
            "bottom": null,
            "display": null,
            "flex": null,
            "flex_flow": null,
            "grid_area": null,
            "grid_auto_columns": null,
            "grid_auto_flow": null,
            "grid_auto_rows": null,
            "grid_column": null,
            "grid_gap": null,
            "grid_row": null,
            "grid_template_areas": null,
            "grid_template_columns": null,
            "grid_template_rows": null,
            "height": null,
            "justify_content": null,
            "justify_items": null,
            "left": null,
            "margin": null,
            "max_height": null,
            "max_width": null,
            "min_height": null,
            "min_width": null,
            "object_fit": null,
            "object_position": null,
            "order": null,
            "overflow": null,
            "overflow_x": null,
            "overflow_y": null,
            "padding": null,
            "right": null,
            "top": null,
            "visibility": null,
            "width": null
          }
        },
        "a5baefb7ce374fc0a31cf4e9b22a1fc6": {
          "model_module": "@jupyter-widgets/controls",
          "model_name": "ButtonStyleModel",
          "model_module_version": "1.5.0",
          "state": {
            "_model_module": "@jupyter-widgets/controls",
            "_model_module_version": "1.5.0",
            "_model_name": "ButtonStyleModel",
            "_view_count": null,
            "_view_module": "@jupyter-widgets/base",
            "_view_module_version": "1.2.0",
            "_view_name": "StyleView",
            "button_color": null,
            "font_weight": ""
          }
        },
        "7d2116f7c149421d89d3f33fb92520e5": {
          "model_module": "@jupyter-widgets/base",
          "model_name": "LayoutModel",
          "model_module_version": "1.2.0",
          "state": {
            "_model_module": "@jupyter-widgets/base",
            "_model_module_version": "1.2.0",
            "_model_name": "LayoutModel",
            "_view_count": null,
            "_view_module": "@jupyter-widgets/base",
            "_view_module_version": "1.2.0",
            "_view_name": "LayoutView",
            "align_content": null,
            "align_items": null,
            "align_self": null,
            "border": null,
            "bottom": null,
            "display": null,
            "flex": null,
            "flex_flow": null,
            "grid_area": null,
            "grid_auto_columns": null,
            "grid_auto_flow": null,
            "grid_auto_rows": null,
            "grid_column": null,
            "grid_gap": null,
            "grid_row": null,
            "grid_template_areas": null,
            "grid_template_columns": null,
            "grid_template_rows": null,
            "height": null,
            "justify_content": null,
            "justify_items": null,
            "left": null,
            "margin": null,
            "max_height": null,
            "max_width": null,
            "min_height": null,
            "min_width": null,
            "object_fit": null,
            "object_position": null,
            "order": null,
            "overflow": null,
            "overflow_x": null,
            "overflow_y": null,
            "padding": null,
            "right": null,
            "top": null,
            "visibility": null,
            "width": null
          }
        },
        "14cb2cf8a65344abac1feb4fcc784ce1": {
          "model_module": "@jupyter-widgets/controls",
          "model_name": "ButtonStyleModel",
          "model_module_version": "1.5.0",
          "state": {
            "_model_module": "@jupyter-widgets/controls",
            "_model_module_version": "1.5.0",
            "_model_name": "ButtonStyleModel",
            "_view_count": null,
            "_view_module": "@jupyter-widgets/base",
            "_view_module_version": "1.2.0",
            "_view_name": "StyleView",
            "button_color": null,
            "font_weight": ""
          }
        },
        "42ecc388a2884026a70bd7bd3e7c1270": {
          "model_module": "@jupyter-widgets/base",
          "model_name": "LayoutModel",
          "model_module_version": "1.2.0",
          "state": {
            "_model_module": "@jupyter-widgets/base",
            "_model_module_version": "1.2.0",
            "_model_name": "LayoutModel",
            "_view_count": null,
            "_view_module": "@jupyter-widgets/base",
            "_view_module_version": "1.2.0",
            "_view_name": "LayoutView",
            "align_content": null,
            "align_items": null,
            "align_self": null,
            "border": null,
            "bottom": null,
            "display": null,
            "flex": null,
            "flex_flow": null,
            "grid_area": null,
            "grid_auto_columns": null,
            "grid_auto_flow": null,
            "grid_auto_rows": null,
            "grid_column": null,
            "grid_gap": null,
            "grid_row": null,
            "grid_template_areas": null,
            "grid_template_columns": null,
            "grid_template_rows": null,
            "height": null,
            "justify_content": null,
            "justify_items": null,
            "left": null,
            "margin": null,
            "max_height": null,
            "max_width": null,
            "min_height": null,
            "min_width": null,
            "object_fit": null,
            "object_position": null,
            "order": null,
            "overflow": null,
            "overflow_x": null,
            "overflow_y": null,
            "padding": null,
            "right": null,
            "top": null,
            "visibility": null,
            "width": null
          }
        },
        "a9d029340d1b4334adde7752b90571b3": {
          "model_module": "@jupyter-widgets/controls",
          "model_name": "ButtonStyleModel",
          "model_module_version": "1.5.0",
          "state": {
            "_model_module": "@jupyter-widgets/controls",
            "_model_module_version": "1.5.0",
            "_model_name": "ButtonStyleModel",
            "_view_count": null,
            "_view_module": "@jupyter-widgets/base",
            "_view_module_version": "1.2.0",
            "_view_name": "StyleView",
            "button_color": null,
            "font_weight": ""
          }
        },
        "8c3209901bcc47d5b2ca02f935ef7af4": {
          "model_module": "@jupyter-widgets/base",
          "model_name": "LayoutModel",
          "model_module_version": "1.2.0",
          "state": {
            "_model_module": "@jupyter-widgets/base",
            "_model_module_version": "1.2.0",
            "_model_name": "LayoutModel",
            "_view_count": null,
            "_view_module": "@jupyter-widgets/base",
            "_view_module_version": "1.2.0",
            "_view_name": "LayoutView",
            "align_content": null,
            "align_items": null,
            "align_self": null,
            "border": null,
            "bottom": null,
            "display": null,
            "flex": null,
            "flex_flow": null,
            "grid_area": null,
            "grid_auto_columns": null,
            "grid_auto_flow": null,
            "grid_auto_rows": null,
            "grid_column": null,
            "grid_gap": null,
            "grid_row": null,
            "grid_template_areas": null,
            "grid_template_columns": null,
            "grid_template_rows": null,
            "height": null,
            "justify_content": null,
            "justify_items": null,
            "left": null,
            "margin": null,
            "max_height": null,
            "max_width": null,
            "min_height": null,
            "min_width": null,
            "object_fit": null,
            "object_position": null,
            "order": null,
            "overflow": null,
            "overflow_x": null,
            "overflow_y": null,
            "padding": null,
            "right": null,
            "top": null,
            "visibility": null,
            "width": null
          }
        },
        "edde7f9f28374e2eb1976ac3679b4472": {
          "model_module": "@jupyter-widgets/controls",
          "model_name": "ButtonStyleModel",
          "model_module_version": "1.5.0",
          "state": {
            "_model_module": "@jupyter-widgets/controls",
            "_model_module_version": "1.5.0",
            "_model_name": "ButtonStyleModel",
            "_view_count": null,
            "_view_module": "@jupyter-widgets/base",
            "_view_module_version": "1.2.0",
            "_view_name": "StyleView",
            "button_color": null,
            "font_weight": ""
          }
        },
        "a8a296a53a1f4316b5cd2e862186efd6": {
          "model_module": "@jupyter-widgets/controls",
          "model_name": "VBoxModel",
          "model_module_version": "1.5.0",
          "state": {
            "_dom_classes": [],
            "_model_module": "@jupyter-widgets/controls",
            "_model_module_version": "1.5.0",
            "_model_name": "VBoxModel",
            "_view_count": null,
            "_view_module": "@jupyter-widgets/controls",
            "_view_module_version": "1.5.0",
            "_view_name": "VBoxView",
            "box_style": "",
            "children": [
              "IPY_MODEL_5bb45e92d7bc42aea87e6d02fd68bec8"
            ],
            "layout": "IPY_MODEL_d486240da9ad477eb41815c944586c29"
          }
        },
        "5bb45e92d7bc42aea87e6d02fd68bec8": {
          "model_module": "@jupyter-widgets/output",
          "model_name": "OutputModel",
          "model_module_version": "1.0.0",
          "state": {
            "_dom_classes": [],
            "_model_module": "@jupyter-widgets/output",
            "_model_module_version": "1.0.0",
            "_model_name": "OutputModel",
            "_view_count": null,
            "_view_module": "@jupyter-widgets/output",
            "_view_module_version": "1.0.0",
            "_view_name": "OutputView",
            "layout": "IPY_MODEL_bb0ad2d47ab34c88ab42fe6ec24241b1",
            "msg_id": "",
            "outputs": [
              {
                "output_type": "error",
                "ename": "AttributeError",
                "evalue": "ignored",
                "traceback": [
                  "\u001b[0;31m---------------------------------------------------------------------------\u001b[0m",
                  "\u001b[0;31mAttributeError\u001b[0m                            Traceback (most recent call last)",
                  "\u001b[0;32m<ipython-input-40-51a23fe72a31>\u001b[0m in \u001b[0;36m<module>\u001b[0;34m\u001b[0m\n\u001b[1;32m      5\u001b[0m     \u001b[0mfig\u001b[0m \u001b[0;34m=\u001b[0m \u001b[0mplt\u001b[0m\u001b[0;34m.\u001b[0m\u001b[0mfigure\u001b[0m\u001b[0;34m(\u001b[0m\u001b[0;34m)\u001b[0m\u001b[0;34m\u001b[0m\u001b[0;34m\u001b[0m\u001b[0m\n\u001b[1;32m      6\u001b[0m     \u001b[0mplt\u001b[0m\u001b[0;34m.\u001b[0m\u001b[0mplot\u001b[0m\u001b[0;34m(\u001b[0m\u001b[0mnp\u001b[0m\u001b[0;34m.\u001b[0m\u001b[0mcos\u001b[0m\u001b[0;34m(\u001b[0m\u001b[0mnp\u001b[0m\u001b[0;34m.\u001b[0m\u001b[0mlinspace\u001b[0m\u001b[0;34m(\u001b[0m\u001b[0;36m0\u001b[0m\u001b[0;34m,\u001b[0m \u001b[0;36m20\u001b[0m\u001b[0;34m,\u001b[0m \u001b[0;36m100\u001b[0m\u001b[0;34m)\u001b[0m\u001b[0;34m)\u001b[0m\u001b[0;34m)\u001b[0m\u001b[0;34m;\u001b[0m\u001b[0;34m\u001b[0m\u001b[0;34m\u001b[0m\u001b[0m\n\u001b[0;32m----> 7\u001b[0;31m     \u001b[0mfig\u001b[0m\u001b[0;34m.\u001b[0m\u001b[0mcanvas\u001b[0m\u001b[0;34m.\u001b[0m\u001b[0mtoolbar_visible\u001b[0m \u001b[0;34m=\u001b[0m \u001b[0;32mFalse\u001b[0m\u001b[0;34m\u001b[0m\u001b[0;34m\u001b[0m\u001b[0m\n\u001b[0m\u001b[1;32m      8\u001b[0m     \u001b[0mfig\u001b[0m\u001b[0;34m.\u001b[0m\u001b[0mcanvas\u001b[0m\u001b[0;34m.\u001b[0m\u001b[0mheader_visible\u001b[0m \u001b[0;34m=\u001b[0m \u001b[0;32mFalse\u001b[0m \u001b[0;31m# Hide the Figure name at the top of the figure\u001b[0m\u001b[0;34m\u001b[0m\u001b[0;34m\u001b[0m\u001b[0m\n\u001b[1;32m      9\u001b[0m     \u001b[0mfig\u001b[0m\u001b[0;34m.\u001b[0m\u001b[0mcanvas\u001b[0m\u001b[0;34m.\u001b[0m\u001b[0mfooter_visible\u001b[0m \u001b[0;34m=\u001b[0m \u001b[0;32mFalse\u001b[0m\u001b[0;34m\u001b[0m\u001b[0;34m\u001b[0m\u001b[0m\n",
                  "\u001b[0;31mAttributeError\u001b[0m: 'Figure' object has no attribute 'canvas'"
                ]
              }
            ]
          }
        },
        "d486240da9ad477eb41815c944586c29": {
          "model_module": "@jupyter-widgets/base",
          "model_name": "LayoutModel",
          "model_module_version": "1.2.0",
          "state": {
            "_model_module": "@jupyter-widgets/base",
            "_model_module_version": "1.2.0",
            "_model_name": "LayoutModel",
            "_view_count": null,
            "_view_module": "@jupyter-widgets/base",
            "_view_module_version": "1.2.0",
            "_view_name": "LayoutView",
            "align_content": null,
            "align_items": null,
            "align_self": null,
            "border": null,
            "bottom": null,
            "display": null,
            "flex": null,
            "flex_flow": null,
            "grid_area": null,
            "grid_auto_columns": null,
            "grid_auto_flow": null,
            "grid_auto_rows": null,
            "grid_column": null,
            "grid_gap": null,
            "grid_row": null,
            "grid_template_areas": null,
            "grid_template_columns": null,
            "grid_template_rows": null,
            "height": null,
            "justify_content": null,
            "justify_items": null,
            "left": null,
            "margin": null,
            "max_height": null,
            "max_width": null,
            "min_height": null,
            "min_width": null,
            "object_fit": null,
            "object_position": null,
            "order": null,
            "overflow": null,
            "overflow_x": null,
            "overflow_y": null,
            "padding": null,
            "right": null,
            "top": null,
            "visibility": null,
            "width": null
          }
        },
        "bb0ad2d47ab34c88ab42fe6ec24241b1": {
          "model_module": "@jupyter-widgets/base",
          "model_name": "LayoutModel",
          "model_module_version": "1.2.0",
          "state": {
            "_model_module": "@jupyter-widgets/base",
            "_model_module_version": "1.2.0",
            "_model_name": "LayoutModel",
            "_view_count": null,
            "_view_module": "@jupyter-widgets/base",
            "_view_module_version": "1.2.0",
            "_view_name": "LayoutView",
            "align_content": null,
            "align_items": null,
            "align_self": null,
            "border": null,
            "bottom": null,
            "display": null,
            "flex": null,
            "flex_flow": null,
            "grid_area": null,
            "grid_auto_columns": null,
            "grid_auto_flow": null,
            "grid_auto_rows": null,
            "grid_column": null,
            "grid_gap": null,
            "grid_row": null,
            "grid_template_areas": null,
            "grid_template_columns": null,
            "grid_template_rows": null,
            "height": null,
            "justify_content": null,
            "justify_items": null,
            "left": null,
            "margin": null,
            "max_height": null,
            "max_width": null,
            "min_height": null,
            "min_width": null,
            "object_fit": null,
            "object_position": null,
            "order": null,
            "overflow": null,
            "overflow_x": null,
            "overflow_y": null,
            "padding": null,
            "right": null,
            "top": null,
            "visibility": null,
            "width": null
          }
        },
        "966e5dee70ca49e0809c9372bb77858b": {
          "model_module": "@jupyter-widgets/controls",
          "model_name": "VBoxModel",
          "model_module_version": "1.5.0",
          "state": {
            "_dom_classes": [],
            "_model_module": "@jupyter-widgets/controls",
            "_model_module_version": "1.5.0",
            "_model_name": "VBoxModel",
            "_view_count": null,
            "_view_module": "@jupyter-widgets/controls",
            "_view_module_version": "1.5.0",
            "_view_name": "VBoxView",
            "box_style": "",
            "children": [
              "IPY_MODEL_556363238ffe47f0b665c250122cdabc",
              "IPY_MODEL_203aea4cbe5844fab557a2e2c32031e1"
            ],
            "layout": "IPY_MODEL_e0ba7533a246440390fb784ebd0e1ddd"
          }
        },
        "556363238ffe47f0b665c250122cdabc": {
          "model_module": "@jupyter-widgets/output",
          "model_name": "OutputModel",
          "model_module_version": "1.0.0",
          "state": {
            "_dom_classes": [],
            "_model_module": "@jupyter-widgets/output",
            "_model_module_version": "1.0.0",
            "_model_name": "OutputModel",
            "_view_count": null,
            "_view_module": "@jupyter-widgets/output",
            "_view_module_version": "1.0.0",
            "_view_name": "OutputView",
            "layout": "IPY_MODEL_4c220a00faa649f18ca7c109ed1ebef8",
            "msg_id": "",
            "outputs": [
              {
                "output_type": "error",
                "ename": "NotImplementedError",
                "evalue": "ignored",
                "traceback": [
                  "\u001b[0;31m---------------------------------------------------------------------------\u001b[0m",
                  "\u001b[0;31mNotImplementedError\u001b[0m                       Traceback (most recent call last)",
                  "\u001b[0;32m<ipython-input-16-9abe03ec6e01>\u001b[0m in \u001b[0;36mon_click\u001b[0;34m(btn)\u001b[0m\n\u001b[1;32m     13\u001b[0m     \u001b[0mout\u001b[0m\u001b[0;34m.\u001b[0m\u001b[0mclear_output\u001b[0m\u001b[0;34m(\u001b[0m\u001b[0;34m)\u001b[0m\u001b[0;34m\u001b[0m\u001b[0;34m\u001b[0m\u001b[0m\n\u001b[1;32m     14\u001b[0m     \u001b[0;32mwith\u001b[0m \u001b[0mout\u001b[0m\u001b[0;34m:\u001b[0m\u001b[0;34m\u001b[0m\u001b[0;34m\u001b[0m\u001b[0m\n\u001b[0;32m---> 15\u001b[0;31m         \u001b[0miris_df\u001b[0m\u001b[0;34m.\u001b[0m\u001b[0mplot\u001b[0m\u001b[0;34m.\u001b[0m\u001b[0mscatter\u001b[0m\u001b[0;34m(\u001b[0m\u001b[0mx\u001b[0m\u001b[0;34m=\u001b[0m\u001b[0mxScatter\u001b[0m\u001b[0;34m.\u001b[0m\u001b[0mvalue\u001b[0m\u001b[0;34m,\u001b[0m \u001b[0my\u001b[0m\u001b[0;34m=\u001b[0m\u001b[0myScatter\u001b[0m\u001b[0;34m.\u001b[0m\u001b[0mvalue\u001b[0m\u001b[0;34m,\u001b[0m \u001b[0mc\u001b[0m\u001b[0;34m=\u001b[0m\u001b[0;34m'target'\u001b[0m\u001b[0;34m,\u001b[0m \u001b[0mcolormap\u001b[0m\u001b[0;34m=\u001b[0m\u001b[0;34m'viridis'\u001b[0m\u001b[0;34m)\u001b[0m\u001b[0;34m\u001b[0m\u001b[0;34m\u001b[0m\u001b[0m\n\u001b[0m\u001b[1;32m     16\u001b[0m \u001b[0mbutton\u001b[0m \u001b[0;34m=\u001b[0m \u001b[0mButton\u001b[0m\u001b[0;34m(\u001b[0m\u001b[0mdescription\u001b[0m\u001b[0;34m=\u001b[0m\u001b[0;34m'plot'\u001b[0m\u001b[0;34m)\u001b[0m\u001b[0;34m\u001b[0m\u001b[0;34m\u001b[0m\u001b[0m\n\u001b[1;32m     17\u001b[0m \u001b[0mbutton\u001b[0m\u001b[0;34m.\u001b[0m\u001b[0mon_click\u001b[0m\u001b[0;34m(\u001b[0m\u001b[0mon_click\u001b[0m\u001b[0;34m)\u001b[0m\u001b[0;34m\u001b[0m\u001b[0;34m\u001b[0m\u001b[0m\n",
                  "\u001b[0;32m/usr/local/lib/python3.7/dist-packages/pandas/plotting/_core.py\u001b[0m in \u001b[0;36mscatter\u001b[0;34m(self, x, y, s, c, **kwargs)\u001b[0m\n\u001b[1;32m   1634\u001b[0m             ...                       colormap='viridis')\n\u001b[1;32m   1635\u001b[0m         \"\"\"\n\u001b[0;32m-> 1636\u001b[0;31m         \u001b[0;32mreturn\u001b[0m \u001b[0mself\u001b[0m\u001b[0;34m(\u001b[0m\u001b[0mkind\u001b[0m\u001b[0;34m=\u001b[0m\u001b[0;34m\"scatter\"\u001b[0m\u001b[0;34m,\u001b[0m \u001b[0mx\u001b[0m\u001b[0;34m=\u001b[0m\u001b[0mx\u001b[0m\u001b[0;34m,\u001b[0m \u001b[0my\u001b[0m\u001b[0;34m=\u001b[0m\u001b[0my\u001b[0m\u001b[0;34m,\u001b[0m \u001b[0ms\u001b[0m\u001b[0;34m=\u001b[0m\u001b[0ms\u001b[0m\u001b[0;34m,\u001b[0m \u001b[0mc\u001b[0m\u001b[0;34m=\u001b[0m\u001b[0mc\u001b[0m\u001b[0;34m,\u001b[0m \u001b[0;34m**\u001b[0m\u001b[0mkwargs\u001b[0m\u001b[0;34m)\u001b[0m\u001b[0;34m\u001b[0m\u001b[0;34m\u001b[0m\u001b[0m\n\u001b[0m\u001b[1;32m   1637\u001b[0m \u001b[0;34m\u001b[0m\u001b[0m\n\u001b[1;32m   1638\u001b[0m     \u001b[0;32mdef\u001b[0m \u001b[0mhexbin\u001b[0m\u001b[0;34m(\u001b[0m\u001b[0mself\u001b[0m\u001b[0;34m,\u001b[0m \u001b[0mx\u001b[0m\u001b[0;34m,\u001b[0m \u001b[0my\u001b[0m\u001b[0;34m,\u001b[0m \u001b[0mC\u001b[0m\u001b[0;34m=\u001b[0m\u001b[0;32mNone\u001b[0m\u001b[0;34m,\u001b[0m \u001b[0mreduce_C_function\u001b[0m\u001b[0;34m=\u001b[0m\u001b[0;32mNone\u001b[0m\u001b[0;34m,\u001b[0m \u001b[0mgridsize\u001b[0m\u001b[0;34m=\u001b[0m\u001b[0;32mNone\u001b[0m\u001b[0;34m,\u001b[0m \u001b[0;34m**\u001b[0m\u001b[0mkwargs\u001b[0m\u001b[0;34m)\u001b[0m\u001b[0;34m:\u001b[0m\u001b[0;34m\u001b[0m\u001b[0;34m\u001b[0m\u001b[0m\n",
                  "\u001b[0;32m/usr/local/lib/python3.7/dist-packages/pandas/plotting/_core.py\u001b[0m in \u001b[0;36m__call__\u001b[0;34m(self, *args, **kwargs)\u001b[0m\n\u001b[1;32m    915\u001b[0m         \u001b[0;32mif\u001b[0m \u001b[0mkind\u001b[0m \u001b[0;32min\u001b[0m \u001b[0mself\u001b[0m\u001b[0;34m.\u001b[0m\u001b[0m_dataframe_kinds\u001b[0m\u001b[0;34m:\u001b[0m\u001b[0;34m\u001b[0m\u001b[0;34m\u001b[0m\u001b[0m\n\u001b[1;32m    916\u001b[0m             \u001b[0;32mif\u001b[0m \u001b[0misinstance\u001b[0m\u001b[0;34m(\u001b[0m\u001b[0mdata\u001b[0m\u001b[0;34m,\u001b[0m \u001b[0mABCDataFrame\u001b[0m\u001b[0;34m)\u001b[0m\u001b[0;34m:\u001b[0m\u001b[0;34m\u001b[0m\u001b[0;34m\u001b[0m\u001b[0m\n\u001b[0;32m--> 917\u001b[0;31m                 \u001b[0;32mreturn\u001b[0m \u001b[0mplot_backend\u001b[0m\u001b[0;34m.\u001b[0m\u001b[0mplot\u001b[0m\u001b[0;34m(\u001b[0m\u001b[0mdata\u001b[0m\u001b[0;34m,\u001b[0m \u001b[0mx\u001b[0m\u001b[0;34m=\u001b[0m\u001b[0mx\u001b[0m\u001b[0;34m,\u001b[0m \u001b[0my\u001b[0m\u001b[0;34m=\u001b[0m\u001b[0my\u001b[0m\u001b[0;34m,\u001b[0m \u001b[0mkind\u001b[0m\u001b[0;34m=\u001b[0m\u001b[0mkind\u001b[0m\u001b[0;34m,\u001b[0m \u001b[0;34m**\u001b[0m\u001b[0mkwargs\u001b[0m\u001b[0;34m)\u001b[0m\u001b[0;34m\u001b[0m\u001b[0;34m\u001b[0m\u001b[0m\n\u001b[0m\u001b[1;32m    918\u001b[0m             \u001b[0;32melse\u001b[0m\u001b[0;34m:\u001b[0m\u001b[0;34m\u001b[0m\u001b[0;34m\u001b[0m\u001b[0m\n\u001b[1;32m    919\u001b[0m                 \u001b[0;32mraise\u001b[0m \u001b[0mValueError\u001b[0m\u001b[0;34m(\u001b[0m\u001b[0;34mf\"plot kind {kind} can only be used for data frames\"\u001b[0m\u001b[0;34m)\u001b[0m\u001b[0;34m\u001b[0m\u001b[0;34m\u001b[0m\u001b[0m\n",
                  "\u001b[0;32m/usr/local/lib/python3.7/dist-packages/pandas/plotting/_matplotlib/__init__.py\u001b[0m in \u001b[0;36mplot\u001b[0;34m(data, kind, **kwargs)\u001b[0m\n\u001b[1;32m     69\u001b[0m             \u001b[0mkwargs\u001b[0m\u001b[0;34m[\u001b[0m\u001b[0;34m\"ax\"\u001b[0m\u001b[0;34m]\u001b[0m \u001b[0;34m=\u001b[0m \u001b[0mgetattr\u001b[0m\u001b[0;34m(\u001b[0m\u001b[0max\u001b[0m\u001b[0;34m,\u001b[0m \u001b[0;34m\"left_ax\"\u001b[0m\u001b[0;34m,\u001b[0m \u001b[0max\u001b[0m\u001b[0;34m)\u001b[0m\u001b[0;34m\u001b[0m\u001b[0;34m\u001b[0m\u001b[0m\n\u001b[1;32m     70\u001b[0m     \u001b[0mplot_obj\u001b[0m \u001b[0;34m=\u001b[0m \u001b[0mPLOT_CLASSES\u001b[0m\u001b[0;34m[\u001b[0m\u001b[0mkind\u001b[0m\u001b[0;34m]\u001b[0m\u001b[0;34m(\u001b[0m\u001b[0mdata\u001b[0m\u001b[0;34m,\u001b[0m \u001b[0;34m**\u001b[0m\u001b[0mkwargs\u001b[0m\u001b[0;34m)\u001b[0m\u001b[0;34m\u001b[0m\u001b[0;34m\u001b[0m\u001b[0m\n\u001b[0;32m---> 71\u001b[0;31m     \u001b[0mplot_obj\u001b[0m\u001b[0;34m.\u001b[0m\u001b[0mgenerate\u001b[0m\u001b[0;34m(\u001b[0m\u001b[0;34m)\u001b[0m\u001b[0;34m\u001b[0m\u001b[0;34m\u001b[0m\u001b[0m\n\u001b[0m\u001b[1;32m     72\u001b[0m     \u001b[0mplot_obj\u001b[0m\u001b[0;34m.\u001b[0m\u001b[0mdraw\u001b[0m\u001b[0;34m(\u001b[0m\u001b[0;34m)\u001b[0m\u001b[0;34m\u001b[0m\u001b[0;34m\u001b[0m\u001b[0m\n\u001b[1;32m     73\u001b[0m     \u001b[0;32mreturn\u001b[0m \u001b[0mplot_obj\u001b[0m\u001b[0;34m.\u001b[0m\u001b[0mresult\u001b[0m\u001b[0;34m\u001b[0m\u001b[0;34m\u001b[0m\u001b[0m\n",
                  "\u001b[0;32m/usr/local/lib/python3.7/dist-packages/pandas/plotting/_matplotlib/core.py\u001b[0m in \u001b[0;36mgenerate\u001b[0;34m(self)\u001b[0m\n\u001b[1;32m    285\u001b[0m         \u001b[0mself\u001b[0m\u001b[0;34m.\u001b[0m\u001b[0m_args_adjust\u001b[0m\u001b[0;34m(\u001b[0m\u001b[0;34m)\u001b[0m\u001b[0;34m\u001b[0m\u001b[0;34m\u001b[0m\u001b[0m\n\u001b[1;32m    286\u001b[0m         \u001b[0mself\u001b[0m\u001b[0;34m.\u001b[0m\u001b[0m_compute_plot_data\u001b[0m\u001b[0;34m(\u001b[0m\u001b[0;34m)\u001b[0m\u001b[0;34m\u001b[0m\u001b[0;34m\u001b[0m\u001b[0m\n\u001b[0;32m--> 287\u001b[0;31m         \u001b[0mself\u001b[0m\u001b[0;34m.\u001b[0m\u001b[0m_setup_subplots\u001b[0m\u001b[0;34m(\u001b[0m\u001b[0;34m)\u001b[0m\u001b[0;34m\u001b[0m\u001b[0;34m\u001b[0m\u001b[0m\n\u001b[0m\u001b[1;32m    288\u001b[0m         \u001b[0mself\u001b[0m\u001b[0;34m.\u001b[0m\u001b[0m_make_plot\u001b[0m\u001b[0;34m(\u001b[0m\u001b[0;34m)\u001b[0m\u001b[0;34m\u001b[0m\u001b[0;34m\u001b[0m\u001b[0m\n\u001b[1;32m    289\u001b[0m         \u001b[0mself\u001b[0m\u001b[0;34m.\u001b[0m\u001b[0m_add_table\u001b[0m\u001b[0;34m(\u001b[0m\u001b[0;34m)\u001b[0m\u001b[0;34m\u001b[0m\u001b[0;34m\u001b[0m\u001b[0m\n",
                  "\u001b[0;32m/usr/local/lib/python3.7/dist-packages/pandas/plotting/_matplotlib/core.py\u001b[0m in \u001b[0;36m_setup_subplots\u001b[0;34m(self)\u001b[0m\n\u001b[1;32m    343\u001b[0m         \u001b[0;32melse\u001b[0m\u001b[0;34m:\u001b[0m\u001b[0;34m\u001b[0m\u001b[0;34m\u001b[0m\u001b[0m\n\u001b[1;32m    344\u001b[0m             \u001b[0;32mif\u001b[0m \u001b[0mself\u001b[0m\u001b[0;34m.\u001b[0m\u001b[0max\u001b[0m \u001b[0;32mis\u001b[0m \u001b[0;32mNone\u001b[0m\u001b[0;34m:\u001b[0m\u001b[0;34m\u001b[0m\u001b[0;34m\u001b[0m\u001b[0m\n\u001b[0;32m--> 345\u001b[0;31m                 \u001b[0mfig\u001b[0m \u001b[0;34m=\u001b[0m \u001b[0mself\u001b[0m\u001b[0;34m.\u001b[0m\u001b[0mplt\u001b[0m\u001b[0;34m.\u001b[0m\u001b[0mfigure\u001b[0m\u001b[0;34m(\u001b[0m\u001b[0mfigsize\u001b[0m\u001b[0;34m=\u001b[0m\u001b[0mself\u001b[0m\u001b[0;34m.\u001b[0m\u001b[0mfigsize\u001b[0m\u001b[0;34m)\u001b[0m\u001b[0;34m\u001b[0m\u001b[0;34m\u001b[0m\u001b[0m\n\u001b[0m\u001b[1;32m    346\u001b[0m                 \u001b[0maxes\u001b[0m \u001b[0;34m=\u001b[0m \u001b[0mfig\u001b[0m\u001b[0;34m.\u001b[0m\u001b[0madd_subplot\u001b[0m\u001b[0;34m(\u001b[0m\u001b[0;36m111\u001b[0m\u001b[0;34m)\u001b[0m\u001b[0;34m\u001b[0m\u001b[0;34m\u001b[0m\u001b[0m\n\u001b[1;32m    347\u001b[0m             \u001b[0;32melse\u001b[0m\u001b[0;34m:\u001b[0m\u001b[0;34m\u001b[0m\u001b[0;34m\u001b[0m\u001b[0m\n",
                  "\u001b[0;32m/usr/local/lib/python3.7/dist-packages/matplotlib/pyplot.py\u001b[0m in \u001b[0;36mfigure\u001b[0;34m(num, figsize, dpi, facecolor, edgecolor, frameon, FigureClass, clear, **kwargs)\u001b[0m\n\u001b[1;32m    544\u001b[0m \u001b[0;32mdef\u001b[0m \u001b[0mpause\u001b[0m\u001b[0;34m(\u001b[0m\u001b[0minterval\u001b[0m\u001b[0;34m)\u001b[0m\u001b[0;34m:\u001b[0m\u001b[0;34m\u001b[0m\u001b[0;34m\u001b[0m\u001b[0m\n\u001b[1;32m    545\u001b[0m     \"\"\"\n\u001b[0;32m--> 546\u001b[0;31m     \u001b[0mRun\u001b[0m \u001b[0mthe\u001b[0m \u001b[0mGUI\u001b[0m \u001b[0mevent\u001b[0m \u001b[0mloop\u001b[0m \u001b[0;32mfor\u001b[0m \u001b[0;34m*\u001b[0m\u001b[0minterval\u001b[0m\u001b[0;34m*\u001b[0m \u001b[0mseconds\u001b[0m\u001b[0;34m.\u001b[0m\u001b[0;34m\u001b[0m\u001b[0;34m\u001b[0m\u001b[0m\n\u001b[0m\u001b[1;32m    547\u001b[0m \u001b[0;34m\u001b[0m\u001b[0m\n\u001b[1;32m    548\u001b[0m     \u001b[0mIf\u001b[0m \u001b[0mthere\u001b[0m \u001b[0;32mis\u001b[0m \u001b[0man\u001b[0m \u001b[0mactive\u001b[0m \u001b[0mfigure\u001b[0m\u001b[0;34m,\u001b[0m \u001b[0mit\u001b[0m \u001b[0mwill\u001b[0m \u001b[0mbe\u001b[0m \u001b[0mupdated\u001b[0m \u001b[0;32mand\u001b[0m \u001b[0mdisplayed\u001b[0m \u001b[0mbefore\u001b[0m \u001b[0mthe\u001b[0m\u001b[0;34m\u001b[0m\u001b[0;34m\u001b[0m\u001b[0m\n",
                  "\u001b[0;32m/usr/local/lib/python3.7/dist-packages/matplotlib/backend_bases.py\u001b[0m in \u001b[0;36mnew_figure_manager\u001b[0;34m(cls, num, *args, **kwargs)\u001b[0m\n\u001b[1;32m   3356\u001b[0m         \u001b[0mimage\u001b[0m \u001b[0;34m=\u001b[0m \u001b[0mself\u001b[0m\u001b[0;34m.\u001b[0m\u001b[0m_get_image_filename\u001b[0m\u001b[0;34m(\u001b[0m\u001b[0mtool\u001b[0m\u001b[0;34m.\u001b[0m\u001b[0mimage\u001b[0m\u001b[0;34m)\u001b[0m\u001b[0;34m\u001b[0m\u001b[0;34m\u001b[0m\u001b[0m\n\u001b[1;32m   3357\u001b[0m         \u001b[0mtoggle\u001b[0m \u001b[0;34m=\u001b[0m \u001b[0mgetattr\u001b[0m\u001b[0;34m(\u001b[0m\u001b[0mtool\u001b[0m\u001b[0;34m,\u001b[0m \u001b[0;34m'toggled'\u001b[0m\u001b[0;34m,\u001b[0m \u001b[0;32mNone\u001b[0m\u001b[0;34m)\u001b[0m \u001b[0;32mis\u001b[0m \u001b[0;32mnot\u001b[0m \u001b[0;32mNone\u001b[0m\u001b[0;34m\u001b[0m\u001b[0;34m\u001b[0m\u001b[0m\n\u001b[0;32m-> 3358\u001b[0;31m         self.add_toolitem(tool.name, group, position,\n\u001b[0m\u001b[1;32m   3359\u001b[0m                           image, tool.description, toggle)\n\u001b[1;32m   3360\u001b[0m         \u001b[0;32mif\u001b[0m \u001b[0mtoggle\u001b[0m\u001b[0;34m:\u001b[0m\u001b[0;34m\u001b[0m\u001b[0;34m\u001b[0m\u001b[0m\n",
                  "\u001b[0;32m/usr/local/lib/python3.7/dist-packages/ipympl/backend_nbagg.py\u001b[0m in \u001b[0;36mnew_figure_manager_given_figure\u001b[0;34m(num, figure)\u001b[0m\n\u001b[1;32m    485\u001b[0m         \u001b[0;32mif\u001b[0m \u001b[0;34m'nbagg.transparent'\u001b[0m \u001b[0;32min\u001b[0m \u001b[0mrcParams\u001b[0m \u001b[0;32mand\u001b[0m \u001b[0mrcParams\u001b[0m\u001b[0;34m[\u001b[0m\u001b[0;34m'nbagg.transparent'\u001b[0m\u001b[0;34m]\u001b[0m\u001b[0;34m:\u001b[0m\u001b[0;34m\u001b[0m\u001b[0;34m\u001b[0m\u001b[0m\n\u001b[1;32m    486\u001b[0m             \u001b[0mfigure\u001b[0m\u001b[0;34m.\u001b[0m\u001b[0mpatch\u001b[0m\u001b[0;34m.\u001b[0m\u001b[0mset_alpha\u001b[0m\u001b[0;34m(\u001b[0m\u001b[0;36m0\u001b[0m\u001b[0;34m)\u001b[0m\u001b[0;34m\u001b[0m\u001b[0;34m\u001b[0m\u001b[0m\n\u001b[0;32m--> 487\u001b[0;31m         \u001b[0mmanager\u001b[0m \u001b[0;34m=\u001b[0m \u001b[0mFigureManager\u001b[0m\u001b[0;34m(\u001b[0m\u001b[0mcanvas\u001b[0m\u001b[0;34m,\u001b[0m \u001b[0mnum\u001b[0m\u001b[0;34m)\u001b[0m\u001b[0;34m\u001b[0m\u001b[0;34m\u001b[0m\u001b[0m\n\u001b[0m\u001b[1;32m    488\u001b[0m \u001b[0;34m\u001b[0m\u001b[0m\n\u001b[1;32m    489\u001b[0m         \u001b[0;32mif\u001b[0m \u001b[0mis_interactive\u001b[0m\u001b[0;34m(\u001b[0m\u001b[0;34m)\u001b[0m\u001b[0;34m:\u001b[0m\u001b[0;34m\u001b[0m\u001b[0;34m\u001b[0m\u001b[0m\n",
                  "\u001b[0;32m/usr/local/lib/python3.7/dist-packages/ipympl/backend_nbagg.py\u001b[0m in \u001b[0;36m__init__\u001b[0;34m(self, canvas, num)\u001b[0m\n\u001b[1;32m    457\u001b[0m \u001b[0;34m\u001b[0m\u001b[0m\n\u001b[1;32m    458\u001b[0m     \u001b[0;32mdef\u001b[0m \u001b[0m__init__\u001b[0m\u001b[0;34m(\u001b[0m\u001b[0mself\u001b[0m\u001b[0;34m,\u001b[0m \u001b[0mcanvas\u001b[0m\u001b[0;34m,\u001b[0m \u001b[0mnum\u001b[0m\u001b[0;34m)\u001b[0m\u001b[0;34m:\u001b[0m\u001b[0;34m\u001b[0m\u001b[0;34m\u001b[0m\u001b[0m\n\u001b[0;32m--> 459\u001b[0;31m         \u001b[0mFigureManagerWebAgg\u001b[0m\u001b[0;34m.\u001b[0m\u001b[0m__init__\u001b[0m\u001b[0;34m(\u001b[0m\u001b[0mself\u001b[0m\u001b[0;34m,\u001b[0m \u001b[0mcanvas\u001b[0m\u001b[0;34m,\u001b[0m \u001b[0mnum\u001b[0m\u001b[0;34m)\u001b[0m\u001b[0;34m\u001b[0m\u001b[0;34m\u001b[0m\u001b[0m\n\u001b[0m\u001b[1;32m    460\u001b[0m         \u001b[0mself\u001b[0m\u001b[0;34m.\u001b[0m\u001b[0mweb_sockets\u001b[0m \u001b[0;34m=\u001b[0m \u001b[0;34m[\u001b[0m\u001b[0mself\u001b[0m\u001b[0;34m.\u001b[0m\u001b[0mcanvas\u001b[0m\u001b[0;34m]\u001b[0m\u001b[0;34m\u001b[0m\u001b[0;34m\u001b[0m\u001b[0m\n\u001b[1;32m    461\u001b[0m         \u001b[0mself\u001b[0m\u001b[0;34m.\u001b[0m\u001b[0mtoolbar\u001b[0m \u001b[0;34m=\u001b[0m \u001b[0mToolbar\u001b[0m\u001b[0;34m(\u001b[0m\u001b[0mself\u001b[0m\u001b[0;34m.\u001b[0m\u001b[0mcanvas\u001b[0m\u001b[0;34m)\u001b[0m\u001b[0;34m\u001b[0m\u001b[0;34m\u001b[0m\u001b[0m\n",
                  "\u001b[0;32m/usr/local/lib/python3.7/dist-packages/matplotlib/backends/backend_webagg_core.py\u001b[0m in \u001b[0;36m__init__\u001b[0;34m(self, canvas, num)\u001b[0m\n\u001b[1;32m    458\u001b[0m         \u001b[0mself\u001b[0m\u001b[0;34m.\u001b[0m\u001b[0mweb_sockets\u001b[0m \u001b[0;34m=\u001b[0m \u001b[0mset\u001b[0m\u001b[0;34m(\u001b[0m\u001b[0;34m)\u001b[0m\u001b[0;34m\u001b[0m\u001b[0;34m\u001b[0m\u001b[0m\n\u001b[1;32m    459\u001b[0m         \u001b[0msuper\u001b[0m\u001b[0;34m(\u001b[0m\u001b[0;34m)\u001b[0m\u001b[0;34m.\u001b[0m\u001b[0m__init__\u001b[0m\u001b[0;34m(\u001b[0m\u001b[0mcanvas\u001b[0m\u001b[0;34m,\u001b[0m \u001b[0mnum\u001b[0m\u001b[0;34m)\u001b[0m\u001b[0;34m\u001b[0m\u001b[0;34m\u001b[0m\u001b[0m\n\u001b[0;32m--> 460\u001b[0;31m         \u001b[0mself\u001b[0m\u001b[0;34m.\u001b[0m\u001b[0mtoolbar\u001b[0m \u001b[0;34m=\u001b[0m \u001b[0mself\u001b[0m\u001b[0;34m.\u001b[0m\u001b[0m_get_toolbar\u001b[0m\u001b[0;34m(\u001b[0m\u001b[0mcanvas\u001b[0m\u001b[0;34m)\u001b[0m\u001b[0;34m\u001b[0m\u001b[0;34m\u001b[0m\u001b[0m\n\u001b[0m\u001b[1;32m    461\u001b[0m \u001b[0;34m\u001b[0m\u001b[0m\n\u001b[1;32m    462\u001b[0m     \u001b[0;32mdef\u001b[0m \u001b[0mshow\u001b[0m\u001b[0;34m(\u001b[0m\u001b[0mself\u001b[0m\u001b[0;34m)\u001b[0m\u001b[0;34m:\u001b[0m\u001b[0;34m\u001b[0m\u001b[0;34m\u001b[0m\u001b[0m\n",
                  "\u001b[0;32m/usr/local/lib/python3.7/dist-packages/matplotlib/backends/backend_webagg_core.py\u001b[0m in \u001b[0;36m_get_toolbar\u001b[0;34m(self, canvas)\u001b[0m\n\u001b[1;32m    464\u001b[0m \u001b[0;34m\u001b[0m\u001b[0m\n\u001b[1;32m    465\u001b[0m     \u001b[0;32mdef\u001b[0m \u001b[0m_get_toolbar\u001b[0m\u001b[0;34m(\u001b[0m\u001b[0mself\u001b[0m\u001b[0;34m,\u001b[0m \u001b[0mcanvas\u001b[0m\u001b[0;34m)\u001b[0m\u001b[0;34m:\u001b[0m\u001b[0;34m\u001b[0m\u001b[0;34m\u001b[0m\u001b[0m\n\u001b[0;32m--> 466\u001b[0;31m         \u001b[0mtoolbar\u001b[0m \u001b[0;34m=\u001b[0m \u001b[0mself\u001b[0m\u001b[0;34m.\u001b[0m\u001b[0mToolbarCls\u001b[0m\u001b[0;34m(\u001b[0m\u001b[0mcanvas\u001b[0m\u001b[0;34m)\u001b[0m\u001b[0;34m\u001b[0m\u001b[0;34m\u001b[0m\u001b[0m\n\u001b[0m\u001b[1;32m    467\u001b[0m         \u001b[0;32mreturn\u001b[0m \u001b[0mtoolbar\u001b[0m\u001b[0;34m\u001b[0m\u001b[0;34m\u001b[0m\u001b[0m\n\u001b[1;32m    468\u001b[0m \u001b[0;34m\u001b[0m\u001b[0m\n",
                  "\u001b[0;32m/usr/local/lib/python3.7/dist-packages/ipympl/backend_nbagg.py\u001b[0m in \u001b[0;36m__init__\u001b[0;34m(self, canvas, *args, **kwargs)\u001b[0m\n\u001b[1;32m    120\u001b[0m     \u001b[0;32mdef\u001b[0m \u001b[0m__init__\u001b[0m\u001b[0;34m(\u001b[0m\u001b[0mself\u001b[0m\u001b[0;34m,\u001b[0m \u001b[0mcanvas\u001b[0m\u001b[0;34m,\u001b[0m \u001b[0;34m*\u001b[0m\u001b[0margs\u001b[0m\u001b[0;34m,\u001b[0m \u001b[0;34m**\u001b[0m\u001b[0mkwargs\u001b[0m\u001b[0;34m)\u001b[0m\u001b[0;34m:\u001b[0m\u001b[0;34m\u001b[0m\u001b[0;34m\u001b[0m\u001b[0m\n\u001b[1;32m    121\u001b[0m         \u001b[0mDOMWidget\u001b[0m\u001b[0;34m.\u001b[0m\u001b[0m__init__\u001b[0m\u001b[0;34m(\u001b[0m\u001b[0mself\u001b[0m\u001b[0;34m,\u001b[0m \u001b[0;34m*\u001b[0m\u001b[0margs\u001b[0m\u001b[0;34m,\u001b[0m \u001b[0;34m**\u001b[0m\u001b[0mkwargs\u001b[0m\u001b[0;34m)\u001b[0m\u001b[0;34m\u001b[0m\u001b[0;34m\u001b[0m\u001b[0m\n\u001b[0;32m--> 122\u001b[0;31m         \u001b[0mNavigationToolbar2WebAgg\u001b[0m\u001b[0;34m.\u001b[0m\u001b[0m__init__\u001b[0m\u001b[0;34m(\u001b[0m\u001b[0mself\u001b[0m\u001b[0;34m,\u001b[0m \u001b[0mcanvas\u001b[0m\u001b[0;34m,\u001b[0m \u001b[0;34m*\u001b[0m\u001b[0margs\u001b[0m\u001b[0;34m,\u001b[0m \u001b[0;34m**\u001b[0m\u001b[0mkwargs\u001b[0m\u001b[0;34m)\u001b[0m\u001b[0;34m\u001b[0m\u001b[0;34m\u001b[0m\u001b[0m\n\u001b[0m\u001b[1;32m    123\u001b[0m \u001b[0;34m\u001b[0m\u001b[0m\n\u001b[1;32m    124\u001b[0m         \u001b[0mself\u001b[0m\u001b[0;34m.\u001b[0m\u001b[0mon_msg\u001b[0m\u001b[0;34m(\u001b[0m\u001b[0mself\u001b[0m\u001b[0;34m.\u001b[0m\u001b[0mcanvas\u001b[0m\u001b[0;34m.\u001b[0m\u001b[0m_handle_message\u001b[0m\u001b[0;34m)\u001b[0m\u001b[0;34m\u001b[0m\u001b[0;34m\u001b[0m\u001b[0m\n",
                  "\u001b[0;32m/usr/local/lib/python3.7/dist-packages/matplotlib/backends/backend_webagg_core.py\u001b[0m in \u001b[0;36m__init__\u001b[0;34m(self, canvas)\u001b[0m\n\u001b[1;32m    420\u001b[0m         \u001b[0mself\u001b[0m\u001b[0;34m.\u001b[0m\u001b[0mmessage\u001b[0m \u001b[0;34m=\u001b[0m \u001b[0;34m''\u001b[0m\u001b[0;34m\u001b[0m\u001b[0;34m\u001b[0m\u001b[0m\n\u001b[1;32m    421\u001b[0m         \u001b[0mself\u001b[0m\u001b[0;34m.\u001b[0m\u001b[0m_cursor\u001b[0m \u001b[0;34m=\u001b[0m \u001b[0;32mNone\u001b[0m  \u001b[0;31m# Remove with deprecation.\u001b[0m\u001b[0;34m\u001b[0m\u001b[0;34m\u001b[0m\u001b[0m\n\u001b[0;32m--> 422\u001b[0;31m         \u001b[0msuper\u001b[0m\u001b[0;34m(\u001b[0m\u001b[0;34m)\u001b[0m\u001b[0;34m.\u001b[0m\u001b[0m__init__\u001b[0m\u001b[0;34m(\u001b[0m\u001b[0mcanvas\u001b[0m\u001b[0;34m)\u001b[0m\u001b[0;34m\u001b[0m\u001b[0;34m\u001b[0m\u001b[0m\n\u001b[0m\u001b[1;32m    423\u001b[0m \u001b[0;34m\u001b[0m\u001b[0m\n\u001b[1;32m    424\u001b[0m     \u001b[0;32mdef\u001b[0m \u001b[0mset_message\u001b[0m\u001b[0;34m(\u001b[0m\u001b[0mself\u001b[0m\u001b[0;34m,\u001b[0m \u001b[0mmessage\u001b[0m\u001b[0;34m)\u001b[0m\u001b[0;34m:\u001b[0m\u001b[0;34m\u001b[0m\u001b[0;34m\u001b[0m\u001b[0m\n",
                  "\u001b[0;32m/usr/local/lib/python3.7/dist-packages/matplotlib/backend_bases.py\u001b[0m in \u001b[0;36m__init__\u001b[0;34m(self, canvas)\u001b[0m\n\u001b[1;32m   2706\u001b[0m         \u001b[0;32mif\u001b[0m \u001b[0mbutton_name\u001b[0m \u001b[0;32min\u001b[0m \u001b[0mrcParams\u001b[0m\u001b[0;34m[\u001b[0m\u001b[0;34m'keymap.back'\u001b[0m\u001b[0;34m]\u001b[0m\u001b[0;34m:\u001b[0m\u001b[0;34m\u001b[0m\u001b[0;34m\u001b[0m\u001b[0m\n\u001b[1;32m   2707\u001b[0m             \u001b[0mtoolbar\u001b[0m\u001b[0;34m.\u001b[0m\u001b[0mback\u001b[0m\u001b[0;34m(\u001b[0m\u001b[0;34m)\u001b[0m\u001b[0;34m\u001b[0m\u001b[0;34m\u001b[0m\u001b[0m\n\u001b[0;32m-> 2708\u001b[0;31m         \u001b[0;32melif\u001b[0m \u001b[0mbutton_name\u001b[0m \u001b[0;32min\u001b[0m \u001b[0mrcParams\u001b[0m\u001b[0;34m[\u001b[0m\u001b[0;34m'keymap.forward'\u001b[0m\u001b[0;34m]\u001b[0m\u001b[0;34m:\u001b[0m\u001b[0;34m\u001b[0m\u001b[0;34m\u001b[0m\u001b[0m\n\u001b[0m\u001b[1;32m   2709\u001b[0m             \u001b[0mtoolbar\u001b[0m\u001b[0;34m.\u001b[0m\u001b[0mforward\u001b[0m\u001b[0;34m(\u001b[0m\u001b[0;34m)\u001b[0m\u001b[0;34m\u001b[0m\u001b[0;34m\u001b[0m\u001b[0m\n\u001b[1;32m   2710\u001b[0m \u001b[0;34m\u001b[0m\u001b[0m\n",
                  "\u001b[0;32m/usr/local/lib/python3.7/dist-packages/matplotlib/backend_bases.py\u001b[0m in \u001b[0;36m_init_toolbar\u001b[0;34m(self)\u001b[0m\n\u001b[1;32m   2769\u001b[0m         \u001b[0mThe\u001b[0m \u001b[0mdefault\u001b[0m \u001b[0mmouse\u001b[0m \u001b[0mbutton\u001b[0m \u001b[0mhandler\u001b[0m \u001b[0mcid\u001b[0m\u001b[0;34m,\u001b[0m \u001b[0mwhen\u001b[0m \u001b[0musing\u001b[0m \u001b[0mthe\u001b[0m \u001b[0mtoolmanager\u001b[0m\u001b[0;34m.\u001b[0m\u001b[0;34m\u001b[0m\u001b[0;34m\u001b[0m\u001b[0m\n\u001b[1;32m   2770\u001b[0m         \u001b[0mTo\u001b[0m \u001b[0mdisable\u001b[0m \u001b[0mthe\u001b[0m \u001b[0mdefault\u001b[0m \u001b[0mbutton\u001b[0m \u001b[0mpress\u001b[0m \u001b[0mhandling\u001b[0m \u001b[0muse\u001b[0m\u001b[0;34m:\u001b[0m\u001b[0;34m:\u001b[0m\u001b[0;34m\u001b[0m\u001b[0;34m\u001b[0m\u001b[0m\n\u001b[0;32m-> 2771\u001b[0;31m \u001b[0;34m\u001b[0m\u001b[0m\n\u001b[0m\u001b[1;32m   2772\u001b[0m             figure.canvas.mpl_disconnect(\n\u001b[1;32m   2773\u001b[0m                 figure.canvas.manager.button_press_handler_id)\n",
                  "\u001b[0;31mNotImplementedError\u001b[0m: "
                ]
              }
            ]
          }
        },
        "203aea4cbe5844fab557a2e2c32031e1": {
          "model_module": "@jupyter-widgets/controls",
          "model_name": "HBoxModel",
          "model_module_version": "1.5.0",
          "state": {
            "_dom_classes": [],
            "_model_module": "@jupyter-widgets/controls",
            "_model_module_version": "1.5.0",
            "_model_name": "HBoxModel",
            "_view_count": null,
            "_view_module": "@jupyter-widgets/controls",
            "_view_module_version": "1.5.0",
            "_view_name": "HBoxView",
            "box_style": "",
            "children": [
              "IPY_MODEL_b6b7a344a4cd4a2c8bba5cad4587261b",
              "IPY_MODEL_3db0045e0ee242c5af6f345eb1dbe678",
              "IPY_MODEL_f9a4b25e213a4a489cc43adab0fc928d"
            ],
            "layout": "IPY_MODEL_7faa8583073348d6920a4fa37383bb3c"
          }
        },
        "e0ba7533a246440390fb784ebd0e1ddd": {
          "model_module": "@jupyter-widgets/base",
          "model_name": "LayoutModel",
          "model_module_version": "1.2.0",
          "state": {
            "_model_module": "@jupyter-widgets/base",
            "_model_module_version": "1.2.0",
            "_model_name": "LayoutModel",
            "_view_count": null,
            "_view_module": "@jupyter-widgets/base",
            "_view_module_version": "1.2.0",
            "_view_name": "LayoutView",
            "align_content": null,
            "align_items": null,
            "align_self": null,
            "border": null,
            "bottom": null,
            "display": null,
            "flex": null,
            "flex_flow": null,
            "grid_area": null,
            "grid_auto_columns": null,
            "grid_auto_flow": null,
            "grid_auto_rows": null,
            "grid_column": null,
            "grid_gap": null,
            "grid_row": null,
            "grid_template_areas": null,
            "grid_template_columns": null,
            "grid_template_rows": null,
            "height": null,
            "justify_content": null,
            "justify_items": null,
            "left": null,
            "margin": null,
            "max_height": null,
            "max_width": null,
            "min_height": null,
            "min_width": null,
            "object_fit": null,
            "object_position": null,
            "order": null,
            "overflow": null,
            "overflow_x": null,
            "overflow_y": null,
            "padding": null,
            "right": null,
            "top": null,
            "visibility": null,
            "width": null
          }
        },
        "b6b7a344a4cd4a2c8bba5cad4587261b": {
          "model_module": "@jupyter-widgets/controls",
          "model_name": "DropdownModel",
          "model_module_version": "1.5.0",
          "state": {
            "_dom_classes": [],
            "_model_module": "@jupyter-widgets/controls",
            "_model_module_version": "1.5.0",
            "_model_name": "DropdownModel",
            "_options_labels": [
              "sepal length (cm)",
              "sepal width (cm)",
              "petal length (cm)",
              "petal width (cm)"
            ],
            "_view_count": null,
            "_view_module": "@jupyter-widgets/controls",
            "_view_module_version": "1.5.0",
            "_view_name": "DropdownView",
            "description": "x",
            "description_tooltip": null,
            "disabled": false,
            "index": 0,
            "layout": "IPY_MODEL_d99161c47ac54c8ca1dea0b9218364ea",
            "style": "IPY_MODEL_0df0cf97e4d14c3882c83cdd9a2e0ef7"
          }
        },
        "3db0045e0ee242c5af6f345eb1dbe678": {
          "model_module": "@jupyter-widgets/controls",
          "model_name": "DropdownModel",
          "model_module_version": "1.5.0",
          "state": {
            "_dom_classes": [],
            "_model_module": "@jupyter-widgets/controls",
            "_model_module_version": "1.5.0",
            "_model_name": "DropdownModel",
            "_options_labels": [
              "sepal length (cm)",
              "sepal width (cm)",
              "petal length (cm)",
              "petal width (cm)"
            ],
            "_view_count": null,
            "_view_module": "@jupyter-widgets/controls",
            "_view_module_version": "1.5.0",
            "_view_name": "DropdownView",
            "description": "y",
            "description_tooltip": null,
            "disabled": false,
            "index": 0,
            "layout": "IPY_MODEL_28c651fc4ea541ebacd85f9f5146bcb3",
            "style": "IPY_MODEL_110db76a17b84a0f977325f124c51db4"
          }
        },
        "f9a4b25e213a4a489cc43adab0fc928d": {
          "model_module": "@jupyter-widgets/controls",
          "model_name": "ButtonModel",
          "model_module_version": "1.5.0",
          "state": {
            "_dom_classes": [],
            "_model_module": "@jupyter-widgets/controls",
            "_model_module_version": "1.5.0",
            "_model_name": "ButtonModel",
            "_view_count": null,
            "_view_module": "@jupyter-widgets/controls",
            "_view_module_version": "1.5.0",
            "_view_name": "ButtonView",
            "button_style": "",
            "description": "plot",
            "disabled": false,
            "icon": "",
            "layout": "IPY_MODEL_4a197a0246bf4522b51c217494b1a58f",
            "style": "IPY_MODEL_a4328378c1434896a378afcf1676ef63",
            "tooltip": ""
          }
        },
        "7faa8583073348d6920a4fa37383bb3c": {
          "model_module": "@jupyter-widgets/base",
          "model_name": "LayoutModel",
          "model_module_version": "1.2.0",
          "state": {
            "_model_module": "@jupyter-widgets/base",
            "_model_module_version": "1.2.0",
            "_model_name": "LayoutModel",
            "_view_count": null,
            "_view_module": "@jupyter-widgets/base",
            "_view_module_version": "1.2.0",
            "_view_name": "LayoutView",
            "align_content": null,
            "align_items": null,
            "align_self": null,
            "border": null,
            "bottom": null,
            "display": null,
            "flex": null,
            "flex_flow": null,
            "grid_area": null,
            "grid_auto_columns": null,
            "grid_auto_flow": null,
            "grid_auto_rows": null,
            "grid_column": null,
            "grid_gap": null,
            "grid_row": null,
            "grid_template_areas": null,
            "grid_template_columns": null,
            "grid_template_rows": null,
            "height": null,
            "justify_content": null,
            "justify_items": null,
            "left": null,
            "margin": null,
            "max_height": null,
            "max_width": null,
            "min_height": null,
            "min_width": null,
            "object_fit": null,
            "object_position": null,
            "order": null,
            "overflow": null,
            "overflow_x": null,
            "overflow_y": null,
            "padding": null,
            "right": null,
            "top": null,
            "visibility": null,
            "width": null
          }
        },
        "d99161c47ac54c8ca1dea0b9218364ea": {
          "model_module": "@jupyter-widgets/base",
          "model_name": "LayoutModel",
          "model_module_version": "1.2.0",
          "state": {
            "_model_module": "@jupyter-widgets/base",
            "_model_module_version": "1.2.0",
            "_model_name": "LayoutModel",
            "_view_count": null,
            "_view_module": "@jupyter-widgets/base",
            "_view_module_version": "1.2.0",
            "_view_name": "LayoutView",
            "align_content": null,
            "align_items": null,
            "align_self": null,
            "border": null,
            "bottom": null,
            "display": null,
            "flex": null,
            "flex_flow": null,
            "grid_area": null,
            "grid_auto_columns": null,
            "grid_auto_flow": null,
            "grid_auto_rows": null,
            "grid_column": null,
            "grid_gap": null,
            "grid_row": null,
            "grid_template_areas": null,
            "grid_template_columns": null,
            "grid_template_rows": null,
            "height": null,
            "justify_content": null,
            "justify_items": null,
            "left": null,
            "margin": null,
            "max_height": null,
            "max_width": null,
            "min_height": null,
            "min_width": null,
            "object_fit": null,
            "object_position": null,
            "order": null,
            "overflow": null,
            "overflow_x": null,
            "overflow_y": null,
            "padding": null,
            "right": null,
            "top": null,
            "visibility": null,
            "width": null
          }
        },
        "0df0cf97e4d14c3882c83cdd9a2e0ef7": {
          "model_module": "@jupyter-widgets/controls",
          "model_name": "DescriptionStyleModel",
          "model_module_version": "1.5.0",
          "state": {
            "_model_module": "@jupyter-widgets/controls",
            "_model_module_version": "1.5.0",
            "_model_name": "DescriptionStyleModel",
            "_view_count": null,
            "_view_module": "@jupyter-widgets/base",
            "_view_module_version": "1.2.0",
            "_view_name": "StyleView",
            "description_width": ""
          }
        },
        "28c651fc4ea541ebacd85f9f5146bcb3": {
          "model_module": "@jupyter-widgets/base",
          "model_name": "LayoutModel",
          "model_module_version": "1.2.0",
          "state": {
            "_model_module": "@jupyter-widgets/base",
            "_model_module_version": "1.2.0",
            "_model_name": "LayoutModel",
            "_view_count": null,
            "_view_module": "@jupyter-widgets/base",
            "_view_module_version": "1.2.0",
            "_view_name": "LayoutView",
            "align_content": null,
            "align_items": null,
            "align_self": null,
            "border": null,
            "bottom": null,
            "display": null,
            "flex": null,
            "flex_flow": null,
            "grid_area": null,
            "grid_auto_columns": null,
            "grid_auto_flow": null,
            "grid_auto_rows": null,
            "grid_column": null,
            "grid_gap": null,
            "grid_row": null,
            "grid_template_areas": null,
            "grid_template_columns": null,
            "grid_template_rows": null,
            "height": null,
            "justify_content": null,
            "justify_items": null,
            "left": null,
            "margin": null,
            "max_height": null,
            "max_width": null,
            "min_height": null,
            "min_width": null,
            "object_fit": null,
            "object_position": null,
            "order": null,
            "overflow": null,
            "overflow_x": null,
            "overflow_y": null,
            "padding": null,
            "right": null,
            "top": null,
            "visibility": null,
            "width": null
          }
        },
        "110db76a17b84a0f977325f124c51db4": {
          "model_module": "@jupyter-widgets/controls",
          "model_name": "DescriptionStyleModel",
          "model_module_version": "1.5.0",
          "state": {
            "_model_module": "@jupyter-widgets/controls",
            "_model_module_version": "1.5.0",
            "_model_name": "DescriptionStyleModel",
            "_view_count": null,
            "_view_module": "@jupyter-widgets/base",
            "_view_module_version": "1.2.0",
            "_view_name": "StyleView",
            "description_width": ""
          }
        },
        "4a197a0246bf4522b51c217494b1a58f": {
          "model_module": "@jupyter-widgets/base",
          "model_name": "LayoutModel",
          "model_module_version": "1.2.0",
          "state": {
            "_model_module": "@jupyter-widgets/base",
            "_model_module_version": "1.2.0",
            "_model_name": "LayoutModel",
            "_view_count": null,
            "_view_module": "@jupyter-widgets/base",
            "_view_module_version": "1.2.0",
            "_view_name": "LayoutView",
            "align_content": null,
            "align_items": null,
            "align_self": null,
            "border": null,
            "bottom": null,
            "display": null,
            "flex": null,
            "flex_flow": null,
            "grid_area": null,
            "grid_auto_columns": null,
            "grid_auto_flow": null,
            "grid_auto_rows": null,
            "grid_column": null,
            "grid_gap": null,
            "grid_row": null,
            "grid_template_areas": null,
            "grid_template_columns": null,
            "grid_template_rows": null,
            "height": null,
            "justify_content": null,
            "justify_items": null,
            "left": null,
            "margin": null,
            "max_height": null,
            "max_width": null,
            "min_height": null,
            "min_width": null,
            "object_fit": null,
            "object_position": null,
            "order": null,
            "overflow": null,
            "overflow_x": null,
            "overflow_y": null,
            "padding": null,
            "right": null,
            "top": null,
            "visibility": null,
            "width": null
          }
        },
        "a4328378c1434896a378afcf1676ef63": {
          "model_module": "@jupyter-widgets/controls",
          "model_name": "ButtonStyleModel",
          "model_module_version": "1.5.0",
          "state": {
            "_model_module": "@jupyter-widgets/controls",
            "_model_module_version": "1.5.0",
            "_model_name": "ButtonStyleModel",
            "_view_count": null,
            "_view_module": "@jupyter-widgets/base",
            "_view_module_version": "1.2.0",
            "_view_name": "StyleView",
            "button_color": null,
            "font_weight": ""
          }
        },
        "4c220a00faa649f18ca7c109ed1ebef8": {
          "model_module": "@jupyter-widgets/base",
          "model_name": "LayoutModel",
          "model_module_version": "1.2.0",
          "state": {
            "_model_module": "@jupyter-widgets/base",
            "_model_module_version": "1.2.0",
            "_model_name": "LayoutModel",
            "_view_count": null,
            "_view_module": "@jupyter-widgets/base",
            "_view_module_version": "1.2.0",
            "_view_name": "LayoutView",
            "align_content": null,
            "align_items": null,
            "align_self": null,
            "border": null,
            "bottom": null,
            "display": null,
            "flex": null,
            "flex_flow": null,
            "grid_area": null,
            "grid_auto_columns": null,
            "grid_auto_flow": null,
            "grid_auto_rows": null,
            "grid_column": null,
            "grid_gap": null,
            "grid_row": null,
            "grid_template_areas": null,
            "grid_template_columns": null,
            "grid_template_rows": null,
            "height": "6in",
            "justify_content": null,
            "justify_items": null,
            "left": null,
            "margin": null,
            "max_height": null,
            "max_width": null,
            "min_height": null,
            "min_width": null,
            "object_fit": null,
            "object_position": null,
            "order": null,
            "overflow": null,
            "overflow_x": null,
            "overflow_y": null,
            "padding": null,
            "right": null,
            "top": null,
            "visibility": null,
            "width": "8in"
          }
        },
        "180d209c56ee4a31ad6e32c09db18e35": {
          "model_module": "@jupyter-widgets/controls",
          "model_name": "VBoxModel",
          "model_module_version": "1.5.0",
          "state": {
            "_dom_classes": [],
            "_model_module": "@jupyter-widgets/controls",
            "_model_module_version": "1.5.0",
            "_model_name": "VBoxModel",
            "_view_count": null,
            "_view_module": "@jupyter-widgets/controls",
            "_view_module_version": "1.5.0",
            "_view_name": "VBoxView",
            "box_style": "",
            "children": [
              "IPY_MODEL_0d75342f33374a219391a03492398557"
            ],
            "layout": "IPY_MODEL_81e871b656214383a50fdc2174f0ca43"
          }
        },
        "0d75342f33374a219391a03492398557": {
          "model_module": "@bokeh/jupyter_bokeh",
          "model_name": "BokehModel",
          "model_module_version": "^3.0.4",
          "state": {
            "_dom_classes": [],
            "_model_module": "@bokeh/jupyter_bokeh",
            "_model_module_version": "^3.0.4",
            "_model_name": "BokehModel",
            "_view_count": null,
            "_view_module": "@bokeh/jupyter_bokeh",
            "_view_module_version": "^3.0.4",
            "_view_name": "BokehView",
            "combine_events": false,
            "layout": "IPY_MODEL_823ff11a78fe42c5a70b80ef86807913",
            "render_bundle": "{\"div\":\"\\n  <div class=\\\"bk-root\\\" id=\\\"1cafeb22-3614-455b-9f5b-c515b3822dc5\\\" data-root-id=\\\"1071\\\"></div>\\n\",\"docs_json\":{\"23e80595-6766-49ce-93ae-9a56d4340af8\":{\"defs\":[],\"roots\":{\"references\":[{\"attributes\":{},\"id\":\"1113\",\"type\":\"AllLabels\"},{\"attributes\":{\"data\":{\"x\":{\"__ndarray__\":\"AAAAAAAAAAAxb2dIzNvJPzFvZ0jM29k/ZZNNNtlk4z8xb2dIzNvpP3+lQK1fKfA/ZZNNNtlk8z9LgVq/UqD2PzFvZ0jM2/k/F1100UUX/T9/pUCtXykAQHIcx3EcxwFAZZNNNtlkA0BYCtT6lQIFQEuBWr9SoAZAPvjggw8+CEAxb2dIzNsJQCTm7QyJeQtAF1100UUXDUAK1PqVArUOQH+lQK1fKRBA+OCDDz74EEByHMdxHMcRQOtXCtT6lRJAZZNNNtlkE0DezpCYtzMUQFgK1PqVAhVA0UUXXXTRFUBLgVq/UqAWQMS8nSExbxdAPvjggw8+GEC3MyTm7QwZQDFvZ0jM2xlAq6qqqqqqGkAk5u0MiXkbQJ4hMW9nSBxAF1100UUXHUCRmLczJOYdQArU+pUCtR5AhA8++OCDH0B/pUCtXykgQDtDYt7OkCBA+OCDDz74IEC1fqVArV8hQHIcx3EcxyFALrrooosuIkDrVwrU+pUiQKj1KwVq/SJAZZNNNtlkI0AiMW9nSMwjQN7OkJi3MyRAm2yyySabJEBYCtT6lQIlQBWo9SsFaiVA0UUXXXTRJUCO4ziO4zgmQEuBWr9SoCZACB988MEHJ0DEvJ0hMW8nQIFav1Kg1idAPvjggw8+KED7lQK1fqUoQLczJObtDClAdNFFF110KUAxb2dIzNspQO4MiXk7QypAq6qqqqqqKkBnSMzbGRIrQCTm7QyJeStA4YMPPvjgK0CeITFvZ0gsQFq/UqDWryxAF1100UUXLUDU+pUCtX4tQJGYtzMk5i1ATTbZZJNNLkAK1PqVArUuQMdxHMdxHC9AhA8++OCDL0BArV8pUOsvQH+lQK1fKTBAXXTRRRddMEA7Q2LezpAwQBoS83aGxDBA+OCDDz74MEDXrxSo9SsxQLV+pUCtXzFAk0022WSTMUByHMdxHMcxQFDrVwrU+jFALrrooosuMkANiXk7Q2IyQOtXCtT6lTJAyiabbLLJMkCo9SsFav0yQIbEvJ0hMTNAZZNNNtlkM0BDYt7OkJgzQCIxb2dIzDNAAAAAAAAANEA=\",\"dtype\":\"float64\",\"order\":\"little\",\"shape\":[100]},\"y\":{\"__ndarray__\":\"AAAAAAAAAABRU1+a3K7JP1VjAncmKdk/joZ7TnE64j9rLLlhgiLnP5Ej5MCvGes/3oUw9q727T/5BoW6r5vvPxNbBmSS9+8/kSusMpoG7z89qlg6lNLsPykxQVVxcuk/1MdGRVcJ5T/Ktep2ZYrfP2PwnFCyudM/+7miP25uvD+3NlPm9jG3v5wy0No1eNK/BM5I1Z1j3r+SdF6OTInkv0APRfL0Cum/hEBctduH7L/Z0wWSr9vuvxDBLoU07u+/vLAjJUC077+j6pXkLTDuv6dgP4fGceu/D922x5uV579XnsLd3sPivwMqNP17Xdq/wgS4cmdBzL9h3vPuDA2Vv7tkP1qKGcc/W/DDABjy1z/HuoHVCq/hP//suinorOY/Al+5UKq+6j9eAGcO8rntP/SV+cizf+8/b1zFynr97z/nV/BtKS7vPyWdD2EuGu0/N08I2izX6T8cu21JG4flP7BdRrjhVuA/VbjOZAz51D9m0FwI6dPAP+jv6Q798rG/VIdizLk00b888OBwjDndv56+Y/8IB+S/bleT48Kg6L/RCtPnDDrsvzFlwDBure6/MSayMWLh778hKWxgYsnvv81//aBoZu6/1fjHG+XG67+K5oXnJwbovxehqqRES+O/A16tNveO279cpg2i49DOv+yhMmLpC6W/qY2NQLiBxD83eo1CcrjWP9JlI4i6IeE/HI9A2dk05j9uHvsPwGDqPynUoL/9ee0/i1ymV09g7z/ZJccV7f/vP1gHDPxYUu8/UMIqaqJe7T+EaF+aHDnqP7u2MP+KAuY/0Fq+Hczm4D8A8omJITbWPxafV9LIbsM/ddEUEiRkqb+BwFFLwt7Pv1NPAYpRDNy/50eSsJqC47+HvLmm5jPov9kV+Dww6eu/6BYbENt77r8XCLfMHNHvv845+iIU2++/x7NHTVmZ7r+Uv7tIAhnsvyJ/p5MadOi/F9rE/JPQ47+e98YVd73cv5rP6R2FrtC/Lpz0UgWPr7+HmbogrufBP8ooOCxXfNU/TrCusI+S4D+wY8RtZLrlP6KODSj7/+k/4Dxd9dg27T8=\",\"dtype\":\"float64\",\"order\":\"little\",\"shape\":[100]}},\"selected\":{\"id\":\"1118\"},\"selection_policy\":{\"id\":\"1117\"}},\"id\":\"1104\",\"type\":\"ColumnDataSource\"},{\"attributes\":{\"line_alpha\":0.1,\"line_color\":\"#1f77b4\",\"x\":{\"field\":\"x\"},\"y\":{\"field\":\"y\"}},\"id\":\"1106\",\"type\":\"Line\"},{\"attributes\":{},\"id\":\"1090\",\"type\":\"PanTool\"},{\"attributes\":{\"coordinates\":null,\"data_source\":{\"id\":\"1104\"},\"glyph\":{\"id\":\"1105\"},\"group\":null,\"hover_glyph\":null,\"muted_glyph\":{\"id\":\"1107\"},\"nonselection_glyph\":{\"id\":\"1106\"},\"view\":{\"id\":\"1109\"}},\"id\":\"1108\",\"type\":\"GlyphRenderer\"},{\"attributes\":{\"line_color\":\"#1f77b4\",\"x\":{\"field\":\"x\"},\"y\":{\"field\":\"y\"}},\"id\":\"1105\",\"type\":\"Line\"},{\"attributes\":{},\"id\":\"1091\",\"type\":\"WheelZoomTool\"},{\"attributes\":{\"source\":{\"id\":\"1104\"}},\"id\":\"1109\",\"type\":\"CDSView\"},{\"attributes\":{\"below\":[{\"id\":\"1082\"}],\"center\":[{\"id\":\"1085\"},{\"id\":\"1089\"}],\"height\":300,\"left\":[{\"id\":\"1086\"}],\"renderers\":[{\"id\":\"1108\"}],\"title\":{\"id\":\"1072\"},\"toolbar\":{\"id\":\"1097\"},\"x_range\":{\"id\":\"1074\"},\"x_scale\":{\"id\":\"1078\"},\"y_range\":{\"id\":\"1076\"},\"y_scale\":{\"id\":\"1080\"}},\"id\":\"1071\",\"subtype\":\"Figure\",\"type\":\"Plot\"},{\"attributes\":{\"overlay\":{\"id\":\"1096\"}},\"id\":\"1092\",\"type\":\"BoxZoomTool\"},{\"attributes\":{},\"id\":\"1115\",\"type\":\"BasicTickFormatter\"},{\"attributes\":{},\"id\":\"1116\",\"type\":\"AllLabels\"},{\"attributes\":{},\"id\":\"1074\",\"type\":\"DataRange1d\"},{\"attributes\":{},\"id\":\"1093\",\"type\":\"SaveTool\"},{\"attributes\":{},\"id\":\"1117\",\"type\":\"UnionRenderers\"},{\"attributes\":{\"coordinates\":null,\"group\":null,\"text\":\"sine curve\"},\"id\":\"1072\",\"type\":\"Title\"},{\"attributes\":{\"line_alpha\":0.2,\"line_color\":\"#1f77b4\",\"x\":{\"field\":\"x\"},\"y\":{\"field\":\"y\"}},\"id\":\"1107\",\"type\":\"Line\"},{\"attributes\":{},\"id\":\"1094\",\"type\":\"ResetTool\"},{\"attributes\":{},\"id\":\"1095\",\"type\":\"HelpTool\"},{\"attributes\":{},\"id\":\"1078\",\"type\":\"LinearScale\"},{\"attributes\":{\"end\":5,\"start\":-5},\"id\":\"1076\",\"type\":\"Range1d\"},{\"attributes\":{\"tools\":[{\"id\":\"1090\"},{\"id\":\"1091\"},{\"id\":\"1092\"},{\"id\":\"1093\"},{\"id\":\"1094\"},{\"id\":\"1095\"}]},\"id\":\"1097\",\"type\":\"Toolbar\"},{\"attributes\":{\"bottom_units\":\"screen\",\"coordinates\":null,\"fill_alpha\":0.5,\"fill_color\":\"lightgrey\",\"group\":null,\"left_units\":\"screen\",\"level\":\"overlay\",\"line_alpha\":1.0,\"line_color\":\"black\",\"line_dash\":[4,4],\"line_width\":2,\"right_units\":\"screen\",\"syncable\":false,\"top_units\":\"screen\"},\"id\":\"1096\",\"type\":\"BoxAnnotation\"},{\"attributes\":{},\"id\":\"1080\",\"type\":\"LinearScale\"},{\"attributes\":{},\"id\":\"1118\",\"type\":\"Selection\"},{\"attributes\":{\"coordinates\":null,\"formatter\":{\"id\":\"1112\"},\"group\":null,\"major_label_policy\":{\"id\":\"1113\"},\"ticker\":{\"id\":\"1087\"}},\"id\":\"1086\",\"type\":\"LinearAxis\"},{\"attributes\":{\"axis\":{\"id\":\"1082\"},\"coordinates\":null,\"group\":null,\"ticker\":null},\"id\":\"1085\",\"type\":\"Grid\"},{\"attributes\":{\"axis\":{\"id\":\"1086\"},\"coordinates\":null,\"dimension\":1,\"group\":null,\"ticker\":null},\"id\":\"1089\",\"type\":\"Grid\"},{\"attributes\":{\"coordinates\":null,\"formatter\":{\"id\":\"1115\"},\"group\":null,\"major_label_policy\":{\"id\":\"1116\"},\"ticker\":{\"id\":\"1083\"}},\"id\":\"1082\",\"type\":\"LinearAxis\"},{\"attributes\":{},\"id\":\"1112\",\"type\":\"BasicTickFormatter\"},{\"attributes\":{},\"id\":\"1083\",\"type\":\"BasicTicker\"},{\"attributes\":{},\"id\":\"1087\",\"type\":\"BasicTicker\"}],\"root_ids\":[\"1071\"]},\"title\":\"Bokeh Application\",\"version\":\"2.4.3\"}},\"render_items\":[{\"docid\":\"23e80595-6766-49ce-93ae-9a56d4340af8\",\"root_ids\":[\"1071\"],\"roots\":{\"1071\":\"1cafeb22-3614-455b-9f5b-c515b3822dc5\"}}]}"
          }
        },
        "81e871b656214383a50fdc2174f0ca43": {
          "model_module": "@jupyter-widgets/base",
          "model_name": "LayoutModel",
          "model_module_version": "1.2.0",
          "state": {
            "_model_module": "@jupyter-widgets/base",
            "_model_module_version": "1.2.0",
            "_model_name": "LayoutModel",
            "_view_count": null,
            "_view_module": "@jupyter-widgets/base",
            "_view_module_version": "1.2.0",
            "_view_name": "LayoutView",
            "align_content": null,
            "align_items": null,
            "align_self": null,
            "border": null,
            "bottom": null,
            "display": null,
            "flex": null,
            "flex_flow": null,
            "grid_area": null,
            "grid_auto_columns": null,
            "grid_auto_flow": null,
            "grid_auto_rows": null,
            "grid_column": null,
            "grid_gap": null,
            "grid_row": null,
            "grid_template_areas": null,
            "grid_template_columns": null,
            "grid_template_rows": null,
            "height": null,
            "justify_content": null,
            "justify_items": null,
            "left": null,
            "margin": null,
            "max_height": null,
            "max_width": null,
            "min_height": null,
            "min_width": null,
            "object_fit": null,
            "object_position": null,
            "order": null,
            "overflow": null,
            "overflow_x": null,
            "overflow_y": null,
            "padding": null,
            "right": null,
            "top": null,
            "visibility": null,
            "width": null
          }
        },
        "823ff11a78fe42c5a70b80ef86807913": {
          "model_module": "@jupyter-widgets/base",
          "model_name": "LayoutModel",
          "model_module_version": "1.2.0",
          "state": {
            "_model_module": "@jupyter-widgets/base",
            "_model_module_version": "1.2.0",
            "_model_name": "LayoutModel",
            "_view_count": null,
            "_view_module": "@jupyter-widgets/base",
            "_view_module_version": "1.2.0",
            "_view_name": "LayoutView",
            "align_content": null,
            "align_items": null,
            "align_self": null,
            "border": null,
            "bottom": null,
            "display": null,
            "flex": null,
            "flex_flow": null,
            "grid_area": null,
            "grid_auto_columns": null,
            "grid_auto_flow": null,
            "grid_auto_rows": null,
            "grid_column": null,
            "grid_gap": null,
            "grid_row": null,
            "grid_template_areas": null,
            "grid_template_columns": null,
            "grid_template_rows": null,
            "height": null,
            "justify_content": null,
            "justify_items": null,
            "left": null,
            "margin": null,
            "max_height": null,
            "max_width": null,
            "min_height": null,
            "min_width": null,
            "object_fit": null,
            "object_position": null,
            "order": null,
            "overflow": null,
            "overflow_x": null,
            "overflow_y": null,
            "padding": null,
            "right": null,
            "top": null,
            "visibility": null,
            "width": null
          }
        },
        "e4b67ee189d1431985478aaa0da9ad1c": {
          "model_module": "@jupyter-widgets/controls",
          "model_name": "VBoxModel",
          "model_module_version": "1.5.0",
          "state": {
            "_dom_classes": [],
            "_model_module": "@jupyter-widgets/controls",
            "_model_module_version": "1.5.0",
            "_model_name": "VBoxModel",
            "_view_count": null,
            "_view_module": "@jupyter-widgets/controls",
            "_view_module_version": "1.5.0",
            "_view_name": "VBoxView",
            "box_style": "",
            "children": [
              "IPY_MODEL_d32d19395e604b118396c95eb8b86853"
            ],
            "layout": "IPY_MODEL_50e6497bbe5e4c50a17c13766affcf74"
          }
        },
        "d32d19395e604b118396c95eb8b86853": {
          "model_module": "bqplot",
          "model_name": "FigureModel",
          "model_module_version": "^0.5",
          "state": {
            "_dom_classes": [],
            "_model_module": "bqplot",
            "_model_module_version": "^0.5",
            "_model_name": "FigureModel",
            "_view_count": null,
            "_view_module": "bqplot",
            "_view_module_version": "^0.5",
            "_view_name": "Figure",
            "animation_duration": 0,
            "axes": [
              "IPY_MODEL_9c841ae823d24fd1bd19a2f98ab1b0e6",
              "IPY_MODEL_d99e1a377d9247e8ba827162aa19787a"
            ],
            "background_style": {},
            "fig_margin": {
              "top": 60,
              "bottom": 60,
              "left": 60,
              "right": 60
            },
            "interaction": null,
            "layout": "IPY_MODEL_8a45394e2eb7409099828c4e61ed5d8b",
            "legend_location": "top-right",
            "legend_style": {},
            "legend_text": {},
            "marks": [
              "IPY_MODEL_06e0bdaf21fb4e3182254d2e08159e4f"
            ],
            "max_aspect_ratio": 100,
            "min_aspect_ratio": 0.01,
            "padding_x": 0,
            "padding_y": 0.025,
            "pixel_ratio": null,
            "scale_x": "IPY_MODEL_682cab2a975a4f95bdff0b69a37a0874",
            "scale_y": "IPY_MODEL_f5283c51b38f4d5e9dc8b4c3eebdb591",
            "theme": "classic",
            "title": "sine curve",
            "title_style": {}
          }
        },
        "50e6497bbe5e4c50a17c13766affcf74": {
          "model_module": "@jupyter-widgets/base",
          "model_name": "LayoutModel",
          "model_module_version": "1.2.0",
          "state": {
            "_model_module": "@jupyter-widgets/base",
            "_model_module_version": "1.2.0",
            "_model_name": "LayoutModel",
            "_view_count": null,
            "_view_module": "@jupyter-widgets/base",
            "_view_module_version": "1.2.0",
            "_view_name": "LayoutView",
            "align_content": null,
            "align_items": null,
            "align_self": null,
            "border": null,
            "bottom": null,
            "display": null,
            "flex": null,
            "flex_flow": null,
            "grid_area": null,
            "grid_auto_columns": null,
            "grid_auto_flow": null,
            "grid_auto_rows": null,
            "grid_column": null,
            "grid_gap": null,
            "grid_row": null,
            "grid_template_areas": null,
            "grid_template_columns": null,
            "grid_template_rows": null,
            "height": null,
            "justify_content": null,
            "justify_items": null,
            "left": null,
            "margin": null,
            "max_height": null,
            "max_width": null,
            "min_height": null,
            "min_width": null,
            "object_fit": null,
            "object_position": null,
            "order": null,
            "overflow": null,
            "overflow_x": null,
            "overflow_y": null,
            "padding": null,
            "right": null,
            "top": null,
            "visibility": null,
            "width": null
          }
        },
        "9c841ae823d24fd1bd19a2f98ab1b0e6": {
          "model_module": "bqplot",
          "model_name": "AxisModel",
          "model_module_version": "^0.5",
          "state": {
            "_model_module": "bqplot",
            "_model_module_version": "^0.5",
            "_model_name": "AxisModel",
            "_view_count": null,
            "_view_module": "bqplot",
            "_view_module_version": "^0.5",
            "_view_name": "Axis",
            "color": null,
            "grid_color": null,
            "grid_lines": "solid",
            "label": "",
            "label_color": null,
            "label_location": "middle",
            "label_offset": null,
            "num_ticks": null,
            "offset": {},
            "orientation": "horizontal",
            "scale": "IPY_MODEL_63b04393a1174cb8b674089747413b7d",
            "side": "bottom",
            "tick_format": null,
            "tick_rotate": 0,
            "tick_style": {},
            "tick_values": null,
            "visible": true
          }
        },
        "d99e1a377d9247e8ba827162aa19787a": {
          "model_module": "bqplot",
          "model_name": "AxisModel",
          "model_module_version": "^0.5",
          "state": {
            "_model_module": "bqplot",
            "_model_module_version": "^0.5",
            "_model_name": "AxisModel",
            "_view_count": null,
            "_view_module": "bqplot",
            "_view_module_version": "^0.5",
            "_view_name": "Axis",
            "color": null,
            "grid_color": null,
            "grid_lines": "solid",
            "label": "",
            "label_color": null,
            "label_location": "middle",
            "label_offset": null,
            "num_ticks": null,
            "offset": {},
            "orientation": "vertical",
            "scale": "IPY_MODEL_3c0c398a8afd4f2cac10b4c7bbc1c189",
            "side": "left",
            "tick_format": null,
            "tick_rotate": 0,
            "tick_style": {},
            "tick_values": null,
            "visible": true
          }
        },
        "8a45394e2eb7409099828c4e61ed5d8b": {
          "model_module": "@jupyter-widgets/base",
          "model_name": "LayoutModel",
          "model_module_version": "1.2.0",
          "state": {
            "_model_module": "@jupyter-widgets/base",
            "_model_module_version": "1.2.0",
            "_model_name": "LayoutModel",
            "_view_count": null,
            "_view_module": "@jupyter-widgets/base",
            "_view_module_version": "1.2.0",
            "_view_name": "LayoutView",
            "align_content": null,
            "align_items": null,
            "align_self": null,
            "border": null,
            "bottom": null,
            "display": null,
            "flex": null,
            "flex_flow": null,
            "grid_area": null,
            "grid_auto_columns": null,
            "grid_auto_flow": null,
            "grid_auto_rows": null,
            "grid_column": null,
            "grid_gap": null,
            "grid_row": null,
            "grid_template_areas": null,
            "grid_template_columns": null,
            "grid_template_rows": null,
            "height": null,
            "justify_content": null,
            "justify_items": null,
            "left": null,
            "margin": null,
            "max_height": null,
            "max_width": null,
            "min_height": null,
            "min_width": null,
            "object_fit": null,
            "object_position": null,
            "order": null,
            "overflow": null,
            "overflow_x": null,
            "overflow_y": null,
            "padding": null,
            "right": null,
            "top": null,
            "visibility": null,
            "width": null
          }
        },
        "06e0bdaf21fb4e3182254d2e08159e4f": {
          "model_module": "bqplot",
          "model_name": "LinesModel",
          "model_module_version": "^0.5",
          "state": {
            "_model_module": "bqplot",
            "_model_module_version": "^0.5",
            "_model_name": "LinesModel",
            "_view_count": null,
            "_view_module": "bqplot",
            "_view_module_version": "^0.5",
            "_view_name": "Lines",
            "apply_clip": true,
            "close_path": false,
            "color": null,
            "colors": [
              "#1f77b4",
              "#ff7f0e",
              "#2ca02c",
              "#d62728",
              "#9467bd",
              "#8c564b",
              "#e377c2",
              "#7f7f7f",
              "#bcbd22",
              "#17becf"
            ],
            "curves_subset": [],
            "display_legend": false,
            "enable_hover": true,
            "fill": "none",
            "fill_colors": [],
            "fill_opacities": [],
            "interactions": {
              "hover": "tooltip"
            },
            "interpolation": "linear",
            "labels": [],
            "labels_visibility": "none",
            "line_style": "solid",
            "marker": null,
            "marker_size": 64,
            "opacities": [],
            "preserve_domain": {},
            "scales": {
              "x": "IPY_MODEL_63b04393a1174cb8b674089747413b7d",
              "y": "IPY_MODEL_3c0c398a8afd4f2cac10b4c7bbc1c189"
            },
            "scales_metadata": {
              "x": {
                "orientation": "horizontal",
                "dimension": "x"
              },
              "y": {
                "orientation": "vertical",
                "dimension": "y"
              },
              "color": {
                "dimension": "color"
              }
            },
            "selected": null,
            "selected_style": {},
            "stroke_width": 2,
            "tooltip": null,
            "tooltip_location": "mouse",
            "tooltip_style": {
              "opacity": 0.9
            },
            "unselected_style": {},
            "visible": true,
            "x": {
              "dtype": "float64",
              "shape": [
                100
              ],
              "type": null
            },
            "y": {
              "dtype": "float64",
              "shape": [
                100
              ],
              "type": null
            }
          }
        },
        "682cab2a975a4f95bdff0b69a37a0874": {
          "model_module": "bqplot",
          "model_name": "LinearScaleModel",
          "model_module_version": "^0.5",
          "state": {
            "_model_module": "bqplot",
            "_model_module_version": "^0.5",
            "_model_name": "LinearScaleModel",
            "_view_count": null,
            "_view_module": "bqplot",
            "_view_module_version": "^0.5",
            "_view_name": "LinearScale",
            "allow_padding": false,
            "max": 1,
            "mid_range": 0.8,
            "min": 0,
            "min_range": 0.6,
            "reverse": false,
            "stabilized": false
          }
        },
        "f5283c51b38f4d5e9dc8b4c3eebdb591": {
          "model_module": "bqplot",
          "model_name": "LinearScaleModel",
          "model_module_version": "^0.5",
          "state": {
            "_model_module": "bqplot",
            "_model_module_version": "^0.5",
            "_model_name": "LinearScaleModel",
            "_view_count": null,
            "_view_module": "bqplot",
            "_view_module_version": "^0.5",
            "_view_name": "LinearScale",
            "allow_padding": false,
            "max": 1,
            "mid_range": 0.8,
            "min": 0,
            "min_range": 0.6,
            "reverse": false,
            "stabilized": false
          }
        },
        "63b04393a1174cb8b674089747413b7d": {
          "model_module": "bqplot",
          "model_name": "LinearScaleModel",
          "model_module_version": "^0.5",
          "state": {
            "_model_module": "bqplot",
            "_model_module_version": "^0.5",
            "_model_name": "LinearScaleModel",
            "_view_count": null,
            "_view_module": "bqplot",
            "_view_module_version": "^0.5",
            "_view_name": "LinearScale",
            "allow_padding": true,
            "max": null,
            "mid_range": 0.8,
            "min": null,
            "min_range": 0.6,
            "reverse": false,
            "stabilized": false
          }
        },
        "3c0c398a8afd4f2cac10b4c7bbc1c189": {
          "model_module": "bqplot",
          "model_name": "LinearScaleModel",
          "model_module_version": "^0.5",
          "state": {
            "_model_module": "bqplot",
            "_model_module_version": "^0.5",
            "_model_name": "LinearScaleModel",
            "_view_count": null,
            "_view_module": "bqplot",
            "_view_module_version": "^0.5",
            "_view_name": "LinearScale",
            "allow_padding": true,
            "max": null,
            "mid_range": 0.8,
            "min": null,
            "min_range": 0.6,
            "reverse": false,
            "stabilized": false
          }
        },
        "dd2f9a9d717741bf9419cc80d5c5f60e": {
          "model_module": "bqplot",
          "model_name": "FigureModel",
          "model_module_version": "^0.5",
          "state": {
            "_dom_classes": [],
            "_model_module": "bqplot",
            "_model_module_version": "^0.5",
            "_model_name": "FigureModel",
            "_view_count": null,
            "_view_module": "bqplot",
            "_view_module_version": "^0.5",
            "_view_name": "Figure",
            "animation_duration": 0,
            "axes": [
              "IPY_MODEL_e7ea36dd09ed45db862f1893bca01cdd",
              "IPY_MODEL_38d6a81f7abc480cb4ad4a9648224089"
            ],
            "background_style": {},
            "fig_margin": {
              "top": 60,
              "bottom": 60,
              "left": 60,
              "right": 60
            },
            "interaction": null,
            "layout": "IPY_MODEL_bcacdc21e18144a1aea4383eab9af325",
            "legend_location": "top-right",
            "legend_style": {},
            "legend_text": {},
            "marks": [
              "IPY_MODEL_11d3523a94364442b057d69c675437d2"
            ],
            "max_aspect_ratio": 100,
            "min_aspect_ratio": 0.01,
            "padding_x": 0,
            "padding_y": 0.025,
            "pixel_ratio": null,
            "scale_x": "IPY_MODEL_48938f8f44614b7c872a3198a5cdfcfb",
            "scale_y": "IPY_MODEL_1e2043f01a6e43ee890b44379ae5e5b4",
            "theme": "classic",
            "title": "",
            "title_style": {}
          }
        },
        "e7ea36dd09ed45db862f1893bca01cdd": {
          "model_module": "bqplot",
          "model_name": "AxisModel",
          "model_module_version": "^0.5",
          "state": {
            "_model_module": "bqplot",
            "_model_module_version": "^0.5",
            "_model_name": "AxisModel",
            "_view_count": null,
            "_view_module": "bqplot",
            "_view_module_version": "^0.5",
            "_view_name": "Axis",
            "color": null,
            "grid_color": null,
            "grid_lines": "solid",
            "label": "",
            "label_color": null,
            "label_location": "middle",
            "label_offset": null,
            "num_ticks": null,
            "offset": {},
            "orientation": "horizontal",
            "scale": "IPY_MODEL_1617d6956593467b96af3ad4f955f079",
            "side": "bottom",
            "tick_format": null,
            "tick_rotate": 0,
            "tick_style": {},
            "tick_values": null,
            "visible": true
          }
        },
        "38d6a81f7abc480cb4ad4a9648224089": {
          "model_module": "bqplot",
          "model_name": "AxisModel",
          "model_module_version": "^0.5",
          "state": {
            "_model_module": "bqplot",
            "_model_module_version": "^0.5",
            "_model_name": "AxisModel",
            "_view_count": null,
            "_view_module": "bqplot",
            "_view_module_version": "^0.5",
            "_view_name": "Axis",
            "color": null,
            "grid_color": null,
            "grid_lines": "solid",
            "label": "",
            "label_color": null,
            "label_location": "middle",
            "label_offset": null,
            "num_ticks": null,
            "offset": {},
            "orientation": "vertical",
            "scale": "IPY_MODEL_a607e3a395e9473b9ca112a5691f288a",
            "side": "left",
            "tick_format": null,
            "tick_rotate": 0,
            "tick_style": {},
            "tick_values": null,
            "visible": true
          }
        },
        "bcacdc21e18144a1aea4383eab9af325": {
          "model_module": "@jupyter-widgets/base",
          "model_name": "LayoutModel",
          "model_module_version": "1.2.0",
          "state": {
            "_model_module": "@jupyter-widgets/base",
            "_model_module_version": "1.2.0",
            "_model_name": "LayoutModel",
            "_view_count": null,
            "_view_module": "@jupyter-widgets/base",
            "_view_module_version": "1.2.0",
            "_view_name": "LayoutView",
            "align_content": null,
            "align_items": null,
            "align_self": null,
            "border": null,
            "bottom": null,
            "display": null,
            "flex": null,
            "flex_flow": null,
            "grid_area": null,
            "grid_auto_columns": null,
            "grid_auto_flow": null,
            "grid_auto_rows": null,
            "grid_column": null,
            "grid_gap": null,
            "grid_row": null,
            "grid_template_areas": null,
            "grid_template_columns": null,
            "grid_template_rows": null,
            "height": null,
            "justify_content": null,
            "justify_items": null,
            "left": null,
            "margin": null,
            "max_height": null,
            "max_width": null,
            "min_height": null,
            "min_width": null,
            "object_fit": null,
            "object_position": null,
            "order": null,
            "overflow": null,
            "overflow_x": null,
            "overflow_y": null,
            "padding": null,
            "right": null,
            "top": null,
            "visibility": null,
            "width": null
          }
        },
        "11d3523a94364442b057d69c675437d2": {
          "model_module": "bqplot",
          "model_name": "LabelModel",
          "model_module_version": "^0.5",
          "state": {
            "_model_module": "bqplot",
            "_model_module_version": "^0.5",
            "_model_name": "LabelModel",
            "_view_count": null,
            "_view_module": "bqplot",
            "_view_module_version": "^0.5",
            "_view_name": "Label",
            "align": "start",
            "apply_clip": true,
            "color": null,
            "colors": [
              "rgb(68, 59, 132)",
              "rgb(42, 119, 142)",
              "rgb(67, 62, 133)",
              "rgb(108, 205, 90)",
              "rgb(0,0,0)"
            ],
            "default_size": 50,
            "display_legend": false,
            "drag_size": 1,
            "enable_delete": false,
            "enable_hover": true,
            "enable_move": false,
            "font_unit": "px",
            "font_weight": "bold",
            "hovered_point": null,
            "hovered_style": {},
            "interactions": {
              "hover": "tooltip"
            },
            "labels": [],
            "opacities": {
              "dtype": "float64",
              "shape": [
                1
              ],
              "type": null
            },
            "opacity": null,
            "preserve_domain": {},
            "restrict_x": false,
            "restrict_y": false,
            "rotate_angle": 0,
            "rotation": null,
            "scales": {
              "size": "IPY_MODEL_dd970634d0d44c06b906841ed970a0a1",
              "x": "IPY_MODEL_1617d6956593467b96af3ad4f955f079",
              "y": "IPY_MODEL_a607e3a395e9473b9ca112a5691f288a"
            },
            "scales_metadata": {
              "x": {
                "orientation": "horizontal",
                "dimension": "x"
              },
              "y": {
                "orientation": "vertical",
                "dimension": "y"
              },
              "color": {
                "dimension": "color"
              },
              "size": {
                "dimension": "size"
              },
              "opacity": {
                "dimension": "opacity"
              },
              "rotation": {
                "dimension": "rotation"
              }
            },
            "selected": null,
            "selected_style": {},
            "size": {
              "dtype": "int32",
              "shape": [
                5
              ],
              "type": null
            },
            "text": [
              "test",
              "emergency",
              "broadcast",
              "system",
              ""
            ],
            "tooltip": null,
            "tooltip_location": "mouse",
            "tooltip_style": {
              "opacity": 0.9
            },
            "unhovered_style": {},
            "unselected_style": {},
            "update_on_move": false,
            "visible": true,
            "x": {
              "dtype": "int32",
              "shape": [
                4
              ],
              "type": null
            },
            "x_offset": 0,
            "y": {
              "dtype": "int32",
              "shape": [
                4
              ],
              "type": null
            },
            "y_offset": 0
          }
        },
        "48938f8f44614b7c872a3198a5cdfcfb": {
          "model_module": "bqplot",
          "model_name": "LinearScaleModel",
          "model_module_version": "^0.5",
          "state": {
            "_model_module": "bqplot",
            "_model_module_version": "^0.5",
            "_model_name": "LinearScaleModel",
            "_view_count": null,
            "_view_module": "bqplot",
            "_view_module_version": "^0.5",
            "_view_name": "LinearScale",
            "allow_padding": false,
            "max": 1,
            "mid_range": 0.8,
            "min": 0,
            "min_range": 0.6,
            "reverse": false,
            "stabilized": false
          }
        },
        "1e2043f01a6e43ee890b44379ae5e5b4": {
          "model_module": "bqplot",
          "model_name": "LinearScaleModel",
          "model_module_version": "^0.5",
          "state": {
            "_model_module": "bqplot",
            "_model_module_version": "^0.5",
            "_model_name": "LinearScaleModel",
            "_view_count": null,
            "_view_module": "bqplot",
            "_view_module_version": "^0.5",
            "_view_name": "LinearScale",
            "allow_padding": false,
            "max": 1,
            "mid_range": 0.8,
            "min": 0,
            "min_range": 0.6,
            "reverse": false,
            "stabilized": false
          }
        },
        "1617d6956593467b96af3ad4f955f079": {
          "model_module": "bqplot",
          "model_name": "LinearScaleModel",
          "model_module_version": "^0.5",
          "state": {
            "_model_module": "bqplot",
            "_model_module_version": "^0.5",
            "_model_name": "LinearScaleModel",
            "_view_count": null,
            "_view_module": "bqplot",
            "_view_module_version": "^0.5",
            "_view_name": "LinearScale",
            "allow_padding": true,
            "max": null,
            "mid_range": 0.8,
            "min": null,
            "min_range": 0.6,
            "reverse": false,
            "stabilized": false
          }
        },
        "a607e3a395e9473b9ca112a5691f288a": {
          "model_module": "bqplot",
          "model_name": "LinearScaleModel",
          "model_module_version": "^0.5",
          "state": {
            "_model_module": "bqplot",
            "_model_module_version": "^0.5",
            "_model_name": "LinearScaleModel",
            "_view_count": null,
            "_view_module": "bqplot",
            "_view_module_version": "^0.5",
            "_view_name": "LinearScale",
            "allow_padding": true,
            "max": 196,
            "mid_range": 0.8,
            "min": 30,
            "min_range": 0.6,
            "reverse": false,
            "stabilized": false
          }
        },
        "dd970634d0d44c06b906841ed970a0a1": {
          "model_module": "bqplot",
          "model_name": "LinearScaleModel",
          "model_module_version": "^0.5",
          "state": {
            "_model_module": "bqplot",
            "_model_module_version": "^0.5",
            "_model_name": "LinearScaleModel",
            "_view_count": null,
            "_view_module": "bqplot",
            "_view_module_version": "^0.5",
            "_view_name": "LinearScale",
            "allow_padding": true,
            "max": null,
            "mid_range": 0.8,
            "min": null,
            "min_range": 0.6,
            "reverse": false,
            "stabilized": false
          }
        },
        "742cdb7448584ab7bf29d31b957c8b76": {
          "model_module": "ipysheet",
          "model_name": "SheetModel",
          "model_module_version": "~0.5.0",
          "state": {
            "_dom_classes": [],
            "_model_module": "ipysheet",
            "_model_module_version": "~0.5.0",
            "_model_name": "SheetModel",
            "_view_count": null,
            "_view_module": "ipysheet",
            "_view_module_version": "~0.5.0",
            "_view_name": "SheetView",
            "cells": [
              "IPY_MODEL_1a0b4f43c54a4af897fdc50c93526193",
              "IPY_MODEL_d1c20ffb0b204088bfedc0dd2195dc7a",
              "IPY_MODEL_140cb5740c784851a2f8aec1a25b6566",
              "IPY_MODEL_e09d184322c742d580ab10cf7254b8dc",
              "IPY_MODEL_4e36cdb9233344229334b097b72c48bf"
            ],
            "column_headers": [
              "sepal length (cm)",
              "sepal width (cm)",
              "petal length (cm)",
              "petal width (cm)",
              "target"
            ],
            "column_resizing": true,
            "column_width": null,
            "columns": 5,
            "layout": "IPY_MODEL_c4226830101d48d1b37ed05773d29caa",
            "named_cells": {},
            "row_headers": [
              "0",
              "1",
              "2",
              "3",
              "4",
              "5",
              "6",
              "7",
              "8",
              "9",
              "10",
              "11",
              "12",
              "13",
              "14",
              "15",
              "16",
              "17",
              "18",
              "19",
              "20",
              "21",
              "22",
              "23",
              "24",
              "25",
              "26",
              "27",
              "28",
              "29",
              "30",
              "31",
              "32",
              "33",
              "34",
              "35",
              "36",
              "37",
              "38",
              "39",
              "40",
              "41",
              "42",
              "43",
              "44",
              "45",
              "46",
              "47",
              "48",
              "49",
              "50",
              "51",
              "52",
              "53",
              "54",
              "55",
              "56",
              "57",
              "58",
              "59",
              "60",
              "61",
              "62",
              "63",
              "64",
              "65",
              "66",
              "67",
              "68",
              "69",
              "70",
              "71",
              "72",
              "73",
              "74",
              "75",
              "76",
              "77",
              "78",
              "79",
              "80",
              "81",
              "82",
              "83",
              "84",
              "85",
              "86",
              "87",
              "88",
              "89",
              "90",
              "91",
              "92",
              "93",
              "94",
              "95",
              "96",
              "97",
              "98",
              "99",
              "100",
              "101",
              "102",
              "103",
              "104",
              "105",
              "106",
              "107",
              "108",
              "109",
              "110",
              "111",
              "112",
              "113",
              "114",
              "115",
              "116",
              "117",
              "118",
              "119",
              "120",
              "121",
              "122",
              "123",
              "124",
              "125",
              "126",
              "127",
              "128",
              "129",
              "130",
              "131",
              "132",
              "133",
              "134",
              "135",
              "136",
              "137",
              "138",
              "139",
              "140",
              "141",
              "142",
              "143",
              "144",
              "145",
              "146",
              "147",
              "148",
              "149"
            ],
            "row_resizing": true,
            "rows": 150,
            "search_token": "",
            "stretch_headers": "all"
          }
        },
        "172783b6fef248aeb26df3604e244b49": {
          "model_module": "qgrid",
          "model_name": "QgridModel",
          "model_module_version": "^1.1.3",
          "state": {
            "_columns": {
              "index": {
                "name": "index",
                "type": "integer",
                "is_index": true,
                "index_display_text": "",
                "level": 0,
                "first_index": true,
                "position": 0,
                "field": "index",
                "id": "index",
                "cssClass": "integer"
              },
              "qgrid_unfiltered_index": {
                "name": "qgrid_unfiltered_index",
                "type": "integer",
                "position": 1,
                "field": "qgrid_unfiltered_index",
                "id": "qgrid_unfiltered_index",
                "cssClass": "integer"
              },
              "sepal length (cm)": {
                "name": "sepal length (cm)",
                "type": "number",
                "position": 2,
                "field": "sepal length (cm)",
                "id": "sepal length (cm)",
                "cssClass": "number"
              },
              "sepal width (cm)": {
                "name": "sepal width (cm)",
                "type": "number",
                "position": 3,
                "field": "sepal width (cm)",
                "id": "sepal width (cm)",
                "cssClass": "number"
              },
              "petal length (cm)": {
                "name": "petal length (cm)",
                "type": "number",
                "position": 4,
                "field": "petal length (cm)",
                "id": "petal length (cm)",
                "cssClass": "number"
              },
              "petal width (cm)": {
                "name": "petal width (cm)",
                "type": "number",
                "position": 5,
                "field": "petal width (cm)",
                "id": "petal width (cm)",
                "cssClass": "number"
              },
              "target": {
                "name": "target",
                "type": "number",
                "position": 6,
                "field": "target",
                "id": "target",
                "cssClass": "number"
              }
            },
            "_df_json": "{\"schema\":{\"fields\":[{\"name\":\"index\",\"type\":\"integer\"},{\"name\":\"qgrid_unfiltered_index\",\"type\":\"integer\"},{\"name\":\"sepal length (cm)\",\"type\":\"number\"},{\"name\":\"sepal width (cm)\",\"type\":\"number\"},{\"name\":\"petal length (cm)\",\"type\":\"number\"},{\"name\":\"petal width (cm)\",\"type\":\"number\"},{\"name\":\"target\",\"type\":\"number\"}],\"primaryKey\":[\"index\"],\"pandas_version\":\"0.20.0\"},\"data\":[{\"index\":0,\"qgrid_unfiltered_index\":0,\"sepal length (cm)\":5.1,\"sepal width (cm)\":3.5,\"petal length (cm)\":1.4,\"petal width (cm)\":0.2,\"target\":0.0},{\"index\":1,\"qgrid_unfiltered_index\":1,\"sepal length (cm)\":4.9,\"sepal width (cm)\":3.0,\"petal length (cm)\":1.4,\"petal width (cm)\":0.2,\"target\":0.0},{\"index\":2,\"qgrid_unfiltered_index\":2,\"sepal length (cm)\":4.7,\"sepal width (cm)\":3.2,\"petal length (cm)\":1.3,\"petal width (cm)\":0.2,\"target\":0.0},{\"index\":3,\"qgrid_unfiltered_index\":3,\"sepal length (cm)\":4.6,\"sepal width (cm)\":3.1,\"petal length (cm)\":1.5,\"petal width (cm)\":0.2,\"target\":0.0},{\"index\":4,\"qgrid_unfiltered_index\":4,\"sepal length (cm)\":5.0,\"sepal width (cm)\":3.6,\"petal length (cm)\":1.4,\"petal width (cm)\":0.2,\"target\":0.0},{\"index\":5,\"qgrid_unfiltered_index\":5,\"sepal length (cm)\":5.4,\"sepal width (cm)\":3.9,\"petal length (cm)\":1.7,\"petal width (cm)\":0.4,\"target\":0.0},{\"index\":6,\"qgrid_unfiltered_index\":6,\"sepal length (cm)\":4.6,\"sepal width (cm)\":3.4,\"petal length (cm)\":1.4,\"petal width (cm)\":0.3,\"target\":0.0},{\"index\":7,\"qgrid_unfiltered_index\":7,\"sepal length (cm)\":5.0,\"sepal width (cm)\":3.4,\"petal length (cm)\":1.5,\"petal width (cm)\":0.2,\"target\":0.0},{\"index\":8,\"qgrid_unfiltered_index\":8,\"sepal length (cm)\":4.4,\"sepal width (cm)\":2.9,\"petal length (cm)\":1.4,\"petal width (cm)\":0.2,\"target\":0.0},{\"index\":9,\"qgrid_unfiltered_index\":9,\"sepal length (cm)\":4.9,\"sepal width (cm)\":3.1,\"petal length (cm)\":1.5,\"petal width (cm)\":0.1,\"target\":0.0},{\"index\":10,\"qgrid_unfiltered_index\":10,\"sepal length (cm)\":5.4,\"sepal width (cm)\":3.7,\"petal length (cm)\":1.5,\"petal width (cm)\":0.2,\"target\":0.0},{\"index\":11,\"qgrid_unfiltered_index\":11,\"sepal length (cm)\":4.8,\"sepal width (cm)\":3.4,\"petal length (cm)\":1.6,\"petal width (cm)\":0.2,\"target\":0.0},{\"index\":12,\"qgrid_unfiltered_index\":12,\"sepal length (cm)\":4.8,\"sepal width (cm)\":3.0,\"petal length (cm)\":1.4,\"petal width (cm)\":0.1,\"target\":0.0},{\"index\":13,\"qgrid_unfiltered_index\":13,\"sepal length (cm)\":4.3,\"sepal width (cm)\":3.0,\"petal length (cm)\":1.1,\"petal width (cm)\":0.1,\"target\":0.0},{\"index\":14,\"qgrid_unfiltered_index\":14,\"sepal length (cm)\":5.8,\"sepal width (cm)\":4.0,\"petal length (cm)\":1.2,\"petal width (cm)\":0.2,\"target\":0.0},{\"index\":15,\"qgrid_unfiltered_index\":15,\"sepal length (cm)\":5.7,\"sepal width (cm)\":4.4,\"petal length (cm)\":1.5,\"petal width (cm)\":0.4,\"target\":0.0},{\"index\":16,\"qgrid_unfiltered_index\":16,\"sepal length (cm)\":5.4,\"sepal width (cm)\":3.9,\"petal length (cm)\":1.3,\"petal width (cm)\":0.4,\"target\":0.0},{\"index\":17,\"qgrid_unfiltered_index\":17,\"sepal length (cm)\":5.1,\"sepal width (cm)\":3.5,\"petal length (cm)\":1.4,\"petal width (cm)\":0.3,\"target\":0.0},{\"index\":18,\"qgrid_unfiltered_index\":18,\"sepal length (cm)\":5.7,\"sepal width (cm)\":3.8,\"petal length (cm)\":1.7,\"petal width (cm)\":0.3,\"target\":0.0},{\"index\":19,\"qgrid_unfiltered_index\":19,\"sepal length (cm)\":5.1,\"sepal width (cm)\":3.8,\"petal length (cm)\":1.5,\"petal width (cm)\":0.3,\"target\":0.0},{\"index\":20,\"qgrid_unfiltered_index\":20,\"sepal length (cm)\":5.4,\"sepal width (cm)\":3.4,\"petal length (cm)\":1.7,\"petal width (cm)\":0.2,\"target\":0.0},{\"index\":21,\"qgrid_unfiltered_index\":21,\"sepal length (cm)\":5.1,\"sepal width (cm)\":3.7,\"petal length (cm)\":1.5,\"petal width (cm)\":0.4,\"target\":0.0},{\"index\":22,\"qgrid_unfiltered_index\":22,\"sepal length (cm)\":4.6,\"sepal width (cm)\":3.6,\"petal length (cm)\":1.0,\"petal width (cm)\":0.2,\"target\":0.0},{\"index\":23,\"qgrid_unfiltered_index\":23,\"sepal length (cm)\":5.1,\"sepal width (cm)\":3.3,\"petal length (cm)\":1.7,\"petal width (cm)\":0.5,\"target\":0.0},{\"index\":24,\"qgrid_unfiltered_index\":24,\"sepal length (cm)\":4.8,\"sepal width (cm)\":3.4,\"petal length (cm)\":1.9,\"petal width (cm)\":0.2,\"target\":0.0},{\"index\":25,\"qgrid_unfiltered_index\":25,\"sepal length (cm)\":5.0,\"sepal width (cm)\":3.0,\"petal length (cm)\":1.6,\"petal width (cm)\":0.2,\"target\":0.0},{\"index\":26,\"qgrid_unfiltered_index\":26,\"sepal length (cm)\":5.0,\"sepal width (cm)\":3.4,\"petal length (cm)\":1.6,\"petal width (cm)\":0.4,\"target\":0.0},{\"index\":27,\"qgrid_unfiltered_index\":27,\"sepal length (cm)\":5.2,\"sepal width (cm)\":3.5,\"petal length (cm)\":1.5,\"petal width (cm)\":0.2,\"target\":0.0},{\"index\":28,\"qgrid_unfiltered_index\":28,\"sepal length (cm)\":5.2,\"sepal width (cm)\":3.4,\"petal length (cm)\":1.4,\"petal width (cm)\":0.2,\"target\":0.0},{\"index\":29,\"qgrid_unfiltered_index\":29,\"sepal length (cm)\":4.7,\"sepal width (cm)\":3.2,\"petal length (cm)\":1.6,\"petal width (cm)\":0.2,\"target\":0.0},{\"index\":30,\"qgrid_unfiltered_index\":30,\"sepal length (cm)\":4.8,\"sepal width (cm)\":3.1,\"petal length (cm)\":1.6,\"petal width (cm)\":0.2,\"target\":0.0},{\"index\":31,\"qgrid_unfiltered_index\":31,\"sepal length (cm)\":5.4,\"sepal width (cm)\":3.4,\"petal length (cm)\":1.5,\"petal width (cm)\":0.4,\"target\":0.0},{\"index\":32,\"qgrid_unfiltered_index\":32,\"sepal length (cm)\":5.2,\"sepal width (cm)\":4.1,\"petal length (cm)\":1.5,\"petal width (cm)\":0.1,\"target\":0.0},{\"index\":33,\"qgrid_unfiltered_index\":33,\"sepal length (cm)\":5.5,\"sepal width (cm)\":4.2,\"petal length (cm)\":1.4,\"petal width (cm)\":0.2,\"target\":0.0},{\"index\":34,\"qgrid_unfiltered_index\":34,\"sepal length (cm)\":4.9,\"sepal width (cm)\":3.1,\"petal length (cm)\":1.5,\"petal width (cm)\":0.2,\"target\":0.0},{\"index\":35,\"qgrid_unfiltered_index\":35,\"sepal length (cm)\":5.0,\"sepal width (cm)\":3.2,\"petal length (cm)\":1.2,\"petal width (cm)\":0.2,\"target\":0.0},{\"index\":36,\"qgrid_unfiltered_index\":36,\"sepal length (cm)\":5.5,\"sepal width (cm)\":3.5,\"petal length (cm)\":1.3,\"petal width (cm)\":0.2,\"target\":0.0},{\"index\":37,\"qgrid_unfiltered_index\":37,\"sepal length (cm)\":4.9,\"sepal width (cm)\":3.6,\"petal length (cm)\":1.4,\"petal width (cm)\":0.1,\"target\":0.0},{\"index\":38,\"qgrid_unfiltered_index\":38,\"sepal length (cm)\":4.4,\"sepal width (cm)\":3.0,\"petal length (cm)\":1.3,\"petal width (cm)\":0.2,\"target\":0.0},{\"index\":39,\"qgrid_unfiltered_index\":39,\"sepal length (cm)\":5.1,\"sepal width (cm)\":3.4,\"petal length (cm)\":1.5,\"petal width (cm)\":0.2,\"target\":0.0},{\"index\":40,\"qgrid_unfiltered_index\":40,\"sepal length (cm)\":5.0,\"sepal width (cm)\":3.5,\"petal length (cm)\":1.3,\"petal width (cm)\":0.3,\"target\":0.0},{\"index\":41,\"qgrid_unfiltered_index\":41,\"sepal length (cm)\":4.5,\"sepal width (cm)\":2.3,\"petal length (cm)\":1.3,\"petal width (cm)\":0.3,\"target\":0.0},{\"index\":42,\"qgrid_unfiltered_index\":42,\"sepal length (cm)\":4.4,\"sepal width (cm)\":3.2,\"petal length (cm)\":1.3,\"petal width (cm)\":0.2,\"target\":0.0},{\"index\":43,\"qgrid_unfiltered_index\":43,\"sepal length (cm)\":5.0,\"sepal width (cm)\":3.5,\"petal length (cm)\":1.6,\"petal width (cm)\":0.6,\"target\":0.0},{\"index\":44,\"qgrid_unfiltered_index\":44,\"sepal length (cm)\":5.1,\"sepal width (cm)\":3.8,\"petal length (cm)\":1.9,\"petal width (cm)\":0.4,\"target\":0.0},{\"index\":45,\"qgrid_unfiltered_index\":45,\"sepal length (cm)\":4.8,\"sepal width (cm)\":3.0,\"petal length (cm)\":1.4,\"petal width (cm)\":0.3,\"target\":0.0},{\"index\":46,\"qgrid_unfiltered_index\":46,\"sepal length (cm)\":5.1,\"sepal width (cm)\":3.8,\"petal length (cm)\":1.6,\"petal width (cm)\":0.2,\"target\":0.0},{\"index\":47,\"qgrid_unfiltered_index\":47,\"sepal length (cm)\":4.6,\"sepal width (cm)\":3.2,\"petal length (cm)\":1.4,\"petal width (cm)\":0.2,\"target\":0.0},{\"index\":48,\"qgrid_unfiltered_index\":48,\"sepal length (cm)\":5.3,\"sepal width (cm)\":3.7,\"petal length (cm)\":1.5,\"petal width (cm)\":0.2,\"target\":0.0},{\"index\":49,\"qgrid_unfiltered_index\":49,\"sepal length (cm)\":5.0,\"sepal width (cm)\":3.3,\"petal length (cm)\":1.4,\"petal width (cm)\":0.2,\"target\":0.0},{\"index\":50,\"qgrid_unfiltered_index\":50,\"sepal length (cm)\":7.0,\"sepal width (cm)\":3.2,\"petal length (cm)\":4.7,\"petal width (cm)\":1.4,\"target\":1.0},{\"index\":51,\"qgrid_unfiltered_index\":51,\"sepal length (cm)\":6.4,\"sepal width (cm)\":3.2,\"petal length (cm)\":4.5,\"petal width (cm)\":1.5,\"target\":1.0},{\"index\":52,\"qgrid_unfiltered_index\":52,\"sepal length (cm)\":6.9,\"sepal width (cm)\":3.1,\"petal length (cm)\":4.9,\"petal width (cm)\":1.5,\"target\":1.0},{\"index\":53,\"qgrid_unfiltered_index\":53,\"sepal length (cm)\":5.5,\"sepal width (cm)\":2.3,\"petal length (cm)\":4.0,\"petal width (cm)\":1.3,\"target\":1.0},{\"index\":54,\"qgrid_unfiltered_index\":54,\"sepal length (cm)\":6.5,\"sepal width (cm)\":2.8,\"petal length (cm)\":4.6,\"petal width (cm)\":1.5,\"target\":1.0},{\"index\":55,\"qgrid_unfiltered_index\":55,\"sepal length (cm)\":5.7,\"sepal width (cm)\":2.8,\"petal length (cm)\":4.5,\"petal width (cm)\":1.3,\"target\":1.0},{\"index\":56,\"qgrid_unfiltered_index\":56,\"sepal length (cm)\":6.3,\"sepal width (cm)\":3.3,\"petal length (cm)\":4.7,\"petal width (cm)\":1.6,\"target\":1.0},{\"index\":57,\"qgrid_unfiltered_index\":57,\"sepal length (cm)\":4.9,\"sepal width (cm)\":2.4,\"petal length (cm)\":3.3,\"petal width (cm)\":1.0,\"target\":1.0},{\"index\":58,\"qgrid_unfiltered_index\":58,\"sepal length (cm)\":6.6,\"sepal width (cm)\":2.9,\"petal length (cm)\":4.6,\"petal width (cm)\":1.3,\"target\":1.0},{\"index\":59,\"qgrid_unfiltered_index\":59,\"sepal length (cm)\":5.2,\"sepal width (cm)\":2.7,\"petal length (cm)\":3.9,\"petal width (cm)\":1.4,\"target\":1.0},{\"index\":60,\"qgrid_unfiltered_index\":60,\"sepal length (cm)\":5.0,\"sepal width (cm)\":2.0,\"petal length (cm)\":3.5,\"petal width (cm)\":1.0,\"target\":1.0},{\"index\":61,\"qgrid_unfiltered_index\":61,\"sepal length (cm)\":5.9,\"sepal width (cm)\":3.0,\"petal length (cm)\":4.2,\"petal width (cm)\":1.5,\"target\":1.0},{\"index\":62,\"qgrid_unfiltered_index\":62,\"sepal length (cm)\":6.0,\"sepal width (cm)\":2.2,\"petal length (cm)\":4.0,\"petal width (cm)\":1.0,\"target\":1.0},{\"index\":63,\"qgrid_unfiltered_index\":63,\"sepal length (cm)\":6.1,\"sepal width (cm)\":2.9,\"petal length (cm)\":4.7,\"petal width (cm)\":1.4,\"target\":1.0},{\"index\":64,\"qgrid_unfiltered_index\":64,\"sepal length (cm)\":5.6,\"sepal width (cm)\":2.9,\"petal length (cm)\":3.6,\"petal width (cm)\":1.3,\"target\":1.0},{\"index\":65,\"qgrid_unfiltered_index\":65,\"sepal length (cm)\":6.7,\"sepal width (cm)\":3.1,\"petal length (cm)\":4.4,\"petal width (cm)\":1.4,\"target\":1.0},{\"index\":66,\"qgrid_unfiltered_index\":66,\"sepal length (cm)\":5.6,\"sepal width (cm)\":3.0,\"petal length (cm)\":4.5,\"petal width (cm)\":1.5,\"target\":1.0},{\"index\":67,\"qgrid_unfiltered_index\":67,\"sepal length (cm)\":5.8,\"sepal width (cm)\":2.7,\"petal length (cm)\":4.1,\"petal width (cm)\":1.0,\"target\":1.0},{\"index\":68,\"qgrid_unfiltered_index\":68,\"sepal length (cm)\":6.2,\"sepal width (cm)\":2.2,\"petal length (cm)\":4.5,\"petal width (cm)\":1.5,\"target\":1.0},{\"index\":69,\"qgrid_unfiltered_index\":69,\"sepal length (cm)\":5.6,\"sepal width (cm)\":2.5,\"petal length (cm)\":3.9,\"petal width (cm)\":1.1,\"target\":1.0},{\"index\":70,\"qgrid_unfiltered_index\":70,\"sepal length (cm)\":5.9,\"sepal width (cm)\":3.2,\"petal length (cm)\":4.8,\"petal width (cm)\":1.8,\"target\":1.0},{\"index\":71,\"qgrid_unfiltered_index\":71,\"sepal length (cm)\":6.1,\"sepal width (cm)\":2.8,\"petal length (cm)\":4.0,\"petal width (cm)\":1.3,\"target\":1.0},{\"index\":72,\"qgrid_unfiltered_index\":72,\"sepal length (cm)\":6.3,\"sepal width (cm)\":2.5,\"petal length (cm)\":4.9,\"petal width (cm)\":1.5,\"target\":1.0},{\"index\":73,\"qgrid_unfiltered_index\":73,\"sepal length (cm)\":6.1,\"sepal width (cm)\":2.8,\"petal length (cm)\":4.7,\"petal width (cm)\":1.2,\"target\":1.0},{\"index\":74,\"qgrid_unfiltered_index\":74,\"sepal length (cm)\":6.4,\"sepal width (cm)\":2.9,\"petal length (cm)\":4.3,\"petal width (cm)\":1.3,\"target\":1.0},{\"index\":75,\"qgrid_unfiltered_index\":75,\"sepal length (cm)\":6.6,\"sepal width (cm)\":3.0,\"petal length (cm)\":4.4,\"petal width (cm)\":1.4,\"target\":1.0},{\"index\":76,\"qgrid_unfiltered_index\":76,\"sepal length (cm)\":6.8,\"sepal width (cm)\":2.8,\"petal length (cm)\":4.8,\"petal width (cm)\":1.4,\"target\":1.0},{\"index\":77,\"qgrid_unfiltered_index\":77,\"sepal length (cm)\":6.7,\"sepal width (cm)\":3.0,\"petal length (cm)\":5.0,\"petal width (cm)\":1.7,\"target\":1.0},{\"index\":78,\"qgrid_unfiltered_index\":78,\"sepal length (cm)\":6.0,\"sepal width (cm)\":2.9,\"petal length (cm)\":4.5,\"petal width (cm)\":1.5,\"target\":1.0},{\"index\":79,\"qgrid_unfiltered_index\":79,\"sepal length (cm)\":5.7,\"sepal width (cm)\":2.6,\"petal length (cm)\":3.5,\"petal width (cm)\":1.0,\"target\":1.0},{\"index\":80,\"qgrid_unfiltered_index\":80,\"sepal length (cm)\":5.5,\"sepal width (cm)\":2.4,\"petal length (cm)\":3.8,\"petal width (cm)\":1.1,\"target\":1.0},{\"index\":81,\"qgrid_unfiltered_index\":81,\"sepal length (cm)\":5.5,\"sepal width (cm)\":2.4,\"petal length (cm)\":3.7,\"petal width (cm)\":1.0,\"target\":1.0},{\"index\":82,\"qgrid_unfiltered_index\":82,\"sepal length (cm)\":5.8,\"sepal width (cm)\":2.7,\"petal length (cm)\":3.9,\"petal width (cm)\":1.2,\"target\":1.0},{\"index\":83,\"qgrid_unfiltered_index\":83,\"sepal length (cm)\":6.0,\"sepal width (cm)\":2.7,\"petal length (cm)\":5.1,\"petal width (cm)\":1.6,\"target\":1.0},{\"index\":84,\"qgrid_unfiltered_index\":84,\"sepal length (cm)\":5.4,\"sepal width (cm)\":3.0,\"petal length (cm)\":4.5,\"petal width (cm)\":1.5,\"target\":1.0},{\"index\":85,\"qgrid_unfiltered_index\":85,\"sepal length (cm)\":6.0,\"sepal width (cm)\":3.4,\"petal length (cm)\":4.5,\"petal width (cm)\":1.6,\"target\":1.0},{\"index\":86,\"qgrid_unfiltered_index\":86,\"sepal length (cm)\":6.7,\"sepal width (cm)\":3.1,\"petal length (cm)\":4.7,\"petal width (cm)\":1.5,\"target\":1.0},{\"index\":87,\"qgrid_unfiltered_index\":87,\"sepal length (cm)\":6.3,\"sepal width (cm)\":2.3,\"petal length (cm)\":4.4,\"petal width (cm)\":1.3,\"target\":1.0},{\"index\":88,\"qgrid_unfiltered_index\":88,\"sepal length (cm)\":5.6,\"sepal width (cm)\":3.0,\"petal length (cm)\":4.1,\"petal width (cm)\":1.3,\"target\":1.0},{\"index\":89,\"qgrid_unfiltered_index\":89,\"sepal length (cm)\":5.5,\"sepal width (cm)\":2.5,\"petal length (cm)\":4.0,\"petal width (cm)\":1.3,\"target\":1.0},{\"index\":90,\"qgrid_unfiltered_index\":90,\"sepal length (cm)\":5.5,\"sepal width (cm)\":2.6,\"petal length (cm)\":4.4,\"petal width (cm)\":1.2,\"target\":1.0},{\"index\":91,\"qgrid_unfiltered_index\":91,\"sepal length (cm)\":6.1,\"sepal width (cm)\":3.0,\"petal length (cm)\":4.6,\"petal width (cm)\":1.4,\"target\":1.0},{\"index\":92,\"qgrid_unfiltered_index\":92,\"sepal length (cm)\":5.8,\"sepal width (cm)\":2.6,\"petal length (cm)\":4.0,\"petal width (cm)\":1.2,\"target\":1.0},{\"index\":93,\"qgrid_unfiltered_index\":93,\"sepal length (cm)\":5.0,\"sepal width (cm)\":2.3,\"petal length (cm)\":3.3,\"petal width (cm)\":1.0,\"target\":1.0},{\"index\":94,\"qgrid_unfiltered_index\":94,\"sepal length (cm)\":5.6,\"sepal width (cm)\":2.7,\"petal length (cm)\":4.2,\"petal width (cm)\":1.3,\"target\":1.0},{\"index\":95,\"qgrid_unfiltered_index\":95,\"sepal length (cm)\":5.7,\"sepal width (cm)\":3.0,\"petal length (cm)\":4.2,\"petal width (cm)\":1.2,\"target\":1.0},{\"index\":96,\"qgrid_unfiltered_index\":96,\"sepal length (cm)\":5.7,\"sepal width (cm)\":2.9,\"petal length (cm)\":4.2,\"petal width (cm)\":1.3,\"target\":1.0},{\"index\":97,\"qgrid_unfiltered_index\":97,\"sepal length (cm)\":6.2,\"sepal width (cm)\":2.9,\"petal length (cm)\":4.3,\"petal width (cm)\":1.3,\"target\":1.0},{\"index\":98,\"qgrid_unfiltered_index\":98,\"sepal length (cm)\":5.1,\"sepal width (cm)\":2.5,\"petal length (cm)\":3.0,\"petal width (cm)\":1.1,\"target\":1.0},{\"index\":99,\"qgrid_unfiltered_index\":99,\"sepal length (cm)\":5.7,\"sepal width (cm)\":2.8,\"petal length (cm)\":4.1,\"petal width (cm)\":1.3,\"target\":1.0}]}",
            "_df_range": [
              0,
              100
            ],
            "_dom_classes": [],
            "_editable_rows": {},
            "_index_col_name": "qgrid_unfiltered_index",
            "_interval_columns": [],
            "_model_module": "qgrid",
            "_model_module_version": "^1.1.3",
            "_model_name": "QgridModel",
            "_multi_index": false,
            "_row_count": 150,
            "_row_styles": {},
            "_sort_ascending": true,
            "_sort_field": null,
            "_view_count": null,
            "_view_module": "qgrid",
            "_view_module_version": "^1.1.3",
            "_view_name": "QgridView",
            "_viewport_range": [
              0,
              100
            ],
            "grid_options": {
              "fullWidthRows": true,
              "syncColumnCellResize": true,
              "forceFitColumns": true,
              "defaultColumnWidth": 150,
              "rowHeight": 28,
              "enableColumnReorder": false,
              "enableTextSelectionOnCells": true,
              "editable": true,
              "autoEdit": false,
              "explicitInitialization": true,
              "maxVisibleRows": 15,
              "minVisibleRows": 8,
              "sortable": true,
              "filterable": true,
              "highlightSelectedCell": false,
              "highlightSelectedRow": true,
              "boldIndex": true
            },
            "id": "18df18db-3349-432f-b33f-79fbfcbdb8ed",
            "layout": "IPY_MODEL_43823d0dc4704c0b88b1419386f201db",
            "precision": 5,
            "show_toolbar": false
          }
        },
        "3c81910312a5498495e68fabb5672e97": {
          "model_module": "ipyaggrid",
          "model_name": "AgGridModel",
          "model_module_version": "~0.2.2",
          "state": {
            "_counter_update_data": 0,
            "_dom_classes": [],
            "_export_mode": "",
            "_grid_data_down": "H4sIAFX0F2MC/9Vb22oUQRD9lSVPCmGZrkt3j78iPgRdohAlmAUfxH83rKIMpoo53VUsPoZhczh1\nOXWqZvft95un0+Pdw+Hh9OX+/PHw6v3n1zdvDnost4ffT759+vD3AR/1+cHj6fzPR8pR/jzZfGQ5\n0vOD893X+9P58ufy4/bwMqwcVwt2SYVtFiyZsBwAWy3YYsLqNKxeYvkibE0Msl7+x4uwqwnbLFgJ\nCLLgbDkgyJKYW7GCTE6QU/t2oJJLQEm11CB3PLc1E3ZAHMt+WMZhS0BuDbbiwFKASjULdqBvJVUc\nOQA2cszzdJD5knRwFHAA247nlgNyKzhbCmDbEivZmbe2u1gy2TIeZE0dBWumhVsSJ9CQqakBKkW4\nSkX4ZAp0jrnLSKq7KKklJYE+eb6kJNmwqgVL/409j5ALSrVwissFZwa5ptpzwUcBZ85buU5JDeSW\n9wdZrbWaU2HlGnepoSCbo6Cm2vM1wLBGrtW5y0jNvDlS6vGPr3GpcSqZE9k2fPCJtYyUbSUXB7bi\nciFWkMt2B/JhYXchVt8CsIprsliLZtn2rc/WhO0mbA1g23BYDWDLaAM5lVz3wppeikx3wdbg+3Vd\n2Mm2otdzJ7e8P7dkwTaT7TotF6Y4kjn42C6pZT8s/I5PrK0AUimTLeFyAZRUwUuqBeQWrmQOqORq\n3y7sUSB5bL2S0gBN7mjfivVmBCopwis5gq1ZUoqrVAmQC5ttt2B7QN/2VHfBaJAjvNQQW1OlaNqw\neuLIAUEekAsJsOcdD3IPgG0oW7UruQXM2zVVpUyfXFNNjeKGtQeI4wBsC2DbAw0rBZRUMyu5TC8j\nil9YY9Zq+GWbA1tTLVwLYMv4Ni8Bq9fAKCgBsIqP+SUTtuJBpml34QW5BmwFHWe7TLN11mpOvF04\n9rzhazVPz9uhbZ4CxvyayNZZvTINq9r23F69lgB3MXBzLNe4OVaLLW0nEMWaGsddrHthGy6Oankp\n2uaWxubtasLWXWs1jVzPPbbdYkv7gwyP+WqxBYLsnLEVt3BtP1s4t9VWKSC3DWWrOy81PltCv3dR\nrb4F5MKpZELlgrZjnsZOJrZK8bRKVfwluVqVDDSQjpTUMh1kxS81Tm5lOrdeSbEFy6marAF9C38J\nvFqLJjQK4ANRtectEGT49ZNzhQNUasVLqk2zdZaRjp6xgb5tuGF1SmoJ8FINP9rPz1vbJzu5LQHz\nllB7DrGlwOs5ADtwu4jIreATqGbmdsEtXN0PK3jfRqxeKz6BJNPCDeSWAlSq4/utTjeQPW915/Fv\n0F0s+FbA00G2j/ZObiOcY0m0cBX/GVKMJq84Wwk4mTQcNiK3A2xLgIW7yjnMWTQJP4fxdbyUBsDa\n85byVGpgrYZyq4Fsl2nn6GmyBDTQirMtu8Xx3U9uILExukUAAA==\n",
            "_grid_data_up": {
              "grid": {
                "data": [
                  [
                    5.1,
                    3.5,
                    1.4,
                    0.2,
                    0
                  ],
                  [
                    4.9,
                    3,
                    1.4,
                    0.2,
                    0
                  ],
                  [
                    4.7,
                    3.2,
                    1.3,
                    0.2,
                    0
                  ],
                  [
                    4.6,
                    3.1,
                    1.5,
                    0.2,
                    0
                  ],
                  [
                    5,
                    3.6,
                    1.4,
                    0.2,
                    0
                  ],
                  [
                    5.4,
                    3.9,
                    1.7,
                    0.4,
                    0
                  ],
                  [
                    4.6,
                    3.4,
                    1.4,
                    0.3,
                    0
                  ],
                  [
                    5,
                    3.4,
                    1.5,
                    0.2,
                    0
                  ],
                  [
                    4.4,
                    2.9,
                    1.4,
                    0.2,
                    0
                  ],
                  [
                    4.9,
                    3.1,
                    1.5,
                    0.1,
                    0
                  ],
                  [
                    5.4,
                    3.7,
                    1.5,
                    0.2,
                    0
                  ],
                  [
                    4.8,
                    3.4,
                    1.6,
                    0.2,
                    0
                  ],
                  [
                    4.8,
                    3,
                    1.4,
                    0.1,
                    0
                  ],
                  [
                    4.3,
                    3,
                    1.1,
                    0.1,
                    0
                  ],
                  [
                    5.8,
                    4,
                    1.2,
                    0.2,
                    0
                  ],
                  [
                    5.7,
                    4.4,
                    1.5,
                    0.4,
                    0
                  ],
                  [
                    5.4,
                    3.9,
                    1.3,
                    0.4,
                    0
                  ],
                  [
                    5.1,
                    3.5,
                    1.4,
                    0.3,
                    0
                  ],
                  [
                    5.7,
                    3.8,
                    1.7,
                    0.3,
                    0
                  ],
                  [
                    5.1,
                    3.8,
                    1.5,
                    0.3,
                    0
                  ],
                  [
                    5.4,
                    3.4,
                    1.7,
                    0.2,
                    0
                  ],
                  [
                    5.1,
                    3.7,
                    1.5,
                    0.4,
                    0
                  ],
                  [
                    4.6,
                    3.6,
                    1,
                    0.2,
                    0
                  ],
                  [
                    5.1,
                    3.3,
                    1.7,
                    0.5,
                    0
                  ],
                  [
                    4.8,
                    3.4,
                    1.9,
                    0.2,
                    0
                  ],
                  [
                    5,
                    3,
                    1.6,
                    0.2,
                    0
                  ],
                  [
                    5,
                    3.4,
                    1.6,
                    0.4,
                    0
                  ],
                  [
                    5.2,
                    3.5,
                    1.5,
                    0.2,
                    0
                  ],
                  [
                    5.2,
                    3.4,
                    1.4,
                    0.2,
                    0
                  ],
                  [
                    4.7,
                    3.2,
                    1.6,
                    0.2,
                    0
                  ],
                  [
                    4.8,
                    3.1,
                    1.6,
                    0.2,
                    0
                  ],
                  [
                    5.4,
                    3.4,
                    1.5,
                    0.4,
                    0
                  ],
                  [
                    5.2,
                    4.1,
                    1.5,
                    0.1,
                    0
                  ],
                  [
                    5.5,
                    4.2,
                    1.4,
                    0.2,
                    0
                  ],
                  [
                    4.9,
                    3.1,
                    1.5,
                    0.2,
                    0
                  ],
                  [
                    5,
                    3.2,
                    1.2,
                    0.2,
                    0
                  ],
                  [
                    5.5,
                    3.5,
                    1.3,
                    0.2,
                    0
                  ],
                  [
                    4.9,
                    3.6,
                    1.4,
                    0.1,
                    0
                  ],
                  [
                    4.4,
                    3,
                    1.3,
                    0.2,
                    0
                  ],
                  [
                    5.1,
                    3.4,
                    1.5,
                    0.2,
                    0
                  ],
                  [
                    5,
                    3.5,
                    1.3,
                    0.3,
                    0
                  ],
                  [
                    4.5,
                    2.3,
                    1.3,
                    0.3,
                    0
                  ],
                  [
                    4.4,
                    3.2,
                    1.3,
                    0.2,
                    0
                  ],
                  [
                    5,
                    3.5,
                    1.6,
                    0.6,
                    0
                  ],
                  [
                    5.1,
                    3.8,
                    1.9,
                    0.4,
                    0
                  ],
                  [
                    4.8,
                    3,
                    1.4,
                    0.3,
                    0
                  ],
                  [
                    5.1,
                    3.8,
                    1.6,
                    0.2,
                    0
                  ],
                  [
                    4.6,
                    3.2,
                    1.4,
                    0.2,
                    0
                  ],
                  [
                    5.3,
                    3.7,
                    1.5,
                    0.2,
                    0
                  ],
                  [
                    5,
                    3.3,
                    1.4,
                    0.2,
                    0
                  ],
                  [
                    7,
                    3.2,
                    4.7,
                    1.4,
                    1
                  ],
                  [
                    6.4,
                    3.2,
                    4.5,
                    1.5,
                    1
                  ],
                  [
                    6.9,
                    3.1,
                    4.9,
                    1.5,
                    1
                  ],
                  [
                    5.5,
                    2.3,
                    4,
                    1.3,
                    1
                  ],
                  [
                    6.5,
                    2.8,
                    4.6,
                    1.5,
                    1
                  ],
                  [
                    5.7,
                    2.8,
                    4.5,
                    1.3,
                    1
                  ],
                  [
                    6.3,
                    3.3,
                    4.7,
                    1.6,
                    1
                  ],
                  [
                    4.9,
                    2.4,
                    3.3,
                    1,
                    1
                  ],
                  [
                    6.6,
                    2.9,
                    4.6,
                    1.3,
                    1
                  ],
                  [
                    5.2,
                    2.7,
                    3.9,
                    1.4,
                    1
                  ],
                  [
                    5,
                    2,
                    3.5,
                    1,
                    1
                  ],
                  [
                    5.9,
                    3,
                    4.2,
                    1.5,
                    1
                  ],
                  [
                    6,
                    2.2,
                    4,
                    1,
                    1
                  ],
                  [
                    6.1,
                    2.9,
                    4.7,
                    1.4,
                    1
                  ],
                  [
                    5.6,
                    2.9,
                    3.6,
                    1.3,
                    1
                  ],
                  [
                    6.7,
                    3.1,
                    4.4,
                    1.4,
                    1
                  ],
                  [
                    5.6,
                    3,
                    4.5,
                    1.5,
                    1
                  ],
                  [
                    5.8,
                    2.7,
                    4.1,
                    1,
                    1
                  ],
                  [
                    6.2,
                    2.2,
                    4.5,
                    1.5,
                    1
                  ],
                  [
                    5.6,
                    2.5,
                    3.9,
                    1.1,
                    1
                  ],
                  [
                    5.9,
                    3.2,
                    4.8,
                    1.8,
                    1
                  ],
                  [
                    6.1,
                    2.8,
                    4,
                    1.3,
                    1
                  ],
                  [
                    6.3,
                    2.5,
                    4.9,
                    1.5,
                    1
                  ],
                  [
                    6.1,
                    2.8,
                    4.7,
                    1.2,
                    1
                  ],
                  [
                    6.4,
                    2.9,
                    4.3,
                    1.3,
                    1
                  ],
                  [
                    6.6,
                    3,
                    4.4,
                    1.4,
                    1
                  ],
                  [
                    6.8,
                    2.8,
                    4.8,
                    1.4,
                    1
                  ],
                  [
                    6.7,
                    3,
                    5,
                    1.7,
                    1
                  ],
                  [
                    6,
                    2.9,
                    4.5,
                    1.5,
                    1
                  ],
                  [
                    5.7,
                    2.6,
                    3.5,
                    1,
                    1
                  ],
                  [
                    5.5,
                    2.4,
                    3.8,
                    1.1,
                    1
                  ],
                  [
                    5.5,
                    2.4,
                    3.7,
                    1,
                    1
                  ],
                  [
                    5.8,
                    2.7,
                    3.9,
                    1.2,
                    1
                  ],
                  [
                    6,
                    2.7,
                    5.1,
                    1.6,
                    1
                  ],
                  [
                    5.4,
                    3,
                    4.5,
                    1.5,
                    1
                  ],
                  [
                    6,
                    3.4,
                    4.5,
                    1.6,
                    1
                  ],
                  [
                    6.7,
                    3.1,
                    4.7,
                    1.5,
                    1
                  ],
                  [
                    6.3,
                    2.3,
                    4.4,
                    1.3,
                    1
                  ],
                  [
                    5.6,
                    3,
                    4.1,
                    1.3,
                    1
                  ],
                  [
                    5.5,
                    2.5,
                    4,
                    1.3,
                    1
                  ],
                  [
                    5.5,
                    2.6,
                    4.4,
                    1.2,
                    1
                  ],
                  [
                    6.1,
                    3,
                    4.6,
                    1.4,
                    1
                  ],
                  [
                    5.8,
                    2.6,
                    4,
                    1.2,
                    1
                  ],
                  [
                    5,
                    2.3,
                    3.3,
                    1,
                    1
                  ],
                  [
                    5.6,
                    2.7,
                    4.2,
                    1.3,
                    1
                  ],
                  [
                    5.7,
                    3,
                    4.2,
                    1.2,
                    1
                  ],
                  [
                    5.7,
                    2.9,
                    4.2,
                    1.3,
                    1
                  ],
                  [
                    6.2,
                    2.9,
                    4.3,
                    1.3,
                    1
                  ],
                  [
                    5.1,
                    2.5,
                    3,
                    1.1,
                    1
                  ],
                  [
                    5.7,
                    2.8,
                    4.1,
                    1.3,
                    1
                  ],
                  [
                    6.3,
                    3.3,
                    6,
                    2.5,
                    2
                  ],
                  [
                    5.8,
                    2.7,
                    5.1,
                    1.9,
                    2
                  ],
                  [
                    7.1,
                    3,
                    5.9,
                    2.1,
                    2
                  ],
                  [
                    6.3,
                    2.9,
                    5.6,
                    1.8,
                    2
                  ],
                  [
                    6.5,
                    3,
                    5.8,
                    2.2,
                    2
                  ],
                  [
                    7.6,
                    3,
                    6.6,
                    2.1,
                    2
                  ],
                  [
                    4.9,
                    2.5,
                    4.5,
                    1.7,
                    2
                  ],
                  [
                    7.3,
                    2.9,
                    6.3,
                    1.8,
                    2
                  ],
                  [
                    6.7,
                    2.5,
                    5.8,
                    1.8,
                    2
                  ],
                  [
                    7.2,
                    3.6,
                    6.1,
                    2.5,
                    2
                  ],
                  [
                    6.5,
                    3.2,
                    5.1,
                    2,
                    2
                  ],
                  [
                    6.4,
                    2.7,
                    5.3,
                    1.9,
                    2
                  ],
                  [
                    6.8,
                    3,
                    5.5,
                    2.1,
                    2
                  ],
                  [
                    5.7,
                    2.5,
                    5,
                    2,
                    2
                  ],
                  [
                    5.8,
                    2.8,
                    5.1,
                    2.4,
                    2
                  ],
                  [
                    6.4,
                    3.2,
                    5.3,
                    2.3,
                    2
                  ],
                  [
                    6.5,
                    3,
                    5.5,
                    1.8,
                    2
                  ],
                  [
                    7.7,
                    3.8,
                    6.7,
                    2.2,
                    2
                  ],
                  [
                    7.7,
                    2.6,
                    6.9,
                    2.3,
                    2
                  ],
                  [
                    6,
                    2.2,
                    5,
                    1.5,
                    2
                  ],
                  [
                    6.9,
                    3.2,
                    5.7,
                    2.3,
                    2
                  ],
                  [
                    5.6,
                    2.8,
                    4.9,
                    2,
                    2
                  ],
                  [
                    7.7,
                    2.8,
                    6.7,
                    2,
                    2
                  ],
                  [
                    6.3,
                    2.7,
                    4.9,
                    1.8,
                    2
                  ],
                  [
                    6.7,
                    3.3,
                    5.7,
                    2.1,
                    2
                  ],
                  [
                    7.2,
                    3.2,
                    6,
                    1.8,
                    2
                  ],
                  [
                    6.2,
                    2.8,
                    4.8,
                    1.8,
                    2
                  ],
                  [
                    6.1,
                    3,
                    4.9,
                    1.8,
                    2
                  ],
                  [
                    6.4,
                    2.8,
                    5.6,
                    2.1,
                    2
                  ],
                  [
                    7.2,
                    3,
                    5.8,
                    1.6,
                    2
                  ],
                  [
                    7.4,
                    2.8,
                    6.1,
                    1.9,
                    2
                  ],
                  [
                    7.9,
                    3.8,
                    6.4,
                    2,
                    2
                  ],
                  [
                    6.4,
                    2.8,
                    5.6,
                    2.2,
                    2
                  ],
                  [
                    6.3,
                    2.8,
                    5.1,
                    1.5,
                    2
                  ],
                  [
                    6.1,
                    2.6,
                    5.6,
                    1.4,
                    2
                  ],
                  [
                    7.7,
                    3,
                    6.1,
                    2.3,
                    2
                  ],
                  [
                    6.3,
                    3.4,
                    5.6,
                    2.4,
                    2
                  ],
                  [
                    6.4,
                    3.1,
                    5.5,
                    1.8,
                    2
                  ],
                  [
                    6,
                    3,
                    4.8,
                    1.8,
                    2
                  ],
                  [
                    6.9,
                    3.1,
                    5.4,
                    2.1,
                    2
                  ],
                  [
                    6.7,
                    3.1,
                    5.6,
                    2.4,
                    2
                  ],
                  [
                    6.9,
                    3.1,
                    5.1,
                    2.3,
                    2
                  ],
                  [
                    5.8,
                    2.7,
                    5.1,
                    1.9,
                    2
                  ],
                  [
                    6.8,
                    3.2,
                    5.9,
                    2.3,
                    2
                  ],
                  [
                    6.7,
                    3.3,
                    5.7,
                    2.5,
                    2
                  ],
                  [
                    6.7,
                    3,
                    5.2,
                    2.3,
                    2
                  ],
                  [
                    6.3,
                    2.5,
                    5,
                    1.9,
                    2
                  ],
                  [
                    6.5,
                    3,
                    5.2,
                    2,
                    2
                  ],
                  [
                    6.2,
                    3.4,
                    5.4,
                    2.3,
                    2
                  ],
                  [
                    5.9,
                    3,
                    5.1,
                    1.8,
                    2
                  ]
                ],
                "index_rows": {
                  "names": [
                    "Index"
                  ],
                  "values": [
                    [
                      0
                    ],
                    [
                      1
                    ],
                    [
                      2
                    ],
                    [
                      3
                    ],
                    [
                      4
                    ],
                    [
                      5
                    ],
                    [
                      6
                    ],
                    [
                      7
                    ],
                    [
                      8
                    ],
                    [
                      9
                    ],
                    [
                      10
                    ],
                    [
                      11
                    ],
                    [
                      12
                    ],
                    [
                      13
                    ],
                    [
                      14
                    ],
                    [
                      15
                    ],
                    [
                      16
                    ],
                    [
                      17
                    ],
                    [
                      18
                    ],
                    [
                      19
                    ],
                    [
                      20
                    ],
                    [
                      21
                    ],
                    [
                      22
                    ],
                    [
                      23
                    ],
                    [
                      24
                    ],
                    [
                      25
                    ],
                    [
                      26
                    ],
                    [
                      27
                    ],
                    [
                      28
                    ],
                    [
                      29
                    ],
                    [
                      30
                    ],
                    [
                      31
                    ],
                    [
                      32
                    ],
                    [
                      33
                    ],
                    [
                      34
                    ],
                    [
                      35
                    ],
                    [
                      36
                    ],
                    [
                      37
                    ],
                    [
                      38
                    ],
                    [
                      39
                    ],
                    [
                      40
                    ],
                    [
                      41
                    ],
                    [
                      42
                    ],
                    [
                      43
                    ],
                    [
                      44
                    ],
                    [
                      45
                    ],
                    [
                      46
                    ],
                    [
                      47
                    ],
                    [
                      48
                    ],
                    [
                      49
                    ],
                    [
                      50
                    ],
                    [
                      51
                    ],
                    [
                      52
                    ],
                    [
                      53
                    ],
                    [
                      54
                    ],
                    [
                      55
                    ],
                    [
                      56
                    ],
                    [
                      57
                    ],
                    [
                      58
                    ],
                    [
                      59
                    ],
                    [
                      60
                    ],
                    [
                      61
                    ],
                    [
                      62
                    ],
                    [
                      63
                    ],
                    [
                      64
                    ],
                    [
                      65
                    ],
                    [
                      66
                    ],
                    [
                      67
                    ],
                    [
                      68
                    ],
                    [
                      69
                    ],
                    [
                      70
                    ],
                    [
                      71
                    ],
                    [
                      72
                    ],
                    [
                      73
                    ],
                    [
                      74
                    ],
                    [
                      75
                    ],
                    [
                      76
                    ],
                    [
                      77
                    ],
                    [
                      78
                    ],
                    [
                      79
                    ],
                    [
                      80
                    ],
                    [
                      81
                    ],
                    [
                      82
                    ],
                    [
                      83
                    ],
                    [
                      84
                    ],
                    [
                      85
                    ],
                    [
                      86
                    ],
                    [
                      87
                    ],
                    [
                      88
                    ],
                    [
                      89
                    ],
                    [
                      90
                    ],
                    [
                      91
                    ],
                    [
                      92
                    ],
                    [
                      93
                    ],
                    [
                      94
                    ],
                    [
                      95
                    ],
                    [
                      96
                    ],
                    [
                      97
                    ],
                    [
                      98
                    ],
                    [
                      99
                    ],
                    [
                      100
                    ],
                    [
                      101
                    ],
                    [
                      102
                    ],
                    [
                      103
                    ],
                    [
                      104
                    ],
                    [
                      105
                    ],
                    [
                      106
                    ],
                    [
                      107
                    ],
                    [
                      108
                    ],
                    [
                      109
                    ],
                    [
                      110
                    ],
                    [
                      111
                    ],
                    [
                      112
                    ],
                    [
                      113
                    ],
                    [
                      114
                    ],
                    [
                      115
                    ],
                    [
                      116
                    ],
                    [
                      117
                    ],
                    [
                      118
                    ],
                    [
                      119
                    ],
                    [
                      120
                    ],
                    [
                      121
                    ],
                    [
                      122
                    ],
                    [
                      123
                    ],
                    [
                      124
                    ],
                    [
                      125
                    ],
                    [
                      126
                    ],
                    [
                      127
                    ],
                    [
                      128
                    ],
                    [
                      129
                    ],
                    [
                      130
                    ],
                    [
                      131
                    ],
                    [
                      132
                    ],
                    [
                      133
                    ],
                    [
                      134
                    ],
                    [
                      135
                    ],
                    [
                      136
                    ],
                    [
                      137
                    ],
                    [
                      138
                    ],
                    [
                      139
                    ],
                    [
                      140
                    ],
                    [
                      141
                    ],
                    [
                      142
                    ],
                    [
                      143
                    ],
                    [
                      144
                    ],
                    [
                      145
                    ],
                    [
                      146
                    ],
                    [
                      147
                    ],
                    [
                      148
                    ],
                    [
                      149
                    ]
                  ]
                },
                "index_columns": [
                  [
                    "sepal length (cm)"
                  ],
                  [
                    "sepal width (cm)"
                  ],
                  [
                    "petal length (cm)"
                  ],
                  [
                    "petal width (cm)"
                  ],
                  [
                    "target"
                  ]
                ]
              }
            },
            "_grid_options_mono_down": "H4sIAFX0F2MC/52S3WvCMBTF/5WSJ4Uhw30x91hxL8OJCnsQH2JzWwP5KMnN3Fb6vy9JO62KMOxb\n7znndy/kVAQU3QhYaINcFWSUoHFwk7TjCRcI5nSaajEHy3/gVJhTVcACBGTItTqoDHLqBPrcGHI/\nrggwjiHhf0juVPT3SmqotP3KADqjkh1XTO8GtHg1nL2XwWJXT8Ph/e3D3fPjevDHSJ1FLV9qUvtV\nmRZOKr/GevSqIjkHwcIWCyUViQBV4DbpZbJPvBu/y3iCcnIDJo3ZMN8CZWCmVEZ1EaNvbTT1Ub/p\nDL3j7EryR5M8B5eA1948i9HLNzfoa25uyBdvRmoKwP/jlo2/Xu8fb+lzNrbkKDmKW9o+ElpMO2Lb\n01AAhC+8kFjupY6fUYSO/5MKBxNtJMU2twVRgrGDYDwIPtlFj/eUFr3XZ7HUkZ1pGSqO+ojbTCEQ\nLKn99wtp5+qglAMAAA==\n",
            "_grid_options_multi_down": [],
            "_id": 722405396,
            "_is_grid_options_multi": false,
            "_js_helpers_builtin": "H4sIAFX0F2MC/+1VUW/bNhB+z6+4h6CWA0dxNqAPzlLMcZM2wDZvs9GXYVgZ6WxroUiBR6ZJDf/3\nHinLlmV5SYEC28P4IFHid98dj98dFygLNHTlMmkzBZewPAIeqbB4o00urEUzgJlTic20ipROsbvG\n+HF2Brm4RyBnMBhBRqC0BadSnGUK0w00m0Ewh1evwL/jByHdDpkfEi2kHIbCT/CW+aIa9GIPuWBk\nGs/RvtfOUNSCyCvEz5lyFlsxVGEmmGiV7mH4J1nQsxkxeA2dZjl+1grH4W/UhRN43eexa7mzk40d\no0/XdK2envI0uLH6djKeWJOpedSNyd1ROe/34LzfsPTZ5WxcXkLfJzjfTqmcNhPth0HrjPL+dslW\nh6i7IeOdfr+z7z2vIPlByCYUaoWsw/l4vOSIVnC8XKwGx8vcP2j1cYvdhre2UE7KcnnVOwrvWdDu\nrbIDSL+Py6+o04v7s063V0PcSC2amO8CJoAyZV9SBeswNk73RbuJy/v7asoQ5WHSROeFMOhFRjXK\nGZc0mp90IqRf6kGCUn5oFh1X8JDI5WX5EjARkNUGUxDE1ayPdsXpSTxdXdlb4oujnXrfgH+ARjRN\nOa73e3peO2ZASbjL8+aFPOf/oJb+bvYo+4xTfZPZWurmJkvHhZ9S3UHtdyyKLPamIy1drigwRI2D\nEc7qCWOGUj5PXqZXSFky3qa+SP7486LVexIwQ46Be8qwsuHO5XV8LZJFVCLg8k0jQXUHceGoQnrK\n27TWVVbd51xX26uc16kbmTg7OSnJTuD6sdCG75q5F5wAq2E0+QCO/B8xP33HrsAnt8L/yNoWOSzH\nd39jYlf1WNaQs/DGwDvVI3p4abIDM20uvWrQfVa8R5GGAhWswV6jSfs9vjPaFVxu1rjGuje/0ZpV\nSq32fr2yPrD8a6b46pzq4hnElbZW562gzWG0xqiVfJqg5IRi2u7DFYVBot+cDl1ln4ILEX8ROQ6g\nkz/95b/ihB46DZoFot2iwuceRDuZ/q4/XeGEN1b4gPiGZOG2hFUYnXBUI+4HI97hnUjuB+UxeoMw\nKVtkq1l5qFtDf29sgauLg4Veaov7jRgS6ysqhfM1Gr9+5B72DVUe+P7X+b+j80dJ317n/iaejt+O\nYQDJApP7/5rug+L2lM/GXwBatMMsQwwAAA==\n",
            "_model_module": "ipyaggrid",
            "_model_module_version": "~0.2.2",
            "_model_name": "AgGridModel",
            "_view_count": null,
            "_view_module": "ipyaggrid",
            "_view_module_version": "~0.2.2",
            "_view_name": "AgGridView",
            "center": false,
            "columns_fit": "auto",
            "compress_data": true,
            "css_rules_down": [],
            "export_mode": "buttons",
            "height": "350px",
            "hide_grid": false,
            "js_helpers": "H4sIAFb0F2MC/+1V227TQBD9lVFUNQ5K3ZQHHlJSKU0bqAQESMQLILq1x42V9a7l3e0t8r8z60vi\nOA6NkBA8sA/Jen3mzGXPjJctn2kcyyRiWmPS6rcCIzwdSuEI6WMHlt8EFOv4GCK2QFAmQbBmECoQ\nUoMRPgahQH+NDQPICODwEOy/e8e42aSzi6MGHwYg8B4uiNGpYE+3oXOC+u4t6rfSJMppgkQl5H0o\njMZmkCpBU/Sk8LdBdKo0yCBQhC6wszDCJylwkp06HXgBr3q0aqYb6awMCX5U8DX7eoz8zJGWV9PJ\nVCehuHU6rjI3Kt/3unDSq5vaKlNNBgPo2UJH663Kt1sFtytBbRJhPdbo0p3snaz07V6v3RBBVGKi\n3ZhVPKoZU8R0fbCksFI4WM7T/sEysj8qva6AKzEWNsJwXgDSVrcVZFq+Epq0DGdHXbcXrE7HXLLV\n+Ut7Hgq9n/gLZyv2BqVm3q2H32DMItvB6ckoZglaQakqYxBy8vFOeozbd13wkPMvW31GbTtUykR5\nzyogKlBaJugDU9TCcg3NpWhpLGFVyGtqCmyzzVfw11CLaEt9RcpHJ9ULBeQKN5nO9mU6+aUyepUi\nqvAJZ3Ic6moFb5PQn8R2qzY8VM5dFoeuNR5JbiKhMg6nej3MaDklwJDzfbjzGjPOc8Ir33bE1++n\nzd69DDSkGGiQDEsjGlgu6eaSeXMnR8DgrF6iqgs3NqqEWs4rvzpK0s6z3sskS/9V8mox8CGWiZ7J\nkbrbvxikbhbZMtQyUIswfovMx6QPASOVdOuT00bwJpEmVn3QiakDLMFYSlKSamawgNJ+1/uPoaBP\n20zGz0HOpdYyakat6tUcqBT8cYocPY3+DjcmjhNU6pOhdJpJqGfwA4uwD+3o8Yd9cj11164TzRH1\nGpY9bmOk4f5neX+OU0ovtkHRF4w01hRanEiPIhtR944ozxvmLfr5nVqLbJMPtWa7/IbXlnaeV5Dp\n6e6+zNVGA4INFSnOyYXUpMfLBxou/xX59xX5wNWfUKT9ys0mFxPogzdHb/EvKjTT4JZG059B9b71\ngwsAAA==\n",
            "js_helpers_custom": "H4sIAFX0F2MC/wMAAAAAAAAAAAA=\n",
            "js_post_grid": [],
            "js_pre_grid": [],
            "js_pre_helpers": [],
            "layout": "IPY_MODEL_edc72280687b4ecfa7a4da75cb4369a7",
            "license": "",
            "menu": {
              "buttons": [
                {
                  "name": "Export to CSV",
                  "action": "console.log(\"exporting to CSV\"); helpers.exportToCsv(gridOptions);",
                  "css": ".flex-child-export-to-csv-722405396 {\norder: 0;\nalign-self: auto;\nwidth: 150px;\nmargin: 5px;\nflex: 0.00 1.00 auto;\nfont-size: 12px;\n}\n"
                },
                {
                  "name": "Export to Excel",
                  "action": "console.log(\"exporting to Excel\"); helpers.exportToExcel(gridOptions);",
                  "css": ".flex-child-export-to-excel-722405396 {\norder: 0;\nalign-self: auto;\nwidth: 150px;\nmargin: 5px;\nflex: 0.00 1.00 auto;\nfont-size: 12px;\n}\n"
                },
                {
                  "name": "Export Grid",
                  "action": "exportFunc.exportGrid(gridOptions, view, parseInt(inputAggregationLevel.value, 10))",
                  "container_css": ".flex-child-container-export-grid-722405396 {\norder: 0;\nalign-self: auto;\nwidth: 150px;\nmargin: 5px;\nflex: 0.00 1.00 auto;\n}\n",
                  "css": ".flex-child-export-grid-722405396 {\norder: 0;\nalign-self: auto;\nflex: 0.00 1.00 auto;\nfont-size: 12px;\n}\n"
                },
                {
                  "name": "Export Range Data",
                  "action": "exportFunc.exportRangeData(gridOptions, view)",
                  "css": ".flex-child-export-range-data-722405396 {\norder: 0;\nalign-self: auto;\nwidth: 150px;\nmargin: 5px;\nflex: 0.00 1.00 auto;\nfont-size: 12px;\n}\n"
                },
                {
                  "name": "Export Columns",
                  "action": "exportFunc.exportColumns(gridOptions, view)",
                  "css": ".flex-child-export-columns-722405396 {\norder: 0;\nalign-self: auto;\nwidth: 150px;\nmargin: 5px;\nflex: 0.00 1.00 auto;\nfont-size: 12px;\n}\n"
                },
                {
                  "name": "Export Rows",
                  "action": "exportFunc.exportRowsOfRange(gridOptions, view)",
                  "css": ".flex-child-export-rows-722405396 {\norder: 0;\nalign-self: auto;\nwidth: 150px;\nmargin: 5px;\nflex: 0.00 1.00 auto;\nfont-size: 12px;\n}\n"
                }
              ],
              "inputs": [
                {
                  "name": "Quick Filter",
                  "css": ".flex-child-quick-filter-722405396 {\norder: 0;\nalign-self: auto;\nmargin: 5px;\nflex: 0.00 1.00 auto;\nwidth: 150px;\n}\n"
                },
                {
                  "name": "Toggle Edit",
                  "css": ".flex-child-toggle-edit-722405396 {\norder: 0;\nalign-self: auto;\nmargin: 5px;\nflex: 0.00 1.00 auto;\n}\n"
                },
                {
                  "name": "Toggle Delete",
                  "css": ".flex-child-toggle-delete-722405396 {\norder: 0;\nalign-self: auto;\nmargin: 5px;\nflex: 0.00 1.00 auto;\n}\n"
                }
              ],
              "button_div_css": ".flex-button-div-722405396 {\ndisplay: flex;\njustify-content: flex-start;\nalign-items: flex-start;\nalign-content: flex-start;\nflex-flow: row wrap;\n}\n",
              "input_div_css": ".flex-input-div-722405396 {\ndisplay: flex;\njustify-content: flex-start;\nalign-items: baseline;\nalign-content: flex-start;\nflex-flow: row wrap;\n}\n",
              "menu_div_css": ".flex-menu-div-722405396 {\ndisplay: flex;\njustify-content: flex-start;\nalign-items: flex-start;\nalign-content: flex-start;\nflex-flow: row wrap;\n}\n"
            },
            "quick_filter": true,
            "show_toggle_delete": true,
            "show_toggle_edit": true,
            "sync_grid": true,
            "sync_on_edit": false,
            "theme": "ag-theme-balham",
            "user_params": {},
            "width": "100%"
          }
        },
        "edc72280687b4ecfa7a4da75cb4369a7": {
          "model_module": "@jupyter-widgets/base",
          "model_name": "LayoutModel",
          "model_module_version": "1.2.0",
          "state": {
            "_model_module": "@jupyter-widgets/base",
            "_model_module_version": "1.2.0",
            "_model_name": "LayoutModel",
            "_view_count": null,
            "_view_module": "@jupyter-widgets/base",
            "_view_module_version": "1.2.0",
            "_view_name": "LayoutView",
            "align_content": null,
            "align_items": null,
            "align_self": null,
            "border": null,
            "bottom": null,
            "display": null,
            "flex": null,
            "flex_flow": null,
            "grid_area": null,
            "grid_auto_columns": null,
            "grid_auto_flow": null,
            "grid_auto_rows": null,
            "grid_column": null,
            "grid_gap": null,
            "grid_row": null,
            "grid_template_areas": null,
            "grid_template_columns": null,
            "grid_template_rows": null,
            "height": null,
            "justify_content": null,
            "justify_items": null,
            "left": null,
            "margin": null,
            "max_height": null,
            "max_width": null,
            "min_height": null,
            "min_width": null,
            "object_fit": null,
            "object_position": null,
            "order": null,
            "overflow": null,
            "overflow_x": null,
            "overflow_y": null,
            "padding": null,
            "right": null,
            "top": null,
            "visibility": null,
            "width": null
          }
        }
      }
    }
  },
  "cells": [
    {
      "cell_type": "markdown",
      "metadata": {
        "id": "view-in-github",
        "colab_type": "text"
      },
      "source": [
        "<a href=\"https://colab.research.google.com/github/ajitjadhav10/UMBC/blob/main/DataDrivenWebApps.ipynb\" target=\"_parent\"><img src=\"https://colab.research.google.com/assets/colab-badge.svg\" alt=\"Open In Colab\"/></a>"
      ]
    },
    {
      "cell_type": "markdown",
      "metadata": {
        "id": "CA2MWpkLQVj-"
      },
      "source": [
        "# Data Driven Webapps\n",
        "\n",
        "A data scientist has been given a new data set, they've analyzed the data in Jupyter or R-Studio. Further they created a repeatable process that will work with new data.  They are now confronted with a new problem.  As new data comes in that process must be replicated.  While the data scientist could certainly load the data into their tool of of choice and rerun the analysis, that is time consuming and often requires recommunicating results.  Further if following processes need the results of the analysis, this method is not automated.  \n",
        "\n",
        "The above senario is very common and often the data scientist is left with two options: 1) work with software developers to create a user interface and potential backend components for automated processes 2) create a user interface the best they can often using python scripts to glue the analysis together 3) become a front end developer themselves and learn significant amounts of HTML and javascript.  Unfortunately, option 1 can cost significant amounts of time and money so often is only available if significant return on investment can be shown.  Meanwhile, option 2 often provides the end user with a poor experience which may mean the tool is never used. Finally, option 3 means the data scientist is taking it upon themselves to essential do option 1 themselves. Indeed, it's often been the authors experience that the most difficult part of data science is not analyzing data or creating models, but gaining adoption of finished data products.\n",
        "\n",
        "Fortunately, within the python ecosystem there are a number of libraries designed to make both frontend and backend web development easier and without the need to build applications in HTML and Javascript which may be unfamialar to the data scientist.  Unfortunately, these libraries are relatively new and documentation is somewhat sparse with the ecosystem around the tools is quite broad, often using concepts that a data scientist may be unfamiliar with.\n",
        "\n",
        "In this course we attempt to survey this ecosystem and give more context to the tools so that a data scientist will have full command over these tools and be able to create data driven web applications to enable end users to use their work and create backend tooling so software developers will be able to leverage there work in a programatic fashion.  It is organized as follows:\n",
        "\n",
        "Chapter 1 will go over the basics of how to make interactive jupyter notebooks using Jupyter widgets.\n",
        "\n",
        "Chapter 2 will cover object oriented programming and a deeper dive into Jupyter Widgets.\n",
        "\n",
        "Chapter 3 will be a deep dive into jupyter widgets, pandas interaction and plotting.\n",
        "\n",
        "Chapter 4 will cover layouts and creating standalone webapps in Jupyter with Voila.\n",
        "\n",
        "Chapter 5 will cover the basics of REST, the requests library and flask.\n",
        "\n",
        "Chapter 6 will cover code reuse to use for both Webapps and REST.\n",
        "\n",
        "Chapter 7 will cover deployment of Webapps and REST APIs in Azure.\n",
        "\n"
      ]
    },
    {
      "cell_type": "markdown",
      "metadata": {
        "id": "TyNTc6yl6mR3"
      },
      "source": [
        "# Jupyter Widgets\n",
        "\n",
        "Often a data scientist finds themselves performing the same analysis but with different parameters.  For instance perhaps you'd like to create a word cloud on a particular twitter user, but the next day you may change this to a different user.\n",
        "\n",
        "Often we do this by setting a global variable and then running the other cells of our notebook.  This following snippet is an example:\n",
        "\n",
        "```\n",
        "#we can change this\n",
        "user=@realdolandtrump\n",
        "...\n",
        "# use twitter api to pull tweets\n",
        "...\n",
        "# aggregate tweats and form a word cloud\n",
        "```\n",
        "\n",
        "This is however slightly clunky for endusers and still annoying for a data scientist.\n",
        "\n",
        "One solutions is Jupyter widgets which enbedd HTML objects into your Jupyter Notebook and use a Javascript bridge to allow you to interact with the HTML using python.\n",
        "\n",
        "In the following cell we create a \"hello world\" application for jupyter widgets."
      ]
    },
    {
      "cell_type": "code",
      "metadata": {
        "colab": {
          "base_uri": "https://localhost:8080/",
          "height": 113,
          "referenced_widgets": [
            "b205fc1d518e4179a96e248e74d953c6",
            "ee3e721db3c14fb191fde523be61390c",
            "f4986a95e167404e9cdb9c8969e98172",
            "1caf2134edd84295b0cd56634bee34f6",
            "647fd64bb51d4627b6c015ed690306c6",
            "889a396decd24ab4bcbc2f55d0937575",
            "3a2c12a0716441e4a719bf97524bec70",
            "f55209332b5748afa09fb6745138cee9",
            "bb755221e647474dbad557040d228009"
          ]
        },
        "id": "iUWRrskBQmYc",
        "outputId": "a2bb1a89-e7fb-40dd-a752-7fa59cedfb82"
      },
      "source": [
        "#@title\n",
        "from ipywidgets import Text, Button, Label, VBox, HBox, GridBox, Layout\n",
        "nameText = Text(description='name', value = 'name here')\n",
        "button = Button(description='say hello!')\n",
        "label = Label(visible=False)\n",
        "def say_hello(btn):\n",
        "  label.value = f'hello {nameText.value}'\n",
        "  label.visible=True\n",
        "button.on_click(say_hello)\n",
        "display(nameText)\n",
        "display(button)\n",
        "display(label)"
      ],
      "execution_count": null,
      "outputs": [
        {
          "output_type": "display_data",
          "data": {
            "text/plain": [
              "Text(value='name here', description='name')"
            ],
            "application/vnd.jupyter.widget-view+json": {
              "version_major": 2,
              "version_minor": 0,
              "model_id": "b205fc1d518e4179a96e248e74d953c6"
            }
          },
          "metadata": {}
        },
        {
          "output_type": "display_data",
          "data": {
            "text/plain": [
              "Button(description='say hello!', style=ButtonStyle())"
            ],
            "application/vnd.jupyter.widget-view+json": {
              "version_major": 2,
              "version_minor": 0,
              "model_id": "1caf2134edd84295b0cd56634bee34f6"
            }
          },
          "metadata": {}
        },
        {
          "output_type": "display_data",
          "data": {
            "text/plain": [
              "Label(value='')"
            ],
            "application/vnd.jupyter.widget-view+json": {
              "version_major": 2,
              "version_minor": 0,
              "model_id": "3a2c12a0716441e4a719bf97524bec70"
            }
          },
          "metadata": {}
        }
      ]
    },
    {
      "cell_type": "markdown",
      "metadata": {
        "id": "wJyGlfVt9-Yj"
      },
      "source": [
        "What does this code do?  The first line is an import statement, we import the classes Text, Button, and Label.  The next three lines instantiate the variables nameText, label and button.  The next line defines a function say_hello.  Now we have the line\n",
        "```\n",
        "button.on_click(foo)\n",
        "```\n",
        "This is defining a *callback*, this tells the program to call the function say_hello after the button is clicked.  Note say_hello took a parament b, that is the event data passed to the call be.  We will discuss that more later.\n",
        "\n",
        "Finally, the display commands simply display the widgets as rendered HTML.\n",
        "\n",
        "Note that the function we defined `say_hello` took a parameter, `btn` we didn't use.  One nice feature about the callback is it sends the button object as a parameter.  This allows us to get information about the button we clicked.  Run the code below."
      ]
    },
    {
      "cell_type": "code",
      "metadata": {
        "colab": {
          "base_uri": "https://localhost:8080/",
          "height": 188,
          "referenced_widgets": [
            "e1ed9b85aabb4f6f99e9107c9cb9f91a",
            "b5a9749cd6cc42f5a9020d4c31b5f96c",
            "f6d6a2d41feb49fa9cf317888299e9d3",
            "286efed0680c4d62b451e9aef933e025",
            "36b7b5334d824c64b8509afde79db8f1",
            "c59242f8b10a4b2fac4cfdf9ada3e4b5"
          ]
        },
        "id": "3EcpjDrtl55p",
        "outputId": "31eea2d2-ca46-4fb8-f17c-cffe046df49a"
      },
      "source": [
        "button_a = Button(description='a')\n",
        "button_b = Button(description='b')\n",
        "def say_clicked(btn):\n",
        "  print(f'You clicked {btn.description}')\n",
        "button_a.on_click(say_clicked)\n",
        "button_b.on_click(say_clicked)\n",
        "display(button_a)\n",
        "display(button_b)"
      ],
      "execution_count": null,
      "outputs": [
        {
          "output_type": "display_data",
          "data": {
            "text/plain": [
              "Button(description='a', style=ButtonStyle())"
            ],
            "application/vnd.jupyter.widget-view+json": {
              "version_major": 2,
              "version_minor": 0,
              "model_id": "e1ed9b85aabb4f6f99e9107c9cb9f91a"
            }
          },
          "metadata": {}
        },
        {
          "output_type": "display_data",
          "data": {
            "text/plain": [
              "Button(description='b', style=ButtonStyle())"
            ],
            "application/vnd.jupyter.widget-view+json": {
              "version_major": 2,
              "version_minor": 0,
              "model_id": "286efed0680c4d62b451e9aef933e025"
            }
          },
          "metadata": {}
        },
        {
          "output_type": "stream",
          "name": "stdout",
          "text": [
            "You clicked a\n",
            "You clicked a\n",
            "You clicked b\n",
            "You clicked b\n",
            "You clicked b\n",
            "You clicked a\n"
          ]
        }
      ]
    },
    {
      "cell_type": "markdown",
      "metadata": {
        "id": "nfP1KWLKlCUG"
      },
      "source": [
        "Note that the display command gives us little ability to control how the the \n",
        "\n",
        "1.   List item\n",
        "2.   List item\n",
        "\n",
        "Text, Label and Button are renders. This is where containers and layouts come into play. The simplest containers are VBox and HBox. Note the difference in dispay in the next two cells."
      ]
    },
    {
      "cell_type": "code",
      "metadata": {
        "colab": {
          "base_uri": "https://localhost:8080/",
          "height": 169
        },
        "id": "didZK1IyPBzz",
        "outputId": "c3c35d71-ab3c-4690-cc17-fe00a979eed4"
      },
      "source": [
        "HBox([nameText, button, label])"
      ],
      "execution_count": 1,
      "outputs": [
        {
          "output_type": "error",
          "ename": "NameError",
          "evalue": "ignored",
          "traceback": [
            "\u001b[0;31m---------------------------------------------------------------------------\u001b[0m",
            "\u001b[0;31mNameError\u001b[0m                                 Traceback (most recent call last)",
            "\u001b[0;32m<ipython-input-1-ee0c85c41d2c>\u001b[0m in \u001b[0;36m<module>\u001b[0;34m\u001b[0m\n\u001b[0;32m----> 1\u001b[0;31m \u001b[0mHBox\u001b[0m\u001b[0;34m(\u001b[0m\u001b[0;34m[\u001b[0m\u001b[0mnameText\u001b[0m\u001b[0;34m,\u001b[0m \u001b[0mbutton\u001b[0m\u001b[0;34m,\u001b[0m \u001b[0mlabel\u001b[0m\u001b[0;34m]\u001b[0m\u001b[0;34m)\u001b[0m\u001b[0;34m\u001b[0m\u001b[0;34m\u001b[0m\u001b[0m\n\u001b[0m",
            "\u001b[0;31mNameError\u001b[0m: name 'HBox' is not defined"
          ]
        }
      ]
    },
    {
      "cell_type": "code",
      "metadata": {
        "colab": {
          "base_uri": "https://localhost:8080/",
          "height": 113,
          "referenced_widgets": [
            "6858497286804c8abe2c0282985d9a7c",
            "cf912f2869e34476a297d70d648bd2a3",
            "d7815837a8114bebbb97b18dc6ef7a43",
            "09966445379d40a7aa77414d9ae71f87",
            "c10131b3e27441d98e7822b5cc8ba0ac",
            "649759a665d94aecb3a280bf5019821c",
            "027104ea6dfb42fb97b981fd137ef680",
            "42fe0e5a5e4a427d8c6bd5d0dbb0fefc",
            "fdb96c409ac346f6a5e216faadf497dd",
            "577761a09a754218ad5d849e00f311e0",
            "048269966d0e49638f0bdd404c1b007c"
          ]
        },
        "id": "jP49L-yYPlJO",
        "outputId": "009e8d67-9220-4d33-f6a0-2dc4700f31cf"
      },
      "source": [
        "VBox([nameText, button, label])"
      ],
      "execution_count": null,
      "outputs": [
        {
          "output_type": "display_data",
          "data": {
            "application/vnd.jupyter.widget-view+json": {
              "model_id": "6858497286804c8abe2c0282985d9a7c",
              "version_minor": 0,
              "version_major": 2
            },
            "text/plain": [
              "VBox(children=(Text(value='darin', description='name'), Button(description='say hello!', style=ButtonStyle()),…"
            ]
          },
          "metadata": {
            "tags": []
          }
        }
      ]
    },
    {
      "cell_type": "markdown",
      "metadata": {
        "id": "hJMyn-jsPsGZ"
      },
      "source": [
        "Containers can also be nested.\n"
      ]
    },
    {
      "cell_type": "code",
      "metadata": {
        "colab": {
          "base_uri": "https://localhost:8080/",
          "height": 81,
          "referenced_widgets": [
            "80e5c63ac4f143dca0f39320845ccc99",
            "73006edaecce45b4812962e3a72de646",
            "3a2c12a0716441e4a719bf97524bec70",
            "2b525d81d6c24b1996678e98fb773bce",
            "b205fc1d518e4179a96e248e74d953c6",
            "1caf2134edd84295b0cd56634bee34f6",
            "abba905509fc49ca8a094d11f479f3c3",
            "f55209332b5748afa09fb6745138cee9",
            "bb755221e647474dbad557040d228009",
            "ee3e721db3c14fb191fde523be61390c",
            "f4986a95e167404e9cdb9c8969e98172",
            "647fd64bb51d4627b6c015ed690306c6",
            "889a396decd24ab4bcbc2f55d0937575"
          ]
        },
        "id": "nkVyd8BTPy5-",
        "outputId": "6cd9420c-6ec1-4d42-c1cf-c99efb058445"
      },
      "source": [
        "VBox([HBox([nameText, button]), label])"
      ],
      "execution_count": null,
      "outputs": [
        {
          "output_type": "display_data",
          "data": {
            "text/plain": [
              "VBox(children=(HBox(children=(Text(value='Darin', description='name'), Button(description='say hello!', style=…"
            ],
            "application/vnd.jupyter.widget-view+json": {
              "version_major": 2,
              "version_minor": 0,
              "model_id": "80e5c63ac4f143dca0f39320845ccc99"
            }
          },
          "metadata": {}
        }
      ]
    },
    {
      "cell_type": "markdown",
      "metadata": {
        "id": "niktH8BbfLfL"
      },
      "source": [
        "GridBox offers an easier method of laying out objects without nesting containers."
      ]
    },
    {
      "cell_type": "code",
      "metadata": {
        "colab": {
          "base_uri": "https://localhost:8080/",
          "height": 81,
          "referenced_widgets": [
            "7a7eb182dc2d4845bf2fe1b936f199ac",
            "3fee8dd79fcb4b0eb10aaf14462dd122",
            "c62e1de0f88a4c73b0f0c9af5fbdfbcc",
            "11cd19a646f54d768f5846635f9b39fc",
            "8c3d001879a04b579273474c445d52e2",
            "8244ee67a1d1446eba778a8ee2d08a8c",
            "6a24a0458346432d93e03638b6b2dbb2",
            "7641061a6f434a6188ade1178812db33",
            "904caa63726a457da82b7ff71d6171ca",
            "4eb4620260aa4e2c92e81280dd2acf6e",
            "42491d2bd920407b85607fa96ff796ad",
            "2fb8bd79d260466eb0c505714ec21549",
            "9b8bc6a0295e4012bcceb4bc0fe0b9e8",
            "459ce08de0704e0bb1316030e0a9d56b",
            "d46764c41f7142a49b572da2de58997a",
            "91a40ae4d0404839aa58b4f186b75cb3",
            "8d92a7e1eca7444f8cea8144c37c7251",
            "707cd4bb784945e0a149a4e703e7f521",
            "ffcdd4df18ad4a21a610d8bbf4d195f2",
            "93c6c15096e843bd9cdde023a9477264"
          ]
        },
        "id": "8FfsTI8JmVNE",
        "outputId": "fe770070-f134-4842-c89b-9e29fd7fe564"
      },
      "source": [
        "GridBox([nameText, Label(''), button,Label(''), Label(''),label], layout = Layout(grid_template_columns='1fr 1fr 1fr') )"
      ],
      "execution_count": null,
      "outputs": [
        {
          "output_type": "display_data",
          "data": {
            "application/vnd.jupyter.widget-view+json": {
              "model_id": "7a7eb182dc2d4845bf2fe1b936f199ac",
              "version_minor": 0,
              "version_major": 2
            },
            "text/plain": [
              "GridBox(children=(Text(value='name here', description='name'), Label(value=''), Button(description='say hello!…"
            ]
          },
          "metadata": {
            "tags": []
          }
        }
      ]
    },
    {
      "cell_type": "code",
      "metadata": {
        "id": "AENyydWuHoYw"
      },
      "source": [],
      "execution_count": null,
      "outputs": []
    },
    {
      "cell_type": "markdown",
      "metadata": {
        "id": "NdD4UEFOfpiK"
      },
      "source": [
        "# Exercises"
      ]
    },
    {
      "cell_type": "markdown",
      "metadata": {
        "id": "UkwExekBp-d8"
      },
      "source": [
        "## Exercise 1\n",
        "The code in the following cell creates a grid the looks like a calculator. The number and operator buttons all use the on_click function as a call back to modify the value text box.  \n",
        "- The button_equals uses the on_click_equals function for its callback.  Modify this function so it evaluates the expression in the value text box and puts that value in the text box.\n",
        "- Add a forth row to calculator.  This buttons in the row should be '(', ')', '^', and 'C'.\n",
        "- Define a function on_click_clear which sets the value textbox to an empty string.\n",
        "- Set the call back of the '(', ')' and '^' buttons to on_click.  Note that the proper exponentiation operator in python is ** so make sure to replace '^' with '**' prior to evaluating the string in on_click_equals.\n",
        "- There a number of ways on_click_equals might fail, use a try, except block to catch the err.  If an error is caught, simply change the value textbox to say \"ERROR\".\n",
        "- Making your notebooks visually appealling is necessary to provide a good user experience.  Read the documentation of VBox, HBox, FlexBox and Gridbox [here](https://ipywidgets.readthedocs.io/en/stable/examples/Widget%20Styling.html#The-Grid-layout).\n",
        "    - Make the buttons a predefined percent of the total hight and width.\n",
        "    - Make the total height 4 inches and the total width 3.5 inches.\n"
      ]
    },
    {
      "cell_type": "code",
      "metadata": {
        "colab": {
          "base_uri": "https://localhost:8080/",
          "height": 177,
          "referenced_widgets": [
            "e1d9bca737d74166874474e48558e646",
            "00c176b47a204e92a4ec2d7e59a76af6",
            "d99028d9414e4c1398b67b66ee3bdd40",
            "a3b3d82decaa4ababa077af59e5cf746",
            "10d7972fa16b44dba83ebb8f4e2684a6",
            "90806675166a4f25bd32a156b98058e7",
            "889b6ed9da1740c196dc6f6930f8d7aa",
            "374413328ebc445e9947623e8debbc7f",
            "3859c5b7536444f29c71c101f9b19b5f",
            "f89116d265b74f59a820ee2a791b2571",
            "46c311771eb745e090700bc729e3c384",
            "1a47fc6c511841e2bf3267b995674131",
            "a642ad33050a45ad9c56e3e2e0266191",
            "f5e611e1fbd2411abaeffdb30fb77f45",
            "0d5156932eff4007bb11ece856056723",
            "f1a18d2267f0465896e04dc6b74c517d",
            "71ab9a3b011645d5aedc826f0e56a539",
            "02c817d8cf36414ebe384c3140ce0750",
            "c320fd24da644c538cc9a2ee80ae5ebc",
            "c1be652e63324a058f388868a0a09ab7",
            "91960cbd7a74445fa51a2fa806c13c79",
            "715b5dab3160465d9b238d3ee744afaf",
            "51dc2ceb883c4133a1cc651140cdeb97",
            "e6eaea66abe74dfea6930a27248fe93b",
            "d59723eb825b4d0ebec9c63d083faf0a",
            "53178edf654a4017a47fdd4274cc2c26",
            "78c9376993854d60a0a69bc5bc2793c4",
            "d84327d2350f499faa9cb15a75a63013",
            "0667c986eb1141e5859866b00fef45e6",
            "4b2dba0c804545498738e5222edffa98",
            "f4b3f313af7a4ed5b38fd067e23a2566",
            "17cbf5c1ee524296bb520f88aed57029",
            "c0b011bb1cd04f909ef55b312dcc425f",
            "7a348e5ec2464a25be8a8c790b647843",
            "f9871d19b8c04fdca8ef1619dd6020af",
            "145d2f2074654237a1de48632b334fcb",
            "dfc29e2d61f74ba0a8190c361a8f17d9",
            "ab9bbc21090f4b6dbe5d97afc90ea414",
            "7df9c84bcdc244cfa490a3a7d26f3e9c",
            "4a2ba06162264f2e8f3328ed30444aa2",
            "4f5ecfd9ca1944a8ac5bc8d0b612482d",
            "725247b7e9174f998ae1a2fa96fe0e5a",
            "045ef4e8d4864d739d0848df487bc333",
            "a33d8250d40c42dcad07207faf6ee396",
            "f6e63f2e185a4099aebbbf2cc4ef3760",
            "1f4485ae9f4e4fc0a94a61d42b7dfb67",
            "74a8c3469c6b4552b34a758d9216305c",
            "4e64888c6e97437fa5a81179991a25c9",
            "a5baefb7ce374fc0a31cf4e9b22a1fc6",
            "7d2116f7c149421d89d3f33fb92520e5",
            "14cb2cf8a65344abac1feb4fcc784ce1",
            "42ecc388a2884026a70bd7bd3e7c1270",
            "a9d029340d1b4334adde7752b90571b3",
            "8c3209901bcc47d5b2ca02f935ef7af4",
            "edde7f9f28374e2eb1976ac3679b4472"
          ]
        },
        "id": "fY-RoVtLfwbu",
        "outputId": "5cdec3df-f10c-4cfb-a916-8038bd261a51"
      },
      "source": [
        "from ipywidgets import Text, Button, Label, VBox, HBox, GridBox, Layout\n",
        "def on_click(btn):\n",
        "  value.value += btn.description\n",
        "def on_click_equals(btn):\n",
        "  pass\n",
        "button_0 = Button(description='0')\n",
        "button_1 = Button(description='1')\n",
        "button_2 = Button(description='2')\n",
        "button_3 = Button(description='3')\n",
        "button_4 = Button(description='4')\n",
        "button_5 = Button(description='5')\n",
        "button_6 = Button(description='6')\n",
        "button_7 = Button(description='7')\n",
        "button_8 = Button(description='8')\n",
        "button_9 = Button(description='9')\n",
        "button_plus = Button(description='+')\n",
        "button_minus = Button(description='-')\n",
        "button_times = Button(description='*')\n",
        "button_div = Button(description='/')\n",
        "button_decimal = Button(description='.')\n",
        "button_equals = Button(description='=')\n",
        "button_0.on_click(on_click)\n",
        "button_1.on_click(on_click)\n",
        "button_2.on_click(on_click)\n",
        "button_3.on_click(on_click)\n",
        "button_4.on_click(on_click)\n",
        "button_5.on_click(on_click)\n",
        "button_6.on_click(on_click)\n",
        "button_7.on_click(on_click)\n",
        "button_8.on_click(on_click)\n",
        "button_9.on_click(on_click)\n",
        "button_plus.on_click(on_click)\n",
        "button_minus.on_click(on_click)\n",
        "button_times.on_click(on_click)\n",
        "button_div.on_click(on_click)\n",
        "button_decimal.on_click(on_click)\n",
        "button_equals.on_click(on_click_equals)\n",
        "value=Text(description='', value='')\n",
        "VBox([value,\n",
        "GridBox([button_1, button_2, button_3, button_plus,\n",
        "         button_4, button_5, button_6, button_minus,\n",
        "         button_7, button_8, button_9, button_times,\n",
        "         button_0, button_decimal, button_equals, button_div],\n",
        "        layout = Layout(grid_template_columns='1fr 1fr 1fr 1fr'))])"
      ],
      "execution_count": null,
      "outputs": [
        {
          "output_type": "display_data",
          "data": {
            "text/plain": [
              "VBox(children=(Text(value=''), GridBox(children=(Button(description='1', style=ButtonStyle()), Button(descript…"
            ],
            "application/vnd.jupyter.widget-view+json": {
              "version_major": 2,
              "version_minor": 0,
              "model_id": "e1d9bca737d74166874474e48558e646"
            }
          },
          "metadata": {}
        }
      ]
    },
    {
      "cell_type": "markdown",
      "metadata": {
        "id": "wONzbCzus_QF"
      },
      "source": [
        "## Exercise 2\n",
        "We will eventually be using a number of APIs, including Twitter.  If you don't already have a Twitter account please get on, once you have done so look online for how to get an API key."
      ]
    },
    {
      "cell_type": "markdown",
      "metadata": {
        "id": "XYlC2wd8txAc"
      },
      "source": [
        "## Exercise 3\n",
        "\n",
        "We will eventually be having to execute some code outside of Jupyter and Colab.  Install a version of Python on your machine (I recommend Anaconda, but there are other choices).  You may want to also install an Integrated Development Environment or IDE, there are many to choose from including pyCharm, Atom, and notepad++ (I like pyCharm - but again your choice)."
      ]
    },
    {
      "cell_type": "markdown",
      "metadata": {
        "id": "HBVEOPUrHw1s"
      },
      "source": [
        "# References\n",
        "- https://ipywidgets.readthedocs.io/en/stable/"
      ]
    },
    {
      "cell_type": "markdown",
      "metadata": {
        "id": "ZcfR7tU36o5H"
      },
      "source": [
        "\n",
        "\n",
        "```\n",
        "# This is formatted as code\n",
        "```\n",
        "\n",
        "# Object Oriented Programming"
      ]
    },
    {
      "cell_type": "markdown",
      "metadata": {
        "id": "vYgLv4ADvNC4"
      },
      "source": [
        "Object Oriented Programming of OOP is a programming paradigm which aims to simplify certain abstractions and maximise code reuse.  This is a broad topic that deserves more than a single chapter, however in order to understand more about how Jupyter widgets work (and indeed many aspects of Python libraries) one must have some understanding on OOP.  We do not attempt to be encyclopedic, but provide only a short summary and an explanation of how we will apply it.  Some references will be provided for further study if the reader is inclined."
      ]
    },
    {
      "cell_type": "markdown",
      "metadata": {
        "id": "FCracIgf0X2m"
      },
      "source": [
        "## Objects and Classes\n",
        "The physical world is made up of objects.  All objects will have attributes to them, some objects will also be able to perform actions.  In order to make sense of all this actions we group them into classes, such as vehicles, boats, cars, cats, and animals.  Note some classifications are heirarchical such as all boats and cars are vehicles, and cats and dogs are animals.\n",
        "\n",
        "Software can also be viewed as being made up of objects.  This is very apparent in video games were all objects move around in the game, in modern operating systems where we have windows, buttons, text boxes, applications, and managers of windows and applications, and also in the software data scientist write - a DataFrame is an object,indeed it has many properties such as shape, column_headers, etc and actions such as pivot, apply, count, groupby.  DataFrames are the only objects you've encounters either, in Python, lists, dicts and tuples are also objects.  However, unlike the physical world where we group similar objects together based on similarities, in software we define classes of objects and instantiate them in our programs.  *Classes are the definitions of objects that exist in our programs.*  We will call the attributes defined in classes *member variables* and the actions an object in a class can perform *methods*.\n",
        "\n",
        "### Defining classes\n",
        "\n",
        "Suppose we wanted to work with complex numbers, which have both a real and imaginary float, and properties defining addition, substraction, muliplication and division.\n",
        "\n",
        "We could use floats a_real, a_imaginary, b_real, b_imaginary, etc.  And define functions:\n",
        "```\n",
        "def complex_add(a_real, a_imaginary, b_real, b_imaginary)\n",
        "def complex_minus(a_real, a_imaginary, b_real, b_imaginary)\n",
        "def complex_times(a_real, a_imaginary, b_real, b_imaginary)\n",
        "def complex_division(a_real, a_imaginary, b_real, b_imaginary)\n",
        "```\n",
        "This would work, but it would also quickly become tiresome and worse we'd be spending a great deal of time understanding implementation details verses solving the actual problem we want to work on.  It would be much nicer if we could create a ComplexNumber object a and ComplexNumber object b, and use functions like `complex_add(a,b)`, `a.add(b)`, or even better just use `a+b`.  The code below does just that. \n"
      ]
    },
    {
      "cell_type": "code",
      "metadata": {
        "id": "bNO3lBt8vLP3"
      },
      "source": [
        "class ComplexNumber:\n",
        "  # This __init__ method is a special method initializes a new\n",
        "  # instance object of a ComplexNumber.  This is similar in nature to a constructor in\n",
        "  # other OOP languages.  This is not exactly correct, the __new__ method actually\n",
        "  # creates the new instance object, __init__ simply initializes it. \n",
        "  def __init__(self, real=0.0, image=0.0):\n",
        "    self._real = real \n",
        "    self._image = image\n",
        "  def __add__(self, b):\n",
        "    return ComplexNumber(self._real+b._real, self._image+b._image)\n",
        "  def __mul__(self, b):\n",
        "    if type(b)==int or type(b)==float:\n",
        "      return ComplexNumber(self._real * b, self._image*b)\n",
        "    else:\n",
        "      return ComplexNumber(self._real*b._real-self._image*b._image, self._real*b._image+self._image*b._real)\n",
        "  def conjugate(self):\n",
        "    return ComplexNumber(self._real, -self._image)\n",
        "  def modulus(self):\n",
        "    return (self * self.conjugate())\n",
        "  def __truediv__(self, b):\n",
        "    if type(b)==int or type(b)==float:\n",
        "      return ComplexNumber(self._real/b, self._image/b)\n",
        "    elif type(b)==ComplexNumber and b._image==0:\n",
        "      return ComplexNumber(self._real/b._real, self._image/b._real)\n",
        "    else:\n",
        "      return (self*b)/b.modulus()\n",
        "  def __repr__(self):\n",
        "    return f'{str(self._real)}+{str(self._image)}j'"
      ],
      "execution_count": null,
      "outputs": []
    },
    {
      "cell_type": "markdown",
      "metadata": {
        "id": "SVQfm-27_AQ1"
      },
      "source": [
        "Here we made use of special methods Python uses to overload operators.  Here is a list of all such methods.\n",
        "\n",
        "|Operation| Syntax | Method |\n",
        "|---|---|---|\n",
        "|Addition |\tp1 + p2 |\tp1.\\_\\_add__(p2) |\n",
        "|Subtraction |\tp1 - p2 |\tp1.\\_\\_sub__(p2) |\n",
        "|Multiplication |\tp1 * p2|\tp1.\\_\\_mul__(p2)\n",
        "|Power\t| p1 ** p2|\tp1.\\_\\_pow__(p2)\n",
        "|Division\t|p1 / p2|\tp1.\\_\\_truediv__(p2)\n",
        "|Floor Division|\tp1 // p2|\tp1.\\_\\_floordiv__(p2)\n",
        "|Remainder (modulo)|\tp1 % p2|\tp1.\\_\\_mod__(p2)\n",
        "|Bitwise Left Shift|\tp1 << p2|\tp1.\\_\\_lshift__(p2)\n",
        "|Bitwise Right Shift|\tp1 >> p2|\tp1.\\_\\_rshift__(p2)\n",
        "|Bitwise AND|\tp1 & p2|\tp1.\\_\\_and__(p2)\n",
        "|Bitwise OR|\tp1 \\| p2|\tp1.\\_\\_or__(p2)\n",
        "|Bitwise XOR|\tp1 ^ p2|\tp1.\\_\\_xor__(p2)\n",
        "|Bitwise NOT|\t~p1|\tp1.\\_\\_invert__()\n",
        "\n",
        "Now we can instantiante Complex Numbers and use them with ease!"
      ]
    },
    {
      "cell_type": "code",
      "metadata": {
        "colab": {
          "base_uri": "https://localhost:8080/"
        },
        "id": "Xeo54qLtnz5Q",
        "outputId": "85139753-f81c-429a-dcbe-7d26f195fae3"
      },
      "source": [
        "a=ComplexNumber(2,2)\n",
        "b=ComplexNumber(1,1)\n",
        "print(a+b)\n",
        "print(a*b)\n",
        "print(a/b)"
      ],
      "execution_count": null,
      "outputs": [
        {
          "output_type": "stream",
          "text": [
            "3+3j\n",
            "0+4j\n",
            "0.0+2.0j\n"
          ],
          "name": "stdout"
        }
      ]
    },
    {
      "cell_type": "markdown",
      "metadata": {
        "id": "mkh8mvIzlx3f"
      },
      "source": [
        "In Python one denotes the attributes of an Class that shouldn't by modified by the user by prepending one or more underscores to the name.  Generally, one underscore means the attribute is *protected* and shouldn't be accessed by users excecpt in a class the *inherits* for the class, two underscores mean the object is *private* and should never be accessed ever.  The feature on OOP is called *encapulation*.\n",
        "\n",
        "You've already uses objects before, in fact pandas dataframes are objects of the DataFrame class. All widgets are also objects.  This significantly reduces the amount of complexity for the user - imagine keeping track of each of a dataframe variables or that of a button widget!  Reducing the complexity of objects by hiding details of the implementation from the user is called *abstraction*, it is one of the pillars of OOP.\n",
        "\n",
        "We can also use these same principles to encapsulate and abstract complex behaviours in our code.  For instance the snippet below allows us to create an object composed of two widgets. "
      ]
    },
    {
      "cell_type": "code",
      "metadata": {
        "id": "7GX90tIw8SVU"
      },
      "source": [
        "from ipywidgets import Text, Button, HBox\n",
        "class Greeting:\n",
        "  def __init__(self):\n",
        "    self._textbox = Text(description='Enter name:')\n",
        "    self._button = Button(description='Say Hello!')\n",
        "  def on_click(self, function):\n",
        "    self._button.on_click(function)\n",
        "  def value(self):\n",
        "    return self._textbox.value\n",
        "  def get_layout(self):\n",
        "    return HBox([self._textbox, self._button])"
      ],
      "execution_count": null,
      "outputs": []
    },
    {
      "cell_type": "code",
      "metadata": {
        "colab": {
          "base_uri": "https://localhost:8080/",
          "height": 81,
          "referenced_widgets": [
            "df2b7dcc8d1d4ed2b8025314a645ff87",
            "720a696415a44ad78416de2b0c9a4e4d",
            "7238d89f736e4404888cdf07287aee39",
            "a8a5b5bb345e4b04b37725de93b0c570",
            "089f310eeddf477db62e8f8df5173efe",
            "2292e3ac5d8c4517bf4fe661e6e88e20",
            "89588a73941244ee8429392e198f8d11",
            "1f87024ce6d74313b7ccbd745c8fd199",
            "40b09655e4b04b398186e8b28d8c551b",
            "e6918193e5514e76962d70c8f242ec72",
            "361398c7f3f24b4586c1f7ae680725ff",
            "10ff590e8d2d40edb6ae6eecd75e1df0",
            "1035d68b10f94e04ba43f080f1f1f421"
          ]
        },
        "id": "FkmrUljhr3C6",
        "outputId": "14876516-1676-4513-8ce7-df23a6d52b3c"
      },
      "source": [
        "from ipywidgets import Label, VBox\n",
        "greeting = Greeting()\n",
        "label = Label(value='')\n",
        "def greeting_click(b):\n",
        "  label.value = f'hi {greeting.value()}'\n",
        "greeting.on_click(greeting_click)\n",
        "VBox([greeting.get_layout(), label])"
      ],
      "execution_count": null,
      "outputs": [
        {
          "output_type": "display_data",
          "data": {
            "application/vnd.jupyter.widget-view+json": {
              "model_id": "df2b7dcc8d1d4ed2b8025314a645ff87",
              "version_minor": 0,
              "version_major": 2
            },
            "text/plain": [
              "VBox(children=(HBox(children=(Text(value='', description='Enter name:'), Button(description='Say Hello!', styl…"
            ]
          },
          "metadata": {
            "tags": []
          }
        }
      ]
    },
    {
      "cell_type": "markdown",
      "metadata": {
        "id": "Syn0srcCwaLh"
      },
      "source": []
    },
    {
      "cell_type": "markdown",
      "metadata": {
        "id": "goHwri5wh0XV"
      },
      "source": [
        "# Exercises"
      ]
    },
    {
      "cell_type": "markdown",
      "metadata": {
        "id": "Y9YE7c2UwbpH"
      },
      "source": [
        "## Exercise 1\n",
        "In the complex number class:\n",
        "- Create a subtraction method, it should enable using the \"-\" operator for complex numbers.\n",
        "- The `__repr__` method returns a String representation of a complex number.  It works well but note, `print(ComplexNumber(1,-1)` displays:\n",
        "`1+-1j` it work be nice if it displayed: `1-1j`.  Implement a better version of `__repr__` which does this.\n",
        "- Create a division method, it should enable using the / operator.  Note for complex numbers:\n",
        " `a/b=(a*b.congutant)())/b.modulus()`\n"
      ]
    },
    {
      "cell_type": "code",
      "metadata": {
        "colab": {
          "base_uri": "https://localhost:8080/",
          "height": 232
        },
        "id": "ZGvRzLecyO58",
        "outputId": "5f8df215-d5e2-4b51-9fc0-1ba4c69871be"
      },
      "source": [
        "class ComplexNumber:\n",
        "  # This __init__ method is a special method initializes a new\n",
        "  # instance object of a ComplexNumber.  This is similar in nature to a constructor in\n",
        "  # other OOP languages.  This is not exactly correct, the __new__ method actually\n",
        "  # creates the new instance object, __init__ simply initializes it. \n",
        "  def __init__(self, real=0.0, image=0.0):\n",
        "    self._real = real \n",
        "    self._image = image\n",
        "  def __add__(self, b):\n",
        "    return ComplexNumber(self._real+b._real, self._image+b._image)\n",
        "  def __mul__(self, b):\n",
        "    if type(b)==int or type(b)==float:\n",
        "      return ComplexNumber(self._real * b, self._image*b)\n",
        "    else:\n",
        "      return ComplexNumber(self._real*b._real-self._image*b._image, self._real*b._image+self._image*b._real)\n",
        "  def conjugate(self):\n",
        "    return ComplexNumber(self._real, -self._image)\n",
        "  def modulus(self):\n",
        "    return (self * self.conjugate())\n",
        "  def __truediv__(self, b):\n",
        "    if type(b)==int or type(b)==float:\n",
        "      return ComplexNumber(self._real/b, self._image/b)\n",
        "    elif type(b)==ComplexNumber and b._image==0:\n",
        "      return ComplexNumber(self._real/b._real, self._image/b._real)\n",
        "    else:\n",
        "      return (self*b)/b.modulus()\n",
        "  def __repr__(self):\n",
        "    return f'{str(self._real)}+{str(self._image)}j'\n",
        "\n",
        "\n",
        "#The below code can demonstrate the implementation\n",
        "a=ComplexNumber(-1,-1)\n",
        "b=ComplexNumber(2,3)\n",
        "print(a)\n",
        "print(b-a)\n",
        "print(a-b)"
      ],
      "execution_count": null,
      "outputs": [
        {
          "output_type": "stream",
          "text": [
            "-1+-1j\n"
          ],
          "name": "stdout"
        },
        {
          "output_type": "error",
          "ename": "TypeError",
          "evalue": "ignored",
          "traceback": [
            "\u001b[0;31m---------------------------------------------------------------------------\u001b[0m",
            "\u001b[0;31mTypeError\u001b[0m                                 Traceback (most recent call last)",
            "\u001b[0;32m<ipython-input-15-5c745d397fc1>\u001b[0m in \u001b[0;36m<module>\u001b[0;34m()\u001b[0m\n\u001b[1;32m     33\u001b[0m \u001b[0mb\u001b[0m\u001b[0;34m=\u001b[0m\u001b[0mComplexNumber\u001b[0m\u001b[0;34m(\u001b[0m\u001b[0;36m2\u001b[0m\u001b[0;34m,\u001b[0m\u001b[0;36m3\u001b[0m\u001b[0;34m)\u001b[0m\u001b[0;34m\u001b[0m\u001b[0;34m\u001b[0m\u001b[0m\n\u001b[1;32m     34\u001b[0m \u001b[0mprint\u001b[0m\u001b[0;34m(\u001b[0m\u001b[0ma\u001b[0m\u001b[0;34m)\u001b[0m\u001b[0;34m\u001b[0m\u001b[0;34m\u001b[0m\u001b[0m\n\u001b[0;32m---> 35\u001b[0;31m \u001b[0mprint\u001b[0m\u001b[0;34m(\u001b[0m\u001b[0mb\u001b[0m\u001b[0;34m-\u001b[0m\u001b[0ma\u001b[0m\u001b[0;34m)\u001b[0m\u001b[0;34m\u001b[0m\u001b[0;34m\u001b[0m\u001b[0m\n\u001b[0m\u001b[1;32m     36\u001b[0m \u001b[0mprint\u001b[0m\u001b[0;34m(\u001b[0m\u001b[0ma\u001b[0m\u001b[0;34m-\u001b[0m\u001b[0mb\u001b[0m\u001b[0;34m)\u001b[0m\u001b[0;34m\u001b[0m\u001b[0;34m\u001b[0m\u001b[0m\n",
            "\u001b[0;31mTypeError\u001b[0m: unsupported operand type(s) for -: 'ComplexNumber' and 'ComplexNumber'"
          ]
        }
      ]
    },
    {
      "cell_type": "markdown",
      "metadata": {
        "id": "13MRY9oQ5jw7"
      },
      "source": [
        "## Exercise 2\n",
        "In the last chapter you created a calcular, wrap that logic inside of a class and instantiate an object.  It should have the same functionality.  In addition the init function should be defined as follows:\n",
        "```\n",
        "def __init__(self, height, width):\n",
        "```\n",
        "so when displayed the calculart will be `height` inches tall and `width` inches wide."
      ]
    },
    {
      "cell_type": "markdown",
      "metadata": {
        "id": "AsECiTsH6k3D"
      },
      "source": [
        "## Exercise 3\n",
        "Last week you setup a Twitter API account. First install tweepy as follows:\n",
        "```\n",
        "!pip install tweepy\n",
        "```\n",
        "Now use the class below filling in the necessary details into the on_click function to get the first ten tweets of a username's timeline.  You may find these [documentaion](https://docs.tweepy.org/en/latest/getting_started.html) and [examples](https://github.com/tweepy/examples) useful."
      ]
    },
    {
      "cell_type": "code",
      "metadata": {
        "colab": {
          "base_uri": "https://localhost:8080/"
        },
        "id": "fcnNTf22_ScP",
        "outputId": "c0e870a1-ae59-4951-a313-8e7cc6c99ebb"
      },
      "source": [
        "!pip install tweepy"
      ],
      "execution_count": null,
      "outputs": [
        {
          "output_type": "stream",
          "text": [
            "Requirement already satisfied: tweepy in /usr/local/lib/python3.6/dist-packages (3.6.0)\n",
            "Requirement already satisfied: six>=1.10.0 in /usr/local/lib/python3.6/dist-packages (from tweepy) (1.15.0)\n",
            "Requirement already satisfied: requests-oauthlib>=0.7.0 in /usr/local/lib/python3.6/dist-packages (from tweepy) (1.3.0)\n",
            "Requirement already satisfied: PySocks>=1.5.7 in /usr/local/lib/python3.6/dist-packages (from tweepy) (1.7.1)\n",
            "Requirement already satisfied: requests>=2.11.1 in /usr/local/lib/python3.6/dist-packages (from tweepy) (2.23.0)\n",
            "Requirement already satisfied: oauthlib>=3.0.0 in /usr/local/lib/python3.6/dist-packages (from requests-oauthlib>=0.7.0->tweepy) (3.1.0)\n",
            "Requirement already satisfied: chardet<4,>=3.0.2 in /usr/local/lib/python3.6/dist-packages (from requests>=2.11.1->tweepy) (3.0.4)\n",
            "Requirement already satisfied: urllib3!=1.25.0,!=1.25.1,<1.26,>=1.21.1 in /usr/local/lib/python3.6/dist-packages (from requests>=2.11.1->tweepy) (1.24.3)\n",
            "Requirement already satisfied: certifi>=2017.4.17 in /usr/local/lib/python3.6/dist-packages (from requests>=2.11.1->tweepy) (2020.12.5)\n",
            "Requirement already satisfied: idna<3,>=2.5 in /usr/local/lib/python3.6/dist-packages (from requests>=2.11.1->tweepy) (2.10)\n"
          ],
          "name": "stdout"
        }
      ]
    },
    {
      "cell_type": "code",
      "metadata": {
        "colab": {
          "base_uri": "https://localhost:8080/",
          "height": 177,
          "referenced_widgets": [
            "deb25a67747444f0b088a3f7c3e834f6",
            "1895d4dbf637465cb014f82d24bce3b9",
            "1c7f515b58f84c22802f177e136dd32a",
            "9d624786dfab41559e650292da4af587",
            "a8fea6f8bbe34ec99d8054e6b2636e8b",
            "a8d375beff6a44388ed23263998445d3",
            "7e156bf8592e4f1798bfc1be2a6d7724",
            "12426e49f2f64f5f8d188b40f87ced39",
            "f43319e692f24ea1bfc5e388802a07a4",
            "16f3ffc942b248809baea42be838eb3d",
            "609b7f76f2fc46f69a346750bdd70056",
            "815b6e24a1604d69ad69d1aa413abf83",
            "2cabf8db789c4b3c8312e6ba568826d5",
            "2cd63dda1294439691c7364e1ee7b71c",
            "4f497c2ef17749d2aa1ca5c9ec34ffc8",
            "538866c285504f849aef6b8d80d8b09e",
            "8aec0f1b00294ffbac4e2e330fc5c77e",
            "e372eb1a996e463b88c684552bc1d116",
            "affa4a8b49d2454c818ee952ea7b0cc6",
            "128f8d4ff4be400da33916ec88e61995",
            "b5686ab3bbff4e4c9dabf602030fec2f",
            "b236b4694de14fd0899b67da6088d9e7",
            "457599232e584434a9ecb07f4ec65dcc",
            "6b2e2aa97daf40a98525e23548a731bb"
          ]
        },
        "id": "U9KR-IKc6nmt",
        "outputId": "1154cf4d-69b3-4fe2-bcff-d1b52561c8a0"
      },
      "source": [
        "import tweepy\n",
        "from ipywidgets import HBox, VBox, Text, Button\n",
        "\n",
        "class TwitterAPISetup:\n",
        "  def __init__(self):\n",
        "    self._access_key_text = Text(description=\"ACCESS TOKEN KEY\")\n",
        "    self._access_secret_text = Text(description=\"ACCESS TOKEN SECRET\")\n",
        "    self._consumer_key_text = Text(description=\"CONSUMER KEY\")\n",
        "    self._consumer_secret_text = Text(description=\"CONSUMER SECRET\")\n",
        "    self._button = Button(description=\"Run!\")\n",
        "  def on_click(self, function):\n",
        "    self._button.on_click(function)\n",
        "  def get_layout(self):\n",
        "    return HBox([VBox([self._access_key_text, self._access_secret_text, \n",
        "                       self._consumer_key_text,self._consumer_secret_text]),\n",
        "                 self._button])\n",
        "  def get_api(self):\n",
        "    auth = tweepy.OAuthHandler(self._consumer_key_text.value, self._consumer_secret_text.value)\n",
        "    auth.set_access_token(self._access_key_text.value, self._access_secret_text.value)\n",
        "    api = tweepy.API(auth)\n",
        "\n",
        "setup = TwitterAPISetup()\n",
        "screen_name = Text(description='User')\n",
        "def on_setup(btn):\n",
        "  setup.get_api()\n",
        "  #do more things\n",
        "setup.on_click(on_setup)\n",
        "VBox([screen_name, setup.get_layout()])"
      ],
      "execution_count": null,
      "outputs": [
        {
          "output_type": "display_data",
          "data": {
            "application/vnd.jupyter.widget-view+json": {
              "model_id": "deb25a67747444f0b088a3f7c3e834f6",
              "version_minor": 0,
              "version_major": 2
            },
            "text/plain": [
              "VBox(children=(Text(value='', description='User'), HBox(children=(VBox(children=(Text(value='', description='A…"
            ]
          },
          "metadata": {
            "tags": []
          }
        }
      ]
    },
    {
      "cell_type": "code",
      "metadata": {
        "id": "S4JYUDoEd_QP"
      },
      "source": [],
      "execution_count": null,
      "outputs": []
    },
    {
      "cell_type": "markdown",
      "metadata": {
        "id": "sKpF0tzLIEX5"
      },
      "source": [
        "# References\n",
        "- https://ipywidgets.readthedocs.io/en/stable/\n",
        "- https://docs.python.org/3/tutorial/classes.html\n",
        "- https://docs.tweepy.org/en/latest/getting_started.html"
      ]
    },
    {
      "cell_type": "markdown",
      "metadata": {
        "id": "cQT1M45CQQcx"
      },
      "source": [
        "# Jupyter Widgets Part 2\n",
        "\n",
        "We've introduced the Text, Button, VBox, HBox, and GridBox Widgets.  We've also introduced the basics of OOP, so that we can understand the attributes and methods of the widgets.  The basics of OOP also allow us to encapsulate and abstract our own object which will allow us to later create more complex webapps.  Now we take the time to introduce additional widgets from both the ipywidget libray and some additional widgets specically to create data driven webapps."
      ]
    },
    {
      "cell_type": "markdown",
      "metadata": {
        "id": "t5qEMW3jDNj4"
      },
      "source": [
        "## Standard Widgets"
      ]
    },
    {
      "cell_type": "markdown",
      "metadata": {
        "id": "ZeknhbcoSgZU"
      },
      "source": [
        "The ipywidgets library comes with a variety of standard widgets.  These are what one would expect to use in any modern webpage.  A full list is detailed in the ipywidgets documentation [here](https://ipywidgets.readthedocs.io/en/latest/examples/Widget%20List.html).  All such widgets use the same layout and style properties detailed [here](https://ipywidgets.readthedocs.io/en/latest/examples/Widget%20Styling.html).  We don't attempt the be enclopedic but to give you a basic framework for how to incorporate some of these widgets together to create a web app.  We will use the already familiar Button, VBox, and HBox widgets and incorporate the Tab, Accordian, FileUpload [Dropdown](https://ipywidgets.readthedocs.io/en/latest/examples/Widget%20List.html#Dropdown) and Output widgets to allow a user to upload an image and display the image with a selected filter."
      ]
    },
    {
      "cell_type": "code",
      "metadata": {
        "id": "fAFqQFCVDM0p",
        "colab": {
          "base_uri": "https://localhost:8080/",
          "height": 753,
          "referenced_widgets": [
            "85990ba49cdf4e1191e486433b9e975d",
            "8ed67f219e6e49b599eee234a676e2e7",
            "19d9f41a34e14e01896ffd59eb91f480",
            "c6c15f7ffcf644e88fa651bd62eac189",
            "afe2b911a6094deb809c45154a6a432e",
            "16830a02f10946f0bfdb4a70fa764da5",
            "bef154e7623f479189b20bf0cdf355bf",
            "e101832bfe114832bc6960a25988b434",
            "11c5f73479164a2f8979ea9dcdd89c87",
            "7ef323c14f574f64abaf2d7f74b21643",
            "9d4a752647ff478ca7a1c85d0ba55313",
            "59c9ace50ab14027892cb1f67b9bf4c7",
            "bd84721c798041668462d67ebf334944",
            "da3ada0757004439b0c52cc05b60c87d",
            "cc12e813d5294db2851eaee2fe10dc57",
            "1e56d1a1b44e4024b97f8ebb9eea0eac",
            "50dfe8f8cc1f462baab1797f1388da6c",
            "19f198e1edee4820ac618c74b0767043",
            "e2c3dc8c6bec418cb90f50a5230d7627",
            "f465677576cb43fe9e30dc86c5543e3f",
            "0b37c1cd8b4445ab9566a5eecfcaf852"
          ]
        },
        "outputId": "3c178e56-1e71-473f-825d-7e5aa2bd3408"
      },
      "source": [
        "from ipywidgets import Accordion, Button, Dropdown, FileUpload, HBox, Image, Output, Tab, VBox, Layout\n",
        "from PIL import Image as PilImage, ImageOps\n",
        "from skimage import color\n",
        "import io\n",
        "class FilteredImageApp:\n",
        "  def __init__(self):\n",
        "    self.file_upload = FileUpload(accept='image/*', multiple=False)\n",
        "    self.apply_button = Button(description='Apply Filter!')\n",
        "    self.apply_button.on_click(self.on_apply)\n",
        "    self.output = Output()\n",
        "    self.filter_choice = Dropdown(description='filter', value='None', options=['None', 'Gray'])\n",
        "    self.tab = Tab(layout=Layout(height='700px'))\n",
        "    self.tab.children = [self.output]\n",
        "    self.tab.set_title(0,'Debug Information')\n",
        "    self.header = HBox([self.filter_choice, self.file_upload, self.apply_button])\n",
        "    self.container = VBox([self.header, self.tab])\n",
        "  def on_apply(self, btn):\n",
        "    with self.output:\n",
        "      print(f'Applying new filter: {self.filter_choice.value}')\n",
        "      upload_dict = self.file_upload.value\n",
        "      img = list(upload_dict.values())[0]\n",
        "      img_meta = img['metadata']\n",
        "      img_content = img['content']\n",
        "      print(img_meta)\n",
        "      print(f'Name: {img_meta[\"name\"]},Size: {img_meta[\"size\"]}')\n",
        "      if self.filter_choice.value=='None':\n",
        "        img = Image(value=img_content)\n",
        "      if self.filter_choice.value=='Gray':\n",
        "        img_array = io.BytesIO()\n",
        "        ImageOps.grayscale(PilImage.open(io.BytesIO(img_content))).save(img_array, format='PNG')\n",
        "        new_img = img_array.getvalue()\n",
        "        print(img_array)\n",
        "        img = Image(value=new_img)\n",
        "      self.tab.children = list(self.tab.children) + [img]\n",
        "      self.tab.set_title(len(self.tab.children)-1, img_meta['name']+self.filter_choice.value)\n",
        "  def get_layout(self):\n",
        "    return self.container\n",
        "FilteredImageApp().get_layout()"
      ],
      "execution_count": null,
      "outputs": [
        {
          "output_type": "display_data",
          "data": {
            "application/vnd.jupyter.widget-view+json": {
              "model_id": "85990ba49cdf4e1191e486433b9e975d",
              "version_minor": 0,
              "version_major": 2
            },
            "text/plain": [
              "VBox(children=(HBox(children=(Dropdown(description='filter', options=('None', 'Gray'), value='None'), FileUplo…"
            ]
          },
          "metadata": {
            "tags": []
          }
        }
      ]
    },
    {
      "cell_type": "markdown",
      "metadata": {
        "id": "2sVuHA1F6HDH"
      },
      "source": [
        "### Exercises\n",
        "### Exercise 1 \n",
        "\n",
        "Add an additional filter to the FilteredWebApp above.  One option is to use a neurel net filter some as [Deep Dream](https://colab.research.google.com/github/tensorflow/docs/blob/master/site/en/tutorials/generative/deepdream.ipynb) or [style transfer](https://www.tensorflow.org/tutorials/generative/style_transfer), as you do this understand adding choice to the dropdown and an extended if statement is messy.  A better option is to define each filter as a function and pass the a list of tuples for the dropdown options, see if you can implement this.\n",
        "### Exercise 2 \n",
        "Add options to rsize the width and height of the image.  Use something other than a Text widget, you may choose to resize by percentages, pixels or inches.  "
      ]
    },
    {
      "cell_type": "markdown",
      "metadata": {
        "id": "Zic06sgDDWoG"
      },
      "source": [
        "## Plot Widgets"
      ]
    },
    {
      "cell_type": "markdown",
      "metadata": {
        "id": "irHaCb2Ec28F"
      },
      "source": [
        "Visualizations are at the core of data and part of the reason why jupyter has gained so much popularity among data scientists.  \n",
        "\n",
        "The main issue with using widgets while creating plots is to turn the plot into a widget so you can place it in a proper container thereby allowing you to control where the plot is displayed.\n",
        "\n",
        "This is made possible either by the library itself or helper libraries.  Here we demonstate how to use several popular python plotting libraries."
      ]
    },
    {
      "cell_type": "markdown",
      "metadata": {
        "id": "qEDPH4wjzeaI"
      },
      "source": [
        "### matplotlib\n",
        "\n",
        "To use matplotlib one simply uses the output widget."
      ]
    },
    {
      "cell_type": "code",
      "metadata": {
        "id": "ov5SBYhMotGi",
        "colab": {
          "base_uri": "https://localhost:8080/",
          "height": 294,
          "referenced_widgets": [
            "a8a296a53a1f4316b5cd2e862186efd6",
            "5bb45e92d7bc42aea87e6d02fd68bec8",
            "d486240da9ad477eb41815c944586c29",
            "bb0ad2d47ab34c88ab42fe6ec24241b1"
          ]
        },
        "outputId": "1beae7e5-f4ad-4ea5-c909-18e00823dc68"
      },
      "source": [
        "from ipywidgets import Output,VBox\n",
        "\n",
        "out = Output()\n",
        "with out:\n",
        "    fig = plt.figure()\n",
        "    plt.plot(np.cos(np.linspace(0, 20, 100)));\n",
        "    fig.canvas.toolbar_visible = False\n",
        "    fig.canvas.header_visible = False # Hide the Figure name at the top of the figure\n",
        "    fig.canvas.footer_visible = False\n",
        "    fig.canvas.toolbar_visible = True\n",
        "    fig.canvas.capture_scroll = True\n",
        "    fig.canvas\n",
        "    plt.show()\n",
        "VBox([out])"
      ],
      "execution_count": null,
      "outputs": [
        {
          "output_type": "display_data",
          "data": {
            "text/plain": [
              "VBox(children=(Output(),))"
            ],
            "application/vnd.jupyter.widget-view+json": {
              "version_major": 2,
              "version_minor": 0,
              "model_id": "a8a296a53a1f4316b5cd2e862186efd6"
            }
          },
          "metadata": {
            "application/vnd.jupyter.widget-view+json": {
              "colab": {
                "custom_widget_manager": {
                  "url": "https://ssl.gstatic.com/colaboratory-static/widgets/colab-cdn-widget-manager/d2e234f7cc04bf79/manager.min.js"
                }
              }
            }
          }
        }
      ]
    },
    {
      "cell_type": "markdown",
      "metadata": {
        "id": "QAduR-Pu1uiv"
      },
      "source": [
        "The Output widget also allows one to use pandas plotting features."
      ]
    },
    {
      "cell_type": "code",
      "metadata": {
        "id": "JlqAeSKcbQHf",
        "colab": {
          "base_uri": "https://localhost:8080/",
          "height": 625,
          "referenced_widgets": [
            "966e5dee70ca49e0809c9372bb77858b",
            "556363238ffe47f0b665c250122cdabc",
            "203aea4cbe5844fab557a2e2c32031e1",
            "e0ba7533a246440390fb784ebd0e1ddd",
            "b6b7a344a4cd4a2c8bba5cad4587261b",
            "3db0045e0ee242c5af6f345eb1dbe678",
            "f9a4b25e213a4a489cc43adab0fc928d",
            "7faa8583073348d6920a4fa37383bb3c",
            "d99161c47ac54c8ca1dea0b9218364ea",
            "0df0cf97e4d14c3882c83cdd9a2e0ef7",
            "28c651fc4ea541ebacd85f9f5146bcb3",
            "110db76a17b84a0f977325f124c51db4",
            "4a197a0246bf4522b51c217494b1a58f",
            "a4328378c1434896a378afcf1676ef63",
            "4c220a00faa649f18ca7c109ed1ebef8"
          ]
        },
        "outputId": "2d1d0013-a600-4d29-fb88-54f843b12ebd"
      },
      "source": [
        "import pandas as pd\n",
        "from sklearn.datasets import load_iris\n",
        "from ipywidgets import Output, VBox, HBox, Button, Dropdown, Layout\n",
        "iris = load_iris()\n",
        "iris_df = pd.DataFrame(np.c_[iris.data, iris.target], columns=iris.feature_names + ['target'])\n",
        "out = Output(layout=Layout(height='6in', width='8in'))\n",
        "\n",
        "xScatter = Dropdown(description='x', options=iris.feature_names)\n",
        "yScatter = Dropdown(description='y', options=iris.feature_names)\n",
        "pd.options.plotting.backend='matplotlib'\n",
        "\n",
        "def on_click(btn):\n",
        "    out.clear_output()\n",
        "    with out:\n",
        "        iris_df.plot.scatter(x=xScatter.value, y=yScatter.value, c='target', colormap='viridis')\n",
        "button = Button(description='plot')\n",
        "button.on_click(on_click)\n",
        "VBox([out, HBox([xScatter,yScatter,button])])"
      ],
      "execution_count": null,
      "outputs": [
        {
          "output_type": "display_data",
          "data": {
            "text/plain": [
              "VBox(children=(Output(layout=Layout(height='6in', width='8in')), HBox(children=(Dropdown(description='x', opti…"
            ],
            "application/vnd.jupyter.widget-view+json": {
              "version_major": 2,
              "version_minor": 0,
              "model_id": "966e5dee70ca49e0809c9372bb77858b"
            }
          },
          "metadata": {}
        }
      ]
    },
    {
      "cell_type": "markdown",
      "source": [
        "The next set of widgets are third party to use in colab we need the following lines."
      ],
      "metadata": {
        "id": "BvgjHxiFjN9W"
      }
    },
    {
      "cell_type": "code",
      "source": [
        "from google.colab import output\n",
        "output.enable_custom_widget_manager()"
      ],
      "metadata": {
        "id": "8eB6e4UwjcMw"
      },
      "execution_count": null,
      "outputs": []
    },
    {
      "cell_type": "markdown",
      "metadata": {
        "id": "ro1uKC4Qq6Bd"
      },
      "source": [
        "### Plotly"
      ]
    },
    {
      "cell_type": "markdown",
      "metadata": {
        "id": "Bs_y6vpA5uRY"
      },
      "source": [
        "The plotly library has a Figure widge which easily turns any plotly plot into a widget."
      ]
    },
    {
      "cell_type": "code",
      "metadata": {
        "id": "qJeR7fQnN-Of"
      },
      "source": [
        "%%capture false\n",
        "!pip install plotly\n",
        "# Alternatively conda install plotly"
      ],
      "execution_count": null,
      "outputs": []
    },
    {
      "cell_type": "code",
      "metadata": {
        "colab": {
          "base_uri": "https://localhost:8080/",
          "height": 442
        },
        "id": "sCF0Cw0S9Vhv",
        "outputId": "ffdbae7a-78e2-45ef-d19f-e34bcb3c5f3a"
      },
      "source": [
        "import plotly.express as px\n",
        "from ipywidgets import VBox\n",
        "import plotly.graph_objects as go\n",
        "x = np.linspace(0,20,100)\n",
        "y = np.sin(x)\n",
        "fig = px.line(x=x, y=y, title='sine curve')\n",
        "VBox([go.FigureWidget(fig)])"
      ],
      "execution_count": null,
      "outputs": [
        {
          "output_type": "error",
          "ename": "AttributeError",
          "evalue": "ignored",
          "traceback": [
            "\u001b[0;31m---------------------------------------------------------------------------\u001b[0m",
            "\u001b[0;31mAttributeError\u001b[0m                            Traceback (most recent call last)",
            "\u001b[0;32m<ipython-input-24-b92a84e88768>\u001b[0m in \u001b[0;36m<module>\u001b[0;34m\u001b[0m\n\u001b[0;32m----> 1\u001b[0;31m \u001b[0;32mimport\u001b[0m \u001b[0mplotly\u001b[0m\u001b[0;34m.\u001b[0m\u001b[0mexpress\u001b[0m \u001b[0;32mas\u001b[0m \u001b[0mpx\u001b[0m\u001b[0;34m\u001b[0m\u001b[0;34m\u001b[0m\u001b[0m\n\u001b[0m\u001b[1;32m      2\u001b[0m \u001b[0;32mfrom\u001b[0m \u001b[0mipywidgets\u001b[0m \u001b[0;32mimport\u001b[0m \u001b[0mVBox\u001b[0m\u001b[0;34m\u001b[0m\u001b[0;34m\u001b[0m\u001b[0m\n\u001b[1;32m      3\u001b[0m \u001b[0;32mimport\u001b[0m \u001b[0mplotly\u001b[0m\u001b[0;34m.\u001b[0m\u001b[0mgraph_objects\u001b[0m \u001b[0;32mas\u001b[0m \u001b[0mgo\u001b[0m\u001b[0;34m\u001b[0m\u001b[0;34m\u001b[0m\u001b[0m\n\u001b[1;32m      4\u001b[0m \u001b[0mx\u001b[0m \u001b[0;34m=\u001b[0m \u001b[0mnp\u001b[0m\u001b[0;34m.\u001b[0m\u001b[0mlinspace\u001b[0m\u001b[0;34m(\u001b[0m\u001b[0;36m0\u001b[0m\u001b[0;34m,\u001b[0m\u001b[0;36m20\u001b[0m\u001b[0;34m,\u001b[0m\u001b[0;36m100\u001b[0m\u001b[0;34m)\u001b[0m\u001b[0;34m\u001b[0m\u001b[0;34m\u001b[0m\u001b[0m\n\u001b[1;32m      5\u001b[0m \u001b[0my\u001b[0m \u001b[0;34m=\u001b[0m \u001b[0mnp\u001b[0m\u001b[0;34m.\u001b[0m\u001b[0msin\u001b[0m\u001b[0;34m(\u001b[0m\u001b[0mx\u001b[0m\u001b[0;34m)\u001b[0m\u001b[0;34m\u001b[0m\u001b[0;34m\u001b[0m\u001b[0m\n",
            "\u001b[0;32m/usr/local/lib/python3.7/dist-packages/plotly/express/__init__.py\u001b[0m in \u001b[0;36m<module>\u001b[0;34m\u001b[0m\n\u001b[1;32m     13\u001b[0m     )\n\u001b[1;32m     14\u001b[0m \u001b[0;34m\u001b[0m\u001b[0m\n\u001b[0;32m---> 15\u001b[0;31m \u001b[0;32mfrom\u001b[0m \u001b[0;34m.\u001b[0m\u001b[0m_imshow\u001b[0m \u001b[0;32mimport\u001b[0m \u001b[0mimshow\u001b[0m\u001b[0;34m\u001b[0m\u001b[0;34m\u001b[0m\u001b[0m\n\u001b[0m\u001b[1;32m     16\u001b[0m from ._chart_types import (  # noqa: F401\n\u001b[1;32m     17\u001b[0m     \u001b[0mscatter\u001b[0m\u001b[0;34m,\u001b[0m\u001b[0;34m\u001b[0m\u001b[0;34m\u001b[0m\u001b[0m\n",
            "\u001b[0;32m/usr/local/lib/python3.7/dist-packages/plotly/express/_imshow.py\u001b[0m in \u001b[0;36m<module>\u001b[0;34m\u001b[0m\n\u001b[1;32m      9\u001b[0m \u001b[0;34m\u001b[0m\u001b[0m\n\u001b[1;32m     10\u001b[0m \u001b[0;32mtry\u001b[0m\u001b[0;34m:\u001b[0m\u001b[0;34m\u001b[0m\u001b[0;34m\u001b[0m\u001b[0m\n\u001b[0;32m---> 11\u001b[0;31m     \u001b[0;32mimport\u001b[0m \u001b[0mxarray\u001b[0m\u001b[0;34m\u001b[0m\u001b[0;34m\u001b[0m\u001b[0m\n\u001b[0m\u001b[1;32m     12\u001b[0m \u001b[0;34m\u001b[0m\u001b[0m\n\u001b[1;32m     13\u001b[0m     \u001b[0mxarray_imported\u001b[0m \u001b[0;34m=\u001b[0m \u001b[0;32mTrue\u001b[0m\u001b[0;34m\u001b[0m\u001b[0;34m\u001b[0m\u001b[0m\n",
            "\u001b[0;32m/usr/local/lib/python3.7/dist-packages/xarray/__init__.py\u001b[0m in \u001b[0;36m<module>\u001b[0;34m\u001b[0m\n\u001b[0;32m----> 1\u001b[0;31m \u001b[0;32mfrom\u001b[0m \u001b[0;34m.\u001b[0m \u001b[0;32mimport\u001b[0m \u001b[0mtesting\u001b[0m\u001b[0;34m,\u001b[0m \u001b[0mtutorial\u001b[0m\u001b[0;34m,\u001b[0m \u001b[0mufuncs\u001b[0m\u001b[0;34m\u001b[0m\u001b[0;34m\u001b[0m\u001b[0m\n\u001b[0m\u001b[1;32m      2\u001b[0m from .backends.api import (\n\u001b[1;32m      3\u001b[0m     \u001b[0mload_dataarray\u001b[0m\u001b[0;34m,\u001b[0m\u001b[0;34m\u001b[0m\u001b[0;34m\u001b[0m\u001b[0m\n\u001b[1;32m      4\u001b[0m     \u001b[0mload_dataset\u001b[0m\u001b[0;34m,\u001b[0m\u001b[0;34m\u001b[0m\u001b[0;34m\u001b[0m\u001b[0m\n\u001b[1;32m      5\u001b[0m     \u001b[0mopen_dataarray\u001b[0m\u001b[0;34m,\u001b[0m\u001b[0;34m\u001b[0m\u001b[0;34m\u001b[0m\u001b[0m\n",
            "\u001b[0;32m/usr/local/lib/python3.7/dist-packages/xarray/tutorial.py\u001b[0m in \u001b[0;36m<module>\u001b[0;34m\u001b[0m\n\u001b[1;32m     11\u001b[0m \u001b[0;32mimport\u001b[0m \u001b[0mnumpy\u001b[0m \u001b[0;32mas\u001b[0m \u001b[0mnp\u001b[0m\u001b[0;34m\u001b[0m\u001b[0;34m\u001b[0m\u001b[0m\n\u001b[1;32m     12\u001b[0m \u001b[0;34m\u001b[0m\u001b[0m\n\u001b[0;32m---> 13\u001b[0;31m \u001b[0;32mfrom\u001b[0m \u001b[0;34m.\u001b[0m\u001b[0mbackends\u001b[0m\u001b[0;34m.\u001b[0m\u001b[0mapi\u001b[0m \u001b[0;32mimport\u001b[0m \u001b[0mopen_dataset\u001b[0m \u001b[0;32mas\u001b[0m \u001b[0m_open_dataset\u001b[0m\u001b[0;34m\u001b[0m\u001b[0;34m\u001b[0m\u001b[0m\n\u001b[0m\u001b[1;32m     14\u001b[0m \u001b[0;32mfrom\u001b[0m \u001b[0;34m.\u001b[0m\u001b[0mbackends\u001b[0m\u001b[0;34m.\u001b[0m\u001b[0mrasterio_\u001b[0m \u001b[0;32mimport\u001b[0m \u001b[0mopen_rasterio\u001b[0m \u001b[0;32mas\u001b[0m \u001b[0m_open_rasterio\u001b[0m\u001b[0;34m\u001b[0m\u001b[0;34m\u001b[0m\u001b[0m\n\u001b[1;32m     15\u001b[0m \u001b[0;32mfrom\u001b[0m \u001b[0;34m.\u001b[0m\u001b[0mcore\u001b[0m\u001b[0;34m.\u001b[0m\u001b[0mdataarray\u001b[0m \u001b[0;32mimport\u001b[0m \u001b[0mDataArray\u001b[0m\u001b[0;34m\u001b[0m\u001b[0;34m\u001b[0m\u001b[0m\n",
            "\u001b[0;32m/usr/local/lib/python3.7/dist-packages/xarray/backends/__init__.py\u001b[0m in \u001b[0;36m<module>\u001b[0;34m\u001b[0m\n\u001b[1;32m      4\u001b[0m \u001b[0mformats\u001b[0m\u001b[0;34m.\u001b[0m \u001b[0mThey\u001b[0m \u001b[0mshould\u001b[0m \u001b[0;32mnot\u001b[0m \u001b[0mbe\u001b[0m \u001b[0mused\u001b[0m \u001b[0mdirectly\u001b[0m\u001b[0;34m,\u001b[0m \u001b[0mbut\u001b[0m \u001b[0mrather\u001b[0m \u001b[0mthrough\u001b[0m \u001b[0mDataset\u001b[0m \u001b[0mobjects\u001b[0m\u001b[0;34m.\u001b[0m\u001b[0;34m\u001b[0m\u001b[0;34m\u001b[0m\u001b[0m\n\u001b[1;32m      5\u001b[0m \"\"\"\n\u001b[0;32m----> 6\u001b[0;31m \u001b[0;32mfrom\u001b[0m \u001b[0;34m.\u001b[0m\u001b[0mcfgrib_\u001b[0m \u001b[0;32mimport\u001b[0m \u001b[0mCfGribDataStore\u001b[0m\u001b[0;34m\u001b[0m\u001b[0;34m\u001b[0m\u001b[0m\n\u001b[0m\u001b[1;32m      7\u001b[0m \u001b[0;32mfrom\u001b[0m \u001b[0;34m.\u001b[0m\u001b[0mcommon\u001b[0m \u001b[0;32mimport\u001b[0m \u001b[0mAbstractDataStore\u001b[0m\u001b[0;34m,\u001b[0m \u001b[0mBackendArray\u001b[0m\u001b[0;34m,\u001b[0m \u001b[0mBackendEntrypoint\u001b[0m\u001b[0;34m\u001b[0m\u001b[0;34m\u001b[0m\u001b[0m\n\u001b[1;32m      8\u001b[0m \u001b[0;32mfrom\u001b[0m \u001b[0;34m.\u001b[0m\u001b[0mfile_manager\u001b[0m \u001b[0;32mimport\u001b[0m \u001b[0mCachingFileManager\u001b[0m\u001b[0;34m,\u001b[0m \u001b[0mDummyFileManager\u001b[0m\u001b[0;34m,\u001b[0m \u001b[0mFileManager\u001b[0m\u001b[0;34m\u001b[0m\u001b[0;34m\u001b[0m\u001b[0m\n",
            "\u001b[0;32m/usr/local/lib/python3.7/dist-packages/xarray/backends/cfgrib_.py\u001b[0m in \u001b[0;36m<module>\u001b[0;34m\u001b[0m\n\u001b[1;32m     14\u001b[0m     \u001b[0m_normalize_path\u001b[0m\u001b[0;34m,\u001b[0m\u001b[0;34m\u001b[0m\u001b[0;34m\u001b[0m\u001b[0m\n\u001b[1;32m     15\u001b[0m )\n\u001b[0;32m---> 16\u001b[0;31m \u001b[0;32mfrom\u001b[0m \u001b[0;34m.\u001b[0m\u001b[0mlocks\u001b[0m \u001b[0;32mimport\u001b[0m \u001b[0mSerializableLock\u001b[0m\u001b[0;34m,\u001b[0m \u001b[0mensure_lock\u001b[0m\u001b[0;34m\u001b[0m\u001b[0;34m\u001b[0m\u001b[0m\n\u001b[0m\u001b[1;32m     17\u001b[0m \u001b[0;32mfrom\u001b[0m \u001b[0;34m.\u001b[0m\u001b[0mstore\u001b[0m \u001b[0;32mimport\u001b[0m \u001b[0mStoreBackendEntrypoint\u001b[0m\u001b[0;34m\u001b[0m\u001b[0;34m\u001b[0m\u001b[0m\n\u001b[1;32m     18\u001b[0m \u001b[0;34m\u001b[0m\u001b[0m\n",
            "\u001b[0;32m/usr/local/lib/python3.7/dist-packages/xarray/backends/locks.py\u001b[0m in \u001b[0;36m<module>\u001b[0;34m\u001b[0m\n\u001b[1;32m     11\u001b[0m \u001b[0;34m\u001b[0m\u001b[0m\n\u001b[1;32m     12\u001b[0m \u001b[0;32mtry\u001b[0m\u001b[0;34m:\u001b[0m\u001b[0;34m\u001b[0m\u001b[0;34m\u001b[0m\u001b[0m\n\u001b[0;32m---> 13\u001b[0;31m     \u001b[0;32mfrom\u001b[0m \u001b[0mdask\u001b[0m\u001b[0;34m.\u001b[0m\u001b[0mdistributed\u001b[0m \u001b[0;32mimport\u001b[0m \u001b[0mLock\u001b[0m \u001b[0;32mas\u001b[0m \u001b[0mDistributedLock\u001b[0m\u001b[0;34m\u001b[0m\u001b[0;34m\u001b[0m\u001b[0m\n\u001b[0m\u001b[1;32m     14\u001b[0m \u001b[0;32mexcept\u001b[0m \u001b[0mImportError\u001b[0m\u001b[0;34m:\u001b[0m\u001b[0;34m\u001b[0m\u001b[0;34m\u001b[0m\u001b[0m\n\u001b[1;32m     15\u001b[0m     \u001b[0mDistributedLock\u001b[0m \u001b[0;34m=\u001b[0m \u001b[0;32mNone\u001b[0m\u001b[0;34m\u001b[0m\u001b[0;34m\u001b[0m\u001b[0m\n",
            "\u001b[0;32m/usr/local/lib/python3.7/dist-packages/dask/distributed.py\u001b[0m in \u001b[0;36m<module>\u001b[0;34m\u001b[0m\n\u001b[1;32m      9\u001b[0m \u001b[0;34m\u001b[0m\u001b[0m\n\u001b[1;32m     10\u001b[0m \u001b[0;32mtry\u001b[0m\u001b[0;34m:\u001b[0m\u001b[0;34m\u001b[0m\u001b[0;34m\u001b[0m\u001b[0m\n\u001b[0;32m---> 11\u001b[0;31m     \u001b[0;32mfrom\u001b[0m \u001b[0mdistributed\u001b[0m \u001b[0;32mimport\u001b[0m \u001b[0;34m*\u001b[0m\u001b[0;34m\u001b[0m\u001b[0;34m\u001b[0m\u001b[0m\n\u001b[0m\u001b[1;32m     12\u001b[0m \u001b[0;32mexcept\u001b[0m \u001b[0mImportError\u001b[0m \u001b[0;32mas\u001b[0m \u001b[0me\u001b[0m\u001b[0;34m:\u001b[0m\u001b[0;34m\u001b[0m\u001b[0;34m\u001b[0m\u001b[0m\n\u001b[1;32m     13\u001b[0m     \u001b[0;32mif\u001b[0m \u001b[0me\u001b[0m\u001b[0;34m.\u001b[0m\u001b[0mmsg\u001b[0m \u001b[0;34m==\u001b[0m \u001b[0;34m\"No module named 'distributed'\"\u001b[0m\u001b[0;34m:\u001b[0m\u001b[0;34m\u001b[0m\u001b[0;34m\u001b[0m\u001b[0m\n",
            "\u001b[0;32m/usr/local/lib/python3.7/dist-packages/distributed/__init__.py\u001b[0m in \u001b[0;36m<module>\u001b[0;34m\u001b[0m\n\u001b[1;32m      5\u001b[0m \u001b[0;34m\u001b[0m\u001b[0m\n\u001b[1;32m      6\u001b[0m \u001b[0;32mfrom\u001b[0m \u001b[0;34m.\u001b[0m\u001b[0m_version\u001b[0m \u001b[0;32mimport\u001b[0m \u001b[0mget_versions\u001b[0m\u001b[0;34m\u001b[0m\u001b[0;34m\u001b[0m\u001b[0m\n\u001b[0;32m----> 7\u001b[0;31m \u001b[0;32mfrom\u001b[0m \u001b[0;34m.\u001b[0m\u001b[0mactor\u001b[0m \u001b[0;32mimport\u001b[0m \u001b[0mActor\u001b[0m\u001b[0;34m,\u001b[0m \u001b[0mActorFuture\u001b[0m\u001b[0;34m\u001b[0m\u001b[0;34m\u001b[0m\u001b[0m\n\u001b[0m\u001b[1;32m      8\u001b[0m from .client import (\n\u001b[1;32m      9\u001b[0m     \u001b[0mClient\u001b[0m\u001b[0;34m,\u001b[0m\u001b[0;34m\u001b[0m\u001b[0;34m\u001b[0m\u001b[0m\n",
            "\u001b[0;32m/usr/local/lib/python3.7/dist-packages/distributed/actor.py\u001b[0m in \u001b[0;36m<module>\u001b[0;34m\u001b[0m\n\u001b[1;32m      3\u001b[0m \u001b[0;32mimport\u001b[0m \u001b[0mthreading\u001b[0m\u001b[0;34m\u001b[0m\u001b[0;34m\u001b[0m\u001b[0m\n\u001b[1;32m      4\u001b[0m \u001b[0;34m\u001b[0m\u001b[0m\n\u001b[0;32m----> 5\u001b[0;31m \u001b[0;32mfrom\u001b[0m \u001b[0;34m.\u001b[0m\u001b[0mclient\u001b[0m \u001b[0;32mimport\u001b[0m \u001b[0mFuture\u001b[0m\u001b[0;34m\u001b[0m\u001b[0;34m\u001b[0m\u001b[0m\n\u001b[0m\u001b[1;32m      6\u001b[0m \u001b[0;32mfrom\u001b[0m \u001b[0;34m.\u001b[0m\u001b[0mprotocol\u001b[0m \u001b[0;32mimport\u001b[0m \u001b[0mto_serialize\u001b[0m\u001b[0;34m\u001b[0m\u001b[0;34m\u001b[0m\u001b[0m\n\u001b[1;32m      7\u001b[0m \u001b[0;32mfrom\u001b[0m \u001b[0;34m.\u001b[0m\u001b[0mutils\u001b[0m \u001b[0;32mimport\u001b[0m \u001b[0miscoroutinefunction\u001b[0m\u001b[0;34m,\u001b[0m \u001b[0msync\u001b[0m\u001b[0;34m,\u001b[0m \u001b[0mthread_state\u001b[0m\u001b[0;34m\u001b[0m\u001b[0;34m\u001b[0m\u001b[0m\n",
            "\u001b[0;32m/usr/local/lib/python3.7/dist-packages/distributed/client.py\u001b[0m in \u001b[0;36m<module>\u001b[0;34m\u001b[0m\n\u001b[1;32m     57\u001b[0m \u001b[0;34m\u001b[0m\u001b[0m\n\u001b[1;32m     58\u001b[0m \u001b[0;32mfrom\u001b[0m \u001b[0;34m.\u001b[0m \u001b[0;32mimport\u001b[0m \u001b[0mversions\u001b[0m \u001b[0;32mas\u001b[0m \u001b[0mversion_module\u001b[0m  \u001b[0;31m# type: ignore\u001b[0m\u001b[0;34m\u001b[0m\u001b[0;34m\u001b[0m\u001b[0m\n\u001b[0;32m---> 59\u001b[0;31m \u001b[0;32mfrom\u001b[0m \u001b[0;34m.\u001b[0m\u001b[0mbatched\u001b[0m \u001b[0;32mimport\u001b[0m \u001b[0mBatchedSend\u001b[0m\u001b[0;34m\u001b[0m\u001b[0;34m\u001b[0m\u001b[0m\n\u001b[0m\u001b[1;32m     60\u001b[0m \u001b[0;32mfrom\u001b[0m \u001b[0;34m.\u001b[0m\u001b[0mcfexecutor\u001b[0m \u001b[0;32mimport\u001b[0m \u001b[0mClientExecutor\u001b[0m\u001b[0;34m\u001b[0m\u001b[0;34m\u001b[0m\u001b[0m\n\u001b[1;32m     61\u001b[0m from .core import (\n",
            "\u001b[0;32m/usr/local/lib/python3.7/dist-packages/distributed/batched.py\u001b[0m in \u001b[0;36m<module>\u001b[0;34m\u001b[0m\n\u001b[1;32m      8\u001b[0m \u001b[0;32mfrom\u001b[0m \u001b[0mdask\u001b[0m\u001b[0;34m.\u001b[0m\u001b[0mutils\u001b[0m \u001b[0;32mimport\u001b[0m \u001b[0mparse_timedelta\u001b[0m\u001b[0;34m\u001b[0m\u001b[0;34m\u001b[0m\u001b[0m\n\u001b[1;32m      9\u001b[0m \u001b[0;34m\u001b[0m\u001b[0m\n\u001b[0;32m---> 10\u001b[0;31m \u001b[0;32mfrom\u001b[0m \u001b[0;34m.\u001b[0m\u001b[0mcore\u001b[0m \u001b[0;32mimport\u001b[0m \u001b[0mCommClosedError\u001b[0m\u001b[0;34m\u001b[0m\u001b[0;34m\u001b[0m\u001b[0m\n\u001b[0m\u001b[1;32m     11\u001b[0m \u001b[0;32mfrom\u001b[0m \u001b[0;34m.\u001b[0m\u001b[0mmetrics\u001b[0m \u001b[0;32mimport\u001b[0m \u001b[0mtime\u001b[0m\u001b[0;34m\u001b[0m\u001b[0;34m\u001b[0m\u001b[0m\n\u001b[1;32m     12\u001b[0m \u001b[0;34m\u001b[0m\u001b[0m\n",
            "\u001b[0;32m/usr/local/lib/python3.7/dist-packages/distributed/core.py\u001b[0m in \u001b[0;36m<module>\u001b[0;34m\u001b[0m\n\u001b[1;32m     26\u001b[0m \u001b[0;34m\u001b[0m\u001b[0m\n\u001b[1;32m     27\u001b[0m \u001b[0;32mfrom\u001b[0m \u001b[0;34m.\u001b[0m \u001b[0;32mimport\u001b[0m \u001b[0mprofile\u001b[0m\u001b[0;34m,\u001b[0m \u001b[0mprotocol\u001b[0m\u001b[0;34m\u001b[0m\u001b[0;34m\u001b[0m\u001b[0m\n\u001b[0;32m---> 28\u001b[0;31m from .comm import (\n\u001b[0m\u001b[1;32m     29\u001b[0m     \u001b[0mComm\u001b[0m\u001b[0;34m,\u001b[0m\u001b[0;34m\u001b[0m\u001b[0;34m\u001b[0m\u001b[0m\n\u001b[1;32m     30\u001b[0m     \u001b[0mCommClosedError\u001b[0m\u001b[0;34m,\u001b[0m\u001b[0;34m\u001b[0m\u001b[0;34m\u001b[0m\u001b[0m\n",
            "\u001b[0;32m/usr/local/lib/python3.7/dist-packages/distributed/comm/__init__.py\u001b[0m in \u001b[0;36m<module>\u001b[0;34m\u001b[0m\n\u001b[1;32m     44\u001b[0m \u001b[0;34m\u001b[0m\u001b[0m\n\u001b[1;32m     45\u001b[0m \u001b[0;34m\u001b[0m\u001b[0m\n\u001b[0;32m---> 46\u001b[0;31m \u001b[0m_register_transports\u001b[0m\u001b[0;34m(\u001b[0m\u001b[0;34m)\u001b[0m\u001b[0;34m\u001b[0m\u001b[0;34m\u001b[0m\u001b[0m\n\u001b[0m",
            "\u001b[0;32m/usr/local/lib/python3.7/dist-packages/distributed/comm/__init__.py\u001b[0m in \u001b[0;36m_register_transports\u001b[0;34m()\u001b[0m\n\u001b[1;32m     18\u001b[0m     \u001b[0;32mimport\u001b[0m \u001b[0mdask\u001b[0m\u001b[0;34m.\u001b[0m\u001b[0mconfig\u001b[0m\u001b[0;34m\u001b[0m\u001b[0;34m\u001b[0m\u001b[0m\n\u001b[1;32m     19\u001b[0m \u001b[0;34m\u001b[0m\u001b[0m\n\u001b[0;32m---> 20\u001b[0;31m     \u001b[0;32mfrom\u001b[0m \u001b[0;34m.\u001b[0m \u001b[0;32mimport\u001b[0m \u001b[0minproc\u001b[0m\u001b[0;34m,\u001b[0m \u001b[0mws\u001b[0m\u001b[0;34m\u001b[0m\u001b[0;34m\u001b[0m\u001b[0m\n\u001b[0m\u001b[1;32m     21\u001b[0m \u001b[0;34m\u001b[0m\u001b[0m\n\u001b[1;32m     22\u001b[0m     \u001b[0mtcp_backend\u001b[0m \u001b[0;34m=\u001b[0m \u001b[0mdask\u001b[0m\u001b[0;34m.\u001b[0m\u001b[0mconfig\u001b[0m\u001b[0;34m.\u001b[0m\u001b[0mget\u001b[0m\u001b[0;34m(\u001b[0m\u001b[0;34m\"distributed.comm.tcp.backend\"\u001b[0m\u001b[0;34m)\u001b[0m\u001b[0;34m\u001b[0m\u001b[0;34m\u001b[0m\u001b[0m\n",
            "\u001b[0;32m/usr/local/lib/python3.7/dist-packages/distributed/comm/ws.py\u001b[0m in \u001b[0;36m<module>\u001b[0;34m\u001b[0m\n\u001b[1;32m      9\u001b[0m \u001b[0;32mfrom\u001b[0m \u001b[0mssl\u001b[0m \u001b[0;32mimport\u001b[0m \u001b[0mSSLError\u001b[0m\u001b[0;34m\u001b[0m\u001b[0;34m\u001b[0m\u001b[0m\n\u001b[1;32m     10\u001b[0m \u001b[0;34m\u001b[0m\u001b[0m\n\u001b[0;32m---> 11\u001b[0;31m \u001b[0;32mfrom\u001b[0m \u001b[0mtornado\u001b[0m \u001b[0;32mimport\u001b[0m \u001b[0mweb\u001b[0m\u001b[0;34m\u001b[0m\u001b[0;34m\u001b[0m\u001b[0m\n\u001b[0m\u001b[1;32m     12\u001b[0m \u001b[0;32mfrom\u001b[0m \u001b[0mtornado\u001b[0m\u001b[0;34m.\u001b[0m\u001b[0mhttpclient\u001b[0m \u001b[0;32mimport\u001b[0m \u001b[0mHTTPClientError\u001b[0m\u001b[0;34m,\u001b[0m \u001b[0mHTTPRequest\u001b[0m\u001b[0;34m\u001b[0m\u001b[0;34m\u001b[0m\u001b[0m\n\u001b[1;32m     13\u001b[0m \u001b[0;32mfrom\u001b[0m \u001b[0mtornado\u001b[0m\u001b[0;34m.\u001b[0m\u001b[0mhttpserver\u001b[0m \u001b[0;32mimport\u001b[0m \u001b[0mHTTPServer\u001b[0m\u001b[0;34m\u001b[0m\u001b[0;34m\u001b[0m\u001b[0m\n",
            "\u001b[0;32m/usr/local/lib/python3.7/dist-packages/tornado/web.py\u001b[0m in \u001b[0;36m<module>\u001b[0;34m\u001b[0m\n\u001b[1;32m     89\u001b[0m \u001b[0;32mfrom\u001b[0m \u001b[0mtornado\u001b[0m \u001b[0;32mimport\u001b[0m \u001b[0mescape\u001b[0m\u001b[0;34m\u001b[0m\u001b[0;34m\u001b[0m\u001b[0m\n\u001b[1;32m     90\u001b[0m \u001b[0;32mfrom\u001b[0m \u001b[0mtornado\u001b[0m \u001b[0;32mimport\u001b[0m \u001b[0mgen\u001b[0m\u001b[0;34m\u001b[0m\u001b[0;34m\u001b[0m\u001b[0m\n\u001b[0;32m---> 91\u001b[0;31m \u001b[0;32mfrom\u001b[0m \u001b[0mtornado\u001b[0m\u001b[0;34m.\u001b[0m\u001b[0mhttpserver\u001b[0m \u001b[0;32mimport\u001b[0m \u001b[0mHTTPServer\u001b[0m\u001b[0;34m\u001b[0m\u001b[0;34m\u001b[0m\u001b[0m\n\u001b[0m\u001b[1;32m     92\u001b[0m \u001b[0;32mfrom\u001b[0m \u001b[0mtornado\u001b[0m \u001b[0;32mimport\u001b[0m \u001b[0mhttputil\u001b[0m\u001b[0;34m\u001b[0m\u001b[0;34m\u001b[0m\u001b[0m\n\u001b[1;32m     93\u001b[0m \u001b[0;32mfrom\u001b[0m \u001b[0mtornado\u001b[0m \u001b[0;32mimport\u001b[0m \u001b[0miostream\u001b[0m\u001b[0;34m\u001b[0m\u001b[0;34m\u001b[0m\u001b[0m\n",
            "\u001b[0;32m/usr/local/lib/python3.7/dist-packages/tornado/httpserver.py\u001b[0m in \u001b[0;36m<module>\u001b[0;34m\u001b[0m\n\u001b[1;32m     30\u001b[0m \u001b[0;34m\u001b[0m\u001b[0m\n\u001b[1;32m     31\u001b[0m \u001b[0;32mfrom\u001b[0m \u001b[0mtornado\u001b[0m\u001b[0;34m.\u001b[0m\u001b[0mescape\u001b[0m \u001b[0;32mimport\u001b[0m \u001b[0mnative_str\u001b[0m\u001b[0;34m\u001b[0m\u001b[0;34m\u001b[0m\u001b[0m\n\u001b[0;32m---> 32\u001b[0;31m \u001b[0;32mfrom\u001b[0m \u001b[0mtornado\u001b[0m\u001b[0;34m.\u001b[0m\u001b[0mhttp1connection\u001b[0m \u001b[0;32mimport\u001b[0m \u001b[0mHTTP1ServerConnection\u001b[0m\u001b[0;34m,\u001b[0m \u001b[0mHTTP1ConnectionParameters\u001b[0m\u001b[0;34m\u001b[0m\u001b[0;34m\u001b[0m\u001b[0m\n\u001b[0m\u001b[1;32m     33\u001b[0m \u001b[0;32mfrom\u001b[0m \u001b[0mtornado\u001b[0m \u001b[0;32mimport\u001b[0m \u001b[0mhttputil\u001b[0m\u001b[0;34m\u001b[0m\u001b[0;34m\u001b[0m\u001b[0m\n\u001b[1;32m     34\u001b[0m \u001b[0;32mfrom\u001b[0m \u001b[0mtornado\u001b[0m \u001b[0;32mimport\u001b[0m \u001b[0miostream\u001b[0m\u001b[0;34m\u001b[0m\u001b[0;34m\u001b[0m\u001b[0m\n",
            "\u001b[0;32m/usr/local/lib/python3.7/dist-packages/tornado/http1connection.py\u001b[0m in \u001b[0;36m<module>\u001b[0;34m\u001b[0m\n\u001b[1;32m     32\u001b[0m \u001b[0;32mfrom\u001b[0m \u001b[0mtornado\u001b[0m \u001b[0;32mimport\u001b[0m \u001b[0mgen\u001b[0m\u001b[0;34m\u001b[0m\u001b[0;34m\u001b[0m\u001b[0m\n\u001b[1;32m     33\u001b[0m \u001b[0;32mfrom\u001b[0m \u001b[0mtornado\u001b[0m \u001b[0;32mimport\u001b[0m \u001b[0mhttputil\u001b[0m\u001b[0;34m\u001b[0m\u001b[0;34m\u001b[0m\u001b[0m\n\u001b[0;32m---> 34\u001b[0;31m \u001b[0;32mfrom\u001b[0m \u001b[0mtornado\u001b[0m \u001b[0;32mimport\u001b[0m \u001b[0miostream\u001b[0m\u001b[0;34m\u001b[0m\u001b[0;34m\u001b[0m\u001b[0m\n\u001b[0m\u001b[1;32m     35\u001b[0m \u001b[0;32mfrom\u001b[0m \u001b[0mtornado\u001b[0m\u001b[0;34m.\u001b[0m\u001b[0mlog\u001b[0m \u001b[0;32mimport\u001b[0m \u001b[0mgen_log\u001b[0m\u001b[0;34m,\u001b[0m \u001b[0mapp_log\u001b[0m\u001b[0;34m\u001b[0m\u001b[0;34m\u001b[0m\u001b[0m\n\u001b[1;32m     36\u001b[0m \u001b[0;32mfrom\u001b[0m \u001b[0mtornado\u001b[0m\u001b[0;34m.\u001b[0m\u001b[0mutil\u001b[0m \u001b[0;32mimport\u001b[0m \u001b[0mGzipDecompressor\u001b[0m\u001b[0;34m\u001b[0m\u001b[0;34m\u001b[0m\u001b[0m\n",
            "\u001b[0;32m/usr/local/lib/python3.7/dist-packages/tornado/iostream.py\u001b[0m in \u001b[0;36m<module>\u001b[0;34m\u001b[0m\n\u001b[1;32m    207\u001b[0m \u001b[0;34m\u001b[0m\u001b[0m\n\u001b[1;32m    208\u001b[0m \u001b[0;34m\u001b[0m\u001b[0m\n\u001b[0;32m--> 209\u001b[0;31m \u001b[0;32mclass\u001b[0m \u001b[0mBaseIOStream\u001b[0m\u001b[0;34m(\u001b[0m\u001b[0mobject\u001b[0m\u001b[0;34m)\u001b[0m\u001b[0;34m:\u001b[0m\u001b[0;34m\u001b[0m\u001b[0;34m\u001b[0m\u001b[0m\n\u001b[0m\u001b[1;32m    210\u001b[0m     \"\"\"A utility class to write to and read from a non-blocking file or socket.\n\u001b[1;32m    211\u001b[0m \u001b[0;34m\u001b[0m\u001b[0m\n",
            "\u001b[0;32m/usr/local/lib/python3.7/dist-packages/tornado/iostream.py\u001b[0m in \u001b[0;36mBaseIOStream\u001b[0;34m()\u001b[0m\n\u001b[1;32m    283\u001b[0m         \u001b[0mself\u001b[0m\u001b[0;34m.\u001b[0m\u001b[0m_closed\u001b[0m \u001b[0;34m=\u001b[0m \u001b[0;32mFalse\u001b[0m\u001b[0;34m\u001b[0m\u001b[0;34m\u001b[0m\u001b[0m\n\u001b[1;32m    284\u001b[0m \u001b[0;34m\u001b[0m\u001b[0m\n\u001b[0;32m--> 285\u001b[0;31m     \u001b[0;32mdef\u001b[0m \u001b[0mfileno\u001b[0m\u001b[0;34m(\u001b[0m\u001b[0mself\u001b[0m\u001b[0;34m)\u001b[0m \u001b[0;34m->\u001b[0m \u001b[0mUnion\u001b[0m\u001b[0;34m[\u001b[0m\u001b[0mint\u001b[0m\u001b[0;34m,\u001b[0m \u001b[0mioloop\u001b[0m\u001b[0;34m.\u001b[0m\u001b[0m_Selectable\u001b[0m\u001b[0;34m]\u001b[0m\u001b[0;34m:\u001b[0m\u001b[0;34m\u001b[0m\u001b[0;34m\u001b[0m\u001b[0m\n\u001b[0m\u001b[1;32m    286\u001b[0m         \u001b[0;34m\"\"\"Returns the file descriptor for this stream.\"\"\"\u001b[0m\u001b[0;34m\u001b[0m\u001b[0;34m\u001b[0m\u001b[0m\n\u001b[1;32m    287\u001b[0m         \u001b[0;32mraise\u001b[0m \u001b[0mNotImplementedError\u001b[0m\u001b[0;34m(\u001b[0m\u001b[0;34m)\u001b[0m\u001b[0;34m\u001b[0m\u001b[0;34m\u001b[0m\u001b[0m\n",
            "\u001b[0;31mAttributeError\u001b[0m: module 'tornado.ioloop' has no attribute '_Selectable'"
          ]
        }
      ]
    },
    {
      "cell_type": "markdown",
      "metadata": {
        "id": "pD3f4S_69flq"
      },
      "source": [
        "One can also use pandas backend option to use plotly objects, and have them displayed in the same way."
      ]
    },
    {
      "cell_type": "code",
      "metadata": {
        "colab": {
          "base_uri": "https://localhost:8080/",
          "height": 496
        },
        "id": "sirXW5HT9c_G",
        "outputId": "cec29d21-ec9b-4c05-824d-76ab9ed20497"
      },
      "source": [
        "import pandas as pd\n",
        "from sklearn.datasets import load_iris\n",
        "from ipywidgets import Output, VBox, HBox, Button, Dropdown, Layout\n",
        "import plotly.graph_objects as go\n",
        "\n",
        "iris = load_iris()\n",
        "iris_df = pd.DataFrame(np.c_[iris.data, iris.target], columns=iris.feature_names + ['target'])\n",
        "pd.options.plotting.backend='plotly'\n",
        "\n",
        "xScatter = Dropdown(description='x', options=iris.feature_names)\n",
        "yScatter = Dropdown(description='y', options=iris.feature_names)\n",
        "plotly_widget = go.FigureWidget(iris_df.plot.scatter(x='sepal length (cm)', y='sepal width (cm)', c='target'))\n",
        "def on_click(btn):\n",
        "    plotly_widget=go.FigureWidget(iris_df.plot.scatter(x=xScatter.value, y=yScatter.value, c='target'))\n",
        "    box.children = (plotly_widget, HBox([xScatter,yScatter,button]))\n",
        "button = Button(description='plot')\n",
        "button.on_click(on_click)\n",
        "box = VBox([plotly_widget, HBox([xScatter,yScatter,button])])\n",
        "box"
      ],
      "execution_count": null,
      "outputs": [
        {
          "output_type": "error",
          "ename": "AttributeError",
          "evalue": "ignored",
          "traceback": [
            "\u001b[0;31m---------------------------------------------------------------------------\u001b[0m",
            "\u001b[0;31mAttributeError\u001b[0m                            Traceback (most recent call last)",
            "\u001b[0;32m<ipython-input-39-4c013f5d9f4f>\u001b[0m in \u001b[0;36m<module>\u001b[0;34m\u001b[0m\n\u001b[1;32m     10\u001b[0m \u001b[0mxScatter\u001b[0m \u001b[0;34m=\u001b[0m \u001b[0mDropdown\u001b[0m\u001b[0;34m(\u001b[0m\u001b[0mdescription\u001b[0m\u001b[0;34m=\u001b[0m\u001b[0;34m'x'\u001b[0m\u001b[0;34m,\u001b[0m \u001b[0moptions\u001b[0m\u001b[0;34m=\u001b[0m\u001b[0miris\u001b[0m\u001b[0;34m.\u001b[0m\u001b[0mfeature_names\u001b[0m\u001b[0;34m)\u001b[0m\u001b[0;34m\u001b[0m\u001b[0;34m\u001b[0m\u001b[0m\n\u001b[1;32m     11\u001b[0m \u001b[0myScatter\u001b[0m \u001b[0;34m=\u001b[0m \u001b[0mDropdown\u001b[0m\u001b[0;34m(\u001b[0m\u001b[0mdescription\u001b[0m\u001b[0;34m=\u001b[0m\u001b[0;34m'y'\u001b[0m\u001b[0;34m,\u001b[0m \u001b[0moptions\u001b[0m\u001b[0;34m=\u001b[0m\u001b[0miris\u001b[0m\u001b[0;34m.\u001b[0m\u001b[0mfeature_names\u001b[0m\u001b[0;34m)\u001b[0m\u001b[0;34m\u001b[0m\u001b[0;34m\u001b[0m\u001b[0m\n\u001b[0;32m---> 12\u001b[0;31m \u001b[0mplotly_widget\u001b[0m \u001b[0;34m=\u001b[0m \u001b[0mgo\u001b[0m\u001b[0;34m.\u001b[0m\u001b[0mFigureWidget\u001b[0m\u001b[0;34m(\u001b[0m\u001b[0miris_df\u001b[0m\u001b[0;34m.\u001b[0m\u001b[0mplot\u001b[0m\u001b[0;34m.\u001b[0m\u001b[0mscatter\u001b[0m\u001b[0;34m(\u001b[0m\u001b[0mx\u001b[0m\u001b[0;34m=\u001b[0m\u001b[0;34m'sepal length (cm)'\u001b[0m\u001b[0;34m,\u001b[0m \u001b[0my\u001b[0m\u001b[0;34m=\u001b[0m\u001b[0;34m'sepal width (cm)'\u001b[0m\u001b[0;34m,\u001b[0m \u001b[0mc\u001b[0m\u001b[0;34m=\u001b[0m\u001b[0;34m'target'\u001b[0m\u001b[0;34m)\u001b[0m\u001b[0;34m)\u001b[0m\u001b[0;34m\u001b[0m\u001b[0;34m\u001b[0m\u001b[0m\n\u001b[0m\u001b[1;32m     13\u001b[0m \u001b[0;32mdef\u001b[0m \u001b[0mon_click\u001b[0m\u001b[0;34m(\u001b[0m\u001b[0mbtn\u001b[0m\u001b[0;34m)\u001b[0m\u001b[0;34m:\u001b[0m\u001b[0;34m\u001b[0m\u001b[0;34m\u001b[0m\u001b[0m\n\u001b[1;32m     14\u001b[0m     \u001b[0mplotly_widget\u001b[0m\u001b[0;34m=\u001b[0m\u001b[0mgo\u001b[0m\u001b[0;34m.\u001b[0m\u001b[0mFigureWidget\u001b[0m\u001b[0;34m(\u001b[0m\u001b[0miris_df\u001b[0m\u001b[0;34m.\u001b[0m\u001b[0mplot\u001b[0m\u001b[0;34m.\u001b[0m\u001b[0mscatter\u001b[0m\u001b[0;34m(\u001b[0m\u001b[0mx\u001b[0m\u001b[0;34m=\u001b[0m\u001b[0mxScatter\u001b[0m\u001b[0;34m.\u001b[0m\u001b[0mvalue\u001b[0m\u001b[0;34m,\u001b[0m \u001b[0my\u001b[0m\u001b[0;34m=\u001b[0m\u001b[0myScatter\u001b[0m\u001b[0;34m.\u001b[0m\u001b[0mvalue\u001b[0m\u001b[0;34m,\u001b[0m \u001b[0mc\u001b[0m\u001b[0;34m=\u001b[0m\u001b[0;34m'target'\u001b[0m\u001b[0;34m)\u001b[0m\u001b[0;34m)\u001b[0m\u001b[0;34m\u001b[0m\u001b[0;34m\u001b[0m\u001b[0m\n",
            "\u001b[0;32m/usr/local/lib/python3.7/dist-packages/pandas/plotting/_core.py\u001b[0m in \u001b[0;36mscatter\u001b[0;34m(self, x, y, s, c, **kwargs)\u001b[0m\n\u001b[1;32m   1634\u001b[0m             ...                       colormap='viridis')\n\u001b[1;32m   1635\u001b[0m         \"\"\"\n\u001b[0;32m-> 1636\u001b[0;31m         \u001b[0;32mreturn\u001b[0m \u001b[0mself\u001b[0m\u001b[0;34m(\u001b[0m\u001b[0mkind\u001b[0m\u001b[0;34m=\u001b[0m\u001b[0;34m\"scatter\"\u001b[0m\u001b[0;34m,\u001b[0m \u001b[0mx\u001b[0m\u001b[0;34m=\u001b[0m\u001b[0mx\u001b[0m\u001b[0;34m,\u001b[0m \u001b[0my\u001b[0m\u001b[0;34m=\u001b[0m\u001b[0my\u001b[0m\u001b[0;34m,\u001b[0m \u001b[0ms\u001b[0m\u001b[0;34m=\u001b[0m\u001b[0ms\u001b[0m\u001b[0;34m,\u001b[0m \u001b[0mc\u001b[0m\u001b[0;34m=\u001b[0m\u001b[0mc\u001b[0m\u001b[0;34m,\u001b[0m \u001b[0;34m**\u001b[0m\u001b[0mkwargs\u001b[0m\u001b[0;34m)\u001b[0m\u001b[0;34m\u001b[0m\u001b[0;34m\u001b[0m\u001b[0m\n\u001b[0m\u001b[1;32m   1637\u001b[0m \u001b[0;34m\u001b[0m\u001b[0m\n\u001b[1;32m   1638\u001b[0m     \u001b[0;32mdef\u001b[0m \u001b[0mhexbin\u001b[0m\u001b[0;34m(\u001b[0m\u001b[0mself\u001b[0m\u001b[0;34m,\u001b[0m \u001b[0mx\u001b[0m\u001b[0;34m,\u001b[0m \u001b[0my\u001b[0m\u001b[0;34m,\u001b[0m \u001b[0mC\u001b[0m\u001b[0;34m=\u001b[0m\u001b[0;32mNone\u001b[0m\u001b[0;34m,\u001b[0m \u001b[0mreduce_C_function\u001b[0m\u001b[0;34m=\u001b[0m\u001b[0;32mNone\u001b[0m\u001b[0;34m,\u001b[0m \u001b[0mgridsize\u001b[0m\u001b[0;34m=\u001b[0m\u001b[0;32mNone\u001b[0m\u001b[0;34m,\u001b[0m \u001b[0;34m**\u001b[0m\u001b[0mkwargs\u001b[0m\u001b[0;34m)\u001b[0m\u001b[0;34m:\u001b[0m\u001b[0;34m\u001b[0m\u001b[0;34m\u001b[0m\u001b[0m\n",
            "\u001b[0;32m/usr/local/lib/python3.7/dist-packages/pandas/plotting/_core.py\u001b[0m in \u001b[0;36m__call__\u001b[0;34m(self, *args, **kwargs)\u001b[0m\n\u001b[1;32m    900\u001b[0m         \u001b[0;31m# when using another backend, get out of the way\u001b[0m\u001b[0;34m\u001b[0m\u001b[0;34m\u001b[0m\u001b[0;34m\u001b[0m\u001b[0m\n\u001b[1;32m    901\u001b[0m         \u001b[0;32mif\u001b[0m \u001b[0mplot_backend\u001b[0m\u001b[0;34m.\u001b[0m\u001b[0m__name__\u001b[0m \u001b[0;34m!=\u001b[0m \u001b[0;34m\"pandas.plotting._matplotlib\"\u001b[0m\u001b[0;34m:\u001b[0m\u001b[0;34m\u001b[0m\u001b[0;34m\u001b[0m\u001b[0m\n\u001b[0;32m--> 902\u001b[0;31m             \u001b[0;32mreturn\u001b[0m \u001b[0mplot_backend\u001b[0m\u001b[0;34m.\u001b[0m\u001b[0mplot\u001b[0m\u001b[0;34m(\u001b[0m\u001b[0mself\u001b[0m\u001b[0;34m.\u001b[0m\u001b[0m_parent\u001b[0m\u001b[0;34m,\u001b[0m \u001b[0mx\u001b[0m\u001b[0;34m=\u001b[0m\u001b[0mx\u001b[0m\u001b[0;34m,\u001b[0m \u001b[0my\u001b[0m\u001b[0;34m=\u001b[0m\u001b[0my\u001b[0m\u001b[0;34m,\u001b[0m \u001b[0mkind\u001b[0m\u001b[0;34m=\u001b[0m\u001b[0mkind\u001b[0m\u001b[0;34m,\u001b[0m \u001b[0;34m**\u001b[0m\u001b[0mkwargs\u001b[0m\u001b[0;34m)\u001b[0m\u001b[0;34m\u001b[0m\u001b[0;34m\u001b[0m\u001b[0m\n\u001b[0m\u001b[1;32m    903\u001b[0m \u001b[0;34m\u001b[0m\u001b[0m\n\u001b[1;32m    904\u001b[0m         \u001b[0;32mif\u001b[0m \u001b[0mkind\u001b[0m \u001b[0;32mnot\u001b[0m \u001b[0;32min\u001b[0m \u001b[0mself\u001b[0m\u001b[0;34m.\u001b[0m\u001b[0m_all_kinds\u001b[0m\u001b[0;34m:\u001b[0m\u001b[0;34m\u001b[0m\u001b[0;34m\u001b[0m\u001b[0m\n",
            "\u001b[0;32m/usr/local/lib/python3.7/dist-packages/plotly/__init__.py\u001b[0m in \u001b[0;36mplot\u001b[0;34m(data_frame, kind, **kwargs)\u001b[0m\n\u001b[1;32m     81\u001b[0m     \u001b[0mSee\u001b[0m \u001b[0mhttps\u001b[0m\u001b[0;34m:\u001b[0m\u001b[0;34m//\u001b[0m\u001b[0mgithub\u001b[0m\u001b[0;34m.\u001b[0m\u001b[0mcom\u001b[0m\u001b[0;34m/\u001b[0m\u001b[0mpandas\u001b[0m\u001b[0;34m-\u001b[0m\u001b[0mdev\u001b[0m\u001b[0;34m/\u001b[0m\u001b[0mpandas\u001b[0m\u001b[0;34m/\u001b[0m\u001b[0mblob\u001b[0m\u001b[0;34m/\u001b[0m\u001b[0mmaster\u001b[0m\u001b[0;34m/\u001b[0m\u001b[0mpandas\u001b[0m\u001b[0;34m/\u001b[0m\u001b[0mplotting\u001b[0m\u001b[0;34m/\u001b[0m\u001b[0m__init__\u001b[0m\u001b[0;34m.\u001b[0m\u001b[0mpy\u001b[0m\u001b[0;34m\u001b[0m\u001b[0;34m\u001b[0m\u001b[0m\n\u001b[1;32m     82\u001b[0m     \"\"\"\n\u001b[0;32m---> 83\u001b[0;31m     from .express import (\n\u001b[0m\u001b[1;32m     84\u001b[0m         \u001b[0mscatter\u001b[0m\u001b[0;34m,\u001b[0m\u001b[0;34m\u001b[0m\u001b[0;34m\u001b[0m\u001b[0m\n\u001b[1;32m     85\u001b[0m         \u001b[0mline\u001b[0m\u001b[0;34m,\u001b[0m\u001b[0;34m\u001b[0m\u001b[0;34m\u001b[0m\u001b[0m\n",
            "\u001b[0;32m/usr/local/lib/python3.7/dist-packages/plotly/express/__init__.py\u001b[0m in \u001b[0;36m<module>\u001b[0;34m\u001b[0m\n\u001b[1;32m     13\u001b[0m     )\n\u001b[1;32m     14\u001b[0m \u001b[0;34m\u001b[0m\u001b[0m\n\u001b[0;32m---> 15\u001b[0;31m \u001b[0;32mfrom\u001b[0m \u001b[0;34m.\u001b[0m\u001b[0m_imshow\u001b[0m \u001b[0;32mimport\u001b[0m \u001b[0mimshow\u001b[0m\u001b[0;34m\u001b[0m\u001b[0;34m\u001b[0m\u001b[0m\n\u001b[0m\u001b[1;32m     16\u001b[0m from ._chart_types import (  # noqa: F401\n\u001b[1;32m     17\u001b[0m     \u001b[0mscatter\u001b[0m\u001b[0;34m,\u001b[0m\u001b[0;34m\u001b[0m\u001b[0;34m\u001b[0m\u001b[0m\n",
            "\u001b[0;32m/usr/local/lib/python3.7/dist-packages/plotly/express/_imshow.py\u001b[0m in \u001b[0;36m<module>\u001b[0;34m\u001b[0m\n\u001b[1;32m      9\u001b[0m \u001b[0;34m\u001b[0m\u001b[0m\n\u001b[1;32m     10\u001b[0m \u001b[0;32mtry\u001b[0m\u001b[0;34m:\u001b[0m\u001b[0;34m\u001b[0m\u001b[0;34m\u001b[0m\u001b[0m\n\u001b[0;32m---> 11\u001b[0;31m     \u001b[0;32mimport\u001b[0m \u001b[0mxarray\u001b[0m\u001b[0;34m\u001b[0m\u001b[0;34m\u001b[0m\u001b[0m\n\u001b[0m\u001b[1;32m     12\u001b[0m \u001b[0;34m\u001b[0m\u001b[0m\n\u001b[1;32m     13\u001b[0m     \u001b[0mxarray_imported\u001b[0m \u001b[0;34m=\u001b[0m \u001b[0;32mTrue\u001b[0m\u001b[0;34m\u001b[0m\u001b[0;34m\u001b[0m\u001b[0m\n",
            "\u001b[0;32m/usr/local/lib/python3.7/dist-packages/xarray/__init__.py\u001b[0m in \u001b[0;36m<module>\u001b[0;34m\u001b[0m\n\u001b[0;32m----> 1\u001b[0;31m \u001b[0;32mfrom\u001b[0m \u001b[0;34m.\u001b[0m \u001b[0;32mimport\u001b[0m \u001b[0mtesting\u001b[0m\u001b[0;34m,\u001b[0m \u001b[0mtutorial\u001b[0m\u001b[0;34m,\u001b[0m \u001b[0mufuncs\u001b[0m\u001b[0;34m\u001b[0m\u001b[0;34m\u001b[0m\u001b[0m\n\u001b[0m\u001b[1;32m      2\u001b[0m from .backends.api import (\n\u001b[1;32m      3\u001b[0m     \u001b[0mload_dataarray\u001b[0m\u001b[0;34m,\u001b[0m\u001b[0;34m\u001b[0m\u001b[0;34m\u001b[0m\u001b[0m\n\u001b[1;32m      4\u001b[0m     \u001b[0mload_dataset\u001b[0m\u001b[0;34m,\u001b[0m\u001b[0;34m\u001b[0m\u001b[0;34m\u001b[0m\u001b[0m\n\u001b[1;32m      5\u001b[0m     \u001b[0mopen_dataarray\u001b[0m\u001b[0;34m,\u001b[0m\u001b[0;34m\u001b[0m\u001b[0;34m\u001b[0m\u001b[0m\n",
            "\u001b[0;32m/usr/local/lib/python3.7/dist-packages/xarray/tutorial.py\u001b[0m in \u001b[0;36m<module>\u001b[0;34m\u001b[0m\n\u001b[1;32m     11\u001b[0m \u001b[0;32mimport\u001b[0m \u001b[0mnumpy\u001b[0m \u001b[0;32mas\u001b[0m \u001b[0mnp\u001b[0m\u001b[0;34m\u001b[0m\u001b[0;34m\u001b[0m\u001b[0m\n\u001b[1;32m     12\u001b[0m \u001b[0;34m\u001b[0m\u001b[0m\n\u001b[0;32m---> 13\u001b[0;31m \u001b[0;32mfrom\u001b[0m \u001b[0;34m.\u001b[0m\u001b[0mbackends\u001b[0m\u001b[0;34m.\u001b[0m\u001b[0mapi\u001b[0m \u001b[0;32mimport\u001b[0m \u001b[0mopen_dataset\u001b[0m \u001b[0;32mas\u001b[0m \u001b[0m_open_dataset\u001b[0m\u001b[0;34m\u001b[0m\u001b[0;34m\u001b[0m\u001b[0m\n\u001b[0m\u001b[1;32m     14\u001b[0m \u001b[0;32mfrom\u001b[0m \u001b[0;34m.\u001b[0m\u001b[0mbackends\u001b[0m\u001b[0;34m.\u001b[0m\u001b[0mrasterio_\u001b[0m \u001b[0;32mimport\u001b[0m \u001b[0mopen_rasterio\u001b[0m \u001b[0;32mas\u001b[0m \u001b[0m_open_rasterio\u001b[0m\u001b[0;34m\u001b[0m\u001b[0;34m\u001b[0m\u001b[0m\n\u001b[1;32m     15\u001b[0m \u001b[0;32mfrom\u001b[0m \u001b[0;34m.\u001b[0m\u001b[0mcore\u001b[0m\u001b[0;34m.\u001b[0m\u001b[0mdataarray\u001b[0m \u001b[0;32mimport\u001b[0m \u001b[0mDataArray\u001b[0m\u001b[0;34m\u001b[0m\u001b[0;34m\u001b[0m\u001b[0m\n",
            "\u001b[0;32m/usr/local/lib/python3.7/dist-packages/xarray/backends/__init__.py\u001b[0m in \u001b[0;36m<module>\u001b[0;34m\u001b[0m\n\u001b[1;32m      4\u001b[0m \u001b[0mformats\u001b[0m\u001b[0;34m.\u001b[0m \u001b[0mThey\u001b[0m \u001b[0mshould\u001b[0m \u001b[0;32mnot\u001b[0m \u001b[0mbe\u001b[0m \u001b[0mused\u001b[0m \u001b[0mdirectly\u001b[0m\u001b[0;34m,\u001b[0m \u001b[0mbut\u001b[0m \u001b[0mrather\u001b[0m \u001b[0mthrough\u001b[0m \u001b[0mDataset\u001b[0m \u001b[0mobjects\u001b[0m\u001b[0;34m.\u001b[0m\u001b[0;34m\u001b[0m\u001b[0;34m\u001b[0m\u001b[0m\n\u001b[1;32m      5\u001b[0m \"\"\"\n\u001b[0;32m----> 6\u001b[0;31m \u001b[0;32mfrom\u001b[0m \u001b[0;34m.\u001b[0m\u001b[0mcfgrib_\u001b[0m \u001b[0;32mimport\u001b[0m \u001b[0mCfGribDataStore\u001b[0m\u001b[0;34m\u001b[0m\u001b[0;34m\u001b[0m\u001b[0m\n\u001b[0m\u001b[1;32m      7\u001b[0m \u001b[0;32mfrom\u001b[0m \u001b[0;34m.\u001b[0m\u001b[0mcommon\u001b[0m \u001b[0;32mimport\u001b[0m \u001b[0mAbstractDataStore\u001b[0m\u001b[0;34m,\u001b[0m \u001b[0mBackendArray\u001b[0m\u001b[0;34m,\u001b[0m \u001b[0mBackendEntrypoint\u001b[0m\u001b[0;34m\u001b[0m\u001b[0;34m\u001b[0m\u001b[0m\n\u001b[1;32m      8\u001b[0m \u001b[0;32mfrom\u001b[0m \u001b[0;34m.\u001b[0m\u001b[0mfile_manager\u001b[0m \u001b[0;32mimport\u001b[0m \u001b[0mCachingFileManager\u001b[0m\u001b[0;34m,\u001b[0m \u001b[0mDummyFileManager\u001b[0m\u001b[0;34m,\u001b[0m \u001b[0mFileManager\u001b[0m\u001b[0;34m\u001b[0m\u001b[0;34m\u001b[0m\u001b[0m\n",
            "\u001b[0;32m/usr/local/lib/python3.7/dist-packages/xarray/backends/cfgrib_.py\u001b[0m in \u001b[0;36m<module>\u001b[0;34m\u001b[0m\n\u001b[1;32m     14\u001b[0m     \u001b[0m_normalize_path\u001b[0m\u001b[0;34m,\u001b[0m\u001b[0;34m\u001b[0m\u001b[0;34m\u001b[0m\u001b[0m\n\u001b[1;32m     15\u001b[0m )\n\u001b[0;32m---> 16\u001b[0;31m \u001b[0;32mfrom\u001b[0m \u001b[0;34m.\u001b[0m\u001b[0mlocks\u001b[0m \u001b[0;32mimport\u001b[0m \u001b[0mSerializableLock\u001b[0m\u001b[0;34m,\u001b[0m \u001b[0mensure_lock\u001b[0m\u001b[0;34m\u001b[0m\u001b[0;34m\u001b[0m\u001b[0m\n\u001b[0m\u001b[1;32m     17\u001b[0m \u001b[0;32mfrom\u001b[0m \u001b[0;34m.\u001b[0m\u001b[0mstore\u001b[0m \u001b[0;32mimport\u001b[0m \u001b[0mStoreBackendEntrypoint\u001b[0m\u001b[0;34m\u001b[0m\u001b[0;34m\u001b[0m\u001b[0m\n\u001b[1;32m     18\u001b[0m \u001b[0;34m\u001b[0m\u001b[0m\n",
            "\u001b[0;32m/usr/local/lib/python3.7/dist-packages/xarray/backends/locks.py\u001b[0m in \u001b[0;36m<module>\u001b[0;34m\u001b[0m\n\u001b[1;32m     11\u001b[0m \u001b[0;34m\u001b[0m\u001b[0m\n\u001b[1;32m     12\u001b[0m \u001b[0;32mtry\u001b[0m\u001b[0;34m:\u001b[0m\u001b[0;34m\u001b[0m\u001b[0;34m\u001b[0m\u001b[0m\n\u001b[0;32m---> 13\u001b[0;31m     \u001b[0;32mfrom\u001b[0m \u001b[0mdask\u001b[0m\u001b[0;34m.\u001b[0m\u001b[0mdistributed\u001b[0m \u001b[0;32mimport\u001b[0m \u001b[0mLock\u001b[0m \u001b[0;32mas\u001b[0m \u001b[0mDistributedLock\u001b[0m\u001b[0;34m\u001b[0m\u001b[0;34m\u001b[0m\u001b[0m\n\u001b[0m\u001b[1;32m     14\u001b[0m \u001b[0;32mexcept\u001b[0m \u001b[0mImportError\u001b[0m\u001b[0;34m:\u001b[0m\u001b[0;34m\u001b[0m\u001b[0;34m\u001b[0m\u001b[0m\n\u001b[1;32m     15\u001b[0m     \u001b[0mDistributedLock\u001b[0m \u001b[0;34m=\u001b[0m \u001b[0;32mNone\u001b[0m\u001b[0;34m\u001b[0m\u001b[0;34m\u001b[0m\u001b[0m\n",
            "\u001b[0;32m/usr/local/lib/python3.7/dist-packages/dask/distributed.py\u001b[0m in \u001b[0;36m<module>\u001b[0;34m\u001b[0m\n\u001b[1;32m      9\u001b[0m \u001b[0;34m\u001b[0m\u001b[0m\n\u001b[1;32m     10\u001b[0m \u001b[0;32mtry\u001b[0m\u001b[0;34m:\u001b[0m\u001b[0;34m\u001b[0m\u001b[0;34m\u001b[0m\u001b[0m\n\u001b[0;32m---> 11\u001b[0;31m     \u001b[0;32mfrom\u001b[0m \u001b[0mdistributed\u001b[0m \u001b[0;32mimport\u001b[0m \u001b[0;34m*\u001b[0m\u001b[0;34m\u001b[0m\u001b[0;34m\u001b[0m\u001b[0m\n\u001b[0m\u001b[1;32m     12\u001b[0m \u001b[0;32mexcept\u001b[0m \u001b[0mImportError\u001b[0m \u001b[0;32mas\u001b[0m \u001b[0me\u001b[0m\u001b[0;34m:\u001b[0m\u001b[0;34m\u001b[0m\u001b[0;34m\u001b[0m\u001b[0m\n\u001b[1;32m     13\u001b[0m     \u001b[0;32mif\u001b[0m \u001b[0me\u001b[0m\u001b[0;34m.\u001b[0m\u001b[0mmsg\u001b[0m \u001b[0;34m==\u001b[0m \u001b[0;34m\"No module named 'distributed'\"\u001b[0m\u001b[0;34m:\u001b[0m\u001b[0;34m\u001b[0m\u001b[0;34m\u001b[0m\u001b[0m\n",
            "\u001b[0;32m/usr/local/lib/python3.7/dist-packages/distributed/__init__.py\u001b[0m in \u001b[0;36m<module>\u001b[0;34m\u001b[0m\n\u001b[1;32m      5\u001b[0m \u001b[0;34m\u001b[0m\u001b[0m\n\u001b[1;32m      6\u001b[0m \u001b[0;32mfrom\u001b[0m \u001b[0;34m.\u001b[0m\u001b[0m_version\u001b[0m \u001b[0;32mimport\u001b[0m \u001b[0mget_versions\u001b[0m\u001b[0;34m\u001b[0m\u001b[0;34m\u001b[0m\u001b[0m\n\u001b[0;32m----> 7\u001b[0;31m \u001b[0;32mfrom\u001b[0m \u001b[0;34m.\u001b[0m\u001b[0mactor\u001b[0m \u001b[0;32mimport\u001b[0m \u001b[0mActor\u001b[0m\u001b[0;34m,\u001b[0m \u001b[0mActorFuture\u001b[0m\u001b[0;34m\u001b[0m\u001b[0;34m\u001b[0m\u001b[0m\n\u001b[0m\u001b[1;32m      8\u001b[0m from .client import (\n\u001b[1;32m      9\u001b[0m     \u001b[0mClient\u001b[0m\u001b[0;34m,\u001b[0m\u001b[0;34m\u001b[0m\u001b[0;34m\u001b[0m\u001b[0m\n",
            "\u001b[0;32m/usr/local/lib/python3.7/dist-packages/distributed/actor.py\u001b[0m in \u001b[0;36m<module>\u001b[0;34m\u001b[0m\n\u001b[1;32m      3\u001b[0m \u001b[0;32mimport\u001b[0m \u001b[0mthreading\u001b[0m\u001b[0;34m\u001b[0m\u001b[0;34m\u001b[0m\u001b[0m\n\u001b[1;32m      4\u001b[0m \u001b[0;34m\u001b[0m\u001b[0m\n\u001b[0;32m----> 5\u001b[0;31m \u001b[0;32mfrom\u001b[0m \u001b[0;34m.\u001b[0m\u001b[0mclient\u001b[0m \u001b[0;32mimport\u001b[0m \u001b[0mFuture\u001b[0m\u001b[0;34m\u001b[0m\u001b[0;34m\u001b[0m\u001b[0m\n\u001b[0m\u001b[1;32m      6\u001b[0m \u001b[0;32mfrom\u001b[0m \u001b[0;34m.\u001b[0m\u001b[0mprotocol\u001b[0m \u001b[0;32mimport\u001b[0m \u001b[0mto_serialize\u001b[0m\u001b[0;34m\u001b[0m\u001b[0;34m\u001b[0m\u001b[0m\n\u001b[1;32m      7\u001b[0m \u001b[0;32mfrom\u001b[0m \u001b[0;34m.\u001b[0m\u001b[0mutils\u001b[0m \u001b[0;32mimport\u001b[0m \u001b[0miscoroutinefunction\u001b[0m\u001b[0;34m,\u001b[0m \u001b[0msync\u001b[0m\u001b[0;34m,\u001b[0m \u001b[0mthread_state\u001b[0m\u001b[0;34m\u001b[0m\u001b[0;34m\u001b[0m\u001b[0m\n",
            "\u001b[0;32m/usr/local/lib/python3.7/dist-packages/distributed/client.py\u001b[0m in \u001b[0;36m<module>\u001b[0;34m\u001b[0m\n\u001b[1;32m     57\u001b[0m \u001b[0;34m\u001b[0m\u001b[0m\n\u001b[1;32m     58\u001b[0m \u001b[0;32mfrom\u001b[0m \u001b[0;34m.\u001b[0m \u001b[0;32mimport\u001b[0m \u001b[0mversions\u001b[0m \u001b[0;32mas\u001b[0m \u001b[0mversion_module\u001b[0m  \u001b[0;31m# type: ignore\u001b[0m\u001b[0;34m\u001b[0m\u001b[0;34m\u001b[0m\u001b[0m\n\u001b[0;32m---> 59\u001b[0;31m \u001b[0;32mfrom\u001b[0m \u001b[0;34m.\u001b[0m\u001b[0mbatched\u001b[0m \u001b[0;32mimport\u001b[0m \u001b[0mBatchedSend\u001b[0m\u001b[0;34m\u001b[0m\u001b[0;34m\u001b[0m\u001b[0m\n\u001b[0m\u001b[1;32m     60\u001b[0m \u001b[0;32mfrom\u001b[0m \u001b[0;34m.\u001b[0m\u001b[0mcfexecutor\u001b[0m \u001b[0;32mimport\u001b[0m \u001b[0mClientExecutor\u001b[0m\u001b[0;34m\u001b[0m\u001b[0;34m\u001b[0m\u001b[0m\n\u001b[1;32m     61\u001b[0m from .core import (\n",
            "\u001b[0;32m/usr/local/lib/python3.7/dist-packages/distributed/batched.py\u001b[0m in \u001b[0;36m<module>\u001b[0;34m\u001b[0m\n\u001b[1;32m      8\u001b[0m \u001b[0;32mfrom\u001b[0m \u001b[0mdask\u001b[0m\u001b[0;34m.\u001b[0m\u001b[0mutils\u001b[0m \u001b[0;32mimport\u001b[0m \u001b[0mparse_timedelta\u001b[0m\u001b[0;34m\u001b[0m\u001b[0;34m\u001b[0m\u001b[0m\n\u001b[1;32m      9\u001b[0m \u001b[0;34m\u001b[0m\u001b[0m\n\u001b[0;32m---> 10\u001b[0;31m \u001b[0;32mfrom\u001b[0m \u001b[0;34m.\u001b[0m\u001b[0mcore\u001b[0m \u001b[0;32mimport\u001b[0m \u001b[0mCommClosedError\u001b[0m\u001b[0;34m\u001b[0m\u001b[0;34m\u001b[0m\u001b[0m\n\u001b[0m\u001b[1;32m     11\u001b[0m \u001b[0;32mfrom\u001b[0m \u001b[0;34m.\u001b[0m\u001b[0mmetrics\u001b[0m \u001b[0;32mimport\u001b[0m \u001b[0mtime\u001b[0m\u001b[0;34m\u001b[0m\u001b[0;34m\u001b[0m\u001b[0m\n\u001b[1;32m     12\u001b[0m \u001b[0;34m\u001b[0m\u001b[0m\n",
            "\u001b[0;32m/usr/local/lib/python3.7/dist-packages/distributed/core.py\u001b[0m in \u001b[0;36m<module>\u001b[0;34m\u001b[0m\n\u001b[1;32m     26\u001b[0m \u001b[0;34m\u001b[0m\u001b[0m\n\u001b[1;32m     27\u001b[0m \u001b[0;32mfrom\u001b[0m \u001b[0;34m.\u001b[0m \u001b[0;32mimport\u001b[0m \u001b[0mprofile\u001b[0m\u001b[0;34m,\u001b[0m \u001b[0mprotocol\u001b[0m\u001b[0;34m\u001b[0m\u001b[0;34m\u001b[0m\u001b[0m\n\u001b[0;32m---> 28\u001b[0;31m from .comm import (\n\u001b[0m\u001b[1;32m     29\u001b[0m     \u001b[0mComm\u001b[0m\u001b[0;34m,\u001b[0m\u001b[0;34m\u001b[0m\u001b[0;34m\u001b[0m\u001b[0m\n\u001b[1;32m     30\u001b[0m     \u001b[0mCommClosedError\u001b[0m\u001b[0;34m,\u001b[0m\u001b[0;34m\u001b[0m\u001b[0;34m\u001b[0m\u001b[0m\n",
            "\u001b[0;32m/usr/local/lib/python3.7/dist-packages/distributed/comm/__init__.py\u001b[0m in \u001b[0;36m<module>\u001b[0;34m\u001b[0m\n\u001b[1;32m     44\u001b[0m \u001b[0;34m\u001b[0m\u001b[0m\n\u001b[1;32m     45\u001b[0m \u001b[0;34m\u001b[0m\u001b[0m\n\u001b[0;32m---> 46\u001b[0;31m \u001b[0m_register_transports\u001b[0m\u001b[0;34m(\u001b[0m\u001b[0;34m)\u001b[0m\u001b[0;34m\u001b[0m\u001b[0;34m\u001b[0m\u001b[0m\n\u001b[0m",
            "\u001b[0;32m/usr/local/lib/python3.7/dist-packages/distributed/comm/__init__.py\u001b[0m in \u001b[0;36m_register_transports\u001b[0;34m()\u001b[0m\n\u001b[1;32m     18\u001b[0m     \u001b[0;32mimport\u001b[0m \u001b[0mdask\u001b[0m\u001b[0;34m.\u001b[0m\u001b[0mconfig\u001b[0m\u001b[0;34m\u001b[0m\u001b[0;34m\u001b[0m\u001b[0m\n\u001b[1;32m     19\u001b[0m \u001b[0;34m\u001b[0m\u001b[0m\n\u001b[0;32m---> 20\u001b[0;31m     \u001b[0;32mfrom\u001b[0m \u001b[0;34m.\u001b[0m \u001b[0;32mimport\u001b[0m \u001b[0minproc\u001b[0m\u001b[0;34m,\u001b[0m \u001b[0mws\u001b[0m\u001b[0;34m\u001b[0m\u001b[0;34m\u001b[0m\u001b[0m\n\u001b[0m\u001b[1;32m     21\u001b[0m \u001b[0;34m\u001b[0m\u001b[0m\n\u001b[1;32m     22\u001b[0m     \u001b[0mtcp_backend\u001b[0m \u001b[0;34m=\u001b[0m \u001b[0mdask\u001b[0m\u001b[0;34m.\u001b[0m\u001b[0mconfig\u001b[0m\u001b[0;34m.\u001b[0m\u001b[0mget\u001b[0m\u001b[0;34m(\u001b[0m\u001b[0;34m\"distributed.comm.tcp.backend\"\u001b[0m\u001b[0;34m)\u001b[0m\u001b[0;34m\u001b[0m\u001b[0;34m\u001b[0m\u001b[0m\n",
            "\u001b[0;32m/usr/local/lib/python3.7/dist-packages/distributed/comm/ws.py\u001b[0m in \u001b[0;36m<module>\u001b[0;34m\u001b[0m\n\u001b[1;32m      9\u001b[0m \u001b[0;32mfrom\u001b[0m \u001b[0mssl\u001b[0m \u001b[0;32mimport\u001b[0m \u001b[0mSSLError\u001b[0m\u001b[0;34m\u001b[0m\u001b[0;34m\u001b[0m\u001b[0m\n\u001b[1;32m     10\u001b[0m \u001b[0;34m\u001b[0m\u001b[0m\n\u001b[0;32m---> 11\u001b[0;31m \u001b[0;32mfrom\u001b[0m \u001b[0mtornado\u001b[0m \u001b[0;32mimport\u001b[0m \u001b[0mweb\u001b[0m\u001b[0;34m\u001b[0m\u001b[0;34m\u001b[0m\u001b[0m\n\u001b[0m\u001b[1;32m     12\u001b[0m \u001b[0;32mfrom\u001b[0m \u001b[0mtornado\u001b[0m\u001b[0;34m.\u001b[0m\u001b[0mhttpclient\u001b[0m \u001b[0;32mimport\u001b[0m \u001b[0mHTTPClientError\u001b[0m\u001b[0;34m,\u001b[0m \u001b[0mHTTPRequest\u001b[0m\u001b[0;34m\u001b[0m\u001b[0;34m\u001b[0m\u001b[0m\n\u001b[1;32m     13\u001b[0m \u001b[0;32mfrom\u001b[0m \u001b[0mtornado\u001b[0m\u001b[0;34m.\u001b[0m\u001b[0mhttpserver\u001b[0m \u001b[0;32mimport\u001b[0m \u001b[0mHTTPServer\u001b[0m\u001b[0;34m\u001b[0m\u001b[0;34m\u001b[0m\u001b[0m\n",
            "\u001b[0;32m/usr/local/lib/python3.7/dist-packages/tornado/web.py\u001b[0m in \u001b[0;36m<module>\u001b[0;34m\u001b[0m\n\u001b[1;32m     89\u001b[0m \u001b[0;32mfrom\u001b[0m \u001b[0mtornado\u001b[0m \u001b[0;32mimport\u001b[0m \u001b[0mescape\u001b[0m\u001b[0;34m\u001b[0m\u001b[0;34m\u001b[0m\u001b[0m\n\u001b[1;32m     90\u001b[0m \u001b[0;32mfrom\u001b[0m \u001b[0mtornado\u001b[0m \u001b[0;32mimport\u001b[0m \u001b[0mgen\u001b[0m\u001b[0;34m\u001b[0m\u001b[0;34m\u001b[0m\u001b[0m\n\u001b[0;32m---> 91\u001b[0;31m \u001b[0;32mfrom\u001b[0m \u001b[0mtornado\u001b[0m\u001b[0;34m.\u001b[0m\u001b[0mhttpserver\u001b[0m \u001b[0;32mimport\u001b[0m \u001b[0mHTTPServer\u001b[0m\u001b[0;34m\u001b[0m\u001b[0;34m\u001b[0m\u001b[0m\n\u001b[0m\u001b[1;32m     92\u001b[0m \u001b[0;32mfrom\u001b[0m \u001b[0mtornado\u001b[0m \u001b[0;32mimport\u001b[0m \u001b[0mhttputil\u001b[0m\u001b[0;34m\u001b[0m\u001b[0;34m\u001b[0m\u001b[0m\n\u001b[1;32m     93\u001b[0m \u001b[0;32mfrom\u001b[0m \u001b[0mtornado\u001b[0m \u001b[0;32mimport\u001b[0m \u001b[0miostream\u001b[0m\u001b[0;34m\u001b[0m\u001b[0;34m\u001b[0m\u001b[0m\n",
            "\u001b[0;32m/usr/local/lib/python3.7/dist-packages/tornado/httpserver.py\u001b[0m in \u001b[0;36m<module>\u001b[0;34m\u001b[0m\n\u001b[1;32m     30\u001b[0m \u001b[0;34m\u001b[0m\u001b[0m\n\u001b[1;32m     31\u001b[0m \u001b[0;32mfrom\u001b[0m \u001b[0mtornado\u001b[0m\u001b[0;34m.\u001b[0m\u001b[0mescape\u001b[0m \u001b[0;32mimport\u001b[0m \u001b[0mnative_str\u001b[0m\u001b[0;34m\u001b[0m\u001b[0;34m\u001b[0m\u001b[0m\n\u001b[0;32m---> 32\u001b[0;31m \u001b[0;32mfrom\u001b[0m \u001b[0mtornado\u001b[0m\u001b[0;34m.\u001b[0m\u001b[0mhttp1connection\u001b[0m \u001b[0;32mimport\u001b[0m \u001b[0mHTTP1ServerConnection\u001b[0m\u001b[0;34m,\u001b[0m \u001b[0mHTTP1ConnectionParameters\u001b[0m\u001b[0;34m\u001b[0m\u001b[0;34m\u001b[0m\u001b[0m\n\u001b[0m\u001b[1;32m     33\u001b[0m \u001b[0;32mfrom\u001b[0m \u001b[0mtornado\u001b[0m \u001b[0;32mimport\u001b[0m \u001b[0mhttputil\u001b[0m\u001b[0;34m\u001b[0m\u001b[0;34m\u001b[0m\u001b[0m\n\u001b[1;32m     34\u001b[0m \u001b[0;32mfrom\u001b[0m \u001b[0mtornado\u001b[0m \u001b[0;32mimport\u001b[0m \u001b[0miostream\u001b[0m\u001b[0;34m\u001b[0m\u001b[0;34m\u001b[0m\u001b[0m\n",
            "\u001b[0;32m/usr/local/lib/python3.7/dist-packages/tornado/http1connection.py\u001b[0m in \u001b[0;36m<module>\u001b[0;34m\u001b[0m\n\u001b[1;32m     32\u001b[0m \u001b[0;32mfrom\u001b[0m \u001b[0mtornado\u001b[0m \u001b[0;32mimport\u001b[0m \u001b[0mgen\u001b[0m\u001b[0;34m\u001b[0m\u001b[0;34m\u001b[0m\u001b[0m\n\u001b[1;32m     33\u001b[0m \u001b[0;32mfrom\u001b[0m \u001b[0mtornado\u001b[0m \u001b[0;32mimport\u001b[0m \u001b[0mhttputil\u001b[0m\u001b[0;34m\u001b[0m\u001b[0;34m\u001b[0m\u001b[0m\n\u001b[0;32m---> 34\u001b[0;31m \u001b[0;32mfrom\u001b[0m \u001b[0mtornado\u001b[0m \u001b[0;32mimport\u001b[0m \u001b[0miostream\u001b[0m\u001b[0;34m\u001b[0m\u001b[0;34m\u001b[0m\u001b[0m\n\u001b[0m\u001b[1;32m     35\u001b[0m \u001b[0;32mfrom\u001b[0m \u001b[0mtornado\u001b[0m\u001b[0;34m.\u001b[0m\u001b[0mlog\u001b[0m \u001b[0;32mimport\u001b[0m \u001b[0mgen_log\u001b[0m\u001b[0;34m,\u001b[0m \u001b[0mapp_log\u001b[0m\u001b[0;34m\u001b[0m\u001b[0;34m\u001b[0m\u001b[0m\n\u001b[1;32m     36\u001b[0m \u001b[0;32mfrom\u001b[0m \u001b[0mtornado\u001b[0m\u001b[0;34m.\u001b[0m\u001b[0mutil\u001b[0m \u001b[0;32mimport\u001b[0m \u001b[0mGzipDecompressor\u001b[0m\u001b[0;34m\u001b[0m\u001b[0;34m\u001b[0m\u001b[0m\n",
            "\u001b[0;32m/usr/local/lib/python3.7/dist-packages/tornado/iostream.py\u001b[0m in \u001b[0;36m<module>\u001b[0;34m\u001b[0m\n\u001b[1;32m    207\u001b[0m \u001b[0;34m\u001b[0m\u001b[0m\n\u001b[1;32m    208\u001b[0m \u001b[0;34m\u001b[0m\u001b[0m\n\u001b[0;32m--> 209\u001b[0;31m \u001b[0;32mclass\u001b[0m \u001b[0mBaseIOStream\u001b[0m\u001b[0;34m(\u001b[0m\u001b[0mobject\u001b[0m\u001b[0;34m)\u001b[0m\u001b[0;34m:\u001b[0m\u001b[0;34m\u001b[0m\u001b[0;34m\u001b[0m\u001b[0m\n\u001b[0m\u001b[1;32m    210\u001b[0m     \"\"\"A utility class to write to and read from a non-blocking file or socket.\n\u001b[1;32m    211\u001b[0m \u001b[0;34m\u001b[0m\u001b[0m\n",
            "\u001b[0;32m/usr/local/lib/python3.7/dist-packages/tornado/iostream.py\u001b[0m in \u001b[0;36mBaseIOStream\u001b[0;34m()\u001b[0m\n\u001b[1;32m    283\u001b[0m         \u001b[0mself\u001b[0m\u001b[0;34m.\u001b[0m\u001b[0m_closed\u001b[0m \u001b[0;34m=\u001b[0m \u001b[0;32mFalse\u001b[0m\u001b[0;34m\u001b[0m\u001b[0;34m\u001b[0m\u001b[0m\n\u001b[1;32m    284\u001b[0m \u001b[0;34m\u001b[0m\u001b[0m\n\u001b[0;32m--> 285\u001b[0;31m     \u001b[0;32mdef\u001b[0m \u001b[0mfileno\u001b[0m\u001b[0;34m(\u001b[0m\u001b[0mself\u001b[0m\u001b[0;34m)\u001b[0m \u001b[0;34m->\u001b[0m \u001b[0mUnion\u001b[0m\u001b[0;34m[\u001b[0m\u001b[0mint\u001b[0m\u001b[0;34m,\u001b[0m \u001b[0mioloop\u001b[0m\u001b[0;34m.\u001b[0m\u001b[0m_Selectable\u001b[0m\u001b[0;34m]\u001b[0m\u001b[0;34m:\u001b[0m\u001b[0;34m\u001b[0m\u001b[0;34m\u001b[0m\u001b[0m\n\u001b[0m\u001b[1;32m    286\u001b[0m         \u001b[0;34m\"\"\"Returns the file descriptor for this stream.\"\"\"\u001b[0m\u001b[0;34m\u001b[0m\u001b[0;34m\u001b[0m\u001b[0m\n\u001b[1;32m    287\u001b[0m         \u001b[0;32mraise\u001b[0m \u001b[0mNotImplementedError\u001b[0m\u001b[0;34m(\u001b[0m\u001b[0;34m)\u001b[0m\u001b[0;34m\u001b[0m\u001b[0;34m\u001b[0m\u001b[0m\n",
            "\u001b[0;31mAttributeError\u001b[0m: module 'tornado.ioloop' has no attribute '_Selectable'"
          ]
        }
      ]
    },
    {
      "cell_type": "markdown",
      "metadata": {
        "id": "HGI4f4QYrA2E"
      },
      "source": [
        "### Bokeh"
      ]
    },
    {
      "cell_type": "markdown",
      "metadata": {
        "id": "E9tYAZs9rOHG"
      },
      "source": [
        "[Bokeh](https://docs.bokeh.org/en/latest/index.html) requires the jupyter bokeh library to make bokeh plots into jupyter widgets."
      ]
    },
    {
      "cell_type": "code",
      "metadata": {
        "id": "juZMOyvJNv3l"
      },
      "source": [
        "%%capture false\n",
        "!pip install jupyter_bokeh\n",
        "#Alternatively conda install -c bokeh jupter_bokeh"
      ],
      "execution_count": null,
      "outputs": []
    },
    {
      "cell_type": "code",
      "metadata": {
        "colab": {
          "base_uri": "https://localhost:8080/",
          "height": 17,
          "referenced_widgets": [
            "180d209c56ee4a31ad6e32c09db18e35",
            "0d75342f33374a219391a03492398557",
            "81e871b656214383a50fdc2174f0ca43",
            "823ff11a78fe42c5a70b80ef86807913"
          ]
        },
        "id": "iWL2PBT1rl1t",
        "outputId": "4fc560a8-0d85-4c6b-edf3-05a5fd886580"
      },
      "source": [
        "from bokeh.plotting import figure, show\n",
        "from bokeh.io import output_notebook\n",
        "import bokeh.models.widgets as bk\n",
        "import jupyter_bokeh as jbk\n",
        "import numpy as np\n",
        "from ipywidgets import VBox\n",
        "output_notebook()\n",
        "x = np.linspace(0, 20, 100)\n",
        "y = np.sin(x)\n",
        "p = figure(title=\"sine curve\", plot_height=300, plot_width=600, y_range=(-5,5))\n",
        "r = p.line(x, y)\n",
        "VBox([jbk.BokehModel(p)])"
      ],
      "execution_count": null,
      "outputs": [
        {
          "output_type": "display_data",
          "data": {
            "text/plain": [
              "VBox(children=(BokehModel(render_bundle={'docs_json': {'23e80595-6766-49ce-93ae-9a56d4340af8': {'defs': [], 'r…"
            ],
            "application/vnd.jupyter.widget-view+json": {
              "version_major": 2,
              "version_minor": 0,
              "model_id": "180d209c56ee4a31ad6e32c09db18e35"
            }
          },
          "metadata": {
            "application/vnd.jupyter.widget-view+json": {
              "colab": {
                "custom_widget_manager": {
                  "url": "https://ssl.gstatic.com/colaboratory-static/widgets/colab-cdn-widget-manager/d2e234f7cc04bf79/manager.min.js"
                }
              }
            }
          }
        }
      ]
    },
    {
      "cell_type": "markdown",
      "metadata": {
        "id": "4e6pbyGO5G56"
      },
      "source": [
        "### Bqplot\n",
        "[Bqplot](https://bqplot.readthedocs.io/en/latest/) is jupyter native, this makes many things easier."
      ]
    },
    {
      "cell_type": "code",
      "metadata": {
        "id": "2NZeXGoM5Sro"
      },
      "source": [
        "%%capture false\n",
        "!pip install bqplot"
      ],
      "execution_count": null,
      "outputs": []
    },
    {
      "cell_type": "code",
      "metadata": {
        "colab": {
          "base_uri": "https://localhost:8080/",
          "height": 521,
          "referenced_widgets": [
            "e4b67ee189d1431985478aaa0da9ad1c",
            "d32d19395e604b118396c95eb8b86853",
            "50e6497bbe5e4c50a17c13766affcf74",
            "9c841ae823d24fd1bd19a2f98ab1b0e6",
            "d99e1a377d9247e8ba827162aa19787a",
            "8a45394e2eb7409099828c4e61ed5d8b",
            "06e0bdaf21fb4e3182254d2e08159e4f",
            "682cab2a975a4f95bdff0b69a37a0874",
            "f5283c51b38f4d5e9dc8b4c3eebdb591",
            "63b04393a1174cb8b674089747413b7d",
            "3c0c398a8afd4f2cac10b4c7bbc1c189"
          ]
        },
        "id": "gxHxEdBZ5Z32",
        "outputId": "a6bbc0b7-77df-4018-fd10-24dc49ce3f28"
      },
      "source": [
        "from bqplot import pyplot as plt\n",
        "import numpy as np\n",
        "size = 100\n",
        "np.random.seed(0)\n",
        "x = np.linspace(0,20,100)\n",
        "y = np.sin(x)\n",
        "fig=plt.figure(title='sine curve')\n",
        "plt.plot(x, y)\n",
        "VBox([fig])"
      ],
      "execution_count": null,
      "outputs": [
        {
          "output_type": "display_data",
          "data": {
            "text/plain": [
              "VBox(children=(Figure(axes=[Axis(scale=LinearScale()), Axis(orientation='vertical', scale=LinearScale())], fig…"
            ],
            "application/vnd.jupyter.widget-view+json": {
              "version_major": 2,
              "version_minor": 0,
              "model_id": "e4b67ee189d1431985478aaa0da9ad1c"
            }
          },
          "metadata": {
            "application/vnd.jupyter.widget-view+json": {
              "colab": {
                "custom_widget_manager": {
                  "url": "https://ssl.gstatic.com/colaboratory-static/widgets/colab-cdn-widget-manager/d2e234f7cc04bf79/manager.min.js"
                }
              }
            }
          }
        }
      ]
    },
    {
      "cell_type": "markdown",
      "metadata": {
        "id": "EW2IRo7HVoTL"
      },
      "source": [
        "While bqplot is only capable of performing 2d plots it is quite fast (especialy for large datasets when compared to plotly) and capable of plotting maps, graphs and many charts.  Below is a very quickly put together word cloud."
      ]
    },
    {
      "cell_type": "code",
      "metadata": {
        "id": "op8JOPJiWHfp",
        "colab": {
          "base_uri": "https://localhost:8080/",
          "height": 521,
          "referenced_widgets": [
            "dd2f9a9d717741bf9419cc80d5c5f60e",
            "e7ea36dd09ed45db862f1893bca01cdd",
            "38d6a81f7abc480cb4ad4a9648224089",
            "bcacdc21e18144a1aea4383eab9af325",
            "11d3523a94364442b057d69c675437d2",
            "48938f8f44614b7c872a3198a5cdfcfb",
            "1e2043f01a6e43ee890b44379ae5e5b4",
            "1617d6956593467b96af3ad4f955f079",
            "a607e3a395e9473b9ca112a5691f288a",
            "dd970634d0d44c06b906841ed970a0a1"
          ]
        },
        "outputId": "ba1ad8a9-94dc-474e-cbd6-206f91d8ea62"
      },
      "source": [
        "from wordcloud import WordCloud, STOPWORDS\n",
        "from bqplot import Scatter\n",
        "from bqplot import Label, LinearScale, Axis, Lines, Figure, DateScale\n",
        "import numpy as np\n",
        "import pandas as pd\n",
        "def bqplot_wordcloud(text):\n",
        "    \"\"\"\n",
        "    quickly thrown together to show it's possible to create a word cloud in bqplot, \n",
        "    obviously a lot of features could be added.  Not everything from WordCloud translates\n",
        "    exactly to bqplot.\n",
        "    \"\"\"\n",
        "    wc = WordCloud(stopwords = set(STOPWORDS),\n",
        "                   max_words = 600,\n",
        "                   max_font_size = 50)\n",
        "    wc.generate(text)\n",
        "    \n",
        "    word_list=[]\n",
        "    freq_list=[]\n",
        "    fontsize_list=[]\n",
        "    position_list=[]\n",
        "    orientation_list=[]\n",
        "    color_list=[]\n",
        "\n",
        "    for (word, freq), fontsize, position, orientation, color in wc.layout_:\n",
        "        word_list.append(word)\n",
        "        freq_list.append(freq)\n",
        "        fontsize_list.append(fontsize)\n",
        "        position_list.append(position)\n",
        "        orientation_list.append(orientation)\n",
        "        color_list.append(color)\n",
        "        \n",
        "    # get the positions\n",
        "    x=[]\n",
        "    y=[]\n",
        "    for i in position_list:\n",
        "        x.append(i[0])\n",
        "        y.append(i[1])\n",
        "            \n",
        "    # get the relative occurence frequencies\n",
        "    elems=list(set(freq_list))\n",
        "    new_freq_list = [elems.index(i)+1 for i in freq_list]\n",
        "    new_freq_list.append(0)\n",
        "    def orient(i):\n",
        "        if i==2: return 1\n",
        "        else: return 0\n",
        "    #We currently don't use this but plt.label does have a rotation option\n",
        "    new_orientation_list = [orient(i) for i in orientation_list]\n",
        "    new_orientation_list.append(2)\n",
        "\n",
        "    word_list.append('')\n",
        "    color_list.append('rgb(0,0,0)')\n",
        "    \n",
        "    new_freq_list\n",
        "    fig = plt.figure()\n",
        "\n",
        "    plt.scales(scales={'x': LinearScale(min = float(min(x)), max=float(max(x)*5))})\n",
        "    plt.scales(scales={'y': LinearScale(min = float(min(y)), max=float(max(y)))})\n",
        "    label = plt.label(x=x, y=y,\n",
        "                    colors=color_list,\n",
        "                    text=word_list,\n",
        "                    size=new_freq_list,\n",
        "                    default_size=50,\n",
        "                    display_legend=False)    \n",
        "    return fig\n"
      ],
      "execution_count": null,
      "outputs": [
        {
          "output_type": "display_data",
          "data": {
            "text/plain": [
              "Figure(axes=[Axis(scale=LinearScale()), Axis(orientation='vertical', scale=LinearScale(max=196.0, min=30.0))],…"
            ],
            "application/vnd.jupyter.widget-view+json": {
              "version_major": 2,
              "version_minor": 0,
              "model_id": "dd2f9a9d717741bf9419cc80d5c5f60e"
            }
          },
          "metadata": {
            "application/vnd.jupyter.widget-view+json": {
              "colab": {
                "custom_widget_manager": {
                  "url": "https://ssl.gstatic.com/colaboratory-static/widgets/colab-cdn-widget-manager/d2e234f7cc04bf79/manager.min.js"
                }
              }
            }
          }
        }
      ]
    },
    {
      "cell_type": "markdown",
      "metadata": {
        "id": "KjH0NLys6-6A"
      },
      "source": [
        "Neither bokeh or bqplot have direct pandas support. However, it's still quite simple to use either to plot with pandas data frames using either library.\n",
        "\n",
        "There exist a number of other libraries for python and many support Jupyter widgets."
      ]
    },
    {
      "cell_type": "markdown",
      "metadata": {
        "id": "CXxY9IIHzxWN"
      },
      "source": [
        "### Exercises\n",
        "### Exercise 1\n",
        "Install plotly, jupyter_bokeh, and run the examples.  If using anaconda it may be preferable to use conda install.\n",
        "### Exercise 2\n",
        "We used Dropdown and a button to update the scatter plots.  [Interact](https://ipywidgets.readthedocs.io/en/latest/examples/Using%20Interact.html) allows us to create such widgets automatically.  Observe the code below.\n",
        "```\n",
        "import pandas as pd\n",
        "import numpy as np \n",
        "from plotly import graph_objects as go\n",
        "from sklearn.datasets import load_iris\n",
        "from ipywidgets import Output, VBox, HBox, Button, Dropdown, Layout, interactive\n",
        "iris = load_iris()\n",
        "iris_df = pd.DataFrame(np.c_[iris.data, iris.target], columns=iris.feature_names + ['target'])\n",
        "\n",
        "pd.options.plotting.backend='plotly'\n",
        "plotly_widget = go.FigureWidget(iris_df.plot.scatter(x='sepal length (cm)', y='sepal width (cm)', c='target'))\n",
        "def update(x, y):\n",
        "    plotly_widget=go.FigureWidget(iris_df.plot.scatter(x=x, y=y, c='target'))\n",
        "    box.children = (plotly_widget, i)\n",
        "i = interactive(update,x=iris.feature_names, y=iris.feature_names)\n",
        "box = VBox([plotly_widget, i])\n",
        "box\n",
        "```\n",
        "Now look at the sine curve plots.  Is it possible to create an update function with signature:\n",
        "```\n",
        "def update(fn, A, f)\n",
        "```\n",
        "that changes the function from sine to Sine, Cosine, or Tangent, and adjusts the Amplitude (A) and frequency (f) where $y=A*fn(x*pi)$.  Do this for at least one curve.\n",
        "\n",
        "### Excerise 3\n",
        "Create an app the pulls the last 100 tweets given a hashtag.  Then\n",
        "- Using the words of the tweets create a word cloud to examine the most common tweets.\n",
        "- Get the follows of all users who made the last thousand tweets.  Display a [graph](https://en.wikipedia.org/wiki/Graph_(discrete_mathematics), were vertices are users and egdes exist if a user follows another. You may use a library like [networkx](https://networkx.org/), which has matplotlib functions to display the graph or you may use plotly, bqplot or any other plotting library you choose."
      ]
    },
    {
      "cell_type": "markdown",
      "metadata": {
        "id": "UXGsb6S-C54J"
      },
      "source": [
        "## Grid Widgets and Pandas\n",
        "\n",
        "Much of data science within python uses Pandas and being able to display the data in a data frame is absolutley necessary in many Web Applications.  While the standard widget libray does not have a widget for displaying pandas data, others have created such tools.  We present three here, they are [qgrid](https://github.com/quantopian/qgrid), [ipyaggrid](https://dgothrek.gitlab.io/ipyaggrid/) and [ipysheet](https://github.com/QuantStack/ipysheet).  All allow one to display Pandas Dataframes easily as a jupyter widget. Ipyaggrid is more complex to implement and in commercial applications will require a license for the use of the javascript library aggrid.\n",
        "\n",
        "We will use the iris dataset to demonstrate both tools.  Unfortunately, non of these display in google colab at present, this has to do with colab's serving of javascipt.  We will need to run these locally."
      ]
    },
    {
      "cell_type": "code",
      "metadata": {
        "id": "46MWIlzsDjLL"
      },
      "source": [
        "%%capture false\n",
        "!pip install ipyaggrid ipysheet qgrid\n",
        "!jupyter labextension install ipyaggrid\n",
        "\n",
        "import ipysheet\n",
        "import ipyaggrid\n",
        "import qgrid\n",
        "import pandas as pd\n",
        "import numpy as np\n",
        "import qgrid\n",
        "from sklearn.datasets import load_iris\n",
        "iris = load_iris()\n",
        "iris_df = pd.DataFrame(np.c_[iris.data, iris.target], columns=iris.feature_names + ['target'])"
      ],
      "execution_count": null,
      "outputs": []
    },
    {
      "cell_type": "code",
      "metadata": {
        "colab": {
          "base_uri": "https://localhost:8080/",
          "height": 17,
          "referenced_widgets": [
            "742cdb7448584ab7bf29d31b957c8b76"
          ]
        },
        "id": "xWeJM5oDNcqz",
        "outputId": "65bf87ec-a132-4112-c132-97b9c5eec2df"
      },
      "source": [
        "# This is how one would display an ipysheet normally\n",
        "sheet = ipysheet.from_dataframe(iris_df)\n",
        "sheet"
      ],
      "execution_count": null,
      "outputs": [
        {
          "output_type": "display_data",
          "data": {
            "text/plain": [
              "Sheet(cells=(Cell(column_end=0, column_start=0, row_end=149, row_start=0, squeeze_row=False, type='numeric', v…"
            ],
            "application/vnd.jupyter.widget-view+json": {
              "version_major": 2,
              "version_minor": 0,
              "model_id": "742cdb7448584ab7bf29d31b957c8b76"
            }
          },
          "metadata": {
            "application/vnd.jupyter.widget-view+json": {
              "colab": {
                "custom_widget_manager": {
                  "url": "https://ssl.gstatic.com/colaboratory-static/widgets/colab-cdn-widget-manager/d2e234f7cc04bf79/manager.min.js"
                }
              }
            }
          }
        }
      ]
    },
    {
      "cell_type": "code",
      "metadata": {
        "colab": {
          "base_uri": "https://localhost:8080/",
          "height": 17,
          "referenced_widgets": [
            "172783b6fef248aeb26df3604e244b49"
          ]
        },
        "id": "ZhZwZYwQOsrp",
        "outputId": "b1cc36d7-9494-42db-bbd6-d865a14bc1ee"
      },
      "source": [
        "# This is how one would display a qgrid normally\n",
        "\n",
        "grid = qgrid.QGridWidget(df=iris_df)\n",
        "grid"
      ],
      "execution_count": null,
      "outputs": [
        {
          "output_type": "display_data",
          "data": {
            "text/plain": [
              "QgridWidget(grid_options={'fullWidthRows': True, 'syncColumnCellResize': True, 'forceFitColumns': True, 'defau…"
            ],
            "application/vnd.jupyter.widget-view+json": {
              "version_major": 2,
              "version_minor": 0,
              "model_id": "172783b6fef248aeb26df3604e244b49"
            }
          },
          "metadata": {
            "application/vnd.jupyter.widget-view+json": {
              "colab": {
                "custom_widget_manager": {
                  "url": "https://ssl.gstatic.com/colaboratory-static/widgets/colab-cdn-widget-manager/d2e234f7cc04bf79/manager.min.js"
                }
              }
            }
          }
        }
      ]
    },
    {
      "cell_type": "code",
      "metadata": {
        "colab": {
          "base_uri": "https://localhost:8080/",
          "height": 473,
          "referenced_widgets": [
            "3c81910312a5498495e68fabb5672e97",
            "edc72280687b4ecfa7a4da75cb4369a7"
          ]
        },
        "id": "Lq1wGKFpR-uj",
        "outputId": "6dad8e0e-5381-4f0d-d901-ad48d59b1e47"
      },
      "source": [
        "# This is how one would display an ipyagrid normally\n",
        "\n",
        "grid_options = {\n",
        "    'enableSorting': True,\n",
        "    'enableFilter': True,\n",
        "    'enableColResize': True,\n",
        "    'enableRangeSelection': True,\n",
        "}\n",
        "g = ipyaggrid.Grid(grid_data=iris_df,\n",
        "         grid_options=grid_options,\n",
        "         quick_filter=True,\n",
        "         show_toggle_edit=True,\n",
        "         export_mode=\"buttons\",\n",
        "         export_csv=True,\n",
        "         export_excel=True,\n",
        "         theme='ag-theme-balham',\n",
        "         show_toggle_delete=True,\n",
        "         columns_fit='auto',\n",
        "         index=False,\n",
        "         keep_multiindex=False)\n",
        "g"
      ],
      "execution_count": null,
      "outputs": [
        {
          "output_type": "display_data",
          "data": {
            "text/plain": [
              "Grid(columns_fit='auto', compress_data=True, export_mode='buttons', height='350px', menu={'buttons': [{'name':…"
            ],
            "application/vnd.jupyter.widget-view+json": {
              "version_major": 2,
              "version_minor": 0,
              "model_id": "3c81910312a5498495e68fabb5672e97"
            }
          },
          "metadata": {
            "application/vnd.jupyter.widget-view+json": {
              "colab": {
                "custom_widget_manager": {
                  "url": "https://ssl.gstatic.com/colaboratory-static/widgets/colab-cdn-widget-manager/d2e234f7cc04bf79/manager.min.js"
                }
              }
            }
          }
        }
      ]
    },
    {
      "cell_type": "markdown",
      "metadata": {
        "id": "nyla6Gi0Ta0O"
      },
      "source": [
        "### Exercises\n",
        "The grid widgets won't run in colab.  Install ipysheets, qgrid and ipyagrid locally and run the examples."
      ]
    },
    {
      "cell_type": "markdown",
      "metadata": {
        "id": "Pzq_g0nVYuOH"
      },
      "source": [
        "## AppLayout and GridspecLayout"
      ]
    },
    {
      "cell_type": "markdown",
      "metadata": {
        "id": "djriwEtfZFuI"
      },
      "source": [
        "Often we must update a widget that is held in a container.  As previously demostrations, this means updating the children attribute of the container which is a tuple as demostrated below.\n",
        "```\n",
        "children=list(box.children)\n",
        "children[3] = Button(...)\n",
        "box.children = tuple(children)\n",
        "```\n",
        "This is cumbersome and prone to error, especially if the containers are contained in larger containers.  AppLayout and GridspecLayout are and alternatives to Box containers which alieviate some issues. As demonstated below."
      ]
    },
    {
      "cell_type": "markdown",
      "metadata": {
        "id": "qjhzlkpFyEnk"
      },
      "source": [
        "The AppLayout layout creates a widget with a multiple areas: the headed, footer, left, right and center."
      ]
    },
    {
      "cell_type": "code",
      "metadata": {
        "colab": {
          "base_uri": "https://localhost:8080/",
          "height": 344,
          "referenced_widgets": [
            "1bf0c0596afc47fd8d271f6bb813ce19",
            "78c20f0055e14518a896f7bddd4cb06b",
            "e227db2be6344ebeb78e4ed223828a8b",
            "344e12e2c8d74aaaadfa55c7aa229a1e",
            "c9f178c1d1244d648feca3d3c3e85ab9",
            "6edaa0b2791048c6963b466bb779af0c",
            "6a017a7b24bc483e9f234f3835e853db",
            "ea355eb921da4e1ab292d3b5f29afd30",
            "7ff7ea3b69214693809def50f222d633",
            "182f3cc43f1145f4a9b1b3a85aec2c2d",
            "85c00bde2d6c44f9b88da1cc925346c7",
            "14f039735edd42a286246cf968bb4d9d",
            "6bc653daeefc4850a5c9042bf8ec4e3f",
            "f7ea067134bc4d7db58f7a2acde41096",
            "7d9d0ef941294aac870ebf5819cfc81c",
            "688d2eb3b220414fa5eec87cad43b6e5",
            "823385f713384a2caae606914992e009",
            "b7442e04ba7a49779d43d00f22275262",
            "4e35c02153664d3e80d3a137e29177d7",
            "606ae92b586d4755a2976621a4dff62d",
            "12062418d5734dbbbf9176049a6e5896",
            "05df59bdc17647a685205ce542a7e824",
            "0daab09b5af549e0af8974f0f9871be2",
            "635d65cfde8440cc995cf7cae3fdc173",
            "432b903eba274b1581b417309075f626",
            "fbb2911235864cc08e2e9b19ba95452b",
            "e0ffc7550f5947469ae93797d237723b",
            "a0f77e7171ac46b4a33d046338bca27d",
            "6611db4cc47c4b07afad72671b9ca20b",
            "1280c65def7a43f0bd66cc30e646bf06",
            "a25934d3a56e467a8898b99db78a3ddc",
            "e0eed117086e4129b8a96f1d8d3bc434",
            "3c4de5fd04d2476398dee3f712cf2866",
            "ac0c2e14985647aaa2371bafc6a934c8",
            "aa2f88aad3b540c6a7474f4fff274739",
            "36dbd2aa367742e3b33fdde3a7793b1b",
            "87208dccc8fc43389a678e9dd38eff2b",
            "fe81a0cfda484396b4f174c47b57a3b5"
          ]
        },
        "id": "-qDaagB69_q9",
        "outputId": "fd6d0f28-3ca0-4965-e367-361f6e646948"
      },
      "source": [
        "from ipywidgets import AppLayout, Button, Layout, Text\n",
        "header_button=Button(description='header (click me)', style = {'button_color': 'blue'}, layout=Layout(width='100%'))\n",
        "i = 0\n",
        "al=AppLayout(header=header_button,\n",
        "          left_sidebar=Button(description='left', style = {'button_color': 'red'},layout=Layout(height='100%', width='100%')),\n",
        "          center=Button(description='center', style = {'button_color': 'yellow'}, layout=Layout(height='2in', width='5in')),\n",
        "          right_sidebar=Button(description='right', style = {'button_color': 'red'}, layout=Layout(height='100%', width='100%')),\n",
        "          footer=Button(description='footer', style = {'button_color': 'blue'}, layout=Layout(width='100%')))\n",
        "def on_click(btn):\n",
        "  global i\n",
        "  if i%2 == 0:\n",
        "    al.center=Button(description='center', style = {'button_color': 'green'}, layout=Layout(height='2in', width='5in'))\n",
        "  else:\n",
        "    al.center=Text(description='center', style = {'button_color': 'yellow'}, layout=Layout(height='2in', width='5in'))\n",
        "    #Button(description='center', style = {'button_color': 'yellow'}, layout=Layout(height='2in', width='5in'))\n",
        "  i = i+1\n",
        "header_button.on_click(on_click)\n",
        "al"
      ],
      "execution_count": null,
      "outputs": [
        {
          "output_type": "display_data",
          "data": {
            "application/vnd.jupyter.widget-view+json": {
              "model_id": "1bf0c0596afc47fd8d271f6bb813ce19",
              "version_minor": 0,
              "version_major": 2
            },
            "text/plain": [
              "AppLayout(children=(Button(description='header (click me)', layout=Layout(grid_area='header', width='100%'), s…"
            ]
          },
          "metadata": {
            "tags": []
          }
        }
      ]
    },
    {
      "cell_type": "markdown",
      "metadata": {
        "id": "YcOoy-pSyg7B"
      },
      "source": [
        "Omission of one or more areas in the initialization of AppLayout removes them from the widgits."
      ]
    },
    {
      "cell_type": "code",
      "metadata": {
        "colab": {
          "base_uri": "https://localhost:8080/",
          "height": 145,
          "referenced_widgets": [
            "cda3f2dd0c9f4b1fac5aa356c1f9ea50",
            "3e5de1f94d4f4338bf81e94143eea274",
            "9a4844aa44744ebba8f393280d0ba086",
            "7faf4bcf49434ba39b16879aca13e8c3",
            "170cf99b8d4d4fc89bb370b2cc6c9b85",
            "51698fde4f6e4dceac00ea9d6e7b7f06",
            "1ccd5eb4add945a990198be1e36f85e2",
            "a35f3e87b8154df4be1ba927e6a5ffeb",
            "20085d17be7d4b978e81c0bc9791f104",
            "03c48843db0647f79aa819cf22c9a909",
            "a2e5cb2b974f43a9842b71621b66ea18",
            "02259267fce843ceb76a98bfc8da5ebd",
            "336415db1e3a40e1ab8508ff5d9091c4",
            "f3f258ac91024afea25c70586ba62c16",
            "6d377b02b4cc42e89965ff5b54c2f39b",
            "e1e44ba0746c40eeaefed7f992d8c3fb",
            "51839ef6a28942f9af0f735ac801aad2",
            "e38b3620011241f0811b05353201a936",
            "9492d963f31c4c66a66a468566cae61e",
            "259ef30402744cc4ba28091ab5329c55"
          ]
        },
        "id": "V13yE3gFyw3_",
        "outputId": "b6cfb5b8-8ec2-4fac-f868-04fae096ee74"
      },
      "source": [
        "from ipywidgets import AppLayout, Button, Layout\n",
        "header_button=Button(description='header (click me)', style = {'button_color': 'blue'}, layout=Layout(width='100%'))\n",
        "i = 0\n",
        "al=AppLayout(header=header_button,\n",
        "          left_sidebar=Button(description='left', style = {'button_color': 'red'},layout=Layout(height='100%', width='2in')),\n",
        "          center=Button(description='center', style = {'button_color': 'yellow'}, layout=Layout(height='100%', width='100%')))\n",
        "def on_click(btn):\n",
        "  global i\n",
        "  if i%2 == 0:\n",
        "    al.center=Button(description='center', style = {'button_color': 'green'}, layout=Layout(height='100%', width='100%'))\n",
        "  else:\n",
        "    al.center=Button(description='center', style = {'button_color': 'yellow'}, layout=Layout(height='100%', width='100%'))\n",
        "  i = i+1\n",
        "header_button.on_click(on_click)\n",
        "al"
      ],
      "execution_count": null,
      "outputs": [
        {
          "output_type": "display_data",
          "data": {
            "application/vnd.jupyter.widget-view+json": {
              "model_id": "cda3f2dd0c9f4b1fac5aa356c1f9ea50",
              "version_minor": 0,
              "version_major": 2
            },
            "text/plain": [
              "AppLayout(children=(Button(description='header (click me)', layout=Layout(grid_area='header', width='100%'), s…"
            ]
          },
          "metadata": {
            "tags": []
          }
        }
      ]
    },
    {
      "cell_type": "markdown",
      "metadata": {
        "id": "917nVUwJzlJJ"
      },
      "source": [
        "GridspecLayout create an n by m grid of cells."
      ]
    },
    {
      "cell_type": "code",
      "metadata": {
        "id": "UmUtHIA1JNaw",
        "colab": {
          "base_uri": "https://localhost:8080/",
          "height": 317,
          "referenced_widgets": [
            "dd0a6dc4d4e145269c5530663d6ab03c",
            "0acff6dda5554df4abca1cfee8166d0e",
            "b7f13955eb3f4da0af3bc9a250504a46",
            "50472429d3804a1fadc1eadc0b000a97",
            "55af104b21e041a48716852353a8929f",
            "6cc7bcb4c1d140b7a9d15b20ca552723",
            "c9ff89d2c43b4403a2ebbec5c5e65669",
            "2f09a7ef012d4529a980e436643ec9ae",
            "0a16d9d1bcc14e5baecf9b21d42c7f15",
            "2cd93a7b3eb24f39a104b7d549251eaf",
            "eabbc76882e64e0ea590052c29607aa7",
            "85dc5c619aca44e3833e43b8d7b36e2d",
            "51348a736ff64354a9fb111b75e9bd57",
            "40e4924cc3ac4297a5a31bd35bba5d29",
            "bc33d886a35343fd892b88da8ec35f5b",
            "87594d40d0384678a4b46d7d9b89e6e4",
            "2b2e50d3adcd4abeb9919d3f43519d91",
            "f8217d17812a4aa598785d424c14dae9",
            "e5178ed112b946079534d7fab51d639e",
            "8bef544796b94fdca5b6a8a76f573687",
            "00526b1882be4410a9d7a463af3e6aaa",
            "893e701668ba4099bdf26e572fd67b42",
            "30b91690d71f4ec789314cb9a3c98578",
            "8207045d12f8499b99e481119215c003",
            "64f0202cd1414226bed069cc8631851f",
            "d2b58b713317423cb5cef3206e9a7920",
            "fabeba91ed9d42c092ca5cfbff5d80f3",
            "136af379bc9f451481405fb7429895c4",
            "516bb011da0b428c9b50342e3efc02e5"
          ]
        },
        "outputId": "26faf401-e0a7-478c-849a-973eaf5963ab"
      },
      "source": [
        "from ipywidgets import GridspecLayout, Button, Layout\n",
        "gl = GridspecLayout(3,3, width='3.1in')\n",
        "for i in range(3):\n",
        "  for j in range(3):\n",
        "    gl[i,j] = Button(description=f\"({i},{j})\", layout=Layout(height='1in',width='1in'))\n",
        "gl"
      ],
      "execution_count": null,
      "outputs": [
        {
          "output_type": "display_data",
          "data": {
            "application/vnd.jupyter.widget-view+json": {
              "model_id": "dd0a6dc4d4e145269c5530663d6ab03c",
              "version_minor": 0,
              "version_major": 2
            },
            "text/plain": [
              "GridspecLayout(children=(Button(description='(0,0)', layout=Layout(grid_area='widget001', height='1in', width=…"
            ]
          },
          "metadata": {
            "tags": []
          }
        }
      ]
    },
    {
      "cell_type": "markdown",
      "metadata": {
        "id": "LpbndvIA1hbI"
      },
      "source": [
        "## Exercises\n",
        "- Consider the TwitterApp above.  Instead of using contrainers such as VBox and HBox, use AppLayout with a left, header and center.  The left element should contain the key Texts, the header should contain a user Text and a Get Tweets Button.  The center should be an output widget that displays the Tweets.\n",
        "- Using the Iris dataset create a Pandas Dataframe.  Then display scatterplots of all 16 features pairs displayed in a GridspecLayout, such that the diagonal should be the scatterplot of the same two features. "
      ]
    },
    {
      "cell_type": "markdown",
      "metadata": {
        "id": "Zvyp2ODOlvNW"
      },
      "source": [
        "# Voila\n",
        "\n",
        "Thus far we have displayed our widgets with in a notebook.  While this can certainly make Jupyter Notebooks more user friendly, it still is not as user frienldy as a webpage as the note book will have several cells and code displayed.  In addition the user will be able to modify the notebook and even open other files with the file menu!\n",
        "\n",
        "Voila is a python module which allows one the open a notebook, run all cells and display the cells as a webpage with none of the Jupyter menus.\n",
        "\n",
        "First one installs the voila package:\n",
        "```\n",
        "pip install voila\n",
        "```\n",
        "or\n",
        "```\n",
        "conda -c condaforge voila\n",
        "```\n",
        "the one can run a notebook in voila at the command line as follows:\n",
        "```\n",
        "voila MyNotebook.ipynb \n",
        "```\n",
        "You should see the following output.\n",
        "```\n",
        "[Voila] Using /tmp to store connection files\n",
        "[Voila] Storing connection files in /tmp/voila_wcvee269.\n",
        "[Voila] Serving static files from /opt/anaconda3/envs/dev/lib/python3.8/site-packages/voila/static.\n",
        "[Voila] Voilà is running at:\n",
        "http://localhost:8866/\n",
        "```\n",
        "Depending on your setup this may automatically open an web brower and load the page.  If not you can open the browser manually and navigate to http://localhost:8866/.\n",
        "\n",
        "While creating a voila base webapp it's often useful to work in Jupyter and then see what the changes will look like in voila.  After installing voila your notebook toolbar will have a voila button. As shown here.\n",
        "![Screen Shot 2021-02-28 at 6.14.48 PM.png](data:image/png;base64,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)\n",
        "Pressing the voila button opens a new tab displaying the notebook as a webapp the same as if running voila from the command line.\n",
        "\n",
        "For now we will run our apps locally but later we will run them in Azure.\n"
      ]
    },
    {
      "cell_type": "markdown",
      "metadata": {
        "id": "GfDtD9FA9bw0"
      },
      "source": [
        "\n",
        "## Exercises\n",
        "- After installing Voila, create a new local notebook and copy the code below. Use the Voila Button to view the code as a webapp.\n",
        "```\n",
        "from ipywidgets import Accordion, Button, Dropdown, FileUpload, HBox, Image, Output, Tab, VBox, Layout\n",
        "from PIL import Image as PilImage, ImageOps\n",
        "from skimage import color\n",
        "import io\n",
        "class FilteredImageApp:\n",
        "  def __init__(self):\n",
        "    self.file_upload = FileUpload(accept='image/*', multiple=False)\n",
        "    self.apply_button = Button(description='Apply Filter!')\n",
        "    self.apply_button.on_click(self.on_apply)\n",
        "    self.output = Output()\n",
        "    self.filter_choice = Dropdown(description='filter', value='None', options=['None', 'Gray'])\n",
        "    self.tab = Tab(layout=Layout(height='700px'))\n",
        "    self.tab.children = [self.output]\n",
        "    self.tab.set_title(0,'Debug Information')\n",
        "    self.header = HBox([self.filter_choice, self.file_upload, self.apply_button])\n",
        "    self.container = VBox([self.header, self.tab])\n",
        "  def on_apply(self, btn):\n",
        "    with self.output:\n",
        "      print(f'Applying new filter: {self.filter_choice.value}')\n",
        "      upload_dict = self.file_upload.value\n",
        "      img = list(upload_dict.values())[0]\n",
        "      img_meta = img['metadata']\n",
        "      img_content = img['content']\n",
        "      print(img_meta)\n",
        "      print(f'Name: {img_meta[\"name\"]},Size: {img_meta[\"size\"]}')\n",
        "      if self.filter_choice.value=='None':\n",
        "        img = Image(value=img_content)\n",
        "      if self.filter_choice.value=='Gray':\n",
        "        img_array = io.BytesIO()\n",
        "        ImageOps.grayscale(PilImage.open(io.BytesIO(img_content))).save(img_array, format='PNG')\n",
        "        new_img = img_array.getvalue()\n",
        "        print(img_array)\n",
        "        img = Image(value=new_img)\n",
        "      self.tab.children = list(self.tab.children) + [img]\n",
        "      self.tab.set_title(len(self.tab.children)-1, img_meta['name']+self.filter_choice.value)\n",
        "  def get_layout(self):\n",
        "    return self.container\n",
        "FilteredImageApp().get_layout()\n",
        "```\n",
        "- Having all of the code within a notebook can make the notebook difficult to read and also limits code reuse.  Copy the all the code for the FilteredImageApp class above (everything except the line `FilteredImageApp().get_layout()` and save to a text file named `image_app.py`.  Now create a new notebook: MyImageApp with the following code:\n",
        "```\n",
        "from image_app import FilteredImageApp\n",
        "FilteredImageApp().get_layout()\n",
        "```\n",
        "Press the voila button to see the webapp.  Also, try opening the notebook from the commandline using voila.\n"
      ]
    },
    {
      "cell_type": "markdown",
      "metadata": {
        "id": "btYmPyf0BGYd"
      },
      "source": [
        "# Web Services and REST\n",
        "While Jupyter Widgets and Voila allow one to quickly make user facing webapps that are useful for getting one's work in front of humans, it's often the case that one's work will interface with other applications.  \n",
        "For instance you may have trained a classifier which identifies certain users as interested in buying a new car.  So if such a user visits one of several different webpages that user should have a car ad displayed.  Those webpages should be able to pass a feature vector (or list of feature vectors) to your application and your application should be able to give a response.\n",
        "There are many ways to accomplish this task.  Howerver, we would like the following constraints to be met:\n",
        "- We don't want to require either party to use a specific language.\n",
        "- We want to use a protocol that is commonly used, fast and well understood.\n",
        "- We'd like to keep all transactions stateless, i.e., we shouldn't have to remember something about past messages to respond to the current message.\n",
        "\n",
        "To this end RESTful web services are the predominate way to facilitate such interactions.\n",
        "\n",
        "Specifically an HTTP-based REST API will:\n",
        "- Use an standard URI such as https://example.com/api\n",
        "- Use standard HTTP operations\n",
        "  - GET request a representation of the target resource’s state.\n",
        "  - POST Request the target resource process a representation.\n",
        "  - PUT Set the target resource’s state to the state defined in the request.\n",
        "  - DELETE Remove the target resource’s state.\n",
        "- A media format capable of describing the data in the resource, typically this is JSON, XML or Text but could be images, video or any other file format.\n",
        "\n"
      ]
    },
    {
      "cell_type": "markdown",
      "metadata": {
        "id": "bUMa5h8uBLhB"
      },
      "source": [
        "# The Requests Library\n",
        "\n",
        "The [requests library](https://requests.readthedocs.io/en/master/) is a commonly used HTTP client for python and is often used to create client libraries for RESTful APIs, in fact looking at the source of the [tweepy package](https://github.com/tweepy/tweepy/blob/master/setup.py) used to previously to interact with Twitter data we see it uses the requests library."
      ]
    },
    {
      "cell_type": "code",
      "metadata": {
        "colab": {
          "base_uri": "https://localhost:8080/"
        },
        "id": "XGcSgYStFhpP",
        "outputId": "c75ab029-ef8b-45ab-e114-501924479702"
      },
      "source": [
        "#To install requests (It is installed by default in anaconda)\n",
        "!pip install requests"
      ],
      "execution_count": null,
      "outputs": [
        {
          "output_type": "stream",
          "text": [
            "Requirement already satisfied: requests in /usr/local/lib/python3.7/dist-packages (2.23.0)\n",
            "Requirement already satisfied: chardet<4,>=3.0.2 in /usr/local/lib/python3.7/dist-packages (from requests) (3.0.4)\n",
            "Requirement already satisfied: certifi>=2017.4.17 in /usr/local/lib/python3.7/dist-packages (from requests) (2020.12.5)\n",
            "Requirement already satisfied: urllib3!=1.25.0,!=1.25.1,<1.26,>=1.21.1 in /usr/local/lib/python3.7/dist-packages (from requests) (1.24.3)\n",
            "Requirement already satisfied: idna<3,>=2.5 in /usr/local/lib/python3.7/dist-packages (from requests) (2.10)\n"
          ],
          "name": "stdout"
        }
      ]
    },
    {
      "cell_type": "markdown",
      "metadata": {
        "id": "uatFbVnKGwpf"
      },
      "source": [
        "To demonstate the requests library we will use the [Earthquake Catalog API from the US Geological survey](https://earthquake.usgs.gov/fdsnws/event/1/)."
      ]
    },
    {
      "cell_type": "code",
      "metadata": {
        "id": "zjEjTHIGF7cb"
      },
      "source": [
        "# To use the requests library:\n",
        "import requests\n",
        "resp=requests.get('https://earthquake.usgs.gov/fdsnws/event/1/query?format=geojson&starttime=2014-01-01&endtime=2014-02-01&minmagnitude=5')"
      ],
      "execution_count": null,
      "outputs": []
    },
    {
      "cell_type": "code",
      "metadata": {
        "colab": {
          "base_uri": "https://localhost:8080/"
        },
        "id": "thbjYZpnHjFj",
        "outputId": "69ab983a-6550-4f4b-8ff8-8f70d44ee99e"
      },
      "source": [
        "#print the status code 2XX is a success, 3xx, 4xx, 5xx are various failures\n",
        "print(resp.status_code)\n",
        "#print the response (interprets the media type as text) \n",
        "print(resp.text[0:100])\n",
        "#If the text is JSON the requests library has a helper function to convert the\n",
        "#JSON to Lists, Dictionaries, etc\n",
        "json = resp.json()\n",
        "print(json['metadata'].keys())\n",
        "#if you need the raw bytes (the data might be an image), you can use content\n",
        "print(resp.content[0:100])"
      ],
      "execution_count": null,
      "outputs": [
        {
          "output_type": "stream",
          "text": [
            "200\n",
            "{\"type\":\"FeatureCollection\",\"metadata\":{\"generated\":1616455525000,\"url\":\"https://earthquake.usgs.gov\n",
            "dict_keys(['generated', 'url', 'title', 'status', 'api', 'count'])\n",
            "b'{\"type\":\"FeatureCollection\",\"metadata\":{\"generated\":1616455525000,\"url\":\"https://earthquake.usgs.gov'\n"
          ],
          "name": "stdout"
        }
      ]
    },
    {
      "cell_type": "markdown",
      "metadata": {
        "id": "SH0HcpvCl9Wn"
      },
      "source": [
        "In addition to being able to make get requests, the requests library is capable of making post, put and delete requests.  It is used by many python libraries including the twitter api used in many of our examples."
      ]
    },
    {
      "cell_type": "code",
      "metadata": {
        "colab": {
          "base_uri": "https://localhost:8080/",
          "height": 643
        },
        "id": "ymBeh1AmMpal",
        "outputId": "55e50a44-67fc-47fd-eaed-468195e90f9e"
      },
      "source": [
        "import pandas as pd\n",
        "#Pandas can normalize json into a data frame, here the useful data is in the \"Features\" key.\n",
        "pd.json_normalize(json['features'])"
      ],
      "execution_count": null,
      "outputs": [
        {
          "output_type": "execute_result",
          "data": {
            "text/html": [
              "<div>\n",
              "<style scoped>\n",
              "    .dataframe tbody tr th:only-of-type {\n",
              "        vertical-align: middle;\n",
              "    }\n",
              "\n",
              "    .dataframe tbody tr th {\n",
              "        vertical-align: top;\n",
              "    }\n",
              "\n",
              "    .dataframe thead th {\n",
              "        text-align: right;\n",
              "    }\n",
              "</style>\n",
              "<table border=\"1\" class=\"dataframe\">\n",
              "  <thead>\n",
              "    <tr style=\"text-align: right;\">\n",
              "      <th></th>\n",
              "      <th>type</th>\n",
              "      <th>id</th>\n",
              "      <th>properties.mag</th>\n",
              "      <th>properties.place</th>\n",
              "      <th>properties.time</th>\n",
              "      <th>properties.updated</th>\n",
              "      <th>properties.tz</th>\n",
              "      <th>properties.url</th>\n",
              "      <th>properties.detail</th>\n",
              "      <th>properties.felt</th>\n",
              "      <th>properties.cdi</th>\n",
              "      <th>properties.mmi</th>\n",
              "      <th>properties.alert</th>\n",
              "      <th>properties.status</th>\n",
              "      <th>properties.tsunami</th>\n",
              "      <th>properties.sig</th>\n",
              "      <th>properties.net</th>\n",
              "      <th>properties.code</th>\n",
              "      <th>properties.ids</th>\n",
              "      <th>properties.sources</th>\n",
              "      <th>properties.types</th>\n",
              "      <th>properties.nst</th>\n",
              "      <th>properties.dmin</th>\n",
              "      <th>properties.rms</th>\n",
              "      <th>properties.gap</th>\n",
              "      <th>properties.magType</th>\n",
              "      <th>properties.type</th>\n",
              "      <th>properties.title</th>\n",
              "      <th>geometry.type</th>\n",
              "      <th>geometry.coordinates</th>\n",
              "    </tr>\n",
              "  </thead>\n",
              "  <tbody>\n",
              "    <tr>\n",
              "      <th>0</th>\n",
              "      <td>Feature</td>\n",
              "      <td>usc000men8</td>\n",
              "      <td>5.1</td>\n",
              "      <td>151km SSE of Esso, Russia</td>\n",
              "      <td>1391186346990</td>\n",
              "      <td>1396921398000</td>\n",
              "      <td>720</td>\n",
              "      <td>https://earthquake.usgs.gov/earthquakes/eventp...</td>\n",
              "      <td>https://earthquake.usgs.gov/fdsnws/event/1/que...</td>\n",
              "      <td>NaN</td>\n",
              "      <td>NaN</td>\n",
              "      <td>NaN</td>\n",
              "      <td>None</td>\n",
              "      <td>reviewed</td>\n",
              "      <td>0</td>\n",
              "      <td>400</td>\n",
              "      <td>us</td>\n",
              "      <td>c000men8</td>\n",
              "      <td>,usc000men8,</td>\n",
              "      <td>,us,</td>\n",
              "      <td>,cap,general-link,geoserve,nearby-cities,origi...</td>\n",
              "      <td>None</td>\n",
              "      <td>1.732</td>\n",
              "      <td>0.96</td>\n",
              "      <td>75.0</td>\n",
              "      <td>mb</td>\n",
              "      <td>earthquake</td>\n",
              "      <td>M 5.1 - 151km SSE of Esso, Russia</td>\n",
              "      <td>Point</td>\n",
              "      <td>[159.5622, 54.6664, 169.22]</td>\n",
              "    </tr>\n",
              "    <tr>\n",
              "      <th>1</th>\n",
              "      <td>Feature</td>\n",
              "      <td>usc000mqef</td>\n",
              "      <td>5.0</td>\n",
              "      <td>25km NNW of Calama, Chile</td>\n",
              "      <td>1391020008000</td>\n",
              "      <td>1396921396000</td>\n",
              "      <td>-180</td>\n",
              "      <td>https://earthquake.usgs.gov/earthquakes/eventp...</td>\n",
              "      <td>https://earthquake.usgs.gov/fdsnws/event/1/que...</td>\n",
              "      <td>NaN</td>\n",
              "      <td>NaN</td>\n",
              "      <td>NaN</td>\n",
              "      <td>None</td>\n",
              "      <td>reviewed</td>\n",
              "      <td>0</td>\n",
              "      <td>385</td>\n",
              "      <td>us</td>\n",
              "      <td>c000mqef</td>\n",
              "      <td>,usc000mqef,</td>\n",
              "      <td>,us,</td>\n",
              "      <td>,general-link,geoserve,nearby-cities,origin,ph...</td>\n",
              "      <td>None</td>\n",
              "      <td>NaN</td>\n",
              "      <td>1.04</td>\n",
              "      <td>NaN</td>\n",
              "      <td>mb</td>\n",
              "      <td>earthquake</td>\n",
              "      <td>M 5.0 - 25km NNW of Calama, Chile</td>\n",
              "      <td>Point</td>\n",
              "      <td>[-69.01, -22.251, 92.7]</td>\n",
              "    </tr>\n",
              "    <tr>\n",
              "      <th>2</th>\n",
              "      <td>Feature</td>\n",
              "      <td>usc000mcu0</td>\n",
              "      <td>5.1</td>\n",
              "      <td>52km WNW of Mawlaik, Burma</td>\n",
              "      <td>1391003210340</td>\n",
              "      <td>1396921395000</td>\n",
              "      <td>390</td>\n",
              "      <td>https://earthquake.usgs.gov/earthquakes/eventp...</td>\n",
              "      <td>https://earthquake.usgs.gov/fdsnws/event/1/que...</td>\n",
              "      <td>NaN</td>\n",
              "      <td>NaN</td>\n",
              "      <td>NaN</td>\n",
              "      <td>None</td>\n",
              "      <td>reviewed</td>\n",
              "      <td>0</td>\n",
              "      <td>400</td>\n",
              "      <td>us</td>\n",
              "      <td>c000mcu0</td>\n",
              "      <td>,usc000mcu0,</td>\n",
              "      <td>,us,</td>\n",
              "      <td>,cap,geoserve,nearby-cities,origin,phase-data,...</td>\n",
              "      <td>None</td>\n",
              "      <td>2.425</td>\n",
              "      <td>0.68</td>\n",
              "      <td>19.0</td>\n",
              "      <td>mb</td>\n",
              "      <td>earthquake</td>\n",
              "      <td>M 5.1 - 52km WNW of Mawlaik, Burma</td>\n",
              "      <td>Point</td>\n",
              "      <td>[93.9581, 23.8428, 59.11]</td>\n",
              "    </tr>\n",
              "    <tr>\n",
              "      <th>3</th>\n",
              "      <td>Feature</td>\n",
              "      <td>usc000mcsn</td>\n",
              "      <td>5.6</td>\n",
              "      <td>39km SSE of Putre, Chile</td>\n",
              "      <td>1390989710730</td>\n",
              "      <td>1422658897017</td>\n",
              "      <td>-180</td>\n",
              "      <td>https://earthquake.usgs.gov/earthquakes/eventp...</td>\n",
              "      <td>https://earthquake.usgs.gov/fdsnws/event/1/que...</td>\n",
              "      <td>3.0</td>\n",
              "      <td>3.8</td>\n",
              "      <td>4.310</td>\n",
              "      <td>green</td>\n",
              "      <td>reviewed</td>\n",
              "      <td>0</td>\n",
              "      <td>484</td>\n",
              "      <td>us</td>\n",
              "      <td>c000mcsn</td>\n",
              "      <td>,usc000mcsn,</td>\n",
              "      <td>,us,</td>\n",
              "      <td>,cap,dyfi,geoserve,losspager,moment-tensor,mom...</td>\n",
              "      <td>None</td>\n",
              "      <td>0.653</td>\n",
              "      <td>1.13</td>\n",
              "      <td>26.0</td>\n",
              "      <td>mww</td>\n",
              "      <td>earthquake</td>\n",
              "      <td>M 5.6 - 39km SSE of Putre, Chile</td>\n",
              "      <td>Point</td>\n",
              "      <td>[-69.3735, -18.5087, 120.03]</td>\n",
              "    </tr>\n",
              "    <tr>\n",
              "      <th>4</th>\n",
              "      <td>Feature</td>\n",
              "      <td>usc000mcj6</td>\n",
              "      <td>5.6</td>\n",
              "      <td>108km SSE of Auki, Solomon Islands</td>\n",
              "      <td>1390955548240</td>\n",
              "      <td>1594407607741</td>\n",
              "      <td>660</td>\n",
              "      <td>https://earthquake.usgs.gov/earthquakes/eventp...</td>\n",
              "      <td>https://earthquake.usgs.gov/fdsnws/event/1/que...</td>\n",
              "      <td>NaN</td>\n",
              "      <td>NaN</td>\n",
              "      <td>4.655</td>\n",
              "      <td>green</td>\n",
              "      <td>reviewed</td>\n",
              "      <td>0</td>\n",
              "      <td>482</td>\n",
              "      <td>us</td>\n",
              "      <td>c000mcj6</td>\n",
              "      <td>,usc000mcj6,</td>\n",
              "      <td>,us,</td>\n",
              "      <td>,cap,geoserve,losspager,moment-tensor,nearby-c...</td>\n",
              "      <td>None</td>\n",
              "      <td>1.272</td>\n",
              "      <td>0.70</td>\n",
              "      <td>16.0</td>\n",
              "      <td>mwb</td>\n",
              "      <td>earthquake</td>\n",
              "      <td>M 5.6 - 108km SSE of Auki, Solomon Islands</td>\n",
              "      <td>Point</td>\n",
              "      <td>[161.2282, -9.5949, 41]</td>\n",
              "    </tr>\n",
              "    <tr>\n",
              "      <th>...</th>\n",
              "      <td>...</td>\n",
              "      <td>...</td>\n",
              "      <td>...</td>\n",
              "      <td>...</td>\n",
              "      <td>...</td>\n",
              "      <td>...</td>\n",
              "      <td>...</td>\n",
              "      <td>...</td>\n",
              "      <td>...</td>\n",
              "      <td>...</td>\n",
              "      <td>...</td>\n",
              "      <td>...</td>\n",
              "      <td>...</td>\n",
              "      <td>...</td>\n",
              "      <td>...</td>\n",
              "      <td>...</td>\n",
              "      <td>...</td>\n",
              "      <td>...</td>\n",
              "      <td>...</td>\n",
              "      <td>...</td>\n",
              "      <td>...</td>\n",
              "      <td>...</td>\n",
              "      <td>...</td>\n",
              "      <td>...</td>\n",
              "      <td>...</td>\n",
              "      <td>...</td>\n",
              "      <td>...</td>\n",
              "      <td>...</td>\n",
              "      <td>...</td>\n",
              "      <td>...</td>\n",
              "    </tr>\n",
              "    <tr>\n",
              "      <th>107</th>\n",
              "      <td>Feature</td>\n",
              "      <td>usc000lvt0</td>\n",
              "      <td>5.0</td>\n",
              "      <td>84km NNW of Davila, Philippines</td>\n",
              "      <td>1388689344590</td>\n",
              "      <td>1394151956000</td>\n",
              "      <td>480</td>\n",
              "      <td>https://earthquake.usgs.gov/earthquakes/eventp...</td>\n",
              "      <td>https://earthquake.usgs.gov/fdsnws/event/1/que...</td>\n",
              "      <td>NaN</td>\n",
              "      <td>NaN</td>\n",
              "      <td>NaN</td>\n",
              "      <td>None</td>\n",
              "      <td>reviewed</td>\n",
              "      <td>0</td>\n",
              "      <td>385</td>\n",
              "      <td>us</td>\n",
              "      <td>c000lvt0</td>\n",
              "      <td>,usc000lvt0,</td>\n",
              "      <td>,us,</td>\n",
              "      <td>,cap,general-link,geoserve,nearby-cities,origi...</td>\n",
              "      <td>None</td>\n",
              "      <td>3.732</td>\n",
              "      <td>1.06</td>\n",
              "      <td>58.0</td>\n",
              "      <td>mb</td>\n",
              "      <td>earthquake</td>\n",
              "      <td>M 5.0 - 84km NNW of Davila, Philippines</td>\n",
              "      <td>Point</td>\n",
              "      <td>[120.2167, 19.1548, 15.15]</td>\n",
              "    </tr>\n",
              "    <tr>\n",
              "      <th>108</th>\n",
              "      <td>Feature</td>\n",
              "      <td>usc000lvk3</td>\n",
              "      <td>5.0</td>\n",
              "      <td>52km NE of San Isidro, Philippines</td>\n",
              "      <td>1388656577400</td>\n",
              "      <td>1394151955000</td>\n",
              "      <td>480</td>\n",
              "      <td>https://earthquake.usgs.gov/earthquakes/eventp...</td>\n",
              "      <td>https://earthquake.usgs.gov/fdsnws/event/1/que...</td>\n",
              "      <td>NaN</td>\n",
              "      <td>NaN</td>\n",
              "      <td>NaN</td>\n",
              "      <td>None</td>\n",
              "      <td>reviewed</td>\n",
              "      <td>0</td>\n",
              "      <td>385</td>\n",
              "      <td>us</td>\n",
              "      <td>c000lvk3</td>\n",
              "      <td>,usc000lvk3,</td>\n",
              "      <td>,us,</td>\n",
              "      <td>,cap,general-link,geoserve,nearby-cities,origi...</td>\n",
              "      <td>None</td>\n",
              "      <td>3.404</td>\n",
              "      <td>1.08</td>\n",
              "      <td>49.0</td>\n",
              "      <td>mb</td>\n",
              "      <td>earthquake</td>\n",
              "      <td>M 5.0 - 52km NE of San Isidro, Philippines</td>\n",
              "      <td>Point</td>\n",
              "      <td>[126.3537, 10.4088, 54.11]</td>\n",
              "    </tr>\n",
              "    <tr>\n",
              "      <th>109</th>\n",
              "      <td>Feature</td>\n",
              "      <td>usc000lvhr</td>\n",
              "      <td>5.2</td>\n",
              "      <td>60km S of Lar, Iran</td>\n",
              "      <td>1388632434570</td>\n",
              "      <td>1594407556956</td>\n",
              "      <td>210</td>\n",
              "      <td>https://earthquake.usgs.gov/earthquakes/eventp...</td>\n",
              "      <td>https://earthquake.usgs.gov/fdsnws/event/1/que...</td>\n",
              "      <td>NaN</td>\n",
              "      <td>NaN</td>\n",
              "      <td>6.214</td>\n",
              "      <td>green</td>\n",
              "      <td>reviewed</td>\n",
              "      <td>0</td>\n",
              "      <td>416</td>\n",
              "      <td>us</td>\n",
              "      <td>c000lvhr</td>\n",
              "      <td>,usc000lvhr,atlas20140102031354,</td>\n",
              "      <td>,us,atlas,</td>\n",
              "      <td>,cap,geoserve,losspager,moment-tensor,nearby-c...</td>\n",
              "      <td>None</td>\n",
              "      <td>1.158</td>\n",
              "      <td>0.72</td>\n",
              "      <td>33.0</td>\n",
              "      <td>mwb</td>\n",
              "      <td>earthquake</td>\n",
              "      <td>M 5.2 - 60km S of Lar, Iran</td>\n",
              "      <td>Point</td>\n",
              "      <td>[54.4482, 27.1502, 8]</td>\n",
              "    </tr>\n",
              "    <tr>\n",
              "      <th>110</th>\n",
              "      <td>Feature</td>\n",
              "      <td>usc000lvb5</td>\n",
              "      <td>6.5</td>\n",
              "      <td>32km W of Sola, Vanuatu</td>\n",
              "      <td>1388592209000</td>\n",
              "      <td>1594407529032</td>\n",
              "      <td>660</td>\n",
              "      <td>https://earthquake.usgs.gov/earthquakes/eventp...</td>\n",
              "      <td>https://earthquake.usgs.gov/fdsnws/event/1/que...</td>\n",
              "      <td>NaN</td>\n",
              "      <td>NaN</td>\n",
              "      <td>4.262</td>\n",
              "      <td>green</td>\n",
              "      <td>reviewed</td>\n",
              "      <td>1</td>\n",
              "      <td>650</td>\n",
              "      <td>us</td>\n",
              "      <td>c000lvb5</td>\n",
              "      <td>,pt14001000,at00myqcls,usc000lvb5,</td>\n",
              "      <td>,pt,at,us,</td>\n",
              "      <td>,cap,geoserve,impact-link,losspager,moment-ten...</td>\n",
              "      <td>None</td>\n",
              "      <td>3.997</td>\n",
              "      <td>0.76</td>\n",
              "      <td>14.0</td>\n",
              "      <td>mww</td>\n",
              "      <td>earthquake</td>\n",
              "      <td>M 6.5 - 32km W of Sola, Vanuatu</td>\n",
              "      <td>Point</td>\n",
              "      <td>[167.249, -13.8633, 187]</td>\n",
              "    </tr>\n",
              "    <tr>\n",
              "      <th>111</th>\n",
              "      <td>Feature</td>\n",
              "      <td>usc000lv5e</td>\n",
              "      <td>5.1</td>\n",
              "      <td>76km NNW of Davila, Philippines</td>\n",
              "      <td>1388534476610</td>\n",
              "      <td>1394151953000</td>\n",
              "      <td>480</td>\n",
              "      <td>https://earthquake.usgs.gov/earthquakes/eventp...</td>\n",
              "      <td>https://earthquake.usgs.gov/fdsnws/event/1/que...</td>\n",
              "      <td>NaN</td>\n",
              "      <td>NaN</td>\n",
              "      <td>NaN</td>\n",
              "      <td>None</td>\n",
              "      <td>reviewed</td>\n",
              "      <td>0</td>\n",
              "      <td>400</td>\n",
              "      <td>us</td>\n",
              "      <td>c000lv5e</td>\n",
              "      <td>,usc000lv5e,</td>\n",
              "      <td>,us,</td>\n",
              "      <td>,cap,general-link,geoserve,nearby-cities,origi...</td>\n",
              "      <td>None</td>\n",
              "      <td>3.794</td>\n",
              "      <td>0.85</td>\n",
              "      <td>29.0</td>\n",
              "      <td>mb</td>\n",
              "      <td>earthquake</td>\n",
              "      <td>M 5.1 - 76km NNW of Davila, Philippines</td>\n",
              "      <td>Point</td>\n",
              "      <td>[120.2389, 19.0868, 10.07]</td>\n",
              "    </tr>\n",
              "  </tbody>\n",
              "</table>\n",
              "<p>112 rows × 30 columns</p>\n",
              "</div>"
            ],
            "text/plain": [
              "        type          id  ...  geometry.type          geometry.coordinates\n",
              "0    Feature  usc000men8  ...          Point   [159.5622, 54.6664, 169.22]\n",
              "1    Feature  usc000mqef  ...          Point       [-69.01, -22.251, 92.7]\n",
              "2    Feature  usc000mcu0  ...          Point     [93.9581, 23.8428, 59.11]\n",
              "3    Feature  usc000mcsn  ...          Point  [-69.3735, -18.5087, 120.03]\n",
              "4    Feature  usc000mcj6  ...          Point       [161.2282, -9.5949, 41]\n",
              "..       ...         ...  ...            ...                           ...\n",
              "107  Feature  usc000lvt0  ...          Point    [120.2167, 19.1548, 15.15]\n",
              "108  Feature  usc000lvk3  ...          Point    [126.3537, 10.4088, 54.11]\n",
              "109  Feature  usc000lvhr  ...          Point         [54.4482, 27.1502, 8]\n",
              "110  Feature  usc000lvb5  ...          Point      [167.249, -13.8633, 187]\n",
              "111  Feature  usc000lv5e  ...          Point    [120.2389, 19.0868, 10.07]\n",
              "\n",
              "[112 rows x 30 columns]"
            ]
          },
          "metadata": {
            "tags": []
          },
          "execution_count": 3
        }
      ]
    },
    {
      "cell_type": "markdown",
      "metadata": {
        "id": "iLKvhR8jBVB9"
      },
      "source": [
        "# Flask\n",
        "[Flask](https://flask.palletsprojects.com/en/1.1.x/) is a micro web framework written in Python.  When properly configured, it can easily scale to large user bases.  We will use it to demostrate how to expose RESTful data science interfaces which can be called from other interfaces.\n",
        "\n",
        "Flask ships with the Anaconda distribution of Python or can be installed using `pip install flask`.\n",
        "\n",
        "To create a test web service, one creates a python file in an empty directory as follows:\n",
        "```\n",
        "from flask import Flask\n",
        "from flask import abort, request, escape, make_response\n",
        "import numpy as np\n",
        "app = Flask(__name__)\n",
        "# The @ is a decorator, it tells flask when the root of the server is call execute the hello_world function\n",
        "# The simplest route, it returns text\n",
        "@app.route('/')\n",
        "def hello_world():\n",
        "    return \"hello world\"\n",
        "\n",
        "# Here we post json of maniputlate it and return a resulat.\n",
        "@app.route('/sum', methods=['POST', 'GET'])\n",
        "def sum():\n",
        "    if request.method == \"POST\":\n",
        "        if request.json and 'data' in request.json:\n",
        "            print(request.json)\n",
        "            return {\"sum\": float(np.sum(request.json['data']))}\n",
        "        else: abort(405)\n",
        "    else: abort(405)\n",
        "\n",
        "        \n",
        "@app.errorhandler(405)\n",
        "def malformed_query(error):\n",
        "    resp = make_response(\"Malformed Query\")\n",
        "    return resp\n",
        "```\n",
        "To run the app we use `flask` at the command inline in the directory of the python file.  In production we will not use this command, instead we will use a production grade server such as Nginx or Apache to serve the web application.\n",
        "\n",
        "## Exercises\n",
        "1. Using ScikitLearn: \n",
        "  - create a model to classify the the classes in the iris dataset\n",
        "  - pickle the model\n",
        "  - Create a flask app with a POST method, it should take a list of lists, and return a list of strings classifying the each of the lists as a type of iris."
      ]
    },
    {
      "cell_type": "markdown",
      "metadata": {
        "id": "ojWPSRaNR_gC"
      },
      "source": [
        "Flask can be used for more than just simple computations, it can provide interfaces the Create, Read, Update, and Delete (CRUD) elements from a database.  Here we used SQLLITE as the db but this can be changed to a production db by simply changing the url.\n",
        "```\n",
        "from flask import Flask\n",
        "from sqlalchemy import create_engine, text\n",
        "from sqlalchemy.orm import scoped_session, sessionmaker\n",
        "from flask import abort, request, escape, make_response\n",
        "import numpy as np\n",
        "\n",
        "app = Flask(__name__)\n",
        "\n",
        "#Setup of db, we use sqlite for convenience.\n",
        "engine = create_engine(\"sqlite+pysqlite:///app.db\", echo=True)\n",
        "\n",
        "with engine.connect() as conn:\n",
        "    if not engine.dialect.has_table(conn, 'users'):\n",
        "        conn.execute(text(\"CREATE TABLE users (id int, username string)\"))\n",
        "\n",
        "# Using <> tags one can pass variables in the URI path\n",
        "@app.route('/getuser/<int:id>')\n",
        "def getuser(id):\n",
        "    \"\"\"\n",
        "    Returns the username of the id in the db\n",
        "    \"\"\"\n",
        "    global engine\n",
        "    if request.method == \"GET\":\n",
        "        with engine.connect() as conn:\n",
        "            #Never f\"select * from users WHERE id={id}\"\n",
        "            results=conn.execute(text(\"select * from users WHERE id=:id\"),{'id': id})\n",
        "            return {'data': [{'username': r[1]} for r in results.fetchall()]}\n",
        "    else: abort(405)\n",
        "\n",
        "    return {\"id\": id}\n",
        "\n",
        "\n",
        "@app.route('/insert', methods=['PUT'])\n",
        "def insert():\n",
        "    \"\"\"\n",
        "    Takes json of the form {\"username\": username, \"id\": id} and puts in db\n",
        "    \"\"\"\n",
        "    global engine\n",
        "    if request.method == \"PUT\":\n",
        "        print(1)\n",
        "        if request.json:\n",
        "            try:\n",
        "                with engine.connect() as conn:\n",
        "                    # Never run as:\n",
        "                    #conn.execute(\n",
        "                    #    text(f\"INSERT INTO users (id, username) VALUES (int(request.json['id'], request.json['username'])\")\n",
        "                    #)\n",
        "                    #This would allow a request such as {'id': 1; SELECT * from sensitive data, 'username': 'haha ; INSERT evil INTO\n",
        "                    #plan\n",
        "                    #This is know as a SQL injection attacks\n",
        "                    conn.execute(\n",
        "                        text(\"INSERT INTO users (id, username) VALUES (:id, :username)\"),\n",
        "                        [{\"id\": int(request.json['id']), \"username\": request.json['username']}]\n",
        "                    )\n",
        "                return \"record created\"\n",
        "            except:\n",
        "                abort(400)\n",
        "        else: \n",
        "            abort(405)\n",
        "    else: abort(405)\n",
        "\n",
        "\n",
        "@app.route('/getusers', methods=['GET'])\n",
        "def getusers():\n",
        "    \"\"\"\n",
        "    Gets all users in the db and passes them as json\n",
        "    \"\"\"\n",
        "    global engine\n",
        "    if request.method == \"GET\":\n",
        "        with engine.connect() as conn:\n",
        "            results=conn.execute(text(\"select * from users\"))\n",
        "            return {'data': [{'id': r[0], 'username': r[1]} for r in results.fetchall()]}\n",
        "    else: abort(405)\n",
        "\n",
        "\n",
        "@app.errorhandler(405)\n",
        "def malformed_query(error):\n",
        "    \"\"\"\n",
        "    Redirects 405 errors\n",
        "    \"\"\"\n",
        "    resp = make_response(\"Malformed Query\")\n",
        "    return resp\n",
        "```\n",
        "\n",
        "You can name the file app.py, initializing the database by typing `sqlite3 app.db` and run the app by typing `flask`.  You can test each route with curl of using the requests library.\n",
        "\n",
        "Using the requests library this would look like:\n",
        "```\n",
        "import requests\n",
        "import json\n",
        "\n",
        "r=requests.get('http://127.0.0.1:5000/getusers')\n",
        "r\n",
        "r.json()\n",
        "r=requests.put('http://127.0.0.1:5000/insert', json={'id':9, 'username':'phil'})\n",
        "r\n",
        "r.json()\n",
        "r=requests.get('http://127.0.0.1:5000/getusers')\n",
        "r\n",
        "r.json()\n",
        "r=requests.get('http://127.0.0.1:5000/getuser/7')\n",
        "\n",
        "```\n",
        "\n",
        "\n",
        "## Exercises\n",
        "Add a password field to the db, it is bad to store a password as plain text.  Consider using MD5 or SHA256 hashes.\n",
        "\n",
        "Build a small voila app the can create, delete, change the password or list users by querying the API.\n",
        "\n",
        "Flask apps are often used to collect data about users viewing a website.  For instance you may wish to determine which of two versions of a website are more likely for a user to click a particualar link.  You can randomly display website a or b, based off the click the webpage can make a put requet to a flask app to log the results of the clicks.  This is part of A/B Testing. "
      ]
    },
    {
      "cell_type": "markdown",
      "metadata": {
        "id": "vcQQbEg-AX3z"
      },
      "source": [
        "# Productionizing a Flask application\n",
        "- nginx\n",
        "- SSL\n",
        "- Authentication\n",
        "# Project\n",
        "- Flask\n",
        "- Voila - use request to interact with Flask.\n",
        "\n"
      ]
    },
    {
      "cell_type": "code",
      "metadata": {
        "id": "SGuzZ9e0Y9Re"
      },
      "source": [],
      "execution_count": null,
      "outputs": []
    },
    {
      "cell_type": "code",
      "metadata": {
        "id": "5erRQVBFTThV"
      },
      "source": [],
      "execution_count": null,
      "outputs": []
    },
    {
      "cell_type": "code",
      "metadata": {
        "id": "ug_lv5qYTbS5"
      },
      "source": [],
      "execution_count": null,
      "outputs": []
    },
    {
      "cell_type": "code",
      "metadata": {
        "id": "eOxZGGrzTjhG"
      },
      "source": [],
      "execution_count": null,
      "outputs": []
    },
    {
      "cell_type": "code",
      "metadata": {
        "id": "1adDDuOzTq1s"
      },
      "source": [],
      "execution_count": null,
      "outputs": []
    },
    {
      "cell_type": "code",
      "metadata": {
        "id": "t-RjolYQTulV"
      },
      "source": [],
      "execution_count": null,
      "outputs": []
    },
    {
      "cell_type": "code",
      "metadata": {
        "id": "29NWMxEtT1lJ"
      },
      "source": [],
      "execution_count": null,
      "outputs": []
    }
  ]
}